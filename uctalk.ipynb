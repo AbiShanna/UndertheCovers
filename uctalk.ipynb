{
 "cells": [
  {
   "cell_type": "code",
   "execution_count": null,
   "id": "30a42e3e",
   "metadata": {
    "slideshow": {
     "slide_type": "skip"
    }
   },
   "outputs": [],
   "source": [
    "%run -i underthecovers/python/common.py\n",
    "#%run -i underthecovers/python/ln_preamble.py"
   ]
  },
  {
   "cell_type": "markdown",
   "id": "819271e7",
   "metadata": {},
   "source": [
    "# An Open Source Dream"
   ]
  },
  {
   "cell_type": "markdown",
   "id": "17c27666",
   "metadata": {
    "cell_style": "split"
   },
   "source": [
    "<center>\n",
    "<img src=\"https://atasavvynewcomer.files.wordpress.com/2016/11/always-leave-the-door-open-for-future-opportunities.jpg\" width=\"70%\" >\n",
    "</center>"
   ]
  },
  {
   "cell_type": "markdown",
   "id": "8ad242e7",
   "metadata": {
    "cell_style": "split"
   },
   "source": [
    "Despite a world that runs on open source software a high quality CS education is closed.\n",
    "\n",
    "<em>\n",
    "<font size=\"3em\"> \n",
    "    Jonathan Appavoo, PhD<br>\n",
    "    Boston University\n",
    "    </font>\n",
    "</em>"
   ]
  },
  {
   "cell_type": "markdown",
   "id": "10fb4ab7",
   "metadata": {
    "slideshow": {
     "slide_type": "notes"
    }
   },
   "source": [
    "This is a speaker note."
   ]
  },
  {
   "cell_type": "markdown",
   "id": "439963a2",
   "metadata": {
    "cell_style": "split",
    "slideshow": {
     "slide_type": "slide"
    }
   },
   "source": [
    "## In three parts\n",
    "\n",
    "1. Barriers \n",
    "2. A Possible Path\n",
    "3. The Road Ahead"
   ]
  },
  {
   "cell_type": "markdown",
   "id": "9eddfe11",
   "metadata": {
    "cell_style": "split"
   },
   "source": [
    "<img src=\"https://www.saturdayeveningpost.com/wp-content/uploads/satevepost/2020-01-08-three-roads-converge-in-a-wood-shutterstock-860x573.jpg\" width=\"100%\">"
   ]
  },
  {
   "cell_type": "markdown",
   "id": "6fde1601",
   "metadata": {
    "slideshow": {
     "slide_type": "notes"
    }
   },
   "source": []
  },
  {
   "cell_type": "markdown",
   "id": "f33845d0",
   "metadata": {
    "cell_style": "split",
    "slideshow": {
     "slide_type": "slide"
    }
   },
   "source": [
    "<img src=\"https://thumbs.dreamstime.com/b/high-wall-bright-red-brick-building-cloudy-sky-above-47895492.jpg\" width=\"100%\">"
   ]
  },
  {
   "cell_type": "markdown",
   "id": "8acefcee",
   "metadata": {
    "cell_style": "split",
    "slideshow": {
     "slide_type": "-"
    }
   },
   "source": [
    "## Barriers \n",
    "\n",
    "1. Structural\n",
    "  - Closed \"Dead Tree\" models still rule\n",
    "2. The Curse of Endless Abstraction\n",
    "  - The down side of \"Progress\"\n",
    "3. Closed Clients and Clouds\n",
    "  - Profit from the entanglement of \"Syntax\" and \"Semantic\""
   ]
  },
  {
   "cell_type": "code",
   "execution_count": null,
   "id": "71188fa7",
   "metadata": {
    "slideshow": {
     "slide_type": "notes"
    }
   },
   "outputs": [],
   "source": []
  },
  {
   "cell_type": "markdown",
   "id": "5691d1f7",
   "metadata": {
    "cell_style": "split",
    "slideshow": {
     "slide_type": "slide"
    }
   },
   "source": [
    "## Structural Barriers\n",
    "\n",
    "Who's interests are we serving?\n"
   ]
  },
  {
   "cell_type": "code",
   "execution_count": null,
   "id": "566848d6",
   "metadata": {
    "cell_style": "split",
    "hide_input": false
   },
   "outputs": [],
   "source": [
    "display(Markdown(\"Business Insider, September 2018\"))\n",
    "display(HTML('<iframe src=\"//cdn.jwplayer.com/players/Y7y7ou0c-puACk8ZV.html\" width=\"320\" height=\"100%\" frameborder=\"0\" scrolling=\"auto\"></iframe>'))"
   ]
  },
  {
   "cell_type": "markdown",
   "id": "55d04020",
   "metadata": {
    "slideshow": {
     "slide_type": "slide"
    }
   },
   "source": [
    "### So how about now?\n",
    "\n",
    "Sept 2021, Forbes\n",
    "\n",
    "\"Legal Experts On Pearson V. Chegg And Why It Could Be A Huge Deal\n",
    "\n",
    "This past week, Pearson, a public billion-dollar education and publishing company, sued Chegg, another public, billion-dollar education company. Though calling Chegg an education company is a stretch.\""
   ]
  },
  {
   "cell_type": "markdown",
   "id": "1a5ad43b",
   "metadata": {
    "cell_style": "split",
    "slideshow": {
     "slide_type": "-"
    }
   },
   "source": [
    "<img src=\"https://www.nicepng.com/png/detail/7-70384_crown-king-crown-clip-art.png\" width=\"460\">"
   ]
  },
  {
   "cell_type": "markdown",
   "id": "b419b95b",
   "metadata": {
    "cell_style": "split"
   },
   "source": [
    "<img src=\"https://user-images.githubusercontent.com/25103430/71287503-897b8080-2336-11ea-8b31-848bfab5176e.png\" style=\"background-color:white\"  width=\"400\" >"
   ]
  },
  {
   "cell_type": "markdown",
   "id": "1ea1c36d",
   "metadata": {
    "slideshow": {
     "slide_type": "-"
    }
   },
   "source": [
    "Hmmm ... Something see out of wack"
   ]
  },
  {
   "cell_type": "markdown",
   "id": "f8d9bb33",
   "metadata": {
    "cell_style": "split",
    "slideshow": {
     "slide_type": "slide"
    }
   },
   "source": [
    "### Hope : Open-Educational Resources (OER)\n",
    "\n",
    "<font size=\"4\">\n",
    "    \n",
    "\"Congress designated $5 million in the fiscal 2018 budget to support the creation or expansion of open-educational resources: peer-reviewed academic material released under an intellectual property license that permits free use. \n",
    "\n",
    "Widespread adoption of open-source textbooks is ultimately up to professors who select and assign course material.\"\n",
    "\n",
    "<em> Washington Post, 2018 </em>\n",
    "</font>"
   ]
  },
  {
   "cell_type": "code",
   "execution_count": null,
   "id": "39c80162",
   "metadata": {
    "cell_style": "split",
    "hide_input": true
   },
   "outputs": [],
   "source": [
    "display(Markdown(\"May 5, 2021 : Colorado\"))\n",
    "display(HTML('<iframe src=\"https://www.facebook.com/plugins/video.php?height=314&href=https%3A%2F%2Fwww.facebook.com%2Fjaredpolis%2Fvideos%2F182276427081502%2F&show_text=false&width=560&t=0\" width=\"560\" height=\"314\" style=\"border:none;overflow:hidden\" scrolling=\"no\" frameborder=\"0\" allowfullscreen=\"true\" allow=\"autoplay; clipboard-write; encrypted-media; picture-in-picture; web-share\" allowFullScreen=\"true\"></iframe>'))"
   ]
  },
  {
   "cell_type": "markdown",
   "id": "ad912e4e",
   "metadata": {
    "slideshow": {
     "slide_type": "notes"
    }
   },
   "source": [
    "Since at least 2009 the US Federal government has been trying \n",
    "\"Open College Textbook Act\" and the \"Affordable College Textbook Act\"\n"
   ]
  },
  {
   "cell_type": "code",
   "execution_count": null,
   "id": "579fa0dd",
   "metadata": {
    "cell_style": "center",
    "hide_input": true,
    "slideshow": {
     "slide_type": "slide"
    }
   },
   "outputs": [],
   "source": [
    "display(Markdown(\"### Balls are rolling: OpenStax\"))\n",
    "display(IFrame('https://openstax.org/about', width=700, height=600))"
   ]
  },
  {
   "cell_type": "markdown",
   "id": "76bfbddd",
   "metadata": {
    "cell_style": "split",
    "slideshow": {
     "slide_type": "slide"
    }
   },
   "source": [
    "### Some how things still feel \"missing\"\n",
    "\n",
    "1. Why are there so few books?\n",
    "2. Where is the \"Source\" material?\n",
    "2. Where is the innovative interactive experience?\n",
    "3. Where is CS?"
   ]
  },
  {
   "cell_type": "markdown",
   "id": "5b7529b2",
   "metadata": {
    "cell_style": "split",
    "slideshow": {
     "slide_type": "slide"
    }
   },
   "source": [
    "### Our Help is needed!\n",
    "\n",
    "What could an open OER Platform bring to the table?\n",
    "- An rich educational computing substrate \n",
    "  - enable both authors and students\n",
    "  - reflect and exploit the \"real\" world \n",
    " \n",
    "But OER Cloud Platforms are not going to pioneer themselves!\n",
    "\n",
    "Caveat:  I am by no means an expert wrt the state of OER.  I am just a professor who wants to help my students and any one who wants to learn about computer systems."
   ]
  },
  {
   "cell_type": "markdown",
   "id": "3f747d1d",
   "metadata": {
    "cell_style": "split",
    "hide_input": true,
    "slideshow": {
     "slide_type": "slide"
    }
   },
   "source": [
    "## The Curse of endless Abstraction\n",
    "\n",
    "Lets switch gears and use Computer Systems to explore what challenges we face."
   ]
  },
  {
   "cell_type": "markdown",
   "id": "f6b78df1",
   "metadata": {},
   "source": [
    "<img src=\"underthecovers/images/webster-computer.png\"> "
   ]
  },
  {
   "cell_type": "code",
   "execution_count": null,
   "id": "7c58638f",
   "metadata": {
    "hide_input": true,
    "slideshow": {
     "slide_type": "slide"
    }
   },
   "outputs": [],
   "source": [
    "TermShellCmd(\"ls ./underthecovers/images\", markdown=False)"
   ]
  },
  {
   "cell_type": "code",
   "execution_count": null,
   "id": "1f8ecec6",
   "metadata": {},
   "outputs": [],
   "source": []
  }
 ],
 "metadata": {
  "celltoolbar": "Slideshow",
  "hide_input": true,
  "kernelspec": {
   "display_name": "Python 3 (ipykernel)",
   "language": "python",
   "name": "python3"
  },
  "language_info": {
   "codemirror_mode": {
    "name": "ipython",
    "version": 3
   },
   "file_extension": ".py",
   "mimetype": "text/x-python",
   "name": "python",
   "nbconvert_exporter": "python",
   "pygments_lexer": "ipython3",
   "version": "3.9.7"
  },
  "rise": {
   "autolaunch": false,
   "enable_chalkboard": true,
   "footer": "Under the Covers - The Secret Life of Software",
   "header": "An Open Source Dream",
   "height": "100%",
   "scroll": true,
   "start_slideshow_at": "selected",
   "theme": "black",
   "transition": "none",
   "width": "100%"
  }
 },
 "nbformat": 4,
 "nbformat_minor": 5
}
