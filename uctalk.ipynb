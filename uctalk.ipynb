{
 "cells": [
  {
   "cell_type": "code",
   "execution_count": null,
   "id": "30a42e3e",
   "metadata": {
    "slideshow": {
     "slide_type": "skip"
    }
   },
   "outputs": [],
   "source": [
    "%run -i underthecovers/python/common.py\n",
    "#%run -i underthecovers/python/ln_preamble.py"
   ]
  },
  {
   "cell_type": "markdown",
   "id": "819271e7",
   "metadata": {
    "slideshow": {
     "slide_type": "slide"
    }
   },
   "source": [
    "# Steps towards Open Source Education"
   ]
  },
  {
   "cell_type": "markdown",
   "id": "17c27666",
   "metadata": {
    "cell_style": "split"
   },
   "source": [
    "<center>\n",
    "<img src=\"https://atasavvynewcomer.files.wordpress.com/2016/11/always-leave-the-door-open-for-future-opportunities.jpg\" width=\"70%\" >\n",
    "</center>"
   ]
  },
  {
   "cell_type": "markdown",
   "id": "8ad242e7",
   "metadata": {
    "cell_style": "split"
   },
   "source": [
    "Despite a world that runs on open source software a high quality $CS^{*}$ education is closed source.\n",
    "\n",
    "<em>\n",
    "<font size=\"3em\"> \n",
    "    Jonathan Appavoo, PhD<br>\n",
    "    Boston University\n",
    "    </font>\n",
    "</em>"
   ]
  },
  {
   "cell_type": "markdown",
   "id": "10fb4ab7",
   "metadata": {
    "slideshow": {
     "slide_type": "notes"
    }
   },
   "source": [
    "This is a speaker note."
   ]
  },
  {
   "cell_type": "markdown",
   "id": "611d15e4",
   "metadata": {
    "cell_style": "split",
    "slideshow": {
     "slide_type": "slide"
    }
   },
   "source": [
    "\n",
    "- Open education can be more than \"free\" textbooks\n",
    "- Unique opportunity to unlock education using:\n",
    "   - open software    \n",
    "   - open clouds \n",
    "   - open content"
   ]
  },
  {
   "cell_type": "markdown",
   "id": "cafbb285",
   "metadata": {
    "cell_style": "split",
    "slideshow": {
     "slide_type": "-"
    }
   },
   "source": [
    "<img src=\"https://www.xda-developers.com/files/2012/04/Unlock.png\" width=\"100%\">"
   ]
  },
  {
   "cell_type": "markdown",
   "id": "cc4760a0",
   "metadata": {
    "slideshow": {
     "slide_type": "notes"
    }
   },
   "source": []
  },
  {
   "cell_type": "markdown",
   "id": "8f9fde31",
   "metadata": {
    "cell_style": "split",
    "slideshow": {
     "slide_type": "slide"
    }
   },
   "source": [
    "#### A First Step -- Improving Computer Systems Education\n",
    "\n",
    "Teaching students about how computer systems works is very rewarding but every year it becomes harder and harder as the number of students grows and computers become more and more baked into their lives.\n",
    "\n"
   ]
  },
  {
   "cell_type": "markdown",
   "id": "c8e817d4",
   "metadata": {
    "cell_style": "split",
    "hide_input": true
   },
   "source": [
    "<img src=\"https://neighbourhoodpaper.com/wp-content/uploads/2018/03/WEBRESThe_Boyd_Smith_Mother_Goose_1920_14590828007.jpg\" width=\"80%\">"
   ]
  },
  {
   "cell_type": "markdown",
   "id": "f6b78df1",
   "metadata": {
    "cell_style": "split",
    "slideshow": {
     "slide_type": "slide"
    }
   },
   "source": [
    "<font size=3>\n",
    "BU CAS CS210: \n",
    "<center>    \n",
    "    Computer Systems\n",
    "    </center>\n",
    "<center>\n",
    "<img src=\"/files/work/UndertheCovers/underthecovers/images/tapestry.png\" width=645px> \n",
    "</center>\n",
    "<center>\n",
    "    A rich and beautifully tapestry of <u><i>Interacting</i></u>\n",
    "<br><u><i>Hardware</i></u> + <u><i>Software</i></u> components that are the substrate to our modern digital world \n",
    "    </center>\n",
    "    </h4>"
   ]
  },
  {
   "cell_type": "markdown",
   "id": "7f164604",
   "metadata": {
    "slideshow": {
     "slide_type": "notes"
    }
   },
   "source": []
  },
  {
   "cell_type": "markdown",
   "id": "619324a9",
   "metadata": {
    "slideshow": {
     "slide_type": "slide"
    }
   },
   "source": [
    "## Layers and layers of Abstraction and Software\n",
    "\n",
    "Allow millions to use computers ... but also result in a cognitive barrier to understanding how they work.\n"
   ]
  },
  {
   "cell_type": "markdown",
   "id": "90b254ff",
   "metadata": {
    "cell_style": "split",
    "slideshow": {
     "slide_type": "slide"
    }
   },
   "source": [
    "#### My First Computer Experience\n",
    "\n",
    "<img src=\"/files/work/UndertheCovers/underthecovers/images/6502mb.png\">"
   ]
  },
  {
   "cell_type": "markdown",
   "id": "d04359c6",
   "metadata": {
    "cell_style": "split"
   },
   "source": [
    "#### My Student's  First Computer Experience\n",
    "\n",
    "<img src=\"https://assets.dmagstatic.com/wp-content/uploads/2019/02/iStock-804616360-677x451.jpg\">"
   ]
  },
  {
   "cell_type": "markdown",
   "id": "4ce07c95",
   "metadata": {
    "cell_style": "split",
    "slideshow": {
     "slide_type": "slide"
    }
   },
   "source": [
    "#### My Undergraduate Lab\n",
    "\n",
    "<img src=\"https://upload.wikimedia.org/wikipedia/commons/thumb/9/99/DEC_VT100_terminal.jpg/1920px-DEC_VT100_terminal.jpg\">"
   ]
  },
  {
   "cell_type": "markdown",
   "id": "a69d0320",
   "metadata": {
    "cell_style": "split"
   },
   "source": [
    "#### My Student's Undergraduate Lab\n",
    "\n",
    "EMA 302"
   ]
  },
  {
   "cell_type": "code",
   "execution_count": null,
   "id": "1fd7d092",
   "metadata": {
    "slideshow": {
     "slide_type": "notes"
    }
   },
   "outputs": [],
   "source": []
  },
  {
   "cell_type": "markdown",
   "id": "1a2da5f2",
   "metadata": {
    "cell_style": "split",
    "slideshow": {
     "slide_type": "slide"
    }
   },
   "source": [
    "### A Computer is an opaque piece of glass \n",
    "<center>\n",
    "<img src=\"https://miro.medium.com/max/1400/1*yKbZj3nRtMMXN8avYCGzSw.jpeg\" width=\"50%\">\n",
    "    </center>\n",
    "That some else controls"
   ]
  },
  {
   "cell_type": "markdown",
   "id": "fe576adf",
   "metadata": {
    "cell_style": "split"
   },
   "source": [
    "Unsurprisingly students have very little intuition for how things work\n",
    "\n",
    "Eg. Pervasive search has even obscured the idea of file hierarchies.\n"
   ]
  },
  {
   "cell_type": "markdown",
   "id": "d5b9104e",
   "metadata": {
    "slideshow": {
     "slide_type": "notes"
    }
   },
   "source": [
    "And yet can you imagine graduating with as a CS major without really understanding the concept and practicality of what a file is? If you stop and think about it a file is a subtle and hard thing to explain today unless you are willing to unravel \"everything\"  "
   ]
  },
  {
   "cell_type": "markdown",
   "id": "8273d9d5",
   "metadata": {
    "slideshow": {
     "slide_type": "slide"
    }
   },
   "source": [
    "## We don't need to return to the stone ages \n",
    "\n",
    "But we do need to ensure that\n",
    "\n",
    "1. A belief in magic does not take hold\n",
    "2. Individuals are empowered to explore \n",
    "3. Knowledge of and the expectation of understanding is the norm"
   ]
  },
  {
   "cell_type": "markdown",
   "id": "37409d3f",
   "metadata": {
    "cell_style": "split",
    "slideshow": {
     "slide_type": "slide"
    }
   },
   "source": [
    "The tension we have\n",
    "\n",
    "<font size=4.5>\n",
    "<ol>\n",
    "<li> Over simplify the details to focus on underlying concepts\n",
    "    <ul>\n",
    "  <li>abstraction with no understanding -- think with no doing\n",
    "    </ul>\n",
    "<li> focus on the details and avoid underlying concepts\n",
    "    <ul>\n",
    "  <li> facts with no understanding -- doing with no thinking\n",
    "    </ul>\n",
    "    </ol>\n",
    "    \n",
    "How can we accomplish both?  \n",
    "    </font>"
   ]
  },
  {
   "cell_type": "markdown",
   "id": "f0f0577a",
   "metadata": {
    "cell_style": "split"
   },
   "source": [
    "<img src=\"/files/work/UndertheCovers/underthecovers/images/elephant.png\" width=\"100%\">"
   ]
  },
  {
   "cell_type": "markdown",
   "id": "ada93db2",
   "metadata": {
    "slideshow": {
     "slide_type": "slide"
    }
   },
   "source": [
    "We need a computing environment that is both real and yet can be stripped down as needed.\n",
    "\n",
    "One that lets an instructor fluidly move a student through the layers while not sacrificing  understanding.\n",
    "\n",
    "Yet teaches students skills that enable and foster their exploration of the concepts in context of real world systems.\n"
   ]
  },
  {
   "cell_type": "markdown",
   "id": "c7d2b212",
   "metadata": {
    "slideshow": {
     "slide_type": "slide"
    }
   },
   "source": [
    "## Who knew... at least I didn't\n",
    "\n",
    "Jupyter could be just what we need\n",
    "\n",
    "A unified web-browser friendly environment:\n",
    "- for live lecture material\n",
    "- for authoring and deploying interactive textbook material\n",
    "- for student self-exploration and lab environment"
   ]
  },
  {
   "cell_type": "markdown",
   "id": "439963a2",
   "metadata": {
    "cell_style": "split",
    "slideshow": {
     "slide_type": "slide"
    }
   },
   "source": [
    "## Exploring the Vision\n",
    "\n",
    "1. Barriers \n",
    "2. A Possible Path\n",
    "3. The Road Ahead"
   ]
  },
  {
   "cell_type": "markdown",
   "id": "9eddfe11",
   "metadata": {
    "cell_style": "split"
   },
   "source": [
    "<img src=\"https://www.saturdayeveningpost.com/wp-content/uploads/satevepost/2020-01-08-three-roads-converge-in-a-wood-shutterstock-860x573.jpg\" width=\"100%\">"
   ]
  },
  {
   "cell_type": "markdown",
   "id": "6fde1601",
   "metadata": {
    "slideshow": {
     "slide_type": "notes"
    }
   },
   "source": []
  },
  {
   "cell_type": "markdown",
   "id": "f33845d0",
   "metadata": {
    "cell_style": "split",
    "slideshow": {
     "slide_type": "slide"
    }
   },
   "source": [
    "<img src=\"https://thumbs.dreamstime.com/b/high-wall-bright-red-brick-building-cloudy-sky-above-47895492.jpg\" width=\"100%\">"
   ]
  },
  {
   "cell_type": "markdown",
   "id": "8acefcee",
   "metadata": {
    "cell_style": "split",
    "slideshow": {
     "slide_type": "-"
    }
   },
   "source": [
    "## Barriers \n",
    "\n",
    "1. Structural\n",
    "  - Closed \"Dead Tree\" players still rule\n",
    "2. The Curse of Endless Abstraction\n",
    "  - The down side of \"Progress\"\n",
    "3. Closed Clients and Clouds\n",
    "  - Profit from the entanglement of \"Syntax\" and \"Semantic\""
   ]
  },
  {
   "cell_type": "code",
   "execution_count": null,
   "id": "71188fa7",
   "metadata": {
    "slideshow": {
     "slide_type": "notes"
    }
   },
   "outputs": [],
   "source": []
  },
  {
   "cell_type": "markdown",
   "id": "5691d1f7",
   "metadata": {
    "cell_style": "split",
    "slideshow": {
     "slide_type": "slide"
    }
   },
   "source": [
    "## Structural Barriers\n",
    "\n",
    "Who's interests are we serving?\n"
   ]
  },
  {
   "cell_type": "code",
   "execution_count": null,
   "id": "566848d6",
   "metadata": {
    "cell_style": "split",
    "hide_input": false
   },
   "outputs": [],
   "source": [
    "display(Markdown(\"Business Insider, September 2018\"))\n",
    "display(HTML('<iframe src=\"//cdn.jwplayer.com/players/Y7y7ou0c-puACk8ZV.html\" width=\"320\" height=\"100%\" frameborder=\"0\" scrolling=\"auto\"></iframe>'))"
   ]
  },
  {
   "cell_type": "markdown",
   "id": "55d04020",
   "metadata": {
    "slideshow": {
     "slide_type": "slide"
    }
   },
   "source": [
    "### So how about now?\n",
    "\n",
    "Sept 2021, Forbes\n",
    "\n",
    "\"Legal Experts On Pearson V. Chegg And Why It Could Be A Huge Deal\n",
    "\n",
    "This past week, Pearson, a public billion-dollar education and publishing company, sued Chegg, another public, billion-dollar education company. Though calling Chegg an education company is a stretch.\""
   ]
  },
  {
   "cell_type": "markdown",
   "id": "1a5ad43b",
   "metadata": {
    "cell_style": "split",
    "slideshow": {
     "slide_type": "-"
    }
   },
   "source": [
    "<img src=\"https://www.nicepng.com/png/detail/7-70384_crown-king-crown-clip-art.png\" width=\"460\">"
   ]
  },
  {
   "cell_type": "markdown",
   "id": "b419b95b",
   "metadata": {
    "cell_style": "split"
   },
   "source": [
    "<img src=\"https://user-images.githubusercontent.com/25103430/71287503-897b8080-2336-11ea-8b31-848bfab5176e.png\" style=\"background-color:white\"  width=\"400\" >"
   ]
  },
  {
   "cell_type": "markdown",
   "id": "1ea1c36d",
   "metadata": {
    "slideshow": {
     "slide_type": "-"
    }
   },
   "source": [
    "Hmmm ... Something see out of wack"
   ]
  },
  {
   "cell_type": "markdown",
   "id": "f8d9bb33",
   "metadata": {
    "cell_style": "split",
    "slideshow": {
     "slide_type": "slide"
    }
   },
   "source": [
    "### Hope : Open-Educational Resources (OER)\n",
    "\n",
    "<font size=\"4\">\n",
    "    \n",
    "\"Congress designated $5 million in the fiscal 2018 budget to support the creation or expansion of open-educational resources: peer-reviewed academic material released under an intellectual property license that permits free use. \n",
    "\n",
    "Widespread adoption of open-source textbooks is ultimately up to professors who select and assign course material.\"\n",
    "\n",
    "<em> Washington Post, 2018 </em>\n",
    "</font>"
   ]
  },
  {
   "cell_type": "code",
   "execution_count": null,
   "id": "39c80162",
   "metadata": {
    "cell_style": "split",
    "hide_input": true
   },
   "outputs": [],
   "source": [
    "display(Markdown(\"May 5, 2021 : Colorado\"))\n",
    "display(HTML('<iframe src=\"https://www.facebook.com/plugins/video.php?height=314&href=https%3A%2F%2Fwww.facebook.com%2Fjaredpolis%2Fvideos%2F182276427081502%2F&show_text=false&width=560&t=0\" width=\"560\" height=\"314\" style=\"border:none;overflow:hidden\" scrolling=\"no\" frameborder=\"0\" allowfullscreen=\"true\" allow=\"autoplay; clipboard-write; encrypted-media; picture-in-picture; web-share\" allowFullScreen=\"true\"></iframe>'))"
   ]
  },
  {
   "cell_type": "markdown",
   "id": "ad912e4e",
   "metadata": {
    "slideshow": {
     "slide_type": "notes"
    }
   },
   "source": [
    "Since at least 2009 the US Federal government has been trying \n",
    "\"Open College Textbook Act\" and the \"Affordable College Textbook Act\"\n"
   ]
  },
  {
   "cell_type": "code",
   "execution_count": null,
   "id": "579fa0dd",
   "metadata": {
    "cell_style": "center",
    "hide_input": true,
    "slideshow": {
     "slide_type": "slide"
    }
   },
   "outputs": [],
   "source": [
    "display(Markdown(\"### Balls are rolling: OpenStax\"))\n",
    "display(IFrame('https://openstax.org/about', width=700, height=600))"
   ]
  },
  {
   "cell_type": "markdown",
   "id": "76bfbddd",
   "metadata": {
    "cell_style": "split",
    "slideshow": {
     "slide_type": "slide"
    }
   },
   "source": [
    "### Some how things still feel \"missing\"\n",
    "\n",
    "1. Why are there so few books?\n",
    "2. Where is the \"Source\" material?\n",
    "2. Where is the innovative interactive experience?\n",
    "3. Where is CS?"
   ]
  },
  {
   "cell_type": "markdown",
   "id": "5b7529b2",
   "metadata": {
    "cell_style": "split",
    "slideshow": {
     "slide_type": "slide"
    }
   },
   "source": [
    "### Our Help is needed!\n",
    "\n",
    "What could an open OER Platform bring to the table?\n",
    "- An rich educational computing substrate \n",
    "  - enable both authors and students\n",
    "  - reflect and exploit the \"real\" world \n",
    " \n",
    "But OER Cloud Platforms are not going to pioneer themselves!"
   ]
  },
  {
   "cell_type": "markdown",
   "id": "2d924d36",
   "metadata": {
    "slideshow": {
     "slide_type": "notes"
    }
   },
   "source": [
    "Caveat:  I am by no means an expert wrt the state of OER.  I am just a professor who wants to help my students and any one who wants to learn about computer systems."
   ]
  },
  {
   "cell_type": "markdown",
   "id": "af742831",
   "metadata": {
    "slideshow": {
     "slide_type": "notes"
    }
   },
   "source": []
  },
  {
   "cell_type": "markdown",
   "id": "64e86723",
   "metadata": {
    "cell_style": "split",
    "slideshow": {
     "slide_type": "slide"
    }
   },
   "source": [
    "<img src=\"https://static.wixstatic.com/media/1fb7d2_3fa5920c96814bdd9b5f2c4bf191eac2~mv2.png/v1/fill/w_2500,h_2470,al_c/1fb7d2_3fa5920c96814bdd9b5f2c4bf191eac2~mv2.png\" width=\"100%\">"
   ]
  },
  {
   "cell_type": "code",
   "execution_count": null,
   "id": "7c58638f",
   "metadata": {
    "hide_input": false,
    "slideshow": {
     "slide_type": "slide"
    }
   },
   "outputs": [],
   "source": [
    "TermShellCmd(\"ls ./underthecovers/images\", markdown=False)"
   ]
  },
  {
   "cell_type": "code",
   "execution_count": null,
   "id": "1f8ecec6",
   "metadata": {},
   "outputs": [],
   "source": []
  }
 ],
 "metadata": {
  "celltoolbar": "Slideshow",
  "hide_input": true,
  "kernelspec": {
   "display_name": "Python 3 (ipykernel)",
   "language": "python",
   "name": "python3"
  },
  "language_info": {
   "codemirror_mode": {
    "name": "ipython",
    "version": 3
   },
   "file_extension": ".py",
   "mimetype": "text/x-python",
   "name": "python",
   "nbconvert_exporter": "python",
   "pygments_lexer": "ipython3",
   "version": "3.9.7"
  },
  "rise": {
   "autolaunch": false,
   "enable_chalkboard": true,
   "footer": "Under the Covers - The Secret Life of Software",
   "header": "An Open Source Dream",
   "height": "100%",
   "scroll": true,
   "start_slideshow_at": "selected",
   "theme": "black",
   "transition": "none",
   "width": "100%"
  }
 },
 "nbformat": 4,
 "nbformat_minor": 5
}
