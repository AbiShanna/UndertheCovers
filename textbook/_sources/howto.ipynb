{
 "cells": [
  {
   "cell_type": "markdown",
   "id": "019c3eec-64f0-4a17-9a2f-259264640c00",
   "metadata": {},
   "source": [
    "# How to read this book\n",
    "\n",
    "This book has been designed so that you can actively engage with the material.  We have constructed an online environment that you can login too from your browser.\n",
    "Once you have logged in you can then start a \"server\" that you can then access in your browser.  This server is identical to the server that was used to author\n",
    "the content of the book and has all the software required for the examples and more.  \n",
    "\n",
    "In general we recommend that you read the book at a computer with a mouse and keyboard so that you can follow along with the examples.  Below we will walk you \n",
    "though a typical session of work with the book.  \n",
    "\n",
    "## Browser compatibility\n",
    "\n",
    "The author was using Safari but most the content should work with most browsers.  If you run into issues please one an issue and \n",
    "the try switching browsers to see if this solves your problem.\n",
    "\n",
    "## Opening an issue\n",
    "\n",
    "Towards the top at the top right hand side of the page you will see a few icons. \n",
    "Putting you mouse over the git icon will reveal a drop down.  Select \"open issue\"\n",
    "and follow the instructions be sure to state what browser you were using and\n",
    "what the problem was.  If possible include a screen shot.\n",
    "\n",
    "Thanks!\n",
    "\n",
    "\n",
    "## Step 0: Start your server\n",
    "\n",
    "If you are in a BU class that is using this book follow this link:\n",
    "- <a target=\"_blank\" rel=\"noopener noreferrer\" href=\"https://jupyterhub-redhat-ods-applications.apps.bu-rosa.8pmt.p1.openshiftapps.com/hub/user-redirect/lab\">https://jupyterhub-redhat-ods-applications.apps.bu-rosa.8pmt.p1.openshiftapps.com/hub/user-redirect/lab</a>\n",
    "\n",
    "If you are not in a BU class follow this link\n",
    "- <a target=\"_blank\" rel=\"noopener noreferrer\" href=\"https://jupyterhub-opf-jupyterhub.apps.smaug.na.operate-first.cloud/hub/user-redirect/lab\">https://jupyterhub-opf-jupyterhub.apps.smaug.na.operate-first.cloud/hub/user-redirect/lab</a>\n",
    "\n",
    "### BU Server startup\n",
    "\n",
    "The following video shows what should happen in when you follow the link and what you need to do to login.\n",
    "If you are not able to login and you are sure you are in a class that is using the book please contact the \n",
    "teaching staff and they will add your BU user to the service.\n",
    "\n",
    "\n"
   ]
  },
  {
   "cell_type": "code",
   "execution_count": null,
   "id": "488bf866-9827-4b52-8f93-f7e7866eed2d",
   "metadata": {},
   "outputs": [],
   "source": []
  }
 ],
 "metadata": {
  "kernelspec": {
   "display_name": "Python 3 (ipykernel)",
   "language": "python",
   "name": "python3"
  },
  "language_info": {
   "codemirror_mode": {
    "name": "ipython",
    "version": 3
   },
   "file_extension": ".py",
   "mimetype": "text/x-python",
   "name": "python",
   "nbconvert_exporter": "python",
   "pygments_lexer": "ipython3",
   "version": "3.9.7"
  }
 },
 "nbformat": 4,
 "nbformat_minor": 5
}
