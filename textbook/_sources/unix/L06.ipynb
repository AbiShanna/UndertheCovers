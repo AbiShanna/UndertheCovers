{
 "cells": [
  {
   "cell_type": "markdown",
   "id": "c798d02a-83ab-4812-b6a9-b2195e0f16fe",
   "metadata": {},
   "source": [
    "# SLS Lecture 6 : Versions Control and GIT :  Beyond the Basics"
   ]
  },
  {
   "cell_type": "code",
   "execution_count": null,
   "id": "4cf6d53a",
   "metadata": {},
   "outputs": [],
   "source": []
  }
 ],
 "metadata": {
  "hide_input": false,
  "kernelspec": {
   "display_name": "Python 3 (ipykernel)",
   "language": "python",
   "name": "python3"
  },
  "language_info": {
   "codemirror_mode": {
    "name": "ipython",
    "version": 3
   },
   "file_extension": ".py",
   "mimetype": "text/x-python",
   "name": "python",
   "nbconvert_exporter": "python",
   "pygments_lexer": "ipython3",
   "version": "3.9.6"
  }
 },
 "nbformat": 4,
 "nbformat_minor": 5
}
