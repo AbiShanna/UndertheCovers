{
 "cells": [
  {
   "cell_type": "markdown",
   "id": "0f3156a3-87d3-41b8-b435-8d2f0d4095e9",
   "metadata": {},
   "source": [
    "# SLS Lecture 2 : Core Utilities, Editors and Shell Scripting"
   ]
  },
  {
   "cell_type": "code",
   "execution_count": 2,
   "id": "c10d6959",
   "metadata": {},
   "outputs": [
    {
     "name": "stdout",
     "output_type": "stream",
     "text": [
      "hello\n"
     ]
    }
   ],
   "source": [
    "print(\"hello\")"
   ]
  },
  {
   "cell_type": "markdown",
   "id": "3ca53848",
   "metadata": {
    "slideshow": {
     "slide_type": "slide"
    }
   },
   "source": [
    "#### PATHS and the ROOT\n",
    "<img align=\"left\" src=\"../images/dirtree.png\" style=\"background-color:white;\" width=\"40%\">  \n",
    "\n",
    "`/` $+$ `home` $+$ `jonathan` $+$ `Classes` $+$ `CS` $+$ `210` $+$ `Assignment 1` $+$ `Problem 1`     \n",
    "\n",
    "`/` $+$ `home` $+$ `jonathan` $+$ `Classes` $+$ `CS` $+$ `210` $+$ `Assignment 2` $+$ `Problem 1` \n",
    "\n",
    "`/` $+$ `home` $+$ `jonathan` $+$ `Classes` $+$ `CS` $+$ `210` $+$ `Assignment 3` $+$ `Problem 1` \n",
    "\n",
    "\"Full\" path name: join independent components with the \"/\" character.  So the above three files as proper unix path names would be:"
   ]
  },
  {
   "cell_type": "code",
   "execution_count": 1,
   "id": "05d0176f",
   "metadata": {},
   "outputs": [
    {
     "name": "stdout",
     "output_type": "stream",
     "text": [
      "Usage: tput [options] [command]\r\n",
      "\r\n",
      "Options:\r\n",
      "  -S <<       read commands from standard input\r\n",
      "  -T TERM     use this instead of $TERM\r\n",
      "  -V          print curses-version\r\n",
      "  -x          do not try to clear scrollback\r\n",
      "\r\n",
      "Commands:\r\n",
      "  clear       clear the screen\r\n",
      "  init        initialize the terminal\r\n",
      "  reset       reinitialize the terminal\r\n",
      "  capname     unlike clear/init/reset, print value for capability \"capname\"\r\n"
     ]
    }
   ],
   "source": [
    "!tput"
   ]
  },
  {
   "cell_type": "code",
   "execution_count": null,
   "id": "0d09911d",
   "metadata": {},
   "outputs": [],
   "source": []
  }
 ],
 "metadata": {
  "celltoolbar": "Slideshow",
  "hide_input": false,
  "kernelspec": {
   "display_name": "Python 3 (ipykernel)",
   "language": "python",
   "name": "python3"
  },
  "language_info": {
   "codemirror_mode": {
    "name": "ipython",
    "version": 3
   },
   "file_extension": ".py",
   "mimetype": "text/x-python",
   "name": "python",
   "nbconvert_exporter": "python",
   "pygments_lexer": "ipython3",
   "version": "3.9.6"
  },
  "rise": {
   "autolaunch": false,
   "enable_chalkboard": true,
   "footer": "SLS -- Lecture 1",
   "header": "Unix and Shell Intro",
   "height": "100%",
   "scroll": true,
   "start_slideshow_at": "selected",
   "theme": "black",
   "transition": "none",
   "width": "100%"
  }
 },
 "nbformat": 4,
 "nbformat_minor": 5
}
