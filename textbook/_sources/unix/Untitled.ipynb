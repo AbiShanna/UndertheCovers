{
 "cells": [
  {
   "cell_type": "code",
   "execution_count": 44,
   "id": "5756cd0c",
   "metadata": {},
   "outputs": [],
   "source": [
    "import numpy as np\n",
    "\n",
    "class SLS_6502:\n",
    "    \"\"\"The Secrect Life of Software 6502 Simulated Computer\"\"\"\n",
    "    class CPU:\n",
    "        \"\"\" The CPU \"\"\"\n",
    "        class Pin:\n",
    "            def __init__(self,v):\n",
    "                self._value = v\n",
    "                \n",
    "            def set(self, v):\n",
    "                self._value = v\n",
    "            \n",
    "            def get(self):\n",
    "                return self._value\n",
    "            \n",
    "        class Register: \n",
    "            def get(self):\n",
    "                    return self._value\n",
    "            def set(self, v):\n",
    "                    self._value = v\n",
    "                    \n",
    "        class Register8Bit (Register):\n",
    "            def __init__(self):\n",
    "                _value = np.uint8(0)\n",
    "        \n",
    "        class Register16Bit (Register):\n",
    "            def __init_(self):\n",
    "                _value = np.uint16(0)\n",
    "        \n",
    "        class RegisterProcessorStatus(Register8Bit):\n",
    "            # b_0 : C  \n",
    "            def setZero(self,z=True): \n",
    "                x = self.get()\n",
    "          \n",
    "        def __init__(self):\n",
    "            # ISA Registers\n",
    "            self._A  = self.Register8Bit()  # Accumulator A\n",
    "            self._X  = self.Register8Bit()  # Index Register X \n",
    "            self._Y  = self.Register8Bit()  # Index Register Y\n",
    "            self._PC = self.Register16Bit() # Program Counter PC\n",
    "            self._S  = self.Register8bit()  # Stack Pointer S\n",
    "            self._P  = self.RegisterProcessorStatus() # Processor Status Register P\n",
    "            \n",
    "            # internal Registers used to connect\n",
    "            # to address bus and DataBus\n",
    "            self._DBR = self.Register8Bit()\n",
    "            self._ABB = self.Register16Bit()\n",
    "            \n",
    "            # Pins -- we do not simulate a clock\n",
    "            #         so the only pins we care about\n",
    "            #         are those for inputs other than data\n",
    "            self.RESB = self.Pin(False)    # Reset  Bar \n",
    "            self.IRQB = self.Pin(True)     # Interrupt Request Bar\n",
    "            self.NMIB = self.Pin(True)     # Non-maskable Interrupt Bar\n",
    "\n",
    "            \n",
    " \n",
    "        def reset(self):\n",
    "            print(\"reset\")\n",
    "            \n",
    "        \n",
    "        def loop(self, count=1):\n",
    "            # process input pins\n",
    "            \n",
    "            # fetch\n",
    "            self.fetch()\n",
    "            \n",
    "            # decode\n",
    "            self.decode()\n",
    "            \n",
    "            # execute\n",
    "            \n",
    "    class Memory:\n",
    "        \"\"\" Memory \"\"\"\n",
    "        \n",
    "    class DataBus:\n",
    "        \"\"\" The Data Bus\"\"\"\n",
    "        \n",
    "    class AddressBus:\n",
    "        \"\"\" The Address Bus\"\"\"\n",
    "        \n",
    "    # constructor\n",
    "    def __init__(self):\n",
    "        self.cpu        = self.CPU()\n",
    "        self.databus    = self.DataBus()\n",
    "        self.addressbus = self.AddressBus()\n",
    "        \n",
    "    \n",
    "        "
   ]
  },
  {
   "cell_type": "code",
   "execution_count": 41,
   "id": "4f47469e",
   "metadata": {},
   "outputs": [],
   "source": [
    "theMachine = SLS_6502()"
   ]
  },
  {
   "cell_type": "code",
   "execution_count": 42,
   "id": "7e7ea0f4",
   "metadata": {},
   "outputs": [
    {
     "name": "stdout",
     "output_type": "stream",
     "text": [
      "reset\n"
     ]
    }
   ],
   "source": [
    "theMachine.cpu.resetPin()"
   ]
  },
  {
   "cell_type": "code",
   "execution_count": 45,
   "id": "fe7b3e7d",
   "metadata": {},
   "outputs": [
    {
     "name": "stdout",
     "output_type": "stream",
     "text": [
      "/home/jovyan/work/UndertheCovers/underthecovers/unix\r\n"
     ]
    }
   ],
   "source": [
    "!pwd\n"
   ]
  },
  {
   "cell_type": "code",
   "execution_count": 48,
   "id": "26b14c7b",
   "metadata": {},
   "outputs": [
    {
     "ename": "SyntaxError",
     "evalue": "invalid syntax (2675000297.py, line 1)",
     "output_type": "error",
     "traceback": [
      "\u001b[0;36m  File \u001b[0;32m\"/tmp/ipykernel_16135/2675000297.py\"\u001b[0;36m, line \u001b[0;32m1\u001b[0m\n\u001b[0;31m    import .\u001b[0m\n\u001b[0m           ^\u001b[0m\n\u001b[0;31mSyntaxError\u001b[0m\u001b[0;31m:\u001b[0m invalid syntax\n"
     ]
    }
   ],
   "source": [
    "import ."
   ]
  },
  {
   "cell_type": "code",
   "execution_count": 1,
   "id": "fabed076",
   "metadata": {},
   "outputs": [],
   "source": [
    "import sys\n",
    "sys.path.append('../python')"
   ]
  },
  {
   "cell_type": "code",
   "execution_count": 2,
   "id": "b3d52937",
   "metadata": {},
   "outputs": [],
   "source": [
    "import SLS6502"
   ]
  },
  {
   "cell_type": "code",
   "execution_count": 3,
   "id": "cfc82802",
   "metadata": {},
   "outputs": [],
   "source": [
    "c=SLS6502.SLS6502()"
   ]
  },
  {
   "cell_type": "code",
   "execution_count": null,
   "id": "9978d4fa",
   "metadata": {},
   "outputs": [],
   "source": []
  }
 ],
 "metadata": {
  "hide_input": false,
  "kernelspec": {
   "display_name": "Python 3 (ipykernel)",
   "language": "python",
   "name": "python3"
  },
  "language_info": {
   "codemirror_mode": {
    "name": "ipython",
    "version": 3
   },
   "file_extension": ".py",
   "mimetype": "text/x-python",
   "name": "python",
   "nbconvert_exporter": "python",
   "pygments_lexer": "ipython3",
   "version": "3.9.6"
  }
 },
 "nbformat": 4,
 "nbformat_minor": 5
}
