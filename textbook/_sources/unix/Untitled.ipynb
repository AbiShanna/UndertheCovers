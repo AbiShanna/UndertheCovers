{
 "cells": [
  {
   "cell_type": "markdown",
   "id": "a173bc26",
   "metadata": {},
   "source": [
    "A fundamental aspect of computing is to get, the specified work done as efficiently as possible.  Where this work to be done is expressed by software that is ideally as simple as possible to write while not limiting what can be done.   With respect of efficiency this is in terms of both the time and amount of resources required to run the software.  Resources can be measure in the occupancy of physical devices required and the attendant energy consumption.  Typically the physical devices are break down in to three categories:\n",
    "1. active computational devices such as ALU's that are clocked and consume Power as a function of [$P = P_{dyn} + P_{sc} + P_{leak}$]() (and lets also look at this https://arxiv.org/abs/1401.4655 as it sounds fascinating)\n",
    "2. storage devices in various forms of on board memory and off board devices\n",
    "3. communication buses again both in the form of on and off board interconnects\n",
    "\n",
    "A fascinating property is the dynamic and static nature of computer operation.  That is to say we write software in the form of programs written to a clock work machine model such that the behavior of the program can interact at runtime with the environment.  However, we also can observe that the deterministic nature of the system and software result in very precise ways such that a static circuit or table could capture the behaviour.  \n",
    "\n",
    "Is it possible to imbue as system with the ability to inherently exploit emergent redudancy it its operation to minimize the time and resources required to optimize its behaviour while perhaps even simplifying the burden of programming. "
   ]
  },
  {
   "cell_type": "code",
   "execution_count": null,
   "id": "acaf0d3b",
   "metadata": {},
   "outputs": [],
   "source": []
  }
 ],
 "metadata": {
  "hide_input": false,
  "kernelspec": {
   "display_name": "Python 3 (ipykernel)",
   "language": "python",
   "name": "python3"
  },
  "language_info": {
   "codemirror_mode": {
    "name": "ipython",
    "version": 3
   },
   "file_extension": ".py",
   "mimetype": "text/x-python",
   "name": "python",
   "nbconvert_exporter": "python",
   "pygments_lexer": "ipython3",
   "version": "3.9.6"
  }
 },
 "nbformat": 4,
 "nbformat_minor": 5
}
