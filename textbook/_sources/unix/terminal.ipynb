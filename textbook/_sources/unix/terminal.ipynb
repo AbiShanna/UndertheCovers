{
 "cells": [
  {
   "cell_type": "markdown",
   "id": "8c0b1b30-5455-4f48-b342-3fe6da9b0652",
   "metadata": {},
   "source": [
    "# What is a Terminal and why do we still use them?\n",
    "\n",
    "## The origin story\n"
   ]
  },
  {
   "cell_type": "markdown",
   "id": "375c5936-0380-496a-9ad3-60e019baba44",
   "metadata": {},
   "source": [
    "![pdp11](../images/pdp11-40.jpg)\n",
    "\n",
    "[source](https://commons.wikimedia.org/wiki/File:Pdp-11-40.jpg)\n",
    "\n",
    "Originally when we started building computers they were very large.  The main component, illustrated above, was a device which\n",
    "housed the \"smart\" bits, the CPU and MEMORY, that could run programs (we discuss these parts and how they work in the [von Neumman Architecture](../assembly/vonNeumannArchitecture.ipynb) section)."
   ]
  },
  {
   "cell_type": "markdown",
   "id": "8212e4e5-49f9-4e82-9a3d-3b8de17e156b",
   "metadata": {},
   "source": [
    "![vt220](../images/DEC_vt220.jpg)\n",
    "\n",
    "[source](https://commons.wikimedia.org/wiki/File:DEC_vt220.jpg)\n",
    "\n",
    "For a human to work with the computer we had to attach a device that could both display output from from the software running on the computer and accept input.   The basic design was a terminal device that contained a video screen, keyboard and just enough smarts to communicate with the computer. \n",
    "\n",
    "<a id='ASCII_sec'></a>\n",
    "### ASCII\n",
    "![ascii](../images/ascii.png)\n",
    "\n",
    "[source](https://commons.wikimedia.org/wiki/File:ASCII-Table-wide.svg)\n",
    "\n",
    "In particular, [ASCII](https://en.wikipedia.org/wiki/ASCII) terminals, know how to translate ASCII encoded text data to display, \"print\", the appropriate character on the screen.  Eg if the software running on the computer sent the number 65 to the terminal the terminal would display capital 'A' at the current [\"cursor\"](https://en.wikipedia.org/wiki/Cursor_(user_interface)) position.  The terminal would also advance the cursor to the right so that the next encoded character sent would appear to the right of the last.  \n",
    "\n",
    "ASCII includes various values the encode puctuation including the critical space character to seperate words.  The ASCII code also includes values that move the cursor so that the software can control where on the screen characters would appear. \n",
    "Perhaps the most important of these is the LineFeed ('\\n') value as it causes the cursor to go down one row to begin a new line.  \n",
    "\n",
    "In addition the the screen terminals had a keyboad.  These were built so that when a key was pressed on the keyboard the terminal would send the corresponding ASCII value to the computer.  Each key being labeled with the ASCII symbol of the value that pressing it would send.   This way software running on the computer could take text input from the user in addition to displaying it.   Furthmore it was easy to have the software  break the input into \"words\" and \"lines\" by having it scann the ASCII values sent for Spaces and LineFeeds. Which were sent when the spacebar and return (or enter) key where pressed.  \n",
    "\n",
    ">  Terminals were the natural evolution of the classic a [typewriter](https://en.wikipedia.org/wiki/Typewriter). Where its sceen was like a virtual piece of paper in that could be software controlled.  As a matter of fact IBM was selling typewriters in 1924 well before it started exploring computers in 1940 [IBM History](https://en.wikipedia.org/wiki/History_of_IBM).  "
   ]
  },
  {
   "cell_type": "markdown",
   "id": "f9061ffa-ca5b-4353-a28d-06d283102ea3",
   "metadata": {},
   "source": [
    "![terminalroom](../images/terminalroom.jpg)\n",
    "\n",
    "[source](http://www.columbia.edu/cu/computinghistory/carman.jpg)"
   ]
  },
  {
   "cell_type": "markdown",
   "id": "631f4d1d-0336-422a-b153-ad4a9c5c2bd3",
   "metadata": {},
   "source": [
    "An operating systems like UNIX was run on the computer and allowed many terminals to be connected to the computer.  A user with an account on the computer could use the terminal and login to the computer.\n",
    "Students who needed to use the computer would have to go to such a \"terminal room\" to physically use the computer. \n",
    "\n",
    "\n",
    "![login](../images/login.jpg)\n",
    "\n",
    "Specifically they would login with a username and password.  \n",
    "\n",
    "![shell](../images/shell.jpg)\n",
    "The UNIX operating systems would check to see that the user was allowed to login and if so start a new terminal/shell session for the user.  In particular, it started an instance of an ASCII oriented program called the shell which would allow the user to start working in the UNIX development environment -- running existing programs and writing new ones (see section Shell for more info)\n"
   ]
  },
  {
   "cell_type": "markdown",
   "id": "182b4af9-b777-4ae8-9333-db16dd3e6d1c",
   "metadata": {},
   "source": [
    "## Today\n",
    "\n",
    "While the computers and terminals that we discussed above are relics of the past.   UNIX and its development environment is still alive and thriving.  It turns out that the simplicilty of an ASCII terminal and the ASCII oriented programming tools of UNIX continue to power much of the digital world around us.  [LINUX](https://en.wikipedia.org/wiki/Linux) and other versions of UNIX runs on every imaginable device today all the way from supercomputers to watches. And at some point or another a programmer used terminal sessions communicating with the UNIX running on those devices to develop and debug the layers of software that most people never see but rely on to make those devices useful.  \n",
    "\n",
    ">As we learn more about how software is constructed and how computers work we will learn that the power of UNIX comes from making it very natural and easy for programmers to construct programs that can themselves be used to process and translate code.\n",
    "\n",
    "Today we use \"software\" versions of terminals to allow us to create connections to an operating system either running on the physcial machine we are on or to other remote computers. Apple's MacOSX, is a UNIX derived operating systems and includes a program called [Terminal](https://en.wikipedia.org/wiki/Terminal_(macOS)).    Microsoft's Windows OS is not a UNIX operating systems but includes a similar program called [Windows Terminal](https://docs.microsoft.com/en-us/windows/terminal/).  Unlike the old days since there is really no physical terminal device a single user can start as many terminal sessions each within its own window as one likes.  As we will see later it is very useful to use multiple terminal sessions to organize your work.  Addionally both OSX and Windows provides a program called [SSH](https://en.wikipedia.org/wiki/Secure_Shell_Protocol).   SSH allows you to use a terminal app running on your computer to connect to remote computers.  Doing so is like connecting a terminal device to the remote computers you are connect to.  Here is s link to using ssh on windows [Windows Terminal SSH](https://docs.microsoft.com/en-us/windows/terminal/tutorials/ssh) and link to using ssh on OS [OSX Terminal SSH](https://osxdaily.com/2017/04/28/howto-ssh-client-mac/).  \n",
    "\n",
    "\n",
    "As a matter of fact if you are reading this book, in interactive mode, there is a LINUX computer that is running a program to serve the book's content to your webbrowser.  This software, \"JupyterLab\", not only allows you to read and interact with the books pages but it also allows you to create terminal sessions so that you can directly use the UNIX development tools of the computer via the traditional ASCII interface all within your webbrowser.  To do so use the File->New->Terminal menu item.  This will create a new Terminal session as a JuypterLab tab.  You can start as many as you like and you can drag them to organize them as you like as well.  Much of this book assumes that you will do this while you are reading the book so that you can explore and try things out.\n",
    "\n",
    "![jupterm](../images/juplabterminal.gif)\n"
   ]
  }
 ],
 "metadata": {
  "kernelspec": {
   "display_name": "Bash",
   "language": "bash",
   "name": "bash"
  },
  "language_info": {
   "codemirror_mode": "shell",
   "file_extension": ".sh",
   "mimetype": "text/x-sh",
   "name": "bash"
  }
 },
 "nbformat": 4,
 "nbformat_minor": 5
}
