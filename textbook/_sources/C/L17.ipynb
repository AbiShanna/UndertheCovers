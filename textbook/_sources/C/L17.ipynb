{
 "cells": [
  {
   "cell_type": "markdown",
   "id": "bac1233e-ac28-43b6-a59a-c5c29c2bb4ff",
   "metadata": {},
   "source": [
    "# SLS Lecuture 17 : Topics"
   ]
  }
 ],
 "metadata": {
  "kernelspec": {
   "display_name": "Python 3",
   "language": "python",
   "name": "python3"
  },
  "language_info": {
   "codemirror_mode": {
    "name": "ipython",
    "version": 3
   },
   "file_extension": ".py",
   "mimetype": "text/x-python",
   "name": "python",
   "nbconvert_exporter": "python",
   "pygments_lexer": "ipython3",
   "version": "3.9.5"
  }
 },
 "nbformat": 4,
 "nbformat_minor": 5
}
