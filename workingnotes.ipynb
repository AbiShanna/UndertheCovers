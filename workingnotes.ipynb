{
 "cells": [
  {
   "cell_type": "markdown",
   "id": "b4641d6d",
   "metadata": {},
   "source": [
    "Operate first url to directly spawn bu image\n",
    "\n",
    "https://jupyterhub-opf-jupyterhub.apps.zero.massopen.cloud/hub/spawn?bu-cs-jupyter-book:latest\n",
    "\n",
    "Working with Tom on operate first slack the following url git clone \n",
    "\n",
    "\n",
    "https://jupyterhub-opf-jupyterhub.apps.zero.massopen.cloud/hub/user-redirect/git-pull?bu-cs-jupyter-book%3Alatest=&repo=https%3A%2F%2Fgithub.com%2Fjappavoo%2FUndertheCovers&urlpath=tree%2FUndertheCovers%2Funderthecovers%2FL00_210_JA.ipynb&branch=main\n",
    "\n",
    "\n",
    "How to set \n",
    "```\n",
    "c.Spawner.default_url = '/data/jupyterhub/jupyterhub_notebooks'\n",
    "c.Spawner.notebook_dir = '/data/jupyterhub/jupyterhub_notebooks'\n",
    "```\n",
    "\n",
    "Hmmm it now seems that we are launching bu-cs container and home dir ends up being joyvan need to look at start up script as there is a lot of logic in it to adjust user and group\n",
    "\n",
    "At this point the running joyvan user on operatefirst seems to be some system assigned id with group root which leads to not having the right permissions to write home dir\n",
    "\n",
    "For the moment a hack might be to make the joyvan homdir and subdirs group root"
   ]
  },
  {
   "cell_type": "markdown",
   "id": "c41694ad",
   "metadata": {},
   "source": [
    "Have managed to get the notebook running and now stuggling to get embedded terminals work.\n",
    "\n",
    "1) calling the api to create the terminals works after getting the api token from the environment variables\n",
    "2) however running into security setting need to be fixed\n",
    "  ```\n",
    "  \n",
    "  c.Spawner.args = ['--NotebookApp.tornado_settings={\"headers\":{\"Content-Security-Policy\": \"frame-ancestors * self host_ip:port\"}}']   \n",
    "\n",
    "c.JupyterHub.tornado_settings = { 'headers': { 'Content-Security-Policy': \"frame-ancestors * self host_ip:port\"} }\n",
    "```\n",
    "see: \n",
    "- https://github.com/jupyterhub/jupyterhub/issues/379#issuecomment-353607675\n",
    "- https://github.com/jupyterhub/the-littlest-jupyterhub/issues/312#issuecomment-590679516\n"
   ]
  },
  {
   "cell_type": "code",
   "execution_count": null,
   "id": "b8c3defc",
   "metadata": {},
   "outputs": [],
   "source": []
  }
 ],
 "metadata": {
  "hide_input": false,
  "kernelspec": {
   "display_name": "Python 3 (ipykernel)",
   "language": "python",
   "name": "python3"
  },
  "language_info": {
   "codemirror_mode": {
    "name": "ipython",
    "version": 3
   },
   "file_extension": ".py",
   "mimetype": "text/x-python",
   "name": "python",
   "nbconvert_exporter": "python",
   "pygments_lexer": "ipython3",
   "version": "3.9.5"
  }
 },
 "nbformat": 4,
 "nbformat_minor": 5
}
