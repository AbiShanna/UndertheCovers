{
 "cells": [
  {
   "cell_type": "markdown",
   "id": "6ab346d4",
   "metadata": {},
   "source": [
    "# Status\n",
    "## Working via static urls and appropriate adjustments for jupyterhub vs jupyternotebook \n",
    "\n",
    "1.  Operate First direct spawn url for bu-cs-jupyter-book:latest:<br> \n",
    "https://jupyterhub-opf-jupyterhub.apps.zero.massopen.cloud/hub/spawn?bu-cs-jupyter-book:latest\n",
    "2. To get nbgitpuller to clone or sync the UndertheCovers repo:<br?\n",
    "https://jupyterhub-opf-jupyterhub.apps.zero.massopen.cloud/hub/user-redirect/git-pull?bu-cs-jupyter-book%3Alatest=&repo=https%3A%2F%2Fgithub.com%2Fjappavoo%2FUndertheCovers&urlpath=tree%2FUndertheCovers%2Funderthecovers%2FL00_210_JA.ipynb&branch=main\n",
    "3. 2 required futzing with the image so that the group id of the joyvan home directory is root (see [dockerfile](https://github.com/jappavoo/bu-cs-book-dev/blob/c88bc65d65b334150724981dad145f395e177505/Dockerfile#L87)): <br>\n",
    "``` shell\n",
    "# as a hack we are going to try changing group id of /home/joyvan to be root to see if I can trick things into\n",
    "# working on the moc\n",
    "RUN chgrp -R root /home/jovyan\n",
    "```\n",
    "The startup logic of the container which we inherited from the jupyter/minimal-notebook:latest (https://github.com/jupyter/docker-stacks/blob/master/base-notebook/start.sh) does a bunch magic:\n",
    "  - when spawned by the main jupyterhub server on oprate-first the container seems to launch with a userid of the operate-first uesr (eg in my case 1000950000) and a gid of root (0)\n",
    "  - which does not match the uid of the joyvan user in the container (1000) so the startup script replaces the joyvan user with a new joyvan user who's uid is the operate-first user id.  \n",
    "  - however it does nothing to the permissions of the homedir and it seems to let the gid of root persist\n",
    "  - so by default the home directory is readable but can not be written\n",
    "  - to fix this I modify the container's base permission of the joyvan homedir to be group 0\n",
    "  - oddly enough this all seems to work\n",
    "4. Oddly enough this also seems to solve my problem of persistent state:  The default logic is starting the jupyter server in the joyvan home dir which is not on the volume mounted by operate-first and its contents is server instance specific.  Destroying the server (stopping it) and restarting seeds the joyvan home dir back to its initial state from the container\n",
    "5. To access the api we must have the api token this however is not present in the same way as it was when running the jupyter notebook server locally -- see ln_preamble.py:<br>\n",
    "   on operate-first jupyerhub the api token is in an environment variable\n",
    "6. To make get requests we must use a full url to the localhost introduced localhost_url in ln_preamble\n",
    "7. To access the users server urls we need to prefix with `/hub/user-redirect` or any equivalent eg. to get access terminal 3 it would be `/hub/user-redirect`.  So now to embed a terminal we would can succesfully do the following: <br>\n",
    "``` python\n",
    "IFrame('/hub/user-redirect/terminals/2', 1400, 600)\n",
    "```\n",
    "or\n",
    "``` python\n",
    "IFrame('/user/jappavoo@bu.edu/terminals/2', 1400, 600)\n",
    "```\n",
    "or\n",
    "``` python\n",
    "IFrame('/hub/user/jappavoo@bu.edu/terminals/2', 1400, 600)\n",
    "```\n",
    "which means that we can use base_url as reported by server info in both environments to embedded a terminal\n",
    "``` python\n",
    "IFrame(base_url + 'terminals/2', 1400, 600)\n",
    "```\n",
    "The above now lets us embed terminals in the notebooks similar to the functionality of running a locally hosted version of the container and starting the jupyter notebook server by hand (see make devnb).  Have rewriten python/ln_preamble.py appropriately.\n"
   ]
  },
  {
   "cell_type": "markdown",
   "id": "b4641d6d",
   "metadata": {},
   "source": [
    "# rough notes\n",
    "\n",
    "Operate first url to directly spawn bu image\n",
    "\n",
    "https://jupyterhub-opf-jupyterhub.apps.zero.massopen.cloud/hub/spawn?bu-cs-jupyter-book:latest\n",
    "\n",
    "Working with Tom on operate first slack the following url git clone \n",
    "\n",
    "\n",
    "https://jupyterhub-opf-jupyterhub.apps.zero.massopen.cloud/hub/user-redirect/git-pull?bu-cs-jupyter-book%3Alatest=&repo=https%3A%2F%2Fgithub.com%2Fjappavoo%2FUndertheCovers&urlpath=tree%2FUndertheCovers%2Funderthecovers%2FL00_210_JA.ipynb&branch=main\n",
    "\n",
    "\n",
    "How to set \n",
    "```\n",
    "c.Spawner.default_url = '/data/jupyterhub/jupyterhub_notebooks'\n",
    "c.Spawner.notebook_dir = '/data/jupyterhub/jupyterhub_notebooks'\n",
    "```\n",
    "\n",
    "Hmmm it now seems that we are launching bu-cs container and home dir ends up being joyvan need to look at start up script as there is a lot of logic in it to adjust user and group\n",
    "\n",
    "At this point the running joyvan user on operatefirst seems to be some system assigned id with group root which leads to not having the right permissions to write home dir\n",
    "\n",
    "For the moment a hack might be to make the joyvan homdir and subdirs group root"
   ]
  },
  {
   "cell_type": "markdown",
   "id": "8529effb",
   "metadata": {},
   "source": [
    "\n",
    "Have managed to get the notebook running and now stuggling to get embedded terminals work.\n",
    "\n",
    "1) calling the api to create the terminals works after getting the api token from the environment variables\n",
    "2) however running into security setting need to be fixed\n",
    "  ```\n",
    "  \n",
    "  c.Spawner.args = ['--NotebookApp.tornado_settings={\"headers\":{\"Content-Security-Policy\": \"frame-ancestors * self host_ip:port\"}}']   \n",
    "\n",
    "c.JupyterHub.tornado_settings = { 'headers': { 'Content-Security-Policy': \"frame-ancestors * self host_ip:port\"} }\n",
    "```\n",
    "see: \n",
    "- https://github.com/jupyterhub/jupyterhub/issues/379#issuecomment-353607675\n",
    "- https://github.com/jupyterhub/the-littlest-jupyterhub/issues/312#issuecomment-590679516\n"
   ]
  },
  {
   "cell_type": "code",
   "execution_count": 36,
   "id": "8a62dd28",
   "metadata": {},
   "outputs": [
    {
     "data": {
      "text/html": [
       "<style>#notebook { padding-top:0px !important; } .container { width:100% !important; } .CodeMirror { width:100% !important;}.end_space { min-height:0px !important; } .prompt { display:none }.terminal-app #terminado-container { width:100%; }div.mywarn { background-color: #fcf2f2;border-color: #dFb5b4; border-left: 5px solid #dfb5b4; padding: 0.5em;}</style>"
      ],
      "text/plain": [
       "<IPython.core.display.HTML object>"
      ]
     },
     "metadata": {},
     "output_type": "display_data"
    }
   ],
   "source": [
    "%run -i underthecovers/python/ln_preamble.py"
   ]
  },
  {
   "cell_type": "code",
   "execution_count": 37,
   "id": "1d18482e",
   "metadata": {},
   "outputs": [
    {
     "name": "stdout",
     "output_type": "stream",
     "text": [
      "/\n"
     ]
    }
   ],
   "source": [
    "print(base_url)"
   ]
  },
  {
   "cell_type": "code",
   "execution_count": 38,
   "id": "dbb0b805",
   "metadata": {},
   "outputs": [
    {
     "data": {
      "text/html": [
       "<b>TERMINAL Window for Editor</b>"
      ],
      "text/plain": [
       "<IPython.core.display.HTML object>"
      ]
     },
     "metadata": {},
     "output_type": "display_data"
    },
    {
     "data": {
      "text/html": [
       "\n",
       "        <iframe\n",
       "            width=\"1400\"\n",
       "            height=\"600\"\n",
       "            src=\"/terminals/1\"\n",
       "            frameborder=\"0\"\n",
       "            allowfullscreen\n",
       "        ></iframe>\n",
       "        "
      ],
      "text/plain": [
       "<IPython.lib.display.IFrame at 0x7f66cbc60250>"
      ]
     },
     "execution_count": 38,
     "metadata": {},
     "output_type": "execute_result"
    }
   ],
   "source": [
    "showET()"
   ]
  },
  {
   "cell_type": "code",
   "execution_count": null,
   "id": "d77fcce9",
   "metadata": {},
   "outputs": [],
   "source": []
  }
 ],
 "metadata": {
  "hide_input": false,
  "kernelspec": {
   "display_name": "Python 3 (ipykernel)",
   "language": "python",
   "name": "python3"
  },
  "language_info": {
   "codemirror_mode": {
    "name": "ipython",
    "version": 3
   },
   "file_extension": ".py",
   "mimetype": "text/x-python",
   "name": "python",
   "nbconvert_exporter": "python",
   "pygments_lexer": "ipython3",
   "version": "3.9.5"
  }
 },
 "nbformat": 4,
 "nbformat_minor": 5
}
