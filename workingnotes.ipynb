{
 "cells": [
  {
   "cell_type": "markdown",
   "id": "8ad98800",
   "metadata": {},
   "source": [
    "# Status"
   ]
  },
  {
   "cell_type": "markdown",
   "id": "87c54e53",
   "metadata": {},
   "source": [
    "## Problems\n",
    "\n",
    "1. Very poor and inconsistent performance on operate-first\n",
    "2. nootbook output cells data is painful in git consider other options:\n",
    "   - https://mg.readthedocs.io/git-jupyter.html\n",
    "   - https://gist.github.com/pbugnion/ea2797393033b54674af"
   ]
  },
  {
   "cell_type": "markdown",
   "id": "8a89d217",
   "metadata": {},
   "source": [
    "## Next Steps\n",
    "\n",
    "1. Work on improving Dockerfiles to avoid unnecessary layers\n",
    "2. Exploit startup hooks to try and customize the machine a bit more:\n",
    "    - add correct user name to /etc/passwd\n",
    "    - see if we can figure out a way to rename home dir\n",
    "    - fix env then USER and HOME, etc\n",
    "    - fix hostname\n",
    "3. document that we are using the default jupyter user jovyan (https://jupyter.readthedocs.io/en/latest/community/content-community.html#what-is-a-jovyan) to be our container user\n",
    "\n",
    "    "
   ]
  },
  {
   "cell_type": "markdown",
   "id": "d4ea7410",
   "metadata": {},
   "source": [
    "## Working and notes  \n",
    "0.  This url works locally if you have your jupyter server running locally:<br> (eg make nb on container repo)\n",
    "    http://127.0.0.1:8888/git-pull?bu-cs-jupyter-book%3Alatest=&repo=https%3A%2F%2Fgithub.com%2Fjappavoo%2FUndertheCovers&urlpath=tree%2FUndertheCovers%2Funderthecovers%2FL00_210_JA.ipynb&branch=main\n",
    "1.  Operate First direct spawn url for bu-cs-jupyter-book:latest:<br> \n",
    "https://jupyterhub-opf-jupyterhub.apps.zero.massopen.cloud/hub/spawn?bu-cs-jupyter-book:latest\n",
    "2. To get nbgitpuller to clone or sync the UndertheCovers repo:<br>\n",
    "https://jupyterhub-opf-jupyterhub.apps.zero.massopen.cloud/hub/user-redirect/git-pull?bu-cs-jupyter-book%3Alatest=&repo=https%3A%2F%2Fgithub.com%2Fjappavoo%2FUndertheCovers&urlpath=tree%2FUndertheCovers%2Funderthecovers%2FL00_210_JA.ipynb&branch=main\n",
    "  - Other very usefull urls:\n",
    "      - authenticated users can see the Jupyterhub namespace on openshift here:<br>\n",
    "https://console-openshift-console.apps.zero.massopen.cloud/k8s/ns/opf-jupyterhub/pods <br>\n",
    "      - Your pod can be found here: <br>\n",
    "https://console-openshift-console.apps.zero.massopen.cloud/k8s/ns/opf-jupyterhub/pods/jupyterhub-nb-jappavoo-40bu-2eedu <br>\n",
    "This can give you a bit more info on the state of your pod\n",
    "3. 2 required futzing with the image so that the group id of the joyvan home directory is root (see [dockerfile](https://github.com/jappavoo/bu-cs-book-dev/blob/c88bc65d65b334150724981dad145f395e177505/Dockerfile#L87)): <br>\n",
    "``` shell\n",
    "# as a hack we are going to try changing group id of /home/joyvan to be root to see if I can trick things into\n",
    "# working on the moc\n",
    "RUN chgrp -R root /home/jovyan\n",
    "```\n",
    "The startup logic of the container which we inherited from the jupyter/minimal-notebook:latest (https://github.com/jupyter/docker-stacks/blob/master/base-notebook/start.sh) does a bunch magic:\n",
    "  - when spawned by the main jupyterhub server on oprate-first the container seems to launch with a userid of the operate-first uesr (eg in my case 1000950000) and a gid of root (0)\n",
    "  - which does not match the uid of the joyvan user in the container (1000) so the startup script replaces the joyvan user with a new joyvan user who's uid is the operate-first user id.  \n",
    "  - however it does nothing to the permissions of the homedir and it seems to let the gid of root persist\n",
    "  - so by default the home directory is readable but can not be written\n",
    "  - to fix this I modify the container's base permission of the joyvan homedir to be group 0\n",
    "  - oddly enough this all seems to work\n",
    "4. Oddly enough this also seems to solve my problem of persistent state:  The default logic is starting the jupyter server in the joyvan home dir which is not on the volume mounted by operate-first and its contents is server instance specific.  Destroying the server (stopping it) and restarting seeds the joyvan home dir back to its initial state from the container\n",
    "5. To access the api we must have the api token this however is not present in the same way as it was when running the jupyter notebook server locally -- see ln_preamble.py:<br>\n",
    "   on operate-first jupyerhub the api token is in an environment variable\n",
    "6. To make get requests we must use a full url to the localhost introduced localhost_url in ln_preamble\n",
    "7. To access the users server urls we need to prefix with `/hub/user-redirect` or any equivalent eg. to get access terminal 3 it would be `/hub/user-redirect`.  So now to embed a terminal we would can succesfully do the following: <br>\n",
    "``` python\n",
    "IFrame('/hub/user-redirect/terminals/2', 1400, 600)\n",
    "```\n",
    "or\n",
    "``` python\n",
    "IFrame('/user/jappavoo@bu.edu/terminals/2', 1400, 600)\n",
    "```\n",
    "or\n",
    "``` python\n",
    "IFrame('/hub/user/jappavoo@bu.edu/terminals/2', 1400, 600)\n",
    "```\n",
    "which means that we can use base_url as reported by server info in both environments to embedded a terminal\n",
    "``` python\n",
    "IFrame(base_url + 'terminals/2', 1400, 600)\n",
    "```\n",
    "The above now lets us embed terminals in the notebooks similar to the functionality of running a locally hosted version of the container and starting the jupyter notebook server by hand (see make devnb).  Have rewriten python/ln_preamble.py appropriately.\n",
    "8. Had a very hard time with getting python package installed and configure in a way that worked on opf with all constraints meet.  The current head of the bu-cs-book-dev repo has the version that I found to work:  \n",
    "    - boots on opf (from some reason prior commit in which I very carefully tested python package commands fails to boot).  \n",
    "    - all jupyter notebook extensions that I want installed by default work and are on when user opens a notebook\n",
    "    - the right version of jupyter books is installed -- use of conda got the wrong version switch to using pip install and this got the right version\n",
    "9. cleanup home dir and added stuff to bash rc to have better default behaviour\n"
   ]
  },
  {
   "cell_type": "markdown",
   "id": "b4641d6d",
   "metadata": {},
   "source": [
    "# Rough notes and playing around\n",
    "\n",
    "Operate first url to directly spawn bu image\n",
    "\n",
    "https://jupyterhub-opf-jupyterhub.apps.zero.massopen.cloud/hub/spawn?bu-cs-jupyter-book:latest\n",
    "\n",
    "Working with Tom on operate first slack the following url git clone \n",
    "\n",
    "\n",
    "https://jupyterhub-opf-jupyterhub.apps.zero.massopen.cloud/hub/user-redirect/git-pull?bu-cs-jupyter-book%3Alatest=&repo=https%3A%2F%2Fgithub.com%2Fjappavoo%2FUndertheCovers&urlpath=tree%2FUndertheCovers%2Funderthecovers%2FL00_210_JA.ipynb&branch=main\n",
    "\n",
    "\n",
    "How to set \n",
    "```\n",
    "c.Spawner.default_url = '/data/jupyterhub/jupyterhub_notebooks'\n",
    "c.Spawner.notebook_dir = '/data/jupyterhub/jupyterhub_notebooks'\n",
    "```\n",
    "\n",
    "Hmmm it now seems that we are launching bu-cs container and home dir ends up being joyvan need to look at start up script as there is a lot of logic in it to adjust user and group\n",
    "\n",
    "At this point the running joyvan user on operatefirst seems to be some system assigned id with group root which leads to not having the right permissions to write home dir\n",
    "\n",
    "For the moment a hack might be to make the joyvan homdir and subdirs group root"
   ]
  },
  {
   "cell_type": "markdown",
   "id": "8529effb",
   "metadata": {},
   "source": [
    "\n",
    "Have managed to get the notebook running and now stuggling to get embedded terminals work.\n",
    "\n",
    "1) calling the api to create the terminals works after getting the api token from the environment variables\n",
    "2) however running into security setting need to be fixed\n",
    "  ```\n",
    "  \n",
    "  c.Spawner.args = ['--NotebookApp.tornado_settings={\"headers\":{\"Content-Security-Policy\": \"frame-ancestors * self host_ip:port\"}}']   \n",
    "\n",
    "c.JupyterHub.tornado_settings = { 'headers': { 'Content-Security-Policy': \"frame-ancestors * self host_ip:port\"} }\n",
    "```\n",
    "see: \n",
    "- https://github.com/jupyterhub/jupyterhub/issues/379#issuecomment-353607675\n",
    "- https://github.com/jupyterhub/the-littlest-jupyterhub/issues/312#issuecomment-590679516\n"
   ]
  },
  {
   "cell_type": "code",
   "execution_count": 1,
   "id": "db431c29",
   "metadata": {},
   "outputs": [
    {
     "data": {
      "text/html": [
       "<style>#notebook { padding-top:0px !important; } .container { width:100% !important; } .CodeMirror { width:100% !important;}.end_space { min-height:0px !important; } .prompt { display:none }.terminal-app #terminado-container { width:100%; }div.mywarn { background-color: #fcf2f2;border-color: #dFb5b4; border-left: 5px solid #dfb5b4; padding: 0.5em;}</style>"
      ],
      "text/plain": [
       "<IPython.core.display.HTML object>"
      ]
     },
     "metadata": {},
     "output_type": "display_data"
    }
   ],
   "source": [
    "%run -i underthecovers/python/ln_preamble.py"
   ]
  },
  {
   "cell_type": "code",
   "execution_count": 2,
   "id": "be2a2ba7",
   "metadata": {},
   "outputs": [
    {
     "name": "stdout",
     "output_type": "stream",
     "text": [
      "/\n"
     ]
    }
   ],
   "source": [
    "print(base_url)"
   ]
  },
  {
   "cell_type": "code",
   "execution_count": 3,
   "id": "af1d6835",
   "metadata": {},
   "outputs": [
    {
     "data": {
      "text/html": [
       "<b>TERMINAL Window for Editor</b>"
      ],
      "text/plain": [
       "<IPython.core.display.HTML object>"
      ]
     },
     "metadata": {},
     "output_type": "display_data"
    },
    {
     "data": {
      "text/html": [
       "\n",
       "        <iframe\n",
       "            width=\"1400\"\n",
       "            height=\"600\"\n",
       "            src=\"/terminals/1\"\n",
       "            frameborder=\"0\"\n",
       "            allowfullscreen\n",
       "        ></iframe>\n",
       "        "
      ],
      "text/plain": [
       "<IPython.lib.display.IFrame at 0x7fd5d5463130>"
      ]
     },
     "execution_count": 3,
     "metadata": {},
     "output_type": "execute_result"
    }
   ],
   "source": [
    "showET()"
   ]
  },
  {
   "cell_type": "markdown",
   "id": "5e770611",
   "metadata": {},
   "source": [
    "https://jupyterhub.github.io/nbgitpuller/link?hub=https://127.0.0.1"
   ]
  },
  {
   "cell_type": "code",
   "execution_count": null,
   "id": "b98011d2",
   "metadata": {},
   "outputs": [],
   "source": []
  }
 ],
 "metadata": {
  "hide_input": false,
  "kernelspec": {
   "display_name": "Python 3 (ipykernel)",
   "language": "python",
   "name": "python3"
  },
  "language_info": {
   "codemirror_mode": {
    "name": "ipython",
    "version": 3
   },
   "file_extension": ".py",
   "mimetype": "text/x-python",
   "name": "python",
   "nbconvert_exporter": "python",
   "pygments_lexer": "ipython3",
   "version": "3.9.6"
  }
 },
 "nbformat": 4,
 "nbformat_minor": 5
}
