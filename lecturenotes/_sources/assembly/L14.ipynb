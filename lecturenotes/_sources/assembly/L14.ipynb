{
 "cells": [
  {
   "cell_type": "markdown",
   "id": "4be1ae58-db24-42c8-a167-3f68289da9f8",
   "metadata": {},
   "source": [
    "# SLS Lecture 14 : Assembly using the OS\n",
    "\n",
    "- Dynamic Heap Memory : Getting more Memory\n",
    "- I/O - Assembly \"Hello World\""
   ]
  },
  {
   "cell_type": "markdown",
   "id": "e9817273",
   "metadata": {},
   "source": [
    "## Remember\n",
    "\n",
    "1. The binaries we create using the assembler and linker are Executables\n",
    "\n",
    "2. When we \"run\" our executables via the shell it creates a new process context and our binary is loaded as the initial memory \"image\".\n",
    "\n",
    "3. Once the memory and register values of the process are unique to each process and change as the instructions of our binary \"execute\"\n"
   ]
  },
  {
   "cell_type": "markdown",
   "id": "c4070c96",
   "metadata": {},
   "source": [
    "### Processes Review\n"
   ]
  },
  {
   "cell_type": "markdown",
   "id": "3287cef4",
   "metadata": {},
   "source": [
    "<center>\n",
    "    <img src=\"../images/ProcessContexts.png\">\n",
    "</center>"
   ]
  },
  {
   "cell_type": "markdown",
   "id": "ab53bd69",
   "metadata": {},
   "source": [
    "### Address Space Layout of a Process\n",
    "\n",
    "\n"
   ]
  }
 ],
 "metadata": {
  "hide_input": false,
  "kernelspec": {
   "display_name": "Python 3 (ipykernel)",
   "language": "python",
   "name": "python3"
  },
  "language_info": {
   "codemirror_mode": {
    "name": "ipython",
    "version": 3
   },
   "file_extension": ".py",
   "mimetype": "text/x-python",
   "name": "python",
   "nbconvert_exporter": "python",
   "pygments_lexer": "ipython3",
   "version": "3.9.6"
  }
 },
 "nbformat": 4,
 "nbformat_minor": 5
}
