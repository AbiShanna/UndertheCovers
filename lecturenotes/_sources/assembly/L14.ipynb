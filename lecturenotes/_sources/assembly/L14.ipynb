{
 "cells": [
  {
   "cell_type": "code",
   "execution_count": 22,
   "id": "86c828cb",
   "metadata": {
    "hide_input": false,
    "slideshow": {
     "slide_type": "skip"
    },
    "tags": [
     "remove-cell"
    ]
   },
   "outputs": [],
   "source": [
    "%run -i ../python/common.py\n",
    "UC_SKIPTERMS=True\n",
    "%run -i ../python/ln_preamble.py"
   ]
  },
  {
   "cell_type": "markdown",
   "id": "4be1ae58-db24-42c8-a167-3f68289da9f8",
   "metadata": {
    "slideshow": {
     "slide_type": "slide"
    }
   },
   "source": [
    "# SLS Lecture 14 : Assembly using the OS\n",
    "\n",
    "- Review of Processes\n",
    "- Review of Systems Calls\n",
    "- Process Address Spaces \n",
    "  - Dynamic Memory : Adding and Growing our heap\n",
    "- I/O - Assembly \"Hello World\""
   ]
  },
  {
   "cell_type": "code",
   "execution_count": 23,
   "id": "ec5a0016",
   "metadata": {
    "hide_input": false,
    "tags": [
     "remove-input"
    ]
   },
   "outputs": [
    {
     "data": {
      "text/markdown": [
       "\n",
       "- create a directory `mkdir syscalls; cd syscalls`\n",
       "- copy examples\n",
       "- add a `Makefile` to automate assembling and linking\n",
       "    - we are going run the commands by hand this time to highlight the details\n",
       "- add our `setup.gdb` to make working in gdb easier\n",
       "- normally you would want to track everything in git\n"
      ],
      "text/plain": [
       "<IPython.core.display.Markdown object>"
      ]
     },
     "metadata": {},
     "output_type": "display_data"
    },
    {
     "name": "stdout",
     "output_type": "stream",
     "text": [
      "$ ls /home/jovyan/syscalls\n",
      "100.nums  hello.S   setup.gdb  usesum5.S\r\n",
      "brk.S     Makefile  sumit6.S   usesumheap.S\r\n",
      "$ \n"
     ]
    }
   ],
   "source": [
    "# setup for sumit examples\n",
    "appdir=os.getenv('HOME')\n",
    "appdir=appdir + \"/syscalls\"\n",
    "#print(movdir)\n",
    "output=runTermCmd(\"[[ -d \" + appdir + \" ]] &&  rm -rf \"+ appdir + \n",
    "             \";mkdir \" + appdir + \n",
    "             \";cp ../src/Makefile ../src/setup.gdb ../src/usesum5.S ../src/sumit6.S ../src/usesumheap.S ../src/hello.S ../src/brk.S ../src/100.nums \" + appdir)\n",
    "\n",
    "display(Markdown('''\n",
    "- create a directory `mkdir syscalls; cd syscalls`\n",
    "- copy examples\n",
    "- add a `Makefile` to automate assembling and linking\n",
    "    - we are going run the commands by hand this time to highlight the details\n",
    "- add our `setup.gdb` to make working in gdb easier\n",
    "- normally you would want to track everything in git\n",
    "'''))\n",
    "TermShellCmd(\"ls \" + appdir)"
   ]
  },
  {
   "cell_type": "markdown",
   "id": "09b5e7ab",
   "metadata": {
    "slideshow": {
     "slide_type": "slide"
    }
   },
   "source": [
    "## Review of Processes"
   ]
  },
  {
   "cell_type": "markdown",
   "id": "c4070c96",
   "metadata": {
    "slideshow": {
     "slide_type": "slide"
    }
   },
   "source": [
    "### Processes and the Kernel\n",
    "<center>\n",
    "<img src=\"../images/UnixRunning.png\">\n",
    "    </center>"
   ]
  },
  {
   "cell_type": "code",
   "execution_count": 24,
   "id": "28640581",
   "metadata": {
    "cell_style": "center",
    "hide_input": true,
    "slideshow": {
     "slide_type": "slide"
    }
   },
   "outputs": [
    {
     "data": {
      "text/html": [
       "<!-- produced by: \n",
       "htmlFig(\"[[{'src': '../images/Processes/Processes.004.png'}, {'src': '../images/Processes/Processes.005.png'}]]\", \n",
       "        id=\"\", \n",
       "        align=\"center\", \n",
       "        width=\"100%\",\n",
       "        margin=\"auto auto auto auto\",\n",
       "        caption=\"\", \n",
       "        captionalign=\"left\")\n",
       "-->\n",
       "<table align=\"center\" width=\"100%\" cellpadding=\"0\" cellspacing=\"0\" border=\"0\" style=\"border-collapse: collapse; margin: auto auto auto auto\">\n",
       "    <tr style=\"padding: 0; margin: 0;\"> \n",
       "        <td colspan=\"1\" width=\"100%\" style=\"padding: 0; margin: 0 0 0 0; background-color:inherit;\">\n",
       "            <div style=\"padding: 0; margin: 0 0 0 0;\">\n",
       "              <figure style=\"padding: 0; margin: 0 0 0 0; width:100%;\">\n",
       "                   <img src=\"../images/Processes/Processes.004.png\" width=\"100%\" style=\"padding: 0; margin: 0;\">\n",
       "                </figure>\n",
       "            </div>\n",
       "        </td>\n",
       "        <td colspan=\"1\" width=\"100%\" style=\"padding: 0; margin: 0 0 0 0; background-color:inherit;\">\n",
       "            <div style=\"padding: 0; margin: 0 0 0 0;\">\n",
       "              <figure style=\"padding: 0; margin: 0 0 0 0; width:100%;\">\n",
       "                   <img src=\"../images/Processes/Processes.005.png\" width=\"100%\" style=\"padding: 0; margin: 0;\">\n",
       "                </figure>\n",
       "            </div>\n",
       "        </td>\n",
       "    </tr>\n",
       "</table>\n"
      ],
      "text/plain": [
       "<IPython.core.display.HTML object>"
      ]
     },
     "metadata": {},
     "output_type": "display_data"
    }
   ],
   "source": [
    "display(HTML(htmlFig(\n",
    "    [\n",
    "        [\n",
    "#            {'src':\"/files/work/UndertheCovers/underthecovers/images/Processes/Processes.003.png\",\n",
    "#             'caption':'A: Press Enter', \n",
    "#             'border': '1px solid black',\n",
    "#             'padding':'1px',\n",
    "#             'cellwidth':'33.33%'\n",
    "#            },\n",
    "            {'src':\"../images/Processes/Processes.004.png\",\n",
    "#             'caption':'B: Shell \"blank line\" input processing' , \n",
    "#             'border': '1px solid black',\n",
    "#             'padding':'1px',\n",
    "#             'cellwidth':'33.33%'\n",
    "            },\n",
    "            {'src':\"../images/Processes/Processes.005.png\",\n",
    "#             'caption':'C: Shell sends Prompt back', \n",
    "#             'border': '1px solid black',\n",
    "#             'padding':'1px',\n",
    "#             'cellwidth':'33.33%'\n",
    "            },\n",
    "        ]\n",
    "    ],\n",
    "#    id=\"fig:shell-blankline\",\n",
    "#    caption=\"<center> Figure: Shell blank line behavior </center>\"\n",
    ")))"
   ]
  },
  {
   "cell_type": "markdown",
   "id": "4fc38721",
   "metadata": {
    "slideshow": {
     "slide_type": "slide"
    }
   },
   "source": [
    "## Review of System Calls - From Lecture 08"
   ]
  },
  {
   "cell_type": "code",
   "execution_count": 25,
   "id": "c2bcd3e6",
   "metadata": {
    "cell_style": "split",
    "hide_input": true,
    "slideshow": {
     "slide_type": "slide"
    },
    "tags": [
     "remove-input"
    ]
   },
   "outputs": [
    {
     "data": {
      "text/markdown": [
       "<!-- produced by: \n",
       "htmlFig(\"[{'src': '../images/kerneldef.png'}]\", \n",
       "        id=\"\", \n",
       "        align=\"center\", \n",
       "        width=\"100%\",\n",
       "        margin=\"auto auto auto auto\",\n",
       "        caption=\"\", \n",
       "        captionalign=\"left\")\n",
       "-->\n",
       "<table align=\"center\" width=\"100%\" cellpadding=\"0\" cellspacing=\"0\" border=\"0\" style=\"border-collapse: collapse; margin: auto auto auto auto\">\n",
       "    <tr style=\"padding: 0; margin: 0;\"> \n",
       "        <td colspan=\"1\" width=\"100%\" style=\"padding: 0; margin: 0 0 0 0; background-color:inherit;\">\n",
       "            <div style=\"padding: 0; margin: 0 0 0 0;\">\n",
       "              <figure style=\"padding: 0; margin: 0 0 0 0; width:100%;\">\n",
       "                   <img src=\"../images/kerneldef.png\" width=\"100%\" style=\"padding: 0; margin: 0;\">\n",
       "                </figure>\n",
       "            </div>\n",
       "        </td>\n",
       "    </tr>\n",
       "</table>\n"
      ],
      "text/plain": [
       "<IPython.core.display.Markdown object>"
      ]
     },
     "metadata": {},
     "output_type": "display_data"
    }
   ],
   "source": [
    "display(Markdown(htmlFig(\"../images/kerneldef.png\")))"
   ]
  },
  {
   "cell_type": "markdown",
   "id": "1d4749f5",
   "metadata": {
    "cell_style": "split"
   },
   "source": [
    "Remember this...\n",
    "\n",
    "**The \"Kernel\" -- Unique to Every OS**\n",
    "\n",
    "1. Bootstraps the HW and has direct access to all of it\n",
    "1. Bottom layer that enables other programs to run\n",
    "2. <font style=\"color:red;\"> **A unique collection of functions that programs can invoke** </font>\n",
    "\n",
    "Not useful on its own only useful and accessed by running other programs."
   ]
  },
  {
   "cell_type": "markdown",
   "id": "8661ace7",
   "metadata": {
    "slideshow": {
     "slide_type": "slide"
    }
   },
   "source": [
    "<center>\n",
    "<img src=\"../images/Processes/Processes.051.png\">\n",
    "</center>"
   ]
  },
  {
   "cell_type": "markdown",
   "id": "1a4468af",
   "metadata": {
    "slideshow": {
     "slide_type": "slide"
    }
   },
   "source": [
    "### Intel `syscall`\n",
    "\n",
    "On Intel the instruction is `syscall`\n",
    "\n",
    "<img src=\"../images/syscallmp.png\">\n",
    "\n"
   ]
  },
  {
   "cell_type": "markdown",
   "id": "94c7fd68",
   "metadata": {
    "slideshow": {
     "slide_type": "slide"
    }
   },
   "source": [
    "### The OS System Calls\n",
    "\n",
    "Each OS Kernel provides a set of calls that a process can invoke using the `syscall` instruction on an Intel based computer\n",
    "\n",
    "The Linux Kernel supports a very large number of system calls each is identified by a unique number that must be placed in `RAX` prior to executing the `syscall` instruction.  Additional arguments are passed in by setting other registers.  \n",
    "\n",
    "With each version of the Kernel the table of calls changes.  Here is one site that provides a list"
   ]
  },
  {
   "cell_type": "markdown",
   "id": "01bbf7c1",
   "metadata": {
    "slideshow": {
     "slide_type": "slide"
    }
   },
   "source": [
    "### LINUX SYSTEM CALLS\n",
    "\n",
    "- reading some man pages `man syscalls` and `man syscall` we find that\n",
    "  - we must place `60` in `rax`\n",
    "  - and that the value we want to return in `rdi`"
   ]
  },
  {
   "cell_type": "code",
   "execution_count": 26,
   "id": "593ec8af",
   "metadata": {
    "hide_input": true,
    "slideshow": {
     "slide_type": "notes"
    },
    "tags": [
     "remove-input"
    ]
   },
   "outputs": [
    {
     "name": "stdout",
     "output_type": "stream",
     "text": [
      "$ man syscalls | head -20\n",
      "SYSCALLS(2)                Linux Programmer's Manual               SYSCALLS(2)\n",
      "\n",
      "NAME\n",
      "       syscalls - Linux system calls\n",
      "\n",
      "SYNOPSIS\n",
      "       Linux system calls.\n",
      "\n",
      "DESCRIPTION\n",
      "       The system call is the fundamental interface between an application and\n",
      "       the Linux kernel.\n",
      "\n",
      "   System calls and library wrapper functions\n",
      "       System calls are generally not invoked directly, but rather via wrapper\n",
      "       functions in glibc (or perhaps some other library).  For details of di‐\n",
      "       rect invocation of a system call, see intro(2).  Often, but not always,\n",
      "       the  name of the wrapper function is the same as the name of the system\n",
      "       call that it invokes.  For example, glibc contains a  function  chdir()\n",
      "       which invokes the underlying \"chdir\" system call.\n",
      "\n",
      "$ \n",
      "$ man syscall | head -20\n",
      "SYSCALL(2)                 Linux Programmer's Manual                SYSCALL(2)\n",
      "\n",
      "NAME\n",
      "       syscall - indirect system call\n",
      "\n",
      "SYNOPSIS\n",
      "       #include <unistd.h>\n",
      "       #include <sys/syscall.h>   /* For SYS_xxx definitions */\n",
      "\n",
      "       long syscall(long number, ...);\n",
      "\n",
      "   Feature Test Macro Requirements for glibc (see feature_test_macros(7)):\n",
      "       syscall():\n",
      "           Since glibc 2.19:\n",
      "               _DEFAULT_SOURCE\n",
      "           Before glibc 2.19:\n",
      "               _BSD_SOURCE || _SVID_SOURCE\n",
      "\n",
      "DESCRIPTION\n",
      "       syscall()  is  a  small  library  function that invokes the system call\n",
      "$ \n"
     ]
    }
   ],
   "source": [
    "TermShellCmd(\"man syscalls | head -20\", markdown=False)\n",
    "TermShellCmd(\"man syscall | head -20\", markdown=False)"
   ]
  },
  {
   "cell_type": "code",
   "execution_count": 27,
   "id": "b1a1ad7b",
   "metadata": {
    "hide_input": false,
    "scrolled": true,
    "slideshow": {
     "slide_type": "slide"
    },
    "tags": [
     "remove-input"
    ]
   },
   "outputs": [
    {
     "data": {
      "text/html": [
       "\n",
       "        <iframe\n",
       "            width=\"100%\"\n",
       "            height=\"600\"\n",
       "            src=\"https://filippo.io/linux-syscall-table/\"\n",
       "            frameborder=\"0\"\n",
       "            allowfullscreen\n",
       "        ></iframe>\n",
       "        "
      ],
      "text/plain": [
       "<IPython.lib.display.IFrame at 0x7f493c7f7b80>"
      ]
     },
     "metadata": {},
     "output_type": "display_data"
    }
   ],
   "source": [
    "display(IFrame(\"https://filippo.io/linux-syscall-table/\", height=600, width=\"100%\"))"
   ]
  },
  {
   "cell_type": "code",
   "execution_count": 28,
   "id": "80b7087f",
   "metadata": {
    "hide_input": true,
    "tags": [
     "remove-input"
    ]
   },
   "outputs": [
    {
     "data": {
      "text/markdown": [
       "\n",
       "<div style=\"width:100%; height:100%; font-size:inherit; overflow: auto;\" >\n",
       "\n",
       "\n",
       "``` gas\n",
       "\t.intel_syntax noprefix\n",
       "\t\n",
       "\t.text\n",
       "\t.global _start\n",
       "_start:      \t\n",
       "\tmov     rax, 60    # Linux exit system call number is 60       \n",
       "\tmov     rdi, 0     # rdi is return value 0 success\n",
       "\n",
       "\tsyscall                         \t\n",
       "\n",
       "```\n",
       "\n",
       "\n",
       "</div>\n"
      ],
      "text/plain": [
       "<IPython.core.display.Markdown object>"
      ]
     },
     "metadata": {},
     "output_type": "display_data"
    }
   ],
   "source": [
    "display(Markdown(FileCodeBox(\n",
    "    file=\"../src/exit_bb_bb.S\", \n",
    "    lang=\"gas\", \n",
    "    title=\"\",\n",
    "    h=\"100%\", \n",
    "    w=\"100%\"\n",
    ")))"
   ]
  },
  {
   "cell_type": "markdown",
   "id": "9193d429",
   "metadata": {
    "slideshow": {
     "slide_type": "slide"
    }
   },
   "source": [
    "## Process Address Spaces"
   ]
  },
  {
   "cell_type": "markdown",
   "id": "5ab725a5",
   "metadata": {
    "slideshow": {
     "slide_type": "slide"
    }
   },
   "source": [
    "### Address Space organizes Memory of a Process"
   ]
  },
  {
   "cell_type": "markdown",
   "id": "3287cef4",
   "metadata": {
    "cell_style": "split",
    "slideshow": {
     "slide_type": "slide"
    }
   },
   "source": [
    "<center>\n",
    "    <img src=\"../images/ProcessContexts.png\">\n",
    "</center>"
   ]
  },
  {
   "cell_type": "markdown",
   "id": "9350ed72",
   "metadata": {
    "cell_style": "split",
    "slideshow": {
     "slide_type": "-"
    }
   },
   "source": [
    "**Remember**\n",
    "\n",
    "1. The binaries we create using the assembler and linker are Executables\n",
    "\n",
    "2. When we \"run\" our executables via the shell it creates a new process context and our binary is loaded as the initial memory \"image\".\n",
    "\n",
    "3. The memory and register values of the process are unique to each process and change as the instructions of our binary \"execute\""
   ]
  },
  {
   "cell_type": "markdown",
   "id": "e0f3dcb7",
   "metadata": {
    "slideshow": {
     "slide_type": "slide"
    }
   },
   "source": [
    "### Assembly Programming as Process Address Space Image creation"
   ]
  },
  {
   "cell_type": "markdown",
   "id": "63dcc3b5",
   "metadata": {
    "slideshow": {
     "slide_type": "slide"
    }
   },
   "source": [
    "<center>\n",
    "    <img src=\"../images/ASSEMBLY-AddressSpaceandIO/ASSEMBLY-AddressSpaceandIO.003.png\">\n",
    "</center>"
   ]
  },
  {
   "cell_type": "markdown",
   "id": "726aa9f0",
   "metadata": {
    "slideshow": {
     "slide_type": "slide"
    }
   },
   "source": [
    "<center>\n",
    "    <img src=\"../images/ASSEMBLY-AddressSpaceandIO/ASSEMBLY-AddressSpaceandIO.004.png\">\n",
    "</center>"
   ]
  },
  {
   "cell_type": "markdown",
   "id": "2544ab5c",
   "metadata": {
    "slideshow": {
     "slide_type": "slide"
    }
   },
   "source": [
    "<center>\n",
    "    <img src=\"../images/ASSEMBLY-AddressSpaceandIO/ASSEMBLY-AddressSpaceandIO.005.png\">\n",
    "</center>"
   ]
  },
  {
   "cell_type": "markdown",
   "id": "af42587b",
   "metadata": {
    "slideshow": {
     "slide_type": "slide"
    }
   },
   "source": [
    "### The Details"
   ]
  },
  {
   "cell_type": "markdown",
   "id": "ab53bd69",
   "metadata": {
    "cell_style": "center",
    "slideshow": {
     "slide_type": "slide"
    }
   },
   "source": [
    "### Process Address Space \n",
    "\n",
    "The Memory of a Process is organized as an (Virtual) Address Space \n",
    "\n",
    "1. Each possible location of a byte is identified by a unique address (number) \n",
    "2. To associate a Region (range of continues addresses) with actual memory requires a \"mapping\"\n",
    "    - mappings associate a Region with Memory and a possible source of values\n",
    "    - mappings can restrict what kind of access can be made to region \n",
    "        1. fetch for execute (x)\n",
    "        2. read (r)\n",
    "        3. write (w)"
   ]
  },
  {
   "cell_type": "markdown",
   "id": "dc7083d5",
   "metadata": {
    "slideshow": {
     "slide_type": "slide"
    }
   },
   "source": [
    "<center>\n",
    "    <img src=\"../images/ExecAddrSpace/ExecAddrSpace-001.png\">\n",
    "</center>"
   ]
  },
  {
   "cell_type": "markdown",
   "id": "d80aed35",
   "metadata": {
    "slideshow": {
     "slide_type": "slide"
    }
   },
   "source": [
    "<center>\n",
    "    <img src=\"../images/ExecAddrSpace/ExecAddrSpace-002.png\">\n",
    "</center>"
   ]
  },
  {
   "cell_type": "markdown",
   "id": "4003d5d4",
   "metadata": {
    "slideshow": {
     "slide_type": "slide"
    }
   },
   "source": [
    "<center>\n",
    "    <img src=\"../images/ExecAddrSpace/ExecAddrSpace-003.png\">\n",
    "</center>"
   ]
  },
  {
   "cell_type": "markdown",
   "id": "4db69dac",
   "metadata": {
    "slideshow": {
     "slide_type": "slide"
    }
   },
   "source": [
    "<center>\n",
    "    <img src=\"../images/ExecAddrSpace/ExecAddrSpace-004.png\">\n",
    "</center>"
   ]
  },
  {
   "cell_type": "markdown",
   "id": "8fcfde4f",
   "metadata": {
    "slideshow": {
     "slide_type": "slide"
    }
   },
   "source": [
    "<center>\n",
    "    <img src=\"../images/ExecAddrSpace/ExecAddrSpace-005.png\">\n",
    "</center>"
   ]
  },
  {
   "cell_type": "markdown",
   "id": "e18e8124",
   "metadata": {
    "slideshow": {
     "slide_type": "slide"
    }
   },
   "source": [
    "<center>\n",
    "    <img src=\"../images/ExecAddrSpace/ExecAddrSpace-006.png\">\n",
    "</center>"
   ]
  },
  {
   "cell_type": "markdown",
   "id": "8dbd4c9b",
   "metadata": {
    "slideshow": {
     "slide_type": "slide"
    }
   },
   "source": [
    "<center>\n",
    "    <img src=\"../images/ExecAddrSpace/ExecAddrSpace-007.png\">\n",
    "</center>"
   ]
  },
  {
   "cell_type": "markdown",
   "id": "c35e426b",
   "metadata": {
    "slideshow": {
     "slide_type": "slide"
    }
   },
   "source": [
    "<center>\n",
    "    <img src=\"../images/ExecAddrSpace/ExecAddrSpace-008.png\">\n",
    "</center>"
   ]
  },
  {
   "cell_type": "markdown",
   "id": "294916db",
   "metadata": {
    "slideshow": {
     "slide_type": "slide"
    }
   },
   "source": [
    "<center>\n",
    "    <img src=\"../images/ExecAddrSpace/ExecAddrSpace-009.png\">\n",
    "</center>"
   ]
  },
  {
   "cell_type": "markdown",
   "id": "cd564f06",
   "metadata": {
    "slideshow": {
     "slide_type": "slide"
    }
   },
   "source": [
    "<center>\n",
    "    <img src=\"../images/ExecAddrSpace/ExecAddrSpace-010.png\">\n",
    "</center>"
   ]
  },
  {
   "cell_type": "markdown",
   "id": "feecc32d",
   "metadata": {
    "slideshow": {
     "slide_type": "slide"
    }
   },
   "source": [
    "<center>\n",
    "    <img src=\"../images/ExecAddrSpace/ExecAddrSpace-011.png\">\n",
    "</center>"
   ]
  },
  {
   "cell_type": "markdown",
   "id": "f0d2d4ff",
   "metadata": {
    "slideshow": {
     "slide_type": "slide"
    }
   },
   "source": [
    "### Exploring the Address Space\n",
    "\n",
    "- Let's explore the address space of a running program "
   ]
  },
  {
   "cell_type": "code",
   "execution_count": 29,
   "id": "79832d45",
   "metadata": {
    "cell_style": "split",
    "hide_input": true,
    "tags": [
     "remove-input"
    ]
   },
   "outputs": [
    {
     "data": {
      "text/markdown": [
       "<b>CODE: asm - usesum5.S\n",
       "<div style=\"width:107em; height:100%; font-size:inherit; overflow: auto;\" >\n",
       "\n",
       "\n",
       "``` gas\n",
       "\t.intel_syntax noprefix\n",
       "\t.data\t\n",
       "\t.comm A_SUM, 8, 8\n",
       "\t.comm A_LEN, 8, 8\n",
       "\t.comm A, 8*1024, 8\t\n",
       "\n",
       "\t.comm B_SUM, 8, 8\n",
       "\t.comm B_LEN, 8, 8\n",
       "\t.comm B, 8*1024, 8\t\n",
       "\n",
       "\t.comm C_SUM, 8, 8\n",
       "\t.comm C_LEN, 8, 8\n",
       "\t.comm C, 8*1024, 8\t\n",
       "\n",
       "\t.text\n",
       "\t.global _start \n",
       "_start:\n",
       "\tmov rbx, QWORD PTR [A_LEN]\n",
       "\tmov rcx, OFFSET A\n",
       "\tcall sumIt\n",
       "\tmov QWORD PTR [A_SUM], rax\n",
       "\n",
       "\tmov rbx, QWORD PTR [B_LEN]\n",
       "\tmov rcx, OFFSET B\n",
       "\tcall sumIt\n",
       "\tmov QWORD PTR [B_SUM], rax\n",
       "\n",
       "\tmov rbx, QWORD PTR [C_LEN]\n",
       "\tmov rcx, OFFSET C\n",
       "\tcall sumIt\n",
       "\tmov QWORD PTR [C_SUM], rax\n",
       "\tint3\n",
       "\n",
       "```\n",
       "\n",
       "\n",
       "</div>\n"
      ],
      "text/plain": [
       "<IPython.core.display.Markdown object>"
      ]
     },
     "metadata": {},
     "output_type": "display_data"
    }
   ],
   "source": [
    "display(Markdown(FileCodeBox(\n",
    "    file=\"../src/usesum5.S\", \n",
    "    lang=\"gas\", \n",
    "    title=\"<b>CODE: asm - usesum5.S\",\n",
    "    h=\"100%\", \n",
    "    w=\"107em\"\n",
    ")))"
   ]
  },
  {
   "cell_type": "code",
   "execution_count": 30,
   "id": "deb13d60",
   "metadata": {
    "cell_style": "split",
    "hide_input": true,
    "tags": [
     "remove-input"
    ]
   },
   "outputs": [
    {
     "data": {
      "text/markdown": [
       "<b>CODE: asm - sumit6.S\n",
       "<div style=\"width:107em; height:100%; font-size:inherit; overflow: auto;\" >\n",
       "\n",
       "\n",
       "``` gas\n",
       "\t.intel_syntax noprefix\n",
       "\t\n",
       "\t.global sumIt\t      \t      #\t directive to let the linker\n",
       "\n",
       "\t# code to sum data in array who's address is in rcx\n",
       "\t# we assume we were started with call so return address on stack\n",
       "\t# we assume rbx has length  rbx -> len\n",
       "\t# and that we will leave final sum in rax\n",
       "sumIt:\t                              # location of this code is\n",
       "\txor  rax, rax            # rax -> sum : sum = 0\n",
       "\tpush rdi                 # spill current value of rdi before we use\n",
       "\txor  rdi, rdi            # rax -> i : i = 0\n",
       "\n",
       "\t# code to sum data at value in rcx\n",
       "\t# we assume rbx has length  rbx -> len\n",
       "\t# and that we will leave final sum in rax\n",
       "loop_start:\n",
       "\tcmp  rbx, rdi\n",
       "\tjz   loop_done\n",
       "\tadd  rax, QWORD PTR [rcx + rdi * 8] # add the i'th value to the sum\n",
       "\tinc  rdi                   # i=i+1\n",
       "\tjmp   loop_start\n",
       "loop_done:\n",
       "\tpop  rdi                 # restore rdi back to its original value\n",
       "\tret\n",
       "\n",
       "\n",
       "```\n",
       "\n",
       "\n",
       "</div>\n"
      ],
      "text/plain": [
       "<IPython.core.display.Markdown object>"
      ]
     },
     "metadata": {},
     "output_type": "display_data"
    }
   ],
   "source": [
    "display(Markdown(FileCodeBox(\n",
    "    file=\"../src/sumit6.S\", \n",
    "    lang=\"gas\", \n",
    "    title=\"<b>CODE: asm - sumit6.S\",\n",
    "    h=\"100%\", \n",
    "    w=\"107em\"\n",
    ")))"
   ]
  },
  {
   "cell_type": "code",
   "execution_count": 31,
   "id": "952fe2f3",
   "metadata": {
    "tags": [
     "remove-input"
    ]
   },
   "outputs": [
    {
     "name": "stdout",
     "output_type": "stream",
     "text": [
      "\n",
      "as -g -a=usesum5.o.lst usesum5.S -o usesum5.o\r\n",
      "as -g -a=sumit6.o.lst sumit6.S -o sumit6.o\r\n",
      "ld -g -Map=usesum6.map usesum5.o sumit6.o -o usesum6\r\n",
      "\n"
     ]
    }
   ],
   "source": [
    "TermShellCmd(\"make usesum6\", cwd=appdir, prompt='')"
   ]
  },
  {
   "cell_type": "code",
   "execution_count": 32,
   "id": "41236c17",
   "metadata": {
    "tags": [
     "remove-input"
    ]
   },
   "outputs": [
    {
     "data": {
      "text/markdown": [
       "<b>Debug</b>"
      ],
      "text/plain": [
       "<IPython.core.display.Markdown object>"
      ]
     },
     "execution_count": 32,
     "metadata": {},
     "output_type": "execute_result"
    }
   ],
   "source": [
    "showDT()"
   ]
  },
  {
   "cell_type": "markdown",
   "id": "ca1a4f7c",
   "metadata": {},
   "source": [
    "```\n",
    "b _start\n",
    "run \n",
    "info proc\n",
    "```"
   ]
  },
  {
   "cell_type": "markdown",
   "id": "d7382adf",
   "metadata": {},
   "source": [
    "```\n",
    " cat /proc/<pid>/maps\n",
    "```\n",
    "\n",
    "Use gdb to explore what's there and compare with binary binary file "
   ]
  },
  {
   "cell_type": "code",
   "execution_count": 33,
   "id": "14a26b6a",
   "metadata": {
    "hide_input": false,
    "tags": [
     "remove-input"
    ]
   },
   "outputs": [
    {
     "name": "stdout",
     "output_type": "stream",
     "text": [
      "$ man proc | head -30\n",
      "PROC(5)                    Linux Programmer's Manual                   PROC(5)\r\n",
      "\r\n",
      "NAME\r\n",
      "       proc - process information pseudo-filesystem\r\n",
      "\r\n",
      "DESCRIPTION\r\n",
      "       The  proc filesystem is a pseudo-filesystem which provides an interface\r\n",
      "       to kernel data structures.  It is commonly  mounted  at  /proc.   Typi‐\r\n",
      "       cally,  it  is  mounted automatically by the system, but it can also be\r\n",
      "       mounted manually using a command such as:\r\n",
      "\r\n",
      "           mount -t proc proc /proc\r\n",
      "\r\n",
      "       Most of the files in the proc filesystem are read-only, but some  files\r\n",
      "       are writable, allowing kernel variables to be changed.\r\n",
      "\r\n",
      "   Mount options\r\n",
      "       The proc filesystem supports the following mount options:\r\n",
      "\r\n",
      "       hidepid=n (since Linux 3.3)\r\n",
      "              This   option   controls  who  can  access  the  information  in\r\n",
      "              /proc/[pid] directories.  The argument, n, is one of the follow‐\r\n",
      "              ing values:\r\n",
      "\r\n",
      "              0   Everybody  may  access all /proc/[pid] directories.  This is\r\n",
      "                  the traditional behavior, and the default if this mount  op‐\r\n",
      "                  tion is not specified.\r\n",
      "\r\n",
      "              1   Users  may  not  access  files and subdirectories inside any\r\n",
      "                  /proc/[pid] directories but their own (the  /proc/[pid]  di‐\r\n",
      "$ \n"
     ]
    }
   ],
   "source": [
    "TermShellCmd(\"man proc | head -30\", markdown=False)"
   ]
  },
  {
   "cell_type": "code",
   "execution_count": 34,
   "id": "d8fee803",
   "metadata": {
    "scrolled": true,
    "tags": [
     "remove-input"
    ]
   },
   "outputs": [
    {
     "name": "stdout",
     "output_type": "stream",
     "text": [
      "$ man proc | grep -A40 /maps | head -41\n",
      "       /proc/[pid]/maps\r\n",
      "              A  file containing the currently mapped memory regions and their\r\n",
      "              access permissions.  See mmap(2) for  some  further  information\r\n",
      "              about memory mappings.\r\n",
      "\r\n",
      "              Permission  to  access  this file is governed by a ptrace access\r\n",
      "              mode PTRACE_MODE_READ_FSCREDS check; see ptrace(2).\r\n",
      "\r\n",
      "              The format of the file is:\r\n",
      "\r\n",
      "    address           perms offset  dev   inode       pathname\r\n",
      "    00400000-00452000 r-xp 00000000 08:02 173521      /usr/bin/dbus-daemon\r\n",
      "    00651000-00652000 r--p 00051000 08:02 173521      /usr/bin/dbus-daemon\r\n",
      "    00652000-00655000 rw-p 00052000 08:02 173521      /usr/bin/dbus-daemon\r\n",
      "    00e03000-00e24000 rw-p 00000000 00:00 0           [heap]\r\n",
      "    00e24000-011f7000 rw-p 00000000 00:00 0           [heap]\r\n",
      "    ...\r\n",
      "    35b1800000-35b1820000 r-xp 00000000 08:02 135522  /usr/lib64/ld-2.15.so\r\n",
      "    35b1a1f000-35b1a20000 r--p 0001f000 08:02 135522  /usr/lib64/ld-2.15.so\r\n",
      "    35b1a20000-35b1a21000 rw-p 00020000 08:02 135522  /usr/lib64/ld-2.15.so\r\n",
      "    35b1a21000-35b1a22000 rw-p 00000000 00:00 0\r\n",
      "    35b1c00000-35b1dac000 r-xp 00000000 08:02 135870  /usr/lib64/libc-2.15.so\r\n",
      "    35b1dac000-35b1fac000 ---p 001ac000 08:02 135870  /usr/lib64/libc-2.15.so\r\n",
      "    35b1fac000-35b1fb0000 r--p 001ac000 08:02 135870  /usr/lib64/libc-2.15.so\r\n",
      "    35b1fb0000-35b1fb2000 rw-p 001b0000 08:02 135870  /usr/lib64/libc-2.15.so\r\n",
      "    ...\r\n",
      "    f2c6ff8c000-7f2c7078c000 rw-p 00000000 00:00 0    [stack:986]\r\n",
      "    ...\r\n",
      "    7fffb2c0d000-7fffb2c2e000 rw-p 00000000 00:00 0   [stack]\r\n",
      "    7fffb2d48000-7fffb2d49000 r-xp 00000000 00:00 0   [vdso]\r\n",
      "\r\n",
      "              The address field is the address space in the process  that  the\r\n",
      "              mapping occupies.  The perms field is a set of permissions:\r\n",
      "\r\n",
      "                  r = read\r\n",
      "                  w = write\r\n",
      "                  x = execute\r\n",
      "                  s = shared\r\n",
      "                  p = private (copy on write)\r\n",
      "\r\n",
      "              The  offset  field  is the offset into the file/whatever; dev is\r\n",
      "$ \n"
     ]
    }
   ],
   "source": [
    "TermShellCmd(\"man proc | grep -A40 /maps | head -41\", markdown=False)"
   ]
  },
  {
   "cell_type": "markdown",
   "id": "5cf200a0",
   "metadata": {},
   "source": [
    "#### Add another section to control how region is mapped\n",
    "\n",
    "Readonly data section `.rodata`\n",
    "\n",
    "```gas\n",
    "         .section .rodata\n",
    "\n",
    " str1:\n",
    "         .string \"Hello World\\n\"\n",
    "```\n",
    "\n",
    "What would happen if we put all out data in the `.rodata` section... try it and find out"
   ]
  },
  {
   "cell_type": "markdown",
   "id": "ebed13c8",
   "metadata": {},
   "source": [
    "## Ok lets get some more memory -- And and Grow our Heap\n",
    "\n",
    "The `brk` system call\n"
   ]
  },
  {
   "cell_type": "code",
   "execution_count": 35,
   "id": "b823c29c",
   "metadata": {
    "hide_input": true,
    "tags": [
     "remove-input"
    ]
   },
   "outputs": [
    {
     "name": "stdout",
     "output_type": "stream",
     "text": [
      "$ man brk | head -37\n",
      "BRK(2)                     Linux Programmer's Manual                    BRK(2)\r\n",
      "\r\n",
      "NAME\r\n",
      "       brk, sbrk - change data segment size\r\n",
      "\r\n",
      "SYNOPSIS\r\n",
      "       #include <unistd.h>\r\n",
      "\r\n",
      "       int brk(void *addr);\r\n",
      "\r\n",
      "       void *sbrk(intptr_t increment);\r\n",
      "\r\n",
      "   Feature Test Macro Requirements for glibc (see feature_test_macros(7)):\r\n",
      "\r\n",
      "       brk(), sbrk():\r\n",
      "           Since glibc 2.19:\r\n",
      "               _DEFAULT_SOURCE ||\r\n",
      "                   (_XOPEN_SOURCE >= 500) &&\r\n",
      "                   ! (_POSIX_C_SOURCE >= 200112L)\r\n",
      "           From glibc 2.12 to 2.19:\r\n",
      "               _BSD_SOURCE || _SVID_SOURCE ||\r\n",
      "                   (_XOPEN_SOURCE >= 500) &&\r\n",
      "                   ! (_POSIX_C_SOURCE >= 200112L)\r\n",
      "           Before glibc 2.12:\r\n",
      "               _BSD_SOURCE || _SVID_SOURCE || _XOPEN_SOURCE >= 500\r\n",
      "\r\n",
      "DESCRIPTION\r\n",
      "       brk()  and  sbrk()  change the location of the program break, which de‐\r\n",
      "       fines the end of the process's data segment (i.e., the program break is\r\n",
      "       the  first  location  after the end of the uninitialized data segment).\r\n",
      "       Increasing the program break has the effect of allocating memory to the\r\n",
      "       process; decreasing the break deallocates memory.\r\n",
      "\r\n",
      "       brk()  sets the end of the data segment to the value specified by addr,\r\n",
      "       when that value is reasonable, the system has enough  memory,  and  the\r\n",
      "       process does not exceed its maximum data size (see setrlimit(2)).\r\n",
      "\r\n",
      "$ \n"
     ]
    }
   ],
   "source": [
    "TermShellCmd(\"man brk | head -37\", markdown=False)"
   ]
  },
  {
   "cell_type": "code",
   "execution_count": 36,
   "id": "244184b4",
   "metadata": {
    "scrolled": true,
    "tags": [
     "remove-input"
    ]
   },
   "outputs": [
    {
     "data": {
      "text/html": [
       "\n",
       "        <iframe\n",
       "            width=\"100%\"\n",
       "            height=\"600\"\n",
       "            src=\"https://filippo.io/linux-syscall-table/\"\n",
       "            frameborder=\"0\"\n",
       "            allowfullscreen\n",
       "        ></iframe>\n",
       "        "
      ],
      "text/plain": [
       "<IPython.lib.display.IFrame at 0x7f493c7d1430>"
      ]
     },
     "metadata": {},
     "output_type": "display_data"
    }
   ],
   "source": [
    "display(IFrame(\"https://filippo.io/linux-syscall-table/\", height=600, width=\"100%\"))"
   ]
  },
  {
   "cell_type": "markdown",
   "id": "8c5387b9",
   "metadata": {},
   "source": [
    "**Lets add this code**\n",
    "\n",
    "What does it do?\n",
    "\n",
    "```gas\n",
    "    .data\n",
    "NEW_MEM_PTR:\n",
    "    .quad 0\n",
    "\n",
    "    .text\n",
    "    \n",
    "    mov rdi, 0\n",
    "    mov rax, 12\n",
    "    syscall \n",
    "    mov QWORD PTR [NEW_MEM_PTR], rdi\n",
    "    \n",
    "    mov rdi, rax\n",
    "    add rdi, 1024 * 8\n",
    "    mov rax, 12\n",
    "    syscall\n",
    "```"
   ]
  },
  {
   "cell_type": "code",
   "execution_count": 37,
   "id": "c6209b93",
   "metadata": {
    "tags": [
     "remove-input"
    ]
   },
   "outputs": [
    {
     "data": {
      "text/markdown": [
       "<b>CODE: asm - usesumheap.S\n",
       "<div style=\"width:107em; height:100%; font-size:inherit; overflow: auto;\" >\n",
       "\n",
       "\n",
       "``` gas\n",
       "\t.intel_syntax noprefix\n",
       "\t.section .data\t\n",
       "\t.comm A_SUM, 8, 8\n",
       "\t.comm A_LEN, 8, 8\n",
       "\t.comm A, 8*1024, 8\t\n",
       "\n",
       "\t.comm B_SUM, 8, 8\n",
       "\t.comm B_LEN, 8, 8\n",
       "\t.comm B, 8*1024, 8\t\n",
       "\n",
       "\t.comm C_SUM, 8, 8\n",
       "\t.comm C_LEN, 8, 8\n",
       "\t.comm C, 8*1024, 8\t\n",
       "\n",
       "\t# Added space heap memory array\n",
       "\t.comm D_SUM, 8, 8\n",
       "\t.comm D_LEN, 8, 8\n",
       "\t.comm D_PTR, 8, 8\n",
       "\n",
       "\t.section .rodata\n",
       "mystr:\t\n",
       "\t.string \"Hello World!!!\\n\"\n",
       "\t\n",
       "\t.section .text\n",
       "\t.global _start \n",
       "_start:\n",
       "\t# get current break pointer\n",
       "\tmov rdi, 0                 # pass 0 to brk (invalid request)\n",
       "\tmov rax, 12                # brk syscall number 12\n",
       "\tsyscall                    # call brk with 0\n",
       "\tmov QWORD PTR [D_PTR], rax # set D_PTR to start of end of break memory\n",
       "\tmov rdi, rax               # mov current end of break into rax\n",
       "\t\n",
       "\tadd rdi, 1024 * 8          # add request num bytes to end break\n",
       "\tmov rax, 12                # brk syscall number 12\n",
       "\tsyscall                    # call brk with break end + request\n",
       "\n",
       "\tmov rbx, QWORD PTR [D_LEN] \n",
       "\tmov rcx, QWORD PTR [D_PTR]\n",
       "\tcall sumIt\n",
       "\tmov QWORD PTR [D_SUM], rax\n",
       "\n",
       "\tmov rbx, QWORD PTR [A_LEN]\n",
       "\tmov rcx, OFFSET A\n",
       "\tcall sumIt\n",
       "\tmov QWORD PTR [A_SUM], rax\n",
       "\n",
       "\tmov rbx, QWORD PTR [B_LEN]\n",
       "\tmov rcx, OFFSET B\n",
       "\tcall sumIt\n",
       "\tmov QWORD PTR [B_SUM], rax\n",
       "\n",
       "\tmov rbx, QWORD PTR [C_LEN]\n",
       "\tmov rcx, OFFSET C\n",
       "\tcall sumIt\n",
       "\tmov QWORD PTR [C_SUM], rax\n",
       "\n",
       "\tmov rdi, rax\n",
       "\tmov rax, 60\n",
       "\tsyscall\n",
       "\t\n",
       "\n",
       "\n",
       "```\n",
       "\n",
       "\n",
       "</div>\n"
      ],
      "text/plain": [
       "<IPython.core.display.Markdown object>"
      ]
     },
     "metadata": {},
     "output_type": "display_data"
    }
   ],
   "source": [
    "display(Markdown(FileCodeBox(\n",
    "    file=\"../src/usesumheap.S\", \n",
    "    lang=\"gas\", \n",
    "    title=\"<b>CODE: asm - usesumheap.S\",\n",
    "    h=\"100%\", \n",
    "    w=\"107em\"\n",
    ")))"
   ]
  },
  {
   "cell_type": "markdown",
   "id": "0437ac44",
   "metadata": {},
   "source": [
    "**What does the regions maps look like now?**"
   ]
  },
  {
   "cell_type": "code",
   "execution_count": 38,
   "id": "1ecd126f",
   "metadata": {
    "hide_input": true,
    "tags": [
     "remove-input"
    ]
   },
   "outputs": [
    {
     "data": {
      "text/markdown": [
       "<b>usesumheap gdb\n",
       "<div style=\"width:107em; height:100%; font-size:inherit; overflow: auto;\" >\n",
       "\n",
       "\n",
       "``` gas\n",
       "b _start\n",
       "run\n",
       "display /1gx &D_PTR\n",
       "x/10gd (void *)D_PTR\n",
       "si\n",
       "si\n",
       "si\n",
       "si\n",
       "x/10gd (void *)D_PTR\n",
       "si\n",
       "si\n",
       "si\n",
       "si\n",
       "x/10gd (void *)D_PTR\n",
       "restore 100.bin binary <addr>\n",
       "x/10gd (void *)D_PTR\n",
       "set *((long long *)&D_LEN)=100\n",
       "disass\n",
       "break *addr\n",
       "c\n",
       "si\n",
       "display /1gd D_SUM\n",
       "\n",
       "\n",
       "\n",
       "```\n",
       "\n",
       "\n",
       "</div>\n"
      ],
      "text/plain": [
       "<IPython.core.display.Markdown object>"
      ]
     },
     "metadata": {},
     "output_type": "display_data"
    }
   ],
   "source": [
    "showDT()\n",
    "display(Markdown(FileCodeBox(\n",
    "    file=\"../src/usesumheap.gdb\", \n",
    "    lang=\"gas\", \n",
    "    title=\"<b>usesumheap gdb\",\n",
    "    h=\"100%\", \n",
    "    w=\"107em\"\n",
    ")))"
   ]
  },
  {
   "cell_type": "markdown",
   "id": "b3f23c86",
   "metadata": {
    "slideshow": {
     "slide_type": "slide"
    }
   },
   "source": [
    "<center>\n",
    "    <img src=\"../images/ASSEMBLY-AddressSpaceandIO/ASSEMBLY-AddressSpaceandIO.012.png\">\n",
    "</center>"
   ]
  },
  {
   "cell_type": "markdown",
   "id": "b7b5471a",
   "metadata": {
    "slideshow": {
     "slide_type": "slide"
    }
   },
   "source": [
    "<center>\n",
    "    <img src=\"../images/ASSEMBLY-AddressSpaceandIO/ASSEMBLY-AddressSpaceandIO.016.png\">\n",
    "</center>"
   ]
  },
  {
   "cell_type": "markdown",
   "id": "49877e36",
   "metadata": {
    "slideshow": {
     "slide_type": "slide"
    }
   },
   "source": [
    "## I/O"
   ]
  },
  {
   "cell_type": "markdown",
   "id": "84981660",
   "metadata": {
    "slideshow": {
     "slide_type": "slide"
    }
   },
   "source": [
    "<center>\n",
    "    <img src=\"../images/ASSEMBLY-AddressSpaceandIO/ASSEMBLY-AddressSpaceandIO.017.png\">\n",
    "</center>"
   ]
  },
  {
   "cell_type": "markdown",
   "id": "79e8b0d5",
   "metadata": {
    "slideshow": {
     "slide_type": "slide"
    }
   },
   "source": [
    "<center>\n",
    "    <img src=\"../images/ASSEMBLY-AddressSpaceandIO/ASSEMBLY-AddressSpaceandIO.018.png\">\n",
    "</center>"
   ]
  },
  {
   "cell_type": "markdown",
   "id": "f5639eee",
   "metadata": {
    "slideshow": {
     "slide_type": "slide"
    }
   },
   "source": [
    "### Review from Lecture 3"
   ]
  },
  {
   "cell_type": "markdown",
   "id": "ae514818",
   "metadata": {
    "slideshow": {
     "slide_type": "slide"
    }
   },
   "source": [
    "<center>\n",
    "    <img src=\"../images/Processes/Processes.006.png\">\n",
    "</center>"
   ]
  },
  {
   "cell_type": "markdown",
   "id": "225896ea",
   "metadata": {
    "slideshow": {
     "slide_type": "slide"
    }
   },
   "source": [
    "<center>\n",
    "    <img src=\"../images/Processes/Processes.007.png\">\n",
    "</center>"
   ]
  },
  {
   "cell_type": "markdown",
   "id": "e624fcab",
   "metadata": {
    "slideshow": {
     "slide_type": "slide"
    }
   },
   "source": [
    "<center>\n",
    "    <img src=\"../images/Processes/Processes.008.png\">\n",
    "</center>"
   ]
  },
  {
   "cell_type": "markdown",
   "id": "dc5d363e",
   "metadata": {
    "slideshow": {
     "slide_type": "slide"
    }
   },
   "source": [
    "<center>\n",
    "    <img src=\"../images/Processes/Processes.009.png\">\n",
    "</center>"
   ]
  },
  {
   "cell_type": "markdown",
   "id": "5e8abc4f",
   "metadata": {
    "slideshow": {
     "slide_type": "slide"
    }
   },
   "source": [
    "<center>\n",
    "    <img src=\"../images/Processes/Processes.010.png\">\n",
    "</center>"
   ]
  },
  {
   "cell_type": "markdown",
   "id": "b437898a",
   "metadata": {
    "slideshow": {
     "slide_type": "slide"
    }
   },
   "source": [
    "<center>\n",
    "    <img src=\"../images/Processes/Processes.011.png\">\n",
    "</center>"
   ]
  },
  {
   "cell_type": "markdown",
   "id": "2fad4bb4",
   "metadata": {
    "slideshow": {
     "slide_type": "slide"
    }
   },
   "source": [
    "<center>\n",
    "    <img src=\"../images/Processes/Processes.012.png\">\n",
    "</center>"
   ]
  },
  {
   "cell_type": "markdown",
   "id": "848a251d",
   "metadata": {
    "slideshow": {
     "slide_type": "slide"
    }
   },
   "source": [
    "<center>\n",
    "    <img src=\"../images/Processes/Processes.013.png\">\n",
    "</center>"
   ]
  },
  {
   "cell_type": "markdown",
   "id": "64fcd83d",
   "metadata": {
    "slideshow": {
     "slide_type": "slide"
    }
   },
   "source": [
    "<center>\n",
    "    <img src=\"../images/Processes/Processes.015.png\">\n",
    "</center>"
   ]
  },
  {
   "cell_type": "markdown",
   "id": "0c97ec3b",
   "metadata": {
    "slideshow": {
     "slide_type": "slide"
    }
   },
   "source": [
    "### Finally \"Hello World in Assembly\""
   ]
  },
  {
   "cell_type": "code",
   "execution_count": 39,
   "id": "201d2bd6",
   "metadata": {
    "slideshow": {
     "slide_type": "slide"
    },
    "tags": [
     "remove-input"
    ]
   },
   "outputs": [
    {
     "data": {
      "text/markdown": [
       "<b>CODE: asm - hello.S\n",
       "<div style=\"width:107em; height:100%; font-size:inherit; overflow: auto;\" >\n",
       "\n",
       "\n",
       "``` gas\n",
       "\t.intel_syntax noprefix\n",
       "\t.section .rodata\n",
       "str:\n",
       "\t.string \"Hello World\\n\"\n",
       "\n",
       "\t.section .text\n",
       "\t.global _start\n",
       "_start:\n",
       "\tmov rax, 1\n",
       "\tmov rdi, 1\n",
       "\tmov rsi, OFFSET str\n",
       "\tmov rdx, 12\n",
       "\tsyscall\n",
       "\n",
       "\tmov rax, 60\n",
       "\tmov rdi, 3\n",
       "\tsyscall\n",
       "\t\n",
       "\n",
       "```\n",
       "\n",
       "\n",
       "</div>\n"
      ],
      "text/plain": [
       "<IPython.core.display.Markdown object>"
      ]
     },
     "metadata": {},
     "output_type": "display_data"
    }
   ],
   "source": [
    "display(Markdown(FileCodeBox(\n",
    "    file=\"../src/hello.S\", \n",
    "    lang=\"gas\", \n",
    "    title=\"<b>CODE: asm - hello.S\",\n",
    "    h=\"100%\", \n",
    "    w=\"107em\"\n",
    ")))"
   ]
  },
  {
   "cell_type": "code",
   "execution_count": 40,
   "id": "6ad28d04",
   "metadata": {
    "hide_input": true,
    "slideshow": {
     "slide_type": "slide"
    },
    "tags": [
     "remove-input"
    ]
   },
   "outputs": [
    {
     "name": "stdout",
     "output_type": "stream",
     "text": [
      "\n",
      "as -g -a=hello.o.lst hello.S -o hello.o\r\n",
      "ld -g -Map=hello.map hello.o -o hello\r\n",
      "\n"
     ]
    }
   ],
   "source": [
    "TermShellCmd(\"make hello\", cwd=appdir, prompt='')"
   ]
  },
  {
   "cell_type": "markdown",
   "id": "8e249910",
   "metadata": {},
   "source": [
    "#### At long last we have a program that we don't need the debugger for!"
   ]
  },
  {
   "cell_type": "code",
   "execution_count": 41,
   "id": "5e68c959",
   "metadata": {
    "hide_input": true,
    "slideshow": {
     "slide_type": "slide"
    },
    "tags": [
     "remove-input"
    ]
   },
   "outputs": [
    {
     "name": "stdout",
     "output_type": "stream",
     "text": [
      "$ ./hello; echo $?\n",
      "Hello World\r\n",
      "3\r\n",
      "$ \n"
     ]
    }
   ],
   "source": [
    "TermShellCmd(\"./hello; echo $?\", cwd=appdir)"
   ]
  },
  {
   "cell_type": "markdown",
   "id": "806c3cab",
   "metadata": {
    "slideshow": {
     "slide_type": "slide"
    }
   },
   "source": [
    "### There are many more calls for doing I/O\n",
    "\n",
    "But we can now \n",
    "1. transfer bytes from our address space to a \"file\" - write system call\n",
    "2. transfer bytes from a \"file\" to our address space  - read system call\n",
    "3. connect (and possibly create) files to our address space for reading and writing - open system call\n",
    "4. disconnect a file from our address space - close system call\n"
   ]
  },
  {
   "cell_type": "code",
   "execution_count": 42,
   "id": "af4ca1a8",
   "metadata": {
    "scrolled": true,
    "tags": [
     "remove-input"
    ]
   },
   "outputs": [
    {
     "data": {
      "text/html": [
       "\n",
       "        <iframe\n",
       "            width=\"100%\"\n",
       "            height=\"600\"\n",
       "            src=\"https://filippo.io/linux-syscall-table/\"\n",
       "            frameborder=\"0\"\n",
       "            allowfullscreen\n",
       "        ></iframe>\n",
       "        "
      ],
      "text/plain": [
       "<IPython.lib.display.IFrame at 0x7f493c8707c0>"
      ]
     },
     "metadata": {},
     "output_type": "display_data"
    }
   ],
   "source": [
    "display(IFrame(\"https://filippo.io/linux-syscall-table/\", height=600, width=\"100%\"))"
   ]
  },
  {
   "cell_type": "markdown",
   "id": "ab19ffef",
   "metadata": {},
   "source": [
    "### Exercises\n",
    "\n",
    "Change the `usesum` program to:\n",
    "- exit properly \n",
    "- allocate memory for the data\n",
    "- read the data in from standard in\n",
    "- write the binary result to standard out\n",
    "  - use a shell command like `od -l -A10` to convert the output to ascii\n",
    "- open the binary file of numbers and read them in\n",
    "- can you figure out how to get the command line arguments?\n",
    "- Write a new program that uses the random instruction to create a data file\n"
   ]
  },
  {
   "cell_type": "code",
   "execution_count": null,
   "id": "21b6e2d6",
   "metadata": {},
   "outputs": [],
   "source": []
  }
 ],
 "metadata": {
  "celltoolbar": "Tags",
  "hide_input": true,
  "kernelspec": {
   "display_name": "Python 3 (ipykernel)",
   "language": "python",
   "name": "python3"
  },
  "language_info": {
   "codemirror_mode": {
    "name": "ipython",
    "version": 3
   },
   "file_extension": ".py",
   "mimetype": "text/x-python",
   "name": "python",
   "nbconvert_exporter": "python",
   "pygments_lexer": "ipython3",
   "version": "3.9.6"
  },
  "rise": {
   "autolaunch": false,
   "enable_chalkboard": true,
   "footer": "UC-SLS -- Lecture 14",
   "header": "Assembly: Using the OS",
   "height": "100%",
   "scroll": true,
   "start_slideshow_at": "selected",
   "theme": "black",
   "transition": "none",
   "width": "100%"
  }
 },
 "nbformat": 4,
 "nbformat_minor": 5
}
