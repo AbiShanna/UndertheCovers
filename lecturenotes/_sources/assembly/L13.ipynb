{
 "cells": [
  {
   "cell_type": "code",
   "execution_count": 1,
   "id": "56a393c7",
   "metadata": {
    "hide_input": true,
    "slideshow": {
     "slide_type": "skip"
    }
   },
   "outputs": [],
   "source": [
    "%run -i ../python/common.py\n",
    "UC_SKIPTERMS=True\n",
    "%run -i ../python/ln_preamble.py"
   ]
  },
  {
   "cell_type": "markdown",
   "id": "d6e680aa-e70d-4812-9191-f7587da59946",
   "metadata": {
    "slideshow": {
     "slide_type": "slide"
    }
   },
   "source": [
    "# SLS Lecture 13 : Program Anatomy V: The Tree of Bytes and Data Structures "
   ]
  },
  {
   "cell_type": "markdown",
   "id": "b53f46f7",
   "metadata": {
    "slideshow": {
     "slide_type": "slide"
    }
   },
   "source": [
    "<center>\n",
    "<img src=\"../images/ASSEMBLY-PGMV/ASSEMBLY-PGMV.001.png\" >\n",
    "</center>"
   ]
  },
  {
   "cell_type": "markdown",
   "id": "4606b2ba",
   "metadata": {
    "slideshow": {
     "slide_type": "slide"
    }
   },
   "source": [
    "<center>\n",
    "<img src=\"../images/ASSEMBLY-PGMV/ASSEMBLY-PGMV.002.png\" >\n",
    "</center>"
   ]
  },
  {
   "cell_type": "markdown",
   "id": "ccfc637c",
   "metadata": {
    "slideshow": {
     "slide_type": "slide"
    }
   },
   "source": [
    "<center>\n",
    "<img src=\"../images/ASSEMBLY-PGMV/ASSEMBLY-PGMV.003.png\" >\n",
    "</center>"
   ]
  },
  {
   "cell_type": "markdown",
   "id": "2a838828",
   "metadata": {
    "slideshow": {
     "slide_type": "slide"
    }
   },
   "source": [
    "<center>\n",
    "<img src=\"../images/ASSEMBLY-PGMV/ASSEMBLY-PGMV.004.png\" >\n",
    "</center>"
   ]
  },
  {
   "cell_type": "markdown",
   "id": "71ebbc60",
   "metadata": {
    "slideshow": {
     "slide_type": "slide"
    }
   },
   "source": [
    "<center>\n",
    "<img src=\"../images/ASSEMBLY-PGMV/ASSEMBLY-PGMV.005.png\" >\n",
    "</center>"
   ]
  },
  {
   "cell_type": "markdown",
   "id": "b7bd5d69",
   "metadata": {
    "slideshow": {
     "slide_type": "slide"
    }
   },
   "source": [
    "<center>\n",
    "<img src=\"../images/ASSEMBLY-PGMV/ASSEMBLY-PGMV.006.png\" >\n",
    "</center>"
   ]
  },
  {
   "cell_type": "markdown",
   "id": "a70dc56f",
   "metadata": {
    "slideshow": {
     "slide_type": "slide"
    }
   },
   "source": [
    "<center>\n",
    "<img src=\"../images/ASSEMBLY-PGMV/ASSEMBLY-PGMV.007.png\" >\n",
    "</center>"
   ]
  },
  {
   "cell_type": "markdown",
   "id": "37c1e541",
   "metadata": {
    "slideshow": {
     "slide_type": "slide"
    }
   },
   "source": [
    "<center>\n",
    "<img src=\"../images/ASSEMBLY-PGMV/ASSEMBLY-PGMV.008.png\" >\n",
    "</center>"
   ]
  },
  {
   "cell_type": "markdown",
   "id": "dabda358",
   "metadata": {
    "slideshow": {
     "slide_type": "slide"
    }
   },
   "source": [
    "<center>\n",
    "<img src=\"../images/ASSEMBLY-PGMV/ASSEMBLY-PGMV.009.png\" >\n",
    "</center>"
   ]
  },
  {
   "cell_type": "markdown",
   "id": "7ddf7422",
   "metadata": {
    "slideshow": {
     "slide_type": "slide"
    }
   },
   "source": [
    "<center>\n",
    "<img src=\"../images/ASSEMBLY-PGMV/ASSEMBLY-PGMV.010.png\" >\n",
    "</center>"
   ]
  },
  {
   "cell_type": "markdown",
   "id": "7248bb59",
   "metadata": {
    "slideshow": {
     "slide_type": "slide"
    }
   },
   "source": [
    "<center>\n",
    "<img src=\"../images/ASSEMBLY-PGMV/ASSEMBLY-PGMV.011.png\" >\n",
    "</center>"
   ]
  },
  {
   "cell_type": "markdown",
   "id": "8fbf71a3",
   "metadata": {},
   "source": [
    "## Overview\n",
    "\n",
    "\n",
    "REMEMBER A DATA STRUCTURE ENDS UP AS ...\n",
    "\n",
    "- Bytes in memory\n",
    "   - At particular locations -- Memory Address\n",
    "   - taking up some number of **contiguous**  bytes\n",
    "- Intrinsic types : groups of bytes that the processor has built in \"interpretations\" for\n",
    "   - bit vectors of various lengths (1,2,4,8,16,...)\n",
    "   - signed and unsigned integers (1,2,4,8,16,...)\n",
    "   - floating point number (IEEE 754)\n",
    "- Complex data structures often are broken into pieces \n",
    "   - each piece connected to others \n",
    "   - connections formed via Addresses\n",
    "   - pieces record the address of the pieces it connects to\n",
    " "
   ]
  },
  {
   "cell_type": "markdown",
   "id": "cea2e061",
   "metadata": {
    "slideshow": {
     "slide_type": "slide"
    }
   },
   "source": [
    "<center>\n",
    "<img src=\"../images/ASSEMBLY-PGMV/ASSEMBLY-PGMV.012.png\" >\n",
    "</center>"
   ]
  },
  {
   "cell_type": "markdown",
   "id": "c75c1655",
   "metadata": {
    "slideshow": {
     "slide_type": "slide"
    }
   },
   "source": [
    "<center>\n",
    "<img src=\"../images/ASSEMBLY-PGMV/ASSEMBLY-PGMV.013.png\" >\n",
    "</center>"
   ]
  },
  {
   "cell_type": "markdown",
   "id": "8489a73f",
   "metadata": {
    "slideshow": {
     "slide_type": "slide"
    }
   },
   "source": [
    "<center>\n",
    "<img src=\"../images/ASSEMBLY-PGMV/ASSEMBLY-PGMV.014.png\" >\n",
    "</center>"
   ]
  },
  {
   "cell_type": "markdown",
   "id": "896689ff",
   "metadata": {
    "slideshow": {
     "slide_type": "slide"
    }
   },
   "source": [
    "<center>\n",
    "<img src=\"../images/ASSEMBLY-PGMV/ASSEMBLY-PGMV.015.png\" >\n",
    "</center>"
   ]
  },
  {
   "cell_type": "markdown",
   "id": "2c5a42e7",
   "metadata": {
    "slideshow": {
     "slide_type": "slide"
    }
   },
   "source": [
    "<center>\n",
    "<img src=\"../images/ASSEMBLY-PGMV/ASSEMBLY-PGMV.016.png\" >\n",
    "</center>"
   ]
  },
  {
   "cell_type": "markdown",
   "id": "974c43fa",
   "metadata": {
    "slideshow": {
     "slide_type": "slide"
    }
   },
   "source": [
    "<center>\n",
    "<img src=\"../images/ASSEMBLY-PGMV/ASSEMBLY-PGMV.017.png\" >\n",
    "</center>"
   ]
  },
  {
   "cell_type": "markdown",
   "id": "c0554eb3",
   "metadata": {
    "slideshow": {
     "slide_type": "slide"
    }
   },
   "source": [
    "<center>\n",
    "<img src=\"../images/ASSEMBLY-PGMV/ASSEMBLY-PGMV.018.png\" >\n",
    "</center>"
   ]
  },
  {
   "cell_type": "markdown",
   "id": "e934780f",
   "metadata": {
    "slideshow": {
     "slide_type": "slide"
    }
   },
   "source": [
    "<center>\n",
    "<img src=\"../images/ASSEMBLY-PGMV/ASSEMBLY-PGMV.019.png\" >\n",
    "</center>"
   ]
  },
  {
   "cell_type": "markdown",
   "id": "b0284948",
   "metadata": {
    "slideshow": {
     "slide_type": "slide"
    }
   },
   "source": [
    "<center>\n",
    "<img src=\"../images/ASSEMBLY-PGMV/ASSEMBLY-PGMV.020.png\" >\n",
    "</center>"
   ]
  },
  {
   "cell_type": "markdown",
   "id": "17a3ef73",
   "metadata": {
    "slideshow": {
     "slide_type": "slide"
    }
   },
   "source": [
    "<center>\n",
    "<img src=\"../images/ASSEMBLY-PGMV/ASSEMBLY-PGMV.021.png\" >\n",
    "</center>"
   ]
  },
  {
   "cell_type": "markdown",
   "id": "d2046884",
   "metadata": {
    "slideshow": {
     "slide_type": "slide"
    }
   },
   "source": [
    "<center>\n",
    "<img src=\"../images/ASSEMBLY-PGMV/ASSEMBLY-PGMV.022.png\" >\n",
    "</center>"
   ]
  },
  {
   "cell_type": "markdown",
   "id": "0c2862b8",
   "metadata": {
    "slideshow": {
     "slide_type": "slide"
    }
   },
   "source": [
    "<center>\n",
    "<img src=\"../images/ASSEMBLY-PGMV/ASSEMBLY-PGMV.023.png\" >\n",
    "</center>"
   ]
  },
  {
   "cell_type": "markdown",
   "id": "0d28e8ac",
   "metadata": {
    "slideshow": {
     "slide_type": "slide"
    }
   },
   "source": [
    "<center>\n",
    "<img src=\"../images/ASSEMBLY-PGMV/ASSEMBLY-PGMV.024.png\" >\n",
    "</center>"
   ]
  },
  {
   "cell_type": "markdown",
   "id": "a5807064",
   "metadata": {
    "slideshow": {
     "slide_type": "slide"
    }
   },
   "source": [
    "<center>\n",
    "<img src=\"../images/ASSEMBLY-PGMV/ASSEMBLY-PGMV.025.png\" >\n",
    "</center>"
   ]
  },
  {
   "cell_type": "markdown",
   "id": "fd529f03",
   "metadata": {
    "slideshow": {
     "slide_type": "slide"
    }
   },
   "source": [
    "<center>\n",
    "<img src=\"../images/ASSEMBLY-PGMV/ASSEMBLY-PGMV.026.png\" >\n",
    "</center>"
   ]
  },
  {
   "cell_type": "markdown",
   "id": "ad4eb6fd",
   "metadata": {
    "slideshow": {
     "slide_type": "slide"
    }
   },
   "source": [
    "<center>\n",
    "<img src=\"../images/ASSEMBLY-PGMV/ASSEMBLY-PGMV.027.png\" >\n",
    "</center>"
   ]
  },
  {
   "cell_type": "markdown",
   "id": "ac0de7d4",
   "metadata": {
    "slideshow": {
     "slide_type": "slide"
    }
   },
   "source": [
    "<center>\n",
    "<img src=\"../images/ASSEMBLY-PGMV/ASSEMBLY-PGMV.028.png\" >\n",
    "</center>"
   ]
  },
  {
   "cell_type": "markdown",
   "id": "683eb308",
   "metadata": {
    "slideshow": {
     "slide_type": "slide"
    }
   },
   "source": [
    "<center>\n",
    "<img src=\"../images/ASSEMBLY-PGMV/ASSEMBLY-PGMV.029.png\" >\n",
    "</center>"
   ]
  },
  {
   "cell_type": "markdown",
   "id": "2e187e0a",
   "metadata": {
    "slideshow": {
     "slide_type": "slide"
    }
   },
   "source": [
    "<center>\n",
    "<img src=\"../images/ASSEMBLY-PGMV/ASSEMBLY-PGMV.030.png\" >\n",
    "</center>"
   ]
  },
  {
   "cell_type": "markdown",
   "id": "d5a57e7d",
   "metadata": {
    "slideshow": {
     "slide_type": "slide"
    }
   },
   "source": [
    "<center>\n",
    "<img src=\"../images/ASSEMBLY-PGMV/ASSEMBLY-PGMV.031.png\" >\n",
    "</center>"
   ]
  },
  {
   "cell_type": "markdown",
   "id": "1f55799c",
   "metadata": {
    "slideshow": {
     "slide_type": "slide"
    }
   },
   "source": [
    "<center>\n",
    "<img src=\"../images/ASSEMBLY-PGMV/ASSEMBLY-PGMV.032.png\" >\n",
    "</center>"
   ]
  },
  {
   "cell_type": "markdown",
   "id": "09b7f006",
   "metadata": {
    "slideshow": {
     "slide_type": "slide"
    }
   },
   "source": [
    "<center>\n",
    "<img src=\"../images/ASSEMBLY-PGMV/ASSEMBLY-PGMV.033.png\" >\n",
    "</center>"
   ]
  },
  {
   "cell_type": "markdown",
   "id": "60f99e76",
   "metadata": {
    "slideshow": {
     "slide_type": "slide"
    }
   },
   "source": [
    "<center>\n",
    "<img src=\"../images/ASSEMBLY-PGMV/ASSEMBLY-PGMV.034.png\" >\n",
    "</center>"
   ]
  },
  {
   "cell_type": "markdown",
   "id": "09856977",
   "metadata": {
    "slideshow": {
     "slide_type": "slide"
    }
   },
   "source": [
    "<center>\n",
    "<img src=\"../images/ASSEMBLY-PGMV/ASSEMBLY-PGMV.035.png\" >\n",
    "</center>"
   ]
  },
  {
   "cell_type": "markdown",
   "id": "72b0e8c5",
   "metadata": {
    "slideshow": {
     "slide_type": "slide"
    }
   },
   "source": [
    "<center>\n",
    "<img src=\"../images/ASSEMBLY-PGMV/ASSEMBLY-PGMV.036.png\" >\n",
    "</center>"
   ]
  },
  {
   "cell_type": "markdown",
   "id": "87a049f6",
   "metadata": {
    "slideshow": {
     "slide_type": "slide"
    }
   },
   "source": [
    "<center>\n",
    "<img src=\"../images/ASSEMBLY-PGMV/ASSEMBLY-PGMV.037.png\" >\n",
    "</center>"
   ]
  },
  {
   "cell_type": "markdown",
   "id": "fba791b8",
   "metadata": {
    "slideshow": {
     "slide_type": "slide"
    }
   },
   "source": [
    "<center>\n",
    "<img src=\"../images/ASSEMBLY-PGMV/ASSEMBLY-PGMV.038.png\" >\n",
    "</center>"
   ]
  }
 ],
 "metadata": {
  "celltoolbar": "Slideshow",
  "hide_input": false,
  "kernelspec": {
   "display_name": "Python 3 (ipykernel)",
   "language": "python",
   "name": "python3"
  },
  "language_info": {
   "codemirror_mode": {
    "name": "ipython",
    "version": 3
   },
   "file_extension": ".py",
   "mimetype": "text/x-python",
   "name": "python",
   "nbconvert_exporter": "python",
   "pygments_lexer": "ipython3",
   "version": "3.9.6"
  },
  "rise": {
   "autolaunch": false,
   "enable_chalkboard": true,
   "footer": "UC-SLS -- Lecture 13",
   "header": "Assembly: Program Anatomy V",
   "height": "100%",
   "scroll": true,
   "start_slideshow_at": "selected",
   "theme": "black",
   "transition": "none",
   "width": "100%"
  }
 },
 "nbformat": 4,
 "nbformat_minor": 5
}
