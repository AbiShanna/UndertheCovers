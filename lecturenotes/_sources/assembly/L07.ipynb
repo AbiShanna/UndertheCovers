{
 "cells": [
  {
   "cell_type": "code",
   "execution_count": 19,
   "id": "67f6d9e5",
   "metadata": {
    "hide_input": false,
    "slideshow": {
     "slide_type": "skip"
    },
    "tags": [
     "remove-cell"
    ]
   },
   "outputs": [],
   "source": [
    "%run -i ../python/common.py\n",
    "UC_SKIPTERMS=True\n",
    "%run -i ../python/ln_preamble.py"
   ]
  },
  {
   "cell_type": "markdown",
   "id": "f971af4d-437a-4e31-9b2f-2339a3469b18",
   "metadata": {
    "cell_style": "center",
    "slideshow": {
     "slide_type": "slide"
    }
   },
   "source": [
    "# SLS Lecture 7 : Assembly Programming Introduction \n",
    "\n",
    "Processes and Binaries "
   ]
  },
  {
   "cell_type": "markdown",
   "id": "94cd3e49",
   "metadata": {
    "hide_input": true,
    "slideshow": {
     "slide_type": "slide"
    }
   },
   "source": [
    "## Revisit Processes"
   ]
  },
  {
   "cell_type": "code",
   "execution_count": 20,
   "id": "ef159efd",
   "metadata": {
    "hide_input": true,
    "tags": [
     "remove-input"
    ]
   },
   "outputs": [
    {
     "data": {
      "text/html": [
       "<!-- produced by: \n",
       "htmlFig(\"[[{'src': '/files/work/UndertheCovers/underthecovers/images/Processes/Processes.004.png'}, {'src': '/files/work/UndertheCovers/underthecovers/images/Processes/Processes.005.png'}]]\", \n",
       "        id=\"\", \n",
       "        align=\"center\", \n",
       "        width=\"100%\",\n",
       "        margin=\"auto auto auto auto\",\n",
       "        caption=\"\", \n",
       "        captionalign=\"left\")\n",
       "-->\n",
       "<table align=\"center\" width=\"100%\" cellpadding=\"0\" cellspacing=\"0\" border=\"0\" style=\"border-collapse: collapse; margin: auto auto auto auto\">\n",
       "    <tr style=\"padding: 0; margin: 0;\"> \n",
       "        <td colspan=\"1\" width=\"100%\" style=\"padding: 0; margin: 0 0 0 0; background-color:inherit;\">\n",
       "            <div style=\"padding: 0; margin: 0 0 0 0;\">\n",
       "              <figure style=\"padding: 0; margin: 0 0 0 0; width:100%;\">\n",
       "                   <img src=\"/files/work/UndertheCovers/underthecovers/images/Processes/Processes.004.png\" width=\"100%\" style=\"padding: 0; margin: 0;\">\n",
       "                </figure>\n",
       "            </div>\n",
       "        </td>\n",
       "        <td colspan=\"1\" width=\"100%\" style=\"padding: 0; margin: 0 0 0 0; background-color:inherit;\">\n",
       "            <div style=\"padding: 0; margin: 0 0 0 0;\">\n",
       "              <figure style=\"padding: 0; margin: 0 0 0 0; width:100%;\">\n",
       "                   <img src=\"/files/work/UndertheCovers/underthecovers/images/Processes/Processes.005.png\" width=\"100%\" style=\"padding: 0; margin: 0;\">\n",
       "                </figure>\n",
       "            </div>\n",
       "        </td>\n",
       "    </tr>\n",
       "</table>\n"
      ],
      "text/plain": [
       "<IPython.core.display.HTML object>"
      ]
     },
     "metadata": {},
     "output_type": "display_data"
    }
   ],
   "source": [
    "display(HTML(htmlFig(\n",
    "    [\n",
    "        [\n",
    "#            {'src':\"/files/work/UndertheCovers/underthecovers/images/Processes/Processes.003.png\",\n",
    "#             'caption':'A: Press Enter', \n",
    "#             'border': '1px solid black',\n",
    "#             'padding':'1px',\n",
    "#             'cellwidth':'33.33%'\n",
    "#            },\n",
    "            {'src':\"/files/work/UndertheCovers/underthecovers/images/Processes/Processes.004.png\",\n",
    "#             'caption':'B: Shell \"blank line\" input processing' , \n",
    "#             'border': '1px solid black',\n",
    "#             'padding':'1px',\n",
    "#             'cellwidth':'33.33%'\n",
    "            },\n",
    "            {'src':\"/files/work/UndertheCovers/underthecovers/images/Processes/Processes.005.png\",\n",
    "#             'caption':'C: Shell sends Prompt back', \n",
    "#             'border': '1px solid black',\n",
    "#             'padding':'1px',\n",
    "#             'cellwidth':'33.33%'\n",
    "            },\n",
    "        ]\n",
    "    ],\n",
    "#    id=\"fig:shell-blankline\",\n",
    "#    caption=\"<center> Figure: Shell blank line behavior </center>\"\n",
    ")))"
   ]
  },
  {
   "cell_type": "markdown",
   "id": "b7a0b44f",
   "metadata": {
    "slideshow": {
     "slide_type": "slide"
    }
   },
   "source": [
    "### A Process is a Running executable but what really is an executable???\n",
    "\n",
    "Let's see what we can figure out poking at the file a little "
   ]
  },
  {
   "cell_type": "code",
   "execution_count": 21,
   "id": "f308e8e1",
   "metadata": {
    "cell_style": "center",
    "hide_input": true,
    "tags": [
     "remove-input"
    ]
   },
   "outputs": [
    {
     "name": "stdout",
     "output_type": "stream",
     "text": [
      "$ ls -l /bin/ls\n",
      "-rwxr-xr-x 1 root root 142144 Sep  5  2019 \u001b[0m\u001b[01;32m/bin/ls\u001b[0m\r\n",
      "$ \n"
     ]
    }
   ],
   "source": [
    "TermShellCmd(\"ls -l /bin/ls\", markdown=False)"
   ]
  },
  {
   "cell_type": "markdown",
   "id": "c5765d12",
   "metadata": {},
   "source": [
    "- So it is marked as a executable \"x\" in the permissions bits\n",
    "- How big is it?\n",
    "- Lets see if we can look at its contents"
   ]
  },
  {
   "cell_type": "code",
   "execution_count": 38,
   "id": "b57bd8cd",
   "metadata": {
    "hide_input": false,
    "tags": [
     "remove-cell"
    ]
   },
   "outputs": [
    {
     "data": {
      "text/markdown": [
       "<b>Build</b>"
      ],
      "text/plain": [
       "<IPython.core.display.Markdown object>"
      ]
     },
     "metadata": {},
     "output_type": "display_data"
    }
   ],
   "source": [
    "display(showBT(\"\"))"
   ]
  },
  {
   "cell_type": "markdown",
   "id": "3c710894",
   "metadata": {
    "slideshow": {
     "slide_type": "slide"
    }
   },
   "source": [
    "Why did `cat /bin/ls` not help?"
   ]
  },
  {
   "cell_type": "markdown",
   "id": "2d0159fb",
   "metadata": {},
   "source": [
    "- Because whatever is in it its is not ASCII encode.\n",
    "\n",
    "How about looking trying to dump its contents by look at the values of its bytes\n",
    "  - there are several utilities that we can use to \"dump\" a file's contents \n",
    "    - These programs read the file and convert the bytes into ascii representations of the value for each byte\n",
    "        - you can use `man -k dump` to see commands that have the word dump in their names\n",
    "          - the one we will focus on are `xxd` but two others that are really useful are `od` (octal dump) and `hd` (hexdump)\n",
    "          "
   ]
  },
  {
   "cell_type": "code",
   "execution_count": 23,
   "id": "38c67fdb",
   "metadata": {
    "hide_input": false,
    "slideshow": {
     "slide_type": "slide"
    },
    "tags": [
     "remove-input"
    ]
   },
   "outputs": [
    {
     "name": "stdout",
     "output_type": "stream",
     "text": [
      "$ man xxd | head -20\n",
      "XXD(1)                      General Commands Manual                     XXD(1)\r\n",
      "\r\n",
      "NAME\r\n",
      "       xxd - make a hexdump or do the reverse.\r\n",
      "\r\n",
      "SYNOPSIS\r\n",
      "       xxd -h[elp]\r\n",
      "       xxd [options] [infile [outfile]]\r\n",
      "       xxd -r[evert] [options] [infile [outfile]]\r\n",
      "\r\n",
      "DESCRIPTION\r\n",
      "       xxd  creates a hex dump of a given file or standard input.  It can also\r\n",
      "       convert a hex dump back to its original binary form.  Like  uuencode(1)\r\n",
      "       and  uudecode(1)  it allows the transmission of binary data in a `mail-\r\n",
      "       safe' ASCII representation, but has the advantage of decoding to  stan‐\r\n",
      "       dard output.  Moreover, it can be used to perform binary file patching.\r\n",
      "\r\n",
      "OPTIONS\r\n",
      "       If  no infile is given, standard input is read.  If infile is specified\r\n",
      "       as a `-' character, then input is taken from  standard  input.   If  no\r\n",
      "$ \n"
     ]
    }
   ],
   "source": [
    "TermShellCmd(\"man xxd | head -20\", markdown=False)"
   ]
  },
  {
   "cell_type": "markdown",
   "id": "b3c19f08",
   "metadata": {
    "slideshow": {
     "slide_type": "slide"
    }
   },
   "source": [
    "#### Lets use xdd to look at the first 80 bytes of the /bin/ls \n",
    "\n",
    "First in hexadecimal notation and then in binary (base 2)\n",
    "\n",
    "xdd command to display first 80 bytes (-l 80) of the file in units/groups of 1 byte (-g 1) values with 8 units per line (-c 8):\n",
    "\n",
    "`xxd -l 80 -g 1 -c 8 /bin/ls` \n",
    "\n",
    "and \n",
    "\n",
    "same as above but using binary (base 2) notation (-b) for each value:\n",
    "\n",
    "`xxd -l 80 -g 1 -c 8 -b /bin/ls`"
   ]
  },
  {
   "cell_type": "code",
   "execution_count": 24,
   "id": "3421a1d2",
   "metadata": {
    "hide_input": false,
    "slideshow": {
     "slide_type": "slide"
    },
    "tags": [
     "remove-input"
    ]
   },
   "outputs": [
    {
     "name": "stdout",
     "output_type": "stream",
     "text": [
      "$ xxd -l 80 -g 1 -c 8 /bin/ls;xxd -l 80 -g 1 -c 8 -b /bin/ls\n",
      "00000000: 7f 45 4c 46 02 01 01 00  .ELF....\r\n",
      "00000008: 00 00 00 00 00 00 00 00  ........\r\n",
      "00000010: 03 00 3e 00 01 00 00 00  ..>.....\r\n",
      "00000018: d0 67 00 00 00 00 00 00  .g......\r\n",
      "00000020: 40 00 00 00 00 00 00 00  @.......\r\n",
      "00000028: c0 23 02 00 00 00 00 00  .#......\r\n",
      "00000030: 00 00 00 00 40 00 38 00  ....@.8.\r\n",
      "00000038: 0d 00 40 00 1e 00 1d 00  ..@.....\r\n",
      "00000040: 06 00 00 00 04 00 00 00  ........\r\n",
      "00000048: 40 00 00 00 00 00 00 00  @.......\r\n",
      "00000000: 01111111 01000101 01001100 01000110 00000010 00000001 00000001 00000000  .ELF....\r\n",
      "00000008: 00000000 00000000 00000000 00000000 00000000 00000000 00000000 00000000  ........\r\n",
      "00000010: 00000011 00000000 00111110 00000000 00000001 00000000 00000000 00000000  ..>.....\r\n",
      "00000018: 11010000 01100111 00000000 00000000 00000000 00000000 00000000 00000000  .g......\r\n",
      "00000020: 01000000 00000000 00000000 00000000 00000000 00000000 00000000 00000000  @.......\r\n",
      "00000028: 11000000 00100011 00000010 00000000 00000000 00000000 00000000 00000000  .#......\r\n",
      "00000030: 00000000 00000000 00000000 00000000 01000000 00000000 00111000 00000000  ....@.8.\r\n",
      "00000038: 00001101 00000000 01000000 00000000 00011110 00000000 00011101 00000000  ..@.....\r\n",
      "00000040: 00000110 00000000 00000000 00000000 00000100 00000000 00000000 00000000  ........\r\n",
      "00000048: 01000000 00000000 00000000 00000000 00000000 00000000 00000000 00000000  @.......\r\n",
      "$ \n"
     ]
    }
   ],
   "source": [
    "TermShellCmd(\"xxd -l 80 -g 1 -c 8 /bin/ls;xxd -l 80 -g 1 -c 8 -b /bin/ls\",  markdown=False)"
   ]
  },
  {
   "cell_type": "markdown",
   "id": "b18f61f2",
   "metadata": {
    "hide_input": false,
    "slideshow": {
     "slide_type": "slide"
    }
   },
   "source": [
    "Ok so while that's a cool party trick ... so what do they mean?\n",
    "What else can we do?\n",
    "- Lets see what the `file` command can tell us."
   ]
  },
  {
   "cell_type": "code",
   "execution_count": 25,
   "id": "d7ac62a2",
   "metadata": {
    "hide_input": false,
    "slideshow": {
     "slide_type": "slide"
    },
    "tags": [
     "remove-input"
    ]
   },
   "outputs": [
    {
     "name": "stdout",
     "output_type": "stream",
     "text": [
      "$ man file | head -20\n",
      "FILE(1)                   BSD General Commands Manual                  FILE(1)\r\n",
      "\r\n",
      "NAME\r\n",
      "     file — determine file type\r\n",
      "\r\n",
      "SYNOPSIS\r\n",
      "     file [-bcdEhiklLNnprsSvzZ0] [--apple] [--extension] [--mime-encoding]\r\n",
      "          [--mime-type] [-e testname] [-F separator] [-f namefile]\r\n",
      "          [-m magicfiles] [-P name=value] file ...\r\n",
      "     file -C [-m magicfiles]\r\n",
      "     file [--help]\r\n",
      "\r\n",
      "DESCRIPTION\r\n",
      "     This manual page documents version 5.38 of the file command.\r\n",
      "\r\n",
      "     file tests each argument in an attempt to classify it.  There are three\r\n",
      "     sets of tests, performed in this order: filesystem tests, magic tests,\r\n",
      "     and language tests.  The first test that succeeds causes the file type to\r\n",
      "     be printed.\r\n",
      "\r\n",
      "$ \n"
     ]
    }
   ],
   "source": [
    "TermShellCmd(\"man file | head -20\", markdown=False)"
   ]
  },
  {
   "cell_type": "code",
   "execution_count": 26,
   "id": "9c30da68",
   "metadata": {
    "hide_input": false,
    "slideshow": {
     "slide_type": "slide"
    },
    "tags": [
     "remove-input"
    ]
   },
   "outputs": [
    {
     "name": "stdout",
     "output_type": "stream",
     "text": [
      "$ file /bin/ls\n",
      "/bin/ls: ELF 64-bit LSB shared object, x86-64, version 1 (SYSV), dynamically linked, interpreter /lib64/ld-linux-x86-64.so.2, BuildID[sha1]=2f15ad836be3339dec0e2e6a3c637e08e48aacbd, for GNU/Linux 3.2.0, stripped\r\n",
      "$ \n"
     ]
    }
   ],
   "source": [
    "TermShellCmd(\"file /bin/ls\", markdown=False)"
   ]
  },
  {
   "cell_type": "markdown",
   "id": "ee756497",
   "metadata": {
    "slideshow": {
     "slide_type": "slide"
    }
   },
   "source": [
    "Ok it is an ELF file let's see what, if anything, the manual has to say about `elf`."
   ]
  },
  {
   "cell_type": "code",
   "execution_count": 27,
   "id": "6137ba65",
   "metadata": {
    "hide_input": true,
    "slideshow": {
     "slide_type": "slide"
    },
    "tags": [
     "remove-input"
    ]
   },
   "outputs": [
    {
     "name": "stdout",
     "output_type": "stream",
     "text": [
      "$ man elf | head -20\n",
      "ELF(5)                     Linux Programmer's Manual                    ELF(5)\r\n",
      "\r\n",
      "NAME\r\n",
      "       elf - format of Executable and Linking Format (ELF) files\r\n",
      "\r\n",
      "SYNOPSIS\r\n",
      "       #include <elf.h>\r\n",
      "\r\n",
      "DESCRIPTION\r\n",
      "       The  header  file  <elf.h>  defines the format of ELF executable binary\r\n",
      "       files.  Amongst these files are normal  executable  files,  relocatable\r\n",
      "       object files, core files, and shared objects.\r\n",
      "\r\n",
      "       An executable file using the ELF file format consists of an ELF header,\r\n",
      "       followed by a program header table or a section header table, or  both.\r\n",
      "       The  ELF  header  is  always  at  offset zero of the file.  The program\r\n",
      "       header table and the section header table's offset in the file are  de‐\r\n",
      "       fined  in the ELF header.  The two tables describe the rest of the par‐\r\n",
      "       ticularities of the file.\r\n",
      "\r\n",
      "$ \n"
     ]
    }
   ],
   "source": [
    "TermShellCmd(\"man elf | head -20\", markdown=False)"
   ]
  },
  {
   "cell_type": "markdown",
   "id": "9dd2eddb",
   "metadata": {
    "slideshow": {
     "slide_type": "slide"
    }
   },
   "source": [
    "We could keep going down this road to poke at its contents using command designed to decode the elf file and dump information about it \n",
    "\n",
    "`readelf --all /bin/ls`\n",
    "\n",
    "`objdump --all /bin/ls`\n",
    "\n",
    "But let's try another approach before we stand back and put the pieces together.\n",
    "\n",
    "Let's lookup what the OS kernel function for \"executing\" a binary file has to say\n"
   ]
  },
  {
   "cell_type": "code",
   "execution_count": 37,
   "id": "72867439",
   "metadata": {
    "hide_input": true,
    "slideshow": {
     "slide_type": "slide"
    },
    "tags": [
     "remove-input"
    ]
   },
   "outputs": [
    {
     "name": "stdout",
     "output_type": "stream",
     "text": [
      "$ man 3 exec | head -30\n",
      "EXEC(3)                    Linux Programmer's Manual                   EXEC(3)\r\n",
      "\r\n",
      "NAME\r\n",
      "       execl, execlp, execle, execv, execvp, execvpe - execute a file\r\n",
      "\r\n",
      "SYNOPSIS\r\n",
      "       #include <unistd.h>\r\n",
      "\r\n",
      "       extern char **environ;\r\n",
      "\r\n",
      "       int execl(const char *pathname, const char *arg, ...\r\n",
      "                       /* (char  *) NULL */);\r\n",
      "       int execlp(const char *file, const char *arg, ...\r\n",
      "                       /* (char  *) NULL */);\r\n",
      "       int execle(const char *pathname, const char *arg, ...\r\n",
      "                       /*, (char *) NULL, char *const envp[] */);\r\n",
      "       int execv(const char *pathname, char *const argv[]);\r\n",
      "       int execvp(const char *file, char *const argv[]);\r\n",
      "       int execvpe(const char *file, char *const argv[],\r\n",
      "                       char *const envp[]);\r\n",
      "\r\n",
      "   Feature Test Macro Requirements for glibc (see feature_test_macros(7)):\r\n",
      "\r\n",
      "       execvpe(): _GNU_SOURCE\r\n",
      "\r\n",
      "DESCRIPTION\r\n",
      "       The  exec() family of functions replaces the current process image with\r\n",
      "       a new process image.  The functions described in this manual  page  are\r\n",
      "       front-ends  for execve(2).  (See the manual page for execve(2) for fur‐\r\n",
      "       ther details about the replacement of the current process image.)\r\n",
      "$ \n"
     ]
    }
   ],
   "source": [
    "TermShellCmd(\"man 3 exec | head -30\", markdown=False)"
   ]
  },
  {
   "cell_type": "code",
   "execution_count": 29,
   "id": "11b12050",
   "metadata": {
    "hide_input": true,
    "slideshow": {
     "slide_type": "slide"
    },
    "tags": [
     "remove-input"
    ]
   },
   "outputs": [
    {
     "name": "stdout",
     "output_type": "stream",
     "text": [
      "$ man 2 execve | head -21\n",
      "EXECVE(2)                  Linux Programmer's Manual                 EXECVE(2)\r\n",
      "\r\n",
      "NAME\r\n",
      "       execve - execute program\r\n",
      "\r\n",
      "SYNOPSIS\r\n",
      "       #include <unistd.h>\r\n",
      "\r\n",
      "       int execve(const char *pathname, char *const argv[],\r\n",
      "                  char *const envp[]);\r\n",
      "\r\n",
      "DESCRIPTION\r\n",
      "       execve() executes the program referred to by pathname.  This causes the\r\n",
      "       program that is currently being run by the calling process  to  be  re‐\r\n",
      "       placed  with  a  new  program,  with newly initialized stack, heap, and\r\n",
      "       (initialized and uninitialized) data segments.\r\n",
      "\r\n",
      "       pathname must be either a binary executable, or a script starting  with\r\n",
      "       a line of the form:\r\n",
      "\r\n",
      "           #!interpreter [optional-arg]\r\n",
      "$ \n"
     ]
    }
   ],
   "source": [
    "TermShellCmd(\"man 2 execve | head -21\", markdown=False)"
   ]
  },
  {
   "cell_type": "markdown",
   "id": "65b04ce9",
   "metadata": {
    "slideshow": {
     "slide_type": "slide"
    }
   },
   "source": [
    "## Executables as \"Process Images\" "
   ]
  },
  {
   "cell_type": "markdown",
   "id": "258a11b5",
   "metadata": {},
   "source": [
    "Remember what the Hardware looks like.\n",
    "\n",
    "<img src=\"/files/work/UndertheCovers/underthecovers/images/HW.png\">\n",
    "\n",
    "Remember that the OS Kernel is designed to make it easier to use the hardware to run programs.\n",
    "\n",
    "Now we need to dig into this idea more carefully.  "
   ]
  },
  {
   "cell_type": "markdown",
   "id": "44a47cb6",
   "metadata": {
    "slideshow": {
     "slide_type": "slide"
    }
   },
   "source": [
    "### Processes As CPU and Memory context \n",
    "\n",
    "A process is the way that the Operating System let our programs use the CPU and Memory in a controlled way.\n",
    "\n",
    "Each Process is independent \"Context\" to execute program.  Where a context provides a program with its own view of Memory and the CPU"
   ]
  },
  {
   "cell_type": "markdown",
   "id": "e66a5403",
   "metadata": {
    "slideshow": {
     "slide_type": "slide"
    }
   },
   "source": [
    "<img src=\"/files/work/UndertheCovers/underthecovers/images/ProcessContexts.png\">"
   ]
  },
  {
   "cell_type": "markdown",
   "id": "0e927778",
   "metadata": {
    "slideshow": {
     "slide_type": "slide"
    }
   },
   "source": [
    "### Process as a Context for using the CPU and Memory\n",
    "\n",
    "A process is a way for us to use the CPU and memory through the programs we write \n",
    "  - But not the I/O devices -- Only the OS can directly access the I/O devices\n",
    "    - as we will see later the only way for our programs to do I/O will be to OS calls\n",
    "\n",
    "\n",
    "To understand what we are doing when we write assembly code to create a program \n",
    "  - we need to understand how the CPU works and Memory together as programmable system"
   ]
  },
  {
   "cell_type": "markdown",
   "id": "652bcc4b",
   "metadata": {
    "slideshow": {
     "slide_type": "slide"
    }
   },
   "source": [
    "<img src=\"/files/work/UndertheCovers/underthecovers/images//ASSEMBLY-VNA-THECPU/ASSEMBLY-VNA-THECPU.003.png\">"
   ]
  },
  {
   "cell_type": "markdown",
   "id": "924962de",
   "metadata": {
    "slideshow": {
     "slide_type": "notes"
    }
   },
   "source": [
    "Let's start with a quick overview of the basic Von Neumman computer model and how the CPU and memory work together.  "
   ]
  },
  {
   "cell_type": "markdown",
   "id": "dc7547e1",
   "metadata": {
    "slideshow": {
     "slide_type": "slide"
    }
   },
   "source": [
    "<img src=\"/files/work/UndertheCovers/underthecovers/images/ASSEMBLY-VNA-THECPU/ASSEMBLY-VNA-THECPU.005.png\">"
   ]
  },
  {
   "cell_type": "markdown",
   "id": "a4cd0839",
   "metadata": {
    "slideshow": {
     "slide_type": "slide"
    }
   },
   "source": [
    "<img src=\"/files/work/UndertheCovers/underthecovers/images/ASSEMBLY-VNA-THECPU/ASSEMBLY-VNA-THECPU.007.png\">"
   ]
  },
  {
   "cell_type": "markdown",
   "id": "c86f28c1",
   "metadata": {
    "slideshow": {
     "slide_type": "slide"
    }
   },
   "source": [
    "<img src=\"/files/work/UndertheCovers/underthecovers/images/ASSEMBLY-VNA-THECPU/ASSEMBLY-VNA-THECPU.008.png\">"
   ]
  },
  {
   "cell_type": "markdown",
   "id": "5d2465e5",
   "metadata": {
    "slideshow": {
     "slide_type": "slide"
    }
   },
   "source": [
    "<img src=\"/files/work/UndertheCovers/underthecovers/images/ASSEMBLY-VNA-THECPU/ASSEMBLY-VNA-THECPU.009.png\">"
   ]
  },
  {
   "cell_type": "markdown",
   "id": "0eb0b82a",
   "metadata": {
    "slideshow": {
     "slide_type": "slide"
    }
   },
   "source": [
    "<img src=\"/files/work/UndertheCovers/underthecovers/images/ASSEMBLY-VNA-THECPU/ASSEMBLY-VNA-THECPU.010.png\">"
   ]
  },
  {
   "cell_type": "markdown",
   "id": "d930e94e",
   "metadata": {
    "slideshow": {
     "slide_type": "slide"
    }
   },
   "source": [
    "<img src=\"/files/work/UndertheCovers/underthecovers/images/ASSEMBLY-VNA-THECPU/ASSEMBLY-VNA-THECPU.011.png\">"
   ]
  },
  {
   "cell_type": "markdown",
   "id": "cd2863df",
   "metadata": {
    "slideshow": {
     "slide_type": "slide"
    }
   },
   "source": [
    "<img src=\"/files/work/UndertheCovers/underthecovers/images/ASSEMBLY-VNA-THECPU/ASSEMBLY-VNA-THECPU.012.png\">"
   ]
  },
  {
   "cell_type": "markdown",
   "id": "b6060958",
   "metadata": {
    "slideshow": {
     "slide_type": "slide"
    }
   },
   "source": [
    "<img src=\"/files/work/UndertheCovers/underthecovers/images/ASSEMBLY-VNA-THECPU/ASSEMBLY-VNA-THECPU.013.png\">"
   ]
  },
  {
   "cell_type": "markdown",
   "id": "fddfd3f7",
   "metadata": {
    "slideshow": {
     "slide_type": "slide"
    }
   },
   "source": [
    "<img src=\"/files/work/UndertheCovers/underthecovers/images/ASSEMBLY-VNA-THECPU/ASSEMBLY-VNA-THECPU.014.png\">"
   ]
  },
  {
   "cell_type": "markdown",
   "id": "e5ab8061",
   "metadata": {
    "slideshow": {
     "slide_type": "slide"
    }
   },
   "source": [
    "<img src=\"/files/work/UndertheCovers/underthecovers/images/ASSEMBLY-VNA-THECPU/ASSEMBLY-VNA-THECPU.015.png\">"
   ]
  },
  {
   "cell_type": "markdown",
   "id": "a2bfcfc0",
   "metadata": {
    "slideshow": {
     "slide_type": "slide"
    }
   },
   "source": [
    "<img src=\"/files/work/UndertheCovers/underthecovers/images/ASSEMBLY-VNA-THECPU/ASSEMBLY-VNA-THECPU.016.png\">"
   ]
  },
  {
   "cell_type": "markdown",
   "id": "dfa26fdc",
   "metadata": {
    "slideshow": {
     "slide_type": "slide"
    }
   },
   "source": [
    "<img src=\"/files/work/UndertheCovers/underthecovers/images/ASSEMBLY-VNA-THECPU/ASSEMBLY-VNA-THECPU.017.png\">"
   ]
  },
  {
   "cell_type": "markdown",
   "id": "e228bf44",
   "metadata": {
    "slideshow": {
     "slide_type": "slide"
    }
   },
   "source": [
    "<img src=\"/files/work/UndertheCovers/underthecovers/images/ASSEMBLY-VNA-THECPU/ASSEMBLY-VNA-THECPU.018.png\">"
   ]
  },
  {
   "cell_type": "markdown",
   "id": "be5a6cf8",
   "metadata": {
    "slideshow": {
     "slide_type": "slide"
    }
   },
   "source": [
    "<img src=\"/files/work/UndertheCovers/underthecovers/images/ASSEMBLY-VNA-THECPU/ASSEMBLY-VNA-THECPU.019.png\">"
   ]
  },
  {
   "cell_type": "markdown",
   "id": "22a56c24",
   "metadata": {
    "slideshow": {
     "slide_type": "slide"
    }
   },
   "source": [
    "<img src=\"/files/work/UndertheCovers/underthecovers/images/ASSEMBLY-VNA-THECPU/ASSEMBLY-VNA-THECPU.020.png\">"
   ]
  },
  {
   "cell_type": "markdown",
   "id": "373d7e47",
   "metadata": {
    "slideshow": {
     "slide_type": "slide"
    }
   },
   "source": [
    "<img src=\"/files/work/UndertheCovers/underthecovers/images/ASSEMBLY-VNA-THECPU/ASSEMBLY-VNA-THECPU.021.png\">"
   ]
  },
  {
   "cell_type": "markdown",
   "id": "9275a339",
   "metadata": {
    "slideshow": {
     "slide_type": "slide"
    }
   },
   "source": [
    "<img src=\"/files/work/UndertheCovers/underthecovers/images/ASSEMBLY-VNA-THECPU/ASSEMBLY-VNA-THECPU.022.png\">"
   ]
  },
  {
   "cell_type": "markdown",
   "id": "a4d6ab3e",
   "metadata": {
    "slideshow": {
     "slide_type": "slide"
    }
   },
   "source": [
    "<img src=\"/files/work/UndertheCovers/underthecovers/images/ASSEMBLY-VNA-THECPU/ASSEMBLY-VNA-THECPU.023.png\">"
   ]
  },
  {
   "cell_type": "markdown",
   "id": "d806ff49",
   "metadata": {
    "slideshow": {
     "slide_type": "slide"
    }
   },
   "source": [
    "<img src=\"/files/work/UndertheCovers/underthecovers/images/ASSEMBLY-VNA-THECPU/ASSEMBLY-VNA-THECPU.024.png\">"
   ]
  },
  {
   "cell_type": "markdown",
   "id": "a45cc1fa",
   "metadata": {
    "slideshow": {
     "slide_type": "slide"
    }
   },
   "source": [
    "<img src=\"/files/work/UndertheCovers/underthecovers/images/ASSEMBLY-VNA-THECPU/ASSEMBLY-VNA-THECPU.025.png\">"
   ]
  },
  {
   "cell_type": "markdown",
   "id": "02de39d8",
   "metadata": {
    "slideshow": {
     "slide_type": "slide"
    }
   },
   "source": [
    "<img src=\"/files/work/UndertheCovers/underthecovers/images/ASSEMBLY-VNA-THECPU/ASSEMBLY-VNA-THECPU.026.png\">"
   ]
  },
  {
   "cell_type": "markdown",
   "id": "1a6232e0",
   "metadata": {
    "slideshow": {
     "slide_type": "slide"
    }
   },
   "source": [
    "<img src=\"/files/work/UndertheCovers/underthecovers/images/ASSEMBLY-VNA-THECPU/ASSEMBLY-VNA-THECPU.027.png\">"
   ]
  },
  {
   "cell_type": "markdown",
   "id": "6b4e5b0a",
   "metadata": {
    "slideshow": {
     "slide_type": "slide"
    }
   },
   "source": [
    "<img src=\"/files/work/UndertheCovers/underthecovers/images/ASSEMBLY-VNA-THECPU/ASSEMBLY-VNA-THECPU.028.png\">"
   ]
  },
  {
   "cell_type": "markdown",
   "id": "cf576dbd",
   "metadata": {
    "slideshow": {
     "slide_type": "slide"
    }
   },
   "source": [
    "<img src=\"/files/work/UndertheCovers/underthecovers/images/ASSEMBLY-VNA-THECPU/ASSEMBLY-VNA-THECPU.029.png\">"
   ]
  },
  {
   "cell_type": "markdown",
   "id": "4a9cd4b1",
   "metadata": {
    "slideshow": {
     "slide_type": "slide"
    }
   },
   "source": [
    "<img src=\"/files/work/UndertheCovers/underthecovers/images/ASSEMBLY-VNA-THECPU/ASSEMBLY-VNA-THECPU.030.png\">"
   ]
  },
  {
   "cell_type": "markdown",
   "id": "b800e0ae",
   "metadata": {
    "slideshow": {
     "slide_type": "slide"
    }
   },
   "source": [
    "<img src=\"/files/work/UndertheCovers/underthecovers/images/ASSEMBLY-VNA-THECPU/ASSEMBLY-VNA-THECPU.031.png\">"
   ]
  },
  {
   "cell_type": "markdown",
   "id": "4c03291b",
   "metadata": {
    "slideshow": {
     "slide_type": "slide"
    }
   },
   "source": [
    "<img src=\"/files/work/UndertheCovers/underthecovers/images/ASSEMBLY-VNA-THECPU/ASSEMBLY-VNA-THECPU.032.png\">"
   ]
  },
  {
   "cell_type": "markdown",
   "id": "3c6e7261",
   "metadata": {
    "slideshow": {
     "slide_type": "slide"
    }
   },
   "source": [
    "<img src=\"/files/work/UndertheCovers/underthecovers/images/ASSEMBLY-VNA-THECPU/ASSEMBLY-VNA-THECPU.033.png\">"
   ]
  },
  {
   "cell_type": "markdown",
   "id": "dbdc119d",
   "metadata": {
    "slideshow": {
     "slide_type": "slide"
    }
   },
   "source": [
    "So a Process is :\n",
    "- an OS provided context that lets us \n",
    "  - direct the CPU via a binary program file \n",
    "    - that is loaded into the RAM memory array when we \"run\" it! (exec)\n",
    "- A binary \"contains\" the initial contents of memory that the OS loads into our process's memory. \n",
    "  - \"memory image\" -- the exact byte values and where they go into memory\n",
    "- A process's memory is called the process's address space.  "
   ]
  },
  {
   "cell_type": "markdown",
   "id": "84964aa1",
   "metadata": {
    "slideshow": {
     "slide_type": "slide"
    }
   },
   "source": [
    "## The Tools and how to use them\n",
    "\n",
    "1. Preparing / creating binaries \n",
    "  1. Assembler: Tool that translates a programmer's description of what to put into memory into fragments of an executable file \n",
    "  2. Linker: Tool that combines the fragments into an complete executable that the OS can load\n",
    "2. Process inspection and manipulation\n",
    "  1. A Debugger that allows us to look at and control a Process "
   ]
  },
  {
   "cell_type": "markdown",
   "id": "30810bb6",
   "metadata": {
    "slideshow": {
     "slide_type": "slide"
    }
   },
   "source": [
    "### Assembler and Linker"
   ]
  },
  {
   "cell_type": "markdown",
   "id": "98006a20",
   "metadata": {
    "hide_input": true,
    "slideshow": {
     "slide_type": "slide"
    }
   },
   "source": [
    "<center>\n",
    "<img src=\"/files/work/UndertheCovers/underthecovers/images/ASSEMBLY-VNA-SOFTWARE/ASSEMBLY-VNA-SOFTWARE.026.png\" width=\"100%\">\n",
    "</center>"
   ]
  },
  {
   "cell_type": "markdown",
   "id": "cff734e2",
   "metadata": {
    "slideshow": {
     "slide_type": "slide"
    }
   },
   "source": [
    "<center>\n",
    "<img src=\"/files/work/UndertheCovers/underthecovers/images/ASSEMBLY-VNA-SOFTWARE/ASSEMBLY-VNA-SOFTWARE.027.png\" width=\"100%\">\n",
    "</center>"
   ]
  },
  {
   "cell_type": "markdown",
   "id": "66447f20",
   "metadata": {
    "slideshow": {
     "slide_type": "slide"
    }
   },
   "source": [
    "<center>\n",
    "<img src=\"/files/work/UndertheCovers/underthecovers/images/ASSEMBLY-VNA-SOFTWARE/ASSEMBLY-VNA-SOFTWARE.028.png\" width=\"100%\">\n",
    "</center>"
   ]
  },
  {
   "cell_type": "markdown",
   "id": "4b5f24df",
   "metadata": {
    "slideshow": {
     "slide_type": "slide"
    }
   },
   "source": [
    "<center>\n",
    "<img src=\"/files/work/UndertheCovers/underthecovers/images/ASSEMBLY-VNA-SOFTWARE/ASSEMBLY-VNA-SOFTWARE.029.png\" width=\"100%\">\n",
    "</center>"
   ]
  },
  {
   "cell_type": "markdown",
   "id": "13dc6276",
   "metadata": {
    "slideshow": {
     "slide_type": "slide"
    }
   },
   "source": [
    "<center>\n",
    "<img src=\"/files/work/UndertheCovers/underthecovers/images/ASSEMBLY-VNA-SOFTWARE/ASSEMBLY-VNA-SOFTWARE.030.png\" width=\"100%\">\n",
    "</center>    "
   ]
  },
  {
   "cell_type": "markdown",
   "id": "8fbb525b",
   "metadata": {
    "slideshow": {
     "slide_type": "slide"
    }
   },
   "source": [
    "### Debugger\n",
    "\n",
    "Provides us a way of looking inside a process, freezing its execution, examining and modify the cpu registers and memory. "
   ]
  },
  {
   "cell_type": "markdown",
   "id": "9db1c9bf",
   "metadata": {
    "slideshow": {
     "slide_type": "slide"
    }
   },
   "source": [
    "<img src=\"/files/work/UndertheCovers/underthecovers/images/gdbsurgery/gdbsurgery.001.png\">"
   ]
  },
  {
   "cell_type": "markdown",
   "id": "db27858d",
   "metadata": {
    "slideshow": {
     "slide_type": "slide"
    }
   },
   "source": [
    "<img src=\"/files/work/UndertheCovers/underthecovers/images/gdbsurgery/gdbsurgery.002.png\">"
   ]
  },
  {
   "cell_type": "markdown",
   "id": "1198f5de",
   "metadata": {
    "slideshow": {
     "slide_type": "slide"
    }
   },
   "source": [
    "<img src=\"/files/work/UndertheCovers/underthecovers/images/gdbProcess.png\">"
   ]
  },
  {
   "cell_type": "markdown",
   "id": "54833056",
   "metadata": {
    "cell_style": "center"
   },
   "source": [
    "### GDB Manual\n",
    "\n",
    "https://www.gnu.org/software/gdb/documentation/\n"
   ]
  },
  {
   "cell_type": "code",
   "execution_count": 30,
   "id": "e2f888bb",
   "metadata": {
    "cell_style": "split",
    "hide_input": true,
    "slideshow": {
     "slide_type": "slide"
    },
    "tags": [
     "remove-cell"
    ]
   },
   "outputs": [
    {
     "data": {
      "text/markdown": [
       "<b>Edit</b>"
      ],
      "text/plain": [
       "<IPython.core.display.Markdown object>"
      ]
     },
     "metadata": {},
     "output_type": "display_data"
    }
   ],
   "source": [
    "display(showET(\"Editor\"))"
   ]
  },
  {
   "cell_type": "code",
   "execution_count": 31,
   "id": "ca5bc5bb",
   "metadata": {
    "cell_style": "split",
    "hide_input": false,
    "slideshow": {
     "slide_type": "-"
    },
    "tags": [
     "remove-input"
    ]
   },
   "outputs": [
    {
     "data": {
      "text/markdown": [
       "<b>CODE: asm - The 'Empty' assembly program\n",
       "<div style=\"width:107em; height:100%; font-size:inherit; overflow: auto;\" >\n",
       "\n",
       "\n",
       "``` gas\n",
       "/*  General antomy of a assembly program line\n",
       "[lablel]:   <directive or opcode> [operands]  // comment\n",
       "*/\n",
       "\t.intel_syntax noprefix        // assembler syntax to use <directive>\n",
       "\t                              // set assembly language format to intel  \n",
       "\n",
       "\t.text                         // linker section <directive>\n",
       "\t                              // let the linker know that what follows are cpu instructions to\n",
       "\t                              // to be executed -- uposed to values that represent data.\n",
       "\t                              // For historical reasons cpu instructions are called \"text\"\n",
       "\t                         \n",
       "\t.global _start                // linker symbol type <directive> \n",
       "\t                              // makes the symbol _start in this case visible to the linker\n",
       "\t                              // The linker looks for an _start symbol so that it knows address\n",
       "\t                              // of the first instruction of our program\n",
       "\n",
       "_start:                               // introduce a symbolic (human readable) label for \"this\" address\n",
       "\t                              // associates the address of this point in our program with the\n",
       "      \t                              // name following the ':' -- in our case _start\n",
       "\t                              // In our program or in the debugger we can use this name to\n",
       "\t                              // to refer to this location -- address.  And thus the values\n",
       "\t                              // that end up here.\n",
       "\t.byte 0x00, 0x00, 0x00, 0x00  // .byte directive place value at successive locations in memory\n",
       "\t                              // (https://sourceware.org/binutils/docs/as/Byte.html#Byte)\n",
       "\n",
       "```\n",
       "\n",
       "\n",
       "</div>\n"
      ],
      "text/plain": [
       "<IPython.core.display.Markdown object>"
      ]
     },
     "metadata": {},
     "output_type": "display_data"
    }
   ],
   "source": [
    "display(Markdown(FileCodeBox(\n",
    "    file=\"../src/empty.S\", \n",
    "    lang=\"gas\", \n",
    "    title=\"<b>CODE: asm - The 'Empty' assembly program\",\n",
    "    h=\"100%\", \n",
    "    w=\"107em\"\n",
    ")))"
   ]
  },
  {
   "cell_type": "code",
   "execution_count": 32,
   "id": "c7ffa1ff",
   "metadata": {
    "cell_style": "center",
    "hide_input": false,
    "slideshow": {
     "slide_type": "-"
    },
    "tags": [
     "remove-cell"
    ]
   },
   "outputs": [
    {
     "data": {
      "text/markdown": [
       "<b>Build</b>"
      ],
      "text/plain": [
       "<IPython.core.display.Markdown object>"
      ]
     },
     "metadata": {},
     "output_type": "display_data"
    }
   ],
   "source": [
    "display(showBT(\"Build\"))"
   ]
  },
  {
   "cell_type": "code",
   "execution_count": 33,
   "id": "79b1c329",
   "metadata": {
    "cell_style": "center",
    "hide_input": false,
    "tags": [
     "remove-input"
    ]
   },
   "outputs": [
    {
     "data": {
      "text/markdown": [
       "<b>NOTES: on building empty\n",
       "<div style=\"width:100%; height:15em; font-size:inherit; overflow: auto;\" >\n",
       "\n",
       "\n",
       "``` shell\n",
       "# To assemble and link the code we will use the following command:\n",
       "gcc --static -g -nostartfiles -nostdlib -Wl,--build-id=none -Wa,-alh -Xlinker -Map=empty.map empty.S -o empty > empty.lst\n",
       "\n",
       "# ok lets see what happened\n",
       "ls\n",
       "\n",
       "# lets see what's in empty.lst\n",
       "cat empty.lst\n",
       "\n",
       "\n",
       "# lets examine this elf file\n",
       "file empty\n",
       "ls -l empty\n",
       "\n",
       "# still pretty big given that we only asked to load 4 bytes of zeros into memory\n",
       "# all the other stuff necessary to describe to the OS and other tools the program image\n",
       "\n",
       "# use objdump tool to print out ascii data from the executable file\n",
       "# -s\n",
       "# --full-contents\n",
       "# Display the full contents of any sections requested. By default all non-empty\n",
       "# sections are displayed.\n",
       "objdump -s empty\n",
       "\n",
       "# Display the symbol table the locations that each \"symbol\" got assigned to by the linker\n",
       "#  This is the kind of extra information that make the elf file larger than just the contents\n",
       "#  note where _start got assigned to\n",
       "objdump -t empty\n",
       "\n",
       "# ok lets got to the debugger\n",
       "\n",
       "```\n",
       "\n",
       "\n",
       "</div>\n"
      ],
      "text/plain": [
       "<IPython.core.display.Markdown object>"
      ]
     },
     "metadata": {},
     "output_type": "display_data"
    }
   ],
   "source": [
    "display(Markdown(FileCodeBox(\n",
    "    file=\"empty_build.sh\", \n",
    "    lang=\"shell\", \n",
    "    title=\"<b>NOTES: on building empty\", \n",
    "    h=\"15em\", \n",
    "    w=\"100%\")))"
   ]
  },
  {
   "cell_type": "markdown",
   "id": "ea6b6c5e",
   "metadata": {
    "slideshow": {
     "slide_type": "notes"
    }
   },
   "source": [
    "The OS lets us have access to parts of the CPU and Memory via a Process.  For everything else we will need to make calls to the OS Kernel functions to do.  \n",
    "\n",
    "Let's use the standard tools to build a \"empty\" binary, create a process from it and use gdb to explore the parts of the machine that a Process lets us control.  Eg  use the debugger to read, write memory, explore the internals of the cpu and control it!\n",
    "\n",
    "setup\n",
    "```\n",
    "cd\n",
    "mkdir empty\n",
    "cd empty\n",
    "git init\n",
    "git remote add cs400 git@cs400-gitlab.bu.edu:jappavoo/empty.git\n",
    "echo \"hello\" > empty.S\n",
    "git add empty.S\n",
    "git commit -a -m \"init: seeding repo\"\n",
    "git push cs400 master\n",
    "```\n",
    "\n",
    "lets write some code!!!!\n",
    "\n",
    "`.fill` can be used to fill memory ;-) `repeat, size, value`\n",
    "\n",
    "``` gas\n",
    "      .fill 16, 1, 0x00             // .fill directive fills memory with n copies of values\n",
    "                                    // (https://sourceware.org/binutils/docs/as/Fill.html#Fill)\n",
    "```\n"
   ]
  },
  {
   "cell_type": "code",
   "execution_count": 34,
   "id": "4042b99b",
   "metadata": {
    "hide_input": true,
    "slideshow": {
     "slide_type": "-"
    },
    "tags": [
     "remove-cell"
    ]
   },
   "outputs": [
    {
     "data": {
      "text/markdown": [
       "<b>Debug</b>"
      ],
      "text/plain": [
       "<IPython.core.display.Markdown object>"
      ]
     },
     "metadata": {},
     "output_type": "display_data"
    }
   ],
   "source": [
    "display(showDT(\"Debugger\"))"
   ]
  },
  {
   "cell_type": "code",
   "execution_count": 35,
   "id": "47727bac",
   "metadata": {
    "cell_style": "center",
    "hide_input": true,
    "scrolled": false,
    "tags": [
     "remove-input"
    ]
   },
   "outputs": [
    {
     "data": {
      "text/markdown": [
       "\n",
       "<div style=\"width:100%; height:100%; font-size:inherit; overflow: auto;\" >\n",
       "\n",
       "\n",
       "``` shell\n",
       "# Let use gdb command to poke around empty\n",
       "# To get the debugger going:\n",
       "gdb -tui empty\n",
       "\n",
       "# To setup the assembly syntax to intel: \n",
       "set disassembly-flavor intel\n",
       "\n",
       " \n",
       "# at this point no process has been created yet\n",
       "# we are just exploring the binary file\n",
       "p _start\n",
       "x /4xb _start\n",
       "\n",
       "# to get things running we use the run command\n",
       "# but we don't want to execute any instructions so\n",
       "# we first place a breakpoint at the location of _start\n",
       "b _start\n",
       "\n",
       "# now run\n",
       "run\n",
       "\n",
       "# lets see if a process was created\n",
       "!ps auxgww | grep empty\n",
       "info proc\n",
       "\n",
       "# ok lets poke around the process\n",
       "# lets examine the cpu\n",
       "info registers\n",
       "\n",
       "# or we can use the tui layout we made\n",
       "layout mylayout\n",
       "\n",
       "# we can print out the value of an individual register with\n",
       "# variables in gdb $<name> there are convience variables for each\n",
       "# of the registers \n",
       "p /x $rax\n",
       "p /t $rax\n",
       "p /d $rax\n",
       "p /x $rip \n",
       "\n",
       "# lets examine the memory : peek\n",
       "\n",
       "x/8xb 0x401000\n",
       "x/2i\n",
       "\n",
       "\n",
       "# lets write some bytes into memory\n",
       "# lets write and instruction at _start\n",
       "#  we will try and use the popcnt instruction\n",
       "# popcnt rbx, rax -- rbx = population count of rax\n",
       "# see intel sdm volume 2B popcnt\n",
       "# tells use how to encode the instruction via\n",
       "# opcode encoding.\n",
       "# as we load the memory we will ask gdb to try and interpret\n",
       "# the opcode for us and see how the values change what\n",
       "# the cpu will do when we have it fetch the instruction\n",
       "# rex.w = 0x48 -- 64 bit operand\n",
       "# D8 -- encodes which registers are the operands\n",
       "\n",
       "set ((char *)_start)[0] = 0xF3\n",
       "x/5xb _start\n",
       "disas _start\n",
       "set ((char *)_start)[1] = 0x48\n",
       "set ((char *)_start)[2] = 0x0F\n",
       "set ((char *)_start)[3] = 0xB8\n",
       "set ((char *)_start)[4] = 0xD8\n",
       "x/5xb _start\n",
       "x/5tb _start\n",
       "x/5db _start\n",
       "x/5ub _start\n",
       "x/1i _start\n",
       "\n",
       "# lets execute the instruction and play\n",
       "# around with the register values\n",
       "# to make life easier we will use the gdb text uit support\n",
       "# Configure a layout that is more friendly to assembly code:\n",
       "tui new-layout mylayout regs 3 {src 1 asm 1} 2 cmd 1 status 0\n",
       "# Switch to the new layout: \n",
       "layout mylayout\n",
       "winh cmd 4\n",
       "focus cmd\n",
       "\n",
       "# run one interation of the processor loop:\n",
       "stepi\n",
       "\n",
       "# look what happened to the registers\n",
       "set $rax = 0b1011\n",
       "p /t $rax\n",
       "\n",
       "# how do we reexecute the instruction?\n",
       "\n",
       "set $pc = _start\n",
       "stepi\n",
       "\n",
       "```\n",
       "\n",
       "\n",
       "</div>\n"
      ],
      "text/plain": [
       "<IPython.core.display.Markdown object>"
      ]
     },
     "metadata": {},
     "output_type": "display_data"
    }
   ],
   "source": [
    "display(Markdown(FileCodeBox(\n",
    "    file=\"empty_gdb.txt\", \n",
    "    lang=\"shell\", \n",
    "    title=\"\", \n",
    "    h=\"100%\", \n",
    "    w=\"100%\")))"
   ]
  },
  {
   "cell_type": "markdown",
   "id": "8f955418",
   "metadata": {
    "cell_style": "center"
   },
   "source": [
    "<center>\n",
    "<img src=\"/files/work/UndertheCovers/underthecovers/images/popcnt.png\" width=\"60%\">\n",
    "</center>"
   ]
  },
  {
   "cell_type": "markdown",
   "id": "e1822013",
   "metadata": {
    "slideshow": {
     "slide_type": "slide"
    }
   },
   "source": [
    "<img src=\"/files/work/UndertheCovers/underthecovers/images/ASSEMBLY-VNA-THECPU/ASSEMBLY-VNA-THECPU.041.png\">"
   ]
  },
  {
   "cell_type": "markdown",
   "id": "678d477e",
   "metadata": {
    "slideshow": {
     "slide_type": "slide"
    }
   },
   "source": [
    "<img src=\"/files/work/UndertheCovers/underthecovers/images/ASSEMBLY-VNA-THECPU/ASSEMBLY-VNA-THECPU.042.png\">"
   ]
  },
  {
   "cell_type": "markdown",
   "id": "20f62fce",
   "metadata": {
    "slideshow": {
     "slide_type": "slide"
    }
   },
   "source": [
    "<img src=\"/files/work/UndertheCovers/underthecovers/images/ASSEMBLY-VNA-THECPU/ASSEMBLY-VNA-THECPU.043.png\">"
   ]
  },
  {
   "cell_type": "markdown",
   "id": "c0d7569b",
   "metadata": {
    "slideshow": {
     "slide_type": "slide"
    }
   },
   "source": [
    "## Intel Manuals\n",
    "\n",
    "Freely available online:\n",
    "https://software.intel.com/content/www/us/en/develop/articles/intel-sdm.html\n",
    "\n",
    "\n",
    "1. Volume 1: Topics regarding general purpose programming\n",
    "  - largely what we will focus on\n",
    "2. Volume 2: Is a reference of all the instructions which we can consult as needed\n",
    "\n",
    "I usually grab the very large manual that combines volumes 1,2,3,4 \n",
    "https://software.intel.com/content/www/us/en/develop/articles/intel-sdm.html#combined\n",
    "\n",
    "Which include Volumes 3 and 4.  These focus on the systems programming features necessary to write operating systems kernels.  But these are not necessary for normal user application programming. "
   ]
  },
  {
   "cell_type": "markdown",
   "id": "e8b13b3c",
   "metadata": {
    "slideshow": {
     "slide_type": "slide"
    }
   },
   "source": [
    "## Extra info about Intel\n",
    "\n",
    "<img src=\"/files/work/UndertheCovers/underthecovers/images/ASSEMBLY-VNA-THECPU/ASSEMBLY-VNA-THECPU.045.png\">"
   ]
  },
  {
   "cell_type": "markdown",
   "id": "698b6055",
   "metadata": {
    "slideshow": {
     "slide_type": "slide"
    }
   },
   "source": [
    "<img src=\"/files/work/UndertheCovers/underthecovers/images/ASSEMBLY-VNA-THECPU/ASSEMBLY-VNA-THECPU.046.png\">"
   ]
  },
  {
   "cell_type": "markdown",
   "id": "b8eeeaac",
   "metadata": {
    "slideshow": {
     "slide_type": "slide"
    }
   },
   "source": [
    "<img src=\"/files/work/UndertheCovers/underthecovers/images/ASSEMBLY-VNA-THECPU/ASSEMBLY-VNA-THECPU.047.png\">"
   ]
  }
 ],
 "metadata": {
  "celltoolbar": "Slideshow",
  "hide_input": true,
  "kernelspec": {
   "display_name": "Python 3 (ipykernel)",
   "language": "python",
   "name": "python3"
  },
  "language_info": {
   "codemirror_mode": {
    "name": "ipython",
    "version": 3
   },
   "file_extension": ".py",
   "mimetype": "text/x-python",
   "name": "python",
   "nbconvert_exporter": "python",
   "pygments_lexer": "ipython3",
   "version": "3.9.6"
  },
  "rise": {
   "autolaunch": false,
   "enable_chalkboard": true,
   "footer": "UC-SLS -- Lecture 7",
   "header": "Assembly: Assembly Introduction",
   "height": "100%",
   "scroll": true,
   "start_slideshow_at": "selected",
   "theme": "black",
   "transition": "none",
   "width": "100%"
  }
 },
 "nbformat": 4,
 "nbformat_minor": 5
}
