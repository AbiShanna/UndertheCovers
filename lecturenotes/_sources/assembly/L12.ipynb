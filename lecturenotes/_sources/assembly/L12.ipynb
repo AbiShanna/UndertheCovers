{
 "cells": [
  {
   "cell_type": "markdown",
   "id": "911c7a81-ec70-4254-8ba8-4bb9cc5b5bad",
   "metadata": {},
   "source": [
    "# SLS Lecture 12 : Topics"
   ]
  }
 ],
 "metadata": {
  "kernelspec": {
   "display_name": "Python 3",
   "language": "python",
   "name": "python3"
  },
  "language_info": {
   "codemirror_mode": {
    "name": "ipython",
    "version": 3
   },
   "file_extension": ".py",
   "mimetype": "text/x-python",
   "name": "python",
   "nbconvert_exporter": "python",
   "pygments_lexer": "ipython3",
   "version": "3.9.5"
  }
 },
 "nbformat": 4,
 "nbformat_minor": 5
}
