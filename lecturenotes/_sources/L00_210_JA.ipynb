{
 "cells": [
  {
   "cell_type": "code",
   "execution_count": 1,
   "id": "d0e0169c",
   "metadata": {
    "cell_style": "center",
    "hide_input": false,
    "slideshow": {
     "slide_type": "skip"
    }
   },
   "outputs": [
    {
     "name": "stdout",
     "output_type": "stream",
     "text": [
      "Preamble executed\n"
     ]
    }
   ],
   "source": [
    "%run -i python/common.py\n",
    "%run -i python/ln_preamble.py"
   ]
  },
  {
   "cell_type": "markdown",
   "id": "5e3dccea-0ef6-41e3-b631-de920758a7e2",
   "metadata": {
    "slideshow": {
     "slide_type": "slide"
    }
   },
   "source": [
    "# CS210 Computer Systems \n",
    "## Intro and the Big Picture"
   ]
  },
  {
   "cell_type": "markdown",
   "id": "1bad22f7",
   "metadata": {
    "hide_input": true,
    "slideshow": {
     "slide_type": "slide"
    },
    "tags": []
   },
   "source": [
    "<center>\n",
    "<img src=\"./images/webster-computer.pdf\"  width=840px> \n",
    "<img src=\"./images/webster-system.pdf\" width=840px> \n",
    "<center>"
   ]
  },
  {
   "cell_type": "markdown",
   "id": "03924f05",
   "metadata": {
    "slideshow": {
     "slide_type": "notes"
    }
   },
   "source": [
    "Highlight -- \"Programmable\" and \"Device\""
   ]
  },
  {
   "cell_type": "markdown",
   "id": "f416cdd9",
   "metadata": {
    "slideshow": {
     "slide_type": "slide"
    }
   },
   "source": [
    "<center>\n",
    "<img src=\"./images/tapestry.png\" width=645px> \n",
    "</center>\n",
    "<h1><center>COMPUTER SYSTEM</center></h1>\n",
    "<h4>\n",
    "<center>\n",
    "    A rich and beautifully tapestry of <u><i>Interacting</i></u>\n",
    "<br><u><i>Hardware</i></u> + <u><i>Software</i></u> components that are the substrate to our modern digital world \n",
    "    </center>\n",
    "    </h4>"
   ]
  },
  {
   "cell_type": "markdown",
   "id": "28f502a6",
   "metadata": {
    "cell_style": "split",
    "slideshow": {
     "slide_type": "slide"
    }
   },
   "source": [
    "<h1>This Class</h1>\n",
    "\n",
    "Understand the \"Anatomy\" of Software and how it interacts with the hardware.\n",
    "- Expose you to a deeper view of the digital world and around you\n",
    "- Give you the skills and knowledge to understand and manipulate (program) more of the computing\n",
    "- Generally make you better programmers and more informed decision makers"
   ]
  },
  {
   "cell_type": "markdown",
   "id": "d5e59734",
   "metadata": {
    "cell_style": "split",
    "slideshow": {
     "slide_type": "-"
    }
   },
   "source": [
    "<center>\n",
    "<img src=\"./images/anatomyatlas.png\" width=546px> \n",
    "</center>"
   ]
  },
  {
   "cell_type": "markdown",
   "id": "257b25ce",
   "metadata": {
    "cell_style": "split",
    "slideshow": {
     "slide_type": "slide"
    }
   },
   "source": [
    "<h1>GENERAL ANATOMY OF COMPUTING</h1>\n",
    "\n",
    "Computing is composed of many parts — roughly organized into layers\n",
    "- HARDWARE: Foundation on which everything is built\n",
    "- SOFTWARE: Complex layers of interacting software components"
   ]
  },
  {
   "cell_type": "markdown",
   "id": "6da68c1b",
   "metadata": {
    "cell_style": "split"
   },
   "source": [
    "<br>\n",
    "<center>\n",
    "<img src=\"./images/hands.png\" width=546px> \n",
    "</center>"
   ]
  },
  {
   "cell_type": "markdown",
   "id": "a3f23181",
   "metadata": {
    "cell_style": "split",
    "slideshow": {
     "slide_type": "slide"
    }
   },
   "source": [
    "<h1>GENERAL ANATOMY OF COMPUTING</h1>\n",
    "\n",
    "Computing is composed of many parts — roughly organized into layers\n",
    "- HARDWARE: Foundation on which everything is built\n",
    "- SOFTWARE: Complex layers of interacting software components\n",
    "\n",
    "Despite all the kinds of computers in our lives …"
   ]
  },
  {
   "cell_type": "markdown",
   "id": "79dd5ebe",
   "metadata": {
    "cell_style": "split"
   },
   "source": [
    "<br>\n",
    "<center>\n",
    "<img src=\"./images/stackplain.png\"  width=309px>\n",
    "</center>"
   ]
  },
  {
   "cell_type": "markdown",
   "id": "0fe3b405",
   "metadata": {
    "cell_style": "split",
    "slideshow": {
     "slide_type": "slide"
    }
   },
   "source": [
    "<center>\n",
    "<img src=\"./images/lotsofcomputers.png\"  width=600px> \n",
    "</center>"
   ]
  },
  {
   "cell_type": "markdown",
   "id": "4eb1cae8",
   "metadata": {
    "cell_style": "split"
   },
   "source": [
    "<br>\n",
    "<center>\n",
    "<img src=\"./images/stackplain.png\"  width=309px>\n",
    "</center>"
   ]
  },
  {
   "cell_type": "markdown",
   "id": "4c1c90b1",
   "metadata": {
    "slideshow": {
     "slide_type": "slide"
    }
   },
   "source": [
    "<center>\n",
    "<img src=\"./images/stackwithbits.png\"  width=\"80%\"> \n",
    "</center>"
   ]
  },
  {
   "cell_type": "markdown",
   "id": "46c79095",
   "metadata": {
    "slideshow": {
     "slide_type": "slide"
    }
   },
   "source": [
    "<h1>Client Computers</h1>\n",
    "<center>\n",
    "<img src=\"./images/stackwithclients.png\"  width=\"75%\">\n",
    "</center>"
   ]
  },
  {
   "cell_type": "markdown",
   "id": "8d6a625f",
   "metadata": {
    "slideshow": {
     "slide_type": "slide"
    }
   },
   "source": [
    "<h1>Server Computers</h1>\n",
    "<center>\n",
    "<img src=\"./images/stackwithservers.png\"  width=\"75%\">\n",
    "</center>"
   ]
  },
  {
   "cell_type": "markdown",
   "id": "94b11a90",
   "metadata": {
    "slideshow": {
     "slide_type": "slide"
    }
   },
   "source": [
    "<h1>A Programmers View</h1>\n",
    "<center>\n",
    "<img src=\"./images/stackwithswlayers.png\"  width=\"80%\">\n",
    "<center>"
   ]
  },
  {
   "cell_type": "markdown",
   "id": "61de7b49",
   "metadata": {
    "slideshow": {
     "slide_type": "slide"
    }
   },
   "source": [
    "<img align=\"left\" src=\"./images/pillars.png\" width=\"432\">  \n",
    "<br>\n",
    "<h1>The two pillars of computer science</h1>\n",
    "\n",
    "---\n",
    "<h1 style=\"color:#34A5DA\">\n",
    "Theory and Systems\n",
    "</h1>"
   ]
  },
  {
   "cell_type": "markdown",
   "id": "e1b3c933",
   "metadata": {
    "slideshow": {
     "slide_type": "slide"
    }
   },
   "source": [
    "<img align=\"right\" src=\"./images/warpedclock.png\" width=\"432\">  \n",
    "<h1 style=\"color:#34A5DA\">\n",
    "Lets turn back the clock\n",
    "</h1>\n",
    "\n",
    "Before there was computer science and there was only imagination of what could be\n",
    "\n",
    "1. Turing and the Turing machine \n",
    "2. Von Neumman and the Von Neumman Architecture\n",
    "3. Rear Admiral Grace Hopper and the compiler"
   ]
  },
  {
   "cell_type": "markdown",
   "id": "3a2edda6",
   "metadata": {
    "slideshow": {
     "slide_type": "slide"
    }
   },
   "source": [
    "<center>\n",
    "<img  src=\"./images/turing_slide.pdf\" width=100%>\n",
    "</center>"
   ]
  },
  {
   "cell_type": "markdown",
   "id": "31c748d1",
   "metadata": {
    "slideshow": {
     "slide_type": "slide"
    }
   },
   "source": [
    "<center>\n",
    "<img  src=\"./images/turingmachine_slide.pdf\" width=100%>\n",
    "</center>"
   ]
  },
  {
   "cell_type": "markdown",
   "id": "4b18fbf5",
   "metadata": {
    "slideshow": {
     "slide_type": "slide"
    }
   },
   "source": [
    "<center>\n",
    "<img  src=\"./images/vonneumann_slide.pdf\" width=100%>\n",
    "</center>"
   ]
  },
  {
   "cell_type": "markdown",
   "id": "d6b487df",
   "metadata": {
    "hide_input": true,
    "slideshow": {
     "slide_type": "slide"
    }
   },
   "source": [
    "<center>\n",
    "<img src=\"./images/vonneumannarch_slide.pdf\" width=100%>\n",
    "<center>"
   ]
  },
  {
   "cell_type": "markdown",
   "id": "98f76178",
   "metadata": {
    "slideshow": {
     "slide_type": "slide"
    }
   },
   "source": [
    "<center>\n",
    "<img  src=\"./images/hopper_slide.pdf\" width=100%>\n",
    "<center>"
   ]
  },
  {
   "cell_type": "markdown",
   "id": "3e43eb88",
   "metadata": {
    "slideshow": {
     "slide_type": "slide"
    }
   },
   "source": [
    "<center>\n",
    "<img  src=\"./images/histcomp_slide.pdf\" width=100%>\n",
    "</center>"
   ]
  },
  {
   "cell_type": "markdown",
   "id": "1536a24c",
   "metadata": {
    "slideshow": {
     "slide_type": "slide"
    }
   },
   "source": [
    "<h1 style=\"color:#34A5DA\" align=\"left\">\n",
    "May you live in interesting times…\n",
    "</h1>    \n",
    "<br>\n",
    "<br>\n",
    "<br>\n",
    "<h1 style=\"color:#34A5DA\" align=\"center\">   \n",
    "Knowledge is power…\n",
    "</h1>    \n",
    "<br>\n",
    "<br>\n",
    "<br>\n",
    "<h1 style=\"color:#34A5DA\" align=\"right\">   \n",
    "It's up to YOU … as to what comes next\n",
    "</h1>"
   ]
  },
  {
   "cell_type": "markdown",
   "id": "902e016c",
   "metadata": {
    "slideshow": {
     "slide_type": "slide"
    }
   },
   "source": [
    "<h1 style=\"color:#34A5DA\" align=\"center\">\n",
    "    <br>\n",
    "    <br>\n",
    "    <br>\n",
    "    <br>\n",
    "    WHO ARE WE?\n",
    "    <br>\n",
    "    <br>\n",
    "    <br>\n",
    "    <br>\n",
    "</h1>"
   ]
  },
  {
   "cell_type": "markdown",
   "id": "d368baf1",
   "metadata": {
    "slideshow": {
     "slide_type": "slide"
    }
   },
   "source": [
    "# Welcome to CS210\n",
    "\n",
    "- Course Goals and Objectives\n",
    "- \"Under the Covers : The Secret life of Software\"\n",
    "- Rest of course infrastructure\n",
    "- Staff\n",
    "- Syllabus\n",
    "  - calendar\n",
    "  - grade break down\n",
    "    - assignments\n",
    "    - midterms\n",
    "    - exam\n",
    "    - attendance and participation\n",
    "- Lectures, Discussions and Office hours\n",
    "- General Advice"
   ]
  },
  {
   "cell_type": "markdown",
   "id": "ae3238e7",
   "metadata": {
    "hide_input": false,
    "slideshow": {
     "slide_type": "slide"
    }
   },
   "source": [
    "# Course Goals\n",
    "\n",
    "1. Understand the layers of computer systems \n",
    "2. Understand software / hardware interaction\n",
    "3. Learn foundational concepts, skills and tools for working with computers"
   ]
  },
  {
   "cell_type": "code",
   "execution_count": 13,
   "id": "5e12ebd7",
   "metadata": {
    "cell_style": "center",
    "hide_input": true,
    "scrolled": true,
    "slideshow": {
     "slide_type": "slide"
    }
   },
   "outputs": [
    {
     "data": {
      "text/markdown": [
       "<b>CODE: C - Hello World\n",
       "<div style=\"width:100%; height:100%; font-size:inherit; overflow: auto;\" >\n",
       "\n",
       "\n",
       "``` C\n",
       "#include <stdio.h>\n",
       "  \n",
       "int main()        \n",
       "{                          \n",
       "  printf(\"hello world\\n\"); \n",
       "  return 0;                \n",
       "}\n",
       "\n",
       "```\n",
       "\n",
       "\n",
       "</div>\n"
      ],
      "text/plain": [
       "<IPython.core.display.Markdown object>"
      ]
     },
     "metadata": {},
     "output_type": "display_data"
    }
   ],
   "source": [
    "#FileCodeBox(\"src/hello_bb.c\", \"C\", \"<b>CODE: C - Hello World\")\n",
    "display(Markdown(FileCodeBox(\n",
    "    file=\"src/hello_bb.c\", \n",
    "    lang=\"C\", \n",
    "    title='<b>CODE: C - Hello World')))"
   ]
  },
  {
   "cell_type": "code",
   "execution_count": 5,
   "id": "ad8f081b",
   "metadata": {
    "cell_style": "center",
    "hide_input": false,
    "scrolled": false,
    "slideshow": {
     "slide_type": "fragment"
    }
   },
   "outputs": [
    {
     "data": {
      "text/html": [
       "<b>TERMINAL Window for Editor</b>"
      ],
      "text/plain": [
       "<IPython.core.display.HTML object>"
      ]
     },
     "metadata": {},
     "output_type": "display_data"
    },
    {
     "data": {
      "text/html": [
       "\n",
       "        <iframe\n",
       "            width=\"100%\"\n",
       "            height=\"600\"\n",
       "            src=\"/terminals/1\"\n",
       "            frameborder=\"0\"\n",
       "            allowfullscreen\n",
       "        ></iframe>\n",
       "        "
      ],
      "text/plain": [
       "<IPython.lib.display.IFrame at 0x7f1f200feaf0>"
      ]
     },
     "execution_count": 5,
     "metadata": {},
     "output_type": "execute_result"
    }
   ],
   "source": [
    "showET()"
   ]
  },
  {
   "cell_type": "code",
   "execution_count": 6,
   "id": "53b56e8e",
   "metadata": {
    "cell_style": "center",
    "hide_input": false,
    "slideshow": {
     "slide_type": "fragment"
    }
   },
   "outputs": [
    {
     "data": {
      "text/html": [
       "<b>TERMINAL Window for Build Commands</b>"
      ],
      "text/plain": [
       "<IPython.core.display.HTML object>"
      ]
     },
     "metadata": {},
     "output_type": "display_data"
    },
    {
     "data": {
      "text/html": [
       "\n",
       "        <iframe\n",
       "            width=\"100%\"\n",
       "            height=\"200\"\n",
       "            src=\"/terminals/2\"\n",
       "            frameborder=\"0\"\n",
       "            allowfullscreen\n",
       "        ></iframe>\n",
       "        "
      ],
      "text/plain": [
       "<IPython.lib.display.IFrame at 0x7f1ef5f56fd0>"
      ]
     },
     "execution_count": 6,
     "metadata": {},
     "output_type": "execute_result"
    }
   ],
   "source": [
    "showBT()"
   ]
  },
  {
   "cell_type": "code",
   "execution_count": 7,
   "id": "3def1851",
   "metadata": {
    "cell_style": "center",
    "hide_input": true,
    "slideshow": {
     "slide_type": "fragment"
    }
   },
   "outputs": [
    {
     "data": {
      "text/html": [
       "<b>TERMINAL Window for Debugger</b>"
      ],
      "text/plain": [
       "<IPython.core.display.HTML object>"
      ]
     },
     "metadata": {},
     "output_type": "display_data"
    },
    {
     "data": {
      "text/html": [
       "\n",
       "        <iframe\n",
       "            width=\"100%\"\n",
       "            height=\"800\"\n",
       "            src=\"/terminals/3\"\n",
       "            frameborder=\"0\"\n",
       "            allowfullscreen\n",
       "        ></iframe>\n",
       "        "
      ],
      "text/plain": [
       "<IPython.lib.display.IFrame at 0x7f1f200fe880>"
      ]
     },
     "execution_count": 7,
     "metadata": {},
     "output_type": "execute_result"
    }
   ],
   "source": [
    "showDT()"
   ]
  },
  {
   "cell_type": "code",
   "execution_count": 2,
   "id": "8074f10d",
   "metadata": {
    "cell_style": "split",
    "hide_input": true,
    "slideshow": {
     "slide_type": "slide"
    }
   },
   "outputs": [
    {
     "data": {
      "text/html": [
       "<b>TERMINAL Window for Editor</b>"
      ],
      "text/plain": [
       "<IPython.core.display.HTML object>"
      ]
     },
     "metadata": {},
     "output_type": "display_data"
    },
    {
     "data": {
      "text/html": [
       "\n",
       "        <iframe\n",
       "            width=\"100%\"\n",
       "            height=\"600\"\n",
       "            src=\"/terminals/1\"\n",
       "            frameborder=\"0\"\n",
       "            allowfullscreen\n",
       "        ></iframe>\n",
       "        "
      ],
      "text/plain": [
       "<IPython.lib.display.IFrame at 0x7f1f20092ee0>"
      ]
     },
     "execution_count": 2,
     "metadata": {},
     "output_type": "execute_result"
    }
   ],
   "source": [
    "showET()"
   ]
  },
  {
   "cell_type": "code",
   "execution_count": 18,
   "id": "9f50e302",
   "metadata": {
    "cell_style": "split",
    "hide_input": true,
    "slideshow": {
     "slide_type": "-"
    }
   },
   "outputs": [
    {
     "data": {
      "text/markdown": [
       "<b>CODE: asm - Our First assembly program - Playing with popcnt\n",
       "<div style=\"width:640px; height:600px; font-size:inherit; overflow: auto;\" >\n",
       "\n",
       "\n",
       "``` gas\n",
       "\t.intel_syntax noprefix\n",
       "\t\n",
       "\t.text\n",
       "        \n",
       "\t.global _start \t\n",
       "_start:                          \n",
       "\tpopcnt rax, rbx  \n",
       "\n",
       "```\n",
       "\n",
       "\n",
       "</div>\n"
      ],
      "text/plain": [
       "<IPython.core.display.Markdown object>"
      ]
     },
     "metadata": {},
     "output_type": "display_data"
    }
   ],
   "source": [
    "#MkCodeBox(\"src/popcnt_bb.S\", \"gas\", \"<b>CODE: asm - Our First assembly program - Playing with popcnt\", \"200%\", \"640px\")\n",
    "#FileCodeBox(\"src/hello_bb.c\", \"C\", \"<b>CODE: C - Hello World\")\n",
    "display(Markdown(FileCodeBox(\n",
    "    file=\"src/popcnt_bb.S\", \n",
    "    lang=\"gas\", \n",
    "    title=\"<b>CODE: asm - Our First assembly program - Playing with popcnt\",\n",
    "    h=\"600px\", \n",
    "    w=\"640px\"\n",
    ")))"
   ]
  },
  {
   "cell_type": "code",
   "execution_count": null,
   "id": "a48d0ade",
   "metadata": {
    "hide_input": true
   },
   "outputs": [],
   "source": []
  },
  {
   "cell_type": "code",
   "execution_count": 19,
   "id": "b6ce4090",
   "metadata": {
    "cell_style": "split",
    "hide_input": true,
    "scrolled": true
   },
   "outputs": [
    {
     "data": {
      "text/html": [
       "<b>TERMINAL Window for Build Commands</b>"
      ],
      "text/plain": [
       "<IPython.core.display.HTML object>"
      ]
     },
     "metadata": {},
     "output_type": "display_data"
    },
    {
     "data": {
      "text/html": [
       "\n",
       "        <iframe\n",
       "            width=\"100%\"\n",
       "            height=\"200\"\n",
       "            src=\"/terminals/2\"\n",
       "            frameborder=\"0\"\n",
       "            allowfullscreen\n",
       "        ></iframe>\n",
       "        "
      ],
      "text/plain": [
       "<IPython.lib.display.IFrame at 0x7f1ed7cc65e0>"
      ]
     },
     "execution_count": 19,
     "metadata": {},
     "output_type": "execute_result"
    }
   ],
   "source": [
    "showBT()"
   ]
  },
  {
   "cell_type": "code",
   "execution_count": 30,
   "id": "6c6f9592",
   "metadata": {
    "cell_style": "split",
    "hide_input": true
   },
   "outputs": [
    {
     "data": {
      "text/markdown": [
       "<b>NOTES: on building popcnt\n",
       "<div style=\"width:100%; height:15em; font-size:inherit; overflow: auto;\" >\n",
       "\n",
       "\n",
       "``` shell\n",
       "#To assemble and link the code we will use the following command:\n",
       "gcc --static -g -nostartfiles -nolibc popcnt.S -o popcnt\n",
       "# We can automate this using a makefile so that all we would need to do is:\n",
       "make popcnt\n",
       "\n",
       "```\n",
       "\n",
       "\n",
       "</div>\n"
      ],
      "text/plain": [
       "<IPython.core.display.Markdown object>"
      ]
     },
     "metadata": {},
     "output_type": "display_data"
    }
   ],
   "source": [
    "display(Markdown(FileCodeBox(\n",
    "    file=\"assembly/popcnt_build.sh\", \n",
    "    lang=\"shell\", \n",
    "    title=\"<b>NOTES: on building popcnt\", \n",
    "    h=\"15em\", \n",
    "    w=\"100%\")))"
   ]
  },
  {
   "cell_type": "code",
   "execution_count": 31,
   "id": "e4d0a4da",
   "metadata": {
    "cell_style": "split",
    "hide_input": true
   },
   "outputs": [
    {
     "data": {
      "text/html": [
       "<b>TERMINAL Window for Debugger</b>"
      ],
      "text/plain": [
       "<IPython.core.display.HTML object>"
      ]
     },
     "metadata": {},
     "output_type": "display_data"
    },
    {
     "data": {
      "text/html": [
       "\n",
       "        <iframe\n",
       "            width=\"100%\"\n",
       "            height=\"800\"\n",
       "            src=\"/terminals/3\"\n",
       "            frameborder=\"0\"\n",
       "            allowfullscreen\n",
       "        ></iframe>\n",
       "        "
      ],
      "text/plain": [
       "<IPython.lib.display.IFrame at 0x7f1ed7a866a0>"
      ]
     },
     "execution_count": 31,
     "metadata": {},
     "output_type": "execute_result"
    }
   ],
   "source": [
    "showDT()"
   ]
  },
  {
   "cell_type": "code",
   "execution_count": 32,
   "id": "aa4c0461",
   "metadata": {
    "cell_style": "split",
    "hide_input": false
   },
   "outputs": [
    {
     "data": {
      "text/markdown": [
       "<b>NOTES: using gdb with popcnt\n",
       "<div style=\"width:640px; height:100%; font-size:inherit; overflow: auto;\" >\n",
       "\n",
       "\n",
       "``` shell\n",
       "# To get the debugger going:\n",
       "  gdb -tui popcnt\n",
       "# Now we want use gdb command to poke around popcnt\n",
       "# To setup the assembly syntax to intel: \n",
       " set disassembly-flavor intel\n",
       "# Configure a layout that is more friendly to assembly code:\n",
       " tui new-layout 210 src 2 regs 5 status 1 cmd 1\n",
       "# Switch to the new layout: \n",
       "  layout 210\n",
       "# Set a breakpoint at the start symbol so exection will stop their: \n",
       "  break _start\n",
       "# Start the program running:\n",
       "  run\n",
       "\n",
       "```\n",
       "\n",
       "\n",
       "</div>\n"
      ],
      "text/plain": [
       "<IPython.core.display.Markdown object>"
      ]
     },
     "metadata": {},
     "output_type": "display_data"
    }
   ],
   "source": [
    "display(Markdown(FileCodeBox(\n",
    "    file=\"assembly/popcnt_gdb.txt\", \n",
    "    lang=\"shell\", \n",
    "    title=\"<b>NOTES: using gdb with popcnt\", \n",
    "    h=\"100%\", \n",
    "    w=\"640px\")))"
   ]
  },
  {
   "cell_type": "code",
   "execution_count": null,
   "id": "c9fbb45e",
   "metadata": {
    "hide_input": true
   },
   "outputs": [],
   "source": []
  }
 ],
 "metadata": {
  "celltoolbar": "Slideshow",
  "hide_input": true,
  "kernelspec": {
   "display_name": "Python 3 (ipykernel)",
   "language": "python",
   "name": "python3"
  },
  "language_info": {
   "codemirror_mode": {
    "name": "ipython",
    "version": 3
   },
   "file_extension": ".py",
   "mimetype": "text/x-python",
   "name": "python",
   "nbconvert_exporter": "python",
   "pygments_lexer": "ipython3",
   "version": "3.9.6"
  },
  "rise": {
   "autolaunch": false,
   "enable_chalkboard": true,
   "footer": "BU CAS CS 210",
   "header": "Intro and Big Picture",
   "height": "100%",
   "scroll": true,
   "start_slideshow_at": "selected",
   "theme": "black",
   "transition": "none",
   "width": "100%"
  }
 },
 "nbformat": 4,
 "nbformat_minor": 5
}
