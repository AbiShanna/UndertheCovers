{
 "cells": [
  {
   "cell_type": "code",
   "execution_count": 2,
   "id": "713c9893",
   "metadata": {
    "slideshow": {
     "slide_type": "skip"
    },
    "tags": [
     "remove-cell"
    ]
   },
   "outputs": [],
   "source": [
    "%run -i ../python/common.py\n",
    "UC_SKIPTERMS=True\n",
    "%run -i ../python/ln_preamble.py"
   ]
  },
  {
   "cell_type": "markdown",
   "id": "50d6bf36-6374-4939-b64e-a60fb92850f3",
   "metadata": {},
   "source": [
    "# UC-SLS Lecture 20 : Using LibC to access the OS and escape the confines our process\n",
    "- Preliminaries\n",
    "  - libraries\n",
    "  - Standard library : `libc.a[.so]`\n",
    "- Address Space management:\n",
    "  - dynamic memory for data items: `malloc` and `free`\n",
    "  - more powerfully control using `mmap` and `munmap`\n",
    "- I/O\n",
    "  - low-level file descriptor based: `open`, `read`, `write`, `close`, `getc`, `getchar`, `gets`, `putc`, `putchar`, `puts`\n",
    "  - Formatted and Buffered IO: `fopen`, `fread`, `fwrite`, `fclose`, `fprintf`/`printf`,\n",
    "  `fscanf`/`scanf`, `fgetc`, `fgets`, `fputs`, `fputc`, `fgetpos`, `fsetpos`, `fseek`, `fflush`, "
   ]
  },
  {
   "cell_type": "code",
   "execution_count": 3,
   "id": "0f435bfd",
   "metadata": {
    "hide_input": true,
    "tags": [
     "remove-input"
    ]
   },
   "outputs": [
    {
     "data": {
      "text/markdown": [
       "\n",
       "- create a directory `mkdir libc; cd libc`\n",
       "- copy examples\n",
       "- add a `Makefile` to automate assembling and linking\n",
       "    - we are going run the commands by hand this time to highlight the details\n",
       "- normally you would want to track everything in git\n"
      ],
      "text/plain": [
       "<IPython.core.display.Markdown object>"
      ]
     },
     "metadata": {},
     "output_type": "display_data"
    },
    {
     "name": "stdout",
     "output_type": "stream",
     "text": [
      "$ ls /home/jovyan/libc\n",
      "badmsgcode.c  cexp.c  dynmem.c  dynmemsyscalls.c  Makefile\n",
      "$ \n"
     ]
    }
   ],
   "source": [
    "# setup for sumit examples\n",
    "appdir=os.getenv('HOME')\n",
    "appdir=appdir + \"/libc\"\n",
    "#print(movdir)\n",
    "output=runTermCmd(\"[[ -d \" + appdir + \" ]] &&  rm -rf \"+ appdir + \n",
    "             \";mkdir \" + appdir + \n",
    "             \";cp ../src/Makefile ../src/cexp.c ../src/badmsgcode.c ../src/dynmem.c ../src/dynmemsyscalls.c \" + appdir)\n",
    "\n",
    "display(Markdown('''\n",
    "- create a directory `mkdir libc; cd libc`\n",
    "- copy examples\n",
    "- add a `Makefile` to automate assembling and linking\n",
    "    - we are going run the commands by hand this time to highlight the details\n",
    "- normally you would want to track everything in git\n",
    "'''))\n",
    "TermShellCmd(\"ls \" + appdir)"
   ]
  },
  {
   "cell_type": "markdown",
   "id": "7b14a8d5",
   "metadata": {
    "slideshow": {
     "slide_type": "slide"
    }
   },
   "source": [
    "## Overview"
   ]
  },
  {
   "cell_type": "markdown",
   "id": "7f224232",
   "metadata": {
    "slideshow": {
     "slide_type": "slide"
    }
   },
   "source": [
    "<center>\n",
    "<img src=\"../images/LibC-001.png\" >\n",
    "</center>"
   ]
  },
  {
   "cell_type": "markdown",
   "id": "7fb674cf",
   "metadata": {
    "slideshow": {
     "slide_type": "slide"
    }
   },
   "source": [
    "<center>\n",
    "<img src=\"../images/LibC-002.png\" >\n",
    "</center>"
   ]
  },
  {
   "cell_type": "markdown",
   "id": "9ab3dcac",
   "metadata": {
    "slideshow": {
     "slide_type": "slide"
    }
   },
   "source": [
    "<center>\n",
    "<img src=\"../images/LibC-003.png\" >\n",
    "</center>"
   ]
  },
  {
   "cell_type": "markdown",
   "id": "0b24a62b",
   "metadata": {
    "slideshow": {
     "slide_type": "slide"
    }
   },
   "source": [
    "## Preliminaries \n",
    "### SDKs \n",
    "\n",
    "Developers package and distribute \"native\" code for an specific computer and OS as collection of documentation, header files, and libraries.  We often call this collection a Software Development ToolKit (SDK).  The functions and types defined in an SDK are often referred to as an Application Programmer Interface.  "
   ]
  },
  {
   "cell_type": "markdown",
   "id": "1da49636",
   "metadata": {
    "slideshow": {
     "slide_type": "slide"
    }
   },
   "source": [
    "#### Documentation\n",
    "\n",
    "Developers provide documentation that explains the API in terms of the functions and types that their code provides for your use.  Traditionally on UNIX systems this comprises as set of man pages.  "
   ]
  },
  {
   "cell_type": "markdown",
   "id": "60689749",
   "metadata": {
    "slideshow": {
     "slide_type": "slide"
    }
   },
   "source": [
    "**man complex**"
   ]
  },
  {
   "cell_type": "code",
   "execution_count": 68,
   "id": "bdbf14f0",
   "metadata": {
    "hide_input": true,
    "scrolled": true,
    "tags": [
     "remove-input"
    ]
   },
   "outputs": [
    {
     "name": "stdout",
     "output_type": "stream",
     "text": [
      "$ man complex\n",
      "COMPLEX(7)                 Linux Programmer's Manual                COMPLEX(7)\n",
      "\n",
      "NAME\n",
      "       complex - basics of complex mathematics\n",
      "\n",
      "SYNOPSIS\n",
      "       #include <complex.h>\n",
      "\n",
      "DESCRIPTION\n",
      "       Complex  numbers  are  numbers of the form z = a+b*i, where a and b are\n",
      "       real numbers and i = sqrt(-1), so that i*i = -1.\n",
      "\n",
      "       There are other ways to represent that number.  The pair (a,b) of  real\n",
      "       numbers  may be viewed as a point in the plane, given by X- and Y-coor‐\n",
      "       dinates.  This same point may also be described by giving the  pair  of\n",
      "       real  numbers (r,phi), where r is the distance to the origin O, and phi\n",
      "       the angle between the X-axis and the line Oz.  Now z =  r*exp(i*phi)  =\n",
      "       r*(cos(phi)+i*sin(phi)).\n",
      "\n",
      "       The basic operations are defined on z = a+b*i and w = c+d*i as:\n",
      "\n",
      "       addition: z+w = (a+c) + (b+d)*i\n",
      "\n",
      "       multiplication: z*w = (a*c - b*d) + (a*d + b*c)*i\n",
      "\n",
      "       division: z/w = ((a*c + b*d)/(c*c + d*d)) + ((b*c - a*d)/(c*c + d*d))*i\n",
      "\n",
      "       Nearly  all math function have a complex counterpart but there are some\n",
      "       complex-only functions.\n",
      "\n",
      "EXAMPLE\n",
      "       Your C-compiler can work with complex numbers if it  supports  the  C99\n",
      "       standard.  Link with -lm.  The imaginary unit is represented by I.\n",
      "\n",
      "       /* check that exp(i * pi) == -1 */\n",
      "       #include <math.h>        /* for atan */\n",
      "       #include <stdio.h>\n",
      "       #include <complex.h>\n",
      "\n",
      "       int\n",
      "       main(void)\n",
      "       {\n",
      "           double pi = 4 * atan(1.0);\n",
      "           double complex z = cexp(I * pi);\n",
      "           printf(\"%f + %f * i\\n\", creal(z), cimag(z));\n",
      "       }\n",
      "\n",
      "SEE ALSO\n",
      "       cabs(3),  cacos(3),  cacosh(3), carg(3), casin(3), casinh(3), catan(3),\n",
      "       catanh(3), ccos(3), ccosh(3),  cerf(3),  cexp(3),  cexp2(3),  cimag(3),\n",
      "       clog(3),  clog10(3),  clog2(3),  conj(3),  cpow(3), cproj(3), creal(3),\n",
      "       csin(3), csinh(3), csqrt(3), ctan(3), ctanh(3)\n",
      "\n",
      "COLOPHON\n",
      "       This page is part of release 5.05 of the Linux  man-pages  project.   A\n",
      "       description  of  the project, information about reporting bugs, and the\n",
      "       latest    version    of    this    page,    can     be     found     at\n",
      "       https://www.kernel.org/doc/man-pages/.\n",
      "\n",
      "                                  2019-03-06                        COMPLEX(7)\n",
      "\n"
     ]
    }
   ],
   "source": [
    "TermShellCmd(\"man complex\", noposttext=True, markdown=False)"
   ]
  },
  {
   "cell_type": "markdown",
   "id": "003b2187",
   "metadata": {
    "slideshow": {
     "slide_type": "slide"
    }
   },
   "source": [
    "**man cexp**"
   ]
  },
  {
   "cell_type": "code",
   "execution_count": 69,
   "id": "38a6079f",
   "metadata": {
    "hide_input": true,
    "scrolled": true,
    "tags": [
     "remove-input"
    ]
   },
   "outputs": [
    {
     "name": "stdout",
     "output_type": "stream",
     "text": [
      "$ man cexp\n",
      "CEXP(3)                    Linux Programmer's Manual                   CEXP(3)\n",
      "\n",
      "NAME\n",
      "       cexp, cexpf, cexpl - complex exponential function\n",
      "\n",
      "SYNOPSIS\n",
      "       #include <complex.h>\n",
      "\n",
      "       double complex cexp(double complex z);\n",
      "       float complex cexpf(float complex z);\n",
      "       long double complex cexpl(long double complex z);\n",
      "\n",
      "       Link with -lm.\n",
      "\n",
      "DESCRIPTION\n",
      "       These  functions  calculate  e  (2.71828...,  the base of natural loga‐\n",
      "       rithms) raised to the power of z.\n",
      "\n",
      "       One has:\n",
      "\n",
      "           cexp(I * z) = ccos(z) + I * csin(z)\n",
      "\n",
      "VERSIONS\n",
      "       These functions first appeared in glibc in version 2.1.\n",
      "\n",
      "ATTRIBUTES\n",
      "       For an  explanation  of  the  terms  used  in  this  section,  see  at‐\n",
      "       tributes(7).\n",
      "\n",
      "       ┌─────────────────────────┬───────────────┬─────────┐\n",
      "       │Interface                │ Attribute     │ Value   │\n",
      "       ├─────────────────────────┼───────────────┼─────────┤\n",
      "       │cexp(), cexpf(), cexpl() │ Thread safety │ MT-Safe │\n",
      "       └─────────────────────────┴───────────────┴─────────┘\n",
      "\n",
      "CONFORMING TO\n",
      "       C99, POSIX.1-2001, POSIX.1-2008.\n",
      "\n",
      "SEE ALSO\n",
      "       cabs(3), cexp2(3), clog(3), cpow(3), complex(7)\n",
      "\n",
      "COLOPHON\n",
      "       This  page  is  part of release 5.05 of the Linux man-pages project.  A\n",
      "       description of the project, information about reporting bugs,  and  the\n",
      "       latest     version     of     this    page,    can    be    found    at\n",
      "       https://www.kernel.org/doc/man-pages/.\n",
      "\n",
      "                                  2017-09-15                           CEXP(3)\n",
      "\n"
     ]
    }
   ],
   "source": [
    "TermShellCmd(\"man cexp\", noposttext=True, markdown=False)"
   ]
  },
  {
   "cell_type": "markdown",
   "id": "2e59c920",
   "metadata": {
    "slideshow": {
     "slide_type": "slide"
    }
   },
   "source": [
    "**Documentation tells us**\n",
    "    \n",
    "0. Tells us how to use the functions, macros and types of a SDK\n",
    "1. What header files we must include in our source to call particular functions\n",
    "2. What libraries we must include when we link"
   ]
  },
  {
   "cell_type": "markdown",
   "id": "84d87abc",
   "metadata": {
    "slideshow": {
     "slide_type": "slide"
    }
   },
   "source": [
    "#### Header files\n",
    "\n",
    "As we discussed to generate assembly for a call to a function compiler must have\n",
    "1. A declaration for a function \n",
    "2. Definitions for all types it requires\n",
    "3. and possibly preprocessor macros \n",
    "\n",
    "The headers files of a library provide these things so that your code can compile with calls to the libraries functions. Remember we use preprocessor `#include <file>` to substitute the contents of `<file>` into our own source."
   ]
  },
  {
   "cell_type": "markdown",
   "id": "a09d9bd4",
   "metadata": {
    "slideshow": {
     "slide_type": "slide"
    }
   },
   "source": [
    "#### Libraries\n",
    "\n",
    "Libraries are a new kind of file for us. The are \"archives\" of object files.\n",
    "\n",
    "Two main types on\n",
    "1. Static archive eg. Linux: `libm.a` \n",
    "2. Dynamic archive eg. Linux: `libm.so` \n",
    "\n",
    "Statically linking requires static library and dynamic linking requires dynamic"
   ]
  },
  {
   "cell_type": "markdown",
   "id": "24bdae6d",
   "metadata": {
    "slideshow": {
     "slide_type": "slide"
    }
   },
   "source": [
    "##### Linker and Libraries\n",
    " \n",
    "We can add a library when we link our executable by passing the right parameters to the linker.  \n",
    "\n",
    "eg.  `-l<name>` will tell linker to use objects from `lib<name>.a` or `lib<name>.so` if it needs too\n",
    "\n",
    "Specifically the library file contains a table of contents with all the object files and symbols define in those objects.  If your our object files reference a symbol that you do not define the linker will look for it in the table of contents.  If there is an object file in the library that defines the symbol it will include the necessary object file as if you had specified as one of your object files."
   ]
  },
  {
   "cell_type": "markdown",
   "id": "28a71b29",
   "metadata": {
    "slideshow": {
     "slide_type": "slide"
    }
   },
   "source": [
    "#### Example"
   ]
  },
  {
   "cell_type": "code",
   "execution_count": 4,
   "id": "123cbe07",
   "metadata": {
    "hide_input": false,
    "tags": [
     "remove-input"
    ]
   },
   "outputs": [
    {
     "data": {
      "text/markdown": [
       "<font size=\"6rem\"><b>C: cexp.c\n",
       "<div style=\"width:100%; height:100%; font-size:inherit; overflow: auto;\" >\n",
       "\n",
       "\n",
       "``` c\n",
       "#include <math.h> /* for atan */\n",
       "#include <stdio.h>\n",
       "#include <complex.h>\n",
       "#include <stdlib.h>\n",
       "\n",
       "int\n",
       "main(int argc, char **argv)\n",
       "{\n",
       "  double y=1.0;\n",
       "  if (argc>1) y=atof(argv[1]);\n",
       "  double pi = 4 * atan(y);\n",
       "  double complex z = cexp(I * pi);\n",
       "  printf(\"%f + %f * i\\n\", creal(z), cimag(z));\n",
       "}\n",
       "\n",
       "```\n",
       "\n",
       "\n",
       "</div>\n",
       "</font>"
      ],
      "text/plain": [
       "<IPython.core.display.Markdown object>"
      ]
     },
     "metadata": {},
     "output_type": "display_data"
    },
    {
     "name": "stdout",
     "output_type": "stream",
     "text": [
      "\n",
      "gcc  -g  -Os -static -Xlinker -Map=cexp.map cexp.c -o cexp -lm\n",
      "\n",
      "$ ./cexp\n",
      "-1.000000 + 0.000000 * i\n",
      "\n"
     ]
    }
   ],
   "source": [
    "display(Markdown('<font size=\"6rem\">' + FileCodeBox(\n",
    "    file=appdir + \"/cexp.c\", \n",
    "    lang=\"c\", \n",
    "    title=\"<b>C: cexp.c\",\n",
    "    h=\"100%\", \n",
    "    w=\"100%\"\n",
    ") + '</font>'))\n",
    "TermShellCmd(\"[[ -a cexp ]] && rm cexp;make cexp\", cwd=appdir, prompt='', noposttext=True)\n",
    "TermShellCmd(\"./cexp\", cwd=appdir, noposttext=True)"
   ]
  },
  {
   "cell_type": "markdown",
   "id": "55c819a1",
   "metadata": {
    "slideshow": {
     "slide_type": "slide"
    }
   },
   "source": [
    "**How does the preprocessor and linker know where to find things**\n",
    "\n",
    "The compiler driver, in our case `gcc` passes parameters to both the preprocessor and linker\n",
    "- `-I <dir>` tells preprocessor to look for header files in `<dir>` \n",
    "   - several standard directories are specified by default\n",
    "     - eg. `-I/usr/include`"
   ]
  },
  {
   "cell_type": "code",
   "execution_count": 71,
   "id": "f13fbbd9",
   "metadata": {
    "hide_input": true,
    "tags": [
     "remove-input"
    ]
   },
   "outputs": [
    {
     "name": "stdout",
     "output_type": "stream",
     "text": [
      "$ ls -la /usr/include/math.h /usr/include/stdio.h /usr/include/complex.h\n",
      "-rw-r--r-- 1 root root  7164 Dec 16  2020 /usr/include/complex.h\n",
      "-rw-r--r-- 1 root root 46404 Dec 16  2020 /usr/include/math.h\n",
      "-rw-r--r-- 1 root root 29950 Dec 16  2020 /usr/include/stdio.h\n",
      "\n"
     ]
    }
   ],
   "source": [
    "TermShellCmd(\"ls -la /usr/include/math.h /usr/include/stdio.h /usr/include/complex.h\", noposttext=True)"
   ]
  },
  {
   "cell_type": "markdown",
   "id": "daeffdd5",
   "metadata": {
    "hide_input": true,
    "slideshow": {
     "slide_type": "slide"
    }
   },
   "source": [
    "- We can look at look at these files if we want to see the details "
   ]
  },
  {
   "cell_type": "markdown",
   "id": "bbcbddaf",
   "metadata": {
    "slideshow": {
     "slide_type": "slide"
    }
   },
   "source": [
    "- `-L <dir>` similarly tells the linker to look for libraries in `<dir>`\n",
    "  - several standard directories are specified by default\n",
    "       - eg. `-L/usr/lib/x86_64-linux-gnu`"
   ]
  },
  {
   "cell_type": "markdown",
   "id": "4d11de17",
   "metadata": {
    "slideshow": {
     "slide_type": "slide"
    }
   },
   "source": [
    "**The linker map file lets us see all the .o's that got linked in and where they came from**\n"
   ]
  },
  {
   "cell_type": "code",
   "execution_count": 72,
   "id": "8636de07",
   "metadata": {
    "hide_input": true,
    "tags": [
     "remove-input"
    ]
   },
   "outputs": [
    {
     "name": "stdout",
     "output_type": "stream",
     "text": [
      "$ head -20 cexp.map \n",
      "Archive member included to satisfy reference by file (symbol)\n",
      "\n",
      "/usr/lib/x86_64-linux-gnu/libm-2.31.a(s_atan.o)\n",
      "                              /tmp/ccQxfA00.o (atan)\n",
      "/usr/lib/x86_64-linux-gnu/libm-2.31.a(s_cexp.o)\n",
      "                              /tmp/ccQxfA00.o (cexp)\n",
      "/usr/lib/x86_64-linux-gnu/libm-2.31.a(mpa.o)\n",
      "                              /usr/lib/x86_64-linux-gnu/libm-2.31.a(s_atan.o) (__mp_dbl)\n",
      "/usr/lib/x86_64-linux-gnu/libm-2.31.a(mpatan.o)\n",
      "                              /usr/lib/x86_64-linux-gnu/libm-2.31.a(s_atan.o) (__mpatan)\n",
      "/usr/lib/x86_64-linux-gnu/libm-2.31.a(mpsqrt.o)\n",
      "                              /usr/lib/x86_64-linux-gnu/libm-2.31.a(mpatan.o) (__mpsqrt)\n",
      "/usr/lib/x86_64-linux-gnu/libm-2.31.a(s_atan-fma.o)\n",
      "                              /usr/lib/x86_64-linux-gnu/libm-2.31.a(s_atan.o) (__atan_fma)\n",
      "/usr/lib/x86_64-linux-gnu/libm-2.31.a(mpa-fma.o)\n",
      "                              /usr/lib/x86_64-linux-gnu/libm-2.31.a(s_atan-fma.o) (__dbl_mp_fma)\n",
      "/usr/lib/x86_64-linux-gnu/libm-2.31.a(mpatan-fma.o)\n",
      "                              /usr/lib/x86_64-linux-gnu/libm-2.31.a(s_atan-fma.o) (__mpatan_fma)\n",
      "/usr/lib/x86_64-linux-gnu/libm-2.31.a(mpsqrt-fma.o)\n",
      "                              /usr/lib/x86_64-linux-gnu/libm-2.31.a(mpatan-fma.o) (__mpsqrt_fma)\n",
      "\n"
     ]
    }
   ],
   "source": [
    "TermShellCmd(\"head -20 cexp.map \", cwd=appdir, noposttext=True)"
   ]
  },
  {
   "cell_type": "markdown",
   "id": "d5ff9e36",
   "metadata": {
    "slideshow": {
     "slide_type": "slide"
    }
   },
   "source": [
    "**`ar` is a tool for working with static libraries**\n",
    "see `man ar` for details\n",
    "\n",
    "We can use it to list the table of contents of the `.o` in the archive"
   ]
  },
  {
   "cell_type": "code",
   "execution_count": 73,
   "id": "6cd269d5",
   "metadata": {
    "hide_input": true,
    "tags": [
     "remove-input"
    ]
   },
   "outputs": [
    {
     "name": "stdout",
     "output_type": "stream",
     "text": [
      "$ ar t /usr/lib/x86_64-linux-gnu/libm-2.31.a | head\n",
      "s_lib_version.o\n",
      "s_matherr.o\n",
      "s_signgam.o\n",
      "fclrexcpt.o\n",
      "fgetexcptflg.o\n",
      "fraiseexcpt.o\n",
      "fsetexcptflg.o\n",
      "ftestexcept.o\n",
      "fegetround.o\n",
      "fesetround.o\n",
      "\n"
     ]
    }
   ],
   "source": [
    "TermShellCmd(\"ar t /usr/lib/x86_64-linux-gnu/libm-2.31.a | head\", cwd=appdir, noposttext=True)"
   ]
  },
  {
   "cell_type": "markdown",
   "id": "e290b5e7",
   "metadata": {
    "slideshow": {
     "slide_type": "slide"
    }
   },
   "source": [
    "We can even use it to extract a member (just like the linker does when linking)"
   ]
  },
  {
   "cell_type": "code",
   "execution_count": 74,
   "id": "0e03034a",
   "metadata": {
    "hide_input": true,
    "tags": [
     "remove-input"
    ]
   },
   "outputs": [
    {
     "name": "stdout",
     "output_type": "stream",
     "text": [
      "$ ar x /usr/lib/x86_64-linux-gnu/libm-2.31.a s_cexp.o; ls -l s_cexp.o\n",
      "-rw-r--r-- 1 jovyan root 3792 Dec  6 16:06 s_cexp.o\n",
      "\n"
     ]
    }
   ],
   "source": [
    "TermShellCmd(\"ar x /usr/lib/x86_64-linux-gnu/libm-2.31.a s_cexp.o; ls -l s_cexp.o\", cwd=appdir, noposttext=True)"
   ]
  },
  {
   "cell_type": "markdown",
   "id": "d51672d8",
   "metadata": {
    "slideshow": {
     "slide_type": "slide"
    }
   },
   "source": [
    "**And no surprise it is an object file like the kind we have been creating**"
   ]
  },
  {
   "cell_type": "code",
   "execution_count": 75,
   "id": "7e8bb5d2",
   "metadata": {
    "hide_input": true,
    "tags": [
     "remove-input"
    ]
   },
   "outputs": [
    {
     "name": "stdout",
     "output_type": "stream",
     "text": [
      "$ objdump -d -Mintel s_cexp.o | head -20\n",
      "\n",
      "s_cexp.o:     file format elf64-x86-64\n",
      "\n",
      "\n",
      "Disassembly of section .text:\n",
      "\n",
      "0000000000000000 <__cexp>:\n",
      "   0:\tf3 0f 1e fa          \tendbr64 \n",
      "   4:\t53                   \tpush   rbx\n",
      "   5:\t66 0f 28 d0          \tmovapd xmm2,xmm0\n",
      "   9:\t66 0f 28 e9          \tmovapd xmm5,xmm1\n",
      "   d:\t66 0f 28 c1          \tmovapd xmm0,xmm1\n",
      "  11:\t66 0f 28 f2          \tmovapd xmm6,xmm2\n",
      "  15:\t48 83 ec 40          \tsub    rsp,0x40\n",
      "  19:\tf3 0f 7e 1d 00 00 00 \tmovq   xmm3,QWORD PTR [rip+0x0]        # 21 <__cexp+0x21>\n",
      "  20:\t00 \n",
      "  21:\t64 48 8b 04 25 28 00 \tmov    rax,QWORD PTR fs:0x28\n",
      "  28:\t00 00 \n",
      "  2a:\t48 89 44 24 38       \tmov    QWORD PTR [rsp+0x38],rax\n",
      "  2f:\t31 c0                \txor    eax,eax\n",
      "\n"
     ]
    }
   ],
   "source": [
    "TermShellCmd(\"objdump -d -Mintel s_cexp.o | head -20\", cwd=appdir, noposttext=True)"
   ]
  },
  {
   "cell_type": "markdown",
   "id": "f52b068c",
   "metadata": {
    "slideshow": {
     "slide_type": "slide"
    }
   },
   "source": [
    "**What about `_start`, `atof` and `fprintf`**\n",
    "\n",
    "- Where did they come from????\n",
    "   - Lets look for them in the map file\n",
    "      - map file can even tell not only what file a symbol came from but also where it ends up being placed in the memory image of our executable"
   ]
  },
  {
   "cell_type": "code",
   "execution_count": 76,
   "id": "18c6157c",
   "metadata": {
    "hide_input": true,
    "slideshow": {
     "slide_type": "fragment"
    },
    "tags": [
     "remove-input"
    ]
   },
   "outputs": [
    {
     "name": "stdout",
     "output_type": "stream",
     "text": [
      "$ grep -B 1 ' _start$' cexp.map\n",
      " .text          0x0000000000401c30       0x35 /usr/lib/gcc/x86_64-linux-gnu/9/../../../x86_64-linux-gnu/crt1.o\n",
      "                0x0000000000401c30               \u001b[01;31m\u001b[K _start\u001b[m\u001b[K\n",
      "\n"
     ]
    }
   ],
   "source": [
    "TermShellCmd(\"grep -B 1 ' _start$' cexp.map\", cwd=appdir, noposttext=True)"
   ]
  },
  {
   "cell_type": "code",
   "execution_count": 77,
   "id": "226bfd36",
   "metadata": {
    "hide_input": true,
    "slideshow": {
     "slide_type": "fragment"
    },
    "tags": [
     "remove-input"
    ]
   },
   "outputs": [
    {
     "name": "stdout",
     "output_type": "stream",
     "text": [
      "$ grep -B 1 ' atof$' cexp.map\n",
      " .text          0x000000000041f460        0xb /usr/lib/gcc/x86_64-linux-gnu/9/../../../x86_64-linux-gnu/libc.a(atof.o)\n",
      "                0x000000000041f460               \u001b[01;31m\u001b[K atof\u001b[m\u001b[K\n",
      "\n"
     ]
    }
   ],
   "source": [
    "TermShellCmd(\"grep -B 1 ' atof$' cexp.map\", cwd=appdir, noposttext=True)"
   ]
  },
  {
   "cell_type": "code",
   "execution_count": 78,
   "id": "04a6374b",
   "metadata": {
    "hide_input": true,
    "slideshow": {
     "slide_type": "fragment"
    },
    "tags": [
     "remove-input"
    ]
   },
   "outputs": [
    {
     "name": "stdout",
     "output_type": "stream",
     "text": [
      "$ grep -B 1 ' fprintf$' cexp.map\n",
      " .text          0x000000000047ae00       0xb7 /usr/lib/gcc/x86_64-linux-gnu/9/../../../x86_64-linux-gnu/libc.a(fprintf.o)\n",
      "                0x000000000047ae00               \u001b[01;31m\u001b[K fprintf\u001b[m\u001b[K\n",
      "\n"
     ]
    }
   ],
   "source": [
    "TermShellCmd(\"grep -B 1 ' fprintf$' cexp.map\", cwd=appdir, noposttext=True)"
   ]
  },
  {
   "cell_type": "markdown",
   "id": "3fdfef51",
   "metadata": {
    "slideshow": {
     "slide_type": "slide"
    }
   },
   "source": [
    "#### Defaults\n",
    "\n",
    "- C compiler driver ensures that we always link against a set of standard object files and libraries\n",
    "- But the core one is `libc` -- The C standard library!\n"
   ]
  },
  {
   "cell_type": "markdown",
   "id": "1ebc1c34",
   "metadata": {
    "slideshow": {
     "slide_type": "slide"
    }
   },
   "source": [
    "## C Standard Library `libc` (`-lc`)"
   ]
  },
  {
   "cell_type": "markdown",
   "id": "e084d164",
   "metadata": {},
   "source": [
    "The C standard library was developed at the same time as the core language\n",
    "- There are standards a C compiler and C standard library implementation can conform too\n",
    "  - eg. https://www.iso.org/standard/17782.html\n",
    "- The gnu C compiler `gcc` has its associated gnu libc `glibc`\n",
    "  - https://www.gnu.org/software/libc/manual/html_node/index.html\n",
    "  - These are the standards it conforms too\n",
    "    - https://www.gnu.org/software/libc/manual/html_node/Standards-and-Portability.html#Standards-and-Portability"
   ]
  },
  {
   "cell_type": "markdown",
   "id": "ae8ea803",
   "metadata": {
    "slideshow": {
     "slide_type": "slide"
    }
   },
   "source": [
    "### Overview\n",
    "\n",
    "- The C Standard library is very large and provides many categories of routines"
   ]
  },
  {
   "cell_type": "markdown",
   "id": "75de801c",
   "metadata": {
    "slideshow": {
     "slide_type": "slide"
    }
   },
   "source": [
    "- We will only consider a small fraction of its functionality\n",
    "  2. Dynamic Memory Management \n",
    "  3. Basic overview of IO"
   ]
  },
  {
   "cell_type": "markdown",
   "id": "59ceaba3",
   "metadata": {
    "slideshow": {
     "slide_type": "slide"
    }
   },
   "source": [
    "### Dynamic Memory Management\n",
    "- https://www.gnu.org/software/libc/manual/html_mono/libc.html#Memory-Concepts\n",
    "- https://www.gnu.org/software/libc/manual/html_mono/libc.html#Dynamic-Memory-Allocation\n",
    "    - C Language has no built in support for Dynamic Memory Variables \n",
    "    - other than automatics (function local variables and function parameters)\n",
    "  - Must use system calls to get and remove memory from the process\n",
    "  - Must use pointers to track it"
   ]
  },
  {
   "cell_type": "markdown",
   "id": "78bfeaf0",
   "metadata": {
    "slideshow": {
     "slide_type": "slide"
    }
   },
   "source": [
    "#### Two categories\n",
    "\n",
    "LibC provides routines that give a programmer the ability to dynamically allocate memory \n",
    "- The Memory Allocator (https://www.gnu.org/software/libc/manual/html_mono/libc.html#The-GNU-Allocator)\n",
    "  - It calls the OS system calls for the programmer \n",
    "    - There is a lot of subtlety to implementing a high performance memory allocator\n",
    "  - Basic idea is \n",
    "    1. The allocator code in libc `malloc` and `free` are called by the application code\n",
    "    2. These routines allocate large chucks of memory from the OS\n",
    "    3. They then break these large chucks down handing out pieces as requested by `malloc` calls\n",
    "    4. And coaleasing pieces back into the chucks when `free` is called\n",
    "    5. If large requests are made the libc routines call OS to create a separate mappings for these\n",
    "    6. Similarly if these large requests are freed they immediately free them to the OS\n",
    "- Directly calling `mmap` or `brk`"
   ]
  },
  {
   "cell_type": "markdown",
   "id": "6220dca3",
   "metadata": {
    "slideshow": {
     "slide_type": "notes"
    }
   },
   "source": [
    "#### Main calls\n",
    "- https://www.gnu.org/software/libc/manual/html_node/Summary-of-Malloc.html#Summary-of-Malloc\n",
    "\n",
    "```\n",
    "void *malloc (size_t size)\n",
    "// Allocate a block of size bytes. See Basic Allocation.\n",
    "\n",
    "void free (void *addr)\n",
    "// Free a block previously allocated by malloc. See Freeing after Malloc.\n",
    "\n",
    "void *realloc (void *addr, size_t size)\n",
    "// Make a block previously allocated by malloc larger or smaller, possibly by copying it to a new location. See Changing Block Size.\n",
    "\n",
    "void *reallocarray (void *ptr, size_t nmemb, size_t size)\n",
    "// Change the size of a block previously allocated by malloc to nmemb * size bytes as with realloc. See Changing Block Size.\n",
    "\n",
    "void *calloc (size_t count, size_t eltsize)\n",
    "//Allocate a block of count * eltsize bytes using malloc, and set its contents to zero. See Allocating Cleared Space.\n",
    "\n",
    "void *valloc (size_t size)\n",
    "// Allocate a block of size bytes, starting on a page boundary. See Aligned Memory Blocks.\n",
    "\n",
    "void *aligned_alloc (size_t size, size_t alignment)\n",
    "// Allocate a block of size bytes, starting on an address that is a multiple of alignment. See Aligned Memory Blocks.\n",
    "\n",
    "int posix_memalign (void **memptr, size_t alignment, size_t size)\n",
    "// Allocate a block of size bytes, starting on an address that is a multiple of alignment. See Aligned Memory Blocks.\n",
    "\n",
    "void *memalign (size_t size, size_t boundary)\n",
    "//Allocate a block of size bytes, starting on an address that is a multiple of boundary. See Aligned Memory Blocks.\n",
    "\n",
    "int mallopt (int param, int value)\n",
    "// Adjust a tunable parameter. See Malloc Tunable Parameters.\n",
    "\n",
    "int mcheck (void (*abortfn) (void))\n",
    "// Tell malloc to perform occasional consistency checks on dynamically allocated memory, and to call abortfn when an inconsistency is found. See Heap Consistency Checking.\n",
    "\n",
    "struct mallinfo2 mallinfo2 (void)\n",
    "// Return information about the current dynamic memory usage. See Statistics of Malloc.\n",
    "```"
   ]
  },
  {
   "cell_type": "markdown",
   "id": "05a41eb0",
   "metadata": {
    "slideshow": {
     "slide_type": "slide"
    }
   },
   "source": [
    "### Explore with an example"
   ]
  },
  {
   "cell_type": "markdown",
   "id": "269b88b7",
   "metadata": {},
   "source": [
    "#### man malloc"
   ]
  },
  {
   "cell_type": "code",
   "execution_count": 79,
   "id": "2586ba8a",
   "metadata": {
    "scrolled": true
   },
   "outputs": [
    {
     "name": "stdout",
     "output_type": "stream",
     "text": [
      "$ man 3 malloc\n",
      "MALLOC(3)                  Linux Programmer's Manual                 MALLOC(3)\n",
      "\n",
      "NAME\n",
      "       malloc, free, calloc, realloc - allocate and free dynamic memory\n",
      "\n",
      "SYNOPSIS\n",
      "       #include <stdlib.h>\n",
      "\n",
      "       void *malloc(size_t size);\n",
      "       void free(void *ptr);\n",
      "       void *calloc(size_t nmemb, size_t size);\n",
      "       void *realloc(void *ptr, size_t size);\n",
      "       void *reallocarray(void *ptr, size_t nmemb, size_t size);\n",
      "\n",
      "   Feature Test Macro Requirements for glibc (see feature_test_macros(7)):\n",
      "\n",
      "       reallocarray():\n",
      "           Since glibc 2.29:\n",
      "               _DEFAULT_SOURCE\n",
      "           Glibc 2.28 and earlier:\n",
      "               _GNU_SOURCE\n",
      "\n",
      "DESCRIPTION\n",
      "       The malloc() function allocates size bytes and returns a pointer to the\n",
      "       allocated memory.  The memory is not initialized.  If size is  0,  then\n",
      "       malloc()  returns either NULL, or a unique pointer value that can later\n",
      "       be successfully passed to free().\n",
      "\n",
      "       The free() function frees the memory space pointed  to  by  ptr,  which\n",
      "       must  have  been  returned by a previous call to malloc(), calloc(), or\n",
      "       realloc().  Otherwise, or if free(ptr) has already been called  before,\n",
      "       undefined behavior occurs.  If ptr is NULL, no operation is performed.\n",
      "\n",
      "       The  calloc()  function allocates memory for an array of nmemb elements\n",
      "       of size bytes each and returns a pointer to the allocated memory.   The\n",
      "       memory  is  set  to zero.  If nmemb or size is 0, then calloc() returns\n",
      "       either NULL, or a unique pointer value that can later  be  successfully\n",
      "       passed to free().  If the multiplication of nmemb and size would result\n",
      "       in integer overflow, then calloc() returns an error.  By  contrast,  an\n",
      "       integer  overflow  would  not be detected in the following call to mal‐\n",
      "       loc(), with the result that an incorrectly sized block of memory  would\n",
      "       be allocated:\n",
      "\n",
      "           malloc(nmemb * size);\n",
      "\n",
      "       The  realloc() function changes the size of the memory block pointed to\n",
      "       by ptr to size bytes.  The contents will be unchanged in the range from\n",
      "       the start of the region up to the minimum of the old and new sizes.  If\n",
      "       the new size is larger than the old size, the added memory will not  be\n",
      "       initialized.   If  ptr  is  NULL,  then  the call is equivalent to mal‐\n",
      "       loc(size), for all values of size; if size is equal to zero, and ptr is\n",
      "       not  NULL,  then  the  call  is equivalent to free(ptr).  Unless ptr is\n",
      "       NULL, it must have been returned by an earlier call to  malloc(),  cal‐\n",
      "       loc(),  or realloc().  If the area pointed to was moved, a free(ptr) is\n",
      "       done.\n",
      "\n",
      "       The reallocarray() function  changes  the  size  of  the  memory  block\n",
      "       pointed  to  by  ptr to be large enough for an array of nmemb elements,\n",
      "       each of which is size bytes.  It is equivalent to the call\n",
      "\n",
      "               realloc(ptr, nmemb * size);\n",
      "\n",
      "       However, unlike that realloc() call, reallocarray() fails safely in the\n",
      "\n"
     ]
    }
   ],
   "source": [
    "TermShellCmd(\"man 3 malloc\", noposttext=True, markdown=False)"
   ]
  },
  {
   "cell_type": "markdown",
   "id": "0649ed62",
   "metadata": {
    "slideshow": {
     "slide_type": "slide"
    }
   },
   "source": [
    "**What does this code do?**\n",
    "- What do you think will happen?"
   ]
  },
  {
   "cell_type": "code",
   "execution_count": 5,
   "id": "6b3153bf",
   "metadata": {
    "hide_input": true,
    "slideshow": {
     "slide_type": "-"
    },
    "tags": [
     "remove-input"
    ]
   },
   "outputs": [
    {
     "data": {
      "text/markdown": [
       "<font size='6.5em'><b>C: dynmem.c\n",
       "<div style=\"width:100%; height:100%; font-size:inherit; overflow: auto;\" >\n",
       "\n",
       "\n",
       "``` c\n",
       "#include <stdlib.h>\n",
       "#include <string.h>\n",
       "#include <unistd.h>\n",
       "// Use debugger to explore what happens\n",
       "int main(int argc, char **argv)\n",
       "{\n",
       "  char *cptr;\n",
       "  int n = 4096;\n",
       "\n",
       "  cptr = malloc(n);\n",
       "  memset(cptr, 0xaa, n);\n",
       "  free(cptr);\n",
       "  return 0;\n",
       "}\n",
       "\n",
       "```\n",
       "\n",
       "\n",
       "</div>\n",
       "</font>"
      ],
      "text/plain": [
       "<IPython.core.display.Markdown object>"
      ]
     },
     "metadata": {},
     "output_type": "display_data"
    },
    {
     "name": "stdout",
     "output_type": "stream",
     "text": [
      "\n",
      "gcc -Werror  -g dynmem.c -o dynmem\n",
      "\n"
     ]
    }
   ],
   "source": [
    "display(Markdown(\"<font size='6.5em'>\" + FileCodeBox(\n",
    "    file=appdir + \"/dynmem.c\", \n",
    "    lang=\"c\", \n",
    "    title=\"<b>C: dynmem.c\",\n",
    "    h=\"100%\", \n",
    "    w=\"100%\"\n",
    ")+\"</font>\"))\n",
    "TermShellCmd(\"[[ -a dynmem ]] && rm dynmem;make dynmem\", cwd=appdir, prompt='', noposttext=True)"
   ]
  },
  {
   "cell_type": "code",
   "execution_count": 81,
   "id": "526f7f9f",
   "metadata": {
    "tags": [
     "remove-input"
    ]
   },
   "outputs": [
    {
     "data": {
      "text/markdown": [
       "<b>Debug</b>"
      ],
      "text/plain": [
       "<IPython.core.display.Markdown object>"
      ]
     },
     "metadata": {},
     "output_type": "display_data"
    }
   ],
   "source": [
    "display(showDT())"
   ]
  },
  {
   "cell_type": "markdown",
   "id": "2bca27de",
   "metadata": {
    "slideshow": {
     "slide_type": "notes"
    }
   },
   "source": [
    "- demonstrate strace ./dynmem\n",
    "  - what do you expect to see\n",
    "Use debugger \n",
    "  - use `jump` command and `set var n=X` to execute several malloc calls\n",
    "  - explore /proc/<pid>/maps\n",
    "  - set breakpoints on malloc, sbrk, brk, \n",
    "    - disass - brk easy see syscall\n",
    "    - break on syscall instruction - look at maps\n",
    "    - use where to show call chains\n",
    "- then add below and use strace\n",
    "\n",
    "```c\n",
    "#include <stdlib.h>\n",
    "#include <unistd.h>\n",
    "\n",
    "// Use debugger to explore what happens                                            \n",
    "\n",
    "int\n",
    "main(int argc, char **argv)\n",
    "{\n",
    "  char *cptr;\n",
    "  char c;\n",
    "\n",
    "  read(0, &c, 1);\n",
    "\n",
    "  int n = 4096;\n",
    "  cptr = malloc(n);\n",
    "  read(0, &c, 1);\n",
    "\n",
    "  n = 1024 * 1024  * 1024;\n",
    "  cptr = malloc(n);\n",
    "  read(0, &c, 1);\n",
    "\n",
    "  n = 1024 * 1024  * 1024;\n",
    "  cptr = malloc(n);\n",
    "  read(0, &c, 1);\n",
    "\n",
    "  free(cptr);\n",
    "  return 0;\n",
    "}\n",
    "```"
   ]
  },
  {
   "cell_type": "markdown",
   "id": "24712750",
   "metadata": {
    "slideshow": {
     "slide_type": "slide"
    }
   },
   "source": [
    "#### LibC typically C wrappers for OS system calls and support for making syscalls directly in C\n"
   ]
  },
  {
   "cell_type": "markdown",
   "id": "fd98f3c4",
   "metadata": {},
   "source": [
    "**libc provides C wrappers for system calls**\n",
    "\n",
    "- Wrappers expose C function interface for system calls of the OS\n",
    "- You can lookup C version and simply call it like any other C function call\n",
    "  - implementation in libc takes care of all the assembly stuff for you\n",
    "    - putting parameters in the right registers\n",
    "    - filling in the system call number"
   ]
  },
  {
   "cell_type": "markdown",
   "id": "d1ac894f",
   "metadata": {
    "slideshow": {
     "slide_type": "slide"
    }
   },
   "source": [
    "**man 2 syscalls**"
   ]
  },
  {
   "cell_type": "code",
   "execution_count": 82,
   "id": "4f5398b4",
   "metadata": {
    "scrolled": true,
    "tags": [
     "remove-input"
    ]
   },
   "outputs": [
    {
     "name": "stdout",
     "output_type": "stream",
     "text": [
      "$ man 2 syscalls|head -80\n",
      "SYSCALLS(2)                Linux Programmer's Manual               SYSCALLS(2)\n",
      "\n",
      "NAME\n",
      "       syscalls - Linux system calls\n",
      "\n",
      "SYNOPSIS\n",
      "       Linux system calls.\n",
      "\n",
      "DESCRIPTION\n",
      "       The system call is the fundamental interface between an application and\n",
      "       the Linux kernel.\n",
      "\n",
      "   System calls and library wrapper functions\n",
      "       System calls are generally not invoked directly, but rather via wrapper\n",
      "       functions in glibc (or perhaps some other library).  For details of di‐\n",
      "       rect invocation of a system call, see intro(2).  Often, but not always,\n",
      "       the  name of the wrapper function is the same as the name of the system\n",
      "       call that it invokes.  For example, glibc contains a  function  chdir()\n",
      "       which invokes the underlying \"chdir\" system call.\n",
      "\n",
      "       Often the glibc wrapper function is quite thin, doing little work other\n",
      "       than copying arguments to the right registers before invoking the  sys‐\n",
      "       tem  call,  and  then setting errno appropriately after the system call\n",
      "       has returned.   (These  are  the  same  steps  that  are  performed  by\n",
      "       syscall(2), which can be used to invoke system calls for which no wrap‐\n",
      "       per function is provided.)  Note: system calls indicate  a  failure  by\n",
      "       returning  a negative error number to the caller on architectures with‐\n",
      "       out a separate error register/flag, as noted in syscall(2);  when  this\n",
      "       happens,  the  wrapper  function  negates the returned error number (to\n",
      "       make it positive), copies it to errno, and returns -1 to the caller  of\n",
      "       the wrapper.\n",
      "\n",
      "       Sometimes,  however,  the  wrapper function does some extra work before\n",
      "       invoking the system call.  For example, nowadays there are (for reasons\n",
      "       described  below)  two  related  system  calls,  truncate(2)  and trun‐\n",
      "       cate64(2), and the glibc truncate() wrapper function  checks  which  of\n",
      "       those  system  calls  are  provided  by the kernel and determines which\n",
      "       should be employed.\n",
      "\n",
      "   System call list\n",
      "       Below is a list of the Linux system calls.  In  the  list,  the  Kernel\n",
      "       column  indicates  the  kernel version for those system calls that were\n",
      "       new in Linux 2.2, or have appeared since that kernel version.  Note the\n",
      "       following points:\n",
      "\n",
      "       *  Where  no  kernel  version is indicated, the system call appeared in\n",
      "          kernel 1.0 or earlier.\n",
      "\n",
      "       *  Where a system call is marked \"1.2\" this means the system call prob‐\n",
      "          ably  appeared  in  a  1.1.x kernel version, and first appeared in a\n",
      "          stable kernel with 1.2.  (Development of the 1.2 kernel  was  initi‐\n",
      "          ated from a branch of kernel 1.0.6 via the 1.1.x unstable kernel se‐\n",
      "          ries.)\n",
      "\n",
      "       *  Where a system call is marked \"2.0\" this means the system call prob‐\n",
      "          ably  appeared  in  a  1.3.x kernel version, and first appeared in a\n",
      "          stable kernel with 2.0.  (Development of the 2.0 kernel  was  initi‐\n",
      "          ated from a branch of kernel 1.2.x, somewhere around 1.2.10, via the\n",
      "          1.3.x unstable kernel series.)\n",
      "\n",
      "       *  Where a system call is marked \"2.2\" this means the system call prob‐\n",
      "          ably  appeared  in  a  2.1.x kernel version, and first appeared in a\n",
      "          stable kernel with 2.2.0.  (Development of the 2.2 kernel was initi‐\n",
      "          ated  from  a  branch of kernel 2.0.21 via the 2.1.x unstable kernel\n",
      "          series.)\n",
      "\n",
      "       *  Where a system call is marked \"2.4\" this means the system call prob‐\n",
      "          ably  appeared  in  a  2.3.x kernel version, and first appeared in a\n",
      "          stable kernel with 2.4.0.  (Development of the 2.4 kernel was initi‐\n",
      "          ated from a branch of kernel 2.2.8 via the 2.3.x unstable kernel se‐\n",
      "          ries.)\n",
      "\n",
      "       *  Where a system call is marked \"2.6\" this means the system call prob‐\n",
      "          ably  appeared  in  a  2.5.x kernel version, and first appeared in a\n",
      "          stable kernel with 2.6.0.  (Development of kernel 2.6\n"
     ]
    }
   ],
   "source": [
    "TermShellCmd(\"man 2 syscalls|head -80\", noposttext=True, markdown=False)"
   ]
  },
  {
   "cell_type": "markdown",
   "id": "d26385bd",
   "metadata": {
    "slideshow": {
     "slide_type": "slide"
    }
   },
   "source": [
    "**man 2 brk**"
   ]
  },
  {
   "cell_type": "code",
   "execution_count": 83,
   "id": "78532fa3",
   "metadata": {
    "hide_input": false,
    "scrolled": true,
    "tags": [
     "remove-input"
    ]
   },
   "outputs": [
    {
     "name": "stdout",
     "output_type": "stream",
     "text": [
      "$ man 2 brk\n",
      "BRK(2)                     Linux Programmer's Manual                    BRK(2)\n",
      "\n",
      "NAME\n",
      "       brk, sbrk - change data segment size\n",
      "\n",
      "SYNOPSIS\n",
      "       #include <unistd.h>\n",
      "\n",
      "       int brk(void *addr);\n",
      "\n",
      "       void *sbrk(intptr_t increment);\n",
      "\n",
      "   Feature Test Macro Requirements for glibc (see feature_test_macros(7)):\n",
      "\n",
      "       brk(), sbrk():\n",
      "           Since glibc 2.19:\n",
      "               _DEFAULT_SOURCE ||\n",
      "                   (_XOPEN_SOURCE >= 500) &&\n",
      "                   ! (_POSIX_C_SOURCE >= 200112L)\n",
      "           From glibc 2.12 to 2.19:\n",
      "               _BSD_SOURCE || _SVID_SOURCE ||\n",
      "                   (_XOPEN_SOURCE >= 500) &&\n",
      "                   ! (_POSIX_C_SOURCE >= 200112L)\n",
      "           Before glibc 2.12:\n",
      "               _BSD_SOURCE || _SVID_SOURCE || _XOPEN_SOURCE >= 500\n",
      "\n",
      "DESCRIPTION\n",
      "       brk()  and  sbrk()  change the location of the program break, which de‐\n",
      "       fines the end of the process's data segment (i.e., the program break is\n",
      "       the  first  location  after the end of the uninitialized data segment).\n",
      "       Increasing the program break has the effect of allocating memory to the\n",
      "       process; decreasing the break deallocates memory.\n",
      "\n",
      "       brk()  sets the end of the data segment to the value specified by addr,\n",
      "       when that value is reasonable, the system has enough  memory,  and  the\n",
      "       process does not exceed its maximum data size (see setrlimit(2)).\n",
      "\n",
      "       sbrk() increments the program's data space by increment bytes.  Calling\n",
      "       sbrk() with an increment of 0 can be used to find the current  location\n",
      "       of the program break.\n",
      "\n",
      "RETURN VALUE\n",
      "       On success, brk() returns zero.  On error, -1 is returned, and errno is\n",
      "       set to ENOMEM.\n",
      "\n",
      "       On success, sbrk() returns the previous program break.  (If  the  break\n",
      "       was  increased,  then this value is a pointer to the start of the newly\n",
      "       allocated memory).  On error, (void *) -1 is returned, and errno is set\n",
      "       to ENOMEM.\n",
      "\n",
      "CONFORMING TO\n",
      "       4.3BSD; SUSv1, marked LEGACY in SUSv2, removed in POSIX.1-2001.\n",
      "\n",
      "NOTES\n",
      "       Avoid  using  brk() and sbrk(): the malloc(3) memory allocation package\n",
      "       is the portable and comfortable way of allocating memory.\n",
      "\n",
      "       Various systems use various types for the argument of  sbrk().   Common\n",
      "       are int, ssize_t, ptrdiff_t, intptr_t.\n",
      "\n",
      "   C library/kernel differences\n",
      "       The  return value described above for brk() is the behavior provided by\n",
      "       the glibc wrapper function for the Linux brk() system call.   (On  most\n",
      "       other  implementations,  the  return value from brk() is the same; this\n",
      "       return value was also specified in SUSv2.)  However, the  actual  Linux\n",
      "       system  call returns the new program break on success.  On failure, the\n",
      "       system call returns the current break.  The glibc wrapper function does\n",
      "       some  work  (i.e.,  checks  whether the new break is less than addr) to\n",
      "       provide the 0 and -1 return values described above.\n",
      "\n",
      "       On Linux, sbrk() is implemented as a library  function  that  uses  the\n",
      "       brk()  system  call,  and does some internal bookkeeping so that it can\n",
      "       return the old break value.\n",
      "\n",
      "SEE ALSO\n",
      "       execve(2), getrlimit(2), end(3), malloc(3)\n",
      "\n",
      "COLOPHON\n",
      "       This page is part of release 5.05 of the Linux  m\n"
     ]
    }
   ],
   "source": [
    "TermShellCmd(\"man 2 brk\", noposttext=True, markdown=False)"
   ]
  },
  {
   "cell_type": "markdown",
   "id": "275e0757",
   "metadata": {
    "slideshow": {
     "slide_type": "slide"
    }
   },
   "source": [
    "**glibc also has support for using the syscall instruction in C**"
   ]
  },
  {
   "cell_type": "markdown",
   "id": "31134d14",
   "metadata": {
    "hide_input": true
   },
   "source": [
    "**man 2 syscall**"
   ]
  },
  {
   "cell_type": "code",
   "execution_count": 84,
   "id": "73b21bbf",
   "metadata": {
    "hide_input": true,
    "scrolled": true,
    "tags": [
     "remove-input"
    ]
   },
   "outputs": [
    {
     "name": "stdout",
     "output_type": "stream",
     "text": [
      "$ man 2 syscall\n",
      "SYSCALL(2)                 Linux Programmer's Manual                SYSCALL(2)\n",
      "\n",
      "NAME\n",
      "       syscall - indirect system call\n",
      "\n",
      "SYNOPSIS\n",
      "       #include <unistd.h>\n",
      "       #include <sys/syscall.h>   /* For SYS_xxx definitions */\n",
      "\n",
      "       long syscall(long number, ...);\n",
      "\n",
      "   Feature Test Macro Requirements for glibc (see feature_test_macros(7)):\n",
      "       syscall():\n",
      "           Since glibc 2.19:\n",
      "               _DEFAULT_SOURCE\n",
      "           Before glibc 2.19:\n",
      "               _BSD_SOURCE || _SVID_SOURCE\n",
      "\n",
      "DESCRIPTION\n",
      "       syscall()  is  a  small  library  function that invokes the system call\n",
      "       whose assembly language interface has the  specified  number  with  the\n",
      "       specified  arguments.  Employing syscall() is useful, for example, when\n",
      "       invoking a system call that has no wrapper function in the C library.\n",
      "\n",
      "       syscall() saves CPU registers before making the system  call,  restores\n",
      "       the  registers  upon  return from the system call, and stores any error\n",
      "       code returned by the system call in errno(3) if an error occurs.\n",
      "\n",
      "       Symbolic constants for system call numbers can be found in  the  header\n",
      "       file <sys/syscall.h>.\n",
      "\n",
      "RETURN VALUE\n",
      "       The  return value is defined by the system call being invoked.  In gen‐\n",
      "       eral, a 0 return value indicates success.  A -1 return value  indicates\n",
      "       an error, and an error code is stored in errno.\n",
      "\n",
      "NOTES\n",
      "       syscall() first appeared in 4BSD.\n",
      "\n",
      "   Architecture-specific requirements\n",
      "       Each architecture ABI has its own requirements on how system call argu‐\n",
      "       ments are passed to the kernel.  For system calls  that  have  a  glibc\n",
      "       wrapper (e.g., most system calls), glibc handles the details of copying\n",
      "       arguments to the right registers in a manner suitable for the architec‐\n",
      "       ture.   However, when using syscall() to make a system call, the caller\n",
      "       might need to handle architecture-dependent details;  this  requirement\n",
      "       is most commonly encountered on certain 32-bit architectures.\n",
      "\n",
      "       For  example,  on  the  ARM  architecture Embedded ABI (EABI), a 64-bit\n",
      "       value (e.g., long long) must be  aligned  to  an  even  register  pair.\n",
      "       Thus,  using  syscall()  instead  of the wrapper provided by glibc, the\n",
      "       readahead() system call would be invoked as follows on the  ARM  archi‐\n",
      "       tecture with the EABI in little endian mode:\n",
      "\n",
      "           syscall(SYS_readahead, fd, 0,\n",
      "                   (unsigned int) (offset & 0xFFFFFFFF),\n",
      "                   (unsigned int) (offset >> 32),\n",
      "                   count);\n",
      "\n",
      "       Since  the  offset  argument is 64 bits, and the first argument (fd) is\n",
      "       passed in r0, the caller must manually split and align the 64-bit value\n",
      "       so  that it is passed in the r2/r3 register pair.  That means inserting\n",
      "       a dummy value into r1 (the second argument of 0).  Care  also  must  be\n",
      "       taken  so that the split follows endian conventions (according to the C\n",
      "       ABI for the platform).\n",
      "\n",
      "       Similar issues can occur on MIPS with  the  O32  ABI,  on  PowerPC  and\n",
      "       parisc with the 32-bit ABI, and on Xtensa.\n",
      "\n",
      "       Note  that  while the parisc C ABI also uses aligned register pairs, it\n",
      "       uses a shim layer to hide the issue from user space.\n",
      "\n",
      "       The  affected  system  calls   are   fadvise64_64(2),   ftruncate64(2),\n",
      "       posix_fadvise(2),      pread64(2),      pwr\n"
     ]
    }
   ],
   "source": [
    "TermShellCmd(\"man 2 syscall\", noposttext=True, markdown=False)"
   ]
  },
  {
   "cell_type": "markdown",
   "id": "200e0dee",
   "metadata": {
    "slideshow": {
     "slide_type": "slide"
    }
   },
   "source": [
    "**In the following example we will call brk directly rather than letting malloc call it**\n",
    "\n",
    "Do not do this -- you can screw up malloc only for example purposes\n"
   ]
  },
  {
   "cell_type": "code",
   "execution_count": 6,
   "id": "82abbdd5",
   "metadata": {
    "hide_input": true,
    "slideshow": {
     "slide_type": "slide"
    },
    "tags": [
     "remove-input"
    ]
   },
   "outputs": [
    {
     "data": {
      "text/markdown": [
       "<font size=\"6rem\"><b>C: dynmemsyscalls.c\n",
       "<div style=\"width:107em; height:100%; font-size:inherit; overflow: auto;\" >\n",
       "\n",
       "\n",
       "``` c\n",
       "#include <stdlib.h>\n",
       "#include <string.h>\n",
       "#include <unistd.h>\n",
       "#include <sys/syscall.h>   /* For SYS_xxx definitions */\n",
       "\n",
       "int\n",
       "main(int argc, char **argv)\n",
       "{\n",
       "  char *cptr;\n",
       "  int n = 4096;\n",
       "\n",
       "  cptr = malloc(n);\n",
       "  memset(cptr, 0xaa, n);\n",
       "  free(cptr);\n",
       "\n",
       "  cptr = sbrk(4096);\n",
       "  memset(cptr, 0xaa, 4096);\n",
       "\n",
       "  cptr = (void *) syscall(12, 0); // hardcode syscall number\n",
       "  syscall(SYS_brk, cptr + 4096);  // use constant from header\n",
       "  memset(cptr, 0xaa, 4096);\n",
       "\n",
       "  return 0;\n",
       "}\n",
       "\n",
       "```\n",
       "\n",
       "\n",
       "</div>\n",
       "</font>"
      ],
      "text/plain": [
       "<IPython.core.display.Markdown object>"
      ]
     },
     "metadata": {},
     "output_type": "display_data"
    },
    {
     "name": "stdout",
     "output_type": "stream",
     "text": [
      "\n",
      "gcc -Werror  -g dynmemsyscalls.c -o dynmemsyscalls\n",
      "\n"
     ]
    }
   ],
   "source": [
    "display(Markdown('<font size=\"6rem\">' + FileCodeBox(\n",
    "    file=appdir + \"/dynmemsyscalls.c\", \n",
    "    lang=\"c\", \n",
    "    title=\"<b>C: dynmemsyscalls.c\",\n",
    "    h=\"100%\", \n",
    "    w=\"107em\"\n",
    ") + \"</font>\"))\n",
    "TermShellCmd(\"[[ -a dynmemsyscalls ]] && rm dynmemsyscalls;make dynmemsyscalls\", cwd=appdir, prompt='', noposttext=True)"
   ]
  },
  {
   "cell_type": "markdown",
   "id": "7f40a24c",
   "metadata": {
    "hide_input": true,
    "slideshow": {
     "slide_type": "slide"
    }
   },
   "source": [
    "#### You can use `mmap` and `munmap` in your C programs to manage your own  dynamic address space mapping\n"
   ]
  },
  {
   "cell_type": "markdown",
   "id": "61bd6f8f",
   "metadata": {
    "slideshow": {
     "slide_type": "slide"
    }
   },
   "source": [
    "**man mmap**\n",
    "\n",
    "It is very powerful but also has a lot of parameters "
   ]
  },
  {
   "cell_type": "code",
   "execution_count": 86,
   "id": "2c225cad",
   "metadata": {
    "hide_input": true,
    "scrolled": true,
    "tags": [
     "remove-input"
    ]
   },
   "outputs": [
    {
     "name": "stdout",
     "output_type": "stream",
     "text": [
      "$ man 2 mmap|head -40\n",
      "MMAP(2)                    Linux Programmer's Manual                   MMAP(2)\n",
      "\n",
      "NAME\n",
      "       mmap, munmap - map or unmap files or devices into memory\n",
      "\n",
      "SYNOPSIS\n",
      "       #include <sys/mman.h>\n",
      "\n",
      "       void *mmap(void *addr, size_t length, int prot, int flags,\n",
      "                  int fd, off_t offset);\n",
      "       int munmap(void *addr, size_t length);\n",
      "\n",
      "       See NOTES for information on feature test macro requirements.\n",
      "\n",
      "DESCRIPTION\n",
      "       mmap()  creates a new mapping in the virtual address space of the call‐\n",
      "       ing process.  The starting address for the new mapping is specified  in\n",
      "       addr.   The  length argument specifies the length of the mapping (which\n",
      "       must be greater than 0).\n",
      "\n",
      "       If addr is NULL, then the kernel chooses the (page-aligned) address  at\n",
      "       which to create the mapping; this is the most portable method of creat‐\n",
      "       ing a new mapping.  If addr is not NULL, then the kernel takes it as  a\n",
      "       hint about where to place the mapping; on Linux, the kernel will pick a\n",
      "       nearby page boundary (but always above or equal to the value  specified\n",
      "       by /proc/sys/vm/mmap_min_addr) and attempt to create the mapping there.\n",
      "       If another mapping already exists there, the kernel picks a new address\n",
      "       that may or may not depend on the hint.  The address of the new mapping\n",
      "       is returned as the result of the call.\n",
      "\n",
      "       The contents of a file mapping (as opposed to an anonymous mapping; see\n",
      "       MAP_ANONYMOUS  below),  are  initialized using length bytes starting at\n",
      "       offset offset in the file (or other object) referred to by the file de‐\n",
      "       scriptor fd.  offset must be a multiple of the page size as returned by\n",
      "       sysconf(_SC_PAGE_SIZE).\n",
      "\n",
      "       After the mmap() call has returned, the file  descriptor,  fd,  can  be\n",
      "       closed immediately without invalidating the mapping.\n",
      "\n",
      "       The  prot  argument describes the desired memory protection of the map‐\n",
      "\n"
     ]
    }
   ],
   "source": [
    "TermShellCmd(\"man 2 mmap|head -40\", noposttext=True, markdown=False)"
   ]
  },
  {
   "cell_type": "markdown",
   "id": "6ce06bc9",
   "metadata": {
    "slideshow": {
     "slide_type": "slide"
    }
   },
   "source": [
    "### Under the covers `malloc`, `free` and friends\n",
    "- are calling `brk`, `mmap` and `munmap` \n",
    "- you and your code does not need to deal with the details\n",
    "  - rather a simpler interface that is consistent across CPU types and OS\n",
    "    - get me `n` bytes of memory and return a pointer to it \n",
    "    - give back memory at this address"
   ]
  },
  {
   "cell_type": "markdown",
   "id": "fb635513",
   "metadata": {
    "slideshow": {
     "slide_type": "slide"
    }
   },
   "source": [
    "#### Important points about dynamic memory\n",
    "\n",
    "What is wrong with this code?"
   ]
  },
  {
   "cell_type": "code",
   "execution_count": 7,
   "id": "cbc98087",
   "metadata": {
    "hide_input": true,
    "tags": [
     "remove-input"
    ]
   },
   "outputs": [
    {
     "data": {
      "text/markdown": [
       "<font size=\"6rem\"><b>C: badmsgcode.c\n",
       "<div style=\"width:100%; height:100%; font-size:inherit; overflow: auto;\" >\n",
       "\n",
       "\n",
       "``` c\n",
       "#include <stdlib.h>\n",
       "#include <assert.h>\n",
       "\n",
       "// waits for request message to arrive: returns length in bytes and updates integer pointed to\n",
       "// by idPtr with id of request\n",
       "int getRequest(int *idPtr);\n",
       "// read the data of request with id into memory pointed to by buffer\n",
       "void readRequestData(int id, char *buffer);\n",
       "// process request with id and data in memory pointed to by buffer, frees buffer when done\n",
       "void processRequest(int id, char *buffer);\n",
       "\n",
       "int\n",
       "main(int argc, char **argv)\n",
       "{\n",
       "  int n;\n",
       "  int *id_ptr;\n",
       "  char *msg_buffer;\n",
       "\n",
       "  // my server loop\n",
       "  while (1) {\n",
       "    id_ptr = malloc(sizeof(int));\n",
       "    assert(id_ptr != 0);\n",
       "    n = getRequest(id_ptr);\n",
       "    msg_buffer = malloc(n);\n",
       "    assert(msg_buffer != 0);\n",
       "    readRequestData(*id_ptr, msg_buffer);\n",
       "    processRequest(*id_ptr, msg_buffer);\n",
       "  }\n",
       "  // should never get here\n",
       "  exit(0);\n",
       "}\n",
       "\n",
       "```\n",
       "\n",
       "\n",
       "</div>\n",
       "</font>"
      ],
      "text/plain": [
       "<IPython.core.display.Markdown object>"
      ]
     },
     "metadata": {},
     "output_type": "display_data"
    },
    {
     "name": "stdout",
     "output_type": "stream",
     "text": [
      "\n",
      "gcc  -g -Werror -c  badmsgcode.c -o badmsgcode.o\n",
      "\n"
     ]
    }
   ],
   "source": [
    "display(Markdown('<font size=\"6rem\">' + FileCodeBox(\n",
    "    file=appdir + \"/badmsgcode.c\", \n",
    "    lang=\"c\", \n",
    "    title=\"<b>C: badmsgcode.c\",\n",
    "    h=\"100%\", \n",
    "    w=\"100%\"\n",
    ") + \"</font>\"))\n",
    "TermShellCmd(\"[[ -a badmsgcode.o ]] && rm badmsgcode.o;make badmsgcode.o\", cwd=appdir, prompt='', noposttext=True)"
   ]
  },
  {
   "cell_type": "markdown",
   "id": "c1c90b08",
   "metadata": {},
   "source": [
    "- this is why higher level languages have a lot of code to hide the details of dynamic memory\n",
    "  - reference counting\n",
    "  - garbage collectors"
   ]
  },
  {
   "cell_type": "markdown",
   "id": "05f6b9f1",
   "metadata": {
    "slideshow": {
     "slide_type": "slide"
    }
   },
   "source": [
    "## Layers\n",
    "\n",
    "What we see is a general pattern of layering\n",
    "\n",
    "- Assembly is at the bottom\n",
    "- OS kernel provides an assembly interface to its routines \n",
    "  - x86 Linux system calls invoked via `syscall` instruction and the right register values\n",
    "- lowest layer of libc routines provides wrappers\n",
    "- The other lib routines build on these to add more functionality eg. `malloc` and `free`\n",
    "  - thus programmers and C applications are isolated from details of OS syscalls\n",
    "    - simply need to learn libc which is ported to each computer OS pair"
   ]
  },
  {
   "cell_type": "markdown",
   "id": "a993c3c9",
   "metadata": {
    "slideshow": {
     "slide_type": "slide"
    }
   },
   "source": [
    "## IO is no different\n",
    "\n",
    "### Lowest layer is wrappers for core UNIX I/O routines\n",
    "\n",
    "- `open`, `close`, `read`, `write`, `dup`, `mkdir`, `exec`, `mmap`\n",
    "\n",
    "### A layer up buffered and formated I/O\n",
    "\n",
    "- `fopen`, `fclose`, `fread`, `fwrite`, \n",
    "- `fprintf`/`printf`, `fscanf`/`scanf`\n"
   ]
  }
 ],
 "metadata": {
  "celltoolbar": "Slideshow",
  "hide_input": true,
  "kernelspec": {
   "display_name": "Python 3 (ipykernel)",
   "language": "python",
   "name": "python3"
  },
  "language_info": {
   "codemirror_mode": {
    "name": "ipython",
    "version": 3
   },
   "file_extension": ".py",
   "mimetype": "text/x-python",
   "name": "python",
   "nbconvert_exporter": "python",
   "pygments_lexer": "ipython3",
   "version": "3.9.6"
  },
  "rise": {
   "autolaunch": false,
   "enable_chalkboard": true,
   "footer": "UC-SLS -- Lecture 18",
   "header": "C: Organizing Opcodes",
   "height": "100%",
   "scroll": true,
   "start_slideshow_at": "selected",
   "theme": "black",
   "transition": "none",
   "width": "100%"
  }
 },
 "nbformat": 4,
 "nbformat_minor": 5
}
