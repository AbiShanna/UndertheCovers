{
 "cells": [
  {
   "cell_type": "code",
   "execution_count": 134,
   "id": "713c9893",
   "metadata": {
    "slideshow": {
     "slide_type": "skip"
    }
   },
   "outputs": [],
   "source": [
    "%run -i ../python/common.py\n",
    "UC_SKIPTERMS=True\n",
    "%run -i ../python/ln_preamble.py"
   ]
  },
  {
   "cell_type": "markdown",
   "id": "50d6bf36-6374-4939-b64e-a60fb92850f3",
   "metadata": {},
   "source": [
    "# UC-SLS Lecture 20 : Using LibC to access the OS and escape the confines our process\n",
    "- Preliminaries\n",
    "  - libraries\n",
    "  - Standard library : `libc.a[.so]`\n",
    "- Address Space management:\n",
    "  - dynamic memory for data items: `malloc` and `free`\n",
    "  - more powerfully control using `mmap` and `munmap`\n",
    "- I/O\n",
    "  - low-level file descriptor based: `open`, `read`, `write`, `close`, `getc`, `getchar`, `gets`, `putc`, `putchar`, `puts`\n",
    "  - Formatted and Buffered IO: `fopen`, `fread`, `fwrite`, `fclose`, `fprintf`/`printf`,\n",
    "  `fscanf`/`scanf`, `fgetc`, `fgets`, `fputs`, `fputc`, `fgetpos`, `fsetpos`, `fseek`, `fflush`, "
   ]
  },
  {
   "cell_type": "code",
   "execution_count": 136,
   "id": "0f435bfd",
   "metadata": {
    "hide_input": true
   },
   "outputs": [
    {
     "data": {
      "text/markdown": [
       "\n",
       "- create a directory `mkdir libc; cd libc`\n",
       "- copy examples\n",
       "- add a `Makefile` to automate assembling and linking\n",
       "    - we are going run the commands by hand this time to highlight the details\n",
       "- normally you would want to track everything in git\n"
      ],
      "text/plain": [
       "<IPython.core.display.Markdown object>"
      ]
     },
     "metadata": {},
     "output_type": "display_data"
    },
    {
     "name": "stdout",
     "output_type": "stream",
     "text": [
      "$ ls /home/jovyan/libc\n",
      "badmsgcode.c  cexp.c  dynmem.c  dynmemsyscalls.c  Makefile\r\n",
      "$ \n"
     ]
    }
   ],
   "source": [
    "# setup for sumit examples\n",
    "appdir=os.getenv('HOME')\n",
    "appdir=appdir + \"/libc\"\n",
    "#print(movdir)\n",
    "output=runTermCmd(\"[[ -d \" + appdir + \" ]] &&  rm -rf \"+ appdir + \n",
    "             \";mkdir \" + appdir + \n",
    "             \";cp ../src/Makefile ../src/cexp.c ../src/badmsgcode.c ../src/dynmem.c ../src/dynmemsyscalls.c \" + appdir)\n",
    "\n",
    "display(Markdown('''\n",
    "- create a directory `mkdir libc; cd libc`\n",
    "- copy examples\n",
    "- add a `Makefile` to automate assembling and linking\n",
    "    - we are going run the commands by hand this time to highlight the details\n",
    "- normally you would want to track everything in git\n",
    "'''))\n",
    "TermShellCmd(\"ls \" + appdir)"
   ]
  },
  {
   "cell_type": "markdown",
   "id": "7b14a8d5",
   "metadata": {
    "slideshow": {
     "slide_type": "slide"
    }
   },
   "source": [
    "## Overview"
   ]
  },
  {
   "cell_type": "markdown",
   "id": "7f224232",
   "metadata": {
    "slideshow": {
     "slide_type": "slide"
    }
   },
   "source": [
    "<center>\n",
    "<img src=\"../images/LibC-001.png\" >\n",
    "</center>"
   ]
  },
  {
   "cell_type": "markdown",
   "id": "7fb674cf",
   "metadata": {
    "slideshow": {
     "slide_type": "slide"
    }
   },
   "source": [
    "<center>\n",
    "<img src=\"../images/LibC-002.png\" >\n",
    "</center>"
   ]
  },
  {
   "cell_type": "markdown",
   "id": "9ab3dcac",
   "metadata": {
    "slideshow": {
     "slide_type": "slide"
    }
   },
   "source": [
    "<center>\n",
    "<img src=\"../images/LibC-003.png\" >\n",
    "</center>"
   ]
  },
  {
   "cell_type": "markdown",
   "id": "0b24a62b",
   "metadata": {
    "slideshow": {
     "slide_type": "slide"
    }
   },
   "source": [
    "## Preliminaries \n",
    "### SDKs \n",
    "\n",
    "Developers package and distribute \"native\" code for an specific computer and OS as collection of documentation, header files, and libraries.  We often call this collection a Software Development ToolKit (SDK).  The functions and types defined in an SDK are often referred to as an Application Programmer Interface.  "
   ]
  },
  {
   "cell_type": "markdown",
   "id": "1da49636",
   "metadata": {
    "slideshow": {
     "slide_type": "slide"
    }
   },
   "source": [
    "#### Documentation\n",
    "\n",
    "Developers provide documentation that explains the API in terms of the functions and types that their code provides for your use.  Traditionally on UNIX systems this comprises as set of man pages.  "
   ]
  },
  {
   "cell_type": "markdown",
   "id": "60689749",
   "metadata": {
    "slideshow": {
     "slide_type": "slide"
    }
   },
   "source": [
    "**man complex**"
   ]
  },
  {
   "cell_type": "code",
   "execution_count": 68,
   "id": "bdbf14f0",
   "metadata": {
    "hide_input": true,
    "scrolled": true
   },
   "outputs": [
    {
     "name": "stdout",
     "output_type": "stream",
     "text": [
      "$ man complex\n",
      "COMPLEX(7)                 Linux Programmer's Manual                COMPLEX(7)\r\n",
      "\r\n",
      "N\bNA\bAM\bME\bE\r\n",
      "       complex - basics of complex mathematics\r\n",
      "\r\n",
      "S\bSY\bYN\bNO\bOP\bPS\bSI\bIS\bS\r\n",
      "       #\b#i\bin\bnc\bcl\blu\bud\bde\be <\b<c\bco\bom\bmp\bpl\ble\bex\bx.\b.h\bh>\b>\r\n",
      "\r\n",
      "D\bDE\bES\bSC\bCR\bRI\bIP\bPT\bTI\bIO\bON\bN\r\n",
      "       Complex  numbers  are  numbers of the form z = a+b*i, where a and b are\r\n",
      "       real numbers and i = sqrt(-1), so that i*i = -1.\r\n",
      "\r\n",
      "       There are other ways to represent that number.  The pair (a,b) of  real\r\n",
      "       numbers  may be viewed as a point in the plane, given by X- and Y-coor‐\r\n",
      "       dinates.  This same point may also be described by giving the  pair  of\r\n",
      "       real  numbers (r,phi), where r is the distance to the origin O, and phi\r\n",
      "       the angle between the X-axis and the line Oz.  Now z =  r*exp(i*phi)  =\r\n",
      "       r*(cos(phi)+i*sin(phi)).\r\n",
      "\r\n",
      "       The basic operations are defined on z = a+b*i and w = c+d*i as:\r\n",
      "\r\n",
      "       a\bad\bdd\bdi\bit\bti\bio\bon\bn:\b: z\bz+\b+w\bw =\b= (\b(a\ba+\b+c\bc)\b) +\b+ (\b(b\bb+\b+d\bd)\b)*\b*i\bi\r\n",
      "\r\n",
      "       m\bmu\bul\blt\bti\bip\bpl\bli\bic\bca\bat\bti\bio\bon\bn:\b: z\bz*\b*w\bw =\b= (\b(a\ba*\b*c\bc -\b- b\bb*\b*d\bd)\b) +\b+ (\b(a\ba*\b*d\bd +\b+ b\bb*\b*c\bc)\b)*\b*i\bi\r\n",
      "\r\n",
      "       d\bdi\biv\bvi\bis\bsi\bio\bon\bn:\b: z\bz/\b/w\bw =\b= (\b((\b(a\ba*\b*c\bc +\b+ b\bb*\b*d\bd)\b)/\b/(\b(c\bc*\b*c\bc +\b+ d\bd*\b*d\bd)\b))\b) +\b+ (\b((\b(b\bb*\b*c\bc -\b- a\ba*\b*d\bd)\b)/\b/(\b(c\bc*\b*c\bc +\b+ d\bd*\b*d\bd)\b))\b)*\b*i\bi\r\n",
      "\r\n",
      "       Nearly  all math function have a complex counterpart but there are some\r\n",
      "       complex-only functions.\r\n",
      "\r\n",
      "E\bEX\bXA\bAM\bMP\bPL\bLE\bE\r\n",
      "       Your C-compiler can work with complex numbers if it  supports  the  C99\r\n",
      "       standard.  Link with _\b-_\bl_\bm.  The imaginary unit is represented by I.\r\n",
      "\r\n",
      "       /* check that exp(i * pi) == -1 */\r\n",
      "       #include <math.h>        /* for atan */\r\n",
      "       #include <stdio.h>\r\n",
      "       #include <complex.h>\r\n",
      "\r\n",
      "       int\r\n",
      "       main(void)\r\n",
      "       {\r\n",
      "           double pi = 4 * atan(1.0);\r\n",
      "           double complex z = cexp(I * pi);\r\n",
      "           printf(\"%f + %f * i\\n\", creal(z), cimag(z));\r\n",
      "       }\r\n",
      "\r\n",
      "S\bSE\bEE\bE A\bAL\bLS\bSO\bO\r\n",
      "       c\bca\bab\bbs\bs(3),  c\bca\bac\bco\bos\bs(3),  c\bca\bac\bco\bos\bsh\bh(3), c\bca\bar\brg\bg(3), c\bca\bas\bsi\bin\bn(3), c\bca\bas\bsi\bin\bnh\bh(3), c\bca\bat\bta\ban\bn(3),\r\n",
      "       c\bca\bat\bta\ban\bnh\bh(3), c\bcc\bco\bos\bs(3), c\bcc\bco\bos\bsh\bh(3),  c\bce\ber\brf\bf(3),  c\bce\bex\bxp\bp(3),  c\bce\bex\bxp\bp2\b2(3),  c\bci\bim\bma\bag\bg(3),\r\n",
      "       c\bcl\blo\bog\bg(3),  c\bcl\blo\bog\bg1\b10\b0(3),  c\bcl\blo\bog\bg2\b2(3),  c\bco\bon\bnj\bj(3),  c\bcp\bpo\bow\bw(3), c\bcp\bpr\bro\boj\bj(3), c\bcr\bre\bea\bal\bl(3),\r\n",
      "       c\bcs\bsi\bin\bn(3), c\bcs\bsi\bin\bnh\bh(3), c\bcs\bsq\bqr\brt\bt(3), c\bct\bta\ban\bn(3), c\bct\bta\ban\bnh\bh(3)\r\n",
      "\r\n",
      "C\bCO\bOL\bLO\bOP\bPH\bHO\bON\bN\r\n",
      "       This page is part of release 5.05 of the Linux  _\bm_\ba_\bn_\b-_\bp_\ba_\bg_\be_\bs  project.   A\r\n",
      "       description  of  the project, information about reporting bugs, and the\r\n",
      "       latest    version    of    this    page,    can     be     found     at\r\n",
      "       https://www.kernel.org/doc/man-pages/.\r\n",
      "\r\n",
      "                                  2019-03-06                        COMPLEX(7)\r\n",
      "\n"
     ]
    }
   ],
   "source": [
    "TermShellCmd(\"man complex\", noposttext=True, markdown=False)"
   ]
  },
  {
   "cell_type": "markdown",
   "id": "003b2187",
   "metadata": {
    "slideshow": {
     "slide_type": "slide"
    }
   },
   "source": [
    "**man cexp**"
   ]
  },
  {
   "cell_type": "code",
   "execution_count": 69,
   "id": "38a6079f",
   "metadata": {
    "hide_input": true,
    "scrolled": true
   },
   "outputs": [
    {
     "name": "stdout",
     "output_type": "stream",
     "text": [
      "$ man cexp\n",
      "CEXP(3)                    Linux Programmer's Manual                   CEXP(3)\r\n",
      "\r\n",
      "N\bNA\bAM\bME\bE\r\n",
      "       cexp, cexpf, cexpl - complex exponential function\r\n",
      "\r\n",
      "S\bSY\bYN\bNO\bOP\bPS\bSI\bIS\bS\r\n",
      "       #\b#i\bin\bnc\bcl\blu\bud\bde\be <\b<c\bco\bom\bmp\bpl\ble\bex\bx.\b.h\bh>\b>\r\n",
      "\r\n",
      "       d\bdo\bou\bub\bbl\ble\be c\bco\bom\bmp\bpl\ble\bex\bx c\bce\bex\bxp\bp(\b(d\bdo\bou\bub\bbl\ble\be c\bco\bom\bmp\bpl\ble\bex\bx _\bz)\b);\b;\r\n",
      "       f\bfl\blo\boa\bat\bt c\bco\bom\bmp\bpl\ble\bex\bx c\bce\bex\bxp\bpf\bf(\b(f\bfl\blo\boa\bat\bt c\bco\bom\bmp\bpl\ble\bex\bx _\bz)\b);\b;\r\n",
      "       l\blo\bon\bng\bg d\bdo\bou\bub\bbl\ble\be c\bco\bom\bmp\bpl\ble\bex\bx c\bce\bex\bxp\bpl\bl(\b(l\blo\bon\bng\bg d\bdo\bou\bub\bbl\ble\be c\bco\bom\bmp\bpl\ble\bex\bx _\bz)\b);\b;\r\n",
      "\r\n",
      "       Link with _\b-_\bl_\bm.\r\n",
      "\r\n",
      "D\bDE\bES\bSC\bCR\bRI\bIP\bPT\bTI\bIO\bON\bN\r\n",
      "       These  functions  calculate  e  (2.71828...,  the base of natural loga‐\r\n",
      "       rithms) raised to the power of _\bz.\r\n",
      "\r\n",
      "       One has:\r\n",
      "\r\n",
      "           cexp(I * z) = ccos(z) + I * csin(z)\r\n",
      "\r\n",
      "V\bVE\bER\bRS\bSI\bIO\bON\bNS\bS\r\n",
      "       These functions first appeared in glibc in version 2.1.\r\n",
      "\r\n",
      "A\bAT\bTT\bTR\bRI\bIB\bBU\bUT\bTE\bES\bS\r\n",
      "       For an  explanation  of  the  terms  used  in  this  section,  see  a\bat\bt‐\b‐\r\n",
      "       t\btr\bri\bib\bbu\but\bte\bes\bs(7).\r\n",
      "\r\n",
      "       ┌─────────────────────────┬───────────────┬─────────┐\r\n",
      "       │I\bIn\bnt\bte\ber\brf\bfa\bac\bce\be                │ A\bAt\btt\btr\bri\bib\bbu\but\bte\be     │ V\bVa\bal\blu\bue\be   │\r\n",
      "       ├─────────────────────────┼───────────────┼─────────┤\r\n",
      "       │c\bce\bex\bxp\bp(), c\bce\bex\bxp\bpf\bf(), c\bce\bex\bxp\bpl\bl() │ Thread safety │ MT-Safe │\r\n",
      "       └─────────────────────────┴───────────────┴─────────┘\r\n",
      "\r\n",
      "C\bCO\bON\bNF\bFO\bOR\bRM\bMI\bIN\bNG\bG T\bTO\bO\r\n",
      "       C99, POSIX.1-2001, POSIX.1-2008.\r\n",
      "\r\n",
      "S\bSE\bEE\bE A\bAL\bLS\bSO\bO\r\n",
      "       c\bca\bab\bbs\bs(3), c\bce\bex\bxp\bp2\b2(3), c\bcl\blo\bog\bg(3), c\bcp\bpo\bow\bw(3), c\bco\bom\bmp\bpl\ble\bex\bx(7)\r\n",
      "\r\n",
      "C\bCO\bOL\bLO\bOP\bPH\bHO\bON\bN\r\n",
      "       This  page  is  part of release 5.05 of the Linux _\bm_\ba_\bn_\b-_\bp_\ba_\bg_\be_\bs project.  A\r\n",
      "       description of the project, information about reporting bugs,  and  the\r\n",
      "       latest     version     of     this    page,    can    be    found    at\r\n",
      "       https://www.kernel.org/doc/man-pages/.\r\n",
      "\r\n",
      "                                  2017-09-15                           CEXP(3)\r\n",
      "\n"
     ]
    }
   ],
   "source": [
    "TermShellCmd(\"man cexp\", noposttext=True, markdown=False)"
   ]
  },
  {
   "cell_type": "markdown",
   "id": "2e59c920",
   "metadata": {
    "slideshow": {
     "slide_type": "slide"
    }
   },
   "source": [
    "**Documentation tells us**\n",
    "    \n",
    "0. Tells us how to use the functions, macros and types of a SDK\n",
    "1. What header files we must include in our source to call particular functions\n",
    "2. What libraries we must include when we link"
   ]
  },
  {
   "cell_type": "markdown",
   "id": "84d87abc",
   "metadata": {
    "slideshow": {
     "slide_type": "slide"
    }
   },
   "source": [
    "#### Header files\n",
    "\n",
    "As we discussed to generate assembly for a call to a function compiler must have\n",
    "1. A declaration for a function \n",
    "2. Definitions for all types it requires\n",
    "3. and possibly preprocessor macros \n",
    "\n",
    "The headers files of a library provide these things so that your code can compile with calls to the libraries functions. Remember we use preprocessor `#include <file>` to substitute the contents of `<file>` into our own source."
   ]
  },
  {
   "cell_type": "markdown",
   "id": "a09d9bd4",
   "metadata": {
    "slideshow": {
     "slide_type": "slide"
    }
   },
   "source": [
    "#### Libraries\n",
    "\n",
    "Libraries are a new kind of file for us. The are \"archives\" of object files.\n",
    "\n",
    "Two main types on\n",
    "1. Static archive eg. Linux: `libm.a` \n",
    "2. Dynamic archive eg. Linux: `libm.so` \n",
    "\n",
    "Statically linking requires static library and dynamic linking requires dynamic"
   ]
  },
  {
   "cell_type": "markdown",
   "id": "24bdae6d",
   "metadata": {
    "slideshow": {
     "slide_type": "slide"
    }
   },
   "source": [
    "##### Linker and Libraries\n",
    " \n",
    "We can add a library when we link our executable by passing the right parameters to the linker.  \n",
    "\n",
    "eg.  `-l<name>` will tell linker to use objects from `lib<name>.a` or `lib<name>.so` if it needs too\n",
    "\n",
    "Specifically the library file contains a table of contents with all the object files and symbols define in those objects.  If your our object files reference a symbol that you do not define the linker will look for it in the table of contents.  If there is an object file in the library that defines the symbol it will include the necessary object file as if you had specified as one of your object files."
   ]
  },
  {
   "cell_type": "markdown",
   "id": "28a71b29",
   "metadata": {
    "slideshow": {
     "slide_type": "slide"
    }
   },
   "source": [
    "#### Example"
   ]
  },
  {
   "cell_type": "code",
   "execution_count": 128,
   "id": "123cbe07",
   "metadata": {
    "hide_input": false
   },
   "outputs": [
    {
     "data": {
      "text/markdown": [
       "<font size=\"6rem\"><b>C: cexp.c\n",
       "<div style=\"width:100%; height:100%; font-size:inherit; overflow: auto;\" >\n",
       "\n",
       "\n",
       "``` c\n",
       "#include <math.h> /* for atan */\n",
       "#include <stdio.h>\n",
       "#include <complex.h>\n",
       "#include <stdlib.h>\n",
       "\n",
       "int\n",
       "main(int argc, char **argv)\n",
       "{\n",
       "  double y=1.0;\n",
       "  if (argc>1) y=atof(argv[1]);\n",
       "  double pi = 4 * atan(y);\n",
       "  double complex z = cexp(I * pi);\n",
       "  printf(\"%f + %f * i\\n\", creal(z), cimag(z));\n",
       "}\n",
       "\n",
       "```\n",
       "\n",
       "\n",
       "</div>\n"
      ],
      "text/plain": [
       "<IPython.core.display.Markdown object>"
      ]
     },
     "metadata": {},
     "output_type": "display_data"
    },
    {
     "name": "stdout",
     "output_type": "stream",
     "text": [
      "\n",
      "gcc  -g  -Os -static -Xlinker -Map=cexp.map cexp.c -o cexp -lm\n",
      "\n",
      "$ ./cexp\n",
      "-1.000000 + 0.000000 * i\n",
      "\n"
     ]
    }
   ],
   "source": [
    "display(Markdown('<font size=\"6rem\">' + FileCodeBox(\n",
    "    file=appdir + \"/cexp.c\", \n",
    "    lang=\"c\", \n",
    "    title=\"<b>C: cexp.c\",\n",
    "    h=\"100%\", \n",
    "    w=\"100%\"\n",
    ")))\n",
    "TermShellCmd(\"[[ -a cexp ]] && rm cexp;make cexp\", cwd=appdir, prompt='', noposttext=True)\n",
    "TermShellCmd(\"./cexp\", cwd=appdir, noposttext=True)"
   ]
  },
  {
   "cell_type": "markdown",
   "id": "55c819a1",
   "metadata": {
    "slideshow": {
     "slide_type": "slide"
    }
   },
   "source": [
    "**How does the preprocessor and linker know where to find things**\n",
    "\n",
    "The compiler driver, in our case `gcc` passes parameters to both the preprocessor and linker\n",
    "- `-I <dir>` tells preprocessor to look for header files in `<dir>` \n",
    "   - several standard directories are specified by default\n",
    "     - eg. `-I/usr/include`"
   ]
  },
  {
   "cell_type": "code",
   "execution_count": 71,
   "id": "f13fbbd9",
   "metadata": {
    "hide_input": true
   },
   "outputs": [
    {
     "name": "stdout",
     "output_type": "stream",
     "text": [
      "$ ls -la /usr/include/math.h /usr/include/stdio.h /usr/include/complex.h\n",
      "-rw-r--r-- 1 root root  7164 Dec 16  2020 /usr/include/complex.h\r\n",
      "-rw-r--r-- 1 root root 46404 Dec 16  2020 /usr/include/math.h\r\n",
      "-rw-r--r-- 1 root root 29950 Dec 16  2020 /usr/include/stdio.h\r\n",
      "\n"
     ]
    }
   ],
   "source": [
    "TermShellCmd(\"ls -la /usr/include/math.h /usr/include/stdio.h /usr/include/complex.h\", noposttext=True)"
   ]
  },
  {
   "cell_type": "markdown",
   "id": "daeffdd5",
   "metadata": {
    "hide_input": true,
    "slideshow": {
     "slide_type": "slide"
    }
   },
   "source": [
    "- We can look at look at these files if we want to see the details "
   ]
  },
  {
   "cell_type": "markdown",
   "id": "bbcbddaf",
   "metadata": {
    "slideshow": {
     "slide_type": "slide"
    }
   },
   "source": [
    "- `-L <dir>` similarly tells the linker to look for libraries in `<dir>`\n",
    "  - several standard directories are specified by default\n",
    "       - eg. `-L/usr/lib/x86_64-linux-gnu`"
   ]
  },
  {
   "cell_type": "markdown",
   "id": "4d11de17",
   "metadata": {
    "slideshow": {
     "slide_type": "slide"
    }
   },
   "source": [
    "**The linker map file lets us see all the .o's that got linked in and where they came from**\n"
   ]
  },
  {
   "cell_type": "code",
   "execution_count": 72,
   "id": "8636de07",
   "metadata": {
    "hide_input": true
   },
   "outputs": [
    {
     "name": "stdout",
     "output_type": "stream",
     "text": [
      "$ head -20 cexp.map \n",
      "Archive member included to satisfy reference by file (symbol)\r\n",
      "\r\n",
      "/usr/lib/x86_64-linux-gnu/libm-2.31.a(s_atan.o)\r\n",
      "                              /tmp/ccQxfA00.o (atan)\r\n",
      "/usr/lib/x86_64-linux-gnu/libm-2.31.a(s_cexp.o)\r\n",
      "                              /tmp/ccQxfA00.o (cexp)\r\n",
      "/usr/lib/x86_64-linux-gnu/libm-2.31.a(mpa.o)\r\n",
      "                              /usr/lib/x86_64-linux-gnu/libm-2.31.a(s_atan.o) (__mp_dbl)\r\n",
      "/usr/lib/x86_64-linux-gnu/libm-2.31.a(mpatan.o)\r\n",
      "                              /usr/lib/x86_64-linux-gnu/libm-2.31.a(s_atan.o) (__mpatan)\r\n",
      "/usr/lib/x86_64-linux-gnu/libm-2.31.a(mpsqrt.o)\r\n",
      "                              /usr/lib/x86_64-linux-gnu/libm-2.31.a(mpatan.o) (__mpsqrt)\r\n",
      "/usr/lib/x86_64-linux-gnu/libm-2.31.a(s_atan-fma.o)\r\n",
      "                              /usr/lib/x86_64-linux-gnu/libm-2.31.a(s_atan.o) (__atan_fma)\r\n",
      "/usr/lib/x86_64-linux-gnu/libm-2.31.a(mpa-fma.o)\r\n",
      "                              /usr/lib/x86_64-linux-gnu/libm-2.31.a(s_atan-fma.o) (__dbl_mp_fma)\r\n",
      "/usr/lib/x86_64-linux-gnu/libm-2.31.a(mpatan-fma.o)\r\n",
      "                              /usr/lib/x86_64-linux-gnu/libm-2.31.a(s_atan-fma.o) (__mpatan_fma)\r\n",
      "/usr/lib/x86_64-linux-gnu/libm-2.31.a(mpsqrt-fma.o)\r\n",
      "                              /usr/lib/x86_64-linux-gnu/libm-2.31.a(mpatan-fma.o) (__mpsqrt_fma)\r\n",
      "\n"
     ]
    }
   ],
   "source": [
    "TermShellCmd(\"head -20 cexp.map \", cwd=appdir, noposttext=True)"
   ]
  },
  {
   "cell_type": "markdown",
   "id": "d5ff9e36",
   "metadata": {
    "slideshow": {
     "slide_type": "slide"
    }
   },
   "source": [
    "**`ar` is a tool for working with static libraries**\n",
    "see `man ar` for details\n",
    "\n",
    "We can use it to list the table of contents of the `.o` in the archive"
   ]
  },
  {
   "cell_type": "code",
   "execution_count": 73,
   "id": "6cd269d5",
   "metadata": {
    "hide_input": true
   },
   "outputs": [
    {
     "name": "stdout",
     "output_type": "stream",
     "text": [
      "$ ar t /usr/lib/x86_64-linux-gnu/libm-2.31.a | head\n",
      "s_lib_version.o\r\n",
      "s_matherr.o\r\n",
      "s_signgam.o\r\n",
      "fclrexcpt.o\r\n",
      "fgetexcptflg.o\r\n",
      "fraiseexcpt.o\r\n",
      "fsetexcptflg.o\r\n",
      "ftestexcept.o\r\n",
      "fegetround.o\r\n",
      "fesetround.o\r\n",
      "\n"
     ]
    }
   ],
   "source": [
    "TermShellCmd(\"ar t /usr/lib/x86_64-linux-gnu/libm-2.31.a | head\", cwd=appdir, noposttext=True)"
   ]
  },
  {
   "cell_type": "markdown",
   "id": "e290b5e7",
   "metadata": {
    "slideshow": {
     "slide_type": "slide"
    }
   },
   "source": [
    "We can even use it to extract a member (just like the linker does when linking)"
   ]
  },
  {
   "cell_type": "code",
   "execution_count": 74,
   "id": "0e03034a",
   "metadata": {
    "hide_input": true
   },
   "outputs": [
    {
     "name": "stdout",
     "output_type": "stream",
     "text": [
      "$ ar x /usr/lib/x86_64-linux-gnu/libm-2.31.a s_cexp.o; ls -l s_cexp.o\n",
      "-rw-r--r-- 1 jovyan root 3792 Dec  6 16:06 s_cexp.o\r\n",
      "\n"
     ]
    }
   ],
   "source": [
    "TermShellCmd(\"ar x /usr/lib/x86_64-linux-gnu/libm-2.31.a s_cexp.o; ls -l s_cexp.o\", cwd=appdir, noposttext=True)"
   ]
  },
  {
   "cell_type": "markdown",
   "id": "d51672d8",
   "metadata": {
    "slideshow": {
     "slide_type": "slide"
    }
   },
   "source": [
    "**And no surprise it is an object file like the kind we have been creating**"
   ]
  },
  {
   "cell_type": "code",
   "execution_count": 75,
   "id": "7e8bb5d2",
   "metadata": {
    "hide_input": true
   },
   "outputs": [
    {
     "name": "stdout",
     "output_type": "stream",
     "text": [
      "$ objdump -d -Mintel s_cexp.o | head -20\n",
      "\r\n",
      "s_cexp.o:     file format elf64-x86-64\r\n",
      "\r\n",
      "\r\n",
      "Disassembly of section .text:\r\n",
      "\r\n",
      "0000000000000000 <__cexp>:\r\n",
      "   0:\tf3 0f 1e fa          \tendbr64 \r\n",
      "   4:\t53                   \tpush   rbx\r\n",
      "   5:\t66 0f 28 d0          \tmovapd xmm2,xmm0\r\n",
      "   9:\t66 0f 28 e9          \tmovapd xmm5,xmm1\r\n",
      "   d:\t66 0f 28 c1          \tmovapd xmm0,xmm1\r\n",
      "  11:\t66 0f 28 f2          \tmovapd xmm6,xmm2\r\n",
      "  15:\t48 83 ec 40          \tsub    rsp,0x40\r\n",
      "  19:\tf3 0f 7e 1d 00 00 00 \tmovq   xmm3,QWORD PTR [rip+0x0]        # 21 <__cexp+0x21>\r\n",
      "  20:\t00 \r\n",
      "  21:\t64 48 8b 04 25 28 00 \tmov    rax,QWORD PTR fs:0x28\r\n",
      "  28:\t00 00 \r\n",
      "  2a:\t48 89 44 24 38       \tmov    QWORD PTR [rsp+0x38],rax\r\n",
      "  2f:\t31 c0                \txor    eax,eax\r\n",
      "\n"
     ]
    }
   ],
   "source": [
    "TermShellCmd(\"objdump -d -Mintel s_cexp.o | head -20\", cwd=appdir, noposttext=True)"
   ]
  },
  {
   "cell_type": "markdown",
   "id": "f52b068c",
   "metadata": {
    "slideshow": {
     "slide_type": "slide"
    }
   },
   "source": [
    "**What about `_start`, `atof` and `fprintf`**\n",
    "\n",
    "- Where did they come from????\n",
    "   - Lets look for them in the map file\n",
    "      - map file can even tell not only what file a symbol came from but also where it ends up being placed in the memory image of our executable"
   ]
  },
  {
   "cell_type": "code",
   "execution_count": 76,
   "id": "18c6157c",
   "metadata": {
    "hide_input": true,
    "slideshow": {
     "slide_type": "fragment"
    }
   },
   "outputs": [
    {
     "name": "stdout",
     "output_type": "stream",
     "text": [
      "$ grep -B 1 ' _start$' cexp.map\n",
      " .text          0x0000000000401c30       0x35 /usr/lib/gcc/x86_64-linux-gnu/9/../../../x86_64-linux-gnu/crt1.o\r\n",
      "                0x0000000000401c30               \u001b[01;31m\u001b[K _start\u001b[m\u001b[K\r\n",
      "\n"
     ]
    }
   ],
   "source": [
    "TermShellCmd(\"grep -B 1 ' _start$' cexp.map\", cwd=appdir, noposttext=True)"
   ]
  },
  {
   "cell_type": "code",
   "execution_count": 77,
   "id": "226bfd36",
   "metadata": {
    "hide_input": true,
    "slideshow": {
     "slide_type": "fragment"
    }
   },
   "outputs": [
    {
     "name": "stdout",
     "output_type": "stream",
     "text": [
      "$ grep -B 1 ' atof$' cexp.map\n",
      " .text          0x000000000041f460        0xb /usr/lib/gcc/x86_64-linux-gnu/9/../../../x86_64-linux-gnu/libc.a(atof.o)\r\n",
      "                0x000000000041f460               \u001b[01;31m\u001b[K atof\u001b[m\u001b[K\r\n",
      "\n"
     ]
    }
   ],
   "source": [
    "TermShellCmd(\"grep -B 1 ' atof$' cexp.map\", cwd=appdir, noposttext=True)"
   ]
  },
  {
   "cell_type": "code",
   "execution_count": 78,
   "id": "04a6374b",
   "metadata": {
    "hide_input": true,
    "slideshow": {
     "slide_type": "fragment"
    }
   },
   "outputs": [
    {
     "name": "stdout",
     "output_type": "stream",
     "text": [
      "$ grep -B 1 ' fprintf$' cexp.map\n",
      " .text          0x000000000047ae00       0xb7 /usr/lib/gcc/x86_64-linux-gnu/9/../../../x86_64-linux-gnu/libc.a(fprintf.o)\r\n",
      "                0x000000000047ae00               \u001b[01;31m\u001b[K fprintf\u001b[m\u001b[K\r\n",
      "\n"
     ]
    }
   ],
   "source": [
    "TermShellCmd(\"grep -B 1 ' fprintf$' cexp.map\", cwd=appdir, noposttext=True)"
   ]
  },
  {
   "cell_type": "markdown",
   "id": "3fdfef51",
   "metadata": {
    "slideshow": {
     "slide_type": "slide"
    }
   },
   "source": [
    "#### Defaults\n",
    "\n",
    "- C compiler driver ensures that we always link against a set of standard object files and libraries\n",
    "- But the core one is `libc` -- The C standard library!\n"
   ]
  },
  {
   "cell_type": "markdown",
   "id": "1ebc1c34",
   "metadata": {
    "slideshow": {
     "slide_type": "slide"
    }
   },
   "source": [
    "## C Standard Library `libc` (`-lc`)"
   ]
  },
  {
   "cell_type": "markdown",
   "id": "e084d164",
   "metadata": {},
   "source": [
    "The C standard library was developed at the same time as the core language\n",
    "- There are standards a C compiler and C standard library implementation can conform too\n",
    "  - eg. https://www.iso.org/standard/17782.html\n",
    "- The gnu C compiler `gcc` has its associated gnu libc `glibc`\n",
    "  - https://www.gnu.org/software/libc/manual/html_node/index.html\n",
    "  - These are the standards it conforms too\n",
    "    - https://www.gnu.org/software/libc/manual/html_node/Standards-and-Portability.html#Standards-and-Portability"
   ]
  },
  {
   "cell_type": "markdown",
   "id": "ae8ea803",
   "metadata": {
    "slideshow": {
     "slide_type": "slide"
    }
   },
   "source": [
    "### Overview\n",
    "\n",
    "- The C Standard library is very large and provides many categories of routines"
   ]
  },
  {
   "cell_type": "markdown",
   "id": "75de801c",
   "metadata": {
    "slideshow": {
     "slide_type": "slide"
    }
   },
   "source": [
    "- We will only consider a small fraction of its functionality\n",
    "  2. Dynamic Memory Management \n",
    "  3. Basic overview of IO"
   ]
  },
  {
   "cell_type": "markdown",
   "id": "59ceaba3",
   "metadata": {
    "slideshow": {
     "slide_type": "slide"
    }
   },
   "source": [
    "### Dynamic Memory Management\n",
    "- https://www.gnu.org/software/libc/manual/html_mono/libc.html#Memory-Concepts\n",
    "- https://www.gnu.org/software/libc/manual/html_mono/libc.html#Dynamic-Memory-Allocation\n",
    "    - C Language has no built in support for Dynamic Memory Variables \n",
    "    - other than automatics (function local variables and function parameters)\n",
    "  - Must use system calls to get and remove memory from the process\n",
    "  - Must use pointers to track it"
   ]
  },
  {
   "cell_type": "markdown",
   "id": "78bfeaf0",
   "metadata": {
    "slideshow": {
     "slide_type": "slide"
    }
   },
   "source": [
    "#### Two categories\n",
    "\n",
    "LibC provides routines that give a programmer the ability to dynamically allocate memory \n",
    "- The Memory Allocator (https://www.gnu.org/software/libc/manual/html_mono/libc.html#The-GNU-Allocator)\n",
    "  - It calls the OS system calls for the programmer \n",
    "    - There is a lot of subtlety to implementing a high performance memory allocator\n",
    "  - Basic idea is \n",
    "    1. The allocator code in libc `malloc` and `free` are called by the application code\n",
    "    2. These routines allocate large chucks of memory from the OS\n",
    "    3. They then break these large chucks down handing out pieces as requested by `malloc` calls\n",
    "    4. And coaleasing pieces back into the chucks when `free` is called\n",
    "    5. If large requests are made the libc routines call OS to create a separate mappings for these\n",
    "    6. Similarly if these large requests are freed they immediately free them to the OS\n",
    "- Directly calling `mmap` or `brk`"
   ]
  },
  {
   "cell_type": "markdown",
   "id": "6220dca3",
   "metadata": {
    "slideshow": {
     "slide_type": "notes"
    }
   },
   "source": [
    "#### Main calls\n",
    "- https://www.gnu.org/software/libc/manual/html_node/Summary-of-Malloc.html#Summary-of-Malloc\n",
    "\n",
    "```\n",
    "void *malloc (size_t size)\n",
    "// Allocate a block of size bytes. See Basic Allocation.\n",
    "\n",
    "void free (void *addr)\n",
    "// Free a block previously allocated by malloc. See Freeing after Malloc.\n",
    "\n",
    "void *realloc (void *addr, size_t size)\n",
    "// Make a block previously allocated by malloc larger or smaller, possibly by copying it to a new location. See Changing Block Size.\n",
    "\n",
    "void *reallocarray (void *ptr, size_t nmemb, size_t size)\n",
    "// Change the size of a block previously allocated by malloc to nmemb * size bytes as with realloc. See Changing Block Size.\n",
    "\n",
    "void *calloc (size_t count, size_t eltsize)\n",
    "//Allocate a block of count * eltsize bytes using malloc, and set its contents to zero. See Allocating Cleared Space.\n",
    "\n",
    "void *valloc (size_t size)\n",
    "// Allocate a block of size bytes, starting on a page boundary. See Aligned Memory Blocks.\n",
    "\n",
    "void *aligned_alloc (size_t size, size_t alignment)\n",
    "// Allocate a block of size bytes, starting on an address that is a multiple of alignment. See Aligned Memory Blocks.\n",
    "\n",
    "int posix_memalign (void **memptr, size_t alignment, size_t size)\n",
    "// Allocate a block of size bytes, starting on an address that is a multiple of alignment. See Aligned Memory Blocks.\n",
    "\n",
    "void *memalign (size_t size, size_t boundary)\n",
    "//Allocate a block of size bytes, starting on an address that is a multiple of boundary. See Aligned Memory Blocks.\n",
    "\n",
    "int mallopt (int param, int value)\n",
    "// Adjust a tunable parameter. See Malloc Tunable Parameters.\n",
    "\n",
    "int mcheck (void (*abortfn) (void))\n",
    "// Tell malloc to perform occasional consistency checks on dynamically allocated memory, and to call abortfn when an inconsistency is found. See Heap Consistency Checking.\n",
    "\n",
    "struct mallinfo2 mallinfo2 (void)\n",
    "// Return information about the current dynamic memory usage. See Statistics of Malloc.\n",
    "```"
   ]
  },
  {
   "cell_type": "markdown",
   "id": "05a41eb0",
   "metadata": {
    "slideshow": {
     "slide_type": "slide"
    }
   },
   "source": [
    "### Explore with an example"
   ]
  },
  {
   "cell_type": "markdown",
   "id": "269b88b7",
   "metadata": {},
   "source": [
    "#### man malloc"
   ]
  },
  {
   "cell_type": "code",
   "execution_count": 79,
   "id": "2586ba8a",
   "metadata": {
    "scrolled": true
   },
   "outputs": [
    {
     "name": "stdout",
     "output_type": "stream",
     "text": [
      "$ man 3 malloc\n",
      "MALLOC(3)                  Linux Programmer's Manual                 MALLOC(3)\r\n",
      "\r\n",
      "N\bNA\bAM\bME\bE\r\n",
      "       malloc, free, calloc, realloc - allocate and free dynamic memory\r\n",
      "\r\n",
      "S\bSY\bYN\bNO\bOP\bPS\bSI\bIS\bS\r\n",
      "       #\b#i\bin\bnc\bcl\blu\bud\bde\be <\b<s\bst\btd\bdl\bli\bib\bb.\b.h\bh>\b>\r\n",
      "\r\n",
      "       v\bvo\boi\bid\bd *\b*m\bma\bal\bll\blo\boc\bc(\b(s\bsi\biz\bze\be_\b_t\bt _\bs_\bi_\bz_\be)\b);\b;\r\n",
      "       v\bvo\boi\bid\bd f\bfr\bre\bee\be(\b(v\bvo\boi\bid\bd _\b*_\bp_\bt_\br)\b);\b;\r\n",
      "       v\bvo\boi\bid\bd *\b*c\bca\bal\bll\blo\boc\bc(\b(s\bsi\biz\bze\be_\b_t\bt _\bn_\bm_\be_\bm_\bb,\b, s\bsi\biz\bze\be_\b_t\bt _\bs_\bi_\bz_\be)\b);\b;\r\n",
      "       v\bvo\boi\bid\bd *\b*r\bre\bea\bal\bll\blo\boc\bc(\b(v\bvo\boi\bid\bd _\b*_\bp_\bt_\br,\b, s\bsi\biz\bze\be_\b_t\bt _\bs_\bi_\bz_\be)\b);\b;\r\n",
      "       v\bvo\boi\bid\bd *\b*r\bre\bea\bal\bll\blo\boc\bca\bar\brr\bra\bay\by(\b(v\bvo\boi\bid\bd _\b*_\bp_\bt_\br,\b, s\bsi\biz\bze\be_\b_t\bt _\bn_\bm_\be_\bm_\bb,\b, s\bsi\biz\bze\be_\b_t\bt _\bs_\bi_\bz_\be)\b);\b;\r\n",
      "\r\n",
      "   Feature Test Macro Requirements for glibc (see f\bfe\bea\bat\btu\bur\bre\be_\b_t\bte\bes\bst\bt_\b_m\bma\bac\bcr\bro\bos\bs(7)):\r\n",
      "\r\n",
      "       r\bre\bea\bal\bll\blo\boc\bca\bar\brr\bra\bay\by():\r\n",
      "           Since glibc 2.29:\r\n",
      "               _DEFAULT_SOURCE\r\n",
      "           Glibc 2.28 and earlier:\r\n",
      "               _GNU_SOURCE\r\n",
      "\r\n",
      "D\bDE\bES\bSC\bCR\bRI\bIP\bPT\bTI\bIO\bON\bN\r\n",
      "       The m\bma\bal\bll\blo\boc\bc() function allocates _\bs_\bi_\bz_\be bytes and returns a pointer to the\r\n",
      "       allocated memory.  _\bT_\bh_\be _\bm_\be_\bm_\bo_\br_\by _\bi_\bs _\bn_\bo_\bt _\bi_\bn_\bi_\bt_\bi_\ba_\bl_\bi_\bz_\be_\bd.  If _\bs_\bi_\bz_\be is  0,  then\r\n",
      "       m\bma\bal\bll\blo\boc\bc()  returns either NULL, or a unique pointer value that can later\r\n",
      "       be successfully passed to f\bfr\bre\bee\be().\r\n",
      "\r\n",
      "       The f\bfr\bre\bee\be() function frees the memory space pointed  to  by  _\bp_\bt_\br,  which\r\n",
      "       must  have  been  returned by a previous call to m\bma\bal\bll\blo\boc\bc(), c\bca\bal\bll\blo\boc\bc(), or\r\n",
      "       r\bre\bea\bal\bll\blo\boc\bc().  Otherwise, or if _\bf_\br_\be_\be_\b(_\bp_\bt_\br_\b) has already been called  before,\r\n",
      "       undefined behavior occurs.  If _\bp_\bt_\br is NULL, no operation is performed.\r\n",
      "\r\n",
      "       The  c\bca\bal\bll\blo\boc\bc()  function allocates memory for an array of _\bn_\bm_\be_\bm_\bb elements\r\n",
      "       of _\bs_\bi_\bz_\be bytes each and returns a pointer to the allocated memory.   The\r\n",
      "       memory  is  set  to zero.  If _\bn_\bm_\be_\bm_\bb or _\bs_\bi_\bz_\be is 0, then c\bca\bal\bll\blo\boc\bc() returns\r\n",
      "       either NULL, or a unique pointer value that can later  be  successfully\r\n",
      "       passed to f\bfr\bre\bee\be().  If the multiplication of _\bn_\bm_\be_\bm_\bb and _\bs_\bi_\bz_\be would result\r\n",
      "       in integer overflow, then c\bca\bal\bll\blo\boc\bc() returns an error.  By  contrast,  an\r\n",
      "       integer  overflow  would  not be detected in the following call to m\bma\bal\bl‐\b‐\r\n",
      "       l\blo\boc\bc(), with the result that an incorrectly sized block of memory  would\r\n",
      "       be allocated:\r\n",
      "\r\n",
      "           malloc(nmemb * size);\r\n",
      "\r\n",
      "       The  r\bre\bea\bal\bll\blo\boc\bc() function changes the size of the memory block pointed to\r\n",
      "       by _\bp_\bt_\br to _\bs_\bi_\bz_\be bytes.  The contents will be unchanged in the range from\r\n",
      "       the start of the region up to the minimum of the old and new sizes.  If\r\n",
      "       the new size is larger than the old size, the added memory will _\bn_\bo_\bt  be\r\n",
      "       initialized.   If  _\bp_\bt_\br  is  NULL,  then  the call is equivalent to _\bm_\ba_\bl_\b‐\r\n",
      "       _\bl_\bo_\bc_\b(_\bs_\bi_\bz_\be_\b), for all values of _\bs_\bi_\bz_\be; if _\bs_\bi_\bz_\be is equal to zero, and _\bp_\bt_\br is\r\n",
      "       not  NULL,  then  the  call  is equivalent to _\bf_\br_\be_\be_\b(_\bp_\bt_\br_\b).  Unless _\bp_\bt_\br is\r\n",
      "       NULL, it must have been returned by an earlier call to  m\bma\bal\bll\blo\boc\bc(),  c\bca\bal\bl‐\b‐\r\n",
      "       l\blo\boc\bc(),  or r\bre\bea\bal\bll\blo\boc\bc().  If the area pointed to was moved, a _\bf_\br_\be_\be_\b(_\bp_\bt_\br_\b) is\r\n",
      "       done.\r\n",
      "\r\n",
      "       The r\bre\bea\bal\bll\blo\boc\bca\bar\brr\bra\bay\by() function  changes  the  size  of  the  memory  block\r\n",
      "       pointed  to  by  _\bp_\bt_\br to be large enough for an array of _\bn_\bm_\be_\bm_\bb elements,\r\n",
      "       each of which is _\bs_\bi_\bz_\be bytes.  It is equivalent to the call\r\n",
      "\r\n",
      "               realloc(ptr, nmemb * size);\r\n",
      "\r\n",
      "       However, unlike that r\bre\bea\bal\bll\blo\boc\bc() call, r\bre\bea\bal\bll\blo\boc\bca\bar\brr\bra\bay\by() fails safely in the\r\n",
      "\n"
     ]
    }
   ],
   "source": [
    "TermShellCmd(\"man 3 malloc\", noposttext=True, markdown=False)"
   ]
  },
  {
   "cell_type": "markdown",
   "id": "0649ed62",
   "metadata": {
    "slideshow": {
     "slide_type": "slide"
    }
   },
   "source": [
    "**What does this code do?**\n",
    "- What do you think will happen?"
   ]
  },
  {
   "cell_type": "code",
   "execution_count": 133,
   "id": "6b3153bf",
   "metadata": {
    "hide_input": true,
    "slideshow": {
     "slide_type": "-"
    }
   },
   "outputs": [
    {
     "data": {
      "text/markdown": [
       "<font size='6.5em'><b>C: dynmem.c\n",
       "<div style=\"width:100%; height:100%; font-size:inherit; overflow: auto;\" >\n",
       "\n",
       "\n",
       "``` c\n",
       "#include <stdlib.h>\n",
       "#include <string.h>\n",
       "#include <unistd.h>\n",
       "// Use debugger to explore what happens\n",
       "int main(int argc, char **argv)\n",
       "{\n",
       "  char *cptr;\n",
       "  int n = 4096;\n",
       "\n",
       "  cptr = malloc(n);\n",
       "  memset(cptr, 0xaa, n);\n",
       "  free(cptr);\n",
       "  return 0;\n",
       "}\n",
       "\n",
       "```\n",
       "\n",
       "\n",
       "</div>\n"
      ],
      "text/plain": [
       "<IPython.core.display.Markdown object>"
      ]
     },
     "metadata": {},
     "output_type": "display_data"
    },
    {
     "name": "stdout",
     "output_type": "stream",
     "text": [
      "\n",
      "gcc -Werror  -g dynmem.c -o dynmem\r\n",
      "\n"
     ]
    }
   ],
   "source": [
    "display(Markdown(\"<font size='6.5em'>\" + FileCodeBox(\n",
    "    file=appdir + \"/dynmem.c\", \n",
    "    lang=\"c\", \n",
    "    title=\"<b>C: dynmem.c\",\n",
    "    h=\"100%\", \n",
    "    w=\"100%\"\n",
    ")))\n",
    "TermShellCmd(\"[[ -a dynmem ]] && rm dynmem;make dynmem\", cwd=appdir, prompt='', noposttext=True)"
   ]
  },
  {
   "cell_type": "code",
   "execution_count": 81,
   "id": "526f7f9f",
   "metadata": {},
   "outputs": [
    {
     "data": {
      "text/markdown": [
       "<b>Debug</b>"
      ],
      "text/plain": [
       "<IPython.core.display.Markdown object>"
      ]
     },
     "metadata": {},
     "output_type": "display_data"
    }
   ],
   "source": [
    "display(showDT())"
   ]
  },
  {
   "cell_type": "markdown",
   "id": "2bca27de",
   "metadata": {
    "slideshow": {
     "slide_type": "notes"
    }
   },
   "source": [
    "- demonstrate strace ./dynmem\n",
    "  - what do you expect to see\n",
    "Use debugger \n",
    "  - use `jump` command and `set var n=X` to execute several malloc calls\n",
    "  - explore /proc/<pid>/maps\n",
    "  - set breakpoints on malloc, sbrk, brk, \n",
    "    - disass - brk easy see syscall\n",
    "    - break on syscall instruction - look at maps\n",
    "    - use where to show call chains\n",
    "- then add below and use strace\n",
    "\n",
    "```c\n",
    "#include <stdlib.h>\n",
    "#include <unistd.h>\n",
    "\n",
    "// Use debugger to explore what happens                                            \n",
    "\n",
    "int\n",
    "main(int argc, char **argv)\n",
    "{\n",
    "  char *cptr;\n",
    "  char c;\n",
    "\n",
    "  read(0, &c, 1);\n",
    "\n",
    "  int n = 4096;\n",
    "  cptr = malloc(n);\n",
    "  read(0, &c, 1);\n",
    "\n",
    "  n = 1024 * 1024  * 1024;\n",
    "  cptr = malloc(n);\n",
    "  read(0, &c, 1);\n",
    "\n",
    "  n = 1024 * 1024  * 1024;\n",
    "  cptr = malloc(n);\n",
    "  read(0, &c, 1);\n",
    "\n",
    "  free(cptr);\n",
    "  return 0;\n",
    "}\n",
    "```"
   ]
  },
  {
   "cell_type": "markdown",
   "id": "24712750",
   "metadata": {
    "slideshow": {
     "slide_type": "slide"
    }
   },
   "source": [
    "#### LibC typically C wrappers for OS system calls and support for making syscalls directly in C\n"
   ]
  },
  {
   "cell_type": "markdown",
   "id": "fd98f3c4",
   "metadata": {},
   "source": [
    "**libc provides C wrappers for system calls**\n",
    "\n",
    "- Wrappers expose C function interface for system calls of the OS\n",
    "- You can lookup C version and simply call it like any other C function call\n",
    "  - implementation in libc takes care of all the assembly stuff for you\n",
    "    - putting parameters in the right registers\n",
    "    - filling in the system call number"
   ]
  },
  {
   "cell_type": "markdown",
   "id": "d1ac894f",
   "metadata": {
    "slideshow": {
     "slide_type": "slide"
    }
   },
   "source": [
    "**man 2 syscalls**"
   ]
  },
  {
   "cell_type": "code",
   "execution_count": 82,
   "id": "4f5398b4",
   "metadata": {
    "scrolled": true
   },
   "outputs": [
    {
     "name": "stdout",
     "output_type": "stream",
     "text": [
      "$ man 2 syscalls|head -80\n",
      "SYSCALLS(2)                Linux Programmer's Manual               SYSCALLS(2)\r\n",
      "\r\n",
      "NAME\r\n",
      "       syscalls - Linux system calls\r\n",
      "\r\n",
      "SYNOPSIS\r\n",
      "       Linux system calls.\r\n",
      "\r\n",
      "DESCRIPTION\r\n",
      "       The system call is the fundamental interface between an application and\r\n",
      "       the Linux kernel.\r\n",
      "\r\n",
      "   System calls and library wrapper functions\r\n",
      "       System calls are generally not invoked directly, but rather via wrapper\r\n",
      "       functions in glibc (or perhaps some other library).  For details of di‐\r\n",
      "       rect invocation of a system call, see intro(2).  Often, but not always,\r\n",
      "       the  name of the wrapper function is the same as the name of the system\r\n",
      "       call that it invokes.  For example, glibc contains a  function  chdir()\r\n",
      "       which invokes the underlying \"chdir\" system call.\r\n",
      "\r\n",
      "       Often the glibc wrapper function is quite thin, doing little work other\r\n",
      "       than copying arguments to the right registers before invoking the  sys‐\r\n",
      "       tem  call,  and  then setting errno appropriately after the system call\r\n",
      "       has returned.   (These  are  the  same  steps  that  are  performed  by\r\n",
      "       syscall(2), which can be used to invoke system calls for which no wrap‐\r\n",
      "       per function is provided.)  Note: system calls indicate  a  failure  by\r\n",
      "       returning  a negative error number to the caller on architectures with‐\r\n",
      "       out a separate error register/flag, as noted in syscall(2);  when  this\r\n",
      "       happens,  the  wrapper  function  negates the returned error number (to\r\n",
      "       make it positive), copies it to errno, and returns -1 to the caller  of\r\n",
      "       the wrapper.\r\n",
      "\r\n",
      "       Sometimes,  however,  the  wrapper function does some extra work before\r\n",
      "       invoking the system call.  For example, nowadays there are (for reasons\r\n",
      "       described  below)  two  related  system  calls,  truncate(2)  and trun‐\r\n",
      "       cate64(2), and the glibc truncate() wrapper function  checks  which  of\r\n",
      "       those  system  calls  are  provided  by the kernel and determines which\r\n",
      "       should be employed.\r\n",
      "\r\n",
      "   System call list\r\n",
      "       Below is a list of the Linux system calls.  In  the  list,  the  Kernel\r\n",
      "       column  indicates  the  kernel version for those system calls that were\r\n",
      "       new in Linux 2.2, or have appeared since that kernel version.  Note the\r\n",
      "       following points:\r\n",
      "\r\n",
      "       *  Where  no  kernel  version is indicated, the system call appeared in\r\n",
      "          kernel 1.0 or earlier.\r\n",
      "\r\n",
      "       *  Where a system call is marked \"1.2\" this means the system call prob‐\r\n",
      "          ably  appeared  in  a  1.1.x kernel version, and first appeared in a\r\n",
      "          stable kernel with 1.2.  (Development of the 1.2 kernel  was  initi‐\r\n",
      "          ated from a branch of kernel 1.0.6 via the 1.1.x unstable kernel se‐\r\n",
      "          ries.)\r\n",
      "\r\n",
      "       *  Where a system call is marked \"2.0\" this means the system call prob‐\r\n",
      "          ably  appeared  in  a  1.3.x kernel version, and first appeared in a\r\n",
      "          stable kernel with 2.0.  (Development of the 2.0 kernel  was  initi‐\r\n",
      "          ated from a branch of kernel 1.2.x, somewhere around 1.2.10, via the\r\n",
      "          1.3.x unstable kernel series.)\r\n",
      "\r\n",
      "       *  Where a system call is marked \"2.2\" this means the system call prob‐\r\n",
      "          ably  appeared  in  a  2.1.x kernel version, and first appeared in a\r\n",
      "          stable kernel with 2.2.0.  (Development of the 2.2 kernel was initi‐\r\n",
      "          ated  from  a  branch of kernel 2.0.21 via the 2.1.x unstable kernel\r\n",
      "          series.)\r\n",
      "\r\n",
      "       *  Where a system call is marked \"2.4\" this means the system call prob‐\r\n",
      "          ably  appeared  in  a  2.3.x kernel version, and first appeared in a\r\n",
      "          stable kernel with 2.4.0.  (Development of the 2.4 kernel was initi‐\r\n",
      "          ated from a branch of kernel 2.2.8 via the 2.3.x unstable kernel se‐\r\n",
      "          ries.)\r\n",
      "\r\n",
      "       *  Where a system call is marked \"2.6\" this means the system call prob‐\r\n",
      "          ably  appeared  in  a  2.5.x kernel version, and first appeared in a\r\n",
      "          stable kernel with 2.6.0.  (Development of kernel 2.6\n"
     ]
    }
   ],
   "source": [
    "TermShellCmd(\"man 2 syscalls|head -80\", noposttext=True, markdown=False)"
   ]
  },
  {
   "cell_type": "markdown",
   "id": "d26385bd",
   "metadata": {
    "slideshow": {
     "slide_type": "slide"
    }
   },
   "source": [
    "**man 2 brk**"
   ]
  },
  {
   "cell_type": "code",
   "execution_count": 83,
   "id": "78532fa3",
   "metadata": {
    "hide_input": false,
    "scrolled": true
   },
   "outputs": [
    {
     "name": "stdout",
     "output_type": "stream",
     "text": [
      "$ man 2 brk\n",
      "BRK(2)                     Linux Programmer's Manual                    BRK(2)\r\n",
      "\r\n",
      "N\bNA\bAM\bME\bE\r\n",
      "       brk, sbrk - change data segment size\r\n",
      "\r\n",
      "S\bSY\bYN\bNO\bOP\bPS\bSI\bIS\bS\r\n",
      "       #\b#i\bin\bnc\bcl\blu\bud\bde\be <\b<u\bun\bni\bis\bst\btd\bd.\b.h\bh>\b>\r\n",
      "\r\n",
      "       i\bin\bnt\bt b\bbr\brk\bk(\b(v\bvo\boi\bid\bd *\b*_\ba_\bd_\bd_\br)\b);\b;\r\n",
      "\r\n",
      "       v\bvo\boi\bid\bd *\b*s\bsb\bbr\brk\bk(\b(i\bin\bnt\btp\bpt\btr\br_\b_t\bt _\bi_\bn_\bc_\br_\be_\bm_\be_\bn_\bt)\b);\b;\r\n",
      "\r\n",
      "   Feature Test Macro Requirements for glibc (see f\bfe\bea\bat\btu\bur\bre\be_\b_t\bte\bes\bst\bt_\b_m\bma\bac\bcr\bro\bos\bs(7)):\r\n",
      "\r\n",
      "       b\bbr\brk\bk(), s\bsb\bbr\brk\bk():\r\n",
      "           Since glibc 2.19:\r\n",
      "               _DEFAULT_SOURCE ||\r\n",
      "                   (_XOPEN_SOURCE >= 500) &&\r\n",
      "                   ! (_POSIX_C_SOURCE >= 200112L)\r\n",
      "           From glibc 2.12 to 2.19:\r\n",
      "               _BSD_SOURCE || _SVID_SOURCE ||\r\n",
      "                   (_XOPEN_SOURCE >= 500) &&\r\n",
      "                   ! (_POSIX_C_SOURCE >= 200112L)\r\n",
      "           Before glibc 2.12:\r\n",
      "               _BSD_SOURCE || _SVID_SOURCE || _XOPEN_SOURCE >= 500\r\n",
      "\r\n",
      "D\bDE\bES\bSC\bCR\bRI\bIP\bPT\bTI\bIO\bON\bN\r\n",
      "       b\bbr\brk\bk()  and  s\bsb\bbr\brk\bk()  change the location of the _\bp_\br_\bo_\bg_\br_\ba_\bm _\bb_\br_\be_\ba_\bk, which de‐\r\n",
      "       fines the end of the process's data segment (i.e., the program break is\r\n",
      "       the  first  location  after the end of the uninitialized data segment).\r\n",
      "       Increasing the program break has the effect of allocating memory to the\r\n",
      "       process; decreasing the break deallocates memory.\r\n",
      "\r\n",
      "       b\bbr\brk\bk()  sets the end of the data segment to the value specified by _\ba_\bd_\bd_\br,\r\n",
      "       when that value is reasonable, the system has enough  memory,  and  the\r\n",
      "       process does not exceed its maximum data size (see s\bse\bet\btr\brl\bli\bim\bmi\bit\bt(2)).\r\n",
      "\r\n",
      "       s\bsb\bbr\brk\bk() increments the program's data space by _\bi_\bn_\bc_\br_\be_\bm_\be_\bn_\bt bytes.  Calling\r\n",
      "       s\bsb\bbr\brk\bk() with an _\bi_\bn_\bc_\br_\be_\bm_\be_\bn_\bt of 0 can be used to find the current  location\r\n",
      "       of the program break.\r\n",
      "\r\n",
      "R\bRE\bET\bTU\bUR\bRN\bN V\bVA\bAL\bLU\bUE\bE\r\n",
      "       On success, b\bbr\brk\bk() returns zero.  On error, -1 is returned, and _\be_\br_\br_\bn_\bo is\r\n",
      "       set to E\bEN\bNO\bOM\bME\bEM\bM.\r\n",
      "\r\n",
      "       On success, s\bsb\bbr\brk\bk() returns the previous program break.  (If  the  break\r\n",
      "       was  increased,  then this value is a pointer to the start of the newly\r\n",
      "       allocated memory).  On error, _\b(_\bv_\bo_\bi_\bd _\b*_\b) _\b-_\b1 is returned, and _\be_\br_\br_\bn_\bo is set\r\n",
      "       to E\bEN\bNO\bOM\bME\bEM\bM.\r\n",
      "\r\n",
      "C\bCO\bON\bNF\bFO\bOR\bRM\bMI\bIN\bNG\bG T\bTO\bO\r\n",
      "       4.3BSD; SUSv1, marked LEGACY in SUSv2, removed in POSIX.1-2001.\r\n",
      "\r\n",
      "N\bNO\bOT\bTE\bES\bS\r\n",
      "       Avoid  using  b\bbr\brk\bk() and s\bsb\bbr\brk\bk(): the m\bma\bal\bll\blo\boc\bc(3) memory allocation package\r\n",
      "       is the portable and comfortable way of allocating memory.\r\n",
      "\r\n",
      "       Various systems use various types for the argument of  s\bsb\bbr\brk\bk().   Common\r\n",
      "       are _\bi_\bn_\bt, _\bs_\bs_\bi_\bz_\be_\b__\bt, _\bp_\bt_\br_\bd_\bi_\bf_\bf_\b__\bt, _\bi_\bn_\bt_\bp_\bt_\br_\b__\bt.\r\n",
      "\r\n",
      "   C\bC l\bli\bib\bbr\bra\bar\bry\by/\b/k\bke\ber\brn\bne\bel\bl d\bdi\bif\bff\bfe\ber\bre\ben\bnc\bce\bes\bs\r\n",
      "       The  return value described above for b\bbr\brk\bk() is the behavior provided by\r\n",
      "       the glibc wrapper function for the Linux b\bbr\brk\bk() system call.   (On  most\r\n",
      "       other  implementations,  the  return value from b\bbr\brk\bk() is the same; this\r\n",
      "       return value was also specified in SUSv2.)  However, the  actual  Linux\r\n",
      "       system  call returns the new program break on success.  On failure, the\r\n",
      "       system call returns the current break.  The glibc wrapper function does\r\n",
      "       some  work  (i.e.,  checks  whether the new break is less than _\ba_\bd_\bd_\br) to\r\n",
      "       provide the 0 and -1 return values described above.\r\n",
      "\r\n",
      "       On Linux, s\bsb\bbr\brk\bk() is implemented as a library  function  that  uses  the\r\n",
      "       b\bbr\brk\bk()  system  call,  and does some internal bookkeeping so that it can\r\n",
      "       return the old break value.\r\n",
      "\r\n",
      "S\bSE\bEE\bE A\bAL\bLS\bSO\bO\r\n",
      "       e\bex\bxe\bec\bcv\bve\be(2), g\bge\bet\btr\brl\bli\bim\bmi\bit\bt(2), e\ben\bnd\bd(3), m\bma\bal\bll\blo\boc\bc(3)\r\n",
      "\r\n",
      "C\bCO\bOL\bLO\bOP\bPH\bHO\bON\bN\r\n",
      "       This page is part of release 5.05 of the Linux  _\bm_\b\n"
     ]
    }
   ],
   "source": [
    "TermShellCmd(\"man 2 brk\", noposttext=True, markdown=False)"
   ]
  },
  {
   "cell_type": "markdown",
   "id": "275e0757",
   "metadata": {
    "slideshow": {
     "slide_type": "slide"
    }
   },
   "source": [
    "**glibc also has support for using the syscall instruction in C**"
   ]
  },
  {
   "cell_type": "markdown",
   "id": "31134d14",
   "metadata": {
    "hide_input": true
   },
   "source": [
    "**man 2 syscall**"
   ]
  },
  {
   "cell_type": "code",
   "execution_count": 84,
   "id": "73b21bbf",
   "metadata": {
    "hide_input": true,
    "scrolled": true
   },
   "outputs": [
    {
     "name": "stdout",
     "output_type": "stream",
     "text": [
      "$ man 2 syscall\n",
      "SYSCALL(2)                 Linux Programmer's Manual                SYSCALL(2)\r\n",
      "\r\n",
      "N\bNA\bAM\bME\bE\r\n",
      "       syscall - indirect system call\r\n",
      "\r\n",
      "S\bSY\bYN\bNO\bOP\bPS\bSI\bIS\bS\r\n",
      "       #\b#i\bin\bnc\bcl\blu\bud\bde\be <\b<u\bun\bni\bis\bst\btd\bd.\b.h\bh>\b>\r\n",
      "       #\b#i\bin\bnc\bcl\blu\bud\bde\be <\b<s\bsy\bys\bs/\b/s\bsy\bys\bsc\bca\bal\bll\bl.\b.h\bh>\b>   /* For SYS_xxx definitions */\r\n",
      "\r\n",
      "       l\blo\bon\bng\bg s\bsy\bys\bsc\bca\bal\bll\bl(\b(l\blo\bon\bng\bg _\bn_\bu_\bm_\bb_\be_\br,\b, .\b..\b..\b.)\b);\b;\r\n",
      "\r\n",
      "   Feature Test Macro Requirements for glibc (see f\bfe\bea\bat\btu\bur\bre\be_\b_t\bte\bes\bst\bt_\b_m\bma\bac\bcr\bro\bos\bs(7)):\r\n",
      "       s\bsy\bys\bsc\bca\bal\bll\bl():\r\n",
      "           Since glibc 2.19:\r\n",
      "               _DEFAULT_SOURCE\r\n",
      "           Before glibc 2.19:\r\n",
      "               _BSD_SOURCE || _SVID_SOURCE\r\n",
      "\r\n",
      "D\bDE\bES\bSC\bCR\bRI\bIP\bPT\bTI\bIO\bON\bN\r\n",
      "       s\bsy\bys\bsc\bca\bal\bll\bl()  is  a  small  library  function that invokes the system call\r\n",
      "       whose assembly language interface has the  specified  _\bn_\bu_\bm_\bb_\be_\br  with  the\r\n",
      "       specified  arguments.  Employing s\bsy\bys\bsc\bca\bal\bll\bl() is useful, for example, when\r\n",
      "       invoking a system call that has no wrapper function in the C library.\r\n",
      "\r\n",
      "       s\bsy\bys\bsc\bca\bal\bll\bl() saves CPU registers before making the system  call,  restores\r\n",
      "       the  registers  upon  return from the system call, and stores any error\r\n",
      "       code returned by the system call in e\ber\brr\brn\bno\bo(3) if an error occurs.\r\n",
      "\r\n",
      "       Symbolic constants for system call numbers can be found in  the  header\r\n",
      "       file _\b<_\bs_\by_\bs_\b/_\bs_\by_\bs_\bc_\ba_\bl_\bl_\b._\bh_\b>.\r\n",
      "\r\n",
      "R\bRE\bET\bTU\bUR\bRN\bN V\bVA\bAL\bLU\bUE\bE\r\n",
      "       The  return value is defined by the system call being invoked.  In gen‐\r\n",
      "       eral, a 0 return value indicates success.  A -1 return value  indicates\r\n",
      "       an error, and an error code is stored in _\be_\br_\br_\bn_\bo.\r\n",
      "\r\n",
      "N\bNO\bOT\bTE\bES\bS\r\n",
      "       s\bsy\bys\bsc\bca\bal\bll\bl() first appeared in 4BSD.\r\n",
      "\r\n",
      "   A\bAr\brc\bch\bhi\bit\bte\bec\bct\btu\bur\bre\be-\b-s\bsp\bpe\bec\bci\bif\bfi\bic\bc r\bre\beq\bqu\bui\bir\bre\bem\bme\ben\bnt\bts\bs\r\n",
      "       Each architecture ABI has its own requirements on how system call argu‐\r\n",
      "       ments are passed to the kernel.  For system calls  that  have  a  glibc\r\n",
      "       wrapper (e.g., most system calls), glibc handles the details of copying\r\n",
      "       arguments to the right registers in a manner suitable for the architec‐\r\n",
      "       ture.   However, when using s\bsy\bys\bsc\bca\bal\bll\bl() to make a system call, the caller\r\n",
      "       might need to handle architecture-dependent details;  this  requirement\r\n",
      "       is most commonly encountered on certain 32-bit architectures.\r\n",
      "\r\n",
      "       For  example,  on  the  ARM  architecture Embedded ABI (EABI), a 64-bit\r\n",
      "       value (e.g., _\bl_\bo_\bn_\bg _\bl_\bo_\bn_\bg) must be  aligned  to  an  even  register  pair.\r\n",
      "       Thus,  using  s\bsy\bys\bsc\bca\bal\bll\bl()  instead  of the wrapper provided by glibc, the\r\n",
      "       r\bre\bea\bad\bda\bah\bhe\bea\bad\bd() system call would be invoked as follows on the  ARM  archi‐\r\n",
      "       tecture with the EABI in little endian mode:\r\n",
      "\r\n",
      "           syscall(SYS_readahead, fd, 0,\r\n",
      "                   (unsigned int) (offset & 0xFFFFFFFF),\r\n",
      "                   (unsigned int) (offset >> 32),\r\n",
      "                   count);\r\n",
      "\r\n",
      "       Since  the  offset  argument is 64 bits, and the first argument (_\bf_\bd) is\r\n",
      "       passed in _\br_\b0, the caller must manually split and align the 64-bit value\r\n",
      "       so  that it is passed in the _\br_\b2/_\br_\b3 register pair.  That means inserting\r\n",
      "       a dummy value into _\br_\b1 (the second argument of 0).  Care  also  must  be\r\n",
      "       taken  so that the split follows endian conventions (according to the C\r\n",
      "       ABI for the platform).\r\n",
      "\r\n",
      "       Similar issues can occur on MIPS with  the  O32  ABI,  on  PowerPC  and\r\n",
      "       parisc with the 32-bit ABI, and on Xtensa.\r\n",
      "\r\n",
      "       Note  that  while the parisc C ABI also uses aligned register pairs, it\r\n",
      "       uses a shim layer to hide the issue from user space.\r\n",
      "\r\n",
      "       The  affected  system  calls   are   f\bfa\bad\bdv\bvi\bis\bse\be6\b64\b4_\b_6\b64\b4(2),   f\bft\btr\bru\bun\bnc\bca\bat\bte\be6\b64\b4(2),\r\n",
      "       p\bpo\bos\bsi\bix\bx_\b_f\bfa\bad\bdv\bvi\bis\bse\be(2),      p\bpr\bre\bea\bad\bd6\b64\b4(2),      p\bpw\bwr\bri\b\n"
     ]
    }
   ],
   "source": [
    "TermShellCmd(\"man 2 syscall\", noposttext=True, markdown=False)"
   ]
  },
  {
   "cell_type": "markdown",
   "id": "200e0dee",
   "metadata": {
    "slideshow": {
     "slide_type": "slide"
    }
   },
   "source": [
    "**In the following example we will call brk directly rather than letting malloc call it**\n",
    "\n",
    "Do not do this -- you can screw up malloc only for example purposes\n"
   ]
  },
  {
   "cell_type": "code",
   "execution_count": 138,
   "id": "82abbdd5",
   "metadata": {
    "hide_input": true,
    "slideshow": {
     "slide_type": "slide"
    }
   },
   "outputs": [
    {
     "data": {
      "text/markdown": [
       "<font size=\"6rem\"><b>C: dynmemsyscalls.c\n",
       "<div style=\"width:107em; height:100%; font-size:inherit; overflow: auto;\" >\n",
       "\n",
       "\n",
       "``` c\n",
       "#include <stdlib.h>\n",
       "#include <string.h>\n",
       "#include <unistd.h>\n",
       "#include <sys/syscall.h>   /* For SYS_xxx definitions */\n",
       "\n",
       "int\n",
       "main(int argc, char **argv)\n",
       "{\n",
       "  char *cptr;\n",
       "  int n = 4096;\n",
       "\n",
       "  cptr = malloc(n);\n",
       "  memset(cptr, 0xaa, n);\n",
       "  free(cptr);\n",
       "\n",
       "  cptr = sbrk(4096);\n",
       "  memset(cptr, 0xaa, 4096);\n",
       "\n",
       "  cptr = (void *) syscall(12, 0); // hardcode syscall number\n",
       "  syscall(SYS_brk, cptr + 4096);  // use constant from header\n",
       "  memset(cptr, 0xaa, 4096);\n",
       "\n",
       "  return 0;\n",
       "}\n",
       "\n",
       "```\n",
       "\n",
       "\n",
       "</div>\n"
      ],
      "text/plain": [
       "<IPython.core.display.Markdown object>"
      ]
     },
     "metadata": {},
     "output_type": "display_data"
    },
    {
     "name": "stdout",
     "output_type": "stream",
     "text": [
      "\n",
      "gcc -Werror  -g dynmemsyscalls.c -o dynmemsyscalls\r\n",
      "\n"
     ]
    }
   ],
   "source": [
    "display(Markdown('<font size=\"6rem\">' + FileCodeBox(\n",
    "    file=appdir + \"/dynmemsyscalls.c\", \n",
    "    lang=\"c\", \n",
    "    title=\"<b>C: dynmemsyscalls.c\",\n",
    "    h=\"100%\", \n",
    "    w=\"107em\"\n",
    ")))\n",
    "TermShellCmd(\"[[ -a dynmemsyscalls ]] && rm dynmemsyscalls;make dynmemsyscalls\", cwd=appdir, prompt='', noposttext=True)"
   ]
  },
  {
   "cell_type": "markdown",
   "id": "7f40a24c",
   "metadata": {
    "hide_input": true,
    "slideshow": {
     "slide_type": "slide"
    }
   },
   "source": [
    "#### You can use `mmap` and `munmap` in your C programs to manage your own  dynamic address space mapping\n"
   ]
  },
  {
   "cell_type": "markdown",
   "id": "61bd6f8f",
   "metadata": {
    "slideshow": {
     "slide_type": "slide"
    }
   },
   "source": [
    "**man mmap**\n",
    "\n",
    "It is very powerful but also has a lot of parameters "
   ]
  },
  {
   "cell_type": "code",
   "execution_count": 86,
   "id": "2c225cad",
   "metadata": {
    "hide_input": true,
    "scrolled": true
   },
   "outputs": [
    {
     "name": "stdout",
     "output_type": "stream",
     "text": [
      "$ man 2 mmap|head -40\n",
      "MMAP(2)                    Linux Programmer's Manual                   MMAP(2)\r\n",
      "\r\n",
      "NAME\r\n",
      "       mmap, munmap - map or unmap files or devices into memory\r\n",
      "\r\n",
      "SYNOPSIS\r\n",
      "       #include <sys/mman.h>\r\n",
      "\r\n",
      "       void *mmap(void *addr, size_t length, int prot, int flags,\r\n",
      "                  int fd, off_t offset);\r\n",
      "       int munmap(void *addr, size_t length);\r\n",
      "\r\n",
      "       See NOTES for information on feature test macro requirements.\r\n",
      "\r\n",
      "DESCRIPTION\r\n",
      "       mmap()  creates a new mapping in the virtual address space of the call‐\r\n",
      "       ing process.  The starting address for the new mapping is specified  in\r\n",
      "       addr.   The  length argument specifies the length of the mapping (which\r\n",
      "       must be greater than 0).\r\n",
      "\r\n",
      "       If addr is NULL, then the kernel chooses the (page-aligned) address  at\r\n",
      "       which to create the mapping; this is the most portable method of creat‐\r\n",
      "       ing a new mapping.  If addr is not NULL, then the kernel takes it as  a\r\n",
      "       hint about where to place the mapping; on Linux, the kernel will pick a\r\n",
      "       nearby page boundary (but always above or equal to the value  specified\r\n",
      "       by /proc/sys/vm/mmap_min_addr) and attempt to create the mapping there.\r\n",
      "       If another mapping already exists there, the kernel picks a new address\r\n",
      "       that may or may not depend on the hint.  The address of the new mapping\r\n",
      "       is returned as the result of the call.\r\n",
      "\r\n",
      "       The contents of a file mapping (as opposed to an anonymous mapping; see\r\n",
      "       MAP_ANONYMOUS  below),  are  initialized using length bytes starting at\r\n",
      "       offset offset in the file (or other object) referred to by the file de‐\r\n",
      "       scriptor fd.  offset must be a multiple of the page size as returned by\r\n",
      "       sysconf(_SC_PAGE_SIZE).\r\n",
      "\r\n",
      "       After the mmap() call has returned, the file  descriptor,  fd,  can  be\r\n",
      "       closed immediately without invalidating the mapping.\r\n",
      "\r\n",
      "       The  prot  argument describes the desired memory protection of the map‐\r\n",
      "\n"
     ]
    }
   ],
   "source": [
    "TermShellCmd(\"man 2 mmap|head -40\", noposttext=True, markdown=False)"
   ]
  },
  {
   "cell_type": "markdown",
   "id": "6ce06bc9",
   "metadata": {
    "slideshow": {
     "slide_type": "slide"
    }
   },
   "source": [
    "### Under the covers `malloc`, `free` and friends\n",
    "- are calling `brk`, `mmap` and `munmap` \n",
    "- you and your code does not need to deal with the details\n",
    "  - rather a simpler interface that is consistent across CPU types and OS\n",
    "    - get me `n` bytes of memory and return a pointer to it \n",
    "    - give back memory at this address"
   ]
  },
  {
   "cell_type": "markdown",
   "id": "fb635513",
   "metadata": {
    "slideshow": {
     "slide_type": "slide"
    }
   },
   "source": [
    "#### Important points about dynamic memory\n",
    "\n",
    "What is wrong with this code?"
   ]
  },
  {
   "cell_type": "code",
   "execution_count": 118,
   "id": "cbc98087",
   "metadata": {
    "hide_input": true,
    "scrolled": false
   },
   "outputs": [
    {
     "data": {
      "text/markdown": [
       "<font size=\"6rem\"><b>C: badmsgcode.c\n",
       "<div style=\"width:100%; height:100%; font-size:inherit; overflow: auto;\" >\n",
       "\n",
       "\n",
       "``` c\n",
       "#include <stdlib.h>\n",
       "#include <assert.h>\n",
       "\n",
       "// waits for request message to arrive: returns length in bytes and updates integer pointed to\n",
       "// by idPtr with id of request\n",
       "int getRequest(int *idPtr);\n",
       "// read the data of request with id into memory pointed to by buffer\n",
       "void readRequestData(int id, char *buffer);\n",
       "// process request with id and data in memory pointed to by buffer, frees buffer when done\n",
       "void processRequest(int id, char *buffer);\n",
       "\n",
       "int\n",
       "main(int argc, char **argv)\n",
       "{\n",
       "  int n;\n",
       "  int *id_ptr;\n",
       "  char *msg_buffer;\n",
       "\n",
       "  // my server loop\n",
       "  while (1) {\n",
       "    id_ptr = malloc(sizeof(int));\n",
       "    assert(id_ptr != 0);\n",
       "    n = getRequest(id_ptr);\n",
       "    msg_buffer = malloc(n);\n",
       "    assert(msg_buffer != 0);\n",
       "    readRequestData(*id_ptr, msg_buffer);\n",
       "    processRequest(*id_ptr, msg_buffer);\n",
       "  }\n",
       "  // should never get here\n",
       "  exit(0);\n",
       "}\n",
       "\n",
       "```\n",
       "\n",
       "\n",
       "</div>\n"
      ],
      "text/plain": [
       "<IPython.core.display.Markdown object>"
      ]
     },
     "metadata": {},
     "output_type": "display_data"
    },
    {
     "name": "stdout",
     "output_type": "stream",
     "text": [
      "\n",
      "gcc  -g -Werror -c  badmsgcode.c -o badmsgcode.o\r\n",
      "\n"
     ]
    }
   ],
   "source": [
    "display(Markdown('<font size=\"6rem\">' + FileCodeBox(\n",
    "    file=appdir + \"/badmsgcode.c\", \n",
    "    lang=\"c\", \n",
    "    title=\"<b>C: badmsgcode.c\",\n",
    "    h=\"100%\", \n",
    "    w=\"100%\"\n",
    ")))\n",
    "TermShellCmd(\"[[ -a badmsgcode.o ]] && rm badmsgcode.o;make badmsgcode.o\", cwd=appdir, prompt='', noposttext=True)"
   ]
  },
  {
   "cell_type": "markdown",
   "id": "c1c90b08",
   "metadata": {},
   "source": [
    "- this is why higher level languages have a lot of code to hide the details of dynamic memory\n",
    "  - reference counting\n",
    "  - garbage collectors"
   ]
  },
  {
   "cell_type": "markdown",
   "id": "05f6b9f1",
   "metadata": {
    "slideshow": {
     "slide_type": "slide"
    }
   },
   "source": [
    "## Layers\n",
    "\n",
    "What we see is a general pattern of layering\n",
    "\n",
    "- Assembly is at the bottom\n",
    "- OS kernel provides an assembly interface to its routines \n",
    "  - x86 Linux system calls invoked via `syscall` instruction and the right register values\n",
    "- lowest layer of libc routines provides wrappers\n",
    "- The other lib routines build on these to add more functionality eg. `malloc` and `free`\n",
    "  - thus programmers and C applications are isolated from details of OS syscalls\n",
    "    - simply need to learn libc which is ported to each computer OS pair"
   ]
  },
  {
   "cell_type": "markdown",
   "id": "a993c3c9",
   "metadata": {
    "slideshow": {
     "slide_type": "slide"
    }
   },
   "source": [
    "## IO is no different\n",
    "\n",
    "### Lowest layer is wrappers for core UNIX I/O routines\n",
    "\n",
    "- `open`, `close`, `read`, `write`, `dup`, `mkdir`, `exec`, `mmap`\n",
    "\n",
    "### A layer up buffered and formated I/O\n",
    "\n",
    "- `fopen`, `fclose`, `fread`, `fwrite`, \n",
    "- `fprintf` (`printf`), `fscanf` (`scanf`)\n"
   ]
  }
 ],
 "metadata": {
  "celltoolbar": "Slideshow",
  "hide_input": true,
  "kernelspec": {
   "display_name": "Python 3 (ipykernel)",
   "language": "python",
   "name": "python3"
  },
  "language_info": {
   "codemirror_mode": {
    "name": "ipython",
    "version": 3
   },
   "file_extension": ".py",
   "mimetype": "text/x-python",
   "name": "python",
   "nbconvert_exporter": "python",
   "pygments_lexer": "ipython3",
   "version": "3.9.6"
  },
  "rise": {
   "autolaunch": false,
   "enable_chalkboard": true,
   "footer": "UC-SLS -- Lecture 18",
   "header": "C: Organizing Opcodes",
   "height": "100%",
   "scroll": true,
   "start_slideshow_at": "selected",
   "theme": "black",
   "transition": "none",
   "width": "100%"
  }
 },
 "nbformat": 4,
 "nbformat_minor": 5
}
