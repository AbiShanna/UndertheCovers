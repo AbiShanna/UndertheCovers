{
 "cells": [
  {
   "cell_type": "markdown",
   "id": "50d6bf36-6374-4939-b64e-a60fb92850f3",
   "metadata": {},
   "source": [
    "# UC-SLS Lecture 20 : Using LibC to access the OS and escape the confines our our process\n",
    "\n",
    "- Address Space management:\n",
    "  - dynamic memory for data items: `malloc` and `free`\n",
    "  - more powerfully control using `mmap` and `munmap`\n",
    "- I/O\n",
    "  - low-level file descriptor based: `open`, `read`, `write`, `close`, `getc`, `getchar`, `gets`, `putc`, `putchar`, `puts`\n",
    "  - Formatted and Buffered IO: `fopen`, `fread`, `fwrite`, `fclose`, `fprintf`/`printf`,\n",
    "  `fscanf`/`scanf`, `fgetc`, `fgets`, `fputs`, `fputc`, `fgetpos`, `fsetpos`, `fseek`, `fflush`, "
   ]
  },
  {
   "cell_type": "code",
   "execution_count": null,
   "id": "1b888cd5",
   "metadata": {},
   "outputs": [],
   "source": []
  }
 ],
 "metadata": {
  "hide_input": false,
  "kernelspec": {
   "display_name": "Python 3 (ipykernel)",
   "language": "python",
   "name": "python3"
  },
  "language_info": {
   "codemirror_mode": {
    "name": "ipython",
    "version": 3
   },
   "file_extension": ".py",
   "mimetype": "text/x-python",
   "name": "python",
   "nbconvert_exporter": "python",
   "pygments_lexer": "ipython3",
   "version": "3.9.6"
  }
 },
 "nbformat": 4,
 "nbformat_minor": 5
}
