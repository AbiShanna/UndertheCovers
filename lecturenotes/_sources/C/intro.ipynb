{
 "cells": [
  {
   "cell_type": "code",
   "execution_count": null,
   "id": "b4091b76",
   "metadata": {},
   "outputs": [],
   "source": [
    "%run -i ../python/common.py\n",
    "%run -i ../python/ln_preamble.py"
   ]
  },
  {
   "cell_type": "markdown",
   "id": "ff933217",
   "metadata": {},
   "source": [
    "# Introduction\n",
    "So now that we have a sense for we write code that is very close to the native language of the computer lets try and figure out how ensure that most humans never have to do that!\n"
   ]
  },
  {
   "cell_type": "code",
   "execution_count": null,
   "id": "dba59da3",
   "metadata": {},
   "outputs": [],
   "source": [
    "print(\"hello world\")"
   ]
  },
  {
   "cell_type": "code",
   "execution_count": null,
   "id": "2b48da27",
   "metadata": {},
   "outputs": [],
   "source": []
  }
 ],
 "metadata": {
  "hide_input": false,
  "kernelspec": {
   "display_name": "Python 3 (ipykernel)",
   "language": "python",
   "name": "python3"
  },
  "language_info": {
   "codemirror_mode": {
    "name": "ipython",
    "version": 3
   },
   "file_extension": ".py",
   "mimetype": "text/x-python",
   "name": "python",
   "nbconvert_exporter": "python",
   "pygments_lexer": "ipython3",
   "version": "3.9.6"
  }
 },
 "nbformat": 4,
 "nbformat_minor": 5
}
