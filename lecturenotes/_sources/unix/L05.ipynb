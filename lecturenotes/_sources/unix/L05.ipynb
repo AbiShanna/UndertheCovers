{
 "cells": [
  {
   "cell_type": "markdown",
   "id": "e1d6e5e5-b59c-4ca9-b8ae-7bd6d6137ddc",
   "metadata": {},
   "source": [
    "# SLS Lecture 5 : Version Control and GIT: The Basics"
   ]
  },
  {
   "cell_type": "code",
   "execution_count": null,
   "id": "42b64035",
   "metadata": {},
   "outputs": [],
   "source": []
  }
 ],
 "metadata": {
  "hide_input": false,
  "kernelspec": {
   "display_name": "Python 3 (ipykernel)",
   "language": "python",
   "name": "python3"
  },
  "language_info": {
   "codemirror_mode": {
    "name": "ipython",
    "version": 3
   },
   "file_extension": ".py",
   "mimetype": "text/x-python",
   "name": "python",
   "nbconvert_exporter": "python",
   "pygments_lexer": "ipython3",
   "version": "3.9.6"
  }
 },
 "nbformat": 4,
 "nbformat_minor": 5
}
