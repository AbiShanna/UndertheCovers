{
 "cells": [
  {
   "cell_type": "code",
   "execution_count": 16,
   "id": "919e2464",
   "metadata": {
    "slideshow": {
     "slide_type": "skip"
    }
   },
   "outputs": [
    {
     "data": {
      "text/html": [
       "<style>#notebook { padding-top:0px !important; } .container { width:100% !important; } .CodeMirror { width:100% !important;}.end_space { min-height:0px !important; } .prompt { display:none }.terminal-app #terminado-container { width:100%; }div.mywarn { background-color: #fcf2f2;border-color: #dFb5b4; border-left: 5px solid #dfb5b4; padding: 0.5em;}</style>"
      ],
      "text/plain": [
       "<IPython.core.display.HTML object>"
      ]
     },
     "metadata": {},
     "output_type": "display_data"
    }
   ],
   "source": [
    "%run -i ../python/ln_preamble.py"
   ]
  },
  {
   "cell_type": "markdown",
   "id": "763e8524",
   "metadata": {
    "slideshow": {
     "slide_type": "slide"
    }
   },
   "source": [
    "# SLS : Part I  -- UNIX Introduction and Preliminaries"
   ]
  },
  {
   "cell_type": "markdown",
   "id": "410af07c",
   "metadata": {
    "slideshow": {
     "slide_type": "slide"
    }
   },
   "source": [
    "# What is an operating system?"
   ]
  },
  {
   "cell_type": "markdown",
   "id": "67c7e449",
   "metadata": {
    "slideshow": {
     "slide_type": "slide"
    }
   },
   "source": [
    "# Wait ... what is a computer?"
   ]
  },
  {
   "cell_type": "markdown",
   "id": "6f36fe7e",
   "metadata": {
    "slideshow": {
     "slide_type": "slide"
    }
   },
   "source": [
    "# What is Unix and why Unix?"
   ]
  },
  {
   "cell_type": "markdown",
   "id": "7261501d",
   "metadata": {
    "slideshow": {
     "slide_type": "slide"
    }
   },
   "source": [
    "# HCI: What is a terminal and why does it still matter?"
   ]
  },
  {
   "cell_type": "markdown",
   "id": "92fdf88a",
   "metadata": {
    "slideshow": {
     "slide_type": "slide"
    }
   },
   "source": [
    "# Computers a collection of Hardware vs an Information System"
   ]
  },
  {
   "cell_type": "markdown",
   "id": "681aa32d",
   "metadata": {
    "slideshow": {
     "slide_type": "slide"
    }
   },
   "source": [
    "# What are files and directories (folders)?"
   ]
  },
  {
   "cell_type": "markdown",
   "id": "9cd1fb0e",
   "metadata": {
    "slideshow": {
     "slide_type": "slide"
    }
   },
   "source": [
    "# Ok lets get on with it -- The First Program -- The Shell"
   ]
  },
  {
   "cell_type": "markdown",
   "id": "473b31ba",
   "metadata": {
    "slideshow": {
     "slide_type": "slide"
    }
   },
   "source": [
    "# ASCII Line oriented Interfaces"
   ]
  },
  {
   "cell_type": "markdown",
   "id": "570db7ad",
   "metadata": {
    "slideshow": {
     "slide_type": "slide"
    }
   },
   "source": [
    "# Shell a Programmer Computer Interface vs Human Computer Interface\n",
    "- Power programmers are not \"normal\" humans\n",
    "    - What we care about is efficient ways for controlling the computer via programs"
   ]
  },
  {
   "cell_type": "markdown",
   "id": "058c076a",
   "metadata": {
    "cell_style": "center",
    "hide_input": false,
    "slideshow": {
     "slide_type": "-"
    }
   },
   "source": [
    "# Shell: One program to \"rule/run\" them all\n",
    "- Every story has to start somewhere\n",
    "  - every new terminal connection made to the UNIX system starts a shell and directs its input and output to the the terminal\n",
    "  - Shell is designed to have a text based conversation with a programmer --\n",
    "      - the conversation is exchanges between the programmer and the shell - eg.  \n",
    "```\n",
    "SHLL -> READY\n",
    "PGMR -> <enter> '\\n'\n",
    "SHLL -> READY\n",
    "SHLL -> #<enter> \n",
    "SHLL -> READY\n",
    "PGMR -> echo \"Hello\"\n",
    "SHLL -> Hello\n",
    "SHLL -> READY\n",
    "PGMR -> for ((i=0; i<3; i++)); do echo $i; done\n",
    "SHLL -> 0 \n",
    "SHLL -> 1\n",
    "SHLL -> 2\n",
    "SHLL -> READY\n",
    "PGMR -> Bye \n",
    "SHLL EXITS AND KERNELENDS THE TERMINAL SESSION\n",
    "          \n",
    "      - the shell begins the conversation by send a prompt \"string\" to the terminal\n",
    "      - the programmer sends requests to the shell in a \"line oriented\" way \n",
    "          - A line is a set of ASCII characters terminated by a single \"newline\" character\n",
    "              - '10', '0x0a', '\\n'\n",
    "              - the terminal sends this character when the programmer presses the \"return\" or \"enter\" key\n",
    "          \n",
    "  - Internal vs External command"
   ]
  },
  {
   "cell_type": "code",
   "execution_count": 59,
   "id": "978bb9ce",
   "metadata": {
    "cell_style": "split",
    "hide_input": false,
    "slideshow": {
     "slide_type": "slide"
    }
   },
   "outputs": [
    {
     "data": {
      "application/vnd.jupyter.widget-view+json": {
       "model_id": "fe54fc03f9ec448ba636c4c1a2c9b134",
       "version_major": 2,
       "version_minor": 0
      },
      "text/plain": [
       "interactive(children=(IntSlider(value=0, description='i', max=4), Output()), _dom_classes=('widget-interact',)…"
      ]
     },
     "metadata": {},
     "output_type": "display_data"
    }
   ],
   "source": [
    "import os\n",
    "import ipywidgets as widgets\n",
    "from ipywidgets import interact, interact_manual\n",
    "from IPython.display import Image\n",
    "ilist0=os.listdir('../images/UnixL01_SHCHT0')\n",
    "\n",
    "def show_image(i):\n",
    "    display(Image('../images/UnixL01_SHCHT0/' + ilist0[i]))\n",
    "            \n",
    "interact(show_image, i=widgets.IntSlider(min=0, max=4, step=1, value=0));"
   ]
  },
  {
   "cell_type": "markdown",
   "id": "5be26c04",
   "metadata": {
    "cell_style": "split"
   },
   "source": [
    "# Here we go"
   ]
  },
  {
   "cell_type": "code",
   "execution_count": null,
   "id": "5eff4265",
   "metadata": {
    "hide_input": true,
    "slideshow": {
     "slide_type": "skip"
    }
   },
   "outputs": [],
   "source": []
  },
  {
   "cell_type": "code",
   "execution_count": 60,
   "id": "0cc24d31",
   "metadata": {
    "cell_style": "split",
    "hide_input": true,
    "slideshow": {
     "slide_type": "slide"
    }
   },
   "outputs": [
    {
     "data": {
      "application/vnd.jupyter.widget-view+json": {
       "model_id": "f8769aab64fb415aaf84065f7f16c2c7",
       "version_major": 2,
       "version_minor": 0
      },
      "text/plain": [
       "interactive(children=(IntSlider(value=0, description='i', max=0), Output()), _dom_classes=('widget-interact',)…"
      ]
     },
     "metadata": {},
     "output_type": "display_data"
    }
   ],
   "source": [
    "import os\n",
    "import ipywidgets as widgets\n",
    "from ipywidgets import interact, interact_manual\n",
    "from IPython.display import Image\n",
    "ilist1=os.listdir('../images/UnixL01_SHCHT1')\n",
    "\n",
    "def show_image(i):\n",
    "    display(Image('../images/UnixL01_SHCHT1/' + ilist1[i]))\n",
    "            \n",
    "interact(show_image, i=widgets.IntSlider(min=0, max=0, step=1, value=0));"
   ]
  },
  {
   "cell_type": "code",
   "execution_count": 55,
   "id": "3636078b",
   "metadata": {
    "cell_style": "split",
    "hide_input": true,
    "slideshow": {
     "slide_type": "-"
    }
   },
   "outputs": [
    {
     "data": {
      "text/html": [
       "<b>TERMINAL Window for Terminal Window</b>"
      ],
      "text/plain": [
       "<IPython.core.display.HTML object>"
      ]
     },
     "metadata": {},
     "output_type": "display_data"
    },
    {
     "data": {
      "text/html": [
       "\n",
       "        <iframe\n",
       "            width=\"100%\"\n",
       "            height=\"560\"\n",
       "            src=\"/terminals/1\"\n",
       "            frameborder=\"0\"\n",
       "            allowfullscreen\n",
       "        ></iframe>\n",
       "        "
      ],
      "text/plain": [
       "<IPython.lib.display.IFrame at 0x7f13c2a66b20>"
      ]
     },
     "execution_count": 55,
     "metadata": {},
     "output_type": "execute_result"
    }
   ],
   "source": [
    "showTerm(EDITORTERM,\"Terminal Window\",\"100%\",\"560\")"
   ]
  },
  {
   "cell_type": "markdown",
   "id": "0212e77e",
   "metadata": {
    "slideshow": {
     "slide_type": "slide"
    }
   },
   "source": [
    "# Shell: Internals"
   ]
  },
  {
   "cell_type": "markdown",
   "id": "f6c8c073",
   "metadata": {
    "cell_style": "center",
    "hide_input": true,
    "slideshow": {
     "slide_type": "slide"
    }
   },
   "source": [
    "# Shell: Externals"
   ]
  },
  {
   "cell_type": "markdown",
   "id": "6290df8b",
   "metadata": {
    "cell_style": "split",
    "hide_input": true,
    "slideshow": {
     "slide_type": "slide"
    }
   },
   "source": [
    "<img src=\"../images/SLS_WPIM.svg\" width=\"100%\" style=\"vertical-align:top; float:middle; border:0px; margin: 10px 0px; background-color: #191919;\">\n",
    "<img src=\"../images/SLS_TheMachine.svg\" width=\"100%\" style=\"vertical-align:top; float:middle; border:0px; margin: 0px 0px;\">"
   ]
  },
  {
   "cell_type": "code",
   "execution_count": 63,
   "id": "4065d3c5",
   "metadata": {
    "hide_input": true,
    "slideshow": {
     "slide_type": "slide"
    }
   },
   "outputs": [
    {
     "data": {
      "image/png": "[encoded data removed]",
      "text/plain": [
       "<IPython.core.display.Image object>"
      ]
     },
     "execution_count": 63,
     "metadata": {},
     "output_type": "execute_result"
    }
   ],
   "source": [
    "from IPython.display import Image\n",
    "img = Image('../images/UnixL01_SHCHT0/' + ilist[0])\n",
    "img"
   ]
  },
  {
   "cell_type": "code",
   "execution_count": null,
   "id": "60b79a96",
   "metadata": {},
   "outputs": [],
   "source": []
  }
 ],
 "metadata": {
  "celltoolbar": "Slideshow",
  "hide_input": true,
  "kernelspec": {
   "display_name": "Python 3 (ipykernel)",
   "language": "python",
   "name": "python3"
  },
  "language_info": {
   "codemirror_mode": {
    "name": "ipython",
    "version": 3
   },
   "file_extension": ".py",
   "mimetype": "text/x-python",
   "name": "python",
   "nbconvert_exporter": "python",
   "pygments_lexer": "ipython3",
   "version": "3.9.6"
  },
  "rise": {
   "autolaunch": false,
   "enable_chalkboard": true,
   "footer": "SLS -- Lecture 1",
   "header": "Unix Intro and Prelim",
   "height": "100%",
   "scroll": true,
   "start_slideshow_at": "selected",
   "theme": "black",
   "transition": "none",
   "width": "100%"
  }
 },
 "nbformat": 4,
 "nbformat_minor": 5
}
