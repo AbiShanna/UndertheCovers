{
 "cells": [
  {
   "cell_type": "code",
   "execution_count": 3,
   "id": "04ab2912",
   "metadata": {},
   "outputs": [
    {
     "name": "stdout",
     "output_type": "stream",
     "text": [
      "Preamble executed\n"
     ]
    }
   ],
   "source": [
    "%run -i ../python/common.py\n",
    "%run -i ../python/ln_preamble.py\n",
    "# Make three extra terminals to serve as example of 3 terminal emulators\n",
    "# We do this to avoid having to change the dimensions of our standard\n",
    "# Editor, Build and debugger terminals\n",
    "try:\n",
    "    EXTERM1=TERMINALS[3]['name']\n",
    "except IndexError:\n",
    "    EXTERM1=mkTerm()\n",
    "try:\n",
    "    EXTERM2=TERMINALS[4]['name']\n",
    "except IndexError:\n",
    "    EXTERM2=mkTerm()\n",
    "try:\n",
    "    EXTERM3=TERMINALS[5]['name']\n",
    "except IndexError:\n",
    "    EXTERM3=mkTerm()\n",
    "try:\n",
    "    HHTERM=TERMINALS[6]['name']\n",
    "except IndexError:\n",
    "    HHTERM=mkTerm()"
   ]
  },
  {
   "cell_type": "markdown",
   "id": "0f3156a3-87d3-41b8-b435-8d2f0d4095e9",
   "metadata": {},
   "source": [
    "# SLS Lecture 2 : Part II"
   ]
  },
  {
   "cell_type": "code",
   "execution_count": 2,
   "id": "c10d6959",
   "metadata": {},
   "outputs": [
    {
     "name": "stdout",
     "output_type": "stream",
     "text": [
      "hello\n"
     ]
    }
   ],
   "source": [
    "print(\"hello\")"
   ]
  },
  {
   "cell_type": "markdown",
   "id": "3ca53848",
   "metadata": {
    "slideshow": {
     "slide_type": "slide"
    }
   },
   "source": [
    "#### PATHS and the ROOT\n",
    "<img align=\"left\" src=\"../images/dirtree.png\" style=\"background-color:white;\" width=\"40%\">  \n",
    "\n",
    "`/` $+$ `home` $+$ `jonathan` $+$ `Classes` $+$ `CS` $+$ `210` $+$ `Assignment 1` $+$ `Problem 1`     \n",
    "\n",
    "`/` $+$ `home` $+$ `jonathan` $+$ `Classes` $+$ `CS` $+$ `210` $+$ `Assignment 2` $+$ `Problem 1` \n",
    "\n",
    "`/` $+$ `home` $+$ `jonathan` $+$ `Classes` $+$ `CS` $+$ `210` $+$ `Assignment 3` $+$ `Problem 1` \n",
    "\n",
    "\"Full\" path name: join independent components with the \"/\" character.  So the above three files as proper unix path names would be:"
   ]
  },
  {
   "cell_type": "markdown",
   "id": "2409a5df",
   "metadata": {},
   "source": [
    "See. https://www.gnu.org/software/bash/manual/bash.html#Shell-Commands\n",
    "2. Breakdown complex commands into simple commands\n",
    "  - complex commands are a composition of simple commands:\n",
    "      - pipelines \n",
    "        - connecting inputs and outputs of commands together using `|`\n",
    "        - `ls -1 /bin | wc -l`\n",
    "      - lists \n",
    "        - one or more pipelines separated by one of: `;`, `&&`, `||` or `&` and terminated by `;` or `;` or `&` or a newline.\n",
    "          - `echo \"about to run ls\"; ls; echo \"done running ls\"`\n",
    "          - `cmd1 && cmd2` : run `cmd2` if `cmd1` returns \"success\"\n",
    "          - `cmd1 || cmd2` : run `cmd2` if `cmd1` returns \"not success\" aka \"failure\"\n",
    "          - `cmd1 & cmd2 ` :  run `cmd1` asynchronously in the background and run `cmd2` \"normally\"\n",
    "             - lots more to say about asynchronous commands\n",
    "      - compound commands: Shell programming constructs (these can span lines)\n",
    "        - loops: `until`, `while`, `for`, `do`, `done`, `break`, `continue`\n",
    "          - there are two type of `for` loops\n",
    "        - conditionals: `if`, `then`, `elif`, `else`, `fi`, `case`, `select`, `(())`, `[[]]`\n",
    "        - grouping: `()`, `{}`\n",
    "  - functions\n",
    " "
   ]
  },
  {
   "cell_type": "code",
   "execution_count": 1,
   "id": "05d0176f",
   "metadata": {},
   "outputs": [
    {
     "name": "stdout",
     "output_type": "stream",
     "text": [
      "Usage: tput [options] [command]\r\n",
      "\r\n",
      "Options:\r\n",
      "  -S <<       read commands from standard input\r\n",
      "  -T TERM     use this instead of $TERM\r\n",
      "  -V          print curses-version\r\n",
      "  -x          do not try to clear scrollback\r\n",
      "\r\n",
      "Commands:\r\n",
      "  clear       clear the screen\r\n",
      "  init        initialize the terminal\r\n",
      "  reset       reinitialize the terminal\r\n",
      "  capname     unlike clear/init/reset, print value for capability \"capname\"\r\n"
     ]
    }
   ],
   "source": [
    "!tput"
   ]
  },
  {
   "cell_type": "code",
   "execution_count": 4,
   "id": "0d09911d",
   "metadata": {
    "cell_style": "split"
   },
   "outputs": [
    {
     "data": {
      "text/markdown": [
       "# File and Directories - Part I\n",
       "<div style=\"width:100%; height:500px; font-size:inherit; overflow: auto;\" >\n",
       "\n",
       "\n",
       "``` bash\n",
       "# What directory are we in?\n",
       "#  - current/working directory\n",
       "# print working directory\n",
       "pwd\n",
       "\n",
       "# What is in the current directory?\n",
       "#  Another kind of expansion the shell does for us.\n",
       "echo *\n",
       "\n",
       "# change working directory\n",
       "#\n",
       "cd /\n",
       "pwd\n",
       "echo *\n",
       "cd home\n",
       "pwd\n",
       "echo *\n",
       "cd jovyan\n",
       "cd /home/jovyan\n",
       "pwd\n",
       "cd /usr\n",
       "pwd\n",
       "echo /var/*\n",
       "pwd\n",
       "cd\n",
       "\n",
       "\n",
       "```\n",
       "\n",
       "\n",
       "</div>\n"
      ],
      "text/plain": [
       "<IPython.core.display.Markdown object>"
      ]
     },
     "metadata": {},
     "output_type": "display_data"
    }
   ],
   "source": [
    "display(Markdown(FileCodeBox(\n",
    "    file=\"../src/shlldirfile.sh\", \n",
    "    lang=\"bash\", \n",
    "    title='# File and Directories - Part I',\n",
    "    w=\"100%\",\n",
    "    h=\"500px\")))"
   ]
  },
  {
   "cell_type": "code",
   "execution_count": 5,
   "id": "3c24a7dd",
   "metadata": {
    "cell_style": "split"
   },
   "outputs": [
    {
     "data": {
      "text/html": [
       "\n",
       "        <iframe\n",
       "            width=\"100%\"\n",
       "            height=\"600\"\n",
       "            src=\"/terminals/1\"\n",
       "            frameborder=\"0\"\n",
       "            allowfullscreen\n",
       "        ></iframe>\n",
       "        "
      ],
      "text/plain": [
       "<IPython.lib.display.IFrame at 0x7faec84e1d90>"
      ]
     },
     "metadata": {},
     "output_type": "display_data"
    }
   ],
   "source": [
    "display(showET(title=\"\"))"
   ]
  }
 ],
 "metadata": {
  "celltoolbar": "Slideshow",
  "hide_input": false,
  "kernelspec": {
   "display_name": "Python 3 (ipykernel)",
   "language": "python",
   "name": "python3"
  },
  "language_info": {
   "codemirror_mode": {
    "name": "ipython",
    "version": 3
   },
   "file_extension": ".py",
   "mimetype": "text/x-python",
   "name": "python",
   "nbconvert_exporter": "python",
   "pygments_lexer": "ipython3",
   "version": "3.9.6"
  },
  "rise": {
   "autolaunch": false,
   "enable_chalkboard": true,
   "footer": "SLS -- Lecture 2",
   "header": "Unix and Shell Part 2",
   "height": "100%",
   "scroll": true,
   "start_slideshow_at": "selected",
   "theme": "black",
   "transition": "none",
   "width": "100%"
  }
 },
 "nbformat": 4,
 "nbformat_minor": 5
}
