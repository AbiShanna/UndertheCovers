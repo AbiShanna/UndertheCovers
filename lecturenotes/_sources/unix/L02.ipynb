{
 "cells": [
  {
   "cell_type": "markdown",
   "id": "0f3156a3-87d3-41b8-b435-8d2f0d4095e9",
   "metadata": {},
   "source": [
    "# SLS Lecture 2 : Core Utilities, Editors and Shell Scripting"
   ]
  },
  {
   "cell_type": "code",
   "execution_count": null,
   "id": "84185274",
   "metadata": {},
   "outputs": [],
   "source": []
  }
 ],
 "metadata": {
  "hide_input": false,
  "kernelspec": {
   "display_name": "Python 3 (ipykernel)",
   "language": "python",
   "name": "python3"
  },
  "language_info": {
   "codemirror_mode": {
    "name": "ipython",
    "version": 3
   },
   "file_extension": ".py",
   "mimetype": "text/x-python",
   "name": "python",
   "nbconvert_exporter": "python",
   "pygments_lexer": "ipython3",
   "version": "3.9.6"
  }
 },
 "nbformat": 4,
 "nbformat_minor": 5
}
