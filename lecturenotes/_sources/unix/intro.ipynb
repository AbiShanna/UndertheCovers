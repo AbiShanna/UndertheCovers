{
 "cells": [
  {
   "cell_type": "markdown",
   "id": "655acdce-68f2-46e3-8d3b-e5aefda6ff27",
   "metadata": {},
   "source": [
    "# Operating Systems and UNIX\n",
    "\n",
    "We call the collection of software that we use to make a \"computer\"  \"useful\" an operating system.  But what exactly does this mean?\n",
    "\n",
    "\n",
    "## Computer\n",
    "\n",
    "Today a computer can take many forms from desktop Personal Computers (PCs), laptops, mobile phones, tablets, building scale super-comptures, etc.  In some sense the defining property we care about is that the device supports a classic model for programming it -- we call this model the VonNeumman architecture.   We will discuss this model in much more detail when we start considering exactly how software and hardware work.  For the moment it suffices to say that programming it means being able to apply your knowledge of a programming language and existing software to have the computer do something you want it to.  For example, edit photos, play music, maintain a list of grocery items, calculate PI, send email, browse the web, test if a molecule might have promise as a new vacine, automatically adjust the temperature of your home, control a car, etc.  \n",
    "\n",
    "### Programmer vs User\n",
    "\n",
    "To be honest many people simply care that the computer can run existing programs -- we will call these folks \"Users\". However, \"Programmers\" are a special type of user.  Programmers use Operating system, and other software tools to create new programs themselves.  As a matter of fact some programmers simply focus on developing programs that make writing programs easier -- like the folks that develop the operating system software, programming languages, editors, etc.  \n",
    "\n",
    "## Useful\n",
    "\n",
    "So from our perspective, the main aspects of the operating system, that we care about, is that it makes it ease for programmers to create new programs.  In addition we would like an operating system that does not hide things from us so that we can explore how programs (and computers) work.  \n",
    "\n",
    "Operating Systems are designed and created with specific uses and hardware in mind.  Some are designed for special purpose computers and the programs that are expected to run on them like computers built into an airplane to control is various parts or a super-computer which is expected to run complex and large scientific simulation programs.  While other operating systems are designed primarily to enable users to install and run commercial grade programs on their personal devices.  These operating systems while they do enable programmers to write new programs they are designed to hide most of these aspects from their target user who mainly just wants to use programs written by others.  The interface of these operating systems tend to focus on graphics and visually oriented ways of interacting with programs.\n",
    "\n",
    "## Why UNIX\n",
    "<img style=\"float: left; margin: 15px 15px 15px 0px;\" src=\"../images/Unix.gif\" width=\"200\"> \n",
    "UNIX on the other hand assumes that its users are primarily programmers.  Its design and collection of tools are not meant to be particularly user friendly rather it is designed to allow programmers to be very productive and also to support a broad range of programming tools.  Many of the concepts and mechanisms of UNIX underly other operating systems but have been hidden or obscured to make things easier for non-programmer users.  \n",
    "\n",
    "\n",
    "\n",
    "###  UNIX  -- An operating System Built by Programmers for Programmers\n",
    "\n",
    "The [UNIX](https://www.opengroup.org/membership/forums/platform/unix) operating system was built by master programmers who valued programmablity and productivity.  In some sense learning to work on the UNIX systems is a right of passage that not only teaches you how to be productive on a computer runnig the UNIX operating system but teaching you to think and act like a programmer.\n",
    "\n",
    "Given its programming focus UNIX is organized around two categories of software -- kernel and user.  The kernel is a componet of the UNIX that most users of UNIX do not directly interact with.  It is the core software that is used to manage the various devices of the computer and construct an environment that allows programmers to create new users programs.  The idea is that very little is really built into UNIX rather its users are enouraged to write lots of small programs that build on the functionality of the kernel to do useful things.  The kernel main job is to provide the ability to run new program, provide those programs with access to the hardware, and provide common ways for programs to interconnect.  \n",
    "\n",
    "I know this all sounds a bit recursive -- welcome to computer science.  As we start interacting with UNIX it will make more sense. \n",
    "\n",
    "> <img align=\"left\" width=\"60\" src=\"../images/history.svg\"> <p style=\"background-color:powderblue;\"> Unix recently celebrated its 50th year Anniversary. <br>\n",
    "    https://www.bell-labs.com/about/history/innovation-stories/50-years-unix/#gref <br>\n",
    "The people and its history are a fascinating journey into how we have gotten to where we are today. <br>\n",
    "  https://spectrum.ieee.org/the-strange-birth-and-long-life-of-unix#toggle-gdpr <br>\n",
    "  UNIX and it's children literally make our digital world go around will like continue to do so for the quite some time. \n",
    "</p>\n",
    "\n",
    "## Bottomline\n",
    "\n",
    "UNIX comes with the kernel and a large collection of existing programs that permit a programmer to write more programs that they and others can use.   In this class we will focus on what a program really is, how they are constructed and along the way the core tools, skills and ideas that underly all of computing.  Given UNIX's programmer focus and transprancy it is an good choice for us and learning how to be productive in the UNIX environment will teach us a lot about how to be productive programmers period.\n",
    "    \n",
    "> <img align=\"left\" width=\"60\" src=\"../images/fyi.svg\"> <p style=\"background-color:powderblue;\"> \n",
    "    *What is LINUX?*: Linux or more formally GNU/Linux is an open source variant of the UNIX operating system that is in heavy use today. Every imaginable type of computer runs Linux.  In some sense it has become the computing equivalent of both \"The Force\" and \"Duct Tape\".    It is worth noting that Linux began its life because a University student got interested in Operating Systems and was frustrated with the current \"Closed\" state of the art. \n",
    "   <img align=\"right\" width=\"60\" src=\"../images/tux.png\">\n",
    "</p>"
   ]
  }
 ],
 "metadata": {
  "hide_input": false,
  "kernelspec": {
   "display_name": "Bash",
   "language": "bash",
   "name": "bash"
  },
  "language_info": {
   "codemirror_mode": "shell",
   "file_extension": ".sh",
   "mimetype": "text/x-sh",
   "name": "bash"
  }
 },
 "nbformat": 4,
 "nbformat_minor": 5
}
