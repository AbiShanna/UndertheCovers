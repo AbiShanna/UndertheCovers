{
 "cells": [
  {
   "cell_type": "code",
   "execution_count": 31,
   "id": "d0e0169c",
   "metadata": {
    "hide_input": true,
    "scrolled": true,
    "slideshow": {
     "slide_type": "skip"
    }
   },
   "outputs": [
    {
     "data": {
      "text/html": [
       "<style>#notebook { padding-top:0px !important; } .container { width:100% !important; } .CodeMirror { width:100% !important;}.end_space { min-height:0px !important; } .prompt { display:none }div.mywarn { background-color: #fcf2f2;border-color: #dFb5b4; border-left: 5px solid #dfb5b4; padding: 0.5em;}</style>"
      ],
      "text/plain": [
       "<IPython.core.display.HTML object>"
      ]
     },
     "metadata": {},
     "output_type": "display_data"
    }
   ],
   "source": [
    "from IPython.core.display import display, HTML\n",
    "display(HTML(\n",
    "    '<style>'\n",
    "        '#notebook { padding-top:0px !important; } ' \n",
    "        '.container { width:100% !important; } '\n",
    "        '.CodeMirror { width:100% !important;}'\n",
    "        '.end_space { min-height:0px !important; } '\n",
    "        '.prompt { display:none }'\n",
    "        'div.mywarn { background-color: #fcf2f2;border-color: #dFb5b4; border-left: 5px solid #dfb5b4; padding: 0.5em;}'\n",
    "    '</style>'\n",
    "))\n",
    "\n",
    "\n",
    "import requests\n",
    "from notebook.notebookapp import list_running_servers\n",
    "# get server info so that we can make api calls \n",
    "servers=list(list_running_servers())\n",
    "\n",
    "info=next(list_running_servers())\n",
    "base_url=info['url']\n",
    "api_url=base_url + 'api/terminals'\n",
    "api_token=info['token']\n",
    "\n",
    "# get list of current terminals so that we can reuse this if enough exist \n",
    "# otherwise we will create new ones as needed\n",
    "r=requests.get(url=api_url, headers={'Authorization': 'token ' + api_token})\n",
    "TERMINALS=r.json()\n",
    "\n",
    "try:\n",
    "    EDITORTERM=TERMINALS[0]['name']\n",
    "except IndexError:\n",
    "    # create a terminal for our editor\n",
    "    r=requests.post(url=api_url, headers={'Authorization': 'token ' + api_token})\n",
    "    c=r.json()\n",
    "    EDITORTERM=c['name']\n",
    "\n",
    "try:\n",
    "    BUILDTERM=TERMINALS[1]['name']\n",
    "except IndexError:   \n",
    "    # create a terminal for running out builds\n",
    "    r=requests.post(url=api_url, headers={'Authorization': 'token ' + api_token})\n",
    "    c=r.json()\n",
    "    BUILDTERM=c['name']\n",
    "\n",
    "try:\n",
    "    DEBUGGERTERM=TERMINALS[2]['name']\n",
    "except IndexError:   \n",
    "    # create a terminal for running gdb\n",
    "    r=requests.post(url=api_url, headers={'Authorization': 'token ' + api_token})\n",
    "    c=r.json()\n",
    "    DEBUGGERTERM=c['name']\n",
    "    \n"
   ]
  },
  {
   "cell_type": "markdown",
   "id": "5e3dccea-0ef6-41e3-b631-de920758a7e2",
   "metadata": {
    "slideshow": {
     "slide_type": "slide"
    }
   },
   "source": [
    "# CS210 Computer Systems \n",
    "## Intro and the Big Picture"
   ]
  },
  {
   "cell_type": "markdown",
   "id": "1bad22f7",
   "metadata": {
    "hide_input": true,
    "slideshow": {
     "slide_type": "slide"
    },
    "tags": []
   },
   "source": [
    "<img src=\"./images/webster-computer.pdf\"  width=840px style=\"margin-left:auto; margin-right:auto\"> \n",
    "<img src=\"./images/webster-system.pdf\" width=840px style=\"margin-left:auto; margin-right:auto\"> "
   ]
  },
  {
   "cell_type": "markdown",
   "id": "03924f05",
   "metadata": {
    "slideshow": {
     "slide_type": "notes"
    }
   },
   "source": [
    "Highlight -- \"Programmable\" and \"Device\""
   ]
  },
  {
   "cell_type": "markdown",
   "id": "f416cdd9",
   "metadata": {
    "slideshow": {
     "slide_type": "slide"
    }
   },
   "source": [
    "<img src=\"./images/tapestry.png\" width=645px style=\"margin-left:auto; margin-right:auto\"> \n",
    "<h1><center>COMPUTER SYSTEM</center></h1>\n",
    "<h4>\n",
    "<center>\n",
    "    A rich and beautifully tapestry of <u><i>Interacting</i></u>\n",
    "<br><u><i>Hardware</i></u> + <u><i>Software</i></u> components that are the substrate to our modern digital world \n",
    "    </center>\n",
    "    </h4>"
   ]
  },
  {
   "cell_type": "markdown",
   "id": "28f502a6",
   "metadata": {
    "cell_style": "split",
    "slideshow": {
     "slide_type": "slide"
    }
   },
   "source": [
    "<h1>This Class</h1>\n",
    "\n",
    "Understand the \"Anatomy\" of Software and how it interacts with the hardware.\n",
    "- Expose you to a deeper view of the digital world and around you\n",
    "- Give you the skills and knowledge to understand and manipulate (program) more of the computing\n",
    "- Generally make you better programmers and more informed decision makers"
   ]
  },
  {
   "cell_type": "markdown",
   "id": "d5e59734",
   "metadata": {
    "cell_style": "split",
    "slideshow": {
     "slide_type": "-"
    }
   },
   "source": [
    "<img src=\"./images/anatomyatlas.png\" width=546px style=\"margin-left:auto; margin-right:auto\"> "
   ]
  },
  {
   "cell_type": "markdown",
   "id": "257b25ce",
   "metadata": {
    "cell_style": "split",
    "slideshow": {
     "slide_type": "slide"
    }
   },
   "source": [
    "<h1>GENERAL ANATOMY OF COMPUTING</h1>\n",
    "\n",
    "Computing is composed of many parts — roughly organized into layers\n",
    "- HARDWARE: Foundation on which everything is built\n",
    "- SOFTWARE: Complex layers of interacting software components"
   ]
  },
  {
   "cell_type": "markdown",
   "id": "6da68c1b",
   "metadata": {
    "cell_style": "split"
   },
   "source": [
    "<br>\n",
    "<img src=\"./images/hands.png\" width=546px style=\"margin-left:auto; margin-right:auto\"> "
   ]
  },
  {
   "cell_type": "markdown",
   "id": "a3f23181",
   "metadata": {
    "cell_style": "split",
    "slideshow": {
     "slide_type": "slide"
    }
   },
   "source": [
    "<h1>GENERAL ANATOMY OF COMPUTING</h1>\n",
    "\n",
    "Computing is composed of many parts — roughly organized into layers\n",
    "- HARDWARE: Foundation on which everything is built\n",
    "- SOFTWARE: Complex layers of interacting software components\n",
    "\n",
    "Despite all the kinds of computers in our lives …"
   ]
  },
  {
   "cell_type": "markdown",
   "id": "79dd5ebe",
   "metadata": {
    "cell_style": "split"
   },
   "source": [
    "<br>\n",
    "<img src=\"./images/stackplain.png\"  width=309px style=\"margin-left:auto; margin-right:auto\"> "
   ]
  },
  {
   "cell_type": "markdown",
   "id": "0fe3b405",
   "metadata": {
    "cell_style": "split",
    "slideshow": {
     "slide_type": "slide"
    }
   },
   "source": [
    "<img src=\"./images/lotsofcomputers.png\"  width=600px style=\"margin-left:auto; margin-right:auto\"> "
   ]
  },
  {
   "cell_type": "markdown",
   "id": "4eb1cae8",
   "metadata": {
    "cell_style": "split"
   },
   "source": [
    "<br>\n",
    "<img src=\"./images/stackplain.png\"  width=309px style=\"margin-left:auto; margin-right:auto\"> "
   ]
  },
  {
   "cell_type": "markdown",
   "id": "4c1c90b1",
   "metadata": {
    "slideshow": {
     "slide_type": "slide"
    }
   },
   "source": [
    "<img src=\"./images/stackwithbits.png\"  width=\"80%\" style=\"margin-left:auto; margin-right:auto\"> "
   ]
  },
  {
   "cell_type": "markdown",
   "id": "46c79095",
   "metadata": {
    "slideshow": {
     "slide_type": "slide"
    }
   },
   "source": [
    "<h1>Client Computers</h1>\n",
    "<img src=\"./images/stackwithclients.png\"  width=\"75%\" style=\"margin-left:auto; margin-right:auto\"> "
   ]
  },
  {
   "cell_type": "markdown",
   "id": "8d6a625f",
   "metadata": {
    "slideshow": {
     "slide_type": "slide"
    }
   },
   "source": [
    "<h1>Server Computers</h1>\n",
    "<img src=\"./images/stackwithservers.png\"  width=\"75%\" style=\"margin-left:auto; margin-right:auto\"> "
   ]
  },
  {
   "attachments": {},
   "cell_type": "markdown",
   "id": "94b11a90",
   "metadata": {
    "slideshow": {
     "slide_type": "slide"
    }
   },
   "source": [
    "<h1>A Programmers View</h1>\n",
    "<img src=\"./images/stackwithswlayers.png\"  width=\"80%\" style=\"margin-left:auto; margin-right:auto\"> "
   ]
  },
  {
   "cell_type": "markdown",
   "id": "61de7b49",
   "metadata": {
    "slideshow": {
     "slide_type": "slide"
    }
   },
   "source": [
    "<img style=\"float: left; margin: 0px 15px 15px 0px;\" src=\"./images/pillars.png\" width=\"432\">  \n",
    "<br>\n",
    "<h1>The two pillars of computer science</h1>\n",
    "\n",
    "---\n",
    "<h1 style=\"color:#34A5DA\">\n",
    "Theory and Systems\n",
    "</h1>"
   ]
  },
  {
   "cell_type": "markdown",
   "id": "903ea6fe",
   "metadata": {
    "cell_style": "center",
    "hide_input": false,
    "slideshow": {
     "slide_type": "slide"
    }
   },
   "source": [
    "<b>CODE: C -- Hello World</b>\n",
    "\n",
    "```C\n",
    "#include <stdio.h>\n",
    "\n",
    "int main()\n",
    "{\n",
    "    printf(\"hello world\\n\");\n",
    "    return 0;\n",
    "}\n",
    "```"
   ]
  },
  {
   "cell_type": "code",
   "execution_count": 32,
   "id": "ad8f081b",
   "metadata": {
    "cell_style": "center",
    "hide_input": true,
    "scrolled": false,
    "slideshow": {
     "slide_type": "fragment"
    }
   },
   "outputs": [
    {
     "data": {
      "text/html": [
       "<b>TERMINAL Window for Editor</b>"
      ],
      "text/plain": [
       "<IPython.core.display.HTML object>"
      ]
     },
     "metadata": {},
     "output_type": "display_data"
    },
    {
     "data": {
      "text/html": [
       "\n",
       "        <iframe\n",
       "            width=\"1400\"\n",
       "            height=\"600\"\n",
       "            src=\"/terminals/1\"\n",
       "            frameborder=\"0\"\n",
       "            allowfullscreen\n",
       "        ></iframe>\n",
       "        "
      ],
      "text/plain": [
       "<IPython.lib.display.IFrame at 0x7ff6883c46a0>"
      ]
     },
     "execution_count": 32,
     "metadata": {},
     "output_type": "execute_result"
    }
   ],
   "source": [
    "from IPython.core.display import display, HTML\n",
    "display(HTML('<b>TERMINAL Window for Editor</b>'))\n",
    "from IPython.display import IFrame\n",
    "IFrame('/terminals/' + EDITORTERM, 1400,600)"
   ]
  },
  {
   "cell_type": "code",
   "execution_count": 33,
   "id": "53b56e8e",
   "metadata": {
    "cell_style": "center",
    "hide_input": true,
    "scrolled": true,
    "slideshow": {
     "slide_type": "fragment"
    }
   },
   "outputs": [
    {
     "data": {
      "text/html": [
       "<b>TERMINAL Window for Building</b>"
      ],
      "text/plain": [
       "<IPython.core.display.HTML object>"
      ]
     },
     "metadata": {},
     "output_type": "display_data"
    },
    {
     "data": {
      "text/html": [
       "\n",
       "        <iframe\n",
       "            width=\"1400\"\n",
       "            height=\"200\"\n",
       "            src=\"/terminals/2\"\n",
       "            frameborder=\"0\"\n",
       "            allowfullscreen\n",
       "        ></iframe>\n",
       "        "
      ],
      "text/plain": [
       "<IPython.lib.display.IFrame at 0x7ff6883c4460>"
      ]
     },
     "execution_count": 33,
     "metadata": {},
     "output_type": "execute_result"
    }
   ],
   "source": [
    "from IPython.core.display import display, HTML\n",
    "display(HTML('<b>TERMINAL Window for Building</b>'))\n",
    "from IPython.display import IFrame\n",
    "IFrame('/terminals/' + BUILDTERM, 1400,200)"
   ]
  },
  {
   "cell_type": "code",
   "execution_count": 34,
   "id": "3def1851",
   "metadata": {
    "hide_input": true,
    "scrolled": false,
    "slideshow": {
     "slide_type": "fragment"
    }
   },
   "outputs": [
    {
     "data": {
      "text/html": [
       "<b>TERMINAL Window for the Debugger</b>"
      ],
      "text/plain": [
       "<IPython.core.display.HTML object>"
      ]
     },
     "metadata": {},
     "output_type": "display_data"
    },
    {
     "data": {
      "text/html": [
       "\n",
       "        <iframe\n",
       "            width=\"1400\"\n",
       "            height=\"800\"\n",
       "            src=\"/terminals/3\"\n",
       "            frameborder=\"0\"\n",
       "            allowfullscreen\n",
       "        ></iframe>\n",
       "        "
      ],
      "text/plain": [
       "<IPython.lib.display.IFrame at 0x7ff66aa46f10>"
      ]
     },
     "execution_count": 34,
     "metadata": {},
     "output_type": "execute_result"
    }
   ],
   "source": [
    "from IPython.core.display import display, HTML\n",
    "display(HTML('<b>TERMINAL Window for the Debugger</b>'))\n",
    "from IPython.display import IFrame\n",
    "IFrame('/terminals/' + DEBUGGERTERM, 1400,800)"
   ]
  },
  {
   "cell_type": "markdown",
   "id": "dac6434e",
   "metadata": {
    "slideshow": {
     "slide_type": "slide"
    }
   },
   "source": [
    "```\n",
    "more code here\n",
    "```"
   ]
  },
  {
   "cell_type": "code",
   "execution_count": 35,
   "id": "8074f10d",
   "metadata": {
    "hide_input": true,
    "scrolled": true
   },
   "outputs": [
    {
     "data": {
      "text/html": [
       "\n",
       "        <iframe\n",
       "            width=\"1400\"\n",
       "            height=\"600\"\n",
       "            src=\"/terminals/1\"\n",
       "            frameborder=\"0\"\n",
       "            allowfullscreen\n",
       "        ></iframe>\n",
       "        "
      ],
      "text/plain": [
       "<IPython.lib.display.IFrame at 0x7ff6883ca160>"
      ]
     },
     "execution_count": 35,
     "metadata": {},
     "output_type": "execute_result"
    }
   ],
   "source": [
    "from IPython.display import IFrame\n",
    "IFrame('/terminals/' + EDITORTERM, 1400,600)"
   ]
  },
  {
   "cell_type": "code",
   "execution_count": 36,
   "id": "b6ce4090",
   "metadata": {
    "hide_input": true,
    "scrolled": true
   },
   "outputs": [
    {
     "data": {
      "text/html": [
       "\n",
       "        <iframe\n",
       "            width=\"1400\"\n",
       "            height=\"200\"\n",
       "            src=\"/terminals/2\"\n",
       "            frameborder=\"0\"\n",
       "            allowfullscreen\n",
       "        ></iframe>\n",
       "        "
      ],
      "text/plain": [
       "<IPython.lib.display.IFrame at 0x7ff6883c8700>"
      ]
     },
     "execution_count": 36,
     "metadata": {},
     "output_type": "execute_result"
    }
   ],
   "source": [
    "from IPython.display import IFrame\n",
    "IFrame('/terminals/' + BUILDTERM, 1400,200)"
   ]
  },
  {
   "cell_type": "code",
   "execution_count": 37,
   "id": "e4d0a4da",
   "metadata": {
    "hide_input": true,
    "scrolled": true
   },
   "outputs": [
    {
     "data": {
      "text/html": [
       "\n",
       "        <iframe\n",
       "            width=\"1400\"\n",
       "            height=\"800\"\n",
       "            src=\"/terminals/3\"\n",
       "            frameborder=\"0\"\n",
       "            allowfullscreen\n",
       "        ></iframe>\n",
       "        "
      ],
      "text/plain": [
       "<IPython.lib.display.IFrame at 0x7ff6883c8af0>"
      ]
     },
     "execution_count": 37,
     "metadata": {},
     "output_type": "execute_result"
    }
   ],
   "source": [
    "from IPython.display import IFrame\n",
    "IFrame('/terminals/' + DEBUGGERTERM, 1400,800)"
   ]
  }
 ],
 "metadata": {
  "celltoolbar": "Edit Metadata",
  "hide_input": true,
  "kernelspec": {
   "display_name": "Python 3 (ipykernel)",
   "language": "python",
   "name": "python3"
  },
  "language_info": {
   "codemirror_mode": {
    "name": "ipython",
    "version": 3
   },
   "file_extension": ".py",
   "mimetype": "text/x-python",
   "name": "python",
   "nbconvert_exporter": "python",
   "pygments_lexer": "ipython3",
   "version": "3.9.5"
  },
  "rise": {
   "autolaunch": true,
   "enable_chalkboard": true,
   "footer": "BU CAS CS 210",
   "header": "Intro and Big Picture",
   "height": "100%",
   "scroll": true,
   "start_slideshow_at": "selected",
   "theme": "black",
   "transition": "none",
   "width": "100%"
  }
 },
 "nbformat": 4,
 "nbformat_minor": 5
}
