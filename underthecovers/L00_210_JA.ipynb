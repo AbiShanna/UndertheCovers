{
 "cells": [
  {
   "cell_type": "code",
   "execution_count": 12,
   "id": "d0e0169c",
   "metadata": {
    "hide_input": true,
    "scrolled": true,
    "slideshow": {
     "slide_type": "skip"
    }
   },
   "outputs": [
    {
     "data": {
      "text/html": [
       "<style>#notebook { padding-top:0px !important; } .container { width:100% !important; } .CodeMirror { width:100% !important;}.end_space { min-height:0px !important; } .prompt { display:none }.terminal-app #terminado-container { width:100%; }div.mywarn { background-color: #fcf2f2;border-color: #dFb5b4; border-left: 5px solid #dfb5b4; padding: 0.5em;}</style>"
      ],
      "text/plain": [
       "<IPython.core.display.HTML object>"
      ]
     },
     "metadata": {},
     "output_type": "display_data"
    }
   ],
   "source": [
    "%run -i python/ln_preamble.py"
   ]
  },
  {
   "cell_type": "markdown",
   "id": "5e3dccea-0ef6-41e3-b631-de920758a7e2",
   "metadata": {
    "slideshow": {
     "slide_type": "slide"
    }
   },
   "source": [
    "# CS210 Computer Systems \n",
    "## Intro and the Big Picture"
   ]
  },
  {
   "cell_type": "markdown",
   "id": "1bad22f7",
   "metadata": {
    "hide_input": true,
    "slideshow": {
     "slide_type": "slide"
    },
    "tags": []
   },
   "source": [
    "<img src=\"./images/webster-computer.pdf\"  width=840px style=\"margin-left:auto; margin-right:auto\"> \n",
    "\n",
    "<img src=\"./images/webster-system.pdf\" width=840px style=\"margin-left:auto; margin-right:auto\"> "
   ]
  },
  {
   "cell_type": "markdown",
   "id": "03924f05",
   "metadata": {
    "slideshow": {
     "slide_type": "notes"
    }
   },
   "source": [
    "Highlight -- \"Programmable\" and \"Device\""
   ]
  },
  {
   "cell_type": "markdown",
   "id": "f416cdd9",
   "metadata": {
    "slideshow": {
     "slide_type": "slide"
    }
   },
   "source": [
    "<img src=\"./images/tapestry.png\" width=645px style=\"margin-left:auto; margin-right:auto\"> \n",
    "<h1><center>COMPUTER SYSTEM</center></h1>\n",
    "<h4>\n",
    "<center>\n",
    "    A rich and beautifully tapestry of <u><i>Interacting</i></u>\n",
    "<br><u><i>Hardware</i></u> + <u><i>Software</i></u> components that are the substrate to our modern digital world \n",
    "    </center>\n",
    "    </h4>"
   ]
  },
  {
   "cell_type": "markdown",
   "id": "28f502a6",
   "metadata": {
    "cell_style": "split",
    "slideshow": {
     "slide_type": "slide"
    }
   },
   "source": [
    "<h1>This Class</h1>\n",
    "\n",
    "Understand the \"Anatomy\" of Software and how it interacts with the hardware.\n",
    "- Expose you to a deeper view of the digital world and around you\n",
    "- Give you the skills and knowledge to understand and manipulate (program) more of the computing\n",
    "- Generally make you better programmers and more informed decision makers"
   ]
  },
  {
   "cell_type": "markdown",
   "id": "d5e59734",
   "metadata": {
    "cell_style": "split",
    "slideshow": {
     "slide_type": "-"
    }
   },
   "source": [
    "<img src=\"./images/anatomyatlas.png\" width=546px style=\"margin-left:auto; margin-right:auto\"> "
   ]
  },
  {
   "cell_type": "markdown",
   "id": "257b25ce",
   "metadata": {
    "cell_style": "split",
    "slideshow": {
     "slide_type": "slide"
    }
   },
   "source": [
    "<h1>GENERAL ANATOMY OF COMPUTING</h1>\n",
    "\n",
    "Computing is composed of many parts — roughly organized into layers\n",
    "- HARDWARE: Foundation on which everything is built\n",
    "- SOFTWARE: Complex layers of interacting software components"
   ]
  },
  {
   "cell_type": "markdown",
   "id": "6da68c1b",
   "metadata": {
    "cell_style": "split"
   },
   "source": [
    "<br>\n",
    "<img src=\"./images/hands.png\" width=546px style=\"margin-left:auto; margin-right:auto\"> "
   ]
  },
  {
   "cell_type": "markdown",
   "id": "a3f23181",
   "metadata": {
    "cell_style": "split",
    "slideshow": {
     "slide_type": "slide"
    }
   },
   "source": [
    "<h1>GENERAL ANATOMY OF COMPUTING</h1>\n",
    "\n",
    "Computing is composed of many parts — roughly organized into layers\n",
    "- HARDWARE: Foundation on which everything is built\n",
    "- SOFTWARE: Complex layers of interacting software components\n",
    "\n",
    "Despite all the kinds of computers in our lives …"
   ]
  },
  {
   "cell_type": "markdown",
   "id": "79dd5ebe",
   "metadata": {
    "cell_style": "split"
   },
   "source": [
    "<br>\n",
    "<img src=\"./images/stackplain.png\"  width=309px style=\"margin-left:auto; margin-right:auto\"> "
   ]
  },
  {
   "cell_type": "markdown",
   "id": "0fe3b405",
   "metadata": {
    "cell_style": "split",
    "slideshow": {
     "slide_type": "slide"
    }
   },
   "source": [
    "<img src=\"./images/lotsofcomputers.png\"  width=600px style=\"margin-left:auto; margin-right:auto\"> "
   ]
  },
  {
   "cell_type": "markdown",
   "id": "4eb1cae8",
   "metadata": {
    "cell_style": "split"
   },
   "source": [
    "<br>\n",
    "<img src=\"./images/stackplain.png\"  width=309px style=\"margin-left:auto; margin-right:auto\"> "
   ]
  },
  {
   "cell_type": "markdown",
   "id": "4c1c90b1",
   "metadata": {
    "slideshow": {
     "slide_type": "slide"
    }
   },
   "source": [
    "<img src=\"./images/stackwithbits.png\"  width=\"80%\" style=\"margin-left:auto; margin-right:auto\"> "
   ]
  },
  {
   "cell_type": "markdown",
   "id": "46c79095",
   "metadata": {
    "slideshow": {
     "slide_type": "slide"
    }
   },
   "source": [
    "<h1>Client Computers</h1>\n",
    "<img src=\"./images/stackwithclients.png\"  width=\"75%\" style=\"margin-left:auto; margin-right:auto\"> "
   ]
  },
  {
   "cell_type": "markdown",
   "id": "8d6a625f",
   "metadata": {
    "slideshow": {
     "slide_type": "slide"
    }
   },
   "source": [
    "<h1>Server Computers</h1>\n",
    "<img src=\"./images/stackwithservers.png\"  width=\"75%\" style=\"margin-left:auto; margin-right:auto\"> "
   ]
  },
  {
   "cell_type": "markdown",
   "id": "94b11a90",
   "metadata": {
    "slideshow": {
     "slide_type": "slide"
    }
   },
   "source": [
    "<h1>A Programmers View</h1>\n",
    "<img src=\"./images/stackwithswlayers.png\"  width=\"80%\" style=\"margin-left:auto; margin-right:auto\"> "
   ]
  },
  {
   "cell_type": "markdown",
   "id": "61de7b49",
   "metadata": {
    "slideshow": {
     "slide_type": "slide"
    }
   },
   "source": [
    "<img style=\"float: left; margin: 0px 15px 15px 0px;\" src=\"./images/pillars.png\" width=\"432\">  \n",
    "<br>\n",
    "<h1>The two pillars of computer science</h1>\n",
    "\n",
    "---\n",
    "<h1 style=\"color:#34A5DA\">\n",
    "Theory and Systems\n",
    "</h1>"
   ]
  },
  {
   "cell_type": "markdown",
   "id": "e1b3c933",
   "metadata": {
    "slideshow": {
     "slide_type": "slide"
    }
   },
   "source": [
    "<img style=\"float: right; margin: 0px 15px 15px 0px;\" src=\"./images/warpedclock.png\" width=\"432\">  \n",
    "<h1 style=\"color:#34A5DA\">\n",
    "Lets turn back the clock\n",
    "</h1>\n",
    "\n",
    "Before there was computer science and there was only imagination of what could be\n",
    "\n",
    "1. Turing and the Turing machine \n",
    "2. Von Neumman and the Von Neumman Architecture\n",
    "3. Rear Admiral Grace Hopper and the compiler"
   ]
  },
  {
   "cell_type": "markdown",
   "id": "3a2edda6",
   "metadata": {
    "slideshow": {
     "slide_type": "slide"
    }
   },
   "source": [
    "<img  src=\"./images/turing_slide.pdf\" width=100%>"
   ]
  },
  {
   "cell_type": "markdown",
   "id": "31c748d1",
   "metadata": {
    "slideshow": {
     "slide_type": "slide"
    }
   },
   "source": [
    "<img  src=\"./images/turingmachine_slide.pdf\" width=100%>"
   ]
  },
  {
   "cell_type": "markdown",
   "id": "4b18fbf5",
   "metadata": {
    "slideshow": {
     "slide_type": "slide"
    }
   },
   "source": [
    "<img  src=\"./images/vonneumann_slide.pdf\" width=100%>"
   ]
  },
  {
   "cell_type": "markdown",
   "id": "d6b487df",
   "metadata": {
    "slideshow": {
     "slide_type": "slide"
    }
   },
   "source": [
    "<img  src=\"./images/vonneumannarch_slide.pdf\" width=100%>"
   ]
  },
  {
   "cell_type": "markdown",
   "id": "98f76178",
   "metadata": {
    "slideshow": {
     "slide_type": "slide"
    }
   },
   "source": [
    "<img  src=\"./images/hopper_slide.pdf\" width=100%>"
   ]
  },
  {
   "cell_type": "markdown",
   "id": "3e43eb88",
   "metadata": {
    "slideshow": {
     "slide_type": "slide"
    }
   },
   "source": [
    "<img  src=\"./images/histcomp_slide.pdf\" width=100%>"
   ]
  },
  {
   "cell_type": "markdown",
   "id": "1536a24c",
   "metadata": {
    "slideshow": {
     "slide_type": "slide"
    }
   },
   "source": [
    "<h1 style=\"color:#34A5DA\" align=\"left\">\n",
    "May you live in interesting times…\n",
    "</h1>    \n",
    "<br>\n",
    "<br>\n",
    "<br>\n",
    "<h1 style=\"color:#34A5DA\" align=\"center\">   \n",
    "Knowledge is power…\n",
    "</h1>    \n",
    "<br>\n",
    "<br>\n",
    "<br>\n",
    "<h1 style=\"color:#34A5DA\" align=\"right\">   \n",
    "It's up to YOU … as to what comes next\n",
    "</h1>"
   ]
  },
  {
   "cell_type": "markdown",
   "id": "902e016c",
   "metadata": {
    "slideshow": {
     "slide_type": "slide"
    }
   },
   "source": [
    "<h1 style=\"color:#34A5DA\" align=\"center\">\n",
    "    <br>\n",
    "    <br>\n",
    "    <br>\n",
    "    <br>\n",
    "    WHO ARE WE?\n",
    "    <br>\n",
    "    <br>\n",
    "    <br>\n",
    "    <br>\n",
    "</h1>"
   ]
  },
  {
   "cell_type": "markdown",
   "id": "d368baf1",
   "metadata": {
    "slideshow": {
     "slide_type": "slide"
    }
   },
   "source": [
    "# Welcome to CS210\n",
    "\n",
    "- Course Goals and Objectives\n",
    "- \"Under the Covers : The Secret life of Software\"\n",
    "- Rest of course infrastructure\n",
    "- Staff\n",
    "- Syllabus\n",
    "  - calendar\n",
    "  - grade break down\n",
    "    - assignments\n",
    "    - midterms\n",
    "    - exam\n",
    "    - attendance and participation\n",
    "- Lectures, Discussions and Office hours\n",
    "- General Advice"
   ]
  },
  {
   "cell_type": "markdown",
   "id": "ae3238e7",
   "metadata": {
    "slideshow": {
     "slide_type": "slide"
    }
   },
   "source": [
    "# Course Goals\n",
    "\n",
    "1. Understand the layers of computer systems \n",
    "2. Understand software / hardware interaction\n",
    "3. Learn foundational concepts, skills and tools for working with computers"
   ]
  },
  {
   "cell_type": "code",
   "execution_count": 13,
   "id": "5e12ebd7",
   "metadata": {
    "cell_style": "center",
    "hide_input": false,
    "slideshow": {
     "slide_type": "slide"
    }
   },
   "outputs": [
    {
     "data": {
      "text/html": [
       "<b>CODE: C - Hello World"
      ],
      "text/plain": [
       "<IPython.core.display.HTML object>"
      ]
     },
     "metadata": {},
     "output_type": "display_data"
    },
    {
     "data": {
      "application/vnd.jupyter.widget-view+json": {
       "model_id": "31accecfd63048a1b5fc2fcce8c07112",
       "version_major": 2,
       "version_minor": 0
      },
      "text/plain": [
       "Output(layout=Layout(height='260px', overflow='scroll', width='700px'))"
      ]
     },
     "metadata": {},
     "output_type": "display_data"
    }
   ],
   "source": [
    "MkCodeBox(\"src/hello_bb.c\", \"C\", \"<b>CODE: C - Hello World\", \"700px\", \"260px\")"
   ]
  },
  {
   "cell_type": "code",
   "execution_count": 14,
   "id": "ad8f081b",
   "metadata": {
    "cell_style": "center",
    "hide_input": false,
    "scrolled": false,
    "slideshow": {
     "slide_type": "fragment"
    }
   },
   "outputs": [
    {
     "data": {
      "text/html": [
       "<b>TERMINAL Window for Editor</b>"
      ],
      "text/plain": [
       "<IPython.core.display.HTML object>"
      ]
     },
     "metadata": {},
     "output_type": "display_data"
    },
    {
     "data": {
      "text/html": [
       "\n",
       "        <iframe\n",
       "            width=\"1400\"\n",
       "            height=\"600\"\n",
       "            src=\"/user/jappavoo@bu.edu/terminals/1\"\n",
       "            frameborder=\"0\"\n",
       "            allowfullscreen\n",
       "        ></iframe>\n",
       "        "
      ],
      "text/plain": [
       "<IPython.lib.display.IFrame at 0x7fe7e9665790>"
      ]
     },
     "execution_count": 14,
     "metadata": {},
     "output_type": "execute_result"
    }
   ],
   "source": [
    "showET()"
   ]
  },
  {
   "cell_type": "code",
   "execution_count": 15,
   "id": "53b56e8e",
   "metadata": {
    "cell_style": "center",
    "hide_input": false,
    "scrolled": true,
    "slideshow": {
     "slide_type": "fragment"
    }
   },
   "outputs": [
    {
     "data": {
      "text/html": [
       "<b>TERMINAL Window for Build Commands</b>"
      ],
      "text/plain": [
       "<IPython.core.display.HTML object>"
      ]
     },
     "metadata": {},
     "output_type": "display_data"
    },
    {
     "data": {
      "text/html": [
       "\n",
       "        <iframe\n",
       "            width=\"1400\"\n",
       "            height=\"200\"\n",
       "            src=\"/user/jappavoo@bu.edu/terminals/2\"\n",
       "            frameborder=\"0\"\n",
       "            allowfullscreen\n",
       "        ></iframe>\n",
       "        "
      ],
      "text/plain": [
       "<IPython.lib.display.IFrame at 0x7fe7e96652e0>"
      ]
     },
     "execution_count": 15,
     "metadata": {},
     "output_type": "execute_result"
    }
   ],
   "source": [
    "showBT()"
   ]
  },
  {
   "cell_type": "code",
   "execution_count": 25,
   "id": "3def1851",
   "metadata": {
    "cell_style": "center",
    "hide_input": true,
    "scrolled": false,
    "slideshow": {
     "slide_type": "fragment"
    }
   },
   "outputs": [
    {
     "data": {
      "text/html": [
       "<b>TERMINAL Window for Debugger</b>"
      ],
      "text/plain": [
       "<IPython.core.display.HTML object>"
      ]
     },
     "metadata": {},
     "output_type": "display_data"
    },
    {
     "data": {
      "text/html": [
       "\n",
       "        <iframe\n",
       "            width=\"1400\"\n",
       "            height=\"800\"\n",
       "            src=\"/user/jappavoo@bu.edu/terminals/3\"\n",
       "            frameborder=\"0\"\n",
       "            allowfullscreen\n",
       "        ></iframe>\n",
       "        "
      ],
      "text/plain": [
       "<IPython.lib.display.IFrame at 0x7fe7cab22310>"
      ]
     },
     "execution_count": 25,
     "metadata": {},
     "output_type": "execute_result"
    }
   ],
   "source": [
    "showDT()"
   ]
  },
  {
   "cell_type": "code",
   "execution_count": 17,
   "id": "8074f10d",
   "metadata": {
    "cell_style": "split",
    "hide_input": false,
    "scrolled": false,
    "slideshow": {
     "slide_type": "slide"
    }
   },
   "outputs": [
    {
     "data": {
      "text/html": [
       "<b>TERMINAL Window for Editor</b>"
      ],
      "text/plain": [
       "<IPython.core.display.HTML object>"
      ]
     },
     "metadata": {},
     "output_type": "display_data"
    },
    {
     "data": {
      "text/html": [
       "\n",
       "        <iframe\n",
       "            width=\"1400\"\n",
       "            height=\"600\"\n",
       "            src=\"/user/jappavoo@bu.edu/terminals/1\"\n",
       "            frameborder=\"0\"\n",
       "            allowfullscreen\n",
       "        ></iframe>\n",
       "        "
      ],
      "text/plain": [
       "<IPython.lib.display.IFrame at 0x7fe7e85ba7c0>"
      ]
     },
     "execution_count": 17,
     "metadata": {},
     "output_type": "execute_result"
    }
   ],
   "source": [
    "showET()"
   ]
  },
  {
   "cell_type": "code",
   "execution_count": 18,
   "id": "9f50e302",
   "metadata": {
    "cell_style": "split",
    "hide_input": false,
    "slideshow": {
     "slide_type": "-"
    }
   },
   "outputs": [
    {
     "data": {
      "text/html": [
       "<b>CODE: asm - Our First assembly program - Playing with popcnt"
      ],
      "text/plain": [
       "<IPython.core.display.HTML object>"
      ]
     },
     "metadata": {},
     "output_type": "display_data"
    },
    {
     "data": {
      "application/vnd.jupyter.widget-view+json": {
       "model_id": "73577dc1a6b44c1094e2945b6a0942dd",
       "version_major": 2,
       "version_minor": 0
      },
      "text/plain": [
       "Output(layout=Layout(height='640px', overflow='scroll', width='200%'))"
      ]
     },
     "metadata": {},
     "output_type": "display_data"
    }
   ],
   "source": [
    "MkCodeBox(\"src/popcnt_bb.S\", \"gas\", \"<b>CODE: asm - Our First assembly program - Playing with popcnt\", \"200%\", \"640px\")"
   ]
  },
  {
   "cell_type": "code",
   "execution_count": 19,
   "id": "b6ce4090",
   "metadata": {
    "cell_style": "split",
    "hide_input": true,
    "scrolled": true
   },
   "outputs": [
    {
     "data": {
      "text/html": [
       "<b>TERMINAL Window for Build Commands</b>"
      ],
      "text/plain": [
       "<IPython.core.display.HTML object>"
      ]
     },
     "metadata": {},
     "output_type": "display_data"
    },
    {
     "data": {
      "text/html": [
       "\n",
       "        <iframe\n",
       "            width=\"1400\"\n",
       "            height=\"200\"\n",
       "            src=\"/user/jappavoo@bu.edu/terminals/2\"\n",
       "            frameborder=\"0\"\n",
       "            allowfullscreen\n",
       "        ></iframe>\n",
       "        "
      ],
      "text/plain": [
       "<IPython.lib.display.IFrame at 0x7fe7cab14ac0>"
      ]
     },
     "execution_count": 19,
     "metadata": {},
     "output_type": "execute_result"
    }
   ],
   "source": [
    "showBT()"
   ]
  },
  {
   "cell_type": "code",
   "execution_count": 20,
   "id": "6c6f9592",
   "metadata": {
    "cell_style": "split"
   },
   "outputs": [
    {
     "data": {
      "text/html": [
       "<b>NOTES: on building popcnt"
      ],
      "text/plain": [
       "<IPython.core.display.HTML object>"
      ]
     },
     "metadata": {},
     "output_type": "display_data"
    },
    {
     "data": {
      "application/vnd.jupyter.widget-view+json": {
       "model_id": "4613a6257a5a487794784a1e8538b90f",
       "version_major": 2,
       "version_minor": 0
      },
      "text/plain": [
       "Output(layout=Layout(height='240px', overflow='scroll', width='100%'))"
      ]
     },
     "metadata": {},
     "output_type": "display_data"
    }
   ],
   "source": [
    "MkCodeBox(\"assembly/popcnt_build.sh\", \"shell\", \"<b>NOTES: on building popcnt\", \"100%\", \"240px\")"
   ]
  },
  {
   "cell_type": "code",
   "execution_count": 21,
   "id": "e4d0a4da",
   "metadata": {
    "cell_style": "split",
    "hide_input": true,
    "scrolled": false
   },
   "outputs": [
    {
     "data": {
      "text/html": [
       "<b>TERMINAL Window for Debugger</b>"
      ],
      "text/plain": [
       "<IPython.core.display.HTML object>"
      ]
     },
     "metadata": {},
     "output_type": "display_data"
    },
    {
     "data": {
      "text/html": [
       "\n",
       "        <iframe\n",
       "            width=\"1400\"\n",
       "            height=\"800\"\n",
       "            src=\"/user/jappavoo@bu.edu/terminals/3\"\n",
       "            frameborder=\"0\"\n",
       "            allowfullscreen\n",
       "        ></iframe>\n",
       "        "
      ],
      "text/plain": [
       "<IPython.lib.display.IFrame at 0x7fe7cab14160>"
      ]
     },
     "execution_count": 21,
     "metadata": {},
     "output_type": "execute_result"
    }
   ],
   "source": [
    "showDT()"
   ]
  },
  {
   "cell_type": "code",
   "execution_count": 22,
   "id": "aa4c0461",
   "metadata": {
    "cell_style": "split"
   },
   "outputs": [
    {
     "data": {
      "text/html": [
       "<b>NOTES: using gdb with popcnt"
      ],
      "text/plain": [
       "<IPython.core.display.HTML object>"
      ]
     },
     "metadata": {},
     "output_type": "display_data"
    },
    {
     "data": {
      "application/vnd.jupyter.widget-view+json": {
       "model_id": "a63bf68b06744d7dbb554c1627aba534",
       "version_major": 2,
       "version_minor": 0
      },
      "text/plain": [
       "Output(layout=Layout(height='640px', overflow='scroll', width='100%'))"
      ]
     },
     "metadata": {},
     "output_type": "display_data"
    }
   ],
   "source": [
    "MkCodeBox(\"assembly/popcnt_gdb.txt\", \"shell\", \"<b>NOTES: using gdb with popcnt\", \"100%\", \"640px\")"
   ]
  }
 ],
 "metadata": {
  "celltoolbar": "Slideshow",
  "hide_input": true,
  "kernelspec": {
   "display_name": "Python 3 (ipykernel)",
   "language": "python",
   "name": "python3"
  },
  "language_info": {
   "codemirror_mode": {
    "name": "ipython",
    "version": 3
   },
   "file_extension": ".py",
   "mimetype": "text/x-python",
   "name": "python",
   "nbconvert_exporter": "python",
   "pygments_lexer": "ipython3",
   "version": "3.9.6"
  },
  "rise": {
   "autolaunch": false,
   "enable_chalkboard": true,
   "footer": "BU CAS CS 210",
   "header": "Intro and Big Picture",
   "height": "100%",
   "scroll": true,
   "start_slideshow_at": "selected",
   "theme": "black",
   "transition": "none",
   "width": "100%"
  }
 },
 "nbformat": 4,
 "nbformat_minor": 5
}
