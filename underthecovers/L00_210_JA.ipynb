{
 "cells": [
  {
   "cell_type": "code",
   "execution_count": 73,
   "id": "d0e0169c",
   "metadata": {
    "slideshow": {
     "slide_type": "skip"
    }
   },
   "outputs": [
    {
     "data": {
      "text/html": [
       "<style>#notebook { padding-top:0px !important; } .container { width:100% !important; } .end_space { min-height:0px !important; } .prompt { display:none }</style>"
      ],
      "text/plain": [
       "<IPython.core.display.HTML object>"
      ]
     },
     "metadata": {},
     "output_type": "display_data"
    }
   ],
   "source": [
    "from IPython.core.display import display, HTML\n",
    "display(HTML(\n",
    "    '<style>'\n",
    "        '#notebook { padding-top:0px !important; } ' \n",
    "        '.container { width:100% !important; } '\n",
    "        '.end_space { min-height:0px !important; } '\n",
    "        '.prompt { display:none }'\n",
    "    '</style>'\n",
    "))\n",
    "\n",
    "import requests\n",
    "from notebook.notebookapp import list_running_servers\n",
    "# get server info so that we can make api calls \n",
    "servers=list(list_running_servers())\n",
    "\n",
    "info=next(list_running_servers())\n",
    "base_url=info['url']\n",
    "api_url=base_url + 'api/terminals'\n",
    "api_token=info['token']\n",
    "\n",
    "# get list of current terminals so that we can reuse this if enough exist \n",
    "# otherwise we will create new ones as needed\n",
    "r=requests.get(url=api_url, headers={'Authorization': 'token ' + api_token})\n",
    "TERMINALS=r.json()\n",
    "\n",
    "try:\n",
    "    EDITORTERM=TERMINALS[0]['name']\n",
    "except IndexError:\n",
    "    # create a terminal for our editor\n",
    "    r=requests.post(url=api_url, headers={'Authorization': 'token ' + api_token})\n",
    "    c=r.json()\n",
    "    EDITORTERM=c['name']\n",
    "\n",
    "try:\n",
    "    BUILDTERM=TERMINALS[1]['name']\n",
    "except IndexError:   \n",
    "    # create a terminal for running out builds\n",
    "    r=requests.post(url=api_url, headers={'Authorization': 'token ' + api_token})\n",
    "    c=r.json()\n",
    "    BUILDTERM=c['name']\n",
    "\n",
    "try:\n",
    "    DEBUGGERTERM=TERMINALS[2]['name']\n",
    "except IndexError:   \n",
    "    # create a terminal for running gdb\n",
    "    r=requests.post(url=api_url, headers={'Authorization': 'token ' + api_token})\n",
    "    c=r.json()\n",
    "    DEBUGGERTERM=c['name']\n",
    "    \n"
   ]
  },
  {
   "cell_type": "markdown",
   "id": "5e3dccea-0ef6-41e3-b631-de920758a7e2",
   "metadata": {
    "slideshow": {
     "slide_type": "slide"
    }
   },
   "source": [
    "# CS210 Computer Systems \n",
    "## Intro and the Big Picture"
   ]
  },
  {
   "cell_type": "markdown",
   "id": "1bad22f7",
   "metadata": {
    "slideshow": {
     "slide_type": "slide"
    },
    "tags": []
   },
   "source": [
    "<img src=\"./images/webster-computer.pdf\"> "
   ]
  },
  {
   "cell_type": "markdown",
   "id": "03924f05",
   "metadata": {
    "slideshow": {
     "slide_type": "notes"
    }
   },
   "source": [
    "Highlight -- \"Programmable\" and \"Device\""
   ]
  },
  {
   "cell_type": "markdown",
   "id": "ced9f110",
   "metadata": {
    "slideshow": {
     "slide_type": "subslide"
    },
    "tags": []
   },
   "source": [
    "<img src=\"./images/webster-system.pdf\"> "
   ]
  },
  {
   "cell_type": "markdown",
   "id": "f416cdd9",
   "metadata": {
    "slideshow": {
     "slide_type": "slide"
    }
   },
   "source": [
    "- stuff\n",
    "- b\n",
    "- c\n",
    "- d \n",
    "- f\n",
    "- g\n",
    "\n"
   ]
  },
  {
   "cell_type": "markdown",
   "id": "28f502a6",
   "metadata": {
    "slideshow": {
     "slide_type": "fragment"
    }
   },
   "source": [
    "more \n",
    "stuff\n"
   ]
  },
  {
   "cell_type": "markdown",
   "id": "d5e59734",
   "metadata": {
    "slideshow": {
     "slide_type": "fragment"
    }
   },
   "source": [
    "more text that is really important and an image\n",
    "<img src=\"./images/login.jpg\">"
   ]
  },
  {
   "cell_type": "markdown",
   "id": "903ea6fe",
   "metadata": {
    "cell_style": "center",
    "slideshow": {
     "slide_type": "slide"
    }
   },
   "source": [
    "```C\n",
    "#include <stdio.h>\n",
    "\n",
    "int main()\n",
    "{\n",
    "    printf(\"hello world\\n\");\n",
    "    return 0;\n",
    "}\n",
    "```"
   ]
  },
  {
   "cell_type": "code",
   "execution_count": 74,
   "id": "ad8f081b",
   "metadata": {
    "cell_style": "center",
    "slideshow": {
     "slide_type": "fragment"
    }
   },
   "outputs": [
    {
     "data": {
      "text/html": [
       "\n",
       "        <iframe\n",
       "            width=\"1400\"\n",
       "            height=\"600\"\n",
       "            src=\"/terminals/1\"\n",
       "            frameborder=\"0\"\n",
       "            allowfullscreen\n",
       "        ></iframe>\n",
       "        "
      ],
      "text/plain": [
       "<IPython.lib.display.IFrame at 0x7fe300ded5b0>"
      ]
     },
     "execution_count": 74,
     "metadata": {},
     "output_type": "execute_result"
    }
   ],
   "source": [
    "from IPython.display import IFrame\n",
    "IFrame('/terminals/' + EDITORTERM, 1400,600)"
   ]
  },
  {
   "cell_type": "code",
   "execution_count": 75,
   "id": "53b56e8e",
   "metadata": {
    "cell_style": "center",
    "slideshow": {
     "slide_type": "fragment"
    }
   },
   "outputs": [
    {
     "data": {
      "text/html": [
       "\n",
       "        <iframe\n",
       "            width=\"1400\"\n",
       "            height=\"200\"\n",
       "            src=\"/terminals/2\"\n",
       "            frameborder=\"0\"\n",
       "            allowfullscreen\n",
       "        ></iframe>\n",
       "        "
      ],
      "text/plain": [
       "<IPython.lib.display.IFrame at 0x7fe300ded7f0>"
      ]
     },
     "execution_count": 75,
     "metadata": {},
     "output_type": "execute_result"
    }
   ],
   "source": [
    "from IPython.display import IFrame\n",
    "IFrame('/terminals/' + BUILDTERM, 1400,200)"
   ]
  },
  {
   "cell_type": "code",
   "execution_count": 80,
   "id": "3def1851",
   "metadata": {
    "slideshow": {
     "slide_type": "fragment"
    }
   },
   "outputs": [
    {
     "data": {
      "text/html": [
       "\n",
       "        <iframe\n",
       "            width=\"1400\"\n",
       "            height=\"800\"\n",
       "            src=\"/terminals/3\"\n",
       "            frameborder=\"0\"\n",
       "            allowfullscreen\n",
       "        ></iframe>\n",
       "        "
      ],
      "text/plain": [
       "<IPython.lib.display.IFrame at 0x7fe300ded070>"
      ]
     },
     "execution_count": 80,
     "metadata": {},
     "output_type": "execute_result"
    }
   ],
   "source": [
    "from IPython.display import IFrame\n",
    "IFrame('/terminals/' + DEBUGGERTERM, 1400,800)"
   ]
  },
  {
   "cell_type": "markdown",
   "id": "dac6434e",
   "metadata": {
    "slideshow": {
     "slide_type": "slide"
    }
   },
   "source": [
    "```\n",
    "more code here\n",
    "```"
   ]
  },
  {
   "cell_type": "code",
   "execution_count": 81,
   "id": "8074f10d",
   "metadata": {},
   "outputs": [
    {
     "data": {
      "text/html": [
       "\n",
       "        <iframe\n",
       "            width=\"1400\"\n",
       "            height=\"600\"\n",
       "            src=\"/terminals/1\"\n",
       "            frameborder=\"0\"\n",
       "            allowfullscreen\n",
       "        ></iframe>\n",
       "        "
      ],
      "text/plain": [
       "<IPython.lib.display.IFrame at 0x7fe309851670>"
      ]
     },
     "execution_count": 81,
     "metadata": {},
     "output_type": "execute_result"
    }
   ],
   "source": [
    "from IPython.display import IFrame\n",
    "IFrame('/terminals/' + EDITORTERM, 1400,600)"
   ]
  },
  {
   "cell_type": "code",
   "execution_count": 82,
   "id": "b6ce4090",
   "metadata": {},
   "outputs": [
    {
     "data": {
      "text/html": [
       "\n",
       "        <iframe\n",
       "            width=\"1400\"\n",
       "            height=\"200\"\n",
       "            src=\"/terminals/2\"\n",
       "            frameborder=\"0\"\n",
       "            allowfullscreen\n",
       "        ></iframe>\n",
       "        "
      ],
      "text/plain": [
       "<IPython.lib.display.IFrame at 0x7fe300dedb20>"
      ]
     },
     "execution_count": 82,
     "metadata": {},
     "output_type": "execute_result"
    }
   ],
   "source": [
    "from IPython.display import IFrame\n",
    "IFrame('/terminals/' + BUILDTERM, 1400,200)"
   ]
  },
  {
   "cell_type": "code",
   "execution_count": 83,
   "id": "e4d0a4da",
   "metadata": {},
   "outputs": [
    {
     "data": {
      "text/html": [
       "\n",
       "        <iframe\n",
       "            width=\"1400\"\n",
       "            height=\"800\"\n",
       "            src=\"/terminals/3\"\n",
       "            frameborder=\"0\"\n",
       "            allowfullscreen\n",
       "        ></iframe>\n",
       "        "
      ],
      "text/plain": [
       "<IPython.lib.display.IFrame at 0x7fe300ded190>"
      ]
     },
     "execution_count": 83,
     "metadata": {},
     "output_type": "execute_result"
    }
   ],
   "source": [
    "from IPython.display import IFrame\n",
    "IFrame('/terminals/' + DEBUGGERTERM, 1400,800)"
   ]
  },
  {
   "cell_type": "code",
   "execution_count": null,
   "id": "4c4a87d6",
   "metadata": {},
   "outputs": [],
   "source": []
  }
 ],
 "metadata": {
  "celltoolbar": "Slideshow",
  "hide_input": true,
  "kernelspec": {
   "display_name": "Python 3",
   "language": "python",
   "name": "python3"
  },
  "language_info": {
   "codemirror_mode": {
    "name": "ipython",
    "version": 3
   },
   "file_extension": ".py",
   "mimetype": "text/x-python",
   "name": "python",
   "nbconvert_exporter": "python",
   "pygments_lexer": "ipython3",
   "version": "3.9.5"
  },
  "rise": {
   "autolaunch": true,
   "enable_chalkboard": true,
   "footer": "BU CAS CS 210",
   "header": "Intro and Big Picture",
   "height": "100%",
   "scroll": true,
   "start_slideshow_at": "beginning",
   "theme": "sky",
   "transition": "none",
   "width": "100%"
  }
 },
 "nbformat": 4,
 "nbformat_minor": 5
}
