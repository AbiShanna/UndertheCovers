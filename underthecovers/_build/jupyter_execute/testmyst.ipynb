{
 "cells": [
  {
   "cell_type": "markdown",
   "id": "possible-technician",
   "metadata": {},
   "source": [
    "# Myst Test\n",
    "\n",
    "```{note}\n",
    "Here is a note\n",
    "```"
   ]
  },
  {
   "cell_type": "code",
   "execution_count": 1,
   "id": "revolutionary-richmond",
   "metadata": {},
   "outputs": [
    {
     "name": "stdout",
     "output_type": "stream",
     "text": [
      "_build\t     _toc.yml\t     intro.md  references.bib  src\r\n",
      "_config.yml  assembly.ipynb  logo.jpg  shell.ipynb     testmyst.md\r\n"
     ]
    }
   ],
   "source": [
    "!ls"
   ]
  },
  {
   "cell_type": "code",
   "execution_count": 2,
   "id": "nutritional-ordering",
   "metadata": {},
   "outputs": [
    {
     "name": "stdout",
     "output_type": "stream",
     "text": [
      "\u001b[0m\u001b[01;34m_build\u001b[0m/      _toc.yml        intro.md  references.bib  \u001b[01;34msrc\u001b[0m/\r\n",
      "_config.yml  assembly.ipynb  \u001b[01;35mlogo.jpg\u001b[0m  shell.ipynb     testmyst.md\r\n"
     ]
    }
   ],
   "source": [
    "ls"
   ]
  }
 ],
 "metadata": {
  "jupytext": {
   "formats": "md:myst",
   "text_representation": {
    "extension": ".md",
    "format_name": "myst",
    "format_version": 0.13,
    "jupytext_version": "1.10.3"
   }
  },
  "kernelspec": {
   "display_name": "Python 3",
   "language": "python",
   "name": "python3"
  },
  "language_info": {
   "codemirror_mode": {
    "name": "ipython",
    "version": 3
   },
   "file_extension": ".py",
   "mimetype": "text/x-python",
   "name": "python",
   "nbconvert_exporter": "python",
   "pygments_lexer": "ipython3",
   "version": "3.8.5"
  },
  "source_map": [
   13,
   21,
   25
  ]
 },
 "nbformat": 4,
 "nbformat_minor": 5
}