{
 "cells": [
  {
   "cell_type": "markdown",
   "id": "9618be58-20e8-43b5-966b-22b6d8702af5",
   "metadata": {},
   "source": [
    "# Organizing and Managing Information as a Tree of Files and Directories"
   ]
  },
  {
   "cell_type": "markdown",
   "id": "731cb304-7d04-4890-8374-52d4f0eb49fe",
   "metadata": {},
   "source": [
    "Before we get our hands dirty there are a few \"ideas\" that are worth understanding in order to make our UNIX adventure a little easier."
   ]
  },
  {
   "cell_type": "markdown",
   "id": "addb9d60-c6c2-4770-a6c7-dd1c480e0b7e",
   "metadata": {},
   "source": [
    "## Information Management and Processing\n",
    "\n",
    "![pdp11](../images/Files-Cabinets.jpg)\n",
    "\n",
    "Using computers and managing information has become synonymous.   You probably take for granted that everyone knowns what a computer \"file\" and \"folder\" are and that they have always existed.  \n",
    "\n",
    "This, however, is not true and a fundamental contribution of operating systems was standardizing the notion of files and their organization into a hiearchical tree structure.\n",
    "\n",
    "Files and directories are so fundamental to UNIX it is very hard to say anything about UNIX without first understanding a little bit about both.  \n"
   ]
  },
  {
   "cell_type": "markdown",
   "id": "1b62e5df-5ef6-4dcf-bfe6-2cf326e9d055",
   "metadata": {},
   "source": [
    "## Files\n",
    "\n",
    "<img align=\"right\" src=\"../images/file.pdf\">In UNIX a file is an abstract object that we can store information in.  In particular we can write contents too and read contents from it. Beyond the information it contains a file has associated with it several other descriptive facts.  Examples of these facts include:\n",
    " - who owns the file \n",
    " - the length of the file (measured in [bytes](../assembly/byte))\n",
    " - who has permissions to read or write its contents \n",
    " - the time the contents was last modified\n",
    " - the time that it was last read\n",
    " - the time that the descriptive facts where last changed (eg the file permissions were modified)\n",
    "\n",
    "We think of the contents of the file as the \"data\" of the file and we think of other information as the \"meta-data\" of the file.  "
   ]
  },
  {
   "cell_type": "markdown",
   "id": "0c3d6126-83a9-4a63-b414-6f65a53aa9be",
   "metadata": {},
   "source": [
    "> Why do say that a file is an \"abstract\" object?  Well when it comes to computers most of the things we think of as \"real\" are just constructions of software.  An operating system like UNIX is responsible for providing us with such things like files but in reality there is rarely a single physical object that corresponds to any given file.  Rather it is the job of the operating system to use the resources of the computer to create an abstract file object if we ask it to do so.  "
   ]
  },
  {
   "cell_type": "markdown",
   "id": "ef536aa1-65a9-4360-87e5-9f6c9d117d4b",
   "metadata": {},
   "source": [
    "## Directory Tree\n",
    "<img align=\"right\" src=\"../images/359px-ENC_SYSTEME_FIGURE.jpeg\">\n",
    "While files serve as a great building block for managing information they are not enough.  People, like librarians, who have managed and currated large bodies of information know that you need a consistent and yet flexibly way to group, organize and index information.  \n",
    "\n",
    "One organization that early operating systems developers settled on was a hiearchical tree of nested \"directories\". "
   ]
  },
  {
   "cell_type": "markdown",
   "id": "32923054-ea9c-4837-a128-0931bb84a245",
   "metadata": {},
   "source": [
    "\n",
    "\n",
    "### Directories\n",
    "A \"directory\" contains a list of names each name identifies either a single file or another directory.   These entries are said to be within the directory.  A directory that is within a directory is said to be a sub-directory.  Like a file a directory also has the same kind of meta-data associated with it (owner, permisions, etc).  The contents of a directory is, however, the list of its entries.  This structure results in the directories and files forming a tree.  As such the name of any file or directory is actually a path along the tree."
   ]
  },
  {
   "cell_type": "markdown",
   "id": "06f8b40a-f096-4cf5-b95f-b8a0ea76b43d",
   "metadata": {},
   "source": [
    "While this might sound confusing it is really quite intutive and you have likely been using such a directory hiearchy for most of your digital life.\n",
    "\n",
    "Perhaps the most important thing to realize is that a UNIX user is allowed to create directories and files and name them as they see fit.  This ability allows a user to flexibility organize their information in an way they like and makes sense to them. To get a better handle on this let's walk through a simple abstract example.  Later we will repeat this example but using UNIX commands to get a more exact understanding.\n",
    "\n",
    "Lets assume that you are a CS student and like poetry and want to organize yourself.  To this end you might choose to create the following directory and file structure.\n",
    "\n",
    "![dirtree](../images/dirtree.pdf)\n"
   ]
  },
  {
   "cell_type": "markdown",
   "id": "16acc0a6-a6aa-46b4-99a1-1a47a49648fe",
   "metadata": {},
   "source": [
    "In this diagram we use circles to represent directories and rectangles to represent files.  The name of a directory or file is its label.  Arrows are used to show the entires of a particular directory (A file cannot contain have any arrows starting from it).  \n",
    "\n",
    "#### HOME Directory\n",
    "The above diagram assumes that we are the user \"jonathan\" who has a directory that they own.  By creating files and sub-directories within the \"jonathan\" directory we can organize our information. This personal user directory in UNIX this is called the users **HOME** directory and its name matches the users UNIX user name.   We will say more about this when we revisit this example.\n",
    "\n",
    "Here the user, jonathan, has created two sub-directories - Poetry and Classes. Inside the Poetry directory the user has created one sub-directory (Vogon -- to store their favorite Vogon poetry and two files (ToBitOrToByte and OdeToASemicolon, two poems they have written).  \n",
    "\n",
    "Similarly we that the user has create more complex directory structure to organize their class work.  One thing to note is that to keep things sensible names of entries in a single directory must be unique.  However, in different directories entries can have the same name -- as we can see with the three \"Problem1\" files at the bottom of the figure.  Each of these are in different directories.  \n",
    "\n",
    "#### PATHS and the ROOT\n",
    "As a matter of fact from the above diagram we can see that the unique name of a file or directory is really a composition of that traces a path though the tree.   In UNIX the very top of the tree is the one directory that always exists and is not a sub-directory of any other directory.  This directory is called the **ROOT** directory.  For reasons we will see later in UNIX the **ROOT** directories name is **/** all by itself.\n",
    "\n",
    "\n",
    "For example the name of the Problem1 files at the bottom of the diagram are: \n",
    "\n",
    "\n",
    "- / + home + jonathan + Classes + CS + 210 + Assignment1 + Problem1 \n",
    "- / + home + jonathan + Classes + CS + 210 + Assignment2 + Problem1 \n",
    "- / + home + jonathan + Classes + CS + 210 + Assignment3 + Problem1 \n",
    "\n",
    "In UNIX the way we actually will specify the path name of a file or directory will be to seperate the indepdenent components with the \"/\" character.  So the above three files as proper unix path names would be:\n",
    "\n",
    "- /home/jonathan/Classes/CS/210/Assignment1/Problem1 \n",
    "- /home/jonathan/Classes/CS/210/Assignment2/Problem1 \n",
    "- /home/jonathan/Classes/CS/210/Assignment3/Problem1 \n",
    "\n",
    "Remember \"/\" by itself is the name of the root directory and the full name of any other directory or file begins with / and then is composed of all the parent directories sperated by an additional /.\n",
    "\n",
    "\n",
    "\n"
   ]
  },
  {
   "cell_type": "code",
   "execution_count": null,
   "id": "47a8fcae-ba9d-43a3-bd58-5557afdb1e94",
   "metadata": {},
   "outputs": [],
   "source": []
  }
 ],
 "metadata": {
  "kernelspec": {
   "display_name": "Bash",
   "language": "bash",
   "name": "bash"
  },
  "language_info": {
   "codemirror_mode": "shell",
   "file_extension": ".sh",
   "mimetype": "text/x-sh",
   "name": "bash"
  }
 },
 "nbformat": 4,
 "nbformat_minor": 5
}