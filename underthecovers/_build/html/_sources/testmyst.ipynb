{
 "cells": [
  {
   "cell_type": "markdown",
   "id": "6fcaebea",
   "metadata": {},
   "source": [
    "# Myst Test\n",
    "\n",
    "```{note}\n",
    "Here is a note\n",
    "```"
   ]
  },
  {
   "cell_type": "code",
   "execution_count": 1,
   "id": "653ed107",
   "metadata": {},
   "outputs": [
    {
     "name": "stdout",
     "output_type": "stream",
     "text": [
      "assembly\tC\t     logo.jpg\t     src\t  unix\r\n",
      "assembly.ipynb\t_config.yml  references.bib  testmyst.md  UNIXsidebar.ipynb\r\n",
      "_build\t\tintro.md     shell.ipynb     _toc.yml\r\n"
     ]
    }
   ],
   "source": [
    "!ls"
   ]
  },
  {
   "cell_type": "code",
   "execution_count": 2,
   "id": "9beb0f60",
   "metadata": {},
   "outputs": [
    {
     "name": "stdout",
     "output_type": "stream",
     "text": [
      "\u001b[0m\u001b[01;34massembly\u001b[0m/       \u001b[01;34mC\u001b[0m/           \u001b[01;35mlogo.jpg\u001b[0m        \u001b[01;34msrc\u001b[0m/         \u001b[01;34munix\u001b[0m/\r\n",
      "assembly.ipynb  _config.yml  references.bib  testmyst.md  UNIXsidebar.ipynb\r\n",
      "\u001b[01;34m_build\u001b[0m/         intro.md     shell.ipynb     _toc.yml\r\n"
     ]
    }
   ],
   "source": [
    "ls"
   ]
  }
 ],
 "metadata": {
  "jupytext": {
   "formats": "md:myst",
   "text_representation": {
    "extension": ".md",
    "format_name": "myst",
    "format_version": 0.13,
    "jupytext_version": "1.10.3"
   }
  },
  "kernelspec": {
   "display_name": "Python 3",
   "language": "python",
   "name": "python3"
  },
  "language_info": {
   "codemirror_mode": {
    "name": "ipython",
    "version": 3
   },
   "file_extension": ".py",
   "mimetype": "text/x-python",
   "name": "python",
   "nbconvert_exporter": "python",
   "pygments_lexer": "ipython3",
   "version": "3.8.5"
  },
  "source_map": [
   13,
   21,
   25
  ]
 },
 "nbformat": 4,
 "nbformat_minor": 5
}