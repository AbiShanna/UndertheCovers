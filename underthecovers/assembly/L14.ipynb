{
 "cells": [
  {
   "cell_type": "code",
   "execution_count": null,
   "id": "ccc1b809",
   "metadata": {
    "hide_input": true,
    "slideshow": {
     "slide_type": "skip"
    }
   },
   "outputs": [],
   "source": [
    "%run -i ../python/common.py\n",
    "UC_SKIPTERMS=True\n",
    "%run -i ../python/ln_preamble.py"
   ]
  },
  {
   "cell_type": "markdown",
   "id": "4be1ae58-db24-42c8-a167-3f68289da9f8",
   "metadata": {
    "slideshow": {
     "slide_type": "slide"
    }
   },
   "source": [
    "# SLS Lecture 14 : Assembly using the OS\n",
    "\n",
    "- Review of Processes\n",
    "- Review of Systems Calls\n",
    "- Process Address Spaces \n",
    "  - Dynamic Memory : Growing our memory\n",
    "- I/O - Assembly \"Hello World\""
   ]
  },
  {
   "cell_type": "code",
   "execution_count": null,
   "id": "79225b99",
   "metadata": {
    "hide_input": true
   },
   "outputs": [],
   "source": [
    "# setup for sumit examples\n",
    "appdir=os.getenv('HOME')\n",
    "appdir=appdir + \"/syscalls\"\n",
    "#print(movdir)\n",
    "output=runTermCmd(\"[[ -d \" + appdir + \" ]] &&  rm -rf \"+ appdir + \n",
    "             \";mkdir \" + appdir + \n",
    "             \";cp ../src/Makefile ../src/setup.gdb ../src/usesum5.S ../src/sumit6.S ../src/hello.S ../src/brk.S \" + appdir)\n",
    "\n",
    "display(Markdown('''\n",
    "- create a directory `mkdir syscalls; cd syscalls`\n",
    "- copy examples\n",
    "- add a `Makefile` to automate assembling and linking\n",
    "    - we are going run the commands by hand this time to highlight the details\n",
    "- add our `setup.gdb` to make working in gdb easier\n",
    "- normally you would want to track everything in git\n",
    "'''))\n",
    "TermShellCmd(\"ls \" + appdir)"
   ]
  },
  {
   "cell_type": "markdown",
   "id": "0cabe717",
   "metadata": {
    "slideshow": {
     "slide_type": "slide"
    }
   },
   "source": [
    "## Review of Processes"
   ]
  },
  {
   "cell_type": "markdown",
   "id": "c4070c96",
   "metadata": {
    "slideshow": {
     "slide_type": "slide"
    }
   },
   "source": [
    "### Processes and the Kernel\n",
    "<img src=\"../images/UnixRunning.png\">"
   ]
  },
  {
   "cell_type": "code",
   "execution_count": null,
   "id": "28640581",
   "metadata": {
    "cell_style": "center",
    "hide_input": true,
    "slideshow": {
     "slide_type": "slide"
    }
   },
   "outputs": [],
   "source": [
    "display(HTML(htmlFig(\n",
    "    [\n",
    "        [\n",
    "#            {'src':\"/files/work/UndertheCovers/underthecovers/images/Processes/Processes.003.png\",\n",
    "#             'caption':'A: Press Enter', \n",
    "#             'border': '1px solid black',\n",
    "#             'padding':'1px',\n",
    "#             'cellwidth':'33.33%'\n",
    "#            },\n",
    "            {'src':\"../images/Processes/Processes.004.png\",\n",
    "#             'caption':'B: Shell \"blank line\" input processing' , \n",
    "#             'border': '1px solid black',\n",
    "#             'padding':'1px',\n",
    "#             'cellwidth':'33.33%'\n",
    "            },\n",
    "            {'src':\"../images/Processes/Processes.005.png\",\n",
    "#             'caption':'C: Shell sends Prompt back', \n",
    "#             'border': '1px solid black',\n",
    "#             'padding':'1px',\n",
    "#             'cellwidth':'33.33%'\n",
    "            },\n",
    "        ]\n",
    "    ],\n",
    "#    id=\"fig:shell-blankline\",\n",
    "#    caption=\"<center> Figure: Shell blank line behavior </center>\"\n",
    ")))"
   ]
  },
  {
   "cell_type": "markdown",
   "id": "4d6c5504",
   "metadata": {
    "slideshow": {
     "slide_type": "slide"
    }
   },
   "source": [
    "## Review of System Calls - From Lecture 08"
   ]
  },
  {
   "cell_type": "code",
   "execution_count": null,
   "id": "a75ba884",
   "metadata": {
    "cell_style": "split",
    "hide_input": true
   },
   "outputs": [],
   "source": [
    "display(Markdown(htmlFig(\"../images/kerneldef.png\")))"
   ]
  },
  {
   "cell_type": "markdown",
   "id": "80522172",
   "metadata": {
    "cell_style": "split"
   },
   "source": [
    "Remember this...\n",
    "\n",
    "**The \"Kernel\" -- Unique to Every OS**\n",
    "\n",
    "1. Bootstraps the HW and has direct access to all of it\n",
    "1. Bottom layer that enables other programs to run\n",
    "2. <font style=\"color:red;\"> **A unique collection of functions that programs can invoke** </font>\n",
    "\n",
    "Not useful on its own only useful and accessed by running other programs."
   ]
  },
  {
   "cell_type": "markdown",
   "id": "86dfcf1d",
   "metadata": {},
   "source": [
    "<center>\n",
    "<img src=\"../images/Processes/Processes.051.png\">\n",
    "</center>"
   ]
  },
  {
   "cell_type": "markdown",
   "id": "433556f8",
   "metadata": {
    "slideshow": {
     "slide_type": "slide"
    }
   },
   "source": [
    "### Intel `syscall`\n",
    "\n",
    "On Intel the instruction is `syscall`\n",
    "\n",
    "<img src=\"../images/syscallmp.png\">\n",
    "\n"
   ]
  },
  {
   "cell_type": "markdown",
   "id": "3770dc3f",
   "metadata": {
    "slideshow": {
     "slide_type": "slide"
    }
   },
   "source": [
    "### The OS System Calls\n",
    "\n",
    "Each OS Kernel provides a set of calls that an a process can invoke using the `syscall` instruction on an Intel based computer\n",
    "\n",
    "The Linux Kernel supports a very large number of system calls each is identified by a unique number that must be placed in `RAX` prior to executing the `syscall` instruction.  Additional arguments are passed in by setting other registers.  \n",
    "\n",
    "With each version of the Kernel the table of calls changes.  Here is one site that provides a list"
   ]
  },
  {
   "cell_type": "markdown",
   "id": "6d8a4cab",
   "metadata": {
    "slideshow": {
     "slide_type": "slide"
    }
   },
   "source": [
    "### LINUX SYSTEM CALLS\n",
    "\n",
    "- reading some man pages `man syscall` and `man syscalls` we find that\n",
    "  - we must place `60` in `rax`\n",
    "  - and that the value we want to return in `rdi`"
   ]
  },
  {
   "cell_type": "code",
   "execution_count": null,
   "id": "f56b55a3",
   "metadata": {
    "hide_input": false,
    "slideshow": {
     "slide_type": "slide"
    }
   },
   "outputs": [],
   "source": [
    "display(IFrame(\"https://filippo.io/linux-syscall-table/\", height=600, width=\"100%\"))"
   ]
  },
  {
   "cell_type": "code",
   "execution_count": null,
   "id": "2cbbc09b",
   "metadata": {
    "hide_input": true
   },
   "outputs": [],
   "source": [
    "display(Markdown(FileCodeBox(\n",
    "    file=\"../src/exit_bb_bb.S\", \n",
    "    lang=\"gas\", \n",
    "    title=\"\",\n",
    "    h=\"100%\", \n",
    "    w=\"100%\"\n",
    ")))"
   ]
  },
  {
   "cell_type": "markdown",
   "id": "478e367d",
   "metadata": {
    "slideshow": {
     "slide_type": "slide"
    }
   },
   "source": [
    "## Process Address Spaces"
   ]
  },
  {
   "cell_type": "markdown",
   "id": "25ddcc8a",
   "metadata": {
    "slideshow": {
     "slide_type": "slide"
    }
   },
   "source": [
    "### Address Space organizes Memory of a Process"
   ]
  },
  {
   "cell_type": "markdown",
   "id": "3287cef4",
   "metadata": {
    "cell_style": "split",
    "slideshow": {
     "slide_type": "slide"
    }
   },
   "source": [
    "<center>\n",
    "    <img src=\"../images/ProcessContexts.png\">\n",
    "</center>"
   ]
  },
  {
   "cell_type": "markdown",
   "id": "cc6f0453",
   "metadata": {
    "cell_style": "split",
    "slideshow": {
     "slide_type": "slide"
    }
   },
   "source": [
    "**Remember**\n",
    "\n",
    "1. The binaries we create using the assembler and linker are Executables\n",
    "\n",
    "2. When we \"run\" our executables via the shell it creates a new process context and our binary is loaded as the initial memory \"image\".\n",
    "\n",
    "3. The memory and register values of the process are unique to each process and change as the instructions of our binary \"execute\""
   ]
  },
  {
   "cell_type": "markdown",
   "id": "201682b4",
   "metadata": {
    "slideshow": {
     "slide_type": "slide"
    }
   },
   "source": [
    "### Assembly Programming as Process Address Space Image creation"
   ]
  },
  {
   "cell_type": "markdown",
   "id": "0fc3a965",
   "metadata": {
    "slideshow": {
     "slide_type": "slide"
    }
   },
   "source": [
    "<center>\n",
    "    <img src=\"../images/ASSEMBLY-AddressSpaceandIO/ASSEMBLY-AddressSpaceandIO.003.png\">\n",
    "</center>"
   ]
  },
  {
   "cell_type": "markdown",
   "id": "52eb5e84",
   "metadata": {
    "slideshow": {
     "slide_type": "slide"
    }
   },
   "source": [
    "<center>\n",
    "    <img src=\"../images/ASSEMBLY-AddressSpaceandIO/ASSEMBLY-AddressSpaceandIO.004.png\">\n",
    "</center>"
   ]
  },
  {
   "cell_type": "markdown",
   "id": "566fabc9",
   "metadata": {},
   "source": [
    "<center>\n",
    "    <img src=\"../images/ASSEMBLY-AddressSpaceandIO/ASSEMBLY-AddressSpaceandIO.005.png\">\n",
    "</center>"
   ]
  },
  {
   "cell_type": "markdown",
   "id": "47e51c27",
   "metadata": {},
   "source": [
    "### The Details"
   ]
  },
  {
   "cell_type": "markdown",
   "id": "ab53bd69",
   "metadata": {
    "cell_style": "center",
    "slideshow": {
     "slide_type": "slide"
    }
   },
   "source": [
    "### Process Address Space \n",
    "\n",
    "The Memory of a Process is organized as an (Virtual) Address Space \n",
    "\n",
    "1. Each possible location of a byte is identified by a unique address (number) \n",
    "2. To associate a Region (range of continues addresses) with actual memory requires a \"mapping\"\n",
    "    - mappings associate a Region with Memory and a possible source of values\n",
    "    - mappings can restrict what kind of access can be made to region \n",
    "        1. fetch for execute (x)\n",
    "        2. read (r)\n",
    "        3. write (w)"
   ]
  },
  {
   "cell_type": "markdown",
   "id": "fe6348b8",
   "metadata": {
    "slideshow": {
     "slide_type": "slide"
    }
   },
   "source": [
    "<center>\n",
    "    <img src=\"../images/ExecAddrSpace/ExecAddrSpace-001.png\">\n",
    "</center>"
   ]
  },
  {
   "cell_type": "markdown",
   "id": "d751157e",
   "metadata": {
    "slideshow": {
     "slide_type": "slide"
    }
   },
   "source": [
    "<center>\n",
    "    <img src=\"../images/ExecAddrSpace/ExecAddrSpace-002.png\">\n",
    "</center>"
   ]
  },
  {
   "cell_type": "markdown",
   "id": "b7dd8c5d",
   "metadata": {
    "slideshow": {
     "slide_type": "slide"
    }
   },
   "source": [
    "<center>\n",
    "    <img src=\"../images/ExecAddrSpace/ExecAddrSpace-003.png\">\n",
    "</center>"
   ]
  },
  {
   "cell_type": "markdown",
   "id": "7894cacb",
   "metadata": {
    "slideshow": {
     "slide_type": "slide"
    }
   },
   "source": [
    "<center>\n",
    "    <img src=\"../images/ExecAddrSpace/ExecAddrSpace-004.png\">\n",
    "</center>"
   ]
  },
  {
   "cell_type": "markdown",
   "id": "6c8bf8dc",
   "metadata": {
    "slideshow": {
     "slide_type": "slide"
    }
   },
   "source": [
    "<center>\n",
    "    <img src=\"../images/ExecAddrSpace/ExecAddrSpace-005.png\">\n",
    "</center>"
   ]
  },
  {
   "cell_type": "markdown",
   "id": "0dfe7421",
   "metadata": {
    "slideshow": {
     "slide_type": "slide"
    }
   },
   "source": [
    "<center>\n",
    "    <img src=\"../images/ExecAddrSpace/ExecAddrSpace-006.png\">\n",
    "</center>"
   ]
  },
  {
   "cell_type": "markdown",
   "id": "105bb05f",
   "metadata": {
    "slideshow": {
     "slide_type": "slide"
    }
   },
   "source": [
    "<center>\n",
    "    <img src=\"../images/ExecAddrSpace/ExecAddrSpace-007.png\">\n",
    "</center>"
   ]
  },
  {
   "cell_type": "markdown",
   "id": "aa1641bc",
   "metadata": {
    "slideshow": {
     "slide_type": "slide"
    }
   },
   "source": [
    "<center>\n",
    "    <img src=\"../images/ExecAddrSpace/ExecAddrSpace-008.png\">\n",
    "</center>"
   ]
  },
  {
   "cell_type": "markdown",
   "id": "0536e152",
   "metadata": {
    "slideshow": {
     "slide_type": "slide"
    }
   },
   "source": [
    "<center>\n",
    "    <img src=\"../images/ExecAddrSpace/ExecAddrSpace-009.png\">\n",
    "</center>"
   ]
  },
  {
   "cell_type": "markdown",
   "id": "f85817fa",
   "metadata": {
    "slideshow": {
     "slide_type": "slide"
    }
   },
   "source": [
    "<center>\n",
    "    <img src=\"../images/ExecAddrSpace/ExecAddrSpace-010.png\">\n",
    "</center>"
   ]
  },
  {
   "cell_type": "markdown",
   "id": "c436d897",
   "metadata": {
    "slideshow": {
     "slide_type": "slide"
    }
   },
   "source": [
    "<center>\n",
    "    <img src=\"../images/ExecAddrSpace/ExecAddrSpace-011.png\">\n",
    "</center>"
   ]
  },
  {
   "cell_type": "markdown",
   "id": "f0d2d4ff",
   "metadata": {
    "slideshow": {
     "slide_type": "slide"
    }
   },
   "source": [
    "### Exploring the Address Space\n",
    "\n",
    "- Let's explore the address space of a running program "
   ]
  },
  {
   "cell_type": "code",
   "execution_count": null,
   "id": "79832d45",
   "metadata": {
    "cell_style": "split",
    "hide_input": true
   },
   "outputs": [],
   "source": [
    "display(Markdown(FileCodeBox(\n",
    "    file=\"../src/usesum5.S\", \n",
    "    lang=\"gas\", \n",
    "    title=\"<b>CODE: asm - usesum5.S\",\n",
    "    h=\"100%\", \n",
    "    w=\"107em\"\n",
    ")))"
   ]
  },
  {
   "cell_type": "code",
   "execution_count": null,
   "id": "6384613e",
   "metadata": {
    "cell_style": "split",
    "hide_input": true
   },
   "outputs": [],
   "source": [
    "display(Markdown(FileCodeBox(\n",
    "    file=\"../src/sumit6.S\", \n",
    "    lang=\"gas\", \n",
    "    title=\"<b>CODE: asm - sumit6.S\",\n",
    "    h=\"100%\", \n",
    "    w=\"107em\"\n",
    ")))"
   ]
  },
  {
   "cell_type": "code",
   "execution_count": null,
   "id": "25ffedea",
   "metadata": {},
   "outputs": [],
   "source": [
    "TermShellCmd(\"make usesum6\", cwd=appdir, prompt='')"
   ]
  },
  {
   "cell_type": "code",
   "execution_count": null,
   "id": "aedccb49",
   "metadata": {},
   "outputs": [],
   "source": [
    "showDT()"
   ]
  },
  {
   "cell_type": "markdown",
   "id": "d5f3c45b",
   "metadata": {},
   "source": [
    "```\n",
    "b _start\n",
    "run \n",
    "info proc\n",
    "```"
   ]
  },
  {
   "cell_type": "code",
   "execution_count": null,
   "id": "10626f7b",
   "metadata": {},
   "outputs": [],
   "source": [
    "TermShellCmd(\"man proc | head -30\", markdown=False)"
   ]
  },
  {
   "cell_type": "code",
   "execution_count": null,
   "id": "406ed5ac",
   "metadata": {},
   "outputs": [],
   "source": [
    "TermShellCmd(\"man proc | grep -A40 /maps | head -41\", markdown=False)"
   ]
  },
  {
   "cell_type": "markdown",
   "id": "fb2d4f2a",
   "metadata": {},
   "source": [
    "```\n",
    " cat /proc/<pid>/maps\n",
    "```\n",
    "\n",
    "Use gdb to explore what's there and compare with binary binary file "
   ]
  },
  {
   "cell_type": "markdown",
   "id": "f422b46b",
   "metadata": {},
   "source": [
    "#### Add another section to control how region is mapped\n",
    "\n",
    "Readonly data section `.rodata`\n",
    "\n",
    "```gas\n",
    "         .section .rodata\n",
    "\n",
    " str1:\n",
    "         .string \"Hello World\\n\"\n",
    "```\n",
    "\n",
    "What would happen if we put all out data in the `.rodata` section... try it and find out"
   ]
  },
  {
   "cell_type": "markdown",
   "id": "02c75fa6",
   "metadata": {},
   "source": [
    "## Ok lets get some more memory -- Grow our address space\n",
    "\n",
    "The `brk` system call\n"
   ]
  },
  {
   "cell_type": "code",
   "execution_count": null,
   "id": "23511797",
   "metadata": {
    "hide_input": true
   },
   "outputs": [],
   "source": [
    "TermShellCmd(\"man brk | head -37\", markdown=False)"
   ]
  },
  {
   "cell_type": "code",
   "execution_count": null,
   "id": "21e75168",
   "metadata": {},
   "outputs": [],
   "source": [
    "display(IFrame(\"https://filippo.io/linux-syscall-table/\", height=600, width=\"100%\"))"
   ]
  },
  {
   "cell_type": "markdown",
   "id": "5d877eef",
   "metadata": {},
   "source": [
    "#### Lets add this code\n",
    "\n",
    "What does it do?\n",
    "\n",
    "```gas\n",
    "    .data\n",
    "NEW_MEM_PTR:\n",
    "    .quad 0\n",
    "\n",
    "    .text\n",
    "    \n",
    "    mov rdi, 0\n",
    "    mov rax, 12\n",
    "    syscall \n",
    "    \n",
    "    mov QWORD PTR [NEW_MEM_PTR], rdi\n",
    "    \n",
    "    # look at RAX\n",
    "    \n",
    "    add rdi, 1024\n",
    "    mov rax, 12\n",
    "    syscall\n",
    "    \n",
    "    # look at RAX\n",
    "```"
   ]
  },
  {
   "cell_type": "markdown",
   "id": "35c3fcfc",
   "metadata": {},
   "source": [
    "#### What does the regions maps look like now?"
   ]
  },
  {
   "cell_type": "markdown",
   "id": "e979585a",
   "metadata": {
    "slideshow": {
     "slide_type": "slide"
    }
   },
   "source": [
    "<center>\n",
    "    <img src=\"../images/ASSEMBLY-AddressSpaceandIO/ASSEMBLY-AddressSpaceandIO.012.png\">\n",
    "</center>"
   ]
  },
  {
   "cell_type": "markdown",
   "id": "3fe3d488",
   "metadata": {
    "slideshow": {
     "slide_type": "slide"
    }
   },
   "source": [
    "<center>\n",
    "    <img src=\"../images/ASSEMBLY-AddressSpaceandIO/ASSEMBLY-AddressSpaceandIO.016.png\">\n",
    "</center>"
   ]
  },
  {
   "cell_type": "markdown",
   "id": "6a31c5e0",
   "metadata": {
    "slideshow": {
     "slide_type": "slide"
    }
   },
   "source": [
    "## I/O"
   ]
  },
  {
   "cell_type": "markdown",
   "id": "e567d481",
   "metadata": {
    "slideshow": {
     "slide_type": "slide"
    }
   },
   "source": [
    "<center>\n",
    "    <img src=\"../images/ASSEMBLY-AddressSpaceandIO/ASSEMBLY-AddressSpaceandIO.017.png\">\n",
    "</center>"
   ]
  },
  {
   "cell_type": "markdown",
   "id": "df42b1c1",
   "metadata": {
    "slideshow": {
     "slide_type": "slide"
    }
   },
   "source": [
    "<center>\n",
    "    <img src=\"../images/ASSEMBLY-AddressSpaceandIO/ASSEMBLY-AddressSpaceandIO.018.png\">\n",
    "</center>"
   ]
  },
  {
   "cell_type": "markdown",
   "id": "3a184c39",
   "metadata": {
    "slideshow": {
     "slide_type": "slide"
    }
   },
   "source": [
    "### Review from Lecture 3"
   ]
  },
  {
   "cell_type": "markdown",
   "id": "00d15913",
   "metadata": {
    "slideshow": {
     "slide_type": "slide"
    }
   },
   "source": [
    "<center>\n",
    "    <img src=\"../images/Processes/Processes.006.png\">\n",
    "</center>"
   ]
  },
  {
   "cell_type": "markdown",
   "id": "6e9d6bd2",
   "metadata": {
    "slideshow": {
     "slide_type": "slide"
    }
   },
   "source": [
    "<center>\n",
    "    <img src=\"../images/Processes/Processes.007.png\">\n",
    "</center>"
   ]
  },
  {
   "cell_type": "markdown",
   "id": "5e9aabd6",
   "metadata": {
    "slideshow": {
     "slide_type": "slide"
    }
   },
   "source": [
    "<center>\n",
    "    <img src=\"../images/Processes/Processes.008.png\">\n",
    "</center>"
   ]
  },
  {
   "cell_type": "markdown",
   "id": "95b9607b",
   "metadata": {
    "slideshow": {
     "slide_type": "slide"
    }
   },
   "source": [
    "<center>\n",
    "    <img src=\"../images/Processes/Processes.009.png\">\n",
    "</center>"
   ]
  },
  {
   "cell_type": "markdown",
   "id": "14ed4199",
   "metadata": {
    "slideshow": {
     "slide_type": "slide"
    }
   },
   "source": [
    "<center>\n",
    "    <img src=\"../images/Processes/Processes.010.png\">\n",
    "</center>"
   ]
  },
  {
   "cell_type": "markdown",
   "id": "d99555d9",
   "metadata": {
    "slideshow": {
     "slide_type": "slide"
    }
   },
   "source": [
    "<center>\n",
    "    <img src=\"../images/Processes/Processes.011.png\">\n",
    "</center>"
   ]
  },
  {
   "cell_type": "markdown",
   "id": "fdcdff15",
   "metadata": {
    "slideshow": {
     "slide_type": "slide"
    }
   },
   "source": [
    "<center>\n",
    "    <img src=\"../images/Processes/Processes.012.png\">\n",
    "</center>"
   ]
  },
  {
   "cell_type": "markdown",
   "id": "2a92feb8",
   "metadata": {
    "slideshow": {
     "slide_type": "slide"
    }
   },
   "source": [
    "<center>\n",
    "    <img src=\"../images/Processes/Processes.013.png\">\n",
    "</center>"
   ]
  },
  {
   "cell_type": "markdown",
   "id": "5878925c",
   "metadata": {
    "slideshow": {
     "slide_type": "slide"
    }
   },
   "source": [
    "<center>\n",
    "    <img src=\"../images/Processes/Processes.015.png\">\n",
    "</center>"
   ]
  },
  {
   "cell_type": "markdown",
   "id": "bb88a828",
   "metadata": {
    "slideshow": {
     "slide_type": "slide"
    }
   },
   "source": [
    "### Finally \"Hello World in Assembly\""
   ]
  },
  {
   "cell_type": "code",
   "execution_count": null,
   "id": "d01fa5a6",
   "metadata": {
    "slideshow": {
     "slide_type": "slide"
    }
   },
   "outputs": [],
   "source": [
    "display(Markdown(FileCodeBox(\n",
    "    file=\"../src/hello.S\", \n",
    "    lang=\"gas\", \n",
    "    title=\"<b>CODE: asm - hello.S\",\n",
    "    h=\"100%\", \n",
    "    w=\"107em\"\n",
    ")))"
   ]
  },
  {
   "cell_type": "code",
   "execution_count": null,
   "id": "f1ccbc0c",
   "metadata": {
    "hide_input": true,
    "slideshow": {
     "slide_type": "slide"
    }
   },
   "outputs": [],
   "source": [
    "TermShellCmd(\"make hello\", cwd=appdir, prompt='')"
   ]
  },
  {
   "cell_type": "markdown",
   "id": "91dd6e33",
   "metadata": {},
   "source": [
    "#### At long last we have a program that we don't need the debugger for!"
   ]
  },
  {
   "cell_type": "code",
   "execution_count": null,
   "id": "0372be89",
   "metadata": {
    "hide_input": true,
    "slideshow": {
     "slide_type": "slide"
    }
   },
   "outputs": [],
   "source": [
    "TermShellCmd(\"./hello; echo $?\", cwd=appdir)"
   ]
  },
  {
   "cell_type": "markdown",
   "id": "4ad7f667",
   "metadata": {
    "slideshow": {
     "slide_type": "slide"
    }
   },
   "source": [
    "### There are many more calls for doing I/O\n",
    "\n",
    "But we can now \n",
    "1. transfer bytes from our address space to a \"file\" - write system call\n",
    "2. transfer bytes from a \"file\" to our address space  - read system call\n",
    "3. connect (and possibly create) files to our address space for reading and writing - open system call\n",
    "4. disconnect a file from our address space - close system call\n"
   ]
  },
  {
   "cell_type": "code",
   "execution_count": null,
   "id": "2c2a8371",
   "metadata": {},
   "outputs": [],
   "source": [
    "display(IFrame(\"https://filippo.io/linux-syscall-table/\", height=600, width=\"100%\"))"
   ]
  },
  {
   "cell_type": "markdown",
   "id": "0832f507",
   "metadata": {},
   "source": [
    "### Exercises\n",
    "\n",
    "Change the `usesum` program to:\n",
    "- exit properly and returning the result\n",
    "- allocate memory for the data\n",
    "- read the data in from standard in\n",
    "- open the binary file of numbers and read them in\n",
    "\n",
    "Write a new program that uses the random instruction to create a data file\n"
   ]
  },
  {
   "cell_type": "code",
   "execution_count": null,
   "id": "baaa33f0",
   "metadata": {},
   "outputs": [],
   "source": []
  }
 ],
 "metadata": {
  "celltoolbar": "Slideshow",
  "hide_input": true,
  "kernelspec": {
   "display_name": "Python 3 (ipykernel)",
   "language": "python",
   "name": "python3"
  },
  "language_info": {
   "codemirror_mode": {
    "name": "ipython",
    "version": 3
   },
   "file_extension": ".py",
   "mimetype": "text/x-python",
   "name": "python",
   "nbconvert_exporter": "python",
   "pygments_lexer": "ipython3",
   "version": "3.9.6"
  },
  "rise": {
   "autolaunch": false,
   "enable_chalkboard": true,
   "footer": "UC-SLS -- Lecture 14",
   "header": "Assembly: Using the OS",
   "height": "100%",
   "scroll": true,
   "start_slideshow_at": "selected",
   "theme": "black",
   "transition": "none",
   "width": "100%"
  }
 },
 "nbformat": 4,
 "nbformat_minor": 5
}
