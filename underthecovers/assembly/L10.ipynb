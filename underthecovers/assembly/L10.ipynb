{
 "cells": [
  {
   "cell_type": "markdown",
   "id": "28f94a21-efab-4063-833a-be8c35ad8c17",
   "metadata": {},
   "source": [
    "# SLS Lecture 10 : Topics"
   ]
  },
  {
   "cell_type": "markdown",
   "id": "b8b1bd02",
   "metadata": {},
   "source": [
    "## Assembly Instruction statement syntax\n",
    "\n",
    "```gas\n",
    "[label:] mnemonic [operands][ ; comment ]\n",
    "```\n",
    "\n",
    "Anything in square brackets is optional depending on the mnemonic.\n",
    "\n",
    "\n",
    "The following are the four types of Intel instructions\n",
    "\n",
    "1. `mnemonic` - alone no explicitly defined operands\n",
    "2. `mnemonic <destination>` - a single operand \n",
    "   - which is the destination ... where the result will be stored\n",
    "3. `mnemonic <destination>, <source>` - two operands \n",
    "  - one that names a source location for input\n",
    "  - and one that is the destination\n",
    "4. `mnemonic <destination>, <source A>, <source B>` - three operands\n",
    "   - two that name input sources \n",
    "   - and one that names the destination "
   ]
  },
  {
   "cell_type": "markdown",
   "id": "8c799650",
   "metadata": {},
   "source": [
    "### Sources and destinations \n",
    "Sources and destinations name both a location of a value and its length.\n",
    "\n",
    "-Eg. `2` bytes at Address `0x10000` is the operand for the instruction"
   ]
  },
  {
   "cell_type": "markdown",
   "id": "84fc5b4f",
   "metadata": {},
   "source": [
    "## Addressing Modes\n",
    "- lets look more closely now at the address mode by carefully studying the `mov` instruction \n",
    "  - add all the ways that we can specify its `operands`\n",
    "  \n",
    "```\n",
    "      mov <destination>, <source>\n",
    "```\n",
    "\n",
    "`<destination>` and `<source>` are the operands and the `mov` is the mnemonic of instruction we want to encode.\n"
   ]
  },
  {
   "cell_type": "markdown",
   "id": "d9c3edf3",
   "metadata": {},
   "source": [
    "### `mov`\n",
    "\n",
    "Overwrite the `<destination>` with a copy of what is in the `<source>`\n",
    "- note the value that was in `<destination>` is **over-written**\n",
    "  - its \"gone\"\n",
    "- the `<source>` still has its version \n",
    "\n",
    "This is actually more like copy than move!\n",
    "\n",
    "From a high level programming perspective it is like an assignment statement\n",
    "\n",
    "```x = y;```\n"
   ]
  },
  {
   "cell_type": "markdown",
   "id": "85d5954c",
   "metadata": {},
   "source": [
    "### destinations and sources\n",
    "\n",
    "Here are the various times of locations that can be a source or destination\n",
    "\n",
    "1. Register  (reg) -- one of the processor's registers\n",
    "2. Memory    (mem) -- an address of an arbitrary memory location\n",
    "3. Immediate (imm) -- a special type of Memory location where the value is in the bytes following the opcode\n",
    "     - You can only use Immediates as a source\n",
    "\n",
    "Here is the valid combinations that you can have\n",
    "\n",
    "- `mov <reg>, <reg>`\n",
    "- `mov <reg>, <mem>`\n",
    "- `mov <mem>, <reg>`\n",
    "- `mov <reg>, <imm>`"
   ]
  },
  {
   "cell_type": "code",
   "execution_count": null,
   "id": "f9951cc3",
   "metadata": {},
   "outputs": [],
   "source": []
  }
 ],
 "metadata": {
  "hide_input": false,
  "kernelspec": {
   "display_name": "Python 3 (ipykernel)",
   "language": "python",
   "name": "python3"
  },
  "language_info": {
   "codemirror_mode": {
    "name": "ipython",
    "version": 3
   },
   "file_extension": ".py",
   "mimetype": "text/x-python",
   "name": "python",
   "nbconvert_exporter": "python",
   "pygments_lexer": "ipython3",
   "version": "3.9.6"
  }
 },
 "nbformat": 4,
 "nbformat_minor": 5
}
