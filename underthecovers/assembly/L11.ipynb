{
 "cells": [
  {
   "cell_type": "code",
   "execution_count": null,
   "id": "eda69946",
   "metadata": {},
   "outputs": [],
   "source": [
    "%run -i ../python/common.py\n",
    "UC_SKIPTERMS=True\n",
    "%run -i ../python/ln_preamble.py"
   ]
  },
  {
   "cell_type": "markdown",
   "id": "74946512-d109-4aef-a47d-2e442d0b4aae",
   "metadata": {},
   "source": [
    "# SLS Lecture 11 :  Program Anatomy II : Functions "
   ]
  },
  {
   "cell_type": "markdown",
   "id": "9092ee50",
   "metadata": {},
   "source": [
    "<center>\n",
    "<img src=../images/ASSEMBLY-PGMIII/ASSEMBLY-PGMIII.001.png>\n",
    "</center>"
   ]
  },
  {
   "cell_type": "markdown",
   "id": "08592603",
   "metadata": {},
   "source": [
    "<center>\n",
    "<img src=../images/ASSEMBLY-PGMIII/ASSEMBLY-PGMIII.002.png>\n",
    "</center>"
   ]
  },
  {
   "cell_type": "markdown",
   "id": "9bdc86a2",
   "metadata": {},
   "source": [
    "<center>\n",
    "<img src=../images/ASSEMBLY-PGMIII/ASSEMBLY-PGMIII.003.png>\n",
    "</center>"
   ]
  },
  {
   "cell_type": "markdown",
   "id": "4b2562e9",
   "metadata": {},
   "source": [
    "<center>\n",
    "<img src=../images/ASSEMBLY-PGMIII/ASSEMBLY-PGMIII.004.png>\n",
    "</center>"
   ]
  },
  {
   "cell_type": "markdown",
   "id": "6f028fb1",
   "metadata": {},
   "source": [
    "<center>\n",
    "<img src=../images/ASSEMBLY-PGMIII/ASSEMBLY-PGMIII.005.png>\n",
    "</center>"
   ]
  },
  {
   "cell_type": "markdown",
   "id": "2e07c542",
   "metadata": {},
   "source": [
    "<center>\n",
    "<img src=../images/ASSEMBLY-PGMIII/ASSEMBLY-PGMIII.006.png>\n",
    "</center>"
   ]
  },
  {
   "cell_type": "markdown",
   "id": "9634dacf",
   "metadata": {},
   "source": [
    "<center>\n",
    "<img src=../images/ASSEMBLY-PGMIII/ASSEMBLY-PGMIII.007.png>\n",
    "</center>"
   ]
  },
  {
   "cell_type": "markdown",
   "id": "77af0655",
   "metadata": {},
   "source": [
    "<center>\n",
    "<img src=../images/ASSEMBLY-PGMIII/ASSEMBLY-PGMIII.008.png>\n",
    "</center>"
   ]
  },
  {
   "cell_type": "markdown",
   "id": "2603c853",
   "metadata": {},
   "source": [
    "<center>\n",
    "<img src=../images/ASSEMBLY-PGMIII/ASSEMBLY-PGMIII.009.png>\n",
    "</center>"
   ]
  },
  {
   "cell_type": "markdown",
   "id": "8bcfaaf6",
   "metadata": {},
   "source": [
    "<center>\n",
    "<img src=../images/ASSEMBLY-PGMIII/ASSEMBLY-PGMIII.010.png>\n",
    "</center>"
   ]
  },
  {
   "cell_type": "markdown",
   "id": "d53d4e8d",
   "metadata": {},
   "source": [
    "<center>\n",
    "<img src=../images/ASSEMBLY-PGMIII/ASSEMBLY-PGMIII.011.png>\n",
    "</center>"
   ]
  },
  {
   "cell_type": "markdown",
   "id": "aa171f08",
   "metadata": {},
   "source": [
    "<center>\n",
    "<img src=../images/ASSEMBLY-PGMIII/ASSEMBLY-PGMIII.012.png>\n",
    "</center>"
   ]
  },
  {
   "cell_type": "markdown",
   "id": "fda1c003",
   "metadata": {},
   "source": [
    "<center>\n",
    "<img src=../images/ASSEMBLY-PGMIII/ASSEMBLY-PGMIII.013.png>\n",
    "</center>"
   ]
  },
  {
   "cell_type": "markdown",
   "id": "5d5205cf",
   "metadata": {},
   "source": [
    "<center>\n",
    "<img src=../images/ASSEMBLY-PGMIII/ASSEMBLY-PGMIII.014.png>\n",
    "</center>"
   ]
  },
  {
   "cell_type": "markdown",
   "id": "c02b1a22",
   "metadata": {},
   "source": [
    "<center>\n",
    "<img src=../images/ASSEMBLY-PGMIII/ASSEMBLY-PGMIII.015.png>\n",
    "</center>"
   ]
  },
  {
   "cell_type": "markdown",
   "id": "4e03ddfa",
   "metadata": {},
   "source": [
    "<center>\n",
    "<img src=../images/ASSEMBLY-PGMIII/ASSEMBLY-PGMIII.016.png>\n",
    "</center>"
   ]
  },
  {
   "cell_type": "markdown",
   "id": "56f3a9a9",
   "metadata": {},
   "source": [
    "<center>\n",
    "<img src=../images/ASSEMBLY-PGMIII/ASSEMBLY-PGMIII.017.png>\n",
    "</center>"
   ]
  },
  {
   "cell_type": "markdown",
   "id": "4fc0d042",
   "metadata": {},
   "source": [
    "<center>\n",
    "<img src=../images/ASSEMBLY-PGMIII/ASSEMBLY-PGMIII.018.png>\n",
    "</center>"
   ]
  },
  {
   "cell_type": "markdown",
   "id": "fdc7c5d8",
   "metadata": {},
   "source": [
    "<center>\n",
    "<img src=../images/ASSEMBLY-PGMIII/ASSEMBLY-PGMIII.019.png>\n",
    "</center>"
   ]
  },
  {
   "cell_type": "markdown",
   "id": "4c0f46df",
   "metadata": {},
   "source": [
    "<center>\n",
    "<img src=../images/ASSEMBLY-PGMIII/ASSEMBLY-PGMIII.020.png>\n",
    "</center>"
   ]
  },
  {
   "cell_type": "markdown",
   "id": "54382167",
   "metadata": {},
   "source": [
    "<center>\n",
    "<img src=../images/ASSEMBLY-PGMIII/ASSEMBLY-PGMIII.021.png>\n",
    "</center>"
   ]
  },
  {
   "cell_type": "markdown",
   "id": "d342af63",
   "metadata": {},
   "source": [
    "<center>\n",
    "<img src=../images/ASSEMBLY-PGMIII/ASSEMBLY-PGMIII.022.png>\n",
    "</center>"
   ]
  },
  {
   "cell_type": "markdown",
   "id": "4f79b069",
   "metadata": {},
   "source": [
    "<center>\n",
    "<img src=../images/ASSEMBLY-PGMIII/ASSEMBLY-PGMIII.023.png>\n",
    "</center>"
   ]
  },
  {
   "cell_type": "markdown",
   "id": "deb44a1f",
   "metadata": {},
   "source": [
    "<center>\n",
    "<img src=../images/ASSEMBLY-PGMIII/ASSEMBLY-PGMIII.024.png>\n",
    "</center>"
   ]
  },
  {
   "cell_type": "markdown",
   "id": "23fec033",
   "metadata": {},
   "source": [
    "<center>\n",
    "<img src=../images/ASSEMBLY-PGMIII/ASSEMBLY-PGMIII.025.png>\n",
    "</center>"
   ]
  },
  {
   "cell_type": "markdown",
   "id": "1bf87320",
   "metadata": {},
   "source": [
    "<center>\n",
    "<img src=../images/ASSEMBLY-PGMIII/ASSEMBLY-PGMIII.026.png>\n",
    "</center>"
   ]
  },
  {
   "cell_type": "markdown",
   "id": "8e11fe22",
   "metadata": {},
   "source": [
    "<center>\n",
    "<img src=../images/ASSEMBLY-PGMIII/ASSEMBLY-PGMIII.027.png>\n",
    "</center>"
   ]
  },
  {
   "cell_type": "markdown",
   "id": "13afcda2",
   "metadata": {},
   "source": [
    "<center>\n",
    "<img src=../images/ASSEMBLY-PGMIII/ASSEMBLY-PGMIII.028.png>\n",
    "</center>"
   ]
  },
  {
   "cell_type": "markdown",
   "id": "92e6b861",
   "metadata": {},
   "source": [
    "<center>\n",
    "<img src=../images/ASSEMBLY-PGMIII/ASSEMBLY-PGMIII.029.png>\n",
    "</center>"
   ]
  },
  {
   "cell_type": "markdown",
   "id": "d446a35d",
   "metadata": {},
   "source": [
    "<center>\n",
    "<img src=../images/ASSEMBLY-PGMIII/ASSEMBLY-PGMIII.030.png>\n",
    "</center>"
   ]
  },
  {
   "cell_type": "markdown",
   "id": "edcb9a33",
   "metadata": {},
   "source": [
    "<center>\n",
    "<img src=../images/ASSEMBLY-PGMIII/ASSEMBLY-PGMIII.031.png>\n",
    "</center>"
   ]
  },
  {
   "cell_type": "markdown",
   "id": "19583645",
   "metadata": {},
   "source": [
    "<center>\n",
    "<img src=../images/ASSEMBLY-PGMIII/ASSEMBLY-PGMIII.032.png>\n",
    "</center>"
   ]
  },
  {
   "cell_type": "markdown",
   "id": "d0183614",
   "metadata": {},
   "source": [
    "<center>\n",
    "<img src=../images/ASSEMBLY-PGMIII/ASSEMBLY-PGMIII.033.png>\n",
    "</center>"
   ]
  },
  {
   "cell_type": "markdown",
   "id": "75325db6",
   "metadata": {},
   "source": [
    "<center>\n",
    "<img src=../images/ASSEMBLY-PGMIII/ASSEMBLY-PGMIII.034.png>\n",
    "</center>"
   ]
  },
  {
   "cell_type": "markdown",
   "id": "7255ef76",
   "metadata": {},
   "source": [
    "<center>\n",
    "<img src=../images/ASSEMBLY-PGMIII/ASSEMBLY-PGMIII.035.png>\n",
    "</center>"
   ]
  },
  {
   "cell_type": "markdown",
   "id": "dc3e2370",
   "metadata": {},
   "source": [
    "<center>\n",
    "<img src=../images/ASSEMBLY-PGMIII/ASSEMBLY-PGMIII.036.png>\n",
    "</center>"
   ]
  },
  {
   "cell_type": "markdown",
   "id": "1a7bf6fe",
   "metadata": {},
   "source": [
    "<center>\n",
    "<img src=../images/ASSEMBLY-PGMIII/ASSEMBLY-PGMIII.037.png>\n",
    "</center>"
   ]
  },
  {
   "cell_type": "markdown",
   "id": "68cee701",
   "metadata": {},
   "source": [
    "<center>\n",
    "<img src=../images/ASSEMBLY-PGMIII/ASSEMBLY-PGMIII.038.png>\n",
    "</center>"
   ]
  },
  {
   "cell_type": "markdown",
   "id": "aff529f8",
   "metadata": {},
   "source": [
    "<center>\n",
    "<img src=../images/ASSEMBLY-PGMIII/ASSEMBLY-PGMIII.039.png>\n",
    "</center>"
   ]
  },
  {
   "cell_type": "markdown",
   "id": "3c4cd2c0",
   "metadata": {},
   "source": [
    "<center>\n",
    "<img src=../images/ASSEMBLY-PGMIII/ASSEMBLY-PGMIII.040.png>\n",
    "</center>"
   ]
  },
  {
   "cell_type": "markdown",
   "id": "950ebb9f",
   "metadata": {},
   "source": [
    "<center>\n",
    "<img src=../images/ASSEMBLY-PGMIII/ASSEMBLY-PGMIII.041.png>\n",
    "</center>"
   ]
  },
  {
   "cell_type": "markdown",
   "id": "fcaa37e5",
   "metadata": {},
   "source": [
    "<center>\n",
    "<img src=../images/ASSEMBLY-PGMIII/ASSEMBLY-PGMIII.042.png>\n",
    "</center>"
   ]
  },
  {
   "cell_type": "markdown",
   "id": "2d32b209",
   "metadata": {},
   "source": [
    "<center>\n",
    "<img src=../images/ASSEMBLY-PGMIII/ASSEMBLY-PGMIII.043.png>\n",
    "</center>"
   ]
  },
  {
   "cell_type": "markdown",
   "id": "0a7455c8",
   "metadata": {},
   "source": [
    "<center>\n",
    "<img src=../images/ASSEMBLY-PGMIII/ASSEMBLY-PGMIII.044.png>\n",
    "</center>"
   ]
  },
  {
   "cell_type": "markdown",
   "id": "d535b110",
   "metadata": {},
   "source": [
    "<center>\n",
    "<img src=../images/ASSEMBLY-PGMIII/ASSEMBLY-PGMIII.045.png>\n",
    "</center>"
   ]
  },
  {
   "cell_type": "markdown",
   "id": "3d49a5de",
   "metadata": {},
   "source": [
    "<center>\n",
    "<img src=../images/ASSEMBLY-PGMIII/ASSEMBLY-PGMIII.046.png>\n",
    "</center>"
   ]
  },
  {
   "cell_type": "markdown",
   "id": "5181969e",
   "metadata": {},
   "source": [
    "<center>\n",
    "<img src=../images/ASSEMBLY-PGMIII/ASSEMBLY-PGMIII.047.png>\n",
    "</center>"
   ]
  },
  {
   "cell_type": "markdown",
   "id": "9d7d188b",
   "metadata": {},
   "source": [
    "<center>\n",
    "<img src=../images/ASSEMBLY-PGMIII/ASSEMBLY-PGMIII.048.png>\n",
    "</center>"
   ]
  },
  {
   "cell_type": "markdown",
   "id": "4d9bb20e",
   "metadata": {},
   "source": [
    "<center>\n",
    "<img src=../images/ASSEMBLY-PGMIII/ASSEMBLY-PGMIII.049.png>\n",
    "</center>"
   ]
  },
  {
   "cell_type": "markdown",
   "id": "4bc758ab",
   "metadata": {},
   "source": [
    "<center>\n",
    "<img src=../images/ASSEMBLY-PGMIII/ASSEMBLY-PGMIII.050.png>\n",
    "</center>"
   ]
  },
  {
   "cell_type": "markdown",
   "id": "4663d5ab",
   "metadata": {},
   "source": [
    "<center>\n",
    "<img src=../images/ASSEMBLY-PGMIII/ASSEMBLY-PGMIII.051.png>\n",
    "</center>"
   ]
  },
  {
   "cell_type": "markdown",
   "id": "07b83363",
   "metadata": {},
   "source": [
    "<center>\n",
    "<img src=../images/ASSEMBLY-PGMIII/ASSEMBLY-PGMIII.052.png>\n",
    "</center>"
   ]
  },
  {
   "cell_type": "markdown",
   "id": "93be4d3a",
   "metadata": {},
   "source": [
    "<center>\n",
    "<img src=../images/ASSEMBLY-PGMIII/ASSEMBLY-PGMIII.053.png>\n",
    "</center>"
   ]
  },
  {
   "cell_type": "markdown",
   "id": "cde34e4e",
   "metadata": {},
   "source": [
    "<center>\n",
    "<img src=../images/ASSEMBLY-PGMIII/ASSEMBLY-PGMIII.054.png>\n",
    "</center>"
   ]
  },
  {
   "cell_type": "markdown",
   "id": "a630b070",
   "metadata": {},
   "source": [
    "<center>\n",
    "<img src=../images/ASSEMBLY-PGMIII/ASSEMBLY-PGMIII.055.png>\n",
    "</center>"
   ]
  },
  {
   "cell_type": "markdown",
   "id": "f2e6782d",
   "metadata": {},
   "source": [
    "<center>\n",
    "<img src=../images/ASSEMBLY-PGMIII/ASSEMBLY-PGMIII.056.png>\n",
    "</center>"
   ]
  },
  {
   "cell_type": "markdown",
   "id": "e3de5974",
   "metadata": {},
   "source": [
    "<center>\n",
    "<img src=../images/ASSEMBLY-PGMIII/ASSEMBLY-PGMIII.057.png>\n",
    "</center>"
   ]
  },
  {
   "cell_type": "markdown",
   "id": "cf577830",
   "metadata": {},
   "source": [
    "<center>\n",
    "<img src=../images/ASSEMBLY-PGMIII/ASSEMBLY-PGMIII.058.png>\n",
    "</center>"
   ]
  },
  {
   "cell_type": "markdown",
   "id": "f64c722c",
   "metadata": {},
   "source": [
    "<center>\n",
    "<img src=../images/ASSEMBLY-PGMIII/ASSEMBLY-PGMIII.059.png>\n",
    "</center>"
   ]
  },
  {
   "cell_type": "markdown",
   "id": "0871c92f",
   "metadata": {},
   "source": [
    "<center>\n",
    "<img src=../images/ASSEMBLY-PGMIII/ASSEMBLY-PGMIII.060.png>\n",
    "</center>"
   ]
  },
  {
   "cell_type": "markdown",
   "id": "4938993b",
   "metadata": {},
   "source": [
    "<center>\n",
    "<img src=../images/ASSEMBLY-PGMIII/ASSEMBLY-PGMIII.061.png>\n",
    "</center>"
   ]
  },
  {
   "cell_type": "markdown",
   "id": "9a596764",
   "metadata": {},
   "source": [
    "<center>\n",
    "<img src=../images/ASSEMBLY-PGMIII/ASSEMBLY-PGMIII.062.png>\n",
    "</center>"
   ]
  },
  {
   "cell_type": "markdown",
   "id": "08357be7",
   "metadata": {},
   "source": [
    "<center>\n",
    "<img src=../images/ASSEMBLY-PGMIII/ASSEMBLY-PGMIII.063.png>\n",
    "</center>"
   ]
  },
  {
   "cell_type": "markdown",
   "id": "19d6ce1b",
   "metadata": {},
   "source": [
    "<center>\n",
    "<img src=../images/ASSEMBLY-PGMIII/ASSEMBLY-PGMIII.064.png>\n",
    "</center>"
   ]
  },
  {
   "cell_type": "markdown",
   "id": "82f3e144",
   "metadata": {},
   "source": [
    "<center>\n",
    "<img src=../images/ASSEMBLY-PGMIII/ASSEMBLY-PGMIII.065.png>\n",
    "</center>"
   ]
  },
  {
   "cell_type": "markdown",
   "id": "74cd0895",
   "metadata": {},
   "source": [
    "<center>\n",
    "<img src=../images/ASSEMBLY-PGMIII/ASSEMBLY-PGMIII.066.png>\n",
    "</center>"
   ]
  },
  {
   "cell_type": "markdown",
   "id": "5c070adb",
   "metadata": {},
   "source": [
    "<center>\n",
    "<img src=../images/ASSEMBLY-PGMIII/ASSEMBLY-PGMIII.067.png>\n",
    "</center>"
   ]
  },
  {
   "cell_type": "markdown",
   "id": "e8250406",
   "metadata": {},
   "source": [
    "<center>\n",
    "<img src=../images/ASSEMBLY-PGMIII/ASSEMBLY-PGMIII.068.png>\n",
    "</center>"
   ]
  },
  {
   "cell_type": "markdown",
   "id": "cd3686de",
   "metadata": {},
   "source": [
    "<center>\n",
    "<img src=../images/ASSEMBLY-PGMIII/ASSEMBLY-PGMIII.069.png>\n",
    "</center>"
   ]
  },
  {
   "cell_type": "markdown",
   "id": "fb24f5f9",
   "metadata": {},
   "source": [
    "<center>\n",
    "<img src=../images/ASSEMBLY-PGMIII/ASSEMBLY-PGMIII.070.png>\n",
    "</center>"
   ]
  },
  {
   "cell_type": "markdown",
   "id": "74674457",
   "metadata": {},
   "source": [
    "<center>\n",
    "<img src=../images/ASSEMBLY-PGMIII/ASSEMBLY-PGMIII.071.png>\n",
    "</center>"
   ]
  },
  {
   "cell_type": "markdown",
   "id": "505f6f34",
   "metadata": {},
   "source": [
    "<center>\n",
    "<img src=../images/ASSEMBLY-PGMIII/ASSEMBLY-PGMIII.072.png>\n",
    "</center>"
   ]
  },
  {
   "cell_type": "code",
   "execution_count": null,
   "id": "4f826f38",
   "metadata": {},
   "outputs": [],
   "source": []
  }
 ],
 "metadata": {
  "hide_input": false,
  "kernelspec": {
   "display_name": "Python 3 (ipykernel)",
   "language": "python",
   "name": "python3"
  },
  "language_info": {
   "codemirror_mode": {
    "name": "ipython",
    "version": 3
   },
   "file_extension": ".py",
   "mimetype": "text/x-python",
   "name": "python",
   "nbconvert_exporter": "python",
   "pygments_lexer": "ipython3",
   "version": "3.9.6"
  },
  "rise": {
   "autolaunch": false,
   "enable_chalkboard": true,
   "footer": "UC-SLS -- Lecture 11",
   "header": "Assembly: Program Anatomy II",
   "height": "100%",
   "scroll": true,
   "start_slideshow_at": "selected",
   "theme": "black",
   "transition": "none",
   "width": "100%"
  }
 },
 "nbformat": 4,
 "nbformat_minor": 5
}
