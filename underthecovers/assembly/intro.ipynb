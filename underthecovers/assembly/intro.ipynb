{
 "cells": [
  {
   "cell_type": "markdown",
   "id": "102ff03c-cd20-4899-b09a-e1c592b0e853",
   "metadata": {},
   "source": [
    "# Introduction\n",
    "\n",
    " <font size=\"5\">\n",
    "Assembly Programming, directing the computer in what it should do, means writing code in the language that the hardware of the computer understands -- or at least very close to it. \n",
    "\n",
    "![pgmview](../images/210-3.1-1.pdf)\n",
    "    \n",
    "Most programmers are completely unaware of how the computer really works as the languages that they program in are not natively supported by the hardware.  Rather, most languages, such as JavaScript, Java, Python, Ruby, Rust, C#, C++, and even C must be translated into the native code that the computer does understand -- machine code.  \n",
    "    \n",
    "## Machine Code\n",
    "   \n",
    "The hardware of the computer is built out of electical components that can store and interpret patterns of  bits, binary digits.  A single bit can be though of as a switch that can be in two positions \"ON\" -- 1  and \"OFF\" -- 0.  A group of eight bits forms a byte.  We will say  a lot more about bytes  a little later.  The main thing to observe is that a byte is easily expressed as an 8 digit binary, (base 2), number.  Given that there are 8 bits a byte can take on \n",
    "    \n",
    "    $ 2^8=256 $ unique values ranging from $00000000$ to $11111111$\n",
    "    \n",
    "Machine code is a binary code -- meaning that binary values are used to encoded the operations and values that make up a program.   The following table illustrates part of the machine code of a MOS 6502 Centeral Processing Unit (CPU) which has a very simple machine code.\n",
    "    \n",
    "    \n",
    "> The 6502 was designed and first built in 1975 but continues to be used today.  Given its simplicity we will often use it to first get our heads around an idea before looking at more complex examples.    \n",
    "    \n",
    "    \n",
    "    \n",
    "    \n",
    "## Assembly Code\n",
    "Assembly code is a a slighly more generic code that humans use rather than programming direcly in machine code.  Machine code must be expressed purely in numbers but assembly code uses structued text that can be easily translated by a set of tools into the equvalent machine code. \n",
    "    \n",
    "\n",
    "</font>"
   ]
  },
  {
   "cell_type": "code",
   "execution_count": null,
   "id": "dbc51630-8eb3-4809-bb14-95f9fd193e84",
   "metadata": {},
   "outputs": [],
   "source": []
  }
 ],
 "metadata": {
  "kernelspec": {
   "display_name": "Python 3",
   "language": "python",
   "name": "python3"
  },
  "language_info": {
   "codemirror_mode": {
    "name": "ipython",
    "version": 3
   },
   "file_extension": ".py",
   "mimetype": "text/x-python",
   "name": "python",
   "nbconvert_exporter": "python",
   "pygments_lexer": "ipython3",
   "version": "3.8.5"
  }
 },
 "nbformat": 4,
 "nbformat_minor": 5
}
