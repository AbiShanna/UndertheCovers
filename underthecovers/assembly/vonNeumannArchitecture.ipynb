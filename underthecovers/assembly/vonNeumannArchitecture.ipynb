{
 "cells": [
  {
   "cell_type": "markdown",
   "id": "d728d8f2-92ec-4ec3-b0b9-cfe8924dca1b",
   "metadata": {},
   "source": [
    "# The von Neumman Architecture\n",
    "\n",
    "As we saw in the [introduction](./intro.ipynb) assembly code directly maps to the native machine code of a computer.  As such the assembly instructions directly allow a programmer to use and control the basic functions of the computer in order to get the computer to do what they want.   Whether that is to search or sort an array of numbers, play a music file or some other task.   \n",
    "\n",
    "But to understand assembly programming we have to learn what the basic parts are of any computer and how they work so we can understand what the assembly instructions allow us to do.    This is why understanding how computers and software work are one in the same as learning assembly programming. \n",
    "\n",
    "Despite the fact that there are many different manufactures of computers they all largly share a basic common structure.  We call the generic components, their organization and the way they interact the architecture of a machine.  In our case the common architecture to which most programmable computers are built around is that of the von Neumman Architecture named after [John von Neumann](https://en.wikipedia.org/wiki/John_von_Neumann).\n",
    "> In our journey to understand computers we will be exploring a fascinating story of human innovation and ingenuity.  This story is full of characters, such as John von Neumman, Alan Turning, Admiral Grace Hopper, Ada Love Lace, and many more, that dared to be and think differently.  Not only do we owe a great deal of gratitude to these courageous people, who often risked a lot in suggesting new ways of thinking and doing things, challenging the orthodoxy of their day, we can also draw inspiration in their diversity and bravery. Remember who you are and that your voice matters, tomorrows innovation rests on your actions!  \n",
    "\n",
    "\n",
    "\n",
    "## The Parts\n",
    "\n",
    "\n",
    "\n",
    "## The Loop -- Program Execution\n",
    "\n",
    "\n",
    "\n",
    "\n",
    "\n",
    "\n"
   ]
  },
  {
   "cell_type": "code",
   "execution_count": null,
   "id": "7d74d714-e9e5-47cf-b5ee-5a3affc6c213",
   "metadata": {},
   "outputs": [],
   "source": []
  }
 ],
 "metadata": {
  "kernelspec": {
   "display_name": "Python 3",
   "language": "python",
   "name": "python3"
  },
  "language_info": {
   "codemirror_mode": {
    "name": "ipython",
    "version": 3
   },
   "file_extension": ".py",
   "mimetype": "text/x-python",
   "name": "python",
   "nbconvert_exporter": "python",
   "pygments_lexer": "ipython3",
   "version": "3.9.2"
  }
 },
 "nbformat": 4,
 "nbformat_minor": 5
}
