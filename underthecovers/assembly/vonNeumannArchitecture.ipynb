{
 "cells": [
  {
   "cell_type": "markdown",
   "id": "d728d8f2-92ec-4ec3-b0b9-cfe8924dca1b",
   "metadata": {},
   "source": [
    "# The Von Neumman Architecture\n",
    "\n",
    "Since [assembly code](./intro.ipynb) directly maps to the native machine code of a computer the assembly instructions are all about directly using and controlling the basic functions of the computer in order to get it to do what you want.   Whether that is to search or sort an array of numbers, play a music file or some other task.   \n",
    "\n",
    "To understand assembly programming we have to learn what the basic parts are of any computer and how they work so we can understand what the assembly instructions allow us to do.    This is why understanding how computers and software work are one in the same as learning assembly programming. \n",
    "\n",
    "Despite the fact that there are many different manufactures of computers they all largly share a basic common structure.  We call the generic components, their organization and the way they interact the architecture.  \n",
    "\n",
    "\n",
    "\n",
    "## The Parts\n",
    "\n",
    "\n",
    "\n",
    "## How they work together : The Loop\n",
    "\n",
    "\n",
    "\n",
    "\n"
   ]
  },
  {
   "cell_type": "code",
   "execution_count": null,
   "id": "7d74d714-e9e5-47cf-b5ee-5a3affc6c213",
   "metadata": {},
   "outputs": [],
   "source": []
  }
 ],
 "metadata": {
  "kernelspec": {
   "display_name": "Python 3",
   "language": "python",
   "name": "python3"
  },
  "language_info": {
   "codemirror_mode": {
    "name": "ipython",
    "version": 3
   },
   "file_extension": ".py",
   "mimetype": "text/x-python",
   "name": "python",
   "nbconvert_exporter": "python",
   "pygments_lexer": "ipython3",
   "version": "3.9.2"
  }
 },
 "nbformat": 4,
 "nbformat_minor": 5
}
