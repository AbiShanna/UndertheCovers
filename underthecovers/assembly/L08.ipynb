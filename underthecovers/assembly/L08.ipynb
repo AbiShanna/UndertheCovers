{
 "cells": [
  {
   "cell_type": "code",
   "execution_count": null,
   "id": "2345dc08",
   "metadata": {
    "hide_input": true,
    "slideshow": {
     "slide_type": "skip"
    }
   },
   "outputs": [],
   "source": [
    "%run -i ../python/common.py\n",
    "%run -i ../python/ln_preamble.py"
   ]
  },
  {
   "cell_type": "markdown",
   "id": "51a060fe-6e14-4c42-a0b0-8e78177af2ae",
   "metadata": {
    "slideshow": {
     "slide_type": "slide"
    }
   },
   "source": [
    "# SLS Lecture 8 :  Writing some simple assembly programs\n",
    "\n"
   ]
  },
  {
   "cell_type": "markdown",
   "id": "4b25aea3",
   "metadata": {
    "slideshow": {
     "slide_type": "slide"
    }
   },
   "source": [
    "Spend some time writing some very simple assembly programs and learn to use the debugger so that we have enough skills to explore how things work.    We will be repeat various things in more detail in future lectures."
   ]
  },
  {
   "cell_type": "markdown",
   "id": "5956b5f3",
   "metadata": {
    "hide_input": true,
    "slideshow": {
     "slide_type": "slide"
    }
   },
   "source": [
    "- Write `popcnt` in assemble code \n",
    "  - use gdb to play with the popcnt program\n",
    "- Write a simple `add` in assembly code\n",
    "  - use gdb to play with the add program\n",
    "    - using the cpu as a glorified calculator \n",
    "      - first pass at CPU support for \"numbers\" \n",
    "- What happens if we let our programs continue\n",
    "  - how do we successfully \"halt/end\" our execution \n",
    "    - `int3` trap \n",
    "       - tells OS to return control to debugger   \n",
    "    - more generally how can we make a Kernel/System Call\n",
    "  - revisit `add` programs adding exits  \n",
    "    - `int3`\n",
    "    - `exit` syscall\n",
    "- Implicitly use our shell, editor, Make and Git knowledge to do the above\n"
   ]
  },
  {
   "cell_type": "markdown",
   "id": "6fd3e7ba",
   "metadata": {
    "slideshow": {
     "slide_type": "slide"
    }
   },
   "source": [
    "## Writing a `popcnt` assembly program\n",
    "\n",
    "- Write a one instruction assembly program \n",
    "  1. first using .byte \n",
    "  2. using intel assembly instruction  \n",
    "- Use gdb to explore how this instruction works\n",
    "  - learn to use gdb to set register values\n",
    "  - and how to execute and re-execute an instruction"
   ]
  },
  {
   "cell_type": "code",
   "execution_count": null,
   "id": "0b33bed4",
   "metadata": {
    "cell_style": "center",
    "hide_input": false,
    "slideshow": {
     "slide_type": "slide"
    }
   },
   "outputs": [],
   "source": [
    "display(Markdown(FileCodeBox(\n",
    "    file=\"../src/popcnt_bb.S\", \n",
    "    lang=\"gas\", \n",
    "    title=\"<b>CODE: asm - The 'popcnt' assembly program\",\n",
    "    h=\"100%\", \n",
    "    w=\"107em\"\n",
    ")))"
   ]
  },
  {
   "cell_type": "code",
   "execution_count": null,
   "id": "9824380d",
   "metadata": {
    "hide_input": true,
    "slideshow": {
     "slide_type": "skip"
    }
   },
   "outputs": [],
   "source": [
    "display(Markdown('''\n",
    "Here is a fully commented version of the same code.\n",
    "'''))\n",
    "display(Markdown(FileCodeBox(\n",
    "    file=\"../src/popcnt.S\", \n",
    "    lang=\"gas\", \n",
    "    title=\"<b>CODE: asm - The commented 'popcnt' assembly program\",\n",
    "    h=\"100%\", \n",
    "    w=\"107em\"\n",
    ")))"
   ]
  },
  {
   "cell_type": "code",
   "execution_count": null,
   "id": "14669020",
   "metadata": {
    "cell_style": "center",
    "hide_input": true,
    "slideshow": {
     "slide_type": "-"
    },
    "tags": [
     "remove-cell"
    ]
   },
   "outputs": [],
   "source": [
    "display(showET(\"Editor\"))"
   ]
  },
  {
   "cell_type": "code",
   "execution_count": null,
   "id": "bc233888",
   "metadata": {},
   "outputs": [],
   "source": []
  },
  {
   "cell_type": "markdown",
   "id": "75d38c74",
   "metadata": {
    "cell_style": "center",
    "hide_input": false,
    "slideshow": {
     "slide_type": "notes"
    }
   },
   "source": [
    "We can use the `.byte` directive to set the values in memory to anything we like \n",
    "eg.\n",
    "\n",
    "``` gas\n",
    "     .byte 0xF3, 0x48, 0x0F, 0xB8, 0xD8  // popcnt rax,rbx\n",
    "```\n",
    "\n",
    "But of course the real value s that we could have also simply written\n",
    "\n",
    "``` gas\n",
    "       popcnt rax, rbx          // ok the single intel opcode (instruction) that makes up\n",
    "                                // our program\n",
    "```\n"
   ]
  },
  {
   "cell_type": "code",
   "execution_count": null,
   "id": "16f358c7",
   "metadata": {
    "cell_style": "split",
    "hide_input": false,
    "tags": [
     "remove-cell"
    ]
   },
   "outputs": [],
   "source": [
    "display(showBT(\"Build\"))"
   ]
  },
  {
   "cell_type": "code",
   "execution_count": null,
   "id": "5d5022d8",
   "metadata": {
    "cell_style": "split",
    "hide_input": false,
    "tags": [
     "remove-input"
    ]
   },
   "outputs": [],
   "source": [
    "display(Markdown(FileCodeBox(\n",
    "    file=\"popcnt_build.sh\", \n",
    "    lang=\"shell\", \n",
    "    title=\"<b>NOTES: on building popcnt\", \n",
    "    h=\"15em\", \n",
    "    w=\"40em\")))"
   ]
  },
  {
   "cell_type": "code",
   "execution_count": null,
   "id": "ac59b7fc",
   "metadata": {
    "hide_input": true,
    "tags": [
     "remove-cell"
    ]
   },
   "outputs": [],
   "source": [
    "display(showDT(\"Debugger\"))"
   ]
  },
  {
   "cell_type": "code",
   "execution_count": null,
   "id": "83fbbda7",
   "metadata": {
    "hide_input": false,
    "slideshow": {
     "slide_type": "-"
    },
    "tags": [
     "remove-input"
    ]
   },
   "outputs": [],
   "source": [
    "display(Markdown(FileCodeBox(\n",
    "    file=\"popcnt_gdb.txt\", \n",
    "    lang=\"shell\", \n",
    "    title=\"\", \n",
    "    h=\"4em\", \n",
    "    w=\"100%\")))"
   ]
  },
  {
   "cell_type": "markdown",
   "id": "17b36124",
   "metadata": {
    "slideshow": {
     "slide_type": "slide"
    }
   },
   "source": [
    "## Writing an `add` assembly program\n",
    "\n",
    "- re-enforce the steps to creating and debugging an assembly program\n",
    "  - begin to explore CPU support for working with \"numbers\"\n",
    "    - cpu as a calculator"
   ]
  },
  {
   "cell_type": "code",
   "execution_count": null,
   "id": "bfccb48e",
   "metadata": {
    "cell_style": "center",
    "hide_input": true,
    "tags": [
     "remove-input"
    ]
   },
   "outputs": [],
   "source": [
    "display(Markdown(FileCodeBox(\n",
    "    file=\"../src/add.S\", \n",
    "    lang=\"gas\", \n",
    "    title=\"\",\n",
    "    h=\"100%\", \n",
    "    w=\"107em\"\n",
    ")))"
   ]
  },
  {
   "cell_type": "code",
   "execution_count": null,
   "id": "ca85b1bc",
   "metadata": {
    "cell_style": "center",
    "hide_input": true,
    "tags": [
     "remove-cell"
    ]
   },
   "outputs": [],
   "source": [
    "display(showET(\"Editor\"))"
   ]
  },
  {
   "cell_type": "markdown",
   "id": "78012a39",
   "metadata": {
    "slideshow": {
     "slide_type": "notes"
    }
   },
   "source": [
    "- Lets work with the `add` instruction in a similar way that we did with `popcnt`\n",
    "- explore the results of adding with binary, hex, unsigned and signed values\n",
    "- explore overflow\n",
    "\n",
    "- then make the program a little more complex:\n",
    "``` gas\n",
    "  movabs rbx, 0xdeadbeefdeadbeef\n",
    "  mov    rax, 1\n",
    "  add    rax, rbx\n",
    "```\n",
    "\n",
    "- lets use some more cool features of the intel instruction set\n",
    "``` gas\n",
    "  rdrand rbx                \n",
    "  mov    rax, 1\n",
    "  add    rax, rbx\n",
    "  popcnt rbx, rax\n",
    "```\n",
    "- lets get a brief glimpse at how to use memory locations for the value\n",
    "``` gas\n",
    "        .intel_syntax noprefix\n",
    "        .data\n",
    "x:       .quad 142\n",
    "y:       .quad 4200\n",
    "sum:     .quad\n",
    "\n",
    "        .text\n",
    "        .global _start\n",
    "_start:\n",
    "        mov rax, QWORD PTR x\n",
    "        add rax, QWORD PTR y\n",
    "        mov QWORD PTR sum, rax\n",
    "        int3\n",
    "```\n",
    "  \n",
    "  \n",
    "- try replacing add with `imul`, `and`, `or`, `xor`\n",
    "\n"
   ]
  },
  {
   "cell_type": "code",
   "execution_count": null,
   "id": "08af8038",
   "metadata": {
    "cell_style": "split",
    "hide_input": true,
    "tags": [
     "remove-cell"
    ]
   },
   "outputs": [],
   "source": [
    "display(showBT())"
   ]
  },
  {
   "cell_type": "code",
   "execution_count": null,
   "id": "38961c78",
   "metadata": {
    "cell_style": "split",
    "hide_input": true,
    "tags": [
     "remove-input"
    ]
   },
   "outputs": [],
   "source": [
    "display(Markdown(FileCodeBox(\n",
    "    file=\"add_build.sh\", \n",
    "    lang=\"shell\", \n",
    "    title=\"<b>NOTES: on building add\", \n",
    "    h=\"15em\", \n",
    "    w=\"40em\")))"
   ]
  },
  {
   "cell_type": "code",
   "execution_count": null,
   "id": "0ce5d642",
   "metadata": {
    "hide_input": false,
    "tags": [
     "remove-cell"
    ]
   },
   "outputs": [],
   "source": [
    "display(showDT())"
   ]
  },
  {
   "cell_type": "code",
   "execution_count": null,
   "id": "b68966d9",
   "metadata": {
    "hide_input": true,
    "tags": [
     "remove-input"
    ]
   },
   "outputs": [],
   "source": [
    "display(Markdown(FileCodeBox(\n",
    "    file=\"add_gdb.txt\", \n",
    "    lang=\"shell\", \n",
    "    title=\"\", \n",
    "    h=\"4em\", \n",
    "    w=\"100%\")))"
   ]
  },
  {
   "cell_type": "markdown",
   "id": "66079a54",
   "metadata": {
    "slideshow": {
     "slide_type": "slide"
    }
   },
   "source": [
    "## Ending / Exiting our Program/Process\n",
    "\n",
    "- What happens if we run our programs outside of the debugger?\n",
    "  - why does this happen?"
   ]
  },
  {
   "cell_type": "code",
   "execution_count": null,
   "id": "cd20799b",
   "metadata": {
    "hide_input": false,
    "tags": [
     "remove-cell"
    ]
   },
   "outputs": [],
   "source": [
    "display(showET())"
   ]
  },
  {
   "cell_type": "code",
   "execution_count": null,
   "id": "128bed3a",
   "metadata": {
    "hide_input": true,
    "tags": [
     "remove-cell"
    ]
   },
   "outputs": [],
   "source": [
    "display(showBT())"
   ]
  },
  {
   "cell_type": "code",
   "execution_count": null,
   "id": "c5d39dd7",
   "metadata": {
    "hide_input": false,
    "tags": [
     "remove-cell"
    ]
   },
   "outputs": [],
   "source": [
    "display(showDT())"
   ]
  },
  {
   "cell_type": "markdown",
   "id": "bdd19440",
   "metadata": {},
   "source": [
    "### How can we avoid this\n",
    "\n",
    "1. TRAP: Use an instruction that tells the OS to \n",
    "    - stop the process and give control back to the debuggger\n",
    "    - if no debugger is running just kill process and signal shell\n",
    "        - Instruction: `int3`: \n",
    "        - Opcode: `0xCC` \n",
    "        - Description: `Interrupt 3 — trap to debugger`\n",
    "2. Call OS Kernel Exit Process call\n",
    "    - This is an example of calling an OS Kernel call to have the kernel do something for your process\n",
    "    - We will look at this more but for the moment here is what is necessary to call `exit`\n",
    "       - pass return value to Kernel \n",
    "       - exit/terminate process"
   ]
  },
  {
   "cell_type": "code",
   "execution_count": null,
   "id": "9b850b7f",
   "metadata": {
    "hide_input": false,
    "slideshow": {
     "slide_type": "-"
    },
    "tags": [
     "remove-input"
    ]
   },
   "outputs": [],
   "source": [
    "display(Markdown(FileCodeBox(\n",
    "    file=\"../src/exit_bb_bb.S\", \n",
    "    lang=\"gas\", \n",
    "    title=\"\",\n",
    "    h=\"100%\", \n",
    "    w=\"107em\"\n",
    ")))"
   ]
  },
  {
   "cell_type": "code",
   "execution_count": null,
   "id": "535680f7",
   "metadata": {
    "hide_input": true,
    "slideshow": {
     "slide_type": "notes"
    },
    "tags": [
     "remove-input"
    ]
   },
   "outputs": [],
   "source": [
    "display(Markdown(\n",
    "'''\n",
    "A commented version that avoids \"magic\" numbers. \n",
    "'''    +\n",
    "    \n",
    "    FileCodeBox(\n",
    "    file=\"../src/exit.S\", \n",
    "    lang=\"gas\", \n",
    "    title=\"\",\n",
    "    h=\"100%\", \n",
    "    w=\"107em\"\n",
    ")))"
   ]
  }
 ],
 "metadata": {
  "celltoolbar": "Tags",
  "hide_input": true,
  "kernelspec": {
   "display_name": "Python 3 (ipykernel)",
   "language": "python",
   "name": "python3"
  },
  "language_info": {
   "codemirror_mode": {
    "name": "ipython",
    "version": 3
   },
   "file_extension": ".py",
   "mimetype": "text/x-python",
   "name": "python",
   "nbconvert_exporter": "python",
   "pygments_lexer": "ipython3",
   "version": "3.9.6"
  },
  "rise": {
   "autolaunch": false,
   "enable_chalkboard": true,
   "footer": "UC-SLS -- Lecture 7",
   "header": "Assembly: Writing some simple Assembly Programs",
   "height": "100%",
   "scroll": true,
   "start_slideshow_at": "selected",
   "theme": "black",
   "transition": "none",
   "width": "100%"
  }
 },
 "nbformat": 4,
 "nbformat_minor": 5
}
