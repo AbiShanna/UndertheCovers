{
 "cells": [
  {
   "cell_type": "markdown",
   "metadata": {},
   "source": [
    "# UNIX  -- An operating System Built by Programmers for Programmers\n",
    "\n",
    "The UNIX operating system was built by master programmers who valued programmablity and productivity.  In some sense learning to work on the UNIX systems is a right of passage that not only teaches you how to be productive on a computer runnig the UNIX operating system but teaching you to think and act like a programmer.\n",
    "\n",
    "## The Shell -- Progammable Interface to the computer\n",
    "\n",
    "Given its history and programmer bent UNIX's primary interface -- or way of interacting with it to get things done is a program called the \"shell\".  In the following sections we will introduce various aspects of the shell, UNIX and fundamental ideas common to all modern operating systems.    \n",
    "\n",
    "### Getting started -- The Terminal and this book\n",
    "\n",
    "To work with a UNIX computer you must establish, one way or another, a plain text (ASCII) interactive session. \n",
    "We will learn what ASCII is later... for the moment is away of entering and displaying the basic english characters, numeric digits, and standard punctuation.  \n",
    "\n",
    "To do this you must start a \"Terminal\" session.  A \"Terminal\" is an ASCII application that is designed to accept characters from your keyboard and send them to a program and similarly characters sent from the remote program will be displayed by the terminal program for you to read.  \n",
    "\n",
    "On Windows you can start a terminal by using the PowerShell program and on OSX you can use the Terminal Application.  \n",
    "\n",
    "The next step, after starting a terminal emulator, is to connect it to a computer running UNIX. Today we typically use a program called `ssh` to establish this connection. Both Windows and OSX come with `ssh` that you can invoke from within the terminal.   `ssh` takes a hostname of the computer as an arugment and then uses network protocols to establish a terminal connection to the specified computer.   In response to establishing the connection the UNIX computer will prompt you to identify yourself with your username and password.  This is called logging.\n",
    "\n",
    "Uppon succesfully logging in the remote UNIX computer will start a shell programming running for you and from that point on anything you do or see in that terminal window is going to or coming from that remote computer.   So that terminal connection is actually a window into another computer!  You can start more windows to create more concurrent connections to the same or other remote computers.  Doing so can be very useful to improve your productivity.  \n",
    "\n",
    "However to make life a little easier in this book we use features of Jupyter to both create terminal sessions and establish connections to a UNIX computer from within the pages of the book themselves.  This allows you to directly and immediately explore the things we discuss.\n",
    "\n",
    "We do encourage you to poke around outside of this book using a terminal emulator and ssh to get a better feel for what is actually happening and so that you can have more control.  In the 'real world' (and in later classes) you will be expected to understand how to use your personal computers, tablets and even phones to establish terminal connections to other computers and know how to get work done on them."
   ]
  },
  {
   "cell_type": "code",
   "execution_count": 7,
   "metadata": {},
   "outputs": [
    {
     "data": {
      "text/html": [
       "\n",
       "        <iframe\n",
       "            width=\"800\"\n",
       "            height=\"400\"\n",
       "            src=\"http://localhost:8888/terminals/1\"\n",
       "            frameborder=\"0\"\n",
       "            allowfullscreen\n",
       "        ></iframe>\n",
       "        "
      ],
      "text/plain": [
       "<IPython.lib.display.IFrame at 0x7f10d441c8e0>"
      ]
     },
     "execution_count": 7,
     "metadata": {},
     "output_type": "execute_result"
    }
   ],
   "source": [
    "from IPython.display import IFrame\n",
    "IFrame('http://localhost:8888/terminals/1', 800, 400)"
   ]
  },
  {
   "cell_type": "markdown",
   "metadata": {},
   "source": [
    "### Command Line Anatomy\n",
    "\n",
    "Our interactions with the shell are \"line oriented\".\n",
    "That is to say that once we are connected to the shell it will be waiting for us to enter a command.\n",
    "To indicate this it will print a \"prompt\" at the beginning of a line.  Cannonically the prompt is often  (If you are intested you can lookup how to customize the prompt to something you prefer)\n",
    "\n",
    "Commands are a plain text \"key\" words that the shell will \"execute\" for us.\n",
    "To get the shell to do something we enter the command along with any arguments and modifies and then press \n",
    "enter or return key to terminate the line and submit it to the shell.  At this point the shell will analyize the line we entered and will execute the command it it can.\n",
    "\n",
    "If we like we can place multiple commands to execute one after the other on a line by seperating them with a semicolon.  `;`"
   ]
  },
  {
   "cell_type": "markdown",
   "metadata": {},
   "source": [
    "### echo -- printing something to the sceen\n",
    "\n",
    "Perhaps the most basic command that we can issue to the shell is the `echo` comand.  `echo` allows us to print a message.  For the moment this might seem like a silly command but later we will see that the shell is not just designed to be an interactive interface but also a powerful programming language that we can use to quickly automate things and construct our own commands out of the exiting ones."
   ]
  },
  {
   "cell_type": "code",
   "execution_count": 3,
   "metadata": {
    "scrolled": true
   },
   "outputs": [
    {
     "name": "stdout",
     "output_type": "stream",
     "text": [
      "Hello World\n"
     ]
    }
   ],
   "source": [
    "echo \"Hello World\""
   ]
  },
  {
   "cell_type": "markdown",
   "metadata": {},
   "source": [
    "### comments -- Ignoring everthing else  \n",
    "\n",
    "Another very trival thing we can do is tell the shell to ignore every thing else on the line using the comment character.  In bash this character is the hash character `#`.  A line with the `#` at the beginning of it will be ignored complete and as such there will be no output from it and the shell will simply print out prompt on the next newline."
   ]
  },
  {
   "cell_type": "code",
   "execution_count": 2,
   "metadata": {},
   "outputs": [],
   "source": [
    "# this is a comment"
   ]
  },
  {
   "cell_type": "code",
   "execution_count": 3,
   "metadata": {},
   "outputs": [
    {
     "name": "stdout",
     "output_type": "stream",
     "text": [
      "Hello World\n"
     ]
    }
   ],
   "source": [
    "echo \"Hello World\"  # we can use echo to print to the screen"
   ]
  },
  {
   "cell_type": "markdown",
   "metadata": {},
   "source": [
    "The first example above the `#` at the beginning of the line causes the shell to ignore everything else on the line.  In second example we see that the shell ignores everthing after the # but continues to execute what preceeds it."
   ]
  },
  {
   "cell_type": "markdown",
   "metadata": {},
   "source": [
    "### ls -- listing the contents of a directory\n",
    "\n",
    "With no additional arguments the `ls` command will print out the contents of the current working directory.  That is to say it will print the names of the files and directories that are contained in the current directory."
   ]
  },
  {
   "cell_type": "code",
   "execution_count": 10,
   "metadata": {},
   "outputs": [
    {
     "name": "stdout",
     "output_type": "stream",
     "text": [
      "bash_kernel.aUriVrVN2o\n",
      "\u001b[0m\u001b[01;34mhsperfdata_root\u001b[0m\n",
      "\u001b[01;34mscoped_dirEHDWbl\u001b[0m\n",
      "\u001b[01;34mscoped_dirVmk8fn\u001b[0m\n",
      "\u001b[01;34mscoped_dirZ2oLWl\u001b[0m\n",
      "\u001b[01;34mscoped_dirsWBbdo\u001b[0m\n",
      "\u001b[01;34mscoped_dirz1mf7m\u001b[0m\n",
      "\u001b[01;34msnap.lxd\u001b[0m\n",
      "\u001b[01;34mssh-KlVWu2GAr5\u001b[0m\n",
      "\u001b[01;34mssh-yW1fSoZwU9\u001b[0m\n",
      "\u001b[01;34msystemd-private-8682cf5a4d3245ca9989fe528c047ad1-ModemManager.service-Dg0Lmh\u001b[0m\n",
      "\u001b[01;34msystemd-private-8682cf5a4d3245ca9989fe528c047ad1-switcheroo-control.service-ovM5Ug\u001b[0m\u001b[K\n",
      "\u001b[01;34msystemd-private-8682cf5a4d3245ca9989fe528c047ad1-systemd-logind.service-TBvYpj\u001b[0m\n",
      "\u001b[01;34msystemd-private-8682cf5a4d3245ca9989fe528c047ad1-systemd-resolved.service-ssbV5g\u001b[0m\n",
      "\u001b[01;34msystemd-private-8682cf5a4d3245ca9989fe528c047ad1-systemd-timesyncd.service-xUHwBg\u001b[0m\u001b[K\n",
      "\u001b[01;34msystemd-private-8682cf5a4d3245ca9989fe528c047ad1-upower.service-dMANpi\u001b[0m\n",
      "\u001b[01;32mtmpbs5lzrtm.py\u001b[0m\n",
      "\u001b[01;34mvscode-typescript1001\u001b[0m\n"
     ]
    }
   ],
   "source": [
    "ls /tmp"
   ]
  },
  {
   "cell_type": "code",
   "execution_count": 5,
   "metadata": {},
   "outputs": [
    {
     "name": "stdout",
     "output_type": "stream",
     "text": [
      "total 144\n",
      "drwxrwxr-x 5 jappavoo jappavoo  4096 Mar 18 19:05 \u001b[0m\u001b[01;34m_build\u001b[0m\n",
      "-rw-rw-r-- 1 jappavoo jappavoo   688 Mar 18 19:01 _config.yml\n",
      "-rw-rw-r-- 1 jappavoo jappavoo   125 Mar 19 11:27 _toc.yml\n",
      "-rw-rw-r-- 1 jappavoo jappavoo 14868 Mar 19 05:54 assembly.ipynb\n",
      "-rw-rw-r-- 1 jappavoo jappavoo   158 Mar 18 18:58 content.md\n",
      "-rw-rw-r-- 1 jappavoo jappavoo   217 Mar 18 18:58 intro.md\n",
      "-rw-rw-r-- 1 jappavoo jappavoo 70347 Mar 18 18:45 \u001b[01;35mlogo.jpg\u001b[0m\n",
      "-rw-rw-r-- 1 jappavoo jappavoo  3706 Mar 18 18:58 markdown.md\n",
      "-rw-rw-r-- 1 jappavoo jappavoo  3372 Mar 18 18:58 notebooks.ipynb\n",
      "-rw-rw-r-- 1 jappavoo jappavoo  5563 Mar 18 18:58 references.bib\n",
      "-rw-rw-r-- 1 jappavoo jappavoo 13289 Mar 19 12:07 shell.ipynb\n",
      "drwxrwxr-x 2 jappavoo jappavoo  4096 Mar 19 05:52 \u001b[01;34msrc\u001b[0m\n"
     ]
    }
   ],
   "source": [
    "ls -l"
   ]
  },
  {
   "cell_type": "code",
   "execution_count": 6,
   "metadata": {},
   "outputs": [
    {
     "name": "stdout",
     "output_type": "stream",
     "text": [
      "\u001b[0m\u001b[01;34m.\u001b[0m                   _config.yml     intro.md         references.bib\n",
      "\u001b[01;34m..\u001b[0m                  _toc.yml        \u001b[01;35mlogo.jpg\u001b[0m         shell.ipynb\n",
      "\u001b[01;34m.ipynb_checkpoints\u001b[0m  assembly.ipynb  markdown.md      \u001b[01;34msrc\u001b[0m\n",
      "\u001b[01;34m_build\u001b[0m              content.md      notebooks.ipynb\n"
     ]
    }
   ],
   "source": [
    "ls -a"
   ]
  },
  {
   "cell_type": "code",
   "execution_count": 7,
   "metadata": {},
   "outputs": [
    {
     "name": "stdout",
     "output_type": "stream",
     "text": [
      "\u001b[0m\u001b[01;34m_build\u001b[0m       assembly.ipynb  \u001b[01;35mlogo.jpg\u001b[0m         references.bib\n",
      "_config.yml  content.md      markdown.md      shell.ipynb\n",
      "_toc.yml     intro.md        notebooks.ipynb  \u001b[01;34msrc\u001b[0m\n"
     ]
    }
   ],
   "source": [
    "ls ."
   ]
  },
  {
   "cell_type": "code",
   "execution_count": 10,
   "metadata": {},
   "outputs": [
    {
     "name": "stdout",
     "output_type": "stream",
     "text": [
      "CONDUCT.md       \u001b[0m\u001b[01;32mLICENSE\u001b[0m    requirements.txt\n",
      "CONTRIBUTING.md  README.md  \u001b[01;34munderthecovers\u001b[0m\n"
     ]
    }
   ],
   "source": [
    "ls .."
   ]
  },
  {
   "cell_type": "code",
   "execution_count": 8,
   "metadata": {},
   "outputs": [
    {
     "name": "stdout",
     "output_type": "stream",
     "text": [
      "\u001b[0m\u001b[01;36mbin\u001b[0m   \u001b[01;34mdev\u001b[0m  \u001b[01;34mhome\u001b[0m  \u001b[01;36mlib32\u001b[0m  \u001b[01;36mlibx32\u001b[0m      \u001b[01;34mmedia\u001b[0m  \u001b[01;34mopt\u001b[0m   \u001b[01;34mroot\u001b[0m  \u001b[01;36msbin\u001b[0m  \u001b[01;34msrv\u001b[0m       \u001b[01;34msys\u001b[0m  \u001b[01;34musr\u001b[0m\n",
      "\u001b[01;34mboot\u001b[0m  \u001b[01;34metc\u001b[0m  \u001b[01;36mlib\u001b[0m   \u001b[01;36mlib64\u001b[0m  \u001b[01;34mlost+found\u001b[0m  \u001b[01;34mmnt\u001b[0m    \u001b[01;34mproc\u001b[0m  \u001b[01;34mrun\u001b[0m   \u001b[01;34msnap\u001b[0m  swap.img  \u001b[30;42mtmp\u001b[0m  \u001b[01;34mvar\u001b[0m\n"
     ]
    }
   ],
   "source": [
    "ls /"
   ]
  },
  {
   "cell_type": "code",
   "execution_count": 9,
   "metadata": {},
   "outputs": [
    {
     "name": "stdout",
     "output_type": "stream",
     "text": [
      "\u001b[0m\u001b[01;34mjappavoo\u001b[0m  \u001b[01;34mubuntu\u001b[0m\n"
     ]
    }
   ],
   "source": [
    "ls /home"
   ]
  },
  {
   "cell_type": "code",
   "execution_count": 10,
   "metadata": {},
   "outputs": [
    {
     "name": "stdout",
     "output_type": "stream",
     "text": [
      "'#raw.asm#'      \u001b[0m\u001b[01;34mUndertheCovers\u001b[0m                           installKvm\n",
      " \u001b[01;34m06\u001b[0m              Untitled.ipynb                           \u001b[01;34mjuypter\u001b[0m\n",
      " \u001b[01;34m6502\u001b[0m            Untitled1.sh                             \u001b[01;34mmasmtest\u001b[0m\n",
      " \u001b[01;34mCS210TextBook\u001b[0m   \u001b[01;34manaconda3\u001b[0m                                mkKvm\n",
      " \u001b[01;34mOm\u001b[0m              \u001b[01;34mcompress\u001b[0m                                 resetKvm\n",
      " \u001b[01;34mSymbi-OS\u001b[0m        \u001b[01;31mgoogle-chrome-stable_current_amd64.deb\u001b[0m   \u001b[01;34mtmp\u001b[0m\n",
      " \u001b[01;34mUASM\u001b[0m            \u001b[01;34mhostKernel\u001b[0m                               \u001b[01;34myasmtest\u001b[0m\n"
     ]
    }
   ],
   "source": [
    "ls /home/jappavoo"
   ]
  },
  {
   "cell_type": "code",
   "execution_count": 5,
   "metadata": {},
   "outputs": [
    {
     "name": "stdout",
     "output_type": "stream",
     "text": [
      "$ date\n",
      "Fri Mar 19 12:13:02 UTC 2021\n"
     ]
    }
   ],
   "source": [
    "echo \"\\$ date\"; date"
   ]
  },
  {
   "cell_type": "code",
   "execution_count": null,
   "metadata": {},
   "outputs": [],
   "source": []
  }
 ],
 "metadata": {
  "celltoolbar": "Edit Metadata",
  "kernelspec": {
   "display_name": "Bash",
   "language": "bash",
   "name": "bash"
  },
  "language_info": {
   "codemirror_mode": "shell",
   "file_extension": ".sh",
   "mimetype": "text/x-sh",
   "name": "bash"
  }
 },
 "nbformat": 4,
 "nbformat_minor": 4
}
