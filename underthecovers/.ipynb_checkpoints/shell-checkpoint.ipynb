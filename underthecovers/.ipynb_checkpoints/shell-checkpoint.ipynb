{
 "cells": [
  {
   "cell_type": "markdown",
   "metadata": {},
   "source": [
    "# UNIX  -- An operating System Built by Programmers for Programmers\n",
    "\n",
    "The UNIX operating system was built by master programmers who valued programmablity and productivity.  In some sense learning to work on the UNIX systems is a right of passage that not only teaches you how to be productive on a computer runnig the UNIX operating system but teaching you to think and act like a programmer.\n",
    "\n",
    "## The Shell -- Progammable Interface to the computer\n",
    "\n",
    "Given its history and programmer bent UNIX's primary interface -- or way of interacting with it to get things done is a program called the \"shell\".  In the following sections we will introduce various aspects of the shell, UNIX and fundamental ideas common to all modern operating systems.    \n",
    "\n",
    "### Getting started -- The Terminal\n",
    "\n",
    "To work with a UNIX computer you must establish in one way or anther an plain text interactive session.  To do this you must start a \"Terminal\".  A \"Terminal\" is a Plain Text or \"ASCII\" application that is designed to accept characters from your keyboard and send them to a remote program and similarly chacters sent from the program will be displayed within it.  \n",
    "\n",
    "The next step is to connect\n",
    "In response to establishing athe UNIX computer will prompt you to identify yourself with your username and password.  This is called logging.  There are many ways to do this depending on what the operating system that you are using on your computer.  Once you successfully login in  \n",
    "\n"
   ]
  },
  {
   "cell_type": "code",
   "execution_count": 4,
   "metadata": {},
   "outputs": [
    {
     "data": {
      "text/html": [
       "\n",
       "        <iframe\n",
       "            width=\"800\"\n",
       "            height=\"400\"\n",
       "            src=\"http://localhost:8888/terminals/1\"\n",
       "            frameborder=\"0\"\n",
       "            allowfullscreen\n",
       "        ></iframe>\n",
       "        "
      ],
      "text/plain": [
       "<IPython.lib.display.IFrame at 0x7f10d4416310>"
      ]
     },
     "execution_count": 4,
     "metadata": {},
     "output_type": "execute_result"
    }
   ],
   "source": [
    "from IPython.display import IFrame\n",
    "IFrame('http://localhost:8888/terminals/1', 800, 400)"
   ]
  },
  {
   "cell_type": "markdown",
   "metadata": {},
   "source": [
    "### Command Line Anatomy\n",
    "\n",
    "Our interactions with the shell are \"line oriented\".\n",
    "That is to say that once we are connected to the shell it will be waiting for us to enter a command.\n",
    "To indicate this it will print a \"prompt\" at the beginning of a line -- the left most \n",
    "Commands are a sequence of plain text \"key\" words that the shell will \"execute\" for us.  \n",
    "To get the shell to do something we enter the command along with  any arguments and modifies and then press \n",
    "enter or return key to terminate and submit the line to the shell. \n",
    "At this point the shell will analyize the line we entered and will execute the command it it can."
   ]
  },
  {
   "cell_type": "markdown",
   "metadata": {},
   "source": [
    "### echo -- printing something to the sceen\n",
    "\n",
    "Perhaps the most basic command that we can issue to the shell is the `echo` comand.  `echo` allows us to print a message.  For the moment this might seem like a silly command but later we will see that the shell is not just designed to be an interactive interface but also a powerful programming language that we can use to quickly automate things and construct our own commands out of the exiting ones."
   ]
  },
  {
   "cell_type": "code",
   "execution_count": null,
   "metadata": {
    "scrolled": true
   },
   "outputs": [],
   "source": [
    "echo \"Hello World\""
   ]
  },
  {
   "cell_type": "markdown",
   "metadata": {},
   "source": [
    "### comments -- Ignoring everthing else  \n",
    "\n",
    "Another very trival thing we can do is tell the shell to ignore every thing else on the line using the comment character.  In bash this character is the hash character `#`.  A line with the `#` at the beginning of it will be ignored complete and as such there will be no output from it and the shell will simply print out prompt on the next newline."
   ]
  },
  {
   "cell_type": "code",
   "execution_count": 3,
   "metadata": {},
   "outputs": [],
   "source": [
    "# this is a comment"
   ]
  },
  {
   "cell_type": "code",
   "execution_count": 4,
   "metadata": {},
   "outputs": [
    {
     "name": "stdout",
     "output_type": "stream",
     "text": [
      "Hello World\n"
     ]
    }
   ],
   "source": [
    "echo \"Hello World\"  # we can use echo to print to the screen"
   ]
  },
  {
   "cell_type": "markdown",
   "metadata": {},
   "source": [
    "The first example above the `#` at the beginning of the line causes the shell to ignore everything else on the line.  In second example we see that the shell ignores everthing after the # but continues to execute what preceeds it."
   ]
  },
  {
   "cell_type": "markdown",
   "metadata": {},
   "source": [
    "### ls -- listing the contents of a directory\n",
    "\n",
    "With no additional arguments the `ls` command will print out the contents of the current working directory.  That is to say it will print the names of the files and directories that are contained in the current directory."
   ]
  },
  {
   "cell_type": "code",
   "execution_count": 6,
   "metadata": {},
   "outputs": [
    {
     "name": "stdout",
     "output_type": "stream",
     "text": [
      "Untitled.ipynb   _config.yml  intro.md     notebooks.ipynb\n",
      "Untitled1.ipynb  _toc.yml     \u001b[0m\u001b[01;35mlogo.jpg\u001b[0m     references.bib\n",
      "\u001b[01;34m_build\u001b[0m           content.md   markdown.md  shell.ipynb\n"
     ]
    }
   ],
   "source": [
    "ls"
   ]
  },
  {
   "cell_type": "code",
   "execution_count": 7,
   "metadata": {},
   "outputs": [
    {
     "name": "stdout",
     "output_type": "stream",
     "text": [
      "total 124\n",
      "-rw-rw-r-- 1 jappavoo jappavoo   960 Mar 18 19:48 Untitled.ipynb\n",
      "-rw-rw-r-- 1 jappavoo jappavoo  3286 Mar 18 20:45 Untitled1.ipynb\n",
      "drwxrwxr-x 5 jappavoo jappavoo  4096 Mar 18 19:05 \u001b[0m\u001b[01;34m_build\u001b[0m\n",
      "-rw-rw-r-- 1 jappavoo jappavoo   688 Mar 18 19:01 _config.yml\n",
      "-rw-rw-r-- 1 jappavoo jappavoo   165 Mar 18 18:58 _toc.yml\n",
      "-rw-rw-r-- 1 jappavoo jappavoo   158 Mar 18 18:58 content.md\n",
      "-rw-rw-r-- 1 jappavoo jappavoo   217 Mar 18 18:58 intro.md\n",
      "-rw-rw-r-- 1 jappavoo jappavoo 70347 Mar 18 18:45 \u001b[01;35mlogo.jpg\u001b[0m\n",
      "-rw-rw-r-- 1 jappavoo jappavoo  3706 Mar 18 18:58 markdown.md\n",
      "-rw-rw-r-- 1 jappavoo jappavoo  3372 Mar 18 18:58 notebooks.ipynb\n",
      "-rw-rw-r-- 1 jappavoo jappavoo  5563 Mar 18 18:58 references.bib\n",
      "-rw-rw-r-- 1 jappavoo jappavoo  5260 Mar 18 21:09 shell.ipynb\n"
     ]
    }
   ],
   "source": [
    "ls -l"
   ]
  },
  {
   "cell_type": "code",
   "execution_count": 8,
   "metadata": {},
   "outputs": [
    {
     "name": "stdout",
     "output_type": "stream",
     "text": [
      "\u001b[0m\u001b[01;34m.\u001b[0m                   Untitled.ipynb   _config.yml  intro.md     notebooks.ipynb\n",
      "\u001b[01;34m..\u001b[0m                  Untitled1.ipynb  _toc.yml     \u001b[01;35mlogo.jpg\u001b[0m     references.bib\n",
      "\u001b[01;34m.ipynb_checkpoints\u001b[0m  \u001b[01;34m_build\u001b[0m           content.md   markdown.md  shell.ipynb\n"
     ]
    }
   ],
   "source": [
    "ls -a"
   ]
  },
  {
   "cell_type": "code",
   "execution_count": 9,
   "metadata": {},
   "outputs": [
    {
     "name": "stdout",
     "output_type": "stream",
     "text": [
      "Untitled.ipynb   _config.yml  intro.md     notebooks.ipynb\n",
      "Untitled1.ipynb  _toc.yml     \u001b[0m\u001b[01;35mlogo.jpg\u001b[0m     references.bib\n",
      "\u001b[01;34m_build\u001b[0m           content.md   markdown.md  shell.ipynb\n"
     ]
    }
   ],
   "source": [
    "ls ."
   ]
  },
  {
   "cell_type": "code",
   "execution_count": 10,
   "metadata": {},
   "outputs": [
    {
     "name": "stdout",
     "output_type": "stream",
     "text": [
      "CONDUCT.md       \u001b[0m\u001b[01;32mLICENSE\u001b[0m    requirements.txt\n",
      "CONTRIBUTING.md  README.md  \u001b[01;34munderthecovers\u001b[0m\n"
     ]
    }
   ],
   "source": [
    "ls .."
   ]
  },
  {
   "cell_type": "code",
   "execution_count": 14,
   "metadata": {},
   "outputs": [
    {
     "name": "stdout",
     "output_type": "stream",
     "text": [
      "\u001b[0m\u001b[01;36mbin\u001b[0m   \u001b[01;34mdev\u001b[0m  \u001b[01;34mhome\u001b[0m  \u001b[01;36mlib32\u001b[0m  \u001b[01;36mlibx32\u001b[0m      \u001b[01;34mmedia\u001b[0m  \u001b[01;34mopt\u001b[0m   \u001b[01;34mroot\u001b[0m  \u001b[01;36msbin\u001b[0m  \u001b[01;34msrv\u001b[0m       \u001b[01;34msys\u001b[0m  \u001b[01;34musr\u001b[0m\n",
      "\u001b[01;34mboot\u001b[0m  \u001b[01;34metc\u001b[0m  \u001b[01;36mlib\u001b[0m   \u001b[01;36mlib64\u001b[0m  \u001b[01;34mlost+found\u001b[0m  \u001b[01;34mmnt\u001b[0m    \u001b[01;34mproc\u001b[0m  \u001b[01;34mrun\u001b[0m   \u001b[01;34msnap\u001b[0m  swap.img  \u001b[30;42mtmp\u001b[0m  \u001b[01;34mvar\u001b[0m\n"
     ]
    }
   ],
   "source": [
    "ls /"
   ]
  },
  {
   "cell_type": "code",
   "execution_count": 13,
   "metadata": {},
   "outputs": [
    {
     "name": "stdout",
     "output_type": "stream",
     "text": [
      "\u001b[0m\u001b[01;36mbin\u001b[0m   \u001b[01;34mdev\u001b[0m  \u001b[01;34mhome\u001b[0m  \u001b[01;36mlib32\u001b[0m  \u001b[01;36mlibx32\u001b[0m      \u001b[01;34mmedia\u001b[0m  \u001b[01;34mopt\u001b[0m   \u001b[01;34mroot\u001b[0m  \u001b[01;36msbin\u001b[0m  \u001b[01;34msrv\u001b[0m       \u001b[01;34msys\u001b[0m  \u001b[01;34musr\u001b[0m\n",
      "\u001b[01;34mboot\u001b[0m  \u001b[01;34metc\u001b[0m  \u001b[01;36mlib\u001b[0m   \u001b[01;36mlib64\u001b[0m  \u001b[01;34mlost+found\u001b[0m  \u001b[01;34mmnt\u001b[0m    \u001b[01;34mproc\u001b[0m  \u001b[01;34mrun\u001b[0m   \u001b[01;34msnap\u001b[0m  swap.img  \u001b[30;42mtmp\u001b[0m  \u001b[01;34mvar\u001b[0m\n"
     ]
    }
   ],
   "source": [
    "ls /"
   ]
  },
  {
   "cell_type": "code",
   "execution_count": 15,
   "metadata": {},
   "outputs": [
    {
     "name": "stdout",
     "output_type": "stream",
     "text": [
      "\u001b[0m\u001b[01;34mjappavoo\u001b[0m  \u001b[01;34mubuntu\u001b[0m\n"
     ]
    }
   ],
   "source": [
    "ls /home"
   ]
  }
 ],
 "metadata": {
  "kernelspec": {
   "display_name": "Python 3",
   "language": "python",
   "name": "python3"
  },
  "language_info": {
   "codemirror_mode": {
    "name": "ipython",
    "version": 3
   },
   "file_extension": ".py",
   "mimetype": "text/x-python",
   "name": "python",
   "nbconvert_exporter": "python",
   "pygments_lexer": "ipython3",
   "version": "3.8.5"
  }
 },
 "nbformat": 4,
 "nbformat_minor": 4
}
