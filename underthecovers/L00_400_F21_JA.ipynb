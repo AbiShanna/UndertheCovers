{
 "cells": [
  {
   "cell_type": "code",
   "execution_count": 1,
   "id": "6b8bdc76",
   "metadata": {
    "slideshow": {
     "slide_type": "skip"
    }
   },
   "outputs": [
    {
     "data": {
      "text/html": [
       "<style>#notebook { padding-top:0px !important; } .container { width:100% !important; } .CodeMirror { width:100% !important;}.end_space { min-height:0px !important; } .prompt { display:none }.terminal-app #terminado-container { width:100%; }div.mywarn { background-color: #fcf2f2;border-color: #dFb5b4; border-left: 5px solid #dfb5b4; padding: 0.5em;}</style>"
      ],
      "text/plain": [
       "<IPython.core.display.HTML object>"
      ]
     },
     "metadata": {},
     "output_type": "display_data"
    }
   ],
   "source": [
    "%run -i python/ln_preamble.py"
   ]
  },
  {
   "cell_type": "markdown",
   "id": "295752d9",
   "metadata": {
    "slideshow": {
     "slide_type": "slide"
    }
   },
   "source": [
    "# CS400 Fall 2021 : Machine Level Programming\n"
   ]
  },
  {
   "cell_type": "markdown",
   "id": "9dbb428e",
   "metadata": {
    "slideshow": {
     "slide_type": "slide"
    }
   },
   "source": [
    "# Let's review the basics by building a computer!"
   ]
  },
  {
   "cell_type": "markdown",
   "id": "449ed683",
   "metadata": {
    "slideshow": {
     "slide_type": "slide"
    }
   },
   "source": [
    "## Tools of the Trade -- UNIX"
   ]
  },
  {
   "cell_type": "markdown",
   "id": "8d6bbd8f",
   "metadata": {
    "slideshow": {
     "slide_type": "slide"
    }
   },
   "source": [
    "## Assembly Programming -- The Von Neumman Architecture"
   ]
  },
  {
   "cell_type": "markdown",
   "id": "9be16864",
   "metadata": {
    "slideshow": {
     "slide_type": "slide"
    }
   },
   "source": [
    "## C from an Assembly Code Perspective"
   ]
  },
  {
   "cell_type": "markdown",
   "id": "ce3c3666",
   "metadata": {
    "slideshow": {
     "slide_type": "slide"
    }
   },
   "source": [
    "## Projects\n",
    "\n",
    "1. ipython emulator \n",
    "    - BU 6502\n",
    "        - dbb\n",
    "        - mar\n",
    "        - memory load\n",
    "        - byte inspector\n",
    "        - animate \n",
    "    - ARM \n",
    "    - RISCV\n",
    "    - ATMEL\n",
    "    - TOOLCHAIN\n",
    "2. ISA study\n",
    "3. HW Technology Review\n"
   ]
  },
  {
   "cell_type": "code",
   "execution_count": null,
   "id": "5525378e",
   "metadata": {},
   "outputs": [],
   "source": []
  }
 ],
 "metadata": {
  "celltoolbar": "Slideshow",
  "hide_input": false,
  "kernelspec": {
   "display_name": "Python 3 (ipykernel)",
   "language": "python",
   "name": "python3"
  },
  "language_info": {
   "codemirror_mode": {
    "name": "ipython",
    "version": 3
   },
   "file_extension": ".py",
   "mimetype": "text/x-python",
   "name": "python",
   "nbconvert_exporter": "python",
   "pygments_lexer": "ipython3",
   "version": "3.9.6"
  },
  "rise": {
   "autolaunch": false,
   "enable_chalkboard": true,
   "footer": "BU CAS CS 400",
   "header": "Intro",
   "height": "100%",
   "scroll": true,
   "start_slideshow_at": "selected",
   "theme": "black",
   "transition": "none",
   "width": "100%"
  }
 },
 "nbformat": 4,
 "nbformat_minor": 5
}
