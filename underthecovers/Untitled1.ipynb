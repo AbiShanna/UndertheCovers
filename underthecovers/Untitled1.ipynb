{
 "cells": [
  {
   "cell_type": "markdown",
   "metadata": {},
   "source": [
    "# UNIX  -- An operating System Built by Programmers for Programmers\n",
    "\n",
    "The UNIX operating system was built by master programmers and who valued programmablity and productivity.  In some sense learning to work on the UNIX systems is a right of passage that not only teaches you how to be productive on a computer runnig the UNIX operating system but teaching you to think and act like a programmer.\n",
    "\n",
    "## The Shell -- Progammable Interface to the computer\n",
    "\n",
    "Given its history and programmer bent UNIX's primary interface -- or way of interacting with it to get things done is a program called the \"shell\".  In the following sections we will introduce various aspects of the shell, UNIX and fundamental ideas common to all modern operating systems.    \n",
    "\n",
    "### Getting started\n",
    "\n"
   ]
  },
  {
   "cell_type": "code",
   "execution_count": null,
   "metadata": {},
   "outputs": [],
   "source": [
    "### Command Line Anatomy\n",
    "\n",
    "Our interactions with the shell are \"line oriented\".\n",
    "That is to say that once we are connected to the shell it will be waiting for us to enter a command.\n",
    "To indicate this it will print a \"prompt\" at the beginning of a line -- the left most \n",
    "Commands are a sequence of plain text \"key\" words that the shell will \"execute\" for us.  To get the shell to "
   ]
  },
  {
   "cell_type": "markdown",
   "metadata": {},
   "source": [
    "### echo -- printing something to the sceen\n",
    "\n",
    "Perhaps the most basic command that we can issue to the shell is the `echo` comand.  Echo allows us to print a message out to the screen.  For the moment this might seem like a silly command but later we will see that the shell is not just designed for interactive use but is really a powerful programming language that we can use to quickly automate things."
   ]
  },
  {
   "cell_type": "code",
   "execution_count": 1,
   "metadata": {},
   "outputs": [
    {
     "name": "stdout",
     "output_type": "stream",
     "text": [
      "Hello World\n"
     ]
    }
   ],
   "source": [
    "echo \"Hello World\""
   ]
  },
  {
   "cell_type": "markdown",
   "metadata": {},
   "source": [
    "### comments -- Ignoring everthing else  \n",
    "\n",
    "Another very trival thing we can do is tell the shell to ignore every thing else on the line using the comment character.  In bash this character is the hash character '#'.  A line with the '#' at the beginning of it will be ignored complete and as such there will be no output from it and the shell will simply print out prompt on the next ne"
   ]
  },
  {
   "cell_type": "code",
   "execution_count": 3,
   "metadata": {},
   "outputs": [],
   "source": [
    "# this is a comment"
   ]
  },
  {
   "cell_type": "code",
   "execution_count": null,
   "metadata": {},
   "outputs": [],
   "source": []
  }
 ],
 "metadata": {
  "kernelspec": {
   "display_name": "Bash",
   "language": "bash",
   "name": "bash"
  },
  "language_info": {
   "codemirror_mode": "shell",
   "file_extension": ".sh",
   "mimetype": "text/x-sh",
   "name": "bash"
  }
 },
 "nbformat": 4,
 "nbformat_minor": 4
}
