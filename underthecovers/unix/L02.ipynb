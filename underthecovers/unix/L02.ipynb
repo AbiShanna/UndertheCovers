{
 "cells": [
  {
   "cell_type": "code",
   "execution_count": null,
   "id": "04ab2912",
   "metadata": {
    "hide_input": false,
    "slideshow": {
     "slide_type": "skip"
    },
    "tags": [
     "remove-cell"
    ]
   },
   "outputs": [],
   "source": [
    "%run -i ../python/common.py\n",
    "%run -i ../python/ln_preamble.py\n",
    "# Make three extra terminals to serve as example of 3 terminal emulators\n",
    "# We do this to avoid having to change the dimensions of our standard\n",
    "# Editor, Build and debugger terminals\n",
    "try:\n",
    "    HHTERM=TERMINALS[4]['name']\n",
    "except IndexError:\n",
    "    HHTERM=mkTerm()"
   ]
  },
  {
   "cell_type": "markdown",
   "id": "0f3156a3-87d3-41b8-b435-8d2f0d4095e9",
   "metadata": {
    "hide_input": true,
    "slideshow": {
     "slide_type": "slide"
    }
   },
   "source": [
    "# SLS Lecture 2 : Shell Part II\n",
    "\n",
    "<img align=\"left\" style=\"margin: 1em 1em 0 0\" src=\"https://upload.wikimedia.org/wikipedia/commons/thumb/9/98/Shell_Island_1985.jpg/1920px-Shell_Island_1985.jpg\" width=\"50%\">\n",
    "\n",
    "<p> Getting our hands dirty.\n",
    "<p> As powerful as UNIX and the shell are they are also old and dirty... have had plenty of time to accumulate some Barnacles.\n"
   ]
  },
  {
   "cell_type": "markdown",
   "id": "5fc206f7",
   "metadata": {
    "slideshow": {
     "slide_type": "slide"
    }
   },
   "source": [
    "Our goals:\n",
    "1. Basic proficiencies in \n",
    "  - using the shell as a programming language \n",
    "    - core to automating your UNIX life\n",
    "      - interactively : one liners\n",
    "      - scripts : small and large programs  \n",
    "  - navigating and working with the file system\n",
    "  - running and managing running programs\n",
    "    - IO redirection and pipes\n",
    "    - processes\n",
    "  - understand basics of UNIX credentials\n",
    "    - user and groups names and ids, file permissions, and who \"root\" is"
   ]
  },
  {
   "cell_type": "markdown",
   "id": "36539305",
   "metadata": {
    "slideshow": {
     "slide_type": "fragment"
    }
   },
   "source": [
    "2. Enable you to learn more\n",
    "  - know enough so that you can experiment\n",
    "  - know where you can look for more info\n",
    "  - know enough so you can appreciate and learn from others\n",
    "    - idioms, tricks, and hacks\n",
    "    - scripts "
   ]
  },
  {
   "cell_type": "markdown",
   "id": "b1906c7f",
   "metadata": {
    "slideshow": {
     "slide_type": "fragment"
    }
   },
   "source": [
    "3. Understand how things work so that you have the context for\n",
    "   - working efficiently with large bodies of ascii files \n",
    "     - at the command line\n",
    "     - and in editors like `vim` and `emacs`\n",
    "   - `make`\n",
    "   - `git`"
   ]
  },
  {
   "cell_type": "markdown",
   "id": "7aa7cdbb",
   "metadata": {
    "slideshow": {
     "slide_type": "slide"
    }
   },
   "source": [
    "## The Shell as a Programming Language\n",
    "\n",
    "** The Glue that holds the UNIX Universe together ** \n",
    "\n",
    "Basic Syntax : Notes\n",
    "- comments\n",
    "- echo and printf\n",
    "- simple variable syntax and usage\n",
    "  - quoting to control splitting and expansion\n",
    "  - many more fancy variable expansions and special variables : `help variables` but plenty more\n",
    "- basic programming constructs\n",
    "  - for lists of words \n",
    "  - commands and exit codes\n",
    "    - (())\n",
    "    - [[]]\n",
    "    - [ ]\n",
    "- interactive vs scripts\n",
    "  - history and arrow keys\n",
    "  - scripts\n",
    "    - ascii file with lines of shell commands\n",
    "    - mark as executable and put in path or name explicitly"
   ]
  },
  {
   "cell_type": "code",
   "execution_count": null,
   "id": "b484cf9a",
   "metadata": {
    "hide_input": false,
    "slideshow": {
     "slide_type": "-"
    },
    "tags": [
     "remove-cell"
    ]
   },
   "outputs": [],
   "source": [
    "display(showTerm(HHTERM,\"\",\"100%\",\"400\"))"
   ]
  },
  {
   "cell_type": "code",
   "execution_count": null,
   "id": "4b8322dc",
   "metadata": {
    "cell_style": "center",
    "hide_input": false,
    "slideshow": {
     "slide_type": "notes"
    },
    "tags": [
     "remove-cell"
    ]
   },
   "outputs": [],
   "source": [
    "Markdown(FileCodeBox(\n",
    "    file=\"../src/shllpgm.sh\", \n",
    "    lang=\"bash\", \n",
    "    title='# Shell Programming',\n",
    "    w=\"100%\",\n",
    "    h=\"300px\"))"
   ]
  },
  {
   "cell_type": "markdown",
   "id": "c5f16fa8",
   "metadata": {
    "slideshow": {
     "slide_type": "skip"
    }
   },
   "source": [
    "# Shell Programming\n",
    "\n",
    "``` bash\n",
    "# Comments\n",
    "# a word that starts with # and everthing else till end end of the line is ignored\n",
    "\n",
    "# echo - basic built in for outputting\n",
    "echo hello\n",
    "\n",
    "# shell variables and variable expansion has lots of subtly but lets start simple\n",
    "i=hello\n",
    "\n",
    "# remember shell expansions will happen to the line prior the \"echo\" built in being\n",
    "# executed\n",
    "\n",
    "echo $i  # $ -- triggers parameter/variable expansion\n",
    "\n",
    "# quoting used to control expansion and splitting\n",
    "\n",
    "x=goodbye and farewell\n",
    "\n",
    "# single quotes supresses all expansion and splitting - literal value of each character\n",
    "# single quotes cannot contain single quotes\n",
    "x='goodbye and farewell'\n",
    "echo $x\n",
    "\n",
    "x='$i goodbye and farewell'\n",
    "echo $x\n",
    "\n",
    "# double quotes partially suppress expansions but allow some like $\n",
    "x=\"$i goodbye and farewell\"\n",
    "\n",
    "# ; can be used to join commands as a list on the same line\n",
    "x=\"$i goodbye and farewell\"; echo $x\n",
    "\n",
    "# ok we will look at more variable related syntax and expansions later\n",
    "# lets try out some loops: for, until, while, break\n",
    "\n",
    "# for name in word ; do commands; done\n",
    "for color in red green black brown; do  echo \"color=$color\"; done\n",
    "\n",
    "# or\n",
    "for color in read green black brown\n",
    "do\n",
    "    echo \"color=$color\"\n",
    "done\n",
    "\n",
    "\n",
    "# the shell also has support for integers and arithmetic\n",
    "for ((i=0; i<5; i++)); do echo \"i=$i\"; done\n",
    "\n",
    "# actually (()) tells the shell to do arithmetic in general\n",
    "(( j++ )); echo $j\n",
    "\n",
    "# shell arithemetic supports comparisons as well\n",
    "(( j<0 ))\n",
    "\n",
    "# special parameter ? is exit code of last command/pipe\n",
    "echo $?\n",
    "\n",
    "(( j>0 )); echo $?\n",
    "\n",
    "# shell convention is exit value of 0 is success and non-zero if failure\n",
    "# becare oposite to what you might be used to \n",
    "\n",
    "if (( j == 0 )); then echo \"j is zero\"; elif ((j<10)); then echo \"j is under 10\"; else \"j is something else $j\"; fi\n",
    "\n",
    "# beyond arithmetic expressions bash support a more general [[]] expression\n",
    "# return code will still indicate success vs failure bue allow non-integer logic\n",
    "[[ $i == \"hello\" ]]; echo $?\n",
    "\n",
    "# special case of logical and and or to conditional commbine commands \n",
    "(( j<0 )) && echo \"j is < 0\"\n",
    "(( j<0 )) || echo \"j is >= 0\"\n",
    "# could have written using if\n",
    "\n",
    "# conditions are  just tests of exit code of command eg.  success versus failure\n",
    "# So any command (internal or external) written to correctly indicate success and failure with exit code\n",
    "# can be used as condition\n",
    "\n",
    "# shell also has case and select statements\n",
    "```"
   ]
  },
  {
   "cell_type": "markdown",
   "id": "26afcae6",
   "metadata": {
    "slideshow": {
     "slide_type": "slide"
    }
   },
   "source": [
    "## Navigating and working with the \"File System\"\n",
    "\n",
    "- Current Working Directory \n",
    "  - print working directory (`pwd`)\n",
    "- shell path name expansion : `echo *`\n",
    "- Externals:  \n",
    "  - `ls` daily bread and butter command\n",
    "  - `ls -l` see meta data\n",
    "  - `find` - a even more powerful tool\n",
    "- Changing Working Directory: `cd`\n",
    "- Path names: full path vs relative paths\n",
    "  - `.` and `..`\n",
    "  - `~` expansion\n",
    "  - `.` as a way of \"hiding\" files and directories\n",
    "- Creating directories: `mkdir`\n",
    "- Removing directories: `rmdir` \n",
    "- Creating files : `touch`\n",
    "- Removing files : `rm`\n",
    "- Creating links: `ln -s`"
   ]
  },
  {
   "cell_type": "code",
   "execution_count": null,
   "id": "a29180c9",
   "metadata": {
    "hide_input": false,
    "slideshow": {
     "slide_type": "-"
    },
    "tags": [
     "remove-cell"
    ]
   },
   "outputs": [],
   "source": [
    "display(showTerm(HHTERM,\"\",\"100%\",\"400\"))"
   ]
  },
  {
   "cell_type": "code",
   "execution_count": null,
   "id": "0d09911d",
   "metadata": {
    "cell_style": "center",
    "hide_input": true,
    "slideshow": {
     "slide_type": "notes"
    },
    "tags": [
     "remove-cell"
    ]
   },
   "outputs": [],
   "source": [
    "display(Markdown(FileCodeBox(\n",
    "    file=\"../src/shlldirfile.sh\", \n",
    "    lang=\"bash\", \n",
    "    title='# File and Directories',\n",
    "    w=\"100%\",\n",
    "    h=\"500px\")))"
   ]
  },
  {
   "cell_type": "markdown",
   "id": "ebe73d7b",
   "metadata": {
    "slideshow": {
     "slide_type": "skip"
    }
   },
   "source": [
    "# File and Directories\n",
    "\n",
    "``` bash\n",
    "# Current working directory\n",
    "pwd\n",
    "\n",
    "# What is in the current directory?\n",
    "#  Another expansion - Filename expansion the shell does for us.\n",
    "echo *\n",
    "echo /*\n",
    "\n",
    "\n",
    "# ls is a powerfull external command for list contents of directories\n",
    "ls\n",
    "man ls\n",
    "ls -l\n",
    "ls -lrt\n",
    "ls -lhrt\n",
    "ls -1\n",
    "\n",
    "# change working directory\n",
    "#\n",
    "cd /\n",
    "pwd\n",
    "ls\n",
    "cd home\n",
    "pwd\n",
    "ls\n",
    "cd jovyan\n",
    "cd /home/jovyan\n",
    "pwd\n",
    "cd /usr\n",
    "pwd\n",
    "ls -l /var/*\n",
    "pwd\n",
    "cd\n",
    "\n",
    "# . and ..\n",
    "ls .\n",
    "ls ..\n",
    "\n",
    "# full path\n",
    "ls /bin/ls\n",
    "ls /var/log\n",
    "\n",
    "# combining\n",
    "cd /var/log/../g*\n",
    "\n",
    "# short cut to name home\n",
    "# ~ expansion\n",
    "echo ~\n",
    "ls ~\n",
    "echo ~*\n",
    "\n",
    "# . prefix name to hide\n",
    "ls -a\n",
    "\n",
    "\n",
    "\n",
    "# creating directoreies\n",
    "# man mkdir\n",
    "mkdir ~/bin\n",
    "mkdir $HOME/tmp\n",
    "cd ~\n",
    "mkdir Classes\n",
    "mkdir Classes/CS\n",
    "mkdir Classes/CS/400\n",
    "MYDIR=Classes/CS/400\n",
    "for ((i=0; i<10; i++)); do echo mkdir $MYDIR/$i; done\n",
    "\n",
    "# create an empty file\n",
    "# man touch\n",
    "touch foo\n",
    "ls\n",
    "rm foo\n",
    "#for ((i=0; i<10; i++)); do echo touch $MYDIR/$i; done\n",
    "for d in $(ls $MYDIR); do rm  $MYDIR/$d/README.md; done\n",
    "rm -rf Classes\n",
    "\n",
    "# find is also a powerfull command\n",
    "```"
   ]
  },
  {
   "cell_type": "markdown",
   "id": "b9c301da",
   "metadata": {
    "slideshow": {
     "slide_type": "notes"
    }
   },
   "source": [
    "## Running and Managing Programs (Commands)\n",
    "### Processes, Files and Streams\n",
    "\n",
    "\n",
    "- What is a process in more detail and what can it do\n",
    "  - a running program \n",
    "    - process can launch another processes\n",
    "       - bash is implemented to  start commands as process (when needed)\n",
    "       - passes command line arguments and environment variables\n",
    "  - Processes, Files and channel/stream model of I/O\n",
    "    - files and Kernel objects\n",
    "      - read, write\n",
    "      - everything is a file\n",
    "    - Streams: Processes and Files\n",
    "      - open :  attach a file as a stream\n",
    "      - file descriptors/handles : stream\n",
    "          - read and write bytes to a stream\n",
    "          - close\n",
    "          - dup\n",
    "      - standard input, standard output, standard error\n",
    "    - Shell Syntax:  \n",
    "      - `echo 'Hello world' > hello`\n",
    "      - `cat hello`\n",
    "      - `cat < ./hello`\n",
    "  - We now can understand what a pipe is\n",
    "    -  pipe file object\n",
    "      -  Process 1 stdout into pipe and Process 2 stdin from pipe\n",
    "    - Shell Syntax:\n",
    "      - 'ls -1 | wc -l' \n",
    "      - 'ls -1 | grep '^l*' | wc -l' \n",
    "      - `mknod mypipe p` and `mkfifo mypipe`\n",
    "      \n",
    "## Credentials and file permissions\n",
    "\n",
    "- Process have id's associated with them\n",
    "  - a single user id : `id`\n",
    "     - a single number that maps to a string user name (`/etc/passwd`)\n",
    "  - set of group ids \n",
    "     - user has a primary group but can be in many secondary groups\n",
    "     - each has a number that maps to a name (`/etc/group`)\n",
    "     - each group can have many users\n",
    "  - `ps auxgww` \n",
    "    - process's inherit their ids from their parent\n",
    "- Files have id's and permissions `ls -l`, `chmod`, `chown`, and `chgrp`\n",
    "  - user, group, other -> read, write, execute\n",
    "  - kernel ensures that process id's and requested operations match permissions\n",
    "\n",
    "\n",
    "- Process management\n",
    "  - `ps` - look at all processes \n",
    "  - The shell and its children\n",
    "     - `&` : foreground and background\n",
    "     - `ctrl-z`\n",
    "     - `jobs`\n",
    "  - so we know how to start process, list them how about stopping\n",
    "  - `kill` \n",
    "     - signals\n",
    "     - `ctrl-c`\n",
    "     - or without prejudice "
   ]
  },
  {
   "cell_type": "code",
   "execution_count": null,
   "id": "972ffcc1",
   "metadata": {
    "hide_input": true,
    "slideshow": {
     "slide_type": "slide"
    }
   },
   "outputs": [],
   "source": [
    "display(mkImgsAnimateBox(\"../images/ProcessPNGS\",   \n",
    "['Processes.001.png',\n",
    "'Processes.002.png',\n",
    "'Processes.003.png',\n",
    "'Processes.004.png',\n",
    "'Processes.005.png',\n",
    "'Processes.006.png',\n",
    "'Processes.007.png',\n",
    "'Processes.008.png',\n",
    "'Processes.009.png',\n",
    "'Processes.010.png',\n",
    "'Processes.011.png',\n",
    "'Processes.012.png',\n",
    "'Processes.013.png',\n",
    "'Processes.014.png',\n",
    "'Processes.015.png',\n",
    "'Processes.016.png',\n",
    "'Processes.017.png',\n",
    "'Processes.018.png',\n",
    "'Processes.019.png',\n",
    "'Processes.020.png',\n",
    "'Processes.021.png',\n",
    "'Processes.022.png',\n",
    "'Processes.023.png',\n",
    "'Processes.024.png',\n",
    "'Processes.025.png',\n",
    "'Processes.026.png',\n",
    "'Processes.027.png',\n",
    "'Processes.028.png',\n",
    "'Processes.029.png',\n",
    "'Processes.030.png',\n",
    "'Processes.031.png',\n",
    "'Processes.032.png',\n",
    "'Processes.033.png',\n",
    "'Processes.034.png',\n",
    "'Processes.035.png',\n",
    "'Processes.036.png',\n",
    "'Processes.037.png',\n",
    "'Processes.038.png',\n",
    "'Processes.039.png',\n",
    "'Processes.040.png',\n",
    "'Processes.041.png',\n",
    "'Processes.042.png',\n",
    "'Processes.043.png',\n",
    "'Processes.044.png',\n",
    "'Processes.045.png',\n",
    "'Processes.046.png',\n",
    "'Processes.047.png',\n",
    "'Processes.048.png',\n",
    "'Processes.049.png',\n",
    "'Processes.050.png']))"
   ]
  },
  {
   "cell_type": "code",
   "execution_count": null,
   "id": "e5a8b16a",
   "metadata": {
    "hide_input": true,
    "tags": [
     "remove-cell"
    ]
   },
   "outputs": [],
   "source": [
    "display(showTerm(HHTERM,\"Term1\",\"100%\",\"400\"))"
   ]
  },
  {
   "cell_type": "code",
   "execution_count": null,
   "id": "6f825e8b",
   "metadata": {
    "hide_input": true,
    "tags": [
     "remove-cell"
    ]
   },
   "outputs": [],
   "source": [
    "display(showTerm(EDITORTERM,\"Term2\",\"100%\",\"400\"))"
   ]
  },
  {
   "cell_type": "markdown",
   "id": "803bbb51",
   "metadata": {
    "hide_input": false,
    "slideshow": {
     "slide_type": "skip"
    }
   },
   "source": [
    "## Variables in detail\n",
    "- has a name and stores a value\n",
    "- variables are assigned a value with `name=[value]`\n",
    "  - Note cannot have spaces between either name `=` or `=` and value\n",
    "  - by default variable are \"string\" variables\n",
    "  - NULL/empty string is a valid value eg. `x=`\n",
    "  - value of an assignment is subject to the following expansions:\n",
    "     - tilde\n",
    "     - parameter and variable expansion\n",
    "     - quote removal \n",
    "     - if variable has integer attribute then arithmetic expansion is done\n",
    "  - one more attributes that can be assigned with the `declare` builtin\n",
    "  - no need to declare\n",
    "    - eg. assignment to a non-exiting variable creates it\n",
    "  - can mark some variables for export (environment variables)\n",
    "    - \"exported\"  variables are copied via UNIX environment to child processes\n",
    "      - Environment a set of strings of the form : \"NAME=STRING\"\n",
    "      - Bash has the kernel copy the current set of exported variables when it launches\n",
    "            a new program.  Programs can inspect these values and customize their behavior. (eg. locale)\n",
    "      - `export <Variable>[=Value]` (can do the same with `declare -x`)\n",
    "- variable expansion and quotes\n",
    "        - `echo $x   $y` vs `echo 'echo $x   $y'` vs echo \"$x   $y\"`\n",
    "        - `echo \"$x   \\$y\"`\n",
    "- some special unnamed variables (called parameters)\n",
    "  - actually variables are technically parameters with names \n",
    "  - `1` - `n` -- positional parameters expand to ordered arguments of script or function \n",
    "  - `@` and `*` -- expands to positional parameters however with differing expansion rules\n",
    "  - `#` -- expands to number of positional parameters\n",
    "  - `?` -- expands to exit status of last command/pipeline\n",
    "  - others -- `-`, `$`, `!`, `0`\n",
    "- Advanced: `declare`\n",
    "  - integers \n",
    "    - `declare -i myvar; myvar=myvar+1; echo $myvar` vs not using the declare -i?\n",
    "  - indexed arrays\n",
    "  - associative arrays\n",
    "  - ref variables \n",
    "  - other built-ins that are special forms of `declare`\n",
    "      - `typeset` (same as `declare`)\n",
    "      - `export` (like using `declare -x`)\n",
    "      - `readonly` (like using `declare -r`)\n",
    "      - `+=`\n",
    "      - `unset`\n",
    "- things that look like variables but are really fancy expansions\n",
    "  - `$` actually triggers three types of expansion \n",
    "    1. parameter expansion\n",
    "    2. command substitution\n",
    "    3. arithmetic expansion\n",
    "  - Parameter expansion \n",
    "     - simple: `$name` or more explicitly `${name}`\n",
    "     - many advanced forms: Here are a few that I constantly use\n",
    "        - setting default value eg. `foo=${foo:-START}`\n",
    "        - delete prefix eg. `foo=ABCA.txt; echo ${foo##*.}`\n",
    "        - delete suffix eg. `foo=ABCA.txt; echo ${foo%%.txt}`\n",
    "        - substitution/deletion eg. `foo=ABCA.txt; echo ${foo//A/O}` or `echo ${foo//A/}`\n",
    "  - Command  substitution\n",
    "    - very useful run a command and treat its output as a value\n",
    "    - `foo=$(ls); echo $ls` or `n=$(ls -1 | wc -l); echo $n`\n",
    "  - Arithmetic expansion: `$(())`, or `(())` or let, or if integer types variables \n",
    "    - Shell knows how to do basic integer math and some binary/bit operators \n",
    "      - `++`, `--`, `+`, `-`, `!`, `~`, `**`, `*`, `/`, `%`, `<<`, `>>`\n",
    "      - `<=`, `>=`, `<`, `>`, `==`, `!=`\n",
    "      - `&`, `^`, `|`, `&&`, `||`\n",
    "      - `expr ? expr : expr`\n",
    "      - `=`, `*=`, `/=`, `%=`, `+=`, `-=`, `<<=`, `>>=`, `&=`, `^=`, `|=`\n",
    "      - number formats:\n",
    "         - prefix: `0` - octal, `0x` - hex, `[#base]number` -- eg. `((x=2#101)); echo $x`"
   ]
  },
  {
   "cell_type": "markdown",
   "id": "2409a5df",
   "metadata": {
    "slideshow": {
     "slide_type": "skip"
    }
   },
   "source": [
    "See. https://www.gnu.org/software/bash/manual/bash.html#Shell-Commands\n",
    "2. Breakdown complex commands into simple commands\n",
    "  - complex commands are a composition of simple commands:\n",
    "      - pipelines \n",
    "        - connecting inputs and outputs of commands together using `|`\n",
    "        - `ls -1 /bin | wc -l`\n",
    "      - lists \n",
    "        - one or more pipelines separated by one of: `;`, `&&`, `||` or `&` and terminated by `;` or `;` or `&` or a newline.\n",
    "          - `echo \"about to run ls\"; ls; echo \"done running ls\"`\n",
    "          - `cmd1 && cmd2` : run `cmd2` if `cmd1` returns \"success\"\n",
    "          - `cmd1 || cmd2` : run `cmd2` if `cmd1` returns \"not success\" aka \"failure\"\n",
    "          - `cmd1 & cmd2 ` :  run `cmd1` asynchronously in the background and run `cmd2` \"normally\"\n",
    "             - lots more to say about asynchronous commands\n",
    "      - compound commands: Shell programming constructs (these can span lines)\n",
    "        - loops: `until`, `while`, `for`, `do`, `done`, `break`, `continue`\n",
    "          - there are two type of `for` loops\n",
    "        - conditionals: `if`, `then`, `elif`, `else`, `fi`, `case`, `select`, `(())`, `[[]]`\n",
    "        - grouping: `()`, `{}`\n",
    "  - functions\n",
    " "
   ]
  },
  {
   "cell_type": "markdown",
   "id": "3ca53848",
   "metadata": {
    "slideshow": {
     "slide_type": "skip"
    }
   },
   "source": [
    "<img  align=\"left\" src=\"../images/dirtree.png\" style=\"background-color:white;\" width=\"40%\">  \n",
    "\n",
    "`/` $+$ `home` $+$ `jonathan` $+$ `Classes` $+$ `CS` $+$ `210` $+$ `Assignment 1` $+$ `Problem 1`     \n",
    "\n",
    "`/` $+$ `home` $+$ `jonathan` $+$ `Classes` $+$ `CS` $+$ `210` $+$ `Assignment 2` $+$ `Problem 1` \n",
    "\n",
    "`/` $+$ `home` $+$ `jonathan` $+$ `Classes` $+$ `CS` $+$ `210` $+$ `Assignment 3` $+$ `Problem 1` \n",
    "\n",
    "\"Full\" path name: join independent components with the \"/\" character.  So the above three files as proper unix path names would be:"
   ]
  }
 ],
 "metadata": {
  "celltoolbar": "Slideshow",
  "hide_input": true,
  "kernelspec": {
   "display_name": "Python 3 (ipykernel)",
   "language": "python",
   "name": "python3"
  },
  "language_info": {
   "codemirror_mode": {
    "name": "ipython",
    "version": 3
   },
   "file_extension": ".py",
   "mimetype": "text/x-python",
   "name": "python",
   "nbconvert_exporter": "python",
   "pygments_lexer": "ipython3",
   "version": "3.9.6"
  },
  "rise": {
   "autolaunch": false,
   "enable_chalkboard": true,
   "footer": "SLS -- Lecture 2",
   "header": "Unix and Shell Part 2",
   "height": "100%",
   "scroll": true,
   "start_slideshow_at": "selected",
   "theme": "black",
   "transition": "none",
   "width": "100%"
  }
 },
 "nbformat": 4,
 "nbformat_minor": 5
}
