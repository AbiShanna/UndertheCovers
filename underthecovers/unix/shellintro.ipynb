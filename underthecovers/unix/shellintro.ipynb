{
 "cells": [
  {
   "cell_type": "code",
   "execution_count": null,
   "id": "ec029c64",
   "metadata": {
    "hide_input": true,
    "jupyter": {
     "source_hidden": true
    },
    "tags": [
     "remove-cell"
    ]
   },
   "outputs": [],
   "source": [
    "%run -i ../python/common.py\n",
    "bashCmds(\"[[ -d mydir ]] && rm -rf mydir\")\n",
    "closeAllOpenTtySessions()\n",
    "bash = BashSession()\n",
    "\n",
    "#bash.output()\n",
    "#bash.run(\" history\")"
   ]
  },
  {
   "cell_type": "markdown",
   "id": "1731505e",
   "metadata": {},
   "source": [
    "# The Shell - Part I: Having an ASCII conversation with the OS\n",
    "\n",
    "\n",
    "As we read in the Unix [introduction](../unix/intro.ipynb) a key feature of Unix is its command line interface that was developed for [ASCII terminals](../unix/terminal.ipynb) devices. Our goal in this chapter is to understand the general model of the shell and how to start working in the terminal environment.  If you have not done so be sure to have read the sections on the Unix [Kernel](../unix/intro.ipynb#UnixKernel_sec), [User Programs](../unix/intro.ipynb#UnixUser_sec), how we [visualize a running Unix system](../unix/intro.ipynb#UnixViz_sec), the introduction to [Terminal Emulators](../unix/terminal.ipynb#TerminalEmulators_sec) and the chapter introducing [Files and Directories](../unix/files.ipynb).\n",
    "\n",
    "> <img style=\"display: inline; margin: 1em 1em 0px 0px;\" align=\"left\" width=\"40\" src=\"../images/fyi.svg\"> <p style=\"background-color:powderblue;\"> It is a good idea to read this chapter with a terminal connection open so that you can explore the material as you read it.  Instructions and guidance on how to do this can be found in [Terminal Emulators](../unix/terminal.ipynb#TerminalEmulators_sec)."
   ]
  },
  {
   "cell_type": "markdown",
   "id": "adb5c6d1",
   "metadata": {},
   "source": [
    "## Our interface to the Kernel\n",
    "\n",
    "<img style=\"float: right; margin: 0px 0px 0px 10px;\" width=\"50%\" src=\"../images/UnixL01_SHCHT/04SHLLChat.png\">\n",
    "\n",
    "As discussed the core functionality of the Unix operating system is implemented by the Kernel.  But the kernel is really only responsible for making it easier to run and write application/user programs. The Kernel does not have any support for humans to directly interact with it.  That is where the shell comes in. The shell acts as our primary point of contact/interface not only to the kernel but also all the other programs installed.  "
   ]
  },
  {
   "cell_type": "markdown",
   "id": "e0492d90",
   "metadata": {},
   "source": [
    "## Bash\n",
    "Over the years there have been many variants of the shell program that have been developed not only for Unix but other operating systems as well (see [comparison of shells](https://en.wikipedia.org/wiki/Comparison_of_command_shells).   While there are differences between the various Unix shell programs the basic model of interaction we cover in this chapter is largely the same across all of them.   However, with respect to the exact syntax and details we will be focus on the [Bourne Again Shell (BASH)](https://en.wikipedia.org/wiki/Bash_(Unix_shell)),  as it is the default shell for Linux which is the version of Unix we use through out this book.\n",
    "\n",
    "It is a Unix tradition that programs installed on the system, like Bash, include documentation on how it is used.  To access the manual pages you use the `man` program eg. `man man` would bring up the documentation about the manual itself.  So `man bash` will bring up the manual page for the bash shell.  You can find detailed coverage of the syntax and how bash works in the manual.  After we cover some basics it will be much easier to read and understand the Bash manual page as it assumes that you understand some basic UNIX and generic shell concepts.  "
   ]
  },
  {
   "cell_type": "markdown",
   "id": "b4ef1e23",
   "metadata": {},
   "source": [
    "## Shell Session\n",
    "Remembering that ASCII terminals were the original devices created for humans to interactively work with computers the shell is designed to managed and communicate with a human at a terminal. Thus the human and the shell are really exchanging bytes that encoded information in ASCII.  For every new terminal connection software directs the kernel to start an instance of a shell program  to interact with a user at the terminal.  We consider this the be the start of a shell \"session\".  The session ends when either the communication between the shell and the terminal is disconnected or because the user purposefully exits the shell.  \n",
    "\n",
    "\n",
    "### Terminal Windows and the Shell\n",
    "Today of course, we rarely use physical terminals any more.  Rather, on our physical client computers (eg. laptops, desktops, tablets, etc) we can start many terminal emulator windows to establish a shell session for each (see below). Each session will stay active until we exit or close the session and kill the associated shell.  Since each window is connected to its own shell they represent independent \"conversations\" in which we can do different things concurrently."
   ]
  },
  {
   "cell_type": "code",
   "execution_count": null,
   "id": "ec768f59",
   "metadata": {
    "hide_input": true,
    "jupyter": {
     "source_hidden": true
    },
    "tags": [
     "remove-input"
    ]
   },
   "outputs": [],
   "source": [
    "display(HTML(htmlFig(\n",
    "    [[\n",
    "        {'src':\"../images/UnixL01_SHCHT/041SHLLChat.png\",\n",
    "         'cellwidth': '47.5%'},\n",
    "        {'src':\"../images/terminalwins.png\",\n",
    "         'cellwidth': '52%'}\n",
    "     ]],\n",
    "    caption=\"Figure: Today terminal emulators running on our desktop act act as ASCII terminals. Every new window is a new terminal connection.\"\n",
    ")))"
   ]
  },
  {
   "cell_type": "markdown",
   "id": "5709ee4c",
   "metadata": {},
   "source": [
    "> <img style=\"display:inline; margin: 1em 1em 0px 0px;\" align=\"left\" width=\"40\" src=\"../images/do.svg\"> <p style=\"background-color:lightgreen;\">  While you are learning how to work with bash it can be really useful to keep a terminal open in which you keep the bash manual page open while you use another terminal shell session to do your exploring."
   ]
  },
  {
   "cell_type": "markdown",
   "id": "da0120ce-b883-4cc8-b73a-29d9d393774e",
   "metadata": {},
   "source": [
    "## Line oriented conversation\n",
    "\n",
    "<img style=\"float: left; margin: 0px 10px 0px 0px;\" width=\"30%\" src=\"../images/shellloopcartoon.png\">\n",
    "The way we interact with the shell can be thought of as a structured, interactive, \"conversation\". The conversation is a series of back and forth exchanges. We, the user, type in a request in the form of a \"command line\" and in response the shell takes some action and generate a particular response, as byte values, which are sent back to the terminal.  The terminal translates the response as ASCII characters displaying/printing the appropriate images of the ascii characters to the screen so we can read it.   \n",
    "\n",
    "### Lines\n",
    "\n",
    "Given our use of ASCII what constitutes a line, in Unix, is very precise. It is a series of byte values terminated by a single 'new-line/line-feed' value.  Using an ASCII  table we see that the byte value for the new-line character is `0b10000010` in binary or expressed more concisely in hex as `0xA`. The common short hand notation for the newline byte value is `\\n`.  Pressing the *return*  or *enter* key, depending on your keyboard, within a terminal window will generate this value.   We will simply refer to the key that generates a '\\n' as the *enter* key.  \n",
    "\n",
    "When `\\n` is received by the shell it will begin working on processing the line as a command.  In this way it is line oriented.  If the user presses `\\n` with no other preceding characters this is considered a blank or empty line.  \n",
    "\n",
    "In the other direction, the terminal emulator is configured to take the appropriate action when it receives a `\\n`.  That is to say it moves the cursor to the next lower position in the window (scrolling if configured to do so) and moves it to the left edge of the new line (again scrolling the window if configured to)."
   ]
  },
  {
   "cell_type": "markdown",
   "id": "2ac2676a-e719-4532-855d-bc6a16c443b8",
   "metadata": {},
   "source": [
    "    \n",
    "><img style=\"display:inline; margin: 1em 1em 0px 0px;\" align=\"left\" width=\"60\" src=\"../images/fyi.svg\"> <p style=\"background-color:powderblue;\"> There are two basic modes that the UNIX kernel can use when sending bytes sent from the terminal connection to the program running on the connection (so far in our case this is the shell later we will see that programs that we run from the shell can be allowed to take over this role).  The two modes are character and line.  In character mode the terminal data is sent along to the program running as soon as they are received, including the `\\n`.  In line (or buffered mode) the kernel stores up the characters and sent until it receives a `\\n`.   At which point it sends the complete line with the `\\n` to the program running. The default mode is typically line mode.  For the most part it does not really matter to us as the shell's behavior is largely the same as it is a line oriented program that is designed to process whole lines at a time.  However, later on this can be a source of confusion when we are writing programs that are not line oriented, rather they assume that they will see characters as soon as keys are pressed by the user.  \n",
    "\n",
    "    \n",
    "### The Prompt\n",
    "\n",
    "To visually let us know that the shell is ready for us to send it a line it sends a configurable sequence of characters which we call the prompt string or simply the prompt.  When a new connection is established it sends the prompt to the terminal so that we know that it is ready for the session/conversation to begin.  The classic prompt string is often either the dollar symbol, `$` or greater than sign `>` followed by a single space character.  In our illustrations and the default configuration we use sets up the prompt to be the classic dollar sign followed by a space.\n",
    "\n",
    "><img style=\"display: inline; margin: 1em 1em 0px 0px;\" align=\"left\" width=\"60\" src=\"../images/fyi.svg\"> <p style=\"background-color:powderblue;\"> Today most system default to much more complicated prompt strings.  Where the prompt might state your user name, the date or time, what your current working directory is, etc.   Later when we learn about shell variables we will find out that there is a special variable `PS1` who's value is used to generate the prompt string every time the shell want to send it.  Given that every terminal session/window is connected to separate shells can be very useful to set each one with a unique prompt to help keep you organized eg. `export PS1='Term 1> '`.\n",
    "If you are interested in the details use the following `man bash` to pull up the manual page for bash and look for the section called \"Prompting\".    "
   ]
  },
  {
   "cell_type": "markdown",
   "id": "20dd9987",
   "metadata": {},
   "source": [
    "## Our first shell session\n",
    "\n",
    "Before we more formally explain the operation of the shell lets poke it and see how it behaves.\n",
    "Perhaps the simplest thing we can do is send it an empty line by pressing *enter* on its own.\n",
    "What we should find is that the terminal will move to the next line and display the prompt again. \n",
    "But we want to be a little more careful to think about what happened behind the scenes so that we can build a more complete model in our mind about how the shell and terminal interactions work."
   ]
  },
  {
   "cell_type": "code",
   "execution_count": null,
   "id": "bdb1e575",
   "metadata": {
    "hide_input": true,
    "jupyter": {
     "source_hidden": true
    },
    "tags": [
     "remove-input"
    ]
   },
   "outputs": [],
   "source": [
    "display(HTML(htmlFig(\n",
    "    [\n",
    "        [\n",
    "            {'src':\"../images/UnixL01_SHCHT/06SHLLChat.png\",\n",
    "             'caption':'A: Press Enter', \n",
    "             'border': '1px solid black',\n",
    "             'padding':'1px',\n",
    "             'cellwidth':'33.33%'\n",
    "            },\n",
    "            {'src':\"../images/UnixL01_SHCHT/07SHLLChat.png\",\n",
    "             'caption':'B: Shell \"blank line\" input processing' , \n",
    "             'border': '1px solid black',\n",
    "             'padding':'1px',\n",
    "             'cellwidth':'33.33%'\n",
    "            },\n",
    "            {'src':\"../images/UnixL01_SHCHT/08SHLLChat.png\",\n",
    "             'caption':'C: Shell sends Prompt back', \n",
    "             'border': '1px solid black',\n",
    "             'padding':'1px',\n",
    "             'cellwidth':'33.33%'\n",
    "            },\n",
    "        ]\n",
    "    ],\n",
    "    id=\"fig:shell-blankline\",\n",
    "    caption=\"<center> Figure: Shell blank line behavior </center>\"\n",
    ")))"
   ]
  },
  {
   "cell_type": "markdown",
   "id": "3f7daaf8",
   "metadata": {
    "hide_input": true
   },
   "source": [
    "What happened after we pressed and release the *enter* key? The terminal sent through the Unix kernel a byte to the instance of the shell program that our terminal is virtually connected too.  Precisely, it sent the binary pattern `0b10000010` or in hex `0xa` as the left most sub-figure (A) illustrates.  The [figure](#fig:shell-blankline) show both the `\\n` human readable ASCII symbol and the underlying byte value.  In other diagrams we might stop showing the byte values and only show the ASCII human readable symbol.  It is, however, important to remember that under the covers the terminal and shell are really just exchanging raw binary values that use the ASCII standard to encode the data.  If we were to use special device, such as a [logic analyzer](https://en.wikipedia.org/wiki/Logic_analyzer), to peek at the electical wires that make up the path ways that are transmitting data back and forth between the computer and the terminal we would find electical values that encode the binary for the characters being exchanged. \n",
    "\n",
    "The middle figure (B), cartoons the logic that the shell does in response to receiving the blank line.  Specifically, it is programmed to do \"nothing\", simply sending back to the terminal the prompt so that the user knows it, the shell, is ready for another command line to be sent.  If you are interested in why the terminal displayed a `\\n` causing the prompt sent by the shell to be on the next line of the terminal read the fyi ECHO box below."
   ]
  },
  {
   "cell_type": "markdown",
   "id": "b5988592",
   "metadata": {},
   "source": [
    "><img   style=\"display: inline; margin: 1em 1em 0px 0px;\" align=\"left\" width=\"50\" src=\"../images/fyi.svg\"> <p style=\"background-color:powderblue;\"> **ECHO:**.  You might be wondering why is it that you see the characters you type at the keyboard of terminal appear on the screen of the terminal.  If pressing a key really sends the data to the Unix kernel and then to the program running, such as the shell, there is not reason we would see it.  Does the Shell send a copy back of what it receives?  No it does not.  Rather typically the UNIX kernel is configured, by default, to send back a copy of what it receives on a specific terminal connection back to the terminal itself.  This setting is called terminal ECHO mode.  So by default even before the Kernel sends data up to the destination program it sends a copy back to the terminal so that the user can see what they typed.  This includes the `\\n` that the user pressed to indicate the end of the command line.  Hence, in this default mode any data sent back from the shells behavior will appear on a new-line.  Programs can ask the kernel to disable this setting to have more control of what the users sees.  As a matter of fact like many things in Unix there is a command you can issue to have the kernel adjust the setting for you terminal connect including turning off the echo behavior (`stty -echo` to turn off and `stty echo` to turn back on).  Doing so lets you observe what is really being sent back in response to your command and not what the kernel automatically generated as echo data.  Note things might get confusing quickly if you turn echo off.   But Unix is all about understanding how things work and have the power to control them.  If you want to know more try `man stty` but be warned you will find that communications on a terminal is actually quite a bit more complex than it might seem -- there is a lot of history and skeletons buried here and the kernel is *cooking* the communications quite a bit ;-)"
   ]
  },
  {
   "cell_type": "markdown",
   "id": "426ea6e5-bd7c-4cf8-9565-2cbd9df9c3e2",
   "metadata": {
    "tags": [
     "remove-cell"
    ]
   },
   "source": [
    "## Command lines\n",
    "\n",
    "UNIX command lines can get quite complex. As a matter of fact one of the hallmarks of UNIX expertise is the ability to compose long command lines that chain together many commands.  Such ability develops in time as you get familar working with the shell and learn to issue simple command lines.\n",
    "\n",
    "The simplest command lines, other than the [blank command line](#fig:shell-blankline), is composed of a single \"word\".  The following are three examples of single word commands, `help`, `pwd` and `ls`.  \n"
   ]
  },
  {
   "cell_type": "markdown",
   "id": "786328b6-03ea-4dbc-9991-48847d7b022b",
   "metadata": {},
   "source": [
    "\n",
    "### Three simple examples"
   ]
  },
  {
   "cell_type": "markdown",
   "id": "bd2b0cbc-34f6-4687-94bd-690ae26707bb",
   "metadata": {},
   "source": [
    "The `help` command is a \"builtin\" command that well provides you some help :-)"
   ]
  },
  {
   "cell_type": "code",
   "execution_count": null,
   "id": "08897050-eea3-46c7-b98d-ce16616cf41d",
   "metadata": {
    "jupyter": {
     "source_hidden": true
    },
    "tags": [
     "remove-input"
    ]
   },
   "outputs": [],
   "source": [
    "bash.run(\"help\", height='20em')"
   ]
  },
  {
   "cell_type": "markdown",
   "id": "20d7906a-a1d9-421f-8346-801cad738d9d",
   "metadata": {},
   "source": [
    "The `pwd` command is a builtin command that prints the shell's current working directory.  We will discuss what the working directory is a little [later](#wd)."
   ]
  },
  {
   "cell_type": "code",
   "execution_count": null,
   "id": "75193897-8c4b-4098-986d-0e8652a3a4ad",
   "metadata": {
    "jupyter": {
     "source_hidden": true
    },
    "tags": [
     "remove-input"
    ]
   },
   "outputs": [],
   "source": [
    "bash.run(\"pwd\")"
   ]
  },
  {
   "cell_type": "markdown",
   "id": "356b6806-4b67-4299-9493-cc08536a4cb6",
   "metadata": {},
   "source": [
    "The `ls` command is a standard UNIX external command that lists the contents of a directory.  As we will find out later `ls` is a very powerful command that lets us explore the avaiable directories and files."
   ]
  },
  {
   "cell_type": "code",
   "execution_count": null,
   "id": "e16f2796-aa53-4fa5-af66-a3e5d15f2e07",
   "metadata": {
    "jupyter": {
     "source_hidden": true
    },
    "tags": [
     "remove-input"
    ]
   },
   "outputs": [],
   "source": [
    "bash.run(\"ls\")"
   ]
  },
  {
   "cell_type": "markdown",
   "id": "3aa68b73-9e37-4565-baa8-a734bf876358",
   "metadata": {
    "tags": [
     "remove-cell"
    ]
   },
   "source": [
    "## Command line processing\n",
    "\n",
    "When the shell receives a command line it goes through a series of steps to process it.  The rules of this processing define what is called the [Shell Grammar](https://man7.org/linux/man-pages/man1/bash.1.html#SHELL_GRAMMAR).  The Shell Grammar and builtin commands form an entire programming language.  Programs written in this language are called Shell Scripts and are used extensively to automate all sorts of tasks.     Over the years one learns more and more subtle aspects and usage of the shell grammar.  While it is possible to use the shell without really knowing its underlying grammer having a working knowledge can really help in understanding why the shell behaves the way it does and its somewhat strange syntax.\n",
    "\n",
    "In the remainder of this chapter we will build up our working knowledge of how the shell processes command lines and its grammar.  Let's begin by breaking down command line processing into the following six steps:\n",
    "\n",
    "1. break up (split) the line into \"blank\" seperated words (computer scientists also call these tokens)\n",
    "2. perform expansions\n",
    "3. parse redirections\n",
    "4. execute simple commands\n",
    "5. optionally wait for command to complete\n",
    "6. print prompt and wait for new command line if in interactive mode\n",
    "\n",
    "### Step 1: Breaking down a \"Command line\" into Simple Commands and Arguments\n",
    "\n",
    "In this step the shell splits the command line up into a set of tokens that form a \"simple commands\".   Several simple commands can make up a single command line. The common boundary that separates tokens are \"blanks\".  Blanks are `space` and `tab` characters ([blanks](https://man7.org/linux/man-pages/man1/bash.1.html#DEFINITIONS).   In the ASCII code, space characters are encoded with a byte value of `0x20` and a tab is encoded by `0x09`.  So a sequence of one more of these two characters will cause the shell to split what is before and after the sequence into to separate tokens.  \n",
    "\n",
    "In addition to the blank `space` and `tab` characters the following characters `|  & ; ( ) < > newline` will also indicate the speration of tokens.  Together, these characters are known as the shell \"metacharacters\".  In time we will learn about how these characters affect the commands to be executed. Some will let us combine simple commands in various ways.\n",
    "\n",
    "The first token of simple command is the name of the command to execute.  The following tokens in a set will be passed to the command as arguments.     To know where the arguments of a particular simple command ends the shell looks for one of the following \"control\" operators.  Notice that some of the metacharacters, `| & ; ( )` and `newline` itself both separate tokens and terminate the tokens of simple command.    Using the control characters allow us to chain independent simple commands together. "
   ]
  },
  {
   "cell_type": "markdown",
   "id": "b6b2635a-9746-4622-874d-15be348d19cb",
   "metadata": {},
   "source": [
    "\n",
    "<center><em>Table Shell Control Operators</em></center>\n",
    "\n",
    "\n",
    "| Control Operator | Description    |\n",
    "| :--------------: | ------------- |\n",
    "|  newline   |  End of line |\n",
    "|      $||$        |  Or list operator   |\n",
    "|      $\\&\\&$      |  And list operator  |\n",
    "|     $;$          |  Sequential list operator |\n",
    "|     $|$          |  Pipe Operator |\n",
    "|     $\\&$         |  Background Operator | \n",
    "|    $($ | Subshell list begin Operator |\n",
    "|    $)$ | Subshell list end Operator |\n",
    "|     $;;$ | Case statement end matching Operator |      \n",
    "|     $;\\&$ | Case statement fall through Operator |\n",
    "|     $;;\\&$ | Case statement continue matching Operator |\n",
    "\n",
    "\n",
    "\n"
   ]
  },
  {
   "cell_type": "markdown",
   "id": "71e35edc-17e5-4c08-8761-2e119168be8e",
   "metadata": {},
   "source": [
    "#### Comments\n",
    "\n",
    "If a token begins with the pound character, `#`,  then it and all the remaining tokens on the command line are ignored.  As such the `#` lets us add comments to what we are doing.  This will be particularly useful when we write shell scripts.  But they be helpfull even when using the shell interactively (see [Command line history](#history)).\n",
    "\n",
    "For example. We can ignore all tokens of the command line by placing a `#` either as a token on its own at the begining of a line,"
   ]
  },
  {
   "cell_type": "code",
   "execution_count": null,
   "id": "ba6d8b0c-f8f5-4275-8388-637aa340be85",
   "metadata": {
    "jupyter": {
     "source_hidden": true
    },
    "tags": [
     "remove-input"
    ]
   },
   "outputs": [],
   "source": [
    "bash.run(\"# This line is ignored.  The first token is a # on its own.\")"
   ]
  },
  {
   "cell_type": "markdown",
   "id": "fbd0e947-ce1c-41ce-8490-9e641e7a2346",
   "metadata": {},
   "source": [
    "or by by adding to the beginning of the first token."
   ]
  },
  {
   "cell_type": "code",
   "execution_count": null,
   "id": "5a3c985f-eb9b-49a9-9a0d-3282bfe4b6f4",
   "metadata": {
    "jupyter": {
     "source_hidden": true
    },
    "tags": [
     "remove-input"
    ]
   },
   "outputs": [],
   "source": [
    "bash.run(\"#This line is ignored. As the first token is #This which begins with #.\")"
   ]
  },
  {
   "cell_type": "code",
   "execution_count": null,
   "id": "320a5017-5e56-471e-8929-5cb9576692b9",
   "metadata": {
    "jupyter": {
     "source_hidden": true
    },
    "tags": [
     "remove-input"
    ]
   },
   "outputs": [],
   "source": [
    "bash.run(b'# the next line ends in a comment\\necho hello # rest of tokens are ignored')"
   ]
  },
  {
   "cell_type": "markdown",
   "id": "510693b4-e0a9-4a63-92ac-2c1dd96084a0",
   "metadata": {},
   "source": [
    "Another example"
   ]
  },
  {
   "cell_type": "code",
   "execution_count": null,
   "id": "f1c3f2ae-3618-4c3c-8a40-20ebd4ac9fdb",
   "metadata": {
    "jupyter": {
     "source_hidden": true
    },
    "tags": [
     "remove-input"
    ]
   },
   "outputs": [],
   "source": [
    "bash.run(\"pwd # print the current working directory\")"
   ]
  },
  {
   "cell_type": "markdown",
   "id": "ca662256-a294-4ad4-b076-91badf9b1741",
   "metadata": {},
   "source": [
    "#### Simple Command Line Spliting examples\n",
    "\n",
    "Lets look at a few examples of command lines and see if we can figure out what the command and the argument are.\n",
    "To help us denote spaces, tabs and newlines we will use the following notation repectively; `\\ `, `\\t` and `\\n`.\n",
    "\n",
    "\n",
    "1. Single word simple command\n",
    "```bash\n",
    "echo\\n\n",
    "```\n",
    "    - Breakdown: \n",
    "          - Tokens:\n",
    "               1. echo\n",
    "          - Command Name: echo\n",
    "    - Explanation:  Like out previous examples this a command line is formed of one simple one word command. In this case the ending newline both terminates the set of tokens forming our command and the line itself.   In this case the command is the `echo` command.  `echo` is a bash builtin command that prints back its arguments followed a newline (see `help echo`).  Given that we are not passing any addtional arguments we expect echo to simple print an blank line."
   ]
  },
  {
   "cell_type": "code",
   "execution_count": null,
   "id": "dc1849d7-a38c-43c8-b5c3-51e50a8246e4",
   "metadata": {
    "jupyter": {
     "source_hidden": true
    },
    "tags": [
     "remove-input"
    ]
   },
   "outputs": [],
   "source": [
    "bash.run(\"echo\")"
   ]
  },
  {
   "cell_type": "markdown",
   "id": "b4e2607e-6328-4860-91e5-02481858f48c",
   "metadata": {},
   "source": [
    "2. command with one argument\n",
    "```bash\n",
    "echo\\ hello\\n\n",
    "```\n",
    "    - Breakdown: \n",
    "          - Tokens:\n",
    "               1. echo\n",
    "               2. hello\n",
    "          - Command Name: echo\n",
    "          - Arguments:\n",
    "               1. hello\n",
    "    - Explanation: Here our command line is composed of a single simple command which is composed of two tokens seperated by a single space.  The first token is the command and the second is the first and only argument to the command."
   ]
  },
  {
   "cell_type": "code",
   "execution_count": null,
   "id": "d682ff0a-3d6e-4b10-a80d-ba2cfc7cb3a0",
   "metadata": {
    "jupyter": {
     "source_hidden": true
    },
    "tags": [
     "remove-input"
    ]
   },
   "outputs": [],
   "source": [
    "bash.run('echo hello')"
   ]
  },
  {
   "cell_type": "markdown",
   "id": "eefd0097-56d9-4cbf-a449-05d6c9ebef79",
   "metadata": {},
   "source": [
    "3. command with multiple arguments using multiple blanks as seperators\n",
    "```bash\n",
    "\\t\\ echo\\ hello\\ \\ goodbye\\ \\t\\ me\\ again\\ \\t\\n\n",
    "```\n",
    "    - Breakdown: \n",
    "          - Tokens:\n",
    "               1. echo\n",
    "               2. hello\n",
    "               3. goodbye\n",
    "               4. me\n",
    "               5. again\n",
    "          - Command Name: echo\n",
    "          - Arguments:\n",
    "               1. hello\n",
    "               2. goodbye\n",
    "               3. me\n",
    "               4. again\n",
    "    - Explanation: Here our command line is composed of a single simple command which is composed of five tokens seperated by differing combinations of spaces and tabs. To begin with we have a tab  and space preceeding the first token.  Then we have our first token `echo`  which is our command.  The next space separates `echo` from the `hello`.  Two spaces then separate `hello` from `goodbye`.  Then tghe sequence of space, tab, space separate `goodbye` from `me`.  A single space seperates `me` from `again`.  `again` is terminated as a token by the following space, tab and newline.  So it is important to note that when the shell runs echo the seperating blanks will be eliminated and only the tokens will be passed to echo as individual arguments.  "
   ]
  },
  {
   "cell_type": "code",
   "execution_count": null,
   "id": "46908db2-94fc-444d-85b5-6224b0516679",
   "metadata": {
    "jupyter": {
     "source_hidden": true
    },
    "tags": [
     "remove-input"
    ]
   },
   "outputs": [],
   "source": [
    "bash.run(b'\\t echo hello  goodbye \\t me again \\t')"
   ]
  },
  {
   "cell_type": "markdown",
   "id": "fbf598b1-9818-47be-b6d4-6401c59dfadc",
   "metadata": {},
   "source": [
    "<a id=\"quotes_and_splitting_sec\"></a>\n",
    "\n",
    "#### Quotes and Command Line Splitting\n",
    "\n",
    "There are times that one might want to include spaces or tabs in an argument to a command.  For example, lets say we want to use echo to print the following as a single argument that has the spaces as part of it (not three arguments; `hello`, `...`, and `goodbye`).\n",
    "\n",
    "```\n",
    "hello    ...    goodbye\n",
    "```\n",
    "\n",
    "To do this, the shell lets us use quotes to tell it not to do splitting.  The area enclosed in either double (\"\") or single ('') quotes will be treated as a single token.  We will see later that the reason we might choose between using double vs single quotes has to do with the controlling the shell's expansion behaviour.  So given this to send the above to echo as a single argument we would use either of the  the following command lines."
   ]
  },
  {
   "cell_type": "code",
   "execution_count": null,
   "id": "eec77786-cb62-4da7-a303-28914be28f32",
   "metadata": {
    "jupyter": {
     "source_hidden": true
    },
    "tags": [
     "remove-input"
    ]
   },
   "outputs": [],
   "source": [
    "bash.run('echo \"hello    ...    goodbye\"')"
   ]
  },
  {
   "cell_type": "code",
   "execution_count": null,
   "id": "e71efdaa-2e05-4a40-9394-3c8f6afec524",
   "metadata": {
    "jupyter": {
     "source_hidden": true
    },
    "tags": [
     "remove-input"
    ]
   },
   "outputs": [],
   "source": [
    "bash.run(\"echo 'hello    ...    goodbye'\")"
   ]
  },
  {
   "cell_type": "markdown",
   "id": "5682612d-6452-48e9-b223-f202f7d03750",
   "metadata": {},
   "source": [
    "##### Escaping blanks\n",
    "\n",
    "If we need finer control the shell also allows us to \"escape\" indivdual blank characters.  Escaped blanks will no longer be treated like a blank but instead be treated like a non-blank character.   To do this we put a back slash infront of the space or tab we want to escape. \n",
    "\n",
    "For example:"
   ]
  },
  {
   "cell_type": "code",
   "execution_count": null,
   "id": "354ea80e-2069-4e24-86b2-8e05065e95cb",
   "metadata": {
    "jupyter": {
     "source_hidden": true
    },
    "tags": [
     "remove-input"
    ]
   },
   "outputs": [],
   "source": [
    "bash.run('echo hello\\ \\ \\ ...\\ \\ \\ goodbye')"
   ]
  },
  {
   "cell_type": "markdown",
   "id": "7858e793-5c4b-4488-8467-5fc2741432ba",
   "metadata": {},
   "source": [
    "#### Summary\n",
    "\n",
    "While the above can seem intimidating at first it is worth remembering that the most common kind of command lines we use on a daily bases are  composed of one simple command often with no arguments specified or at most a few arguments sparated by single spaces.  The following are examples of the kind of commands that one typically might uses."
   ]
  },
  {
   "cell_type": "code",
   "execution_count": null,
   "id": "50533dc0-a55d-4b7a-90b7-e601f771a372",
   "metadata": {
    "jupyter": {
     "source_hidden": true
    },
    "tags": [
     "remove-input"
    ]
   },
   "outputs": [],
   "source": [
    "# we use a new shell for this to avoid polution of our primary bash session\n",
    "bash.run('''ls\n",
    "mkdir mydir\n",
    "ls\n",
    "cd mydir\n",
    "touch myfirstfile\n",
    "ls\n",
    "echo \"Hello.  Hello.\" > myfirstfile\n",
    "cat myfirstfile\n",
    "cp myfirstfile mysecondfile\n",
    "ls \n",
    "echo \"Goodbye and farewell.\" > mysecondfile\n",
    "diff myfirstfile mysecondfile\n",
    "cd''')"
   ]
  },
  {
   "cell_type": "markdown",
   "id": "5037b409-b8f0-4444-8ce9-26ed8c7611ae",
   "metadata": {},
   "source": [
    "In all these cases the line splitting stage of command line processing is very simple and intuitive.  "
   ]
  },
  {
   "cell_type": "markdown",
   "id": "e2d020b1-6366-4863-b4d4-e83dd7ba0783",
   "metadata": {
    "tags": []
   },
   "source": [
    "<a id='history'></a>\n",
    "\n",
    "#### Command line history\n",
    "\n",
    "Bash keeps a history of all the commands lines we have executed.  Learning to view and navigate this history can really help speed up our daily work.    We will cover some basics to help you be productive.  You can find more details about working with your bash history here:\n",
    "- Using the bash history https://www.gnu.org/software/bash/manual/bash.html#Using-History-Interactively\n",
    "- searching the history https://www.gnu.org/software/bash/manual/bash.html#Searching\n",
    "- keyboard short cuts for navigating the history https://www.gnu.org/software/bash/manual/bash.html#Commands-For-History\n",
    "\n",
    "\n",
    "To view the entire history we can use the history command."
   ]
  },
  {
   "cell_type": "code",
   "execution_count": null,
   "id": "5c132961-ceb6-4f8e-9092-a25667787d19",
   "metadata": {
    "jupyter": {
     "source_hidden": true
    },
    "tags": [
     "remove-input"
    ]
   },
   "outputs": [],
   "source": [
    "bash.run('history')"
   ]
  },
  {
   "cell_type": "markdown",
   "id": "19f1ef79-999f-4e63-9bb3-6868ad5028d2",
   "metadata": {},
   "source": [
    "To rerun a particular command in the history you can enter the exclamation character, `!` followed by the history number, n,  of the command line.  For example to rerun the command numbered 2 you would do the following:"
   ]
  },
  {
   "cell_type": "code",
   "execution_count": null,
   "id": "a2997b93-ec46-4357-9a83-178b38af2b84",
   "metadata": {
    "jupyter": {
     "source_hidden": true
    },
    "tags": [
     "remove-input"
    ]
   },
   "outputs": [],
   "source": [
    "bash.run('!2')"
   ]
  },
  {
   "cell_type": "markdown",
   "id": "1d8bac12-0e28-4345-bdbd-6098bb18affe",
   "metadata": {},
   "source": [
    "A short cut for the last command is `!!`. Eg"
   ]
  },
  {
   "cell_type": "code",
   "execution_count": null,
   "id": "b03b4f00-b2a8-493e-b5fb-65f75896c26a",
   "metadata": {
    "jupyter": {
     "source_hidden": true
    },
    "tags": [
     "remove-input"
    ]
   },
   "outputs": [],
   "source": [
    "bash.run(\"pwd\\n!!\")"
   ]
  },
  {
   "cell_type": "markdown",
   "id": "eb87a0f5-a0ca-4e17-9698-089df5ac0532",
   "metadata": {},
   "source": [
    "Bash also has some behavior that lets you avoid having a commands recorded in the history.  The defaut is that commands lines who's first character is a space will not be put into the history as well as duplicates.  (See HISTIGNORE and HISTCONTROL in the bash manual for more details on how to control and modify this behavior).  For example if we do not want our use of the history command to \"polute\" our history we would add a space to the front of the line.  Eg."
   ]
  },
  {
   "cell_type": "code",
   "execution_count": null,
   "id": "2bf21de1-f3bf-43b2-8a37-10426c025b91",
   "metadata": {
    "jupyter": {
     "source_hidden": true
    },
    "tags": [
     "remove-input"
    ]
   },
   "outputs": [],
   "source": [
    "bash.run(\" history\")"
   ]
  },
  {
   "cell_type": "markdown",
   "id": "f703a511-f5a2-4118-880c-aae4e3446e9d",
   "metadata": {},
   "source": [
    "Finally perhaps, the most important aspect as a beginner is ability to use key sequences to: \n",
    "- go backward in the history : `previous-history`\n",
    "- go forward in the history : `next-history`\n",
    "- search history backwards : `reverse-search-history`\n",
    "- search history forwards : `forward-search-history`\n",
    "\n",
    "Each of these abilities are \"bound\" to various key sequences.  Usually previous and next will be mapped to your arrow keys.  But if you want to learn what the default \"bindings\" are (what key sequences will cause one of the above abilities you can use the following commands):"
   ]
  },
  {
   "cell_type": "code",
   "execution_count": null,
   "id": "d47b14b9-c8f3-46f3-bf7b-b6a9606c3620",
   "metadata": {
    "jupyter": {
     "source_hidden": true
    },
    "tags": [
     "remove-input"
    ]
   },
   "outputs": [],
   "source": [
    "bash.run(\"bind -q previous-history\\nbind -q next-history\\nbind -q reverse-search-history\\nbind -q forward-search-history\")"
   ]
  },
  {
   "cell_type": "markdown",
   "id": "cdd974cf-399e-4c1a-b9e8-9d96028f1b41",
   "metadata": {},
   "source": [
    "The above output can seem very criptic.  Here is a quick and dirty explanation.  Search the bash manual for \"key bindings\" for more details.\n",
    "\n",
    "- `\\C` means press the control key\n",
    "- `\\e` means press the escape key\n",
    "- `-`  means that while pressing the preceeding key press and release the next key listed. Eg. `\\C-p` means press and hold down the control key then press and release the `p` key.  \n",
    "- if there is not `-` present the you press and release the keys as a sequence.  Eg. `\\eOA` means press and release the escape key, then press and release the caplital o key (`O`), followed by pressing and releasing the caplital a key (`A`).\n",
    "\n",
    "The best thing to do is to play around with these features.  Eg. try out all the prior commands and then use the history key binding to navigate the history and re-run some commands.\n"
   ]
  },
  {
   "cell_type": "markdown",
   "id": "23cba384-7386-4159-8fae-dadbd99faf3d",
   "metadata": {},
   "source": [
    "### Step 2: Preform Expansions\n",
    "\n",
    "After the shell has split a command line into tokens it preforms \"expansion\" on the tokens.  An expansion is the subtitution of some parts of a token with various other values.  In particular, it looks for specific special control characters to identify what needs expansion and what kind of expansion to do.  \n",
    "\n",
    "Expansions add a lot of power to what you can do with command lines but they can also be a little overwhelming at firsts.    We will focus on understanding the three most common expansions.  In time as you gain greater familarity with the shell we encourage you to explore others.  \n",
    "\n",
    "See the introduction paragraphs here https://man7.org/linux/man-pages/man1/bash.1.html#EXPANSION, and here https://www.gnu.org/software/bash/manual/bash.html#Shell-Expansions for and more detailed overview.\n",
    "\n",
    "#### Nine Command line Expansions\n",
    "\n",
    "Below is a brief overview of all nine expansions and our recommendations on the priority order you may want to explore them. \n",
    "\n",
    "\n",
    "##### Brace Expansion\n",
    "\n",
    "- Priority: You can wait learn this one.  \n",
    "- References: \n",
    "   - https://man7.org/linux/man-pages/man1/bash.1.html#EXPANSION (see *Brace Expansion*)\n",
    "   - https://www.gnu.org/software/bash/manual/bash.html#Brace-Expansion \n",
    "- Synopsis: Provides the ability expand a \"template\" token in to multiple tokens. \n",
    "- Examples:"
   ]
  },
  {
   "cell_type": "code",
   "execution_count": null,
   "id": "f1dd0100-1466-4826-8223-2d4ad6d0518f",
   "metadata": {
    "jupyter": {
     "source_hidden": true
    },
    "tags": [
     "remove-input"
    ]
   },
   "outputs": [],
   "source": [
    "bash.run('''echo poem{X,Y,Z}.text # list of values with an optional prefix and suffix\n",
    "echo poem{1..4}.text # range of values with an optional prefix and suffix''')"
   ]
  },
  {
   "cell_type": "markdown",
   "id": "5ba46749-9347-4661-887b-895b535d03ee",
   "metadata": {},
   "source": [
    "##### Tilde Expansion\n",
    "\n",
    "- Priority: **Simple and worth knowning**\n",
    "- Synopsis: Expands the tilde (`~`) into the path of your [home directory](./files.ipynb#HOMEDIR_sec).  In time you will be navigating and moving around the directory try and it is very useful to have a short cut to the path of your home directory.\n",
    "- References: https://www.gnu.org/software/bash/manual/bash.html#Tilde-Expansion, https://man7.org/linux/man-pages/man1/bash.1.html#EXPANSION (see *Tilde Expansion*)\n",
    "- Examples:"
   ]
  },
  {
   "cell_type": "code",
   "execution_count": null,
   "id": "c5e3c82a-9eeb-46a9-8eae-41f5da80f217",
   "metadata": {
    "jupyter": {
     "source_hidden": true
    },
    "tags": [
     "remove-input"
    ]
   },
   "outputs": [],
   "source": [
    "bash.run('''echo ~\n",
    "cd ~\n",
    "pwd \n",
    "cd /tmp\n",
    "pwd\n",
    "mkdir ~/mynewdir\n",
    "ls ~\n",
    "cd ~\n",
    "pwd''')"
   ]
  },
  {
   "cell_type": "markdown",
   "id": "d7cd6208-427e-40a3-a475-1efaba8c9897",
   "metadata": {},
   "source": [
    "##### Parameter and Variable Expansion\n",
    "\n",
    "- Priority: **Important to know basics** - rest can wait till later\n",
    "- Synopsis: Like  programming languages the shell supports the notion of a variable that is identified by a \"name\" and has a \"value\".  Shell variables are actually a special case of a what are called shell parameters. We will focus on variables. The shell provides certain special built in variables such as \"RANDOM\" whose value expands to a random number. As we will see later a very important built is the \"PATH\" variable.  There are several ways we can introduce our own variables and assign them a value.  The simplest is a command line of the form:  `name=value`.   During Parameter Expansion the `$` followed by name will trigger parameter expansion, optionally the name can be enclosed in braces `{name}`.  The token will then be expanded to the value if the named variable exists other wise the token will be simply removed.  The shell provides all kinds of fancy ways of manipulating and transforming the value of a variable during expansions, such as deleting or substituting portions, but we will leave that for later.  Finally shell variables can have attributes associated with them.   One important attribute marks a variable as exported.  We will see later that exported variables are passed to new programs as part of their initial \"environment\".  \n",
    "- References: \n",
    "  - https://man7.org/linux/man-pages/man1/bash.1.html#PARAMETERS\n",
    "  - https://man7.org/linux/man-pages/man1/bash.1.html#EXPANSION (see *Parameter Expansion*)\n",
    "  - https://www.gnu.org/software/bash/manual/bash.html#Shell-Parameters\n",
    "  - https://www.gnu.org/software/bash/manual/bash.html#Shell-Parameter-Expansion\n",
    "- Examples:"
   ]
  },
  {
   "cell_type": "code",
   "execution_count": null,
   "id": "fef41950-934c-44a7-ba63-8a581cec1842",
   "metadata": {
    "jupyter": {
     "source_hidden": true
    },
    "tags": [
     "remove-input"
    ]
   },
   "outputs": [],
   "source": [
    "bash.run('''# set a variable who's name is x and its value to the string hello\n",
    "x=hello\n",
    "# $x is expands to the current value of the variable named x\n",
    "echo x has the value: $x\n",
    "# assign a new value to x using quotes to avoid word splitting\n",
    "x=\"Hello and goodbye\"    \n",
    "# use $x again to expand x\n",
    "echo x now has the value $x\n",
    "# use braces to have more control \n",
    "echo x=${x}.\n",
    "# here are some examples of built ins\n",
    "echo $PATH\n",
    "echo $RANDOM\n",
    "echo $HOME\n",
    "echo $SECONDS''')"
   ]
  },
  {
   "cell_type": "markdown",
   "id": "84dc0185-d16c-4c01-a0de-59a27a1344bb",
   "metadata": {},
   "source": [
    "##### Command Substitution\n",
    "\n",
    "- Priority: useful but you can wait to learn about it\n",
    "- Synopsis: You can specify that the output of a command should be subsituted for its name.  To trigger this behaviour, like parameter expansion you use the dollar character `$` but follow it with the command to run enclosed in brackets eg. `$(command)`.  \n",
    "- References:\n",
    "  - https://man7.org/linux/man-pages/man1/bash.1.html#EXPANSION (see *Command Substitution*)\n",
    "  - https://www.gnu.org/software/bash/manual/bash.html#Command-Substitution\n",
    "- Examples:"
   ]
  },
  {
   "cell_type": "code",
   "execution_count": null,
   "id": "03c4e8b4-0a69-4b28-b5e2-3505c727b4fa",
   "metadata": {
    "jupyter": {
     "source_hidden": true
    },
    "tags": [
     "remove-input"
    ]
   },
   "outputs": [],
   "source": [
    "bash.run('''# the date command prints the current time and date\n",
    "date\n",
    "# we can use command substitution to pass the current date string as an argument to another command\n",
    "echo \"The current time and date is:\" $(date)\n",
    "# we set a variable to the output of a command\n",
    "set lastdate=$(date)''')"
   ]
  },
  {
   "cell_type": "markdown",
   "id": "c2a828be-555f-4660-8c99-1e56cb569cff",
   "metadata": {},
   "source": [
    "##### Arithmetic Expansion\n",
    "\n",
    "- Priority: Low. Useful for doing simple math and writing loops which come in time.  \n",
    "- Synopsis: Bash supports evaluation of basic arithmetic expressions as part of the expansions it does.  To trigger this expansion you must enclose the expression in double round brackets prefixed by the `$` character.  Eg. `$((expression))`.  Two particularly nice features, are the support for bitwise operators and arbitray bases.  Knowing how to use these features let's you quickly do base conversions and use bitwise operators to express values.  \n",
    "- References\n",
    "   - https://man7.org/linux/man-pages/man1/bash.1.html#EXPANSION (see *Arithmetic Expansion*)\n",
    "    - https://man7.org/linux/man-pages/man1/bash.1.html#ARITHMETIC_EVALUATION\n",
    "   - https://www.gnu.org/software/bash/manual/bash.html#Arithmetic-Expansion\n",
    "   - https://www.gnu.org/software/bash/manual/bash.html#Shell-Arithmetic\n",
    "- Examples:"
   ]
  },
  {
   "cell_type": "code",
   "execution_count": null,
   "id": "8d5dc5ca-4071-4520-a366-bb56614d8f0e",
   "metadata": {
    "jupyter": {
     "source_hidden": true
    },
    "tags": [
     "remove-input"
    ]
   },
   "outputs": [],
   "source": [
    "bash.run('''# does the normal interger math you expect\n",
    "echo $((1+1))\n",
    "x=7\n",
    "echo $((x = x + 1))\n",
    "echo $x\n",
    "# to specify a number in a particular base use <base>#<value>\n",
    "# eg. binary base 2 1100 plus base 10 3\n",
    "echo $(( 2#1100 + 10#3 ))\n",
    "# binary 1 left shift 12\n",
    "echo $(( 2#1 << 12 ))''')\n"
   ]
  },
  {
   "cell_type": "markdown",
   "id": "8bd46aa4-a23a-4e11-8354-8d27ed3973d9",
   "metadata": {},
   "source": [
    "> <img style=\"display: inline; margin: 1em 1em 0px 0px;\" align=\"left\" width=\"40\" src=\"../images/fyi.svg\"> <p style=\"background-color:powderblue;\"> While Bash lets us express values in arbitrary bases as input for arithmetic expression it uses base ten for all expanded output values. To get around this and display a value in a base other than 10 we can use the shell's built in `printf` command.  `printf` supports printing values in base 10, base 8 and base 16. Eg.  "
   ]
  },
  {
   "cell_type": "code",
   "execution_count": null,
   "id": "005dab0c-0889-4945-a3f3-9dd1193a1c03",
   "metadata": {
    "jupyter": {
     "source_hidden": true
    },
    "tags": [
     "remove-input"
    ]
   },
   "outputs": [],
   "source": [
    "bash.run('printf \"%d %o %x\\\\n\" $((10#255)) $((10#255)) $((10#255))')"
   ]
  },
  {
   "cell_type": "markdown",
   "id": "cde47f17-3561-4a2b-a77a-e58d3d1f3c12",
   "metadata": {},
   "source": [
    "##### Process Subsitition\n",
    "\n",
    "- Priority: low. \n",
    "- Synopsis:  This is a pretty subtle feature that lets you run commands treat them as files.   To understand what this means will require us to better understand what processes and files are.  \n",
    "- References:\n",
    "  - https://man7.org/linux/man-pages/man1/bash.1.html#EXPANSION  (see *Process Substitution*)\n",
    "  - https://www.gnu.org/software/bash/manual/bash.html#Process-Substitution\n",
    "- Examples"
   ]
  },
  {
   "cell_type": "code",
   "execution_count": null,
   "id": "412fa825-df02-458a-8b10-c581d59da5ae",
   "metadata": {
    "jupyter": {
     "source_hidden": true
    },
    "tags": [
     "remove-input"
    ]
   },
   "outputs": [],
   "source": [
    "bash.run('''# the diff command can compare two ascii files and show us the differences.\n",
    "# ls lets us list the contents of a directory.  \n",
    "# We can use process subtitution to treat the output of ls commands as if they where files.\n",
    "# So we can use diff as follows to compare the contents of two directories\n",
    "diff <(ls ~/mydir) <(ls ~/mynewdir)''')"
   ]
  },
  {
   "cell_type": "markdown",
   "id": "579c7ff4-82ce-4b70-9c70-d4aff0540688",
   "metadata": {},
   "source": [
    "##### Word Splitting on Expansion\n",
    "\n",
    "- Priority: low.  \n",
    "- Synopsis: After the shell has done parameter expansion, command substitution, and arithmetic expansion it will do another round of word splitting.\n",
    "- References:\n",
    "  - https://man7.org/linux/man-pages/man1/bash.1.html#EXPANSION  (see *Word Splitting*)\n",
    "  - https://www.gnu.org/software/bash/manual/bash.html#Word-Splitting\n",
    "- Examples"
   ]
  },
  {
   "cell_type": "code",
   "execution_count": null,
   "id": "88c2c7ba-152b-4e94-a5f7-6c3e502a408f",
   "metadata": {
    "jupyter": {
     "source_hidden": true
    },
    "tags": [
     "remove-input"
    ]
   },
   "outputs": [],
   "source": [
    "bash.run('''x=\"one    two      three\"\n",
    "# after expanding x but before running echo the shell\n",
    "# will again split the expanding output resulting in \n",
    "# this case three arguments to echo\n",
    "echo $x\n",
    "# we can suppress this with quotes\n",
    "echo \"$x\"\n",
    "# we can use other fancy splitting features too\n",
    "y=one:two:three\n",
    "OIFS=$IFS; IFS=:; echo $y; IFS=$OIFS''')"
   ]
  },
  {
   "cell_type": "markdown",
   "id": "e0bd495f-c939-4718-9323-5e888af670b8",
   "metadata": {},
   "source": [
    "##### Filename Expansion\n",
    "\n",
    "- Priority: **Important to know the basics** but the subtle aspects can be left for later.\n",
    "- Synopsis:  A very useful feature of the shell is the ability to provide templates or patterns that will be expanded into the names of files and directories that exist and match the pattern.  The way you state a pattern and the way it is matched can get quit subtle and complex.  But the basic use is easy and can really save you time.   Ater the preceeding expansions are done and the second round of word splitting is complete the shell will scan what is left looking for a special set of characters its recognizes as pattern characters.  The most useful of these is the star `*`. The star will be substituted for any sequence of characters.  As such it is often called the wildcard character since it matches anything.  The shell will then look to see if there are files or directories that match the token subtituting the patterns as necessary.  If matching names exist then it will replace the single token with any matches found.  While this can sound complicated, in practice, the simple uses are straight forward and easy to understand from examples.  You will really want to play with this.\n",
    "- References:\n",
    "  - https://man7.org/linux/man-pages/man1/bash.1.html#EXPANSION  (see *Pathname Expansion* and *Pattern Matching*)\n",
    "  - https://www.gnu.org/software/bash/manual/bash.html#Filename-Expansion\n",
    "  - https://www.gnu.org/software/bash/manual/bash.html#Pattern-Matching\n",
    "- Examples:"
   ]
  },
  {
   "cell_type": "code",
   "execution_count": null,
   "id": "70e971fc-065f-4da5-bcc6-f8be2f8c6af2",
   "metadata": {
    "jupyter": {
     "source_hidden": true
    },
    "tags": [
     "remove-input"
    ]
   },
   "outputs": [],
   "source": [
    "bash.run('''# lots of commands take list of files to operate on\n",
    "# eg. list, copy, word count, search\n",
    "# filename expansion is very convient for flexibly generating\n",
    "# list of existing directories and files.\n",
    "# For example * on its own will expand to all the files that \n",
    "# exist in the current directory.\n",
    "echo *\n",
    "# combining star with parts of a path name can be very powerful.\n",
    "# below will match all files and directories who's name start '/'\n",
    "echo /*\n",
    "# we could restrich this to only once that start with '/l'\n",
    "echo /l*\n",
    "# below will match names of file that begin with \n",
    "# '/usr/include/g' followed by anything and ends with '.h'\n",
    "echo /usr/include/g*.h\n",
    "# we can even use more than one '*'\n",
    "echo /l*/*q*''')"
   ]
  },
  {
   "cell_type": "markdown",
   "id": "bb1b62e1-da0b-43b4-9fc9-6ac8c293bf23",
   "metadata": {},
   "source": [
    "##### Quote Removal\n",
    "- Priority: simple and does what you expect\n",
    "- Synopsis:  Finally any quotes and back-slashes not themselves within quotes or escaped will be removed.  We use generally use quotes to [control word splitting](#quotes_and_splitting_sec) and expansions (see [below](#quotes_and_expansions_sec))\n",
    "This simply is the phase that removes quotes from the tokens as expected.\n",
    "- References:\n",
    "  - https://man7.org/linux/man-pages/man1/bash.1.html#EXPANSION  (see *Quote Removal*)\n",
    "  - https://www.gnu.org/software/bash/manual/bash.html#Quote-Removal\n",
    "- Examples:"
   ]
  },
  {
   "cell_type": "code",
   "execution_count": null,
   "id": "7eec3531-b704-416f-97a0-d46492981c02",
   "metadata": {
    "jupyter": {
     "source_hidden": true
    },
    "tags": [
     "remove-input"
    ]
   },
   "outputs": [],
   "source": [
    "bash.run('''# quotes are removed from the tokens\n",
    "echo \"a\" 'b   c' 'd' \"e f\"\n",
    "# can nest quotes to avoid removal\n",
    "echo 'my \"double quote\"'\n",
    "echo \"my 'single quote'\" \n",
    "# quotes can back-slashes can be also escaped to avoid removal\n",
    "echo \\\\'quote 1\\\\' \\\\\"quote 2\\\\\" \n",
    "echo my back slash \\\\\\\\''')"
   ]
  },
  {
   "cell_type": "markdown",
   "id": "c6d50e8e-e360-43c3-80aa-4627bebfb8f5",
   "metadata": {},
   "source": [
    "<a id=\"quotes_and_expansions_sec\"></a>\n",
    "\n",
    "#### Quoting and Expansions\n",
    "\n",
    "Quotes let us control expansions in a way that is similar to how we could use quotes to [stop commandline splitting](#quotes_and_splitting_sec).  If we want to make sure that no expansions or splitting occurs over a portion of our command line we can enclose it in single quotes `'` `'`.  If we want some expansions to occur but no splitting then we can use double quotes `\"` `\"`. \n",
    "\n",
    "#### Single quotes\n",
    "\n",
    "So when we want a squence of chacaters to be treated, as a literal, exactly as we timed them, we enclose them in single quotes.  This supresses all splitting and expansions."
   ]
  },
  {
   "cell_type": "code",
   "execution_count": null,
   "id": "0879bdbe-9cdb-4c98-8cbe-c2c70d7598e0",
   "metadata": {
    "jupyter": {
     "source_hidden": true
    },
    "tags": [
     "remove-input"
    ]
   },
   "outputs": [],
   "source": [
    "bash.run('''echo 'you get {1..4} /* exactly !#$@$ $what $((1+1)) you type'\n",
    "''')"
   ]
  },
  {
   "cell_type": "markdown",
   "id": "2d9ee9ab-edae-4e4f-908a-4fba6276d5eb",
   "metadata": {},
   "source": [
    "#### Double quotes\n",
    "\n",
    "Doubles quotes provide us with something in between no quotes and single quotes.  They let us ensure that the enclosed text will be treated as a single token however cetain expansions are still processed prior to the command being executed.  All expansions that use the `$` as a prefix will still occur. \n"
   ]
  },
  {
   "cell_type": "markdown",
   "id": "b5211080-050a-425a-9769-fc49019d51d8",
   "metadata": {},
   "source": [
    "### Step 3: Parse Redirections"
   ]
  },
  {
   "cell_type": "markdown",
   "id": "1864bdf5-1d2a-4c0d-a46e-8441003dd956",
   "metadata": {},
   "source": [
    "### Step 4: Execute the command"
   ]
  },
  {
   "cell_type": "markdown",
   "id": "fc034fe6-941a-44e7-9e11-df37829a6794",
   "metadata": {},
   "source": [
    "### Step 5: Optionally wait for to complete"
   ]
  },
  {
   "cell_type": "markdown",
   "id": "fad344d7-606f-4006-8af7-de7bd8122a0d",
   "metadata": {},
   "source": [
    "### Step 6: Print prompt if interactive"
   ]
  },
  {
   "cell_type": "markdown",
   "id": "b71e70c9-1001-494a-8d0e-fb9247ade4f0",
   "metadata": {
    "tags": [
     "remove-cell"
    ]
   },
   "source": [
    "## Commands\n",
    "\n",
    "There are two categories of shell commands: 1) [Simple Commands]( and 2) [Compound Commands](https://www.gnu.org/software/bash/manual/bash.html#Compound-Commands).  Simple Commands are the bread and butter of how we use the shell and what we focus on in this chapter.  Compound commands allow one to group simple command together into a single unit.  Compound commands add\n",
    "\n",
    "### Simple Commands\n",
    "As one might expect, the heart of shell command lines are commands. A command is identified by a name formed from ASCII characters.  In our simple examples above these were, `help`, `pwd` and `ls`.   There are two core types of commands:\n",
    "1. builtin commands\n",
    "2. external commands\n",
    "\n",
    "To truly understand the Unix development environment and the philosophy behind it one needs to understand the distinction between shell built-in commands and external commands/programs.\n",
    "\n",
    "### Variable Assignments\n",
    "\n",
    "As part of the processing Simple Command the shell support the ability to set \"variables\".  (\n",
    "#### Built-in commands \n",
    "\n",
    "As we saw t"
   ]
  },
  {
   "cell_type": "markdown",
   "id": "a8417b4a-fda7-4d06-8140-305ed6ba010a",
   "metadata": {},
   "source": [
    "## Redirection"
   ]
  },
  {
   "cell_type": "markdown",
   "id": "2fdf85fb-d000-4f27-8d7d-46e7f6356420",
   "metadata": {},
   "source": [
    "## Pipelines"
   ]
  },
  {
   "cell_type": "markdown",
   "id": "81ead564-d344-496e-a0a6-62e7ff87642f",
   "metadata": {},
   "source": [
    "## The Environment\n",
    "\n",
    "### Working directory\n",
    "\n",
    "### Exported Shell Variables\n",
    "\n",
    "### Open File Descriptors\n"
   ]
  },
  {
   "cell_type": "markdown",
   "id": "60fd7b69",
   "metadata": {},
   "source": [
    "# Summary \n",
    "\n",
    "Now that we have a sense for the basic model of interacting with the shell, Unix's ASCII oriented human interface, we can go on and learn about some of the actual commands, both internal and external.  Along with the commands are common ways to use them to get things/tasks done."
   ]
  },
  {
   "cell_type": "markdown",
   "id": "4e154906-ca7d-47ba-8d6d-31e8c473c6a3",
   "metadata": {},
   "source": [
    "## Exercises\n",
    "\n",
    "### Given the following command line determine how it will be split into tokens and which token is the command and which are the arguments.\n",
    "Again we use `\\ `, `\\t` and `\\n` to indicate space, tab and newline characters respectively.\n",
    "```\n",
    "\\ foo\\t\\t\\t\\bar \\blah\\ goo\\n \n",
    "```\n"
   ]
  },
  {
   "cell_type": "code",
   "execution_count": null,
   "id": "18be9b11-17ee-4f99-a78b-690fcafaa437",
   "metadata": {
    "jupyter": {
     "source_hidden": true
    },
    "tags": []
   },
   "outputs": [],
   "source": [
    "Answer('''\n",
    "> There are four tokens: `foo`, `bar`, `blah` and `goo`.  The command token is `foo`. The arguments to `foo` will be; 1. `bar`, 2. `blah` and 3. `goo`\n",
    "''')"
   ]
  }
 ],
 "metadata": {
  "celltoolbar": "Tags",
  "hide_input": true,
  "kernelspec": {
   "display_name": "Python 3 (ipykernel)",
   "language": "python",
   "name": "python3"
  },
  "language_info": {
   "codemirror_mode": {
    "name": "ipython",
    "version": 3
   },
   "file_extension": ".py",
   "mimetype": "text/x-python",
   "name": "python",
   "nbconvert_exporter": "python",
   "pygments_lexer": "ipython3",
   "version": "3.9.6"
  }
 },
 "nbformat": 4,
 "nbformat_minor": 5
}
