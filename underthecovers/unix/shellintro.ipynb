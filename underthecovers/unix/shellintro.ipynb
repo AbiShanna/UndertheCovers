{
 "cells": [
  {
   "cell_type": "code",
   "execution_count": null,
   "id": "ec029c64",
   "metadata": {
    "hide_input": true,
    "jupyter": {
     "source_hidden": true
    },
    "tags": [
     "remove-cell"
    ]
   },
   "outputs": [],
   "source": [
    "%run -i ../python/common.py\n",
    "bashCmds(\"[[ -d mydir ]] && rm -rf mydir\")\n",
    "closeAllOpenTtySessions()\n",
    "bash = BashSession()\n",
    "\n",
    "#bash.output()\n",
    "#bash.run(\" history\")"
   ]
  },
  {
   "cell_type": "markdown",
   "id": "1731505e",
   "metadata": {},
   "source": [
    "# The Shell - Part I: Having an ASCII conversation with the OS\n",
    "\n",
    "\n",
    "As we read in the Unix [introduction](../unix/intro.ipynb) a key feature of Unix is its command line interface that was developed for [ASCII terminals](../unix/terminal.ipynb) devices. Our goal in this chapter is to understand the general model of the shell and how to start working in the terminal environment.  If you have not done so be sure to have read the sections on the Unix [Kernel](../unix/intro.ipynb#UnixKernel_sec), [User Programs](../unix/intro.ipynb#UnixUser_sec), how we [visualize a running Unix system](../unix/intro.ipynb#UnixViz_sec), the introduction to [Terminal Emulators](../unix/terminal.ipynb#TerminalEmulators_sec) and the chapter introducing [Files and Directories](../unix/files.ipynb).\n",
    "\n",
    "> <img style=\"display: inline; margin: 1em 1em 0px 0px;\" align=\"left\" width=\"40\" src=\"../images/fyi.svg\"> <p style=\"background-color:powderblue;\"> It is a good idea to read this chapter with a terminal connection open so that you can explore the material as you read it.  Instructions and guidance on how to do this can be found in [Terminal Emulators](../unix/terminal.ipynb#TerminalEmulators_sec)."
   ]
  },
  {
   "cell_type": "markdown",
   "id": "adb5c6d1",
   "metadata": {},
   "source": [
    "## Our interface to the Kernel\n",
    "\n",
    "<img style=\"float: right; margin: 0px 0px 0px 10px;\" width=\"50%\" src=\"../images/UnixL01_SHCHT/04SHLLChat.png\">\n",
    "\n",
    "As discussed the core functionality of the Unix operating system is implemented by the Kernel.  But the kernel is really only responsible for making it easier to run and write application/user programs. The Kernel does not have any support for humans to directly interact with it.  That is where the shell comes in. The shell acts as our primary point of contact/interface not only to the kernel but also all the other programs installed.  "
   ]
  },
  {
   "cell_type": "markdown",
   "id": "e0492d90",
   "metadata": {},
   "source": [
    "## Bash\n",
    "Over the years there have been many variants of the shell program that have been developed not only for Unix but other operating systems as well (see [comparison of shells](https://en.wikipedia.org/wiki/Comparison_of_command_shells).   While there are differences between the various Unix shell programs the basic model of interaction we cover in this chapter is largely the same across all of them.   However, with respect to the exact syntax and details we will be focus on the [Bourne Again Shell (BASH)](https://en.wikipedia.org/wiki/Bash_(Unix_shell)),  as it is the default shell for Linux which is the version of Unix we use through out this book.\n",
    "\n",
    "It is a Unix tradition that programs installed on the system, like Bash, include documentation on how it is used.  To access the manual pages you use the `man` program eg. `man man` would bring up the documentation about the manual itself.  So `man bash` will bring up the manual page for the bash shell.  You can find detailed coverage of the syntax and how bash works in the manual.  After we cover some basics it will be much easier to read and understand the Bash manual page as it assumes that you understand some basic Unix and generic shell concepts.  "
   ]
  },
  {
   "cell_type": "markdown",
   "id": "b4ef1e23",
   "metadata": {},
   "source": [
    "## Shell Session\n",
    "Remembering that ASCII terminals were the original devices created for humans to interactively work with computers the shell is designed to managed and communicate with a human at a terminal. Thus the human and the shell are really exchanging bytes that encoded information in ASCII.  For every new terminal connection software directs the kernel to start an instance of a shell program  to interact with a user at the terminal.  We consider this the be the start of a shell \"session\".  The session ends when either the communication between the shell and the terminal is disconnected or because the user purposefully exits the shell.  \n",
    "\n",
    "\n",
    "### Terminal Windows and the Shell\n",
    "Today of course, we rarely use physical terminals any more.  Rather, on our physical client computers (eg. laptops, desktops, tablets, etc) we can start many terminal emulator windows to establish a shell session for each (see below). Each session will stay active until we exit or close the session and kill the associated shell.  Since each window is connected to its own shell they represent independent \"conversations\" in which we can do different things concurrently."
   ]
  },
  {
   "cell_type": "code",
   "execution_count": null,
   "id": "ec768f59",
   "metadata": {
    "hide_input": true,
    "jupyter": {
     "source_hidden": true
    },
    "tags": [
     "remove-input"
    ]
   },
   "outputs": [],
   "source": [
    "display(HTML(htmlFig(\n",
    "    [[\n",
    "        {'src':\"../images/UnixL01_SHCHT/041SHLLChat.png\",\n",
    "         'cellwidth': '47.5%'},\n",
    "        {'src':\"../images/terminalwins.png\",\n",
    "         'cellwidth': '52%'}\n",
    "     ]],\n",
    "    caption=\"Figure: Today terminal emulators running on our desktop act act as ASCII terminals. Every new window is a new terminal connection.\"\n",
    ")))"
   ]
  },
  {
   "cell_type": "markdown",
   "id": "5709ee4c",
   "metadata": {},
   "source": [
    "> <img style=\"display:inline; margin: 1em 1em 0px 0px;\" align=\"left\" width=\"40\" src=\"../images/do.svg\"> <p style=\"background-color:lightgreen;\">  While you are learning how to work with bash it can be really useful to keep a terminal open in which you keep the bash manual page open while you use another terminal shell session to do your exploring."
   ]
  },
  {
   "cell_type": "markdown",
   "id": "da0120ce-b883-4cc8-b73a-29d9d393774e",
   "metadata": {},
   "source": [
    "## Line oriented conversation\n",
    "\n",
    "<img style=\"float: left; margin: 0px 10px 0px 0px;\" width=\"30%\" src=\"../images/shellloopcartoon.png\">\n",
    "The way we interact with the shell can be thought of as a structured, interactive, \"conversation\". The conversation is a series of back and forth exchanges. We, the user, type in a request in the form of a \"command line\" and in response the shell takes some action and generate a particular response, as byte values, which are sent back to the terminal.  The terminal translates the response as ASCII characters displaying/printing the appropriate images of the ascii characters to the screen so we can read it.   \n",
    "\n",
    "### Lines\n",
    "\n",
    "Given our use of ASCII what constitutes a line, in Unix, is very precise. It is a series of byte values terminated by a single 'new-line/line-feed' value.  Using an ASCII  table we see that the byte value for the new-line character is `0b10000010` in binary or expressed more concisely in hex as `0xA`. The common short hand notation for the newline byte value is `\\n`.  Pressing the *return*  or *enter* key, depending on your keyboard, within a terminal window will generate this value.   We will simply refer to the key that generates a '\\n' as the *enter* key.  \n",
    "\n",
    "When `\\n` is received by the shell it will begin working on processing the line as a command.  In this way it is line oriented.  If the user presses `\\n` with no other preceding characters this is considered a blank or empty line.  \n",
    "\n",
    "In the other direction, the terminal emulator is configured to take the appropriate action when it receives a `\\n`.  That is to say it moves the cursor to the next lower position in the window (scrolling if configured to do so) and moves it to the left edge of the new line (again scrolling the window if configured to)."
   ]
  },
  {
   "cell_type": "markdown",
   "id": "2ac2676a-e719-4532-855d-bc6a16c443b8",
   "metadata": {},
   "source": [
    "    \n",
    "><img style=\"display:inline; margin: 1em 1em 0px 0px;\" align=\"left\" width=\"60\" src=\"../images/fyi.svg\"> <p style=\"background-color:powderblue;\"> There are two basic modes that the UNIX kernel can use when sending bytes sent from the terminal connection to the program running on the connection (so far in our case this is the shell later we will see that programs that we run from the shell can be allowed to take over this role).  The two modes are character and line.  In character mode the terminal data is sent along to the program running as soon as they are received, including the `\\n`.  In line (or buffered mode) the kernel stores up the characters and sent until it receives a `\\n`.   At which point it sends the complete line with the `\\n` to the program running. The default mode is typically line mode.  For the most part it does not really matter to us as the shell's behavior is largely the same as it is a line oriented program that is designed to process whole lines at a time.  However, later on this can be a source of confusion when we are writing programs that are not line oriented, rather they assume that they will see characters as soon as keys are pressed by the user.  \n",
    "\n",
    "    \n",
    "### The Prompt\n",
    "\n",
    "To visually let us know that the shell is ready for us to send it a line it sends a configurable sequence of characters which we call the prompt string or simply the prompt.  When a new connection is established it sends the prompt to the terminal so that we know that it is ready for the session/conversation to begin.  The classic prompt string is often either the dollar symbol, `$` or greater than sign `>` followed by a single space character.  In our illustrations and the default configuration we use sets up the prompt to be the classic dollar sign followed by a space.\n",
    "\n",
    "><img style=\"display: inline; margin: 1em 1em 0px 0px;\" align=\"left\" width=\"60\" src=\"../images/fyi.svg\"> <p style=\"background-color:powderblue;\"> Today most system default to much more complicated prompt strings.  Where the prompt might state your user name, the date or time, what your current working directory is, etc.   Later when we learn about shell variables we will find out that there is a special variable `PS1` who's value is used to generate the prompt string every time the shell want to send it.  Given that every terminal session/window is connected to separate shells can be very useful to set each one with a unique prompt to help keep you organized eg. `export PS1='Term 1> '`.\n",
    "If you are interested in the details use the following `man bash` to pull up the manual page for bash and look for the section called \"Prompting\".    "
   ]
  },
  {
   "cell_type": "markdown",
   "id": "20dd9987",
   "metadata": {},
   "source": [
    "## Our first shell session\n",
    "\n",
    "Before we more formally explain the operation of the shell lets poke it and see how it behaves.\n",
    "Perhaps the simplest thing we can do is send it an empty line by pressing *enter* on its own.\n",
    "What we should find is that the terminal will move to the next line and display the prompt again. \n",
    "But we want to be a little more careful to think about what happened behind the scenes so that we can build a more complete model in our mind about how the shell and terminal interactions work."
   ]
  },
  {
   "cell_type": "code",
   "execution_count": null,
   "id": "bdb1e575",
   "metadata": {
    "hide_input": true,
    "jupyter": {
     "source_hidden": true
    },
    "tags": [
     "remove-input"
    ]
   },
   "outputs": [],
   "source": [
    "display(HTML(htmlFig(\n",
    "    [\n",
    "        [\n",
    "            {'src':\"../images/UnixL01_SHCHT/06SHLLChat.png\",\n",
    "             'caption':'A: Press Enter', \n",
    "             'border': '1px solid black',\n",
    "             'padding':'1px',\n",
    "             'cellwidth':'33.33%'\n",
    "            },\n",
    "            {'src':\"../images/UnixL01_SHCHT/07SHLLChat.png\",\n",
    "             'caption':'B: Shell \"blank line\" input processing' , \n",
    "             'border': '1px solid black',\n",
    "             'padding':'1px',\n",
    "             'cellwidth':'33.33%'\n",
    "            },\n",
    "            {'src':\"../images/UnixL01_SHCHT/08SHLLChat.png\",\n",
    "             'caption':'C: Shell sends Prompt back', \n",
    "             'border': '1px solid black',\n",
    "             'padding':'1px',\n",
    "             'cellwidth':'33.33%'\n",
    "            },\n",
    "        ]\n",
    "    ],\n",
    "    id=\"fig:shell-blankline\",\n",
    "    caption=\"<center> Figure: Shell blank line behavior </center>\"\n",
    ")))"
   ]
  },
  {
   "cell_type": "markdown",
   "id": "3f7daaf8",
   "metadata": {
    "hide_input": true
   },
   "source": [
    "What happened after we pressed and release the *enter* key? The terminal sent through the Unix kernel a byte to the instance of the shell program that our terminal is virtually connected too.  Precisely, it sent the binary pattern `0b10000010` or in hex `0xa` as the left most sub-figure (A) illustrates.  The [figure](#fig:shell-blankline) show both the `\\n` human readable ASCII symbol and the underlying byte value.  In other diagrams we might stop showing the byte values and only show the ASCII human readable symbol.  It is, however, important to remember that under the covers the terminal and shell are really just exchanging raw binary values that use the ASCII standard to encode the data.  If we were to use special device, such as a [logic analyzer](https://en.wikipedia.org/wiki/Logic_analyzer), to peek at the electical wires that make up the path ways that are transmitting data back and forth between the computer and the terminal we would find electical values that encode the binary for the characters being exchanged. \n",
    "\n",
    "The middle figure (B), cartoons the logic that the shell does in response to receiving the blank line.  Specifically, it is programmed to do \"nothing\", simply sending back to the terminal the prompt so that the user knows it, the shell, is ready for another command line to be sent.  If you are interested in why the terminal displayed a `\\n` causing the prompt sent by the shell to be on the next line of the terminal read the fyi ECHO box below."
   ]
  },
  {
   "cell_type": "markdown",
   "id": "b5988592",
   "metadata": {},
   "source": [
    "><img   style=\"display: inline; margin: 1em 1em 0px 0px;\" align=\"left\" width=\"50\" src=\"../images/fyi.svg\"> <p style=\"background-color:powderblue;\"> **ECHO:**.  You might be wondering why is it that you see the characters you type at the keyboard of terminal appear on the screen of the terminal.  If pressing a key really sends the data to the Unix kernel and then to the program running, such as the shell, there is not reason we would see it.  Does the Shell send a copy back of what it receives?  No it does not.  Rather typically the UNIX kernel is configured, by default, to send back a copy of what it receives on a specific terminal connection back to the terminal itself.  This setting is called terminal ECHO mode.  So by default even before the Kernel sends data up to the destination program it sends a copy back to the terminal so that the user can see what they typed.  This includes the `\\n` that the user pressed to indicate the end of the command line.  Hence, in this default mode any data sent back from the shells behavior will appear on a new-line.  Programs can ask the kernel to disable this setting to have more control of what the users sees.  As a matter of fact like many things in Unix there is a command you can issue to have the kernel adjust the setting for you terminal connect including turning off the echo behavior (`stty -echo` to turn off and `stty echo` to turn back on).  Doing so lets you observe what is really being sent back in response to your command and not what the kernel automatically generated as echo data.  Note things might get confusing quickly if you turn echo off.   But Unix is all about understanding how things work and have the power to control them.  If you want to know more try `man stty` but be warned you will find that communications on a terminal is actually quite a bit more complex than it might seem -- there is a lot of history and skeletons buried here and the kernel is *cooking* the communications quite a bit ;-)"
   ]
  },
  {
   "cell_type": "markdown",
   "id": "426ea6e5-bd7c-4cf8-9565-2cbd9df9c3e2",
   "metadata": {
    "tags": [
     "remove-cell"
    ]
   },
   "source": [
    "## Command lines\n",
    "\n",
    "UNIX command lines can get quite complex. As a matter of fact one of the hallmarks of UNIX expertise is the ability to compose long command lines that chain together many commands.  Such ability develops in time as you get familar working with the shell and learn to issue simple command lines.\n",
    "\n",
    "The simplest command lines, other than the [blank command line](#fig:shell-blankline), is composed of a single \"word\".  The following are three examples of single word commands, `help`, `pwd` and `ls`.  \n"
   ]
  },
  {
   "cell_type": "markdown",
   "id": "786328b6-03ea-4dbc-9991-48847d7b022b",
   "metadata": {},
   "source": [
    "\n",
    "### Three simple examples"
   ]
  },
  {
   "cell_type": "markdown",
   "id": "bd2b0cbc-34f6-4687-94bd-690ae26707bb",
   "metadata": {},
   "source": [
    "The `help` command is a \"builtin\" command that well provides you some help :-)"
   ]
  },
  {
   "cell_type": "code",
   "execution_count": null,
   "id": "08897050-eea3-46c7-b98d-ce16616cf41d",
   "metadata": {
    "jupyter": {
     "source_hidden": true
    },
    "tags": [
     "remove-input"
    ]
   },
   "outputs": [],
   "source": [
    "bash.run(\"help\", height='20em')"
   ]
  },
  {
   "cell_type": "markdown",
   "id": "20d7906a-a1d9-421f-8346-801cad738d9d",
   "metadata": {},
   "source": [
    "The `pwd` command is a builtin command that prints the shell's current working directory.  We will discuss what the working directory is a little [later](#wd)."
   ]
  },
  {
   "cell_type": "code",
   "execution_count": null,
   "id": "75193897-8c4b-4098-986d-0e8652a3a4ad",
   "metadata": {
    "jupyter": {
     "source_hidden": true
    },
    "tags": [
     "remove-input"
    ]
   },
   "outputs": [],
   "source": [
    "bash.run(\"pwd\")"
   ]
  },
  {
   "cell_type": "markdown",
   "id": "356b6806-4b67-4299-9493-cc08536a4cb6",
   "metadata": {},
   "source": [
    "The `ls` command is a standard UNIX external command that lists the contents of a directory.  As we will find out later `ls` is a very powerful command that lets us explore the avaiable directories and files."
   ]
  },
  {
   "cell_type": "code",
   "execution_count": null,
   "id": "e16f2796-aa53-4fa5-af66-a3e5d15f2e07",
   "metadata": {
    "jupyter": {
     "source_hidden": true
    },
    "tags": [
     "remove-input"
    ]
   },
   "outputs": [],
   "source": [
    "bash.run(\"ls\")"
   ]
  },
  {
   "cell_type": "markdown",
   "id": "3aa68b73-9e37-4565-baa8-a734bf876358",
   "metadata": {
    "tags": [
     "remove-cell"
    ]
   },
   "source": [
    "## Command line processing\n",
    "\n",
    "When the shell receives a command line it goes through a series of steps to process it.  The rules of this processing define what is called the [Shell Grammar](https://man7.org/linux/man-pages/man1/bash.1.html#SHELL_GRAMMAR).  The Shell Grammar and builtin commands form an entire programming language.  Programs written in this language are called Shell Scripts and are used extensively to automate all sorts of tasks.     Over the years one learns more and more subtle aspects and usage of the shell grammar.  While it is possible to use the shell without really knowing its underlying grammer having a working knowledge can really help in understanding why the shell behaves the way it does and its somewhat strange syntax.\n",
    "\n",
    "In the remainder of this chapter we will build up our working knowledge of how the shell processes command lines and its grammar.  Let's begin by breaking down command line processing into the following six steps:\n",
    "\n",
    "1. break up (split) the line into \"blank\" seperated words (computer scientists also call these tokens)\n",
    "2. perform expansions\n",
    "3. parse redirections\n",
    "4. execute simple commands\n",
    "5. optionally wait for command to complete\n",
    "6. print prompt and wait for new command line if in interactive mode\n",
    "\n",
    "### Step 1: Breaking down a \"Command line\" into Simple Commands and Arguments\n",
    "\n",
    "In this step the shell splits the command line up into a set of tokens that form a \"simple commands\".   Several simple commands can make up a single command line. The common boundary that separates tokens are \"blanks\".  Blanks are `space` and `tab` characters ([blanks](https://man7.org/linux/man-pages/man1/bash.1.html#DEFINITIONS).   In the ASCII code, space characters are encoded with a byte value of `0x20` and a tab is encoded by `0x09`.  So a sequence of one more of these two characters will cause the shell to split what is before and after the sequence into to separate tokens.  \n",
    "\n",
    "In addition to the blank `space` and `tab` characters the following characters `|  & ; ( ) < > newline` will also indicate the speration of tokens.  Together, these characters are known as the shell \"metacharacters\".  In time we will learn about how these characters affect the commands to be executed. Some will let us combine simple commands in various ways.\n",
    "\n",
    "The first token of simple command is the name of the command to execute.  The following tokens in a set will be passed to the command as arguments.     To know where the arguments of a particular simple command ends the shell looks for one of the following \"control\" operators.  Notice that some of the metacharacters, `| & ; ( )` and `newline` itself both separate tokens and terminate the tokens of simple command.    Using the control characters allow us to chain independent simple commands together. "
   ]
  },
  {
   "cell_type": "markdown",
   "id": "b6b2635a-9746-4622-874d-15be348d19cb",
   "metadata": {},
   "source": [
    "\n",
    "<center><em>Table Shell Control Operators</em></center>\n",
    "\n",
    "\n",
    "| Control Operator | Description    |\n",
    "| :--------------: | :-------------: |\n",
    "|  newline   |  End of line |\n",
    "|      $||$        |  Or list operator   |\n",
    "|      $\\&\\&$      |  And list operator  |\n",
    "|     $;$          |  Sequential list operator |\n",
    "|     $|$          |  Pipe Operator |\n",
    "|     $\\&$         |  Background Operator | \n",
    "|    $($ | Subshell list begin Operator |\n",
    "|    $)$ | Subshell list end Operator |\n",
    "|     $;;$ | Case statement end matching Operator |      \n",
    "|     $;\\&$ | Case statement fall through Operator |\n",
    "|     $;;\\&$ | Case statement continue matching Operator |\n",
    "\n",
    "\n",
    "\n"
   ]
  },
  {
   "cell_type": "markdown",
   "id": "71e35edc-17e5-4c08-8761-2e119168be8e",
   "metadata": {},
   "source": [
    "#### Comments\n",
    "\n",
    "If a token begins with the pound character, `#`,  then it and all the remaining tokens on the command line are ignored.  As such the `#` lets us add comments to what we are doing.  This will be particularly useful when we write shell scripts.  But they be helpfull even when using the shell interactively (see [history]).\n",
    "\n",
    "For example. We can ignore all tokens of the command line by placing a `#` either as a token on its own at the begining of a line,"
   ]
  },
  {
   "cell_type": "code",
   "execution_count": null,
   "id": "ba6d8b0c-f8f5-4275-8388-637aa340be85",
   "metadata": {
    "jupyter": {
     "source_hidden": true
    },
    "tags": [
     "remove-input"
    ]
   },
   "outputs": [],
   "source": [
    "bash.run(\"# This line is ignored.  The first token is a # on its own.\")"
   ]
  },
  {
   "cell_type": "markdown",
   "id": "fbd0e947-ce1c-41ce-8490-9e641e7a2346",
   "metadata": {},
   "source": [
    "or by by adding to the beginning of the first token."
   ]
  },
  {
   "cell_type": "code",
   "execution_count": null,
   "id": "5a3c985f-eb9b-49a9-9a0d-3282bfe4b6f4",
   "metadata": {
    "jupyter": {
     "source_hidden": true
    },
    "tags": [
     "remove-input"
    ]
   },
   "outputs": [],
   "source": [
    "bash.run(\"#This line is ignored. As the first token is #This which begins with #.\")"
   ]
  },
  {
   "cell_type": "code",
   "execution_count": null,
   "id": "320a5017-5e56-471e-8929-5cb9576692b9",
   "metadata": {
    "jupyter": {
     "source_hidden": true
    },
    "tags": [
     "remove-input"
    ]
   },
   "outputs": [],
   "source": [
    "bash.run(b'# the next line ends in a comment\\necho hello # rest of tokens are ignored')"
   ]
  },
  {
   "cell_type": "markdown",
   "id": "510693b4-e0a9-4a63-92ac-2c1dd96084a0",
   "metadata": {},
   "source": [
    "Another example"
   ]
  },
  {
   "cell_type": "code",
   "execution_count": null,
   "id": "f1c3f2ae-3618-4c3c-8a40-20ebd4ac9fdb",
   "metadata": {
    "jupyter": {
     "source_hidden": true
    },
    "tags": [
     "remove-input"
    ]
   },
   "outputs": [],
   "source": [
    "bash.run(\"pwd # print the current working directory\")"
   ]
  },
  {
   "cell_type": "markdown",
   "id": "ca662256-a294-4ad4-b076-91badf9b1741",
   "metadata": {},
   "source": [
    "#### Simple Command Line Spliting examples\n",
    "\n",
    "Lets look at a few examples of command lines and see if we can figure out what the command and the argument are.\n",
    "To help us denote spaces, tabs and newlines we will use the following notation repectively; `\\ `, `\\t` and `\\n`.\n",
    "\n",
    "\n",
    "1. Single word simple command\n",
    "```bash\n",
    "echo\\n\n",
    "```\n",
    "    - Breakdown: \n",
    "          - Tokens:\n",
    "               1. echo\n",
    "          - Command Name: echo\n",
    "    - Explanation:  Like out previous examples this a command line is formed of one simple one word command. In this case the ending newline both terminates the set of tokens forming our command and the line itself.   In this case the command is the `echo` command.  `echo` is a bash builtin command that prints back its arguments followed a newline (see `help echo`).  Given that we are not passing any addtional arguments we expect echo to simple print an blank line."
   ]
  },
  {
   "cell_type": "code",
   "execution_count": null,
   "id": "dc1849d7-a38c-43c8-b5c3-51e50a8246e4",
   "metadata": {
    "jupyter": {
     "source_hidden": true
    },
    "tags": [
     "remove-input"
    ]
   },
   "outputs": [],
   "source": [
    "bash.run(\"echo\")"
   ]
  },
  {
   "cell_type": "markdown",
   "id": "b4e2607e-6328-4860-91e5-02481858f48c",
   "metadata": {},
   "source": [
    "2. command with one argument\n",
    "```bash\n",
    "echo\\ hello\\n\n",
    "```\n",
    "    - Breakdown: \n",
    "          - Tokens:\n",
    "               1. echo\n",
    "               2. hello\n",
    "          - Command Name: echo\n",
    "          - Arguments:\n",
    "               1. hello\n",
    "    - Explanation: Here our command line is composed of a single simple command which is composed of two tokens seperated by a single space.  The first token is the command and the second is the first and only argument to the command."
   ]
  },
  {
   "cell_type": "code",
   "execution_count": null,
   "id": "d682ff0a-3d6e-4b10-a80d-ba2cfc7cb3a0",
   "metadata": {
    "jupyter": {
     "source_hidden": true
    },
    "tags": [
     "remove-input"
    ]
   },
   "outputs": [],
   "source": [
    "bash.run('echo hello')"
   ]
  },
  {
   "cell_type": "markdown",
   "id": "eefd0097-56d9-4cbf-a449-05d6c9ebef79",
   "metadata": {},
   "source": [
    "3. command with multiple arguments using multiple blanks as seperators\n",
    "```bash\n",
    "\\t\\ echo\\ hello\\ \\ goodbye\\ \\t\\ me\\ again\\ \\t\\n\n",
    "```\n",
    "    - Breakdown: \n",
    "          - Tokens:\n",
    "               1. echo\n",
    "               2. hello\n",
    "               3. goodbye\n",
    "               4. me\n",
    "               5. again\n",
    "          - Command Name: echo\n",
    "          - Arguments:\n",
    "               1. hello\n",
    "               2. goodbye\n",
    "               3. me\n",
    "               4. again\n",
    "    - Explanation: Here our command line is composed of a single simple command which is composed of five tokens seperated by differing combinations of spaces and tabs. To begin with we have a tab  and space preceeding the first token.  Then we have our first token `echo`  which is our command.  The next space separates `echo` from the `hello`.  Two spaces then separate `hello` from `goodbye`.  Then tghe sequence of space, tab, space separate `goodbye` from `me`.  A single space seperates `me` from `again`.  `again` is terminated as a token by the following space, tab and newline.  So it is important to note that when the shell runs echo the seperating blanks will be eliminated and only the tokens will be passed to echo as individual arguments.  "
   ]
  },
  {
   "cell_type": "code",
   "execution_count": null,
   "id": "46908db2-94fc-444d-85b5-6224b0516679",
   "metadata": {
    "jupyter": {
     "source_hidden": true
    },
    "tags": [
     "remove-input"
    ]
   },
   "outputs": [],
   "source": [
    "bash.run(b'\\t echo hello  goodbye \\t me again \\t')"
   ]
  },
  {
   "cell_type": "markdown",
   "id": "fbf598b1-9818-47be-b6d4-6401c59dfadc",
   "metadata": {},
   "source": [
    "#### Quotes and Command Line Splitting\n",
    "\n",
    "There are times that one might want to include spaces or tabs in an argument to a command.  For example, lets say we want to use echo to print the following as a single argument that has the spaces as part of it (not three arguments; `hello`, `...`, and `goodbye`).\n",
    "\n",
    "```\n",
    "hello    ...    goodbye\n",
    "```\n",
    "\n",
    "To do this, the shell lets us use quotes to tell it not to do splitting.  The area enclosed in either double (\"\") or single ('') quotes will be treated as a single token.  We will see later that the reason we might choose between using double vs single quotes has to do with the controlling the shell's expansion behaviour.  So given this to send the above to echo as a single argument we would use either of the  the following command lines."
   ]
  },
  {
   "cell_type": "code",
   "execution_count": null,
   "id": "eec77786-cb62-4da7-a303-28914be28f32",
   "metadata": {
    "jupyter": {
     "source_hidden": true
    },
    "tags": [
     "remove-input"
    ]
   },
   "outputs": [],
   "source": [
    "bash.run('echo \"hello    ...    goodbye\"')"
   ]
  },
  {
   "cell_type": "code",
   "execution_count": null,
   "id": "e71efdaa-2e05-4a40-9394-3c8f6afec524",
   "metadata": {
    "jupyter": {
     "source_hidden": true
    },
    "tags": [
     "remove-input"
    ]
   },
   "outputs": [],
   "source": [
    "bash.run(\"echo 'hello    ...    goodbye'\")"
   ]
  },
  {
   "cell_type": "markdown",
   "id": "5682612d-6452-48e9-b223-f202f7d03750",
   "metadata": {},
   "source": [
    "##### Escaping blanks\n",
    "\n",
    "If we need finer control the shell also allows us to \"escape\" indivdual blank characters.  Escaped blanks will no longer be treated like a blank but instead be treated like a non-blank character.   To do this we put a back slash infront of the space or tab we want to escape. \n",
    "\n",
    "For example:"
   ]
  },
  {
   "cell_type": "code",
   "execution_count": null,
   "id": "354ea80e-2069-4e24-86b2-8e05065e95cb",
   "metadata": {
    "jupyter": {
     "source_hidden": true
    },
    "tags": [
     "remove-input"
    ]
   },
   "outputs": [],
   "source": [
    "bash.run('echo hello\\ \\ \\ ...\\ \\ \\ goodbye')"
   ]
  },
  {
   "cell_type": "markdown",
   "id": "7858e793-5c4b-4488-8467-5fc2741432ba",
   "metadata": {},
   "source": [
    "#### Summary\n",
    "\n",
    "While the above can seem intimidating at first it is worth remembering that the most common kind of command lines we use on a daily bases are  composed of one simple command often with no arguments specified or at most a few arguments sparated by single spaces.  The following are examples of the kind of commands that one typically might uses."
   ]
  },
  {
   "cell_type": "code",
   "execution_count": null,
   "id": "50533dc0-a55d-4b7a-90b7-e601f771a372",
   "metadata": {
    "tags": [
     "remove-input"
    ]
   },
   "outputs": [],
   "source": [
    "# we use a new shell for this to avoid polution of our primary bash session\n",
    "bash.run('''ls\n",
    "mkdir mydir\n",
    "ls\n",
    "cd mydir\n",
    "touch myfirstfile\n",
    "ls\n",
    "echo \"Hello.  Hello.\" > myfirstfile\n",
    "cat myfirstfile\n",
    "cp myfirstfile mysecondfile\n",
    "ls \n",
    "echo \"Goodbye and farewell.\" > mysecondfile\n",
    "diff myfirstfile mysecondfile\n",
    "cd''')"
   ]
  },
  {
   "cell_type": "markdown",
   "id": "5037b409-b8f0-4444-8ce9-26ed8c7611ae",
   "metadata": {},
   "source": [
    "In all these cases the line splitting stage of command line processing is very simple and intuitive.  "
   ]
  },
  {
   "cell_type": "markdown",
   "id": "e2d020b1-6366-4863-b4d4-e83dd7ba0783",
   "metadata": {
    "tags": []
   },
   "source": [
    "#### Command line history\n",
    "\n",
    "Bash keeps a history of all the commands lines we have executed.  Learning to view and navigate this history can really help speed up our daily work.    We will cover some basics to help you be productive.  You can find more details about working with your bash history here:\n",
    "- Using the bash history https://www.gnu.org/software/bash/manual/bash.html#Using-History-Interactively\n",
    "- searching the history https://www.gnu.org/software/bash/manual/bash.html#Searching\n",
    "- keyboard short cuts for navigating the history https://www.gnu.org/software/bash/manual/bash.html#Commands-For-History\n",
    "\n",
    "\n",
    "To view the entire history we can use the history command."
   ]
  },
  {
   "cell_type": "code",
   "execution_count": null,
   "id": "5c132961-ceb6-4f8e-9092-a25667787d19",
   "metadata": {
    "jupyter": {
     "source_hidden": true
    },
    "tags": [
     "remove-input"
    ]
   },
   "outputs": [],
   "source": [
    "bash.run('history')"
   ]
  },
  {
   "cell_type": "markdown",
   "id": "19f1ef79-999f-4e63-9bb3-6868ad5028d2",
   "metadata": {},
   "source": [
    "To rerun a particular command in the history you can enter the exclamation character, `!` followed by the history number, n,  of the command.  For example to rerun the command numbered 2 you would do the following:"
   ]
  },
  {
   "cell_type": "code",
   "execution_count": null,
   "id": "a2997b93-ec46-4357-9a83-178b38af2b84",
   "metadata": {
    "jupyter": {
     "source_hidden": true
    },
    "tags": [
     "remove-input"
    ]
   },
   "outputs": [],
   "source": [
    "bash.run('!2')"
   ]
  },
  {
   "cell_type": "markdown",
   "id": "1d8bac12-0e28-4345-bdbd-6098bb18affe",
   "metadata": {},
   "source": [
    "A short cut for the last command is `!!`. Eg"
   ]
  },
  {
   "cell_type": "code",
   "execution_count": null,
   "id": "b03b4f00-b2a8-493e-b5fb-65f75896c26a",
   "metadata": {
    "jupyter": {
     "source_hidden": true
    },
    "tags": [
     "remove-input"
    ]
   },
   "outputs": [],
   "source": [
    "bash.run(\"pwd\\n!!\")"
   ]
  },
  {
   "cell_type": "markdown",
   "id": "eb87a0f5-a0ca-4e17-9698-089df5ac0532",
   "metadata": {},
   "source": [
    "Bash also has some behavior that lets you avoid having a commands recorded in the history.  The defaut is that commands lines who's first character is a space will not be put into the history as well as duplicates.  (See HISTIGNORE and HISTCONTROL in the bash manual for more details on how to control and modify this behavior).  For example if we do not want our use of the history command to \"polute\" our history we would add a space to the front of the line.  Eg."
   ]
  },
  {
   "cell_type": "code",
   "execution_count": null,
   "id": "2bf21de1-f3bf-43b2-8a37-10426c025b91",
   "metadata": {
    "jupyter": {
     "source_hidden": true
    },
    "tags": [
     "remove-input"
    ]
   },
   "outputs": [],
   "source": [
    "bash.run(\" history\")"
   ]
  },
  {
   "cell_type": "markdown",
   "id": "f703a511-f5a2-4118-880c-aae4e3446e9d",
   "metadata": {},
   "source": [
    "Finally perhaps, the most important aspect as a beginner is ability to use key sequences to: \n",
    "- go backward in the history : `previous-history`\n",
    "- go forward in the history : `next-history`\n",
    "- search history backwards : `reverse-search-history`\n",
    "- search history forwards : `forward-search-history`\n",
    "\n",
    "Each of these abilities are \"bound\" to various key sequences.  Usually previous and next will be mapped to your arrow keys.  But if you want to learn what the default \"bindings\" are (what key sequences will cause one of the above abilities you can use the following commands):"
   ]
  },
  {
   "cell_type": "code",
   "execution_count": null,
   "id": "d47b14b9-c8f3-46f3-bf7b-b6a9606c3620",
   "metadata": {
    "jupyter": {
     "source_hidden": true
    },
    "tags": [
     "remove-input"
    ]
   },
   "outputs": [],
   "source": [
    "bash.run(\"bind -q previous-history\\nbind -q next-history\\nbind -q reverse-search-history\\nbind -q forward-search-history\")"
   ]
  },
  {
   "cell_type": "markdown",
   "id": "cdd974cf-399e-4c1a-b9e8-9d96028f1b41",
   "metadata": {},
   "source": [
    "The above output can seem very criptic.  Here is a quick and dirty explanation.  Search the bash manual for \"key bindings\" for more details.\n",
    "\n",
    "- `\\C` means press the control key\n",
    "- `\\e` means press the escape key\n",
    "- `-`  means that while pressing the preceeding key press and release the next key listed. Eg. `\\C-p` means press and hold down the control key then press and release the `p` key.  \n",
    "- if there is not `-` present the you press and release the keys as a sequence.  Eg. `\\eOA` means press and release the escape key, then press and release the caplital o key (`O`), followed by pressing and releasing the caplital a key (`A`).\n",
    "\n",
    "The best thing to do is to play around with these features.  Eg. try out all the prior commands and then use the history key binding to navigate the history and re-run some commands.\n"
   ]
  },
  {
   "cell_type": "markdown",
   "id": "e647a27a-acbc-4a43-82fe-86cda44bd52e",
   "metadata": {},
   "source": [
    "### Step 2: Preform Expansions\n",
    "\n",
    "After the shell has split a command line into tokens it preforms \"expansion\" on the tokens.  An expansion is the subtitution of some parts of a token with various other values.  In particular, it looks for specific special control characters to identify what needs expansion and what kind of expansion to do.  \n",
    "\n",
    "Expansions add a lot of power to what you can do with command lines but they can also be a little overwhelming at firsts.    We will focus on understanding the three most common expansions.  In time as you gain greater familarity with the shell we encourage you to explore others.  \n",
    "\n",
    "See https://man7.org/linux/man-pages/man1/bash.1.html#EXPANSION, and \n",
    "\n",
    "#### Nine Command line Expansions\n",
    "\n",
    "Below is a brief overview of all nine expansions and our recommendations on the order you may want to explore them. \n",
    "\n",
    "\n",
    "##### Brace Expansion\n",
    "\n",
    "- Priority: You can wait learn this one\n",
    "- Synopsis: Provides the ability to \n",
    "\n",
    "##### Tilde Expansion\n",
    "\n",
    "- Priority:\n",
    "- Synopsis:\n",
    "\n",
    "##### Command Substitution\n",
    "\n",
    "- Priority:\n",
    "- Synopsis:\n",
    "\n",
    "##### Arithmetic Expansion\n",
    "\n",
    "- Priority:\n",
    "- Synopsis:\n",
    "\n",
    "##### Process Subsitition\n",
    "\n",
    "- Priority:\n",
    "- Synopsis:\n",
    "\n",
    "##### Word Splitting on Expansion\n",
    "\n",
    "- Priority:\n",
    "- Synopsis:\n",
    "\n",
    "##### Filename Expansion\n",
    "\n",
    "- Priority:\n",
    "- Synopsis:\n",
    "\n",
    "##### Quote Removal\n",
    "\n",
    "- Priority:\n",
    "- Synopsis:\n",
    "\n"
   ]
  },
  {
   "cell_type": "markdown",
   "id": "b5211080-050a-425a-9769-fc49019d51d8",
   "metadata": {},
   "source": [
    "### Step 3: Parse Redirections"
   ]
  },
  {
   "cell_type": "markdown",
   "id": "1864bdf5-1d2a-4c0d-a46e-8441003dd956",
   "metadata": {},
   "source": [
    "### Step 4: Execute the command"
   ]
  },
  {
   "cell_type": "markdown",
   "id": "fc034fe6-941a-44e7-9e11-df37829a6794",
   "metadata": {},
   "source": [
    "### Step 5: Optionally wait for to complete"
   ]
  },
  {
   "cell_type": "markdown",
   "id": "fad344d7-606f-4006-8af7-de7bd8122a0d",
   "metadata": {},
   "source": [
    "### Step 6: Print prompt if interactive"
   ]
  },
  {
   "cell_type": "markdown",
   "id": "b71e70c9-1001-494a-8d0e-fb9247ade4f0",
   "metadata": {
    "tags": [
     "remove-cell"
    ]
   },
   "source": [
    "## Commands\n",
    "\n",
    "There are two categories of shell commands: 1) [Simple Commands]( and 2) [Compound Commands](https://www.gnu.org/software/bash/manual/bash.html#Compound-Commands).  Simple Commands are the bread and butter of how we use the shell and what we focus on in this chapter.  Compound commands allow one to group simple command together into a single unit.  Compound commands add\n",
    "\n",
    "### Simple Commands\n",
    "As one might expect, the heart of shell command lines are commands. A command is identified by a name formed from ASCII characters.  In our simple examples above these were, `help`, `pwd` and `ls`.   There are two core types of commands:\n",
    "1. builtin commands\n",
    "2. external commands\n",
    "\n",
    "To truly understand the Unix development environment and the philosophy behind it one needs to understand the distinction between shell built-in commands and external commands/programs.\n",
    "\n",
    "### Variable Assignments\n",
    "\n",
    "As part of the processing Simple Command the shell support the ability to set \"variables\".  (\n",
    "#### Built-in commands \n",
    "\n",
    "As we saw t"
   ]
  },
  {
   "cell_type": "markdown",
   "id": "a8417b4a-fda7-4d06-8140-305ed6ba010a",
   "metadata": {},
   "source": [
    "## Redirection"
   ]
  },
  {
   "cell_type": "markdown",
   "id": "2fdf85fb-d000-4f27-8d7d-46e7f6356420",
   "metadata": {},
   "source": [
    "## Pipelines"
   ]
  },
  {
   "cell_type": "markdown",
   "id": "60fd7b69",
   "metadata": {},
   "source": [
    "# Summary \n",
    "\n",
    "Now that we have a sense for the basic model of interacting with the shell, Unix's ASCII oriented human interface, we can go on and learn about some of the actual commands, both internal and external.  Along with the commands are common ways to use them to get things/tasks done."
   ]
  },
  {
   "cell_type": "code",
   "execution_count": null,
   "id": "2e3e3e2f-1093-4a5a-800e-952593fa9d10",
   "metadata": {},
   "outputs": [],
   "source": []
  },
  {
   "cell_type": "markdown",
   "id": "4e154906-ca7d-47ba-8d6d-31e8c473c6a3",
   "metadata": {},
   "source": [
    "## Exercises\n",
    "\n",
    "### Given the following command line determine how it will be split into tokens and which token is the command and which are the arguments.\n",
    "Again we use `\\ `, `\\t` and `\\n` to indicate space, tab and newline characters respectively.\n",
    "```\n",
    "\\ foo\\t\\t\\t\\bar \\blah\\ goo\\n \n",
    "```\n"
   ]
  },
  {
   "cell_type": "code",
   "execution_count": null,
   "id": "18be9b11-17ee-4f99-a78b-690fcafaa437",
   "metadata": {
    "jupyter": {
     "source_hidden": true
    },
    "tags": []
   },
   "outputs": [],
   "source": [
    "Answer('''\n",
    "> There are four tokens: `foo`, `bar`, `blah` and `goo`.  The command token is `foo`. The arguments to `foo` will be; 1. `bar`, 2. `blah` and 3. `goo`\n",
    "''')"
   ]
  }
 ],
 "metadata": {
  "celltoolbar": "Tags",
  "hide_input": true,
  "kernelspec": {
   "display_name": "Python 3 (ipykernel)",
   "language": "python",
   "name": "python3"
  },
  "language_info": {
   "codemirror_mode": {
    "name": "ipython",
    "version": 3
   },
   "file_extension": ".py",
   "mimetype": "text/x-python",
   "name": "python",
   "nbconvert_exporter": "python",
   "pygments_lexer": "ipython3",
   "version": "3.9.6"
  }
 },
 "nbformat": 4,
 "nbformat_minor": 5
}
