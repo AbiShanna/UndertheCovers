{
 "cells": [
  {
   "cell_type": "markdown",
   "metadata": {},
   "source": [
    "# The Shell -- Progammable User Interface to the computer\n",
    "\n",
    "Given its history and programmer bent UNIX's primary interface -- or way of interacting with it to get things done is a program called the \"shell\".  In the following sections we will introduce various aspects of the shell, UNIX and fundamental ideas common to all modern operating systems.    \n",
    "\n",
    "## Getting started -- The Terminal and this book\n",
    "\n",
    "To work with a UNIX computer you must establish, one way or another, a plain text (ASCII) interactive session. \n",
    "We will learn what ASCII is later... for the moment is away of entering and displaying the basic english characters, numeric digits, and standard punctuation.  \n",
    "\n",
    "To do this you must start a \"Terminal\" session.  A \"Terminal\" is an ASCII application that is designed to accept characters from your keyboard and send them to a program and similarly characters sent from the remote program will be displayed by the terminal program for you to read.  \n",
    "\n",
    "On Windows you can start a terminal by using the PowerShell program and on OSX you can use the Terminal Application.  \n",
    "\n",
    "The next step, after starting a terminal emulator, is to connect it to a computer running UNIX. Today we typically use a program called `ssh` to establish this connection. Both Windows and OSX come with `ssh` that you can invoke from within the terminal.   `ssh` takes a hostname of the computer as an arugment and then uses network protocols to establish a terminal connection to the specified computer.   In response to establishing the connection the UNIX computer will prompt you to identify yourself with your username and password.  This is called logging.\n",
    "\n",
    "Uppon succesfully logging in the remote UNIX computer will start a shell programming running for you and from that point on anything you do or see in that terminal window is going to or coming from that remote computer.   So that terminal connection is actually a window into another computer!  You can start more windows to create more concurrent connections to the same or other remote computers.  Doing so can be very useful to improve your productivity.  \n",
    "\n",
    "However to make life a little easier in this book we use features of Jupyter to both create terminal sessions and establish connections to a UNIX computer from within the pages of the book themselves.  This allows you to directly and immediately explore the things we discuss.\n",
    "\n",
    "We do encourage you to poke around outside of this book using a terminal emulator and ssh to get a better feel for what is actually happening and so that you can have more control.  In the 'real world' (and in later classes) you will be expected to understand how to use your personal computers, tablets and even phones to establish terminal connections to other computers and know how to get work done on them."
   ]
  },
  {
   "cell_type": "markdown",
   "metadata": {},
   "source": [
    "### Command Line Anatomy\n",
    "\n",
    "Our interactions with the shell are \"line oriented\".\n",
    "That is to say that once we are connected to the shell it will be waiting for us to enter a command.\n",
    "To indicate this it will print a \"prompt\" at the beginning of a line.  Cannonically the prompt is often  (If you are intested you can lookup how to customize the prompt to something you prefer)\n",
    "\n",
    "Commands are a plain text \"key\" words that the shell will \"execute\" for us.\n",
    "To get the shell to do something we enter the command along with any arguments and modifies and then press \n",
    "enter or return key to terminate the line and submit it to the shell.  At this point the shell will analyize the line we entered and will execute the command it it can.\n",
    "\n",
    "If we like we can place multiple commands to execute one after the other on a line by seperating them with a semicolon.  `;`\n",
    "\n",
    "### BASH\n",
    "\n",
    "Now given the age of UNIX over the years many different versions of the shell have been developed. All of them have a few properties in common:\n",
    "\n",
    "- The built in commands of the shell form a crude and yet quite powerfull programming language.\n",
    "- If the command one issues is not recognized as a built in command of the shell the shell will look to see if a program of the same name as the command exists and if so will run it.  \n",
    "- The shell provides ways for combining programs together so that the output of one can be feed to another\n",
    "\n",
    "One shell that is commonly used today is called ['BASH']() and it will be the one we use in this book.  Like the other shells the basic syntax of BASH is quite simple but it can get pretty weird and subtle as you start using more advanced features.  The strangeness of the shell is part of what gives UNIX its reputation for being cryptic and yet powerful. \n",
    "\n",
    "At this point is just to learn some basic syntax and a sense for what the shell can do.  Our main goal is to learn enough to be proficient and understand the core concepts of work in the UNIX environment.  Specifically, what the following are:\n",
    "\n",
    "- files  \n",
    " - directories\n",
    " - programs\n",
    " - processes\n",
    " \n",
    " and how we can create and use them."
   ]
  },
  {
   "cell_type": "markdown",
   "metadata": {},
   "source": [
    "#### echo -- printing something to the sceen\n",
    "\n",
    "Perhaps the most basic command that we can issue to the shell is the `echo` comand.  `echo` allows us to print a message.  For the moment this might seem like a silly command but later we will see that the shell is not just designed to be an interactive interface but also a powerful programming language that we can use to quickly automate things and construct our own commands out of the exiting ones."
   ]
  },
  {
   "cell_type": "code",
   "execution_count": 1,
   "metadata": {
    "scrolled": true
   },
   "outputs": [
    {
     "name": "stdout",
     "output_type": "stream",
     "text": [
      "Hello World foo bar foo\n"
     ]
    }
   ],
   "source": [
    "echo \"Hello World foo bar\" foo"
   ]
  },
  {
   "cell_type": "markdown",
   "metadata": {},
   "source": [
    "#### comments -- Ignoring everthing else  \n",
    "\n",
    "Another very trival thing we can do is tell the shell to ignore every thing else on the line using the comment character.  In bash this character is the hash character `#`.  A line with the `#` at the beginning of it will be ignored complete and as such there will be no output from it and the shell will simply print out prompt on the next newline. "
   ]
  },
  {
   "cell_type": "code",
   "execution_count": 2,
   "metadata": {},
   "outputs": [],
   "source": [
    "# this is a comment"
   ]
  },
  {
   "cell_type": "code",
   "execution_count": 1,
   "metadata": {},
   "outputs": [
    {
     "name": "stdout",
     "output_type": "stream",
     "text": [
      "Hello World\n"
     ]
    }
   ],
   "source": [
    "echo \"Hello World\"  # we can use echo to print to the screen"
   ]
  },
  {
   "cell_type": "markdown",
   "metadata": {},
   "source": [
    "The first example above the `#` at the beginning of the line causes the shell to ignore everything else on the line.  In second example we see that the shell ignores everthing after the # but continues to execute what preceeds it."
   ]
  },
  {
   "cell_type": "markdown",
   "metadata": {},
   "source": [
    "#### Variables -- a way to store and recall values (both numbers and text) \n",
    "\n",
    "Like many of the programming languages you are used to the shell supports the idea of variables.\n",
    "To create a variable and set its value one simply types the name you want to use for your variable and set value using the equal sign.  To get the value of a variable one prefixes the name of the variable with the '$' symbol.  Eg."
   ]
  },
  {
   "cell_type": "code",
   "execution_count": 4,
   "metadata": {},
   "outputs": [],
   "source": [
    "myVar=\"Hello\""
   ]
  },
  {
   "cell_type": "code",
   "execution_count": 5,
   "metadata": {},
   "outputs": [
    {
     "name": "stdout",
     "output_type": "stream",
     "text": [
      "Hello\n"
     ]
    }
   ],
   "source": [
    "echo $myVar"
   ]
  },
  {
   "cell_type": "code",
   "execution_count": 6,
   "metadata": {},
   "outputs": [],
   "source": [
    "i=0; j=10"
   ]
  },
  {
   "cell_type": "code",
   "execution_count": 8,
   "metadata": {},
   "outputs": [
    {
     "name": "stdout",
     "output_type": "stream",
     "text": [
      "The value of i is 0 and the value of j is 10 and myVar is 'Hello'\n"
     ]
    }
   ],
   "source": [
    "echo \"The value of i is $i and the value of j is $j and myVar is '$myVar'\""
   ]
  },
  {
   "cell_type": "markdown",
   "metadata": {},
   "source": [
    "#### set - display all the variables that exist\n",
    "At any point there is a set of variables that exist some created by you and others created for you.   The entire collection of existing varibles is called the environment.   These is a special command set lets you see all of the existing variables \n",
    "\n",
    "set is actually a very powerfull command that do many things based on additional parameters ... but without any it by default prints all the variables that exist. (to learn more about set try 'help set' or read the man page for bash)"
   ]
  },
  {
   "cell_type": "code",
   "execution_count": 39,
   "metadata": {},
   "outputs": [
    {
     "name": "stdout",
     "output_type": "stream",
     "text": [
      "BASH=/usr/bin/bash\n",
      "BASHOPTS=checkwinsize:cmdhist:complete_fullquote:expand_aliases:extquote:force_fignore:globasciiranges:histappend:hostcomplete:interactive_comments:progcomp:promptvars:sourcepath\n",
      "BASH_ALIASES=()\n",
      "BASH_ARGC=([0]=\"0\")\n",
      "BASH_ARGV=()\n",
      "BASH_CMDS=()\n",
      "BASH_LINENO=()\n",
      "BASH_SOURCE=()\n",
      "BASH_VERSINFO=([0]=\"5\" [1]=\"0\" [2]=\"17\" [3]=\"1\" [4]=\"release\" [5]=\"x86_64-pc-linux-gnu\")\n",
      "BASH_VERSION='5.0.17(1)-release'\n",
      "COLUMNS=80\n",
      "DIRSTACK=()\n",
      "EUID=1000\n",
      "GIT_PYTHON_REFRESH=quiet\n",
      "GROUPS=()\n",
      "HISTCONTROL=ignoreboth\n",
      "HISTFILE=/home/jappavoo/.bash_history\n",
      "HISTFILESIZE=2000\n",
      "HISTSIZE=1000\n",
      "HOME=/home/jappavoo\n",
      "HOSTNAME=ade02912b5cb\n",
      "HOSTTYPE=x86_64\n",
      "IFS=$' \\t\\n'\n",
      "JPY_API_TOKEN=d4da5eb3785f405b9101cb8c9c30075a\n",
      "JPY_PARENT_PID=432\n",
      "JUPYTERHUB_ACTIVITY_URL=http://127.0.0.1:8081/hub/api/users/jappavoo/activity\n",
      "JUPYTERHUB_API_TOKEN=d4da5eb3785f405b9101cb8c9c30075a\n",
      "JUPYTERHUB_API_URL=http://127.0.0.1:8081/hub/api\n",
      "JUPYTERHUB_BASE_URL=/\n",
      "JUPYTERHUB_CLIENT_ID=jupyterhub-user-jappavoo\n",
      "JUPYTERHUB_HOST=\n",
      "JUPYTERHUB_OAUTH_CALLBACK_URL=/user/jappavoo/oauth_callback\n",
      "JUPYTERHUB_SERVER_NAME=\n",
      "JUPYTERHUB_SERVICE_PREFIX=/user/jappavoo/\n",
      "JUPYTERHUB_SINGLEUSER_APP=jupyter_server.serverapp.ServerApp\n",
      "JUPYTERHUB_USER=jappavoo\n",
      "LANG=en_US.UTF-8\n",
      "LC_ALL=en_US.UTF-8\n",
      "LESSCLOSE='/usr/bin/lesspipe %s %s'\n",
      "LESSOPEN='| /usr/bin/lesspipe %s'\n",
      "LINES=24\n",
      "LS_COLORS=\n",
      "MACHTYPE=x86_64-pc-linux-gnu\n",
      "MAILCHECK=60\n",
      "OPTERR=1\n",
      "OPTIND=1\n",
      "OSTYPE=linux-gnu\n",
      "PAGER=cat\n",
      "PATH=/usr/local/sbin:/usr/local/bin:/usr/sbin:/usr/bin:/sbin:/bin\n",
      "PIPESTATUS=([0]=\"0\")\n",
      "PPID=465\n",
      "PROMPT_COMMAND=\n",
      "PS1='[PEXP\\[\\]ECT_PROMPT>'\n",
      "PS2='[PEXP\\[\\]ECT_PROMPT+'\n",
      "PS4='+ '\n",
      "PWD=/home/jappavoo/UndertheCovers/underthecovers/unix\n",
      "SHELL=/bin/bash\n",
      "SHELLOPTS=braceexpand:emacs:hashall:histexpand:history:interactive-comments:monitor\n",
      "SHLVL=1\n",
      "TERM=dumb\n",
      "UID=1000\n",
      "USER=jappavoo\n",
      "_=0\n",
      "fruit=pear\n",
      "i=3\n",
      "j=10\n",
      "myVar=Hello\n",
      "display () \n",
      "{ \n",
      "    TMPFILE=$(mktemp ${TMPDIR-/tmp}/bash_kernel.XXXXXXXXXX);\n",
      "    cat > $TMPFILE;\n",
      "    echo \"bash_kernel: saved image data to: $TMPFILE\" 1>&2\n",
      "}\n"
     ]
    }
   ],
   "source": [
    "set"
   ]
  },
  {
   "cell_type": "markdown",
   "metadata": {},
   "source": [
    "#### Logic -- Return values, test statements, and if statements\n",
    "\n",
    "In the shell every command produces a return value.  By convention a return value of 0 is treated as success (or true) and a non-zero value is considered to be failure (or false).  You can access the return value of the last command using a special variable '$?'. Eg."
   ]
  },
  {
   "cell_type": "code",
   "execution_count": 9,
   "metadata": {},
   "outputs": [
    {
     "name": "stdout",
     "output_type": "stream",
     "text": [
      "Hello\n"
     ]
    }
   ],
   "source": [
    "echo 'Hello'"
   ]
  },
  {
   "cell_type": "code",
   "execution_count": 10,
   "metadata": {},
   "outputs": [
    {
     "name": "stdout",
     "output_type": "stream",
     "text": [
      "0\n"
     ]
    }
   ],
   "source": [
    "echo $?"
   ]
  },
  {
   "cell_type": "markdown",
   "metadata": {},
   "source": [
    "The bash shell allows us to write two kinds of test statements that produce a return code based on some logical test.  The first test statement is for testing ascii string values -- '[[ stmt ]]'  and the other is for numeric or integer tests -- '(( stmt ))'.  Eg."
   ]
  },
  {
   "cell_type": "code",
   "execution_count": 12,
   "metadata": {},
   "outputs": [
    {
     "name": "stdout",
     "output_type": "stream",
     "text": [
      "0\n"
     ]
    }
   ],
   "source": [
    "[[ $myVar == \"Hello\" ]]; echo $?"
   ]
  },
  {
   "cell_type": "code",
   "execution_count": 13,
   "metadata": {},
   "outputs": [
    {
     "name": "stdout",
     "output_type": "stream",
     "text": [
      "1\n"
     ]
    }
   ],
   "source": [
    "[[ $myVar == \"Goodbye\" ]]; echo $?"
   ]
  },
  {
   "cell_type": "code",
   "execution_count": 17,
   "metadata": {},
   "outputs": [
    {
     "name": "stdout",
     "output_type": "stream",
     "text": [
      "1\n"
     ]
    }
   ],
   "source": [
    "(( $i == 100)); echo $?"
   ]
  },
  {
   "cell_type": "code",
   "execution_count": 20,
   "metadata": {},
   "outputs": [
    {
     "name": "stdout",
     "output_type": "stream",
     "text": [
      "0\n"
     ]
    }
   ],
   "source": [
    "j=10 \n",
    "(( $j <= 10 ))\n",
    "echo $?"
   ]
  },
  {
   "cell_type": "markdown",
   "metadata": {},
   "source": [
    "Both the test operators can do many interesting tests but at this point we just want to get the basic idea of how things work.  As one might expect Bash supports if statements that can use the test statements to conditionally execute as set of statements.  Eg."
   ]
  },
  {
   "cell_type": "code",
   "execution_count": 22,
   "metadata": {},
   "outputs": [
    {
     "name": "stdout",
     "output_type": "stream",
     "text": [
      "I don't know who likes pears\n"
     ]
    }
   ],
   "source": [
    "fruit=\"pear\"\n",
    "if [[ $fruit == \"banana\" ]]\n",
    "then\n",
    "  echo \"Monkeys love bananas\"\n",
    "elif [[ $fruit == \"apple\" ]]\n",
    "then\n",
    "   echo \"Horses love apples\"\n",
    "else\n",
    "   echo \"I don't know who likes ${fruit}s\"\n",
    "fi"
   ]
  },
  {
   "cell_type": "markdown",
   "metadata": {},
   "source": [
    "#### Loops\n",
    "\n",
    "Like other programming languages the shell supports various kinds of loops.  We will quick look at an example of a while loop and a for loop."
   ]
  },
  {
   "cell_type": "code",
   "execution_count": 29,
   "metadata": {},
   "outputs": [
    {
     "name": "stdout",
     "output_type": "stream",
     "text": [
      "0\n",
      "1\n",
      "2\n",
      "3\n",
      "4\n"
     ]
    }
   ],
   "source": [
    "i=0\n",
    "while ((i<5))\n",
    "do\n",
    "  echo $i\n",
    "  ((i=$i+1))\n",
    "done"
   ]
  },
  {
   "cell_type": "code",
   "execution_count": 30,
   "metadata": {},
   "outputs": [
    {
     "name": "stdout",
     "output_type": "stream",
     "text": [
      "0\n",
      "1\n",
      "2\n"
     ]
    }
   ],
   "source": [
    "for ((i=0;i<3; i++))\n",
    "do\n",
    "   echo $i\n",
    "done"
   ]
  },
  {
   "cell_type": "markdown",
   "metadata": {},
   "source": [
    "#### functions -- basic reusable shell program fragments\n",
    "\n",
    "Like other programming languages you can write shell functions to create useful routines that you can resuse.\n",
    "\n",
    "The following are some examples so you can get a sense of the syntax."
   ]
  },
  {
   "cell_type": "code",
   "execution_count": 47,
   "metadata": {},
   "outputs": [
    {
     "name": "stdout",
     "output_type": "stream",
     "text": [
      "Name: Bob Blah-Blah\n",
      "Age: 64\n",
      "\n",
      "Lets try the full info\n",
      "\n",
      "Name: Bob Blah-Blah\n",
      "Age: 64\n",
      "Occupation: Space Explorer\n",
      "Favorite Food: Bits and Bytes\n",
      "OS of choice: UNIX\n"
     ]
    }
   ],
   "source": [
    "function myInfo() {\n",
    "  local type=$1\n",
    "  echo \"Name: Bob Blah-Blah\"\n",
    "  echo \"Age: 64\"\n",
    "  if [[ $type == \"full\" ]]; then\n",
    "   echo \"Occupation: Space Explorer\"\n",
    "   echo \"Favorite Food: Bits and Bytes\"\n",
    "   echo \"OS of choice: UNIX\"\n",
    "  fi\n",
    "}\n",
    "\n",
    "myInfo\n",
    "echo -e \"\\nLets try the full info\\n\"\n",
    "myInfo \"full\""
   ]
  },
  {
   "cell_type": "markdown",
   "metadata": {},
   "source": [
    "### ls -- listing the contents of a directory\n",
    "\n",
    "With no additional arguments the `ls` command will print out the contents of the current working directory.  That is to say it will print the names of the files and directories that are contained in the current directory."
   ]
  },
  {
   "cell_type": "code",
   "execution_count": null,
   "metadata": {},
   "outputs": [],
   "source": []
  },
  {
   "cell_type": "code",
   "execution_count": null,
   "metadata": {},
   "outputs": [],
   "source": []
  },
  {
   "cell_type": "code",
   "execution_count": null,
   "metadata": {},
   "outputs": [],
   "source": []
  },
  {
   "cell_type": "code",
   "execution_count": 3,
   "metadata": {},
   "outputs": [
    {
     "name": "stdout",
     "output_type": "stream",
     "text": [
      "intro.ipynb  shell.ipynb  terminal.ipynb\n"
     ]
    }
   ],
   "source": [
    "ls"
   ]
  },
  {
   "cell_type": "code",
   "execution_count": 2,
   "metadata": {},
   "outputs": [
    {
     "name": "stdout",
     "output_type": "stream",
     "text": [
      "total 28\n",
      "-rw-rw-r-- 1 jappavoo jappavoo  5445 Jun  2 03:55 intro.ipynb\n",
      "-rw-rw-r-- 1 jappavoo jappavoo 13789 Jun  2 03:29 shell.ipynb\n",
      "-rw-rw-r-- 1 jappavoo jappavoo  2024 Jun  2 16:51 terminal.ipynb\n"
     ]
    }
   ],
   "source": [
    "ls -l"
   ]
  },
  {
   "cell_type": "code",
   "execution_count": 6,
   "metadata": {},
   "outputs": [
    {
     "name": "stdout",
     "output_type": "stream",
     "text": [
      "\u001b[0m\u001b[01;34m.\u001b[0m                   _config.yml     intro.md         references.bib\n",
      "\u001b[01;34m..\u001b[0m                  _toc.yml        \u001b[01;35mlogo.jpg\u001b[0m         shell.ipynb\n",
      "\u001b[01;34m.ipynb_checkpoints\u001b[0m  assembly.ipynb  markdown.md      \u001b[01;34msrc\u001b[0m\n",
      "\u001b[01;34m_build\u001b[0m              content.md      notebooks.ipynb\n"
     ]
    }
   ],
   "source": [
    "ls -a"
   ]
  },
  {
   "cell_type": "code",
   "execution_count": 7,
   "metadata": {},
   "outputs": [
    {
     "name": "stdout",
     "output_type": "stream",
     "text": [
      "\u001b[0m\u001b[01;34m_build\u001b[0m       assembly.ipynb  \u001b[01;35mlogo.jpg\u001b[0m         references.bib\n",
      "_config.yml  content.md      markdown.md      shell.ipynb\n",
      "_toc.yml     intro.md        notebooks.ipynb  \u001b[01;34msrc\u001b[0m\n"
     ]
    }
   ],
   "source": [
    "ls ."
   ]
  },
  {
   "cell_type": "code",
   "execution_count": 10,
   "metadata": {},
   "outputs": [
    {
     "name": "stdout",
     "output_type": "stream",
     "text": [
      "CONDUCT.md       \u001b[0m\u001b[01;32mLICENSE\u001b[0m    requirements.txt\n",
      "CONTRIBUTING.md  README.md  \u001b[01;34munderthecovers\u001b[0m\n"
     ]
    }
   ],
   "source": [
    "ls .."
   ]
  },
  {
   "cell_type": "code",
   "execution_count": 8,
   "metadata": {},
   "outputs": [
    {
     "name": "stdout",
     "output_type": "stream",
     "text": [
      "\u001b[0m\u001b[01;36mbin\u001b[0m   \u001b[01;34mdev\u001b[0m  \u001b[01;34mhome\u001b[0m  \u001b[01;36mlib32\u001b[0m  \u001b[01;36mlibx32\u001b[0m      \u001b[01;34mmedia\u001b[0m  \u001b[01;34mopt\u001b[0m   \u001b[01;34mroot\u001b[0m  \u001b[01;36msbin\u001b[0m  \u001b[01;34msrv\u001b[0m       \u001b[01;34msys\u001b[0m  \u001b[01;34musr\u001b[0m\n",
      "\u001b[01;34mboot\u001b[0m  \u001b[01;34metc\u001b[0m  \u001b[01;36mlib\u001b[0m   \u001b[01;36mlib64\u001b[0m  \u001b[01;34mlost+found\u001b[0m  \u001b[01;34mmnt\u001b[0m    \u001b[01;34mproc\u001b[0m  \u001b[01;34mrun\u001b[0m   \u001b[01;34msnap\u001b[0m  swap.img  \u001b[30;42mtmp\u001b[0m  \u001b[01;34mvar\u001b[0m\n"
     ]
    }
   ],
   "source": [
    "ls /"
   ]
  },
  {
   "cell_type": "code",
   "execution_count": 9,
   "metadata": {},
   "outputs": [
    {
     "name": "stdout",
     "output_type": "stream",
     "text": [
      "\u001b[0m\u001b[01;34mjappavoo\u001b[0m  \u001b[01;34mubuntu\u001b[0m\n"
     ]
    }
   ],
   "source": [
    "ls /home"
   ]
  },
  {
   "cell_type": "code",
   "execution_count": 10,
   "metadata": {},
   "outputs": [
    {
     "name": "stdout",
     "output_type": "stream",
     "text": [
      "'#raw.asm#'      \u001b[0m\u001b[01;34mUndertheCovers\u001b[0m                           installKvm\n",
      " \u001b[01;34m06\u001b[0m              Untitled.ipynb                           \u001b[01;34mjuypter\u001b[0m\n",
      " \u001b[01;34m6502\u001b[0m            Untitled1.sh                             \u001b[01;34mmasmtest\u001b[0m\n",
      " \u001b[01;34mCS210TextBook\u001b[0m   \u001b[01;34manaconda3\u001b[0m                                mkKvm\n",
      " \u001b[01;34mOm\u001b[0m              \u001b[01;34mcompress\u001b[0m                                 resetKvm\n",
      " \u001b[01;34mSymbi-OS\u001b[0m        \u001b[01;31mgoogle-chrome-stable_current_amd64.deb\u001b[0m   \u001b[01;34mtmp\u001b[0m\n",
      " \u001b[01;34mUASM\u001b[0m            \u001b[01;34mhostKernel\u001b[0m                               \u001b[01;34myasmtest\u001b[0m\n"
     ]
    }
   ],
   "source": [
    "ls /home/jappavoo"
   ]
  },
  {
   "cell_type": "code",
   "execution_count": 5,
   "metadata": {},
   "outputs": [
    {
     "name": "stdout",
     "output_type": "stream",
     "text": [
      "$ date\n",
      "Fri Mar 19 12:13:02 UTC 2021\n"
     ]
    }
   ],
   "source": [
    "echo \"\\$ date\"; date"
   ]
  },
  {
   "cell_type": "markdown",
   "metadata": {},
   "source": [
    "## this is a new section"
   ]
  }
 ],
 "metadata": {
  "celltoolbar": "Edit Metadata",
  "kernelspec": {
   "display_name": "Bash",
   "language": "bash",
   "name": "bash"
  },
  "language_info": {
   "codemirror_mode": "shell",
   "file_extension": ".sh",
   "mimetype": "text/x-sh",
   "name": "bash"
  }
 },
 "nbformat": 4,
 "nbformat_minor": 4
}
