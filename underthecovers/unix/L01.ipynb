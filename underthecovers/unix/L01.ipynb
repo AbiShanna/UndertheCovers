{
 "cells": [
  {
   "cell_type": "code",
   "execution_count": 1,
   "id": "919e2464",
   "metadata": {
    "slideshow": {
     "slide_type": "skip"
    }
   },
   "outputs": [
    {
     "data": {
      "text/html": [
       "<style>#notebook { padding-top:0px !important; } .container { width:100% !important; } .CodeMirror { width:100% !important;}.end_space { min-height:0px !important; } .prompt { display:none }.terminal-app #terminado-container { width:100%; }div.mywarn { background-color: #fcf2f2;border-color: #dFb5b4; border-left: 5px solid #dfb5b4; padding: 0.5em;}</style>"
      ],
      "text/plain": [
       "<IPython.core.display.HTML object>"
      ]
     },
     "metadata": {},
     "output_type": "display_data"
    }
   ],
   "source": [
    "%run -i ../python/ln_preamble.py"
   ]
  },
  {
   "cell_type": "markdown",
   "id": "763e8524",
   "metadata": {
    "slideshow": {
     "slide_type": "slide"
    }
   },
   "source": [
    "# SLS : Part I  -- UNIX Introduction and Preliminaries"
   ]
  },
  {
   "cell_type": "markdown",
   "id": "410af07c",
   "metadata": {
    "slideshow": {
     "slide_type": "slide"
    }
   },
   "source": [
    "# What is an operating system?"
   ]
  },
  {
   "cell_type": "markdown",
   "id": "67c7e449",
   "metadata": {
    "slideshow": {
     "slide_type": "slide"
    }
   },
   "source": [
    "# Wait ... what is a computer?"
   ]
  },
  {
   "cell_type": "markdown",
   "id": "6f36fe7e",
   "metadata": {
    "slideshow": {
     "slide_type": "slide"
    }
   },
   "source": [
    "# What is Unix and why Unix?"
   ]
  },
  {
   "cell_type": "markdown",
   "id": "7261501d",
   "metadata": {
    "slideshow": {
     "slide_type": "slide"
    }
   },
   "source": [
    "# HCI: What is a terminal and why does it still matter?"
   ]
  },
  {
   "cell_type": "markdown",
   "id": "92fdf88a",
   "metadata": {
    "slideshow": {
     "slide_type": "slide"
    }
   },
   "source": [
    "# Computers a collection of Hardware vs an Information System"
   ]
  },
  {
   "cell_type": "markdown",
   "id": "681aa32d",
   "metadata": {
    "slideshow": {
     "slide_type": "slide"
    }
   },
   "source": [
    "# What are files and directories (folders)?"
   ]
  },
  {
   "cell_type": "markdown",
   "id": "9cd1fb0e",
   "metadata": {
    "slideshow": {
     "slide_type": "slide"
    }
   },
   "source": [
    "# Ok lets get on with it -- The First Program -- The Shell"
   ]
  },
  {
   "cell_type": "markdown",
   "id": "473b31ba",
   "metadata": {
    "slideshow": {
     "slide_type": "slide"
    }
   },
   "source": [
    "# ASCII Line oriented Interfaces"
   ]
  },
  {
   "cell_type": "markdown",
   "id": "570db7ad",
   "metadata": {
    "slideshow": {
     "slide_type": "slide"
    }
   },
   "source": [
    "# Shell a Programmer Computer Interface vs Human Computer Interface\n",
    "- Power programmers are not \"normal\" humans\n",
    "    - What we care about is efficient ways for controlling the computer via programs"
   ]
  },
  {
   "cell_type": "markdown",
   "id": "058c076a",
   "metadata": {
    "cell_style": "center",
    "hide_input": false,
    "slideshow": {
     "slide_type": "-"
    }
   },
   "source": [
    "# Shell: One program to \"rule/run\" them all\n",
    "- Every story has to start somewhere\n",
    "  - every new terminal connection made to the UNIX system starts a shell and directs its input and output to the the terminal\n",
    "  - Shell is designed to have a text based conversation with a programmer --\n",
    "      - the conversation is exchanges between the programmer and the shell - eg.  \n",
    "```\n",
    "SHLL -> READY\n",
    "PGMR -> <enter> '\\n'\n",
    "SHLL -> READY\n",
    "SHLL -> #<enter> \n",
    "SHLL -> READY\n",
    "PGMR -> echo \"Hello\"\n",
    "SHLL -> Hello\n",
    "SHLL -> READY\n",
    "PGMR -> for ((i=0; i<3; i++)); do echo $i; done\n",
    "SHLL -> 0 \n",
    "SHLL -> 1\n",
    "SHLL -> 2\n",
    "SHLL -> READY\n",
    "PGMR -> Bye \n",
    "SHLL EXITS AND KERNELENDS THE TERMINAL SESSION\n",
    "          \n",
    "      - the shell begins the conversation by send a prompt \"string\" to the terminal\n",
    "      - the programmer sends requests to the shell in a \"line oriented\" way \n",
    "          - A line is a set of ASCII characters terminated by a single \"newline\" character\n",
    "              - '10', '0x0a', '\\n'\n",
    "              - the terminal sends this character when the programmer presses the \"return\" or \"enter\" key\n",
    "          \n",
    "  - Internal vs External command"
   ]
  },
  {
   "cell_type": "markdown",
   "id": "98fa0d4c",
   "metadata": {
    "cell_style": "split",
    "slideshow": {
     "slide_type": "slide"
    }
   },
   "source": [
    "<img src=\"../images/UnixL01_SHCHT0/00SHLLChat.png\" width=\"100%\" style=\"vertical-align:top; float:middle; border:0px; margin: 0px 0px; background-color: #191919;\">"
   ]
  },
  {
   "cell_type": "markdown",
   "id": "5be26c04",
   "metadata": {
    "cell_style": "split"
   },
   "source": [
    "# Here we go\n",
    "\n",
    "- Computer running Unix eg.  Linux\n",
    "  -  HW \n",
    "  -  Kernel booted\n",
    "\n",
    "\n",
    "\n",
    "\n",
    "\n",
    "\n",
    "\n",
    "\n",
    "\n",
    "\n"
   ]
  },
  {
   "cell_type": "code",
   "execution_count": null,
   "id": "f7c1beed",
   "metadata": {
    "slideshow": {
     "slide_type": "skip"
    }
   },
   "outputs": [],
   "source": []
  },
  {
   "cell_type": "markdown",
   "id": "441e7cd2",
   "metadata": {
    "cell_style": "split",
    "slideshow": {
     "slide_type": "slide"
    }
   },
   "source": [
    "<img src=\"../images/UnixL01_SHCHT0/01SHLLChat.png\" width=\"100%\" style=\"vertical-align:top; float:middle; border:0px; margin: 0px 0px; background-color: #191919;\">"
   ]
  },
  {
   "cell_type": "markdown",
   "id": "1d622e6f",
   "metadata": {
    "cell_style": "split"
   },
   "source": [
    "# Connect a Terminal\n",
    "\n",
    "- Connect a terminal so that the system can communicate with a user via ASCII\n",
    "- Unix kernel awaits for a user to login on the terminal"
   ]
  },
  {
   "cell_type": "code",
   "execution_count": null,
   "id": "5eff4265",
   "metadata": {
    "hide_input": true,
    "slideshow": {
     "slide_type": "skip"
    }
   },
   "outputs": [],
   "source": []
  },
  {
   "cell_type": "markdown",
   "id": "9fa17d67",
   "metadata": {
    "cell_style": "split",
    "slideshow": {
     "slide_type": "slide"
    }
   },
   "source": [
    "<img src=\"../images/UnixL01_SHCHT0/02SHLLChat.png\" width=\"100%\" style=\"vertical-align:top; float:middle; border:0px; margin: 0px 0px; background-color: #191919;\">"
   ]
  },
  {
   "cell_type": "markdown",
   "id": "2c368e6f",
   "metadata": {
    "cell_style": "split"
   },
   "source": [
    "# The Shell\n",
    "\n",
    "- Terminal prints ASCII sent to on the screen as appropriate images of the corresponding characters\n",
    "- User presses keys on the keyboard to have the Terminal send the corresponding ASCII values to the Kernel\n",
    "- After Login the kernel launches an instance of the user's chosen shell program\n",
    "- Default on Linux is Bash (Bourne Again Shell), however, there are others (eg. csh, ksh, zsh, sh, ...) \n",
    "- The Kernel will ensure that:\n",
    "     1. Shell's output will be sent to the Terminal \n",
    "     2. and values sent by the Terminal will be available to the Shell as input"
   ]
  },
  {
   "cell_type": "code",
   "execution_count": null,
   "id": "90a5f290",
   "metadata": {
    "hide_input": true,
    "slideshow": {
     "slide_type": "skip"
    }
   },
   "outputs": [],
   "source": []
  },
  {
   "cell_type": "markdown",
   "id": "662c93e8",
   "metadata": {
    "cell_style": "split",
    "slideshow": {
     "slide_type": "slide"
    }
   },
   "source": [
    "<img src=\"../images/UnixL01_SHCHT0/03SHLLChat.png\" width=\"100%\" style=\"vertical-align:top; float:middle; border:0px; margin: 0px 0px; background-color: #191919;\">"
   ]
  },
  {
   "cell_type": "markdown",
   "id": "18586703",
   "metadata": {
    "cell_style": "split"
   },
   "source": [
    "# Shell Conversation \n",
    "- The shell is an ASCII line oriented interface program\n",
    "- Communication is structured as a conversation between the user and the shell\n",
    "   - structured as a set of exchanges:\n",
    "      - Request -- Command line sent by the user \n",
    "      - Reply -- Response sent by shell\n",
    "     \n",
    "``` \n",
    "while true:\n",
    "    Wait for a command \"line\"\n",
    "    Process line sending output as reply\n",
    "```\n",
    "\n",
    "Lines are a sequence of ASCII characters terminated by a `\\n` -- `0xa` eg.\n",
    "```\n",
    "hello\\n\n",
    "```      "
   ]
  },
  {
   "cell_type": "code",
   "execution_count": null,
   "id": "e411f645",
   "metadata": {
    "hide_input": true,
    "slideshow": {
     "slide_type": "skip"
    }
   },
   "outputs": [],
   "source": []
  },
  {
   "cell_type": "markdown",
   "id": "2f566e57",
   "metadata": {
    "cell_style": "split",
    "slideshow": {
     "slide_type": "slide"
    }
   },
   "source": [
    "<img src=\"../images/UnixL01_SHCHT0/04SHLLChat.png\" width=\"100%\" style=\"vertical-align:top; float:middle; border:0px; margin: 0px 0px; background-color: #191919;\">"
   ]
  },
  {
   "cell_type": "markdown",
   "id": "178e5f54",
   "metadata": {
    "cell_style": "split"
   },
   "source": [
    "# The Prompt\n",
    "- The prompt a sting of characters that the shell sends when it is ready for input\n",
    "- It is the responsibility of the user to recognize that the shell is Ready for the their next request.  \n",
    "- Here we assume the Prompt is set to be dollar sign followed by a space \n",
    "  `$ ` or there byte values in hex `0x24,0x20`\n",
    "- We will see later how you can customize the prompt string to your liking"
   ]
  },
  {
   "cell_type": "code",
   "execution_count": null,
   "id": "17dc68f0",
   "metadata": {
    "hide_input": false,
    "slideshow": {
     "slide_type": "skip"
    }
   },
   "outputs": [],
   "source": []
  },
  {
   "cell_type": "code",
   "execution_count": null,
   "id": "0db39d34",
   "metadata": {
    "hide_input": true,
    "slideshow": {
     "slide_type": "skip"
    }
   },
   "outputs": [],
   "source": []
  },
  {
   "cell_type": "markdown",
   "id": "448e5730",
   "metadata": {},
   "source": [
    "# Terminals as Applications -- Terminal Emulators "
   ]
  },
  {
   "cell_type": "markdown",
   "id": "0212e77e",
   "metadata": {
    "slideshow": {
     "slide_type": "slide"
    }
   },
   "source": [
    "# Shell: Getting Started"
   ]
  },
  {
   "cell_type": "code",
   "execution_count": 13,
   "id": "0cc24d31",
   "metadata": {
    "cell_style": "split",
    "hide_input": true,
    "slideshow": {
     "slide_type": "slide"
    }
   },
   "outputs": [
    {
     "data": {
      "application/vnd.jupyter.widget-view+json": {
       "model_id": "9a03027324c6477bb01a3d39481a3141",
       "version_major": 2,
       "version_minor": 0
      },
      "text/plain": [
       "interactive(children=(IntSlider(value=0, description='i', max=13), Output()), _dom_classes=('widget-interact',…"
      ]
     },
     "metadata": {},
     "output_type": "display_data"
    }
   ],
   "source": [
    "import os\n",
    "import ipywidgets as widgets\n",
    "from ipywidgets import interact, interact_manual\n",
    "from IPython.display import Image\n",
    "ilist1=os.listdir('../images/UnixL01_SHCHT1')\n",
    "\n",
    "def show_image(i):\n",
    "    display(Image('../images/UnixL01_SHCHT1/' + ilist1[i]))\n",
    "            \n",
    "interact(show_image, i=widgets.IntSlider(min=0, max=(len(ilist1)-1), step=1, value=0));"
   ]
  },
  {
   "cell_type": "code",
   "execution_count": 4,
   "id": "3636078b",
   "metadata": {
    "cell_style": "split",
    "hide_input": true,
    "slideshow": {
     "slide_type": "-"
    }
   },
   "outputs": [
    {
     "data": {
      "text/html": [
       "<b>TERMINAL Window for Terminal Window</b>"
      ],
      "text/plain": [
       "<IPython.core.display.HTML object>"
      ]
     },
     "metadata": {},
     "output_type": "display_data"
    },
    {
     "data": {
      "text/html": [
       "\n",
       "        <iframe\n",
       "            width=\"100%\"\n",
       "            height=\"560\"\n",
       "            src=\"/terminals/1\"\n",
       "            frameborder=\"0\"\n",
       "            allowfullscreen\n",
       "        ></iframe>\n",
       "        "
      ],
      "text/plain": [
       "<IPython.lib.display.IFrame at 0x7fdc20b20fa0>"
      ]
     },
     "execution_count": 4,
     "metadata": {},
     "output_type": "execute_result"
    }
   ],
   "source": [
    "showTerm(EDITORTERM,\"Terminal Window\",\"100%\",\"560\")"
   ]
  },
  {
   "cell_type": "markdown",
   "id": "f6c8c073",
   "metadata": {
    "cell_style": "center",
    "hide_input": true,
    "slideshow": {
     "slide_type": "slide"
    }
   },
   "source": [
    "# Shell: Externals"
   ]
  },
  {
   "cell_type": "markdown",
   "id": "6290df8b",
   "metadata": {
    "cell_style": "split",
    "hide_input": true,
    "slideshow": {
     "slide_type": "slide"
    }
   },
   "source": [
    "<img src=\"../images/SLS_WPIM.svg\" width=\"100%\" style=\"vertical-align:top; float:middle; border:0px; margin: 10px 0px; background-color: #191919;\">\n",
    "<img src=\"../images/SLS_TheMachine.svg\" width=\"100%\" style=\"vertical-align:top; float:middle; border:0px; margin: 0px 0px;\">"
   ]
  },
  {
   "cell_type": "code",
   "execution_count": null,
   "id": "60b79a96",
   "metadata": {},
   "outputs": [],
   "source": []
  }
 ],
 "metadata": {
  "celltoolbar": "Slideshow",
  "hide_input": true,
  "kernelspec": {
   "display_name": "Python 3 (ipykernel)",
   "language": "python",
   "name": "python3"
  },
  "language_info": {
   "codemirror_mode": {
    "name": "ipython",
    "version": 3
   },
   "file_extension": ".py",
   "mimetype": "text/x-python",
   "name": "python",
   "nbconvert_exporter": "python",
   "pygments_lexer": "ipython3",
   "version": "3.9.6"
  },
  "rise": {
   "autolaunch": false,
   "enable_chalkboard": true,
   "footer": "SLS -- Lecture 1",
   "header": "Unix Intro and Prelim",
   "height": "100%",
   "scroll": true,
   "start_slideshow_at": "selected",
   "theme": "black",
   "transition": "none",
   "width": "100%"
  }
 },
 "nbformat": 4,
 "nbformat_minor": 5
}
