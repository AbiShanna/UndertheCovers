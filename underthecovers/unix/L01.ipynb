{
 "cells": [
  {
   "cell_type": "code",
   "execution_count": null,
   "id": "919e2464",
   "metadata": {
    "hide_input": false,
    "slideshow": {
     "slide_type": "skip"
    },
    "tags": [
     "remove-cell"
    ]
   },
   "outputs": [],
   "source": [
    "%run -i ../python/common.py\n",
    "%run -i ../python/ln_preamble.py"
   ]
  },
  {
   "cell_type": "markdown",
   "id": "19379863",
   "metadata": {
    "hide_input": true,
    "slideshow": {
     "slide_type": "slide"
    }
   },
   "source": [
    "# SLS: Part I - UNIX : Introduction &  Preliminaries \n",
    "\n",
    "Note this content had been designed to run as a RISE presentation from within the Jupyter Classic interface."
   ]
  },
  {
   "cell_type": "markdown",
   "id": "410af07c",
   "metadata": {
    "slideshow": {
     "slide_type": "slide"
    }
   },
   "source": [
    "## UNIX is an operating system\n",
    "\n",
    "- But what is an operating system?\n",
    "> A collection of software that makes a ***computer*** ***useful***.\n"
   ]
  },
  {
   "cell_type": "markdown",
   "id": "67c7e449",
   "metadata": {
    "hide_input": true,
    "slideshow": {
     "slide_type": "slide"
    }
   },
   "source": [
    "<center>\n",
    "\n",
    "## Computer?  \n",
    "\n",
    "</center>"
   ]
  },
  {
   "cell_type": "markdown",
   "id": "f31efa6c",
   "metadata": {
    "slideshow": {
     "slide_type": "notes"
    }
   },
   "source": [
    "\n",
    "- On the practical side computers are hardware devices that are programmable \n",
    "    - we will focus on those that conform to a \"Classic\" model of programmable device called a von Neuman Architecture \n",
    "        - today this encompasses Laptops, smart phones, tablets, smart watches, desktops, servers, supercomputers, and thousands of embedded systems around you\n",
    "\n",
    "FIXME: Add some images"
   ]
  },
  {
   "cell_type": "markdown",
   "id": "92fdf88a",
   "metadata": {
    "hide_input": true,
    "slideshow": {
     "slide_type": "notes"
    }
   },
   "source": [
    "### Computer as an Organized  Collection of Hardware \n",
    "![hw](../images/src/SLS_TheMachine.svg)"
   ]
  },
  {
   "cell_type": "markdown",
   "id": "0a97b7b8",
   "metadata": {
    "slideshow": {
     "slide_type": "notes"
    }
   },
   "source": [
    "- We will learn much more later but for the moment we need a working model:\n",
    "    - three core components \n",
    "        - CPU \n",
    "            - the smart bits that \"execute\" the instructions of software -- performs calculations\n",
    "        - Memory \n",
    "            - the devices that hold the instructions and data that make up the running software\n",
    "            - physically directly connected to the CPU -- often referred to as RAM and ROM, main memory, etc\n",
    "            - fast, power hungry. and volatile\n",
    "        - I/O devices - for the moment two main categories\n",
    "            - Storage devices\n",
    "                - hard drives, ssd's, flash memory, flash drives/usb sticks, etc\n",
    "                - slow and large compared to main memory\n",
    "                - non-volatile\n",
    "            - Communication devices\n",
    "                - allow connections to the outside world \n",
    "                - networks, terminals, usb devices -- keyboards, mice, etc.\n",
    "                "
   ]
  },
  {
   "cell_type": "markdown",
   "id": "352f7490",
   "metadata": {
    "slideshow": {
     "slide_type": "slide"
    }
   },
   "source": [
    "<center>\n",
    "    \n",
    "## Useful?\n",
    "    \n",
    "</center>"
   ]
  },
  {
   "cell_type": "markdown",
   "id": "68ab914f",
   "metadata": {
    "slideshow": {
     "slide_type": "notes"
    }
   },
   "source": [
    "- Hardware is like the raw parts \n",
    "    - not really useful until we add software to have it do stuff\n",
    "        - aka run programs/apps\n",
    "        - but what stuff\n",
    "- For most people they want to run programs that allow them to use the computer to:\n",
    "    - surf the web\n",
    "    - read and write email\n",
    "    - record, view and edit audio, pictures and video\n",
    "    - compose documents\n",
    "    - analyze and visualize data\n",
    "    - play games\n",
    "    - etc ...\n",
    "- but for some of us, programmers, our primary goal is to write programs "
   ]
  },
  {
   "cell_type": "markdown",
   "id": "23d65cb6",
   "metadata": {
    "slideshow": {
     "slide_type": "slide"
    }
   },
   "source": [
    "## The Operating system (OS) the first layers of software towards useful\n",
    "\n",
    "Broken down into two categories\n",
    "\n",
    "1. The Kernel\n",
    "2. User Programs"
   ]
  },
  {
   "cell_type": "markdown",
   "id": "704a47fc",
   "metadata": {
    "slideshow": {
     "slide_type": "slide"
    }
   },
   "source": [
    "### The \"Kernel\" -- Unique to Every OS"
   ]
  },
  {
   "cell_type": "markdown",
   "id": "3ef12f60",
   "metadata": {
    "cell_style": "split",
    "slideshow": {
     "slide_type": "-"
    }
   },
   "source": [
    "<img style=\"float: left; margin: 0px 20px 0px 0px;\" src=\"../images/kerneldef.png\" width=\"100%\">  "
   ]
  },
  {
   "cell_type": "markdown",
   "id": "9260a616",
   "metadata": {
    "cell_style": "split",
    "slideshow": {
     "slide_type": "-"
    }
   },
   "source": [
    "1. Bootstraps the HW and has direct access to all of it\n",
    "1. Bottom layer that enables other programs to run\n",
    "2. A unique collection of functions that programs can invoke\n",
    "\n",
    "Not useful on its own only useful and accessed by running other programs."
   ]
  },
  {
   "cell_type": "markdown",
   "id": "fa2cfb35",
   "metadata": {
    "cell_style": "center",
    "slideshow": {
     "slide_type": "notes"
    }
   },
   "source": [
    "- bottom layer of the software that has direct access to all the hardware\n",
    "- single instance that bootstraps the hardware\n",
    "- provides means for starting application/user programs\n",
    "    - enables several to run at a time\n",
    "    - keeps them isolated from each other\n",
    "    - program can start and end  \n",
    "        - but kernel is always present and running \n",
    "        - facilities for managing the running user programs\n",
    "            - listing, pausing, terminating, etc.\n",
    "- a collection of ever present functions and objects that programs/programmers can rely on\n",
    "    - provides core \"software\" \"abstraction\" such as files \n",
    "        - makes it easier for programs to use the hardware \n",
    "        - consistent across different hardware \n",
    "    - programs / programmers need not worry about the details of the hardware \n",
    "- programs NOT humans interact with the kernel"
   ]
  },
  {
   "cell_type": "markdown",
   "id": "3abcb194",
   "metadata": {
    "cell_style": "center",
    "slideshow": {
     "slide_type": "slide"
    }
   },
   "source": [
    "### User Programs\n",
    "\n",
    "Programs that come with the Kernel -- all the other stuff\n",
    "\n",
    "1. Display / Interface Mangers\n",
    "2. Finders/Explores \n",
    "3. All the Other Apps/Utilities\n",
    "\n",
    "This collection is unique to every OS and depends on its target audience."
   ]
  },
  {
   "cell_type": "markdown",
   "id": "e6100436",
   "metadata": {
    "cell_style": "center",
    "slideshow": {
     "slide_type": "notes"
    }
   },
   "source": [
    "- a collection of programs that come pre-packaged with the OS\n",
    "    - one or more interface programs \n",
    "        - provides a human with a way of interacting with the OS to use the other programs installed. Eg. \n",
    "            - the graphical front-end of your OS aka the \"desktop\", the \"home\" screen, the car menu system\n",
    "            - text based command line\n",
    "    - programs for exploring and finding information about the other programs and data installed\n",
    "        - eg. The Windows File Explore, OSX Finder, etc.\n",
    "    - Many other utilities depending of different categories depending on the OS\n",
    "        - personal computers -- media programs, web-browsers, productivity apps, etc.\n",
    "        - tools for developing new programs:\n",
    "            - program editors\n",
    "            - programming language software: python, ruby, etc.\n",
    "            - debuggers\n",
    "    - The nature and feel of these programs is specific to the goals or target audience of the OS\n",
    "        - Most of commodity OS's are targeted at non-programmers\n",
    "        - assumes ease of use is primary and programability is secondary"
   ]
  },
  {
   "cell_type": "markdown",
   "id": "6f36fe7e",
   "metadata": {
    "slideshow": {
     "slide_type": "slide"
    }
   },
   "source": [
    "## Why Unix?\n",
    "\n",
    "By programmers for programmers -- teaches you to think like a programmer.\n",
    "\n",
    "- automation is the name of the game -- every aspect is programmable\n",
    "- text oriented interfaces and utilities makes it easy to write programs that translate and transform information\n",
    "- it is easy to access and see what other OS's purposely hide\n",
    "\n",
    "A lot of the world around you runs on some form of Unix!"
   ]
  },
  {
   "cell_type": "markdown",
   "id": "7c4ed083",
   "metadata": {
    "slideshow": {
     "slide_type": "notes"
    }
   },
   "source": [
    "### Benefits to understanding/learning  Unix\n",
    "Unix's terminal interface and program development environment became the gold standard for university CS education\n",
    "- A programmer oriented model for interacting and using the computer -- The Shell\n",
    "- A collection of composable and extensible tools for processing ASCII documents\n",
    "  - Making it easy to write new programs \n",
    "    - including programs that translate ASCII documents into new programs\n",
    "- While it takes some effort to learn: \n",
    "  - it teaches you to think like a programmer\n",
    "    - writing little re-usable programs  \n",
    "    - incrementally evolving those as needed\n",
    "    - makes the value in decomposing and reusing existing programs obvious \n",
    "  - it unleashes your creativity by providing simple building blocks\n",
    "    - minimizes time and effort from idea to prototype \n",
    "    - provide a environment where everything can be customized and programmed\n",
    "    - automation is the name of the game\n",
    "  - it only has a few small core ideas that you need to understand to get going\n",
    "    - files, processes, I/O redirection\n",
    "  - Rich body of existing software for program development \n",
    "  - The computers of the Internet and Cloud primarily runs some form of Unix\n",
    "  - The embedded systems around you often run Unix\n",
    "  - Foundation of Open Source software is Unix based -- ala Linux"
   ]
  },
  {
   "cell_type": "markdown",
   "id": "43127c61",
   "metadata": {
    "slideshow": {
     "slide_type": "slide"
    }
   },
   "source": [
    "## UNIX Preliminaries \n",
    "1. Files and Directories\n",
    "2. ASCII\n",
    "3. The Terminal and the Shell"
   ]
  },
  {
   "cell_type": "markdown",
   "id": "681aa32d",
   "metadata": {
    "cell_style": "center",
    "slideshow": {
     "slide_type": "slide"
    }
   },
   "source": [
    "### Files and directories (folders)?\n",
    "\n",
    "<img style=\"float: right; margin: 0px 20px 0px 0px;\" src=\"../images/Files-Cabinets.jpg\" width=\"40%\">  \n",
    "<br>\n",
    "\n",
    "OS converts HW into an information management and processing system\n",
    "\n",
    "- primitive for representing information: The File\n",
    "- primitive for organize the information:  Hierarchy of Directories"
   ]
  },
  {
   "cell_type": "markdown",
   "id": "9ea98b08",
   "metadata": {
    "cell_style": "center",
    "slideshow": {
     "slide_type": "slide"
    }
   },
   "source": [
    "### Files - But first the Byte and some notation\n",
    "- The byte \n",
    "    - basic unit of information the hardware can store and manipulate \n",
    "\n",
    "<center>\n",
    "<img  src=\"../images/8switches.png\" width=\"30%\"> \n",
    "</center>\n",
    "\n",
    "<center>\n",
    "A byte: 8 switches that form a single location of memory/storage\n",
    "</center>\n",
    "\n",
    "<center>\n",
    "We measure capacity or size of memory/storage in units of bytes\n",
    "</center>\n",
    "\n",
    "<center>\n",
    "    We think of each byte of memory or data as a vector of 8 bits\n",
    "</center>\n",
    "\n",
    "<center>\n",
    "$[b_7 b_6 b_5 b_4 b_3 b_2 b_1 b_0]$ where each $b_i$ is ${0,1}$\n",
    "</center>"
   ]
  },
  {
   "cell_type": "code",
   "execution_count": null,
   "id": "8708bdfe",
   "metadata": {
    "hide_input": true
   },
   "outputs": [],
   "source": [
    "displayBytes([[0x00],[0xff]], labels=[\"ALL OFF\", \"ALL ON\"])"
   ]
  },
  {
   "cell_type": "markdown",
   "id": "14282cfb",
   "metadata": {
    "cell_style": "center",
    "slideshow": {
     "slide_type": "-"
    }
   },
   "source": [
    "- A byte : can take on 256 unique values\n",
    "   - $2^8 = 256$ possible values\n",
    "\n",
    "- often times we see base 16 (hexadecimal) used to express a particular binary byte value\n",
    "  - it is easier to write down 2 base hex digits than 8 binary digits\n",
    "\n",
    "We prefix a hex value with `0x` to distinguish base 16 values (eg. `0x11`)\n",
    "\n",
    "And we use `0b` to distinguish base 2 value (eg. `0b11`).\n",
    "\n",
    "If we don't prefix we will assume it is obvious from context or we are assuming base 10."
   ]
  },
  {
   "cell_type": "code",
   "execution_count": null,
   "id": "12ead6e8",
   "metadata": {
    "hide_input": false,
    "slideshow": {
     "slide_type": "slide"
    }
   },
   "outputs": [],
   "source": [
    "X=np.uint8(0xae)\n",
    "XL=np.bitwise_and(X,0xf)\n",
    "XH=np.bitwise_and(np.right_shift(X,4),0xf)\n",
    "displayBytes(bytes=[[X]])\n"
   ]
  },
  {
   "cell_type": "code",
   "execution_count": null,
   "id": "e72ae8e3",
   "metadata": {
    "cell_style": "split",
    "hide_input": false,
    "slideshow": {
     "slide_type": "-"
    }
   },
   "outputs": [],
   "source": [
    "displayBytes(bytes=[[XH]], numbits=4,columns=[\"[$b_7$\", \"$b_6$\", \"$b_5$\", \"$b_4$]\"])"
   ]
  },
  {
   "cell_type": "code",
   "execution_count": null,
   "id": "7d7cdb44",
   "metadata": {
    "cell_style": "split",
    "hide_input": false
   },
   "outputs": [],
   "source": [
    "displayBytes(bytes=[[XL]], numbits=4,columns=[\"[$b_3$\", \"$b_2$\", \"$b_1$\", \"$b_0$]\"])"
   ]
  },
  {
   "cell_type": "code",
   "execution_count": null,
   "id": "79e76a93",
   "metadata": {
    "cell_style": "split",
    "hide_input": false
   },
   "outputs": [],
   "source": [
    "displayStr(format(XH,\"1X\"), size=\"2em\", align=\"center\")"
   ]
  },
  {
   "cell_type": "code",
   "execution_count": null,
   "id": "d8a9d7ce",
   "metadata": {
    "cell_style": "split",
    "hide_input": false
   },
   "outputs": [],
   "source": [
    "displayStr(format(XL,\"1X\"), size=\"2em\", align=\"center\")"
   ]
  },
  {
   "cell_type": "code",
   "execution_count": null,
   "id": "0ddc6b92",
   "metadata": {
    "hide_input": false
   },
   "outputs": [],
   "source": [
    "displayStr(\"0x\"+format(X,\"02X\"), size=\"2em\", align=\"center\")"
   ]
  },
  {
   "cell_type": "markdown",
   "id": "b8d36feb",
   "metadata": {
    "cell_style": "center",
    "slideshow": {
     "slide_type": "notes"
    }
   },
   "source": [
    "In base 16 (hexadecimal) each digit has 16 possible values.  The following table shows how we map all 16 possible patterns of 4 bits to a single hex digit.  This allows us to easily express any byte value as two hex digits.  We simply rewrite the two groups of 4 bits of a byte as two hex digits.\n",
    "Use chalkboard to illustrate \n",
    "- `bin2Hex(0b00010000)` : 0b00010000 $\\rightarrow$ 0x10\n",
    "- `bin2Hex(0b10000001)` : 0b10000001 $\\rightarrow$ 0x81\n",
    "- `bin2Hex(0b10111001)` : 0b10111001 $\\rightarrow$ 0xb9\n",
    "- `bin2Hex(0b10101010)` : 0b10101010 $\\rightarrow$ 0xaa\n",
    "- `bin2Hex(0b01010101)` : 0b01010101 $\\rightarrow$ 0x55\n",
    "- `bin2Hex(0b11110111)` : 0b11110111 $\\rightarrow$ 0xf7"
   ]
  },
  {
   "cell_type": "code",
   "execution_count": null,
   "id": "b138a97e",
   "metadata": {
    "cell_style": "split",
    "hide_input": false,
    "slideshow": {
     "slide_type": "-"
    }
   },
   "outputs": [],
   "source": [
    "displayBytes(bytes=[[i] for i in range(16)],td_font_size=\"1.5vw\", th_font_size=\"1.1vw\", numbits=4, columns=[\"[$b_3$\", \"$b_2$\", \"$b_1$\", \"$b_0$]\"], labels=[format(i,\"1X\")for i in range(16)], labelstitle=\"HEX\", center=True)"
   ]
  },
  {
   "cell_type": "markdown",
   "id": "317c4c84",
   "metadata": {
    "cell_style": "split",
    "slideshow": {
     "slide_type": "-"
    }
   },
   "source": [
    "<font size=\"5vw\">\n",
    "    \n",
    "- 0b00010000 $\\rightarrow$ 0x ?\n",
    "- 0b10000001 $\\rightarrow$ 0x ?\n",
    "- 0b10111001 $\\rightarrow$  0x ?\n",
    "- 0b10101010 $\\rightarrow$ 0x ? \n",
    "- 0b01010101 $\\rightarrow$ 0x ?\n",
    "- 0b11110111 $\\rightarrow$ 0x ?\n",
    "    \n",
    "</font>"
   ]
  },
  {
   "cell_type": "code",
   "execution_count": null,
   "id": "4d2d8a27",
   "metadata": {
    "slideshow": {
     "slide_type": "skip"
    }
   },
   "outputs": [],
   "source": []
  },
  {
   "cell_type": "code",
   "execution_count": null,
   "id": "84505c13",
   "metadata": {
    "cell_style": "split",
    "hide_input": false,
    "slideshow": {
     "slide_type": "slide"
    },
    "tags": [
     "output_scroll"
    ]
   },
   "outputs": [],
   "source": [
    "displayBytes(bytes=[[i] for i in range(256)], labelstitle=\"HEX (DEC)\", labels=[\"0x\"+format(i,\"02x\")+ \" (\" + format(i,\"03d\") +\")\" for i in range(256)], center=True)"
   ]
  },
  {
   "cell_type": "markdown",
   "id": "773547a6",
   "metadata": {
    "cell_style": "split"
   },
   "source": [
    "This table shows all 256 patterns of bits that a single byte could have.  On the left is how we would refer to the value in both Hex and (decimal)"
   ]
  },
  {
   "cell_type": "code",
   "execution_count": null,
   "id": "4b9b22a5",
   "metadata": {
    "slideshow": {
     "slide_type": "skip"
    }
   },
   "outputs": [],
   "source": []
  },
  {
   "cell_type": "markdown",
   "id": "481a6841",
   "metadata": {
    "cell_style": "split",
    "hide_input": false,
    "slideshow": {
     "slide_type": "slide"
    }
   },
   "source": [
    "### Files - Data\n",
    "<center>\n",
    "<img align=\"center\" width=\"80%\" src=\"../images/file.pdf\">\n",
    "    </center>"
   ]
  },
  {
   "cell_type": "markdown",
   "id": "5dfa55b0",
   "metadata": {
    "cell_style": "split",
    "hide_input": false,
    "slideshow": {
     "slide_type": "-"
    }
   },
   "source": [
    "The information a file contains is its data\n",
    "\n",
    "**Data:** is a collection of bytes:\n",
    "\n",
    "In Unix there is no explicit type that tells us what\n",
    "      the bytes \"are\" <br>\n",
    "- they could be human readable program code\n",
    "- they could be pixel data of an image\n",
    "\n",
    "We are free to try and interpret the bytes in any way we like depending on what programs we use to process them. "
   ]
  },
  {
   "cell_type": "markdown",
   "id": "0afee1a7",
   "metadata": {
    "cell_style": "center",
    "slideshow": {
     "slide_type": "-"
    }
   },
   "source": [
    "UNIX assumes we know what we are doing!\n",
    "\n",
    "There are many tools that let us just work with raw bytes so we can always use these tools with any file! (eg dump its data as hexadecimal values)"
   ]
  },
  {
   "cell_type": "markdown",
   "id": "1e63650a",
   "metadata": {
    "cell_style": "split",
    "slideshow": {
     "slide_type": "slide"
    }
   },
   "source": [
    "### Files - Data\n",
    "<center>\n",
    "<img align=\"center\" width=\"80%\" src=\"../images/file.pdf\">\n",
    "    </center>"
   ]
  },
  {
   "cell_type": "markdown",
   "id": "a2cdd380",
   "metadata": {
    "cell_style": "split"
   },
   "source": [
    "**Meta-data:** Extra descriptive facts beyond the data.  Eg\n",
    " - who owns the file \n",
    " - the length of the file (measured in bytes)\n",
    " - who has permissions to read or write its contents \n",
    " - the time the contents was last modified\n",
    " - the time that it was last read\n",
    " - the time that the descriptive facts where last changed (eg the file permissions were modified)"
   ]
  },
  {
   "cell_type": "code",
   "execution_count": null,
   "id": "87d2dcb4",
   "metadata": {
    "hide_input": true,
    "slideshow": {
     "slide_type": "skip"
    }
   },
   "outputs": [],
   "source": []
  },
  {
   "cell_type": "markdown",
   "id": "5c633613",
   "metadata": {
    "cell_style": "split",
    "slideshow": {
     "slide_type": "slide"
    }
   },
   "source": [
    "<center>\n",
    "<img align=\"center\" width=\"80%\" src=\"../images/359px-ENC_SYSTEME_FIGURE.jpeg\"> \n",
    "</center>"
   ]
  },
  {
   "cell_type": "markdown",
   "id": "dd42c25c",
   "metadata": {
    "cell_style": "split",
    "slideshow": {
     "slide_type": "-"
    }
   },
   "source": [
    "## Hierarchy -- Trees and Directories"
   ]
  },
  {
   "cell_type": "markdown",
   "id": "ad4e88c5",
   "metadata": {
    "cell_style": "split"
   },
   "source": [
    "Files are a good start but not enough to stay organized\n",
    "\n",
    "Must have a way for naming and finding files that flexible and can be easily understood and organized by the users\n",
    "\n",
    "**Directory:** a list of names each name identifies either a single file or another directory. Entries of this are *in* the directory.\n",
    "\n",
    "**Sub-directory:** contained with a parent directory\n",
    "\n",
    "Like files directories have meta-data but the data is just its list of entries. Results in a tree and the name of any file is a path within the tree.\n",
    "\n",
    "Users are empowered to organized their files as they see fit both in names and directory structure.  \n",
    "\n",
    "\n",
    "\n",
    "\n"
   ]
  },
  {
   "cell_type": "code",
   "execution_count": null,
   "id": "55852fa0",
   "metadata": {
    "hide_input": true,
    "slideshow": {
     "slide_type": "skip"
    }
   },
   "outputs": [],
   "source": []
  },
  {
   "cell_type": "markdown",
   "id": "c55bf30b",
   "metadata": {
    "cell_style": "center",
    "slideshow": {
     "slide_type": "slide"
    }
   },
   "source": [
    "#### PATHS and the ROOT"
   ]
  },
  {
   "cell_type": "markdown",
   "id": "ea36e694",
   "metadata": {
    "cell_style": "split",
    "slideshow": {
     "slide_type": "-"
    }
   },
   "source": [
    "<img align=\"left\"  src=\"../images/dirtree.png\"  width=\"100%\">  "
   ]
  },
  {
   "cell_type": "markdown",
   "id": "b00878c8",
   "metadata": {
    "cell_style": "split",
    "slideshow": {
     "slide_type": "-"
    }
   },
   "source": [
    "`/` $+$ `home` $+$ `jonathan` $+$ `Classes` $+$ `CS` $+$ `210` $+$ `Assignment 1` $+$ `Problem 1`     \n",
    "\n",
    "`/` $+$ `home` $+$ `jonathan` $+$ `Classes` $+$ `CS` $+$ `210` $+$ `Assignment 2` $+$ `Problem 1` \n",
    "\n",
    "`/` $+$ `home` $+$ `jonathan` $+$ `Classes` $+$ `CS` $+$ `210` $+$ `Assignment 3` $+$ `Problem 1` \n",
    "\n",
    "\"Full\" path name: join independent components with the \"/\" character.  So the above three files as proper unix path names would be:\n",
    "\n",
    "`/home/jonathan/Classes/CS/210/Assignment 1/Problem 1\n",
    "/home/jonathan/Classes/CS/210/Assignment 2/Problem 1\n",
    "/home/jonathan/Classes/CS/210/Assignment 3/Problem 1`"
   ]
  },
  {
   "cell_type": "markdown",
   "id": "2ba47783",
   "metadata": {
    "cell_style": "center",
    "slideshow": {
     "slide_type": "-"
    }
   },
   "source": [
    "`/home/jonathan/Classes/CS/210/Assignment 1/Problem 1` \n",
    "\n",
    "`/home/jonathan/Classes/CS/210/Assignment 2/Problem 1` \n",
    "\n",
    "`/home/jonathan/Classes/CS/210/Assignment 3/Problem 1` "
   ]
  },
  {
   "cell_type": "markdown",
   "id": "1a2e90fe",
   "metadata": {
    "cell_style": "center",
    "slideshow": {
     "slide_type": "notes"
    }
   },
   "source": [
    "- Talk through the example draw as necessary to highlight idea of a path\n",
    "- note the notion of root as an anchor\n",
    "- later we will get to relative paths and lack of constraints on file names"
   ]
  },
  {
   "cell_type": "markdown",
   "id": "f1ebd5d5",
   "metadata": {
    "cell_style": "center",
    "slideshow": {
     "slide_type": "slide"
    }
   },
   "source": [
    "### ASCII - One more thing\n",
    "- An important encoding of bytes that many Unix tools assume is ASCII\n",
    "<img src=\"../images/ascii.png\" width=\"100%\">\n",
    "- ASCII provides a simple code that maps bytes to English letters, numbers, punctuation, and some text orient controls. "
   ]
  },
  {
   "cell_type": "markdown",
   "id": "9cd1fb0e",
   "metadata": {
    "slideshow": {
     "slide_type": "slide"
    }
   },
   "source": [
    "### Terminal and the Shell - Here we go\n",
    "\n",
    "Finally ready to get on with it \n",
    "- a computer - the hardware\n",
    "- with the Unix kernel booted and running on it waiting for us!"
   ]
  },
  {
   "cell_type": "markdown",
   "id": "058c076a",
   "metadata": {
    "cell_style": "center",
    "hide_input": false,
    "slideshow": {
     "slide_type": "notes"
    }
   },
   "source": [
    "### Shell: One program to \"rule/run\" them all\n",
    "- Every story has to start somewhere\n",
    "  - every new terminal connection made to the UNIX system starts a shell and directs its input and output to the the terminal\n",
    "  - Shell is designed to have a text based conversation with a programmer --\n",
    "      - the conversation is exchanges between the programmer and the shell - eg.  \n",
    "```\n",
    "SHLL -> READY\n",
    "PGMR -> <enter> '\\n'\n",
    "SHLL -> READY\n",
    "SHLL -> #<enter> \n",
    "SHLL -> READY\n",
    "PGMR -> echo \"Hello\"\n",
    "SHLL -> Hello\n",
    "SHLL -> READY\n",
    "PGMR -> for ((i=0; i<3; i++)); do echo $i; done\n",
    "SHLL -> 0 \n",
    "SHLL -> 1\n",
    "SHLL -> 2\n",
    "SHLL -> READY\n",
    "PGMR -> Bye \n",
    "SHLL EXITS AND KERNELENDS THE TERMINAL SESSION\n",
    "          \n",
    "      - the shell begins the conversation by send a prompt \"string\" to the terminal\n",
    "      - the programmer sends requests to the shell in a \"line oriented\" way \n",
    "          - A line is a set of ASCII characters terminated by a single \"newline\" character\n",
    "              - '10', '0x0a', '\\n'\n",
    "              - the terminal sends this character when the programmer presses the \"return\" or \"enter\" key\n",
    "          \n",
    "  - Internal vs External command"
   ]
  },
  {
   "cell_type": "markdown",
   "id": "98fa0d4c",
   "metadata": {
    "cell_style": "center",
    "hide_input": false,
    "slideshow": {
     "slide_type": "-"
    }
   },
   "source": [
    "<img src=\"../images/UnixL01_SHCHT/00SHLLChat.png\" width=\"90%\" style=\"border:0px; margin: 0px 0px; background-color: #191919; display: block; margin-left: auto; margin-right: auto;\">"
   ]
  },
  {
   "cell_type": "code",
   "execution_count": null,
   "id": "f7c1beed",
   "metadata": {
    "slideshow": {
     "slide_type": "skip"
    }
   },
   "outputs": [],
   "source": []
  },
  {
   "cell_type": "markdown",
   "id": "441e7cd2",
   "metadata": {
    "cell_style": "split",
    "slideshow": {
     "slide_type": "slide"
    }
   },
   "source": [
    "<img src=\"../images/UnixL01_SHCHT/01SHLLChat.png\" width=\"100%\" style=\"border:0px; margin: 0px 0px; background-color: #191919; display: block; margin-left: auto; margin-right: auto;\">"
   ]
  },
  {
   "cell_type": "markdown",
   "id": "1d622e6f",
   "metadata": {
    "cell_style": "split",
    "slideshow": {
     "slide_type": "-"
    }
   },
   "source": [
    "## Connect a Terminal\n",
    "\n",
    "- Connect a terminal so that the system can communicate with a user via ASCII data\n",
    "- Unix kernel awaits for a user to login on the terminal"
   ]
  },
  {
   "cell_type": "code",
   "execution_count": null,
   "id": "5eff4265",
   "metadata": {
    "hide_input": true,
    "slideshow": {
     "slide_type": "skip"
    }
   },
   "outputs": [],
   "source": []
  },
  {
   "cell_type": "markdown",
   "id": "9fa17d67",
   "metadata": {
    "cell_style": "split",
    "slideshow": {
     "slide_type": "slide"
    }
   },
   "source": [
    "<img src=\"../images/UnixL01_SHCHT/02SHLLChat.png\" width=\"100%\" style=\"vertical-align:middle; border:0px; margin: 0px 0px; background-color: #191919; display: block; margin-left: auto; margin-right: auto;\">"
   ]
  },
  {
   "cell_type": "markdown",
   "id": "2c368e6f",
   "metadata": {
    "cell_style": "split",
    "slideshow": {
     "slide_type": "-"
    }
   },
   "source": [
    "## The Shell \n",
    "\n",
    "- Terminal prints ASCII sent to on the screen as appropriate images of the corresponding characters\n",
    "- User presses keys on the keyboard to have the Terminal send the corresponding ASCII values to the Kernel\n",
    "- After Login the kernel launches an instance of the user's chosen shell program\n",
    "- Default on Linux is Bash (Bourne Again Shell), however, there are others (eg. csh, ksh, zsh, sh, ...) \n",
    "- The Kernel will ensure that:\n",
    "    1. Shell's output will be sent to the Terminal \n",
    "    2. and values sent by the Terminal will be available to the Shell as input "
   ]
  },
  {
   "cell_type": "code",
   "execution_count": null,
   "id": "90a5f290",
   "metadata": {
    "hide_input": true,
    "slideshow": {
     "slide_type": "skip"
    }
   },
   "outputs": [],
   "source": []
  },
  {
   "cell_type": "markdown",
   "id": "662c93e8",
   "metadata": {
    "cell_style": "split",
    "slideshow": {
     "slide_type": "slide"
    }
   },
   "source": [
    "<img src=\"../images/UnixL01_SHCHT/03SHLLChat.png\" width=\"100%\" style=\"vertical-align:middle; float:middle; border:0px; margin: 0px 0px; background-color: #191919;\">"
   ]
  },
  {
   "cell_type": "markdown",
   "id": "18586703",
   "metadata": {
    "cell_style": "split"
   },
   "source": [
    "## Shell Conversation\n",
    "    \n",
    "- The shell is an ASCII line oriented interface program\n",
    "- Communication is structured as a conversation between the user and the shell\n",
    "   1. Request -- Command <b>line</b> sent by the user \n",
    "   2. Reply -- Response sent by shell\n",
    "\n",
    "``` \n",
    "while true:\n",
    "    Wait for a command \"line\"\n",
    "    Process line sending output as reply\n",
    "```\n",
    "\n",
    "Lines are a sequence of ASCII characters terminated by a `\\n` -- `0xa` eg.\n",
    "```\n",
    "hello\\n\n",
    "```"
   ]
  },
  {
   "cell_type": "code",
   "execution_count": null,
   "id": "e411f645",
   "metadata": {
    "hide_input": true,
    "slideshow": {
     "slide_type": "skip"
    }
   },
   "outputs": [],
   "source": []
  },
  {
   "cell_type": "markdown",
   "id": "2f566e57",
   "metadata": {
    "cell_style": "split",
    "slideshow": {
     "slide_type": "slide"
    }
   },
   "source": [
    "<img src=\"../images/UnixL01_SHCHT/04SHLLChat.png\" width=\"150%\" style=\"vertical-align:top; float:middle; border:0px; margin: 0px 0px; background-color: #191919;\">"
   ]
  },
  {
   "cell_type": "markdown",
   "id": "178e5f54",
   "metadata": {
    "cell_style": "split"
   },
   "source": [
    "## The Prompt\n",
    "- The prompt a sting of characters that the shell sends when it is ready for input \n",
    "- It is the responsibility of the user to recognize that the shell is Ready for the their next request.\n",
    "- Here we assume the Prompt is set to be dollar sign followed by a space `$ ` or there byte values in hex `0x24,0x20` \n",
    "   - We will see later how you can customize the prompt string to your liking "
   ]
  },
  {
   "cell_type": "code",
   "execution_count": null,
   "id": "17dc68f0",
   "metadata": {
    "hide_input": false,
    "slideshow": {
     "slide_type": "skip"
    }
   },
   "outputs": [],
   "source": []
  },
  {
   "cell_type": "code",
   "execution_count": null,
   "id": "0db39d34",
   "metadata": {
    "hide_input": true,
    "slideshow": {
     "slide_type": "skip"
    }
   },
   "outputs": [],
   "source": []
  },
  {
   "cell_type": "markdown",
   "id": "bdb46e7e",
   "metadata": {
    "slideshow": {
     "slide_type": "slide"
    }
   },
   "source": [
    "# Terminals vs Terminal Emulators "
   ]
  },
  {
   "cell_type": "markdown",
   "id": "3700b396",
   "metadata": {
    "cell_style": "split",
    "slideshow": {
     "slide_type": "-"
    }
   },
   "source": [
    "<img src=\"../images/UnixL01_SHCHT/041SHLLChat.png\" width=\"80%\" align=\"right\" style=\"vertical-align:top; float:right; border:0px; margin: 0px 0px; background-color: #191919;\">"
   ]
  },
  {
   "cell_type": "markdown",
   "id": "448e5730",
   "metadata": {
    "cell_style": "split",
    "slideshow": {
     "slide_type": "-"
    }
   },
   "source": [
    "\n",
    "<img src=\"../images/terminalroom.jpg\" width=\"120%\" align=\"left\" style=\"vertical-align:bottom; float:left; border:0px; margin: 0px 0px; background-color: #191919;\">"
   ]
  },
  {
   "cell_type": "markdown",
   "id": "5bf48b60",
   "metadata": {
    "cell_style": "split",
    "hide_input": false,
    "slideshow": {
     "slide_type": "fragment"
    }
   },
   "source": [
    "<img src=\"../images/UnixL01_SHCHT/042SHLLChat.png\" width=\"80%\" align=\"right\" style=\"vertical-align:top; float:right; border:0px; margin: 0px 0px; background-color: #191919;\">"
   ]
  },
  {
   "cell_type": "code",
   "execution_count": null,
   "id": "165c1ddc",
   "metadata": {
    "cell_style": "split",
    "hide_input": false,
    "tags": [
     "remove-cell"
    ]
   },
   "outputs": [],
   "source": [
    "#SMALLTERM1=mkTerm()\n",
    "showTerm(EDITORTERM,\"\",\"100%\",\"120\")"
   ]
  },
  {
   "cell_type": "code",
   "execution_count": null,
   "id": "83937bb0",
   "metadata": {
    "cell_style": "split",
    "hide_input": true,
    "slideshow": {
     "slide_type": "-"
    },
    "tags": [
     "remove-tag"
    ]
   },
   "outputs": [],
   "source": [
    "#SMALLTERM2=mkTerm()\n",
    "showTerm(BUILDTERM,\"\",\"100%\",\"120\")"
   ]
  },
  {
   "cell_type": "code",
   "execution_count": null,
   "id": "2b5e54b7",
   "metadata": {
    "cell_style": "split",
    "hide_input": true,
    "slideshow": {
     "slide_type": "-"
    },
    "tags": [
     "remove-cell"
    ]
   },
   "outputs": [],
   "source": [
    "#SMALLTERM3=mkTerm()\n",
    "showTerm(DEBUGGERTERM,\"\",\"100%\",\"120\")"
   ]
  },
  {
   "cell_type": "markdown",
   "id": "a7241ebc",
   "metadata": {
    "slideshow": {
     "slide_type": "fragment"
    }
   },
   "source": [
    "- Today a single user can create many \"terminal\" connections to organize their work.  Eg.\n",
    "   1. One to run arbitrary shell commands\n",
    "   2. One to run an ascii text editor \n",
    "   3. One to run an ascii email client\n",
    "- A Terminal is now just a program called a Terminal Emulator:\n",
    "   - You can run one to create a terminal \"session/connection\" on  your personal computers:\n",
    "       - [\"Terminal\"](https://en.wikipedia.org/wiki/Terminal_(macOS)) App on OSX\n",
    "       - [\"Windows Terminal\"](https://docs.microsoft.com/en-us/windows/terminal/) on Windows\n",
    "       - [\"xterm\"](https://en.wikipedia.org/wiki/Xterm) on Linux\n",
    "       - Or as in our case [xterm.js](https://xtermjs.org) which lets us run terminals within a web-browser (as above) -- nice thing is then that we don't need any extra software"
   ]
  },
  {
   "cell_type": "markdown",
   "id": "0212e77e",
   "metadata": {
    "slideshow": {
     "slide_type": "slide"
    }
   },
   "source": [
    "# Shell: Lets have a conversation"
   ]
  },
  {
   "cell_type": "code",
   "execution_count": null,
   "id": "0cc24d31",
   "metadata": {
    "cell_style": "split",
    "hide_input": false,
    "slideshow": {
     "slide_type": "skip"
    }
   },
   "outputs": [],
   "source": [
    "#mkImgsBox(\"../images/UnixL01_SHCHT\", \n",
    "#    ['05SHLLChat.png',\n",
    "#     '06SHLLChat.png',\n",
    "#     '08SHLLChat.png',\n",
    "#     '09SHLLChat.png',\n",
    "#     '11SHLLChat.png',\n",
    "#     '12SHLLChat.png',\n",
    "#     '13SHLLChat.png',\n",
    "#     '14SHLLChat.png',\n",
    "#     '15SHLLChat.png',\n",
    "#     '16SHLLChat.png',\n",
    "#     '17SHLLChat.png',\n",
    "#     '18SHLLChat.png',\n",
    "#     '19SHLLChat.png',\n",
    "#     '20SHLLChat.png'])"
   ]
  },
  {
   "cell_type": "code",
   "execution_count": null,
   "id": "35a944d0",
   "metadata": {
    "cell_style": "split",
    "hide_input": true,
    "slideshow": {
     "slide_type": "skip"
    }
   },
   "outputs": [],
   "source": [
    "#showTerm(EDITORTERM,\"\",\"100%\",\"600\")"
   ]
  },
  {
   "cell_type": "code",
   "execution_count": null,
   "id": "2edd1524",
   "metadata": {
    "cell_style": "split",
    "hide_input": false,
    "slideshow": {
     "slide_type": "slide"
    }
   },
   "outputs": [],
   "source": [
    "#display(HTML(\n",
    "#    '<style>'\n",
    "#    'button { background-color: black; }'\n",
    "#    '</style>'\n",
    "#))\n",
    "mkImgsAnimateBox(\"../images/UnixL01_SHCHT\",\n",
    "    ['05SHLLChat.png',\n",
    "     '06SHLLChat.png',\n",
    "     '08SHLLChat.png',\n",
    "     '09SHLLChat.png',\n",
    "     '11SHLLChat.png',\n",
    "     '12SHLLChat.png',\n",
    "     '13SHLLChat.png',\n",
    "     '14SHLLChat.png',\n",
    "     '15SHLLChat.png',\n",
    "     '16SHLLChat.png',\n",
    "     '17SHLLChat.png',\n",
    "     '18SHLLChat.png',\n",
    "     '19SHLLChat.png',\n",
    "     '20SHLLChat.png'])"
   ]
  },
  {
   "cell_type": "code",
   "execution_count": null,
   "id": "8ba9e789",
   "metadata": {
    "cell_style": "split",
    "hide_input": true,
    "slideshow": {
     "slide_type": "-"
    },
    "tags": [
     "remove-cell"
    ]
   },
   "outputs": [],
   "source": [
    "showET(title=\"\")"
   ]
  },
  {
   "cell_type": "code",
   "execution_count": null,
   "id": "eb8c3c1d",
   "metadata": {
    "hide_input": true,
    "slideshow": {
     "slide_type": "skip"
    }
   },
   "outputs": [],
   "source": []
  },
  {
   "cell_type": "code",
   "execution_count": null,
   "id": "9285440b",
   "metadata": {
    "cell_style": "split",
    "hide_input": true,
    "slideshow": {
     "slide_type": "slide"
    }
   },
   "outputs": [],
   "source": [
    "display(MkCodeBox(\"../src/shlldirfile.sh\",\"bash\",\"<h1>File and Directories - Part I\",\"100%\",\"120%\"))"
   ]
  },
  {
   "cell_type": "code",
   "execution_count": null,
   "id": "34c74c79",
   "metadata": {
    "cell_style": "split",
    "hide_input": false,
    "tags": [
     "remove-cell"
    ]
   },
   "outputs": [],
   "source": [
    "showET(title=\"\")"
   ]
  },
  {
   "cell_type": "markdown",
   "id": "0b2e62f1",
   "metadata": {
    "hide_input": true,
    "slideshow": {
     "slide_type": "notes"
    }
   },
   "source": [
    "# Next variables\n",
    "# basic loops\n",
    "# built in"
   ]
  },
  {
   "cell_type": "code",
   "execution_count": null,
   "id": "b965ff61",
   "metadata": {},
   "outputs": [],
   "source": []
  },
  {
   "cell_type": "markdown",
   "id": "f6c8c073",
   "metadata": {
    "cell_style": "center",
    "hide_input": true,
    "slideshow": {
     "slide_type": "slide"
    }
   },
   "source": [
    "# Shell: Externals"
   ]
  },
  {
   "cell_type": "markdown",
   "id": "1151a7b0",
   "metadata": {
    "slideshow": {
     "slide_type": "slide"
    }
   },
   "source": [
    "# Where to look to learn more\n",
    "\n",
    "- `man man`\n",
    "- `man 1 echo`\n",
    "- `man 1 <cmd>`\n",
    "- `man 1 bash`\n",
    "\n"
   ]
  },
  {
   "cell_type": "code",
   "execution_count": null,
   "id": "bde4ddd3",
   "metadata": {
    "cell_style": "split",
    "hide_input": false,
    "slideshow": {
     "slide_type": "slide"
    },
    "tags": [
     "output_scroll"
    ]
   },
   "outputs": [],
   "source": [
    "displayBytes(bytes=[[i] for i in range(128)], labels=[\"0x\"+format(i,\"02x\")+ \" (\" + format(i,\"03d\") +\") ASCII: \" + repr(chr(i)) for i in range(128)])"
   ]
  }
 ],
 "metadata": {
  "celltoolbar": "Tags",
  "hide_input": true,
  "kernelspec": {
   "display_name": "Python 3 (ipykernel)",
   "language": "python",
   "name": "python3"
  },
  "language_info": {
   "codemirror_mode": {
    "name": "ipython",
    "version": 3
   },
   "file_extension": ".py",
   "mimetype": "text/x-python",
   "name": "python",
   "nbconvert_exporter": "python",
   "pygments_lexer": "ipython3",
   "version": "3.9.6"
  },
  "rise": {
   "autolaunch": false,
   "enable_chalkboard": true,
   "footer": "SLS -- Lecture 1",
   "header": "Unix and Shell Intro",
   "height": "100%",
   "scroll": true,
   "start_slideshow_at": "selected",
   "theme": "black",
   "transition": "none",
   "width": "100%"
  }
 },
 "nbformat": 4,
 "nbformat_minor": 5
}
