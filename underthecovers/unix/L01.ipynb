{
 "cells": [
  {
   "cell_type": "code",
   "execution_count": 1,
   "id": "919e2464",
   "metadata": {
    "slideshow": {
     "slide_type": "skip"
    }
   },
   "outputs": [
    {
     "data": {
      "text/html": [
       "<style>#notebook { padding-top:0px !important; } .container { width:100% !important; } .CodeMirror { width:100% !important;}.end_space { min-height:0px !important; } .prompt { display:none }.terminal-app #terminado-container { width:100%; }div.mywarn { background-color: #fcf2f2;border-color: #dFb5b4; border-left: 5px solid #dfb5b4; padding: 0.5em;}</style>"
      ],
      "text/plain": [
       "<IPython.core.display.HTML object>"
      ]
     },
     "metadata": {},
     "output_type": "display_data"
    }
   ],
   "source": [
    "%run -i ../python/ln_preamble.py"
   ]
  },
  {
   "cell_type": "markdown",
   "id": "763e8524",
   "metadata": {
    "slideshow": {
     "slide_type": "slide"
    }
   },
   "source": [
    "# SLS : Part I  -- UNIX Introduction and Preliminaries"
   ]
  },
  {
   "cell_type": "markdown",
   "id": "410af07c",
   "metadata": {
    "slideshow": {
     "slide_type": "slide"
    }
   },
   "source": [
    "# What is an operating system?"
   ]
  },
  {
   "cell_type": "markdown",
   "id": "67c7e449",
   "metadata": {
    "slideshow": {
     "slide_type": "slide"
    }
   },
   "source": [
    "# Wait ... what is a computer?"
   ]
  },
  {
   "cell_type": "markdown",
   "id": "6f36fe7e",
   "metadata": {
    "slideshow": {
     "slide_type": "slide"
    }
   },
   "source": [
    "# What is Unix and why Unix?"
   ]
  },
  {
   "cell_type": "markdown",
   "id": "7261501d",
   "metadata": {
    "slideshow": {
     "slide_type": "slide"
    }
   },
   "source": [
    "# HCI: What is a terminal and why does it still matter?"
   ]
  },
  {
   "cell_type": "markdown",
   "id": "92fdf88a",
   "metadata": {
    "slideshow": {
     "slide_type": "slide"
    }
   },
   "source": [
    "# Computers a collection of Hardware vs an Information System"
   ]
  },
  {
   "cell_type": "markdown",
   "id": "681aa32d",
   "metadata": {
    "slideshow": {
     "slide_type": "slide"
    }
   },
   "source": [
    "# What are files and directories (folders)?"
   ]
  },
  {
   "cell_type": "markdown",
   "id": "9cd1fb0e",
   "metadata": {
    "slideshow": {
     "slide_type": "slide"
    }
   },
   "source": [
    "# Ok lets get on with it -- The First Program -- The Shell"
   ]
  },
  {
   "cell_type": "markdown",
   "id": "473b31ba",
   "metadata": {
    "slideshow": {
     "slide_type": "slide"
    }
   },
   "source": [
    "# ASCII Line oriented Interfaces"
   ]
  },
  {
   "cell_type": "markdown",
   "id": "570db7ad",
   "metadata": {
    "slideshow": {
     "slide_type": "slide"
    }
   },
   "source": [
    "# Shell a Programmer Computer Interface vs Human Computer Interface\n",
    "- Power programmers are not \"normal\" humans\n",
    "    - What we care about is efficient ways for controlling the computer via programs"
   ]
  },
  {
   "cell_type": "markdown",
   "id": "058c076a",
   "metadata": {
    "cell_style": "center",
    "slideshow": {
     "slide_type": "slide"
    }
   },
   "source": [
    "# Shell: One program to \"rule/run\" them all\n",
    "- Every story has to start somewhere\n",
    "  - every new terminal connection made to the UNIX system starts a shell and directs its input and output to the the terminal\n",
    "  - Shell is designed to have a text based conversation with a programmer --\n",
    "      - the conversation is exchanges between the programmer and the shell \n",
    "          - eg.  \n",
    "          ```\n",
    "             SHLL -> READY\n",
    "             PGMR -> <enter> '\\n'\n",
    "             SHLL -> READY\n",
    "             SHLL -> #<enter> \n",
    "             SHLL -> READY\n",
    "             PGMR -> echo \"Hello\"\n",
    "             SHLL -> Hello\n",
    "             SHLL -> READY\n",
    "             PGMR -> for ((i=0; i<3; i++)); do echo $i; done\n",
    "             SHLL -> 0 \n",
    "             SHLL -> 1\n",
    "             SHLL -> 2\n",
    "             SHLL -> READY\n",
    "             PGMR -> Bye \n",
    "             UNIX: ENDS THE TERMINAL SESSION\n",
    "          \n",
    "      - the shell begins the conversation by send a prompt \"string\" to the terminal\n",
    "      - the programmer sends requests to the shell in a \"line oriented\" way \n",
    "          - A line is a set of ASCII characters terminated by a single \"newline\" character\n",
    "              - '10', '0x0a', '\\n'\n",
    "              - the terminal sends this character when the programmer presses the \"return\" or \"enter\" key\n",
    "          \n",
    "  - Internal vs External command"
   ]
  },
  {
   "cell_type": "markdown",
   "id": "6290df8b",
   "metadata": {
    "cell_style": "split",
    "hide_input": true,
    "slideshow": {
     "slide_type": "slide"
    }
   },
   "source": [
    "<img src=\"../images/SLS_WPIM.svg\" width=\"100%\" style=\"vertical-align:top; float:middle; border:0px; margin: 10px 0px; background-color: #191919;\">\n",
    "<img src=\"../images/SLS_TheMachine.svg\" width=\"100%\" style=\"vertical-align:top; float:middle; border:0px; margin: 0px 0px;\">"
   ]
  },
  {
   "cell_type": "code",
   "execution_count": 2,
   "id": "3636078b",
   "metadata": {
    "cell_style": "split",
    "hide_input": true,
    "slideshow": {
     "slide_type": "-"
    }
   },
   "outputs": [
    {
     "data": {
      "text/html": [
       "\n",
       "        <iframe\n",
       "            width=\"100%\"\n",
       "            height=\"500\"\n",
       "            src=\"/terminals/1\"\n",
       "            frameborder=\"0\"\n",
       "            allowfullscreen\n",
       "        ></iframe>\n",
       "        "
      ],
      "text/plain": [
       "<IPython.lib.display.IFrame at 0x7f2e1c297f10>"
      ]
     },
     "execution_count": 2,
     "metadata": {},
     "output_type": "execute_result"
    }
   ],
   "source": [
    "showTerm(EDITORTERM,\"\",\"100%\",\"500\")"
   ]
  },
  {
   "cell_type": "markdown",
   "id": "f6c8c073",
   "metadata": {
    "cell_style": "center",
    "hide_input": true,
    "slideshow": {
     "slide_type": "slide"
    }
   },
   "source": [
    "# Shell: Externals"
   ]
  },
  {
   "cell_type": "markdown",
   "id": "0212e77e",
   "metadata": {
    "slideshow": {
     "slide_type": "slide"
    }
   },
   "source": [
    "# Shell: Internals"
   ]
  }
 ],
 "metadata": {
  "hide_input": true,
  "kernelspec": {
   "display_name": "Python 3 (ipykernel)",
   "language": "python",
   "name": "python3"
  },
  "language_info": {
   "codemirror_mode": {
    "name": "ipython",
    "version": 3
   },
   "file_extension": ".py",
   "mimetype": "text/x-python",
   "name": "python",
   "nbconvert_exporter": "python",
   "pygments_lexer": "ipython3",
   "version": "3.9.6"
  },
  "rise": {
   "autolaunch": false,
   "enable_chalkboard": true,
   "footer": "SLS -- Lecture 1",
   "header": "Unix Intro and Prelim",
   "height": "100%",
   "scroll": true,
   "start_slideshow_at": "selected",
   "theme": "black",
   "transition": "none",
   "width": "100%"
  }
 },
 "nbformat": 4,
 "nbformat_minor": 5
}
